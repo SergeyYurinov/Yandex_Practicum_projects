{
  "cells": [
    {
      "cell_type": "markdown",
      "metadata": {
        "id": "c48n888l_Cbr"
      },
      "source": [
        " # Сборный проект.\n",
        "  \n",
        "<b>Описание проекта</b>\n",
        "\n",
        "Мы работаем в стартапе, который продаёт продукты питания. Нужно разобраться, как ведут себя пользователи нашего мобильного приложения. \n",
        "Изучим воронку продаж. Узнаем, как пользователи доходят до покупки. Сколько пользователей доходит до покупки, а сколько — «застревает» на предыдущих шагах? На каких именно?\n",
        "После этого исследуем результаты A/A/B-эксперимента. Дизайнеры захотели поменять шрифты во всём приложении, а менеджеры испугались, что пользователям будет непривычно. Договорились принять решение по результатам A/A/B-теста. Пользователей разбили на 3 группы: 2 контрольные со старыми шрифтами и одну экспериментальную — с новыми. Выясним, какой шрифт лучше.\n",
        "Создание двух групп A вместо одной имеет определённые преимущества. Если две контрольные группы окажутся равны, мы можем быть уверены в точности проведенного тестирования. Если же между значениями A и A будут существенные различия, это поможет обнаружить факторы, которые привели к искажению результатов. Сравнение контрольных групп также поможет понять, сколько времени и данных потребуется для дальнейших тестов.\n",
        "В случае общей аналитики и A/A/B-эксперимента работаем с одними и теми же данными."
      ]
    },
    {
      "cell_type": "markdown",
      "metadata": {
        "id": "1Mw1xEoK_Cbs"
      },
      "source": [
        "## Шаг. Откроем файл с данными и изучим общую информацию.\n",
        "\n",
        "**Путь к файлу**\n",
        "- `/datasets/logs_exp.csv`."
      ]
    },
    {
      "cell_type": "code",
      "execution_count": 1,
      "metadata": {
        "id": "-JrkA5oD_Cbt"
      },
      "outputs": [],
      "source": [
        "#Импортируем библиотеки\n",
        "import pandas as pd\n",
        "import numpy as np\n",
        "import matplotlib.pyplot as plt\n",
        "import datetime as dt\n",
        "import seaborn as sns\n",
        "import scipy.stats as stats\n",
        "from scipy import stats as st\n",
        "import math as mth\n",
        "import plotly.express as px\n",
        "from plotly import graph_objects as go"
      ]
    },
    {
      "cell_type": "code",
      "execution_count": 2,
      "metadata": {
        "colab": {
          "base_uri": "https://localhost:8080/",
          "height": 565
        },
        "id": "gPr6UQSp_Cbu",
        "outputId": "cef37f80-10bb-474f-d3fc-3757daa84997"
      },
      "outputs": [
        {
          "output_type": "stream",
          "name": "stdout",
          "text": [
            "<class 'pandas.core.frame.DataFrame'>\n",
            "RangeIndex: 244126 entries, 0 to 244125\n",
            "Data columns (total 4 columns):\n",
            " #   Column          Non-Null Count   Dtype \n",
            "---  ------          --------------   ----- \n",
            " 0   EventName       244126 non-null  object\n",
            " 1   DeviceIDHash    244126 non-null  int64 \n",
            " 2   EventTimestamp  244126 non-null  int64 \n",
            " 3   ExpId           244126 non-null  int64 \n",
            "dtypes: int64(3), object(1)\n",
            "memory usage: 7.5+ MB\n"
          ]
        },
        {
          "output_type": "display_data",
          "data": {
            "text/plain": [
              "                 EventName         DeviceIDHash  EventTimestamp  ExpId\n",
              "0         MainScreenAppear  4575588528974610257      1564029816    246\n",
              "1         MainScreenAppear  7416695313311560658      1564053102    246\n",
              "2  PaymentScreenSuccessful  3518123091307005509      1564054127    248\n",
              "3         CartScreenAppear  3518123091307005509      1564054127    248\n",
              "4  PaymentScreenSuccessful  6217807653094995999      1564055322    248\n",
              "5         CartScreenAppear  6217807653094995999      1564055323    248\n",
              "6       OffersScreenAppear  8351860793733343758      1564066242    246\n",
              "7         MainScreenAppear  5682100281902512875      1564085677    246\n",
              "8         MainScreenAppear  1850981295691852772      1564086702    247\n",
              "9         MainScreenAppear  5407636962369102641      1564112112    246"
            ],
            "text/html": [
              "\n",
              "  <div id=\"df-86927c49-a798-45bb-8672-e7a1c4caa891\">\n",
              "    <div class=\"colab-df-container\">\n",
              "      <div>\n",
              "<style scoped>\n",
              "    .dataframe tbody tr th:only-of-type {\n",
              "        vertical-align: middle;\n",
              "    }\n",
              "\n",
              "    .dataframe tbody tr th {\n",
              "        vertical-align: top;\n",
              "    }\n",
              "\n",
              "    .dataframe thead th {\n",
              "        text-align: right;\n",
              "    }\n",
              "</style>\n",
              "<table border=\"1\" class=\"dataframe\">\n",
              "  <thead>\n",
              "    <tr style=\"text-align: right;\">\n",
              "      <th></th>\n",
              "      <th>EventName</th>\n",
              "      <th>DeviceIDHash</th>\n",
              "      <th>EventTimestamp</th>\n",
              "      <th>ExpId</th>\n",
              "    </tr>\n",
              "  </thead>\n",
              "  <tbody>\n",
              "    <tr>\n",
              "      <th>0</th>\n",
              "      <td>MainScreenAppear</td>\n",
              "      <td>4575588528974610257</td>\n",
              "      <td>1564029816</td>\n",
              "      <td>246</td>\n",
              "    </tr>\n",
              "    <tr>\n",
              "      <th>1</th>\n",
              "      <td>MainScreenAppear</td>\n",
              "      <td>7416695313311560658</td>\n",
              "      <td>1564053102</td>\n",
              "      <td>246</td>\n",
              "    </tr>\n",
              "    <tr>\n",
              "      <th>2</th>\n",
              "      <td>PaymentScreenSuccessful</td>\n",
              "      <td>3518123091307005509</td>\n",
              "      <td>1564054127</td>\n",
              "      <td>248</td>\n",
              "    </tr>\n",
              "    <tr>\n",
              "      <th>3</th>\n",
              "      <td>CartScreenAppear</td>\n",
              "      <td>3518123091307005509</td>\n",
              "      <td>1564054127</td>\n",
              "      <td>248</td>\n",
              "    </tr>\n",
              "    <tr>\n",
              "      <th>4</th>\n",
              "      <td>PaymentScreenSuccessful</td>\n",
              "      <td>6217807653094995999</td>\n",
              "      <td>1564055322</td>\n",
              "      <td>248</td>\n",
              "    </tr>\n",
              "    <tr>\n",
              "      <th>5</th>\n",
              "      <td>CartScreenAppear</td>\n",
              "      <td>6217807653094995999</td>\n",
              "      <td>1564055323</td>\n",
              "      <td>248</td>\n",
              "    </tr>\n",
              "    <tr>\n",
              "      <th>6</th>\n",
              "      <td>OffersScreenAppear</td>\n",
              "      <td>8351860793733343758</td>\n",
              "      <td>1564066242</td>\n",
              "      <td>246</td>\n",
              "    </tr>\n",
              "    <tr>\n",
              "      <th>7</th>\n",
              "      <td>MainScreenAppear</td>\n",
              "      <td>5682100281902512875</td>\n",
              "      <td>1564085677</td>\n",
              "      <td>246</td>\n",
              "    </tr>\n",
              "    <tr>\n",
              "      <th>8</th>\n",
              "      <td>MainScreenAppear</td>\n",
              "      <td>1850981295691852772</td>\n",
              "      <td>1564086702</td>\n",
              "      <td>247</td>\n",
              "    </tr>\n",
              "    <tr>\n",
              "      <th>9</th>\n",
              "      <td>MainScreenAppear</td>\n",
              "      <td>5407636962369102641</td>\n",
              "      <td>1564112112</td>\n",
              "      <td>246</td>\n",
              "    </tr>\n",
              "  </tbody>\n",
              "</table>\n",
              "</div>\n",
              "      <button class=\"colab-df-convert\" onclick=\"convertToInteractive('df-86927c49-a798-45bb-8672-e7a1c4caa891')\"\n",
              "              title=\"Convert this dataframe to an interactive table.\"\n",
              "              style=\"display:none;\">\n",
              "        \n",
              "  <svg xmlns=\"http://www.w3.org/2000/svg\" height=\"24px\"viewBox=\"0 0 24 24\"\n",
              "       width=\"24px\">\n",
              "    <path d=\"M0 0h24v24H0V0z\" fill=\"none\"/>\n",
              "    <path d=\"M18.56 5.44l.94 2.06.94-2.06 2.06-.94-2.06-.94-.94-2.06-.94 2.06-2.06.94zm-11 1L8.5 8.5l.94-2.06 2.06-.94-2.06-.94L8.5 2.5l-.94 2.06-2.06.94zm10 10l.94 2.06.94-2.06 2.06-.94-2.06-.94-.94-2.06-.94 2.06-2.06.94z\"/><path d=\"M17.41 7.96l-1.37-1.37c-.4-.4-.92-.59-1.43-.59-.52 0-1.04.2-1.43.59L10.3 9.45l-7.72 7.72c-.78.78-.78 2.05 0 2.83L4 21.41c.39.39.9.59 1.41.59.51 0 1.02-.2 1.41-.59l7.78-7.78 2.81-2.81c.8-.78.8-2.07 0-2.86zM5.41 20L4 18.59l7.72-7.72 1.47 1.35L5.41 20z\"/>\n",
              "  </svg>\n",
              "      </button>\n",
              "      \n",
              "  <style>\n",
              "    .colab-df-container {\n",
              "      display:flex;\n",
              "      flex-wrap:wrap;\n",
              "      gap: 12px;\n",
              "    }\n",
              "\n",
              "    .colab-df-convert {\n",
              "      background-color: #E8F0FE;\n",
              "      border: none;\n",
              "      border-radius: 50%;\n",
              "      cursor: pointer;\n",
              "      display: none;\n",
              "      fill: #1967D2;\n",
              "      height: 32px;\n",
              "      padding: 0 0 0 0;\n",
              "      width: 32px;\n",
              "    }\n",
              "\n",
              "    .colab-df-convert:hover {\n",
              "      background-color: #E2EBFA;\n",
              "      box-shadow: 0px 1px 2px rgba(60, 64, 67, 0.3), 0px 1px 3px 1px rgba(60, 64, 67, 0.15);\n",
              "      fill: #174EA6;\n",
              "    }\n",
              "\n",
              "    [theme=dark] .colab-df-convert {\n",
              "      background-color: #3B4455;\n",
              "      fill: #D2E3FC;\n",
              "    }\n",
              "\n",
              "    [theme=dark] .colab-df-convert:hover {\n",
              "      background-color: #434B5C;\n",
              "      box-shadow: 0px 1px 3px 1px rgba(0, 0, 0, 0.15);\n",
              "      filter: drop-shadow(0px 1px 2px rgba(0, 0, 0, 0.3));\n",
              "      fill: #FFFFFF;\n",
              "    }\n",
              "  </style>\n",
              "\n",
              "      <script>\n",
              "        const buttonEl =\n",
              "          document.querySelector('#df-86927c49-a798-45bb-8672-e7a1c4caa891 button.colab-df-convert');\n",
              "        buttonEl.style.display =\n",
              "          google.colab.kernel.accessAllowed ? 'block' : 'none';\n",
              "\n",
              "        async function convertToInteractive(key) {\n",
              "          const element = document.querySelector('#df-86927c49-a798-45bb-8672-e7a1c4caa891');\n",
              "          const dataTable =\n",
              "            await google.colab.kernel.invokeFunction('convertToInteractive',\n",
              "                                                     [key], {});\n",
              "          if (!dataTable) return;\n",
              "\n",
              "          const docLinkHtml = 'Like what you see? Visit the ' +\n",
              "            '<a target=\"_blank\" href=https://colab.research.google.com/notebooks/data_table.ipynb>data table notebook</a>'\n",
              "            + ' to learn more about interactive tables.';\n",
              "          element.innerHTML = '';\n",
              "          dataTable['output_type'] = 'display_data';\n",
              "          await google.colab.output.renderOutput(dataTable, element);\n",
              "          const docLink = document.createElement('div');\n",
              "          docLink.innerHTML = docLinkHtml;\n",
              "          element.appendChild(docLink);\n",
              "        }\n",
              "      </script>\n",
              "    </div>\n",
              "  </div>\n",
              "  "
            ]
          },
          "metadata": {}
        }
      ],
      "source": [
        "#код загрузки датасета\n",
        "\n",
        "import os\n",
        "    \n",
        "logs_exp = '/logs_exp.csv'\n",
        "if os.path.exists(logs_exp):\n",
        "   logs_exp = pd.read_csv(logs_exp, sep='\\t')\n",
        "else:\n",
        "    print('Something is wrong')\n",
        "\n",
        "logs_exp.info()\n",
        "display(logs_exp.head(10));"
      ]
    },
    {
      "cell_type": "markdown",
      "metadata": {
        "id": "S3PWMfHx_Cbv"
      },
      "source": [
        "## Шаг. Подготовим данные\n",
        "### Заменим названия столбцов на удобные, проверим наличие дубликатов."
      ]
    },
    {
      "cell_type": "code",
      "execution_count": 3,
      "metadata": {
        "colab": {
          "base_uri": "https://localhost:8080/"
        },
        "id": "4lBBSC9-_Cbw",
        "outputId": "511ccda6-aca2-41c3-c916-0918ef11b54b"
      },
      "outputs": [
        {
          "output_type": "stream",
          "name": "stdout",
          "text": [
            "413\n"
          ]
        }
      ],
      "source": [
        "#Заменим названия столбцов (приведем к нижнему регистру)\n",
        "logs_exp.columns = map(str.lower, logs_exp.columns)\n",
        "logs_exp.columns=['event', 'deviceid', 'timestamp', 'group']\n",
        "#Проверяем наличие дубликатов\n",
        "print(logs_exp.duplicated().sum())"
      ]
    },
    {
      "cell_type": "code",
      "execution_count": 4,
      "metadata": {
        "id": "agfdNsCN_Cbx"
      },
      "outputs": [],
      "source": [
        "#Удалим дубликаты\n",
        "logs_exp = logs_exp.drop_duplicates().reset_index(drop=True)"
      ]
    },
    {
      "cell_type": "markdown",
      "metadata": {
        "id": "oP37eBKr_Cbx"
      },
      "source": [
        "### Проверим пропуски и типы данных. Откорректируем, если нужно;"
      ]
    },
    {
      "cell_type": "code",
      "execution_count": 5,
      "metadata": {
        "colab": {
          "base_uri": "https://localhost:8080/",
          "height": 377
        },
        "id": "WYt5VeGs_Cbx",
        "outputId": "7e2d4efb-0530-4a0b-ffda-da23894bffb3"
      },
      "outputs": [
        {
          "output_type": "stream",
          "name": "stdout",
          "text": [
            "<class 'pandas.core.frame.DataFrame'>\n",
            "RangeIndex: 243713 entries, 0 to 243712\n",
            "Data columns (total 4 columns):\n",
            " #   Column     Non-Null Count   Dtype \n",
            "---  ------     --------------   ----- \n",
            " 0   event      243713 non-null  object\n",
            " 1   deviceid   243713 non-null  int64 \n",
            " 2   timestamp  243713 non-null  int64 \n",
            " 3   group      243713 non-null  int64 \n",
            "dtypes: int64(3), object(1)\n",
            "memory usage: 7.4+ MB\n"
          ]
        },
        {
          "output_type": "execute_result",
          "data": {
            "text/plain": [
              "<pandas.io.formats.style.Styler at 0x7f076381aa00>"
            ],
            "text/html": [
              "<style type=\"text/css\">\n",
              "#T_dcfc7_row0_col0, #T_dcfc7_row1_col0, #T_dcfc7_row2_col0, #T_dcfc7_row3_col0 {\n",
              "  background-color: #3b4cc0;\n",
              "  color: #f1f1f1;\n",
              "}\n",
              "</style>\n",
              "<table id=\"T_dcfc7\" class=\"dataframe\">\n",
              "  <thead>\n",
              "    <tr>\n",
              "      <th class=\"blank level0\" >&nbsp;</th>\n",
              "      <th id=\"T_dcfc7_level0_col0\" class=\"col_heading level0 col0\" >0</th>\n",
              "    </tr>\n",
              "  </thead>\n",
              "  <tbody>\n",
              "    <tr>\n",
              "      <th id=\"T_dcfc7_level0_row0\" class=\"row_heading level0 row0\" >event</th>\n",
              "      <td id=\"T_dcfc7_row0_col0\" class=\"data row0 col0\" >0.000000</td>\n",
              "    </tr>\n",
              "    <tr>\n",
              "      <th id=\"T_dcfc7_level0_row1\" class=\"row_heading level0 row1\" >deviceid</th>\n",
              "      <td id=\"T_dcfc7_row1_col0\" class=\"data row1 col0\" >0.000000</td>\n",
              "    </tr>\n",
              "    <tr>\n",
              "      <th id=\"T_dcfc7_level0_row2\" class=\"row_heading level0 row2\" >timestamp</th>\n",
              "      <td id=\"T_dcfc7_row2_col0\" class=\"data row2 col0\" >0.000000</td>\n",
              "    </tr>\n",
              "    <tr>\n",
              "      <th id=\"T_dcfc7_level0_row3\" class=\"row_heading level0 row3\" >group</th>\n",
              "      <td id=\"T_dcfc7_row3_col0\" class=\"data row3 col0\" >0.000000</td>\n",
              "    </tr>\n",
              "  </tbody>\n",
              "</table>\n"
            ]
          },
          "metadata": {},
          "execution_count": 5
        }
      ],
      "source": [
        "#Проверяем типы данных\n",
        "logs_exp.info()\n",
        "#Проверяем наличие пропусков\n",
        "pd.DataFrame(round(logs_exp.isna().mean()*100,1)).style.background_gradient('coolwarm')"
      ]
    },
    {
      "cell_type": "markdown",
      "metadata": {
        "id": "Cmyh1Atg_Cby"
      },
      "source": [
        "### Добавим столбец даты и времени, а также отдельный столбец дат;"
      ]
    },
    {
      "cell_type": "code",
      "execution_count": 6,
      "metadata": {
        "colab": {
          "base_uri": "https://localhost:8080/"
        },
        "id": "tcfm8wTx_Cby",
        "outputId": "ac5c110b-6c1b-4cd5-874e-b852d84a1bcc"
      },
      "outputs": [
        {
          "output_type": "stream",
          "name": "stdout",
          "text": [
            "<class 'pandas.core.frame.DataFrame'>\n",
            "RangeIndex: 243713 entries, 0 to 243712\n",
            "Data columns (total 6 columns):\n",
            " #   Column     Non-Null Count   Dtype         \n",
            "---  ------     --------------   -----         \n",
            " 0   event      243713 non-null  object        \n",
            " 1   deviceid   243713 non-null  int64         \n",
            " 2   timestamp  243713 non-null  int64         \n",
            " 3   group      243713 non-null  int64         \n",
            " 4   datetime   243713 non-null  datetime64[ns]\n",
            " 5   date       243713 non-null  object        \n",
            "dtypes: datetime64[ns](1), int64(3), object(2)\n",
            "memory usage: 11.2+ MB\n"
          ]
        }
      ],
      "source": [
        "logs_exp['datetime'] = pd.to_datetime(logs_exp['timestamp'], unit='s')\n",
        "logs_exp['date'] = logs_exp['datetime'].dt.date\n",
        "#Проверяем типы данных\n",
        "logs_exp.info()"
      ]
    },
    {
      "cell_type": "code",
      "execution_count": 7,
      "metadata": {
        "id": "wikNecIm_Cby"
      },
      "outputs": [],
      "source": [
        "#Поменяем тип данных у колонки date\n",
        "logs_exp['date'] = logs_exp['date'].astype('datetime64')"
      ]
    },
    {
      "cell_type": "markdown",
      "metadata": {
        "id": "VYiOQBuR_Cby"
      },
      "source": [
        "**Вывод**\n",
        "\n",
        "Провели процесс обработки данных:\n",
        "\n",
        "1. Заменили названия столбцов, удалили дубликаты.\n",
        "2. Проверили пропуски и типы данных.\n",
        "2. Добавили столбцы с датой и временем, а также датой."
      ]
    },
    {
      "cell_type": "code",
      "execution_count": 8,
      "metadata": {
        "colab": {
          "base_uri": "https://localhost:8080/",
          "height": 35
        },
        "id": "-XbyIvle_Cb0",
        "outputId": "51049905-51f4-44b7-c6cd-257875f53902"
      },
      "outputs": [
        {
          "output_type": "display_data",
          "data": {
            "text/plain": [
              "Series([], Name: deviceid, dtype: int64)"
            ]
          },
          "metadata": {}
        }
      ],
      "source": [
        "# выделили клиентов, попавших более чем в одну группу\n",
        "bad_clients = logs_exp.groupby('deviceid').agg({'group' : 'nunique'}).reset_index().query('group>1')['deviceid']\n",
        "display(bad_clients)"
      ]
    },
    {
      "cell_type": "markdown",
      "metadata": {
        "id": "ukzCpiPx_Cb0"
      },
      "source": [
        "## Шаг. Изучим и проверим данные.\n",
        "### Сколько всего событий в логе?"
      ]
    },
    {
      "cell_type": "code",
      "execution_count": 9,
      "metadata": {
        "colab": {
          "base_uri": "https://localhost:8080/"
        },
        "id": "BaJYUxPw_Cb0",
        "outputId": "1d885926-9e1c-4b55-93d1-7e53fff86118"
      },
      "outputs": [
        {
          "output_type": "stream",
          "name": "stdout",
          "text": [
            "Всего событий в таблице = 243713\n"
          ]
        }
      ],
      "source": [
        "events = logs_exp['event'].count()\n",
        "print('Всего событий в таблице =', events)"
      ]
    },
    {
      "cell_type": "markdown",
      "metadata": {
        "id": "vExN4HG5_Cb1"
      },
      "source": [
        "### Сколько всего пользователей в логе?"
      ]
    },
    {
      "cell_type": "code",
      "execution_count": 10,
      "metadata": {
        "colab": {
          "base_uri": "https://localhost:8080/"
        },
        "id": "SPeyDPvm_Cb1",
        "outputId": "a6638780-dc3e-4e94-cd31-f56701d19868"
      },
      "outputs": [
        {
          "output_type": "stream",
          "name": "stdout",
          "text": [
            "Уникальных пользователей в таблице = 7551\n"
          ]
        }
      ],
      "source": [
        "users = logs_exp['deviceid'].nunique()\n",
        "print('Уникальных пользователей в таблице =', users)"
      ]
    },
    {
      "cell_type": "markdown",
      "metadata": {
        "id": "WHjrfNb9_Cb1"
      },
      "source": [
        "### Сколько в среднем событий приходится на пользователя?"
      ]
    },
    {
      "cell_type": "code",
      "execution_count": 11,
      "metadata": {
        "colab": {
          "base_uri": "https://localhost:8080/"
        },
        "id": "6hyG9xYP_Cb1",
        "outputId": "94ebf391-3783-48a4-8712-fad3db774a46"
      },
      "outputs": [
        {
          "output_type": "stream",
          "name": "stdout",
          "text": [
            "Среднее кол-во событий на пользователя = 32\n"
          ]
        }
      ],
      "source": [
        "events_by_users = events / users\n",
        "print(\"Среднее кол-во событий на пользователя =\", round(events_by_users))"
      ]
    },
    {
      "cell_type": "code",
      "execution_count": 12,
      "metadata": {
        "colab": {
          "base_uri": "https://localhost:8080/",
          "height": 487
        },
        "id": "qan6mh-Z_Cb2",
        "outputId": "1857ad92-0ba1-4ae0-a3eb-a87d6500d542"
      },
      "outputs": [
        {
          "output_type": "display_data",
          "data": {
            "text/plain": [
              "<Figure size 1500x500 with 1 Axes>"
            ],
            "image/png": "[encoded data removed]"
          },
          "metadata": {}
        }
      ],
      "source": [
        "event_per_user = logs_exp.groupby('deviceid')['event'].count()\n",
        "plt.figure(figsize=(15,5))\n",
        "plt.hist(event_per_user, bins=100, range=(200,2350)) \n",
        "plt.xlabel('Кол-во событий')\n",
        "plt.grid()\n",
        "plt.ylabel('Кол-во пользователей')\n",
        "plt.title('Кол-во событий на пользователя');"
      ]
    },
    {
      "cell_type": "markdown",
      "metadata": {
        "id": "-qbOqQ1W_Cb2"
      },
      "source": [
        "**Вывод**\n",
        "\n",
        "На одного пользователя приходится до 2307 событий. Поскольку есть такой выброс, то лучше использовать не среднее, а медианное значение событий на пользователя. Оно равно 19. "
      ]
    },
    {
      "cell_type": "code",
      "execution_count": 13,
      "metadata": {
        "colab": {
          "base_uri": "https://localhost:8080/"
        },
        "id": "lV_HBVVJ_Cb3",
        "outputId": "06addf0f-cdbd-4d57-ee97-6cac5ceb4439"
      },
      "outputs": [
        {
          "output_type": "execute_result",
          "data": {
            "text/plain": [
              "count    7551.000000\n",
              "mean       32.275593\n",
              "std        65.154219\n",
              "min         1.000000\n",
              "25%         9.000000\n",
              "50%        20.000000\n",
              "75%        37.000000\n",
              "max      2307.000000\n",
              "Name: event, dtype: float64"
            ]
          },
          "metadata": {},
          "execution_count": 13
        }
      ],
      "source": [
        "event_per_user.describe()"
      ]
    },
    {
      "cell_type": "code",
      "execution_count": 14,
      "metadata": {
        "colab": {
          "base_uri": "https://localhost:8080/"
        },
        "id": "bZA1zJkW_Cb3",
        "outputId": "ef22c65c-9dda-426e-e04b-621cda3626b3"
      },
      "outputs": [
        {
          "output_type": "execute_result",
          "data": {
            "text/plain": [
              "20.0"
            ]
          },
          "metadata": {},
          "execution_count": 14
        }
      ],
      "source": [
        "event_per_user.median()"
      ]
    },
    {
      "cell_type": "markdown",
      "metadata": {
        "id": "AEeN-C6j_Cb4"
      },
      "source": [
        "### Данными за какой период мы располагаем? Найдем максимальную и минимальную дату. Построим гистограмму по дате и времени. Можем ли быть увереннымы, что у нас одинаково полные данные за весь период? Технически в логи новых дней по некоторым пользователям могут «доезжать» события из прошлого — это может «перекашивать данные». Определим, с какого момента данные полные и отбросим более старые. Данными за какой период времени мы располагаем на самом деле?"
      ]
    },
    {
      "cell_type": "code",
      "execution_count": 15,
      "metadata": {
        "colab": {
          "base_uri": "https://localhost:8080/"
        },
        "id": "dDwdFqen_Cb4",
        "outputId": "7031330b-7ab7-46a8-d5d7-2c0be49e250e"
      },
      "outputs": [
        {
          "output_type": "stream",
          "name": "stdout",
          "text": [
            "Минимальная дата: 2019-07-25 04:43:36\n",
            "Максимальная дата: 2019-08-07 21:15:17\n",
            "Период: 13 days 16:31:41\n"
          ]
        }
      ],
      "source": [
        "#Найдем максимульную и минимальную даты\n",
        "print(\"Минимальная дата:\", logs_exp['datetime'].min())\n",
        "print(\"Максимальная дата:\", logs_exp['datetime'].max())\n",
        "#Получим период\n",
        "print(\"Период:\", logs_exp['datetime'].max()-logs_exp['datetime'].min())"
      ]
    },
    {
      "cell_type": "code",
      "execution_count": 16,
      "metadata": {
        "colab": {
          "base_uri": "https://localhost:8080/",
          "height": 480
        },
        "id": "Pbm_g3Ow_Cb4",
        "outputId": "001e3a11-e028-4bbc-a36f-dfeb5826de59"
      },
      "outputs": [
        {
          "output_type": "display_data",
          "data": {
            "text/plain": [
              "<Figure size 1800x500 with 1 Axes>"
            ],
            "image/png": "[encoded data removed]"
          },
          "metadata": {}
        }
      ],
      "source": [
        "plt.figure(figsize=(18,5))\n",
        "plt.grid()\n",
        "plt.xticks(rotation=45)\n",
        "logs_exp['datetime'].hist()\n",
        "plt.xlabel('Время')\n",
        "plt.ylabel('Кол-во событий')\n",
        "plt.title('Распределение событий по времени');\n",
        "plt.show();"
      ]
    },
    {
      "cell_type": "code",
      "execution_count": 17,
      "metadata": {
        "colab": {
          "base_uri": "https://localhost:8080/",
          "height": 445
        },
        "id": "lXxfCZvp_Cb5",
        "outputId": "35a3691a-fb22-4d6d-9338-6422c50c4a06"
      },
      "outputs": [
        {
          "output_type": "display_data",
          "data": {
            "text/plain": [
              "<Figure size 1400x500 with 1 Axes>"
            ],
            "image/png": "[encoded data removed]"
          },
          "metadata": {}
        }
      ],
      "source": [
        "# код ревьюера\n",
        "logs_exp['datetime'].hist(bins=14*24, figsize=(14, 5));"
      ]
    },
    {
      "cell_type": "markdown",
      "metadata": {
        "id": "sh-Xy51s_Cb6"
      },
      "source": [
        "**Вывод**\n",
        "\n",
        "На графике видно, что в июле очень мало событий. Основное кол-во приходится на август. В итоге получается, что полноценные данные есть только за август.\n",
        "Мы принимаем решение, что будем проводить анализ и тестирование только на основе данных за август( с 1 августа по 7 августа включительно)."
      ]
    },
    {
      "cell_type": "code",
      "execution_count": 18,
      "metadata": {
        "colab": {
          "base_uri": "https://localhost:8080/"
        },
        "id": "B0TAAcDJ_Cb6",
        "outputId": "3b26ca31-4156-4808-d695-5f8bccdf1f5e"
      },
      "outputs": [
        {
          "output_type": "stream",
          "name": "stdout",
          "text": [
            "<class 'pandas.core.frame.DataFrame'>\n",
            "RangeIndex: 240887 entries, 0 to 240886\n",
            "Data columns (total 6 columns):\n",
            " #   Column     Non-Null Count   Dtype         \n",
            "---  ------     --------------   -----         \n",
            " 0   event      240887 non-null  object        \n",
            " 1   deviceid   240887 non-null  int64         \n",
            " 2   timestamp  240887 non-null  int64         \n",
            " 3   group      240887 non-null  int64         \n",
            " 4   datetime   240887 non-null  datetime64[ns]\n",
            " 5   date       240887 non-null  datetime64[ns]\n",
            "dtypes: datetime64[ns](2), int64(3), object(1)\n",
            "memory usage: 11.0+ MB\n"
          ]
        }
      ],
      "source": [
        "logs_exp = logs_exp.loc[logs_exp['datetime'] > '2019-08-01 00:00:00'].reset_index(drop=True)\n",
        "logs_exp.info()"
      ]
    },
    {
      "cell_type": "markdown",
      "metadata": {
        "id": "oHLkrGKh_Cb6"
      },
      "source": [
        "### Много ли событий и пользователей вы потеряли, отбросив старые данные?"
      ]
    },
    {
      "cell_type": "code",
      "execution_count": 19,
      "metadata": {
        "colab": {
          "base_uri": "https://localhost:8080/"
        },
        "id": "NzgT9UYl_Cb6",
        "outputId": "13f5aac1-bef9-483f-a631-06e13eb547be"
      },
      "outputs": [
        {
          "output_type": "stream",
          "name": "stdout",
          "text": [
            "Было пользователей = 7551 / Стало пользователей = 7534 / Разница = 17 / Относительные потери = 0.23%\n",
            "Было событий = 243713 / Стало событий = 240887 / Разница = 2826 / Относительные потери = 1.16%\n"
          ]
        }
      ],
      "source": [
        "users_query = logs_exp['deviceid'].nunique()\n",
        "print(f\"Было пользователей = {users} / Стало пользователей = {users_query} / Разница = {users-users_query} / Относительные потери = {round((users-users_query)/users*100,2)}%\")\n",
        "\n",
        "\n",
        "events_query = logs_exp['event'].count()\n",
        "print(f\"Было событий = {events} / Стало событий = {events_query} / Разница = {events-events_query} / Относительные потери = {round((events-events_query)/events*100,2)}%\")\n"
      ]
    },
    {
      "cell_type": "markdown",
      "metadata": {
        "id": "EvxSCZ9T_Cb7"
      },
      "source": [
        "**Вывод**\n",
        "\n",
        "Отбросив старые данные, мы потеряли 0,23% пользователей и 1,16% событий.\n",
        "Потери допустимые."
      ]
    },
    {
      "cell_type": "markdown",
      "metadata": {
        "id": "QBfRrw8z_Cb7"
      },
      "source": [
        "### Проверьте, что у вас есть пользователи из всех трёх экспериментальных групп."
      ]
    },
    {
      "cell_type": "code",
      "execution_count": 20,
      "metadata": {
        "colab": {
          "base_uri": "https://localhost:8080/"
        },
        "id": "ZvsDaWoB_Cb8",
        "outputId": "c7d8a62e-2105-446c-bde2-3aa306dbfe15"
      },
      "outputs": [
        {
          "output_type": "execute_result",
          "data": {
            "text/plain": [
              "array([246, 247, 248])"
            ]
          },
          "metadata": {},
          "execution_count": 20
        }
      ],
      "source": [
        "logs_exp['group'].unique()"
      ]
    },
    {
      "cell_type": "markdown",
      "metadata": {
        "id": "K9Ck-Pw4_Cb8"
      },
      "source": [
        "**Вывод**\n",
        "\n",
        "Пользователи всех трех групп присутствуют."
      ]
    },
    {
      "cell_type": "markdown",
      "metadata": {
        "id": "z95IY70o_Cb8"
      },
      "source": [
        "**ОБЩИЙ ВЫВОД**\n",
        "\n",
        "- В ходе изучения и проверки данных выяснили, что период предоставленных данных 13 дней. \n",
        "- Кол-во событий в июле резко выделяется по сравнению с августом. Ввиду этого мы приняли решение эти данные убрать из анализа. \n",
        "- После отброса этих данных мы получили относительные потери в размере 0,23% пользователей и 1,16% событий. Потери допустимые и на дальнейший анализ не должны сильно повлиять."
      ]
    },
    {
      "cell_type": "markdown",
      "metadata": {
        "id": "3GPjC5VX_Cb8"
      },
      "source": [
        "## Шаг. Изучим воронку событий\n",
        "### Посмотрим, какие события есть в логах, как часто они встречаются. Отсортируем события по частоте."
      ]
    },
    {
      "cell_type": "code",
      "execution_count": 21,
      "metadata": {
        "colab": {
          "base_uri": "https://localhost:8080/"
        },
        "id": "guInbgji_Cb8",
        "outputId": "c3bca7bf-af33-4bd0-b63e-7f37079c87d1"
      },
      "outputs": [
        {
          "output_type": "execute_result",
          "data": {
            "text/plain": [
              "MainScreenAppear           117328\n",
              "OffersScreenAppear          46333\n",
              "CartScreenAppear            42303\n",
              "PaymentScreenSuccessful     33918\n",
              "Tutorial                     1005\n",
              "Name: event, dtype: int64"
            ]
          },
          "metadata": {},
          "execution_count": 21
        }
      ],
      "source": [
        "logs_exp['event'].value_counts()"
      ]
    },
    {
      "cell_type": "markdown",
      "metadata": {
        "id": "05YCrF5W_Cb9"
      },
      "source": [
        "### Посчитаем, сколько пользователей совершали каждое из этих событий. Отсортируем события по числу пользователей. Посчитаем долю пользователей, которые хоть раз совершали событие."
      ]
    },
    {
      "cell_type": "code",
      "execution_count": 22,
      "metadata": {
        "colab": {
          "base_uri": "https://localhost:8080/",
          "height": 206
        },
        "id": "t8s9LIfm_Cb9",
        "outputId": "2b430d12-2b8d-4277-93a7-c3d77acc8180"
      },
      "outputs": [
        {
          "output_type": "execute_result",
          "data": {
            "text/plain": [
              "                     event  users  share_of_total\n",
              "0         MainScreenAppear   7419            98.5\n",
              "1       OffersScreenAppear   4593            61.0\n",
              "2         CartScreenAppear   3734            49.6\n",
              "3  PaymentScreenSuccessful   3539            47.0\n",
              "4                 Tutorial    840            11.1"
            ],
            "text/html": [
              "\n",
              "  <div id=\"df-21f98e37-1b9f-4bcc-ada1-d7781b194e1d\">\n",
              "    <div class=\"colab-df-container\">\n",
              "      <div>\n",
              "<style scoped>\n",
              "    .dataframe tbody tr th:only-of-type {\n",
              "        vertical-align: middle;\n",
              "    }\n",
              "\n",
              "    .dataframe tbody tr th {\n",
              "        vertical-align: top;\n",
              "    }\n",
              "\n",
              "    .dataframe thead th {\n",
              "        text-align: right;\n",
              "    }\n",
              "</style>\n",
              "<table border=\"1\" class=\"dataframe\">\n",
              "  <thead>\n",
              "    <tr style=\"text-align: right;\">\n",
              "      <th></th>\n",
              "      <th>event</th>\n",
              "      <th>users</th>\n",
              "      <th>share_of_total</th>\n",
              "    </tr>\n",
              "  </thead>\n",
              "  <tbody>\n",
              "    <tr>\n",
              "      <th>0</th>\n",
              "      <td>MainScreenAppear</td>\n",
              "      <td>7419</td>\n",
              "      <td>98.5</td>\n",
              "    </tr>\n",
              "    <tr>\n",
              "      <th>1</th>\n",
              "      <td>OffersScreenAppear</td>\n",
              "      <td>4593</td>\n",
              "      <td>61.0</td>\n",
              "    </tr>\n",
              "    <tr>\n",
              "      <th>2</th>\n",
              "      <td>CartScreenAppear</td>\n",
              "      <td>3734</td>\n",
              "      <td>49.6</td>\n",
              "    </tr>\n",
              "    <tr>\n",
              "      <th>3</th>\n",
              "      <td>PaymentScreenSuccessful</td>\n",
              "      <td>3539</td>\n",
              "      <td>47.0</td>\n",
              "    </tr>\n",
              "    <tr>\n",
              "      <th>4</th>\n",
              "      <td>Tutorial</td>\n",
              "      <td>840</td>\n",
              "      <td>11.1</td>\n",
              "    </tr>\n",
              "  </tbody>\n",
              "</table>\n",
              "</div>\n",
              "      <button class=\"colab-df-convert\" onclick=\"convertToInteractive('df-21f98e37-1b9f-4bcc-ada1-d7781b194e1d')\"\n",
              "              title=\"Convert this dataframe to an interactive table.\"\n",
              "              style=\"display:none;\">\n",
              "        \n",
              "  <svg xmlns=\"http://www.w3.org/2000/svg\" height=\"24px\"viewBox=\"0 0 24 24\"\n",
              "       width=\"24px\">\n",
              "    <path d=\"M0 0h24v24H0V0z\" fill=\"none\"/>\n",
              "    <path d=\"M18.56 5.44l.94 2.06.94-2.06 2.06-.94-2.06-.94-.94-2.06-.94 2.06-2.06.94zm-11 1L8.5 8.5l.94-2.06 2.06-.94-2.06-.94L8.5 2.5l-.94 2.06-2.06.94zm10 10l.94 2.06.94-2.06 2.06-.94-2.06-.94-.94-2.06-.94 2.06-2.06.94z\"/><path d=\"M17.41 7.96l-1.37-1.37c-.4-.4-.92-.59-1.43-.59-.52 0-1.04.2-1.43.59L10.3 9.45l-7.72 7.72c-.78.78-.78 2.05 0 2.83L4 21.41c.39.39.9.59 1.41.59.51 0 1.02-.2 1.41-.59l7.78-7.78 2.81-2.81c.8-.78.8-2.07 0-2.86zM5.41 20L4 18.59l7.72-7.72 1.47 1.35L5.41 20z\"/>\n",
              "  </svg>\n",
              "      </button>\n",
              "      \n",
              "  <style>\n",
              "    .colab-df-container {\n",
              "      display:flex;\n",
              "      flex-wrap:wrap;\n",
              "      gap: 12px;\n",
              "    }\n",
              "\n",
              "    .colab-df-convert {\n",
              "      background-color: #E8F0FE;\n",
              "      border: none;\n",
              "      border-radius: 50%;\n",
              "      cursor: pointer;\n",
              "      display: none;\n",
              "      fill: #1967D2;\n",
              "      height: 32px;\n",
              "      padding: 0 0 0 0;\n",
              "      width: 32px;\n",
              "    }\n",
              "\n",
              "    .colab-df-convert:hover {\n",
              "      background-color: #E2EBFA;\n",
              "      box-shadow: 0px 1px 2px rgba(60, 64, 67, 0.3), 0px 1px 3px 1px rgba(60, 64, 67, 0.15);\n",
              "      fill: #174EA6;\n",
              "    }\n",
              "\n",
              "    [theme=dark] .colab-df-convert {\n",
              "      background-color: #3B4455;\n",
              "      fill: #D2E3FC;\n",
              "    }\n",
              "\n",
              "    [theme=dark] .colab-df-convert:hover {\n",
              "      background-color: #434B5C;\n",
              "      box-shadow: 0px 1px 3px 1px rgba(0, 0, 0, 0.15);\n",
              "      filter: drop-shadow(0px 1px 2px rgba(0, 0, 0, 0.3));\n",
              "      fill: #FFFFFF;\n",
              "    }\n",
              "  </style>\n",
              "\n",
              "      <script>\n",
              "        const buttonEl =\n",
              "          document.querySelector('#df-21f98e37-1b9f-4bcc-ada1-d7781b194e1d button.colab-df-convert');\n",
              "        buttonEl.style.display =\n",
              "          google.colab.kernel.accessAllowed ? 'block' : 'none';\n",
              "\n",
              "        async function convertToInteractive(key) {\n",
              "          const element = document.querySelector('#df-21f98e37-1b9f-4bcc-ada1-d7781b194e1d');\n",
              "          const dataTable =\n",
              "            await google.colab.kernel.invokeFunction('convertToInteractive',\n",
              "                                                     [key], {});\n",
              "          if (!dataTable) return;\n",
              "\n",
              "          const docLinkHtml = 'Like what you see? Visit the ' +\n",
              "            '<a target=\"_blank\" href=https://colab.research.google.com/notebooks/data_table.ipynb>data table notebook</a>'\n",
              "            + ' to learn more about interactive tables.';\n",
              "          element.innerHTML = '';\n",
              "          dataTable['output_type'] = 'display_data';\n",
              "          await google.colab.output.renderOutput(dataTable, element);\n",
              "          const docLink = document.createElement('div');\n",
              "          docLink.innerHTML = docLinkHtml;\n",
              "          element.appendChild(docLink);\n",
              "        }\n",
              "      </script>\n",
              "    </div>\n",
              "  </div>\n",
              "  "
            ]
          },
          "metadata": {},
          "execution_count": 22
        }
      ],
      "source": [
        "events_users = logs_exp.groupby('event').agg({'deviceid':'nunique'}).sort_values(by='deviceid', ascending=False)\n",
        "events_users['share_of_total'] = (events_users / users_query * 100).round(1) # доля хотя бы раз совершивших событие\n",
        "events_users.columns = ['users', 'share_of_total']\n",
        "events_users=events_users.reset_index()\n",
        "events_users"
      ]
    },
    {
      "cell_type": "markdown",
      "metadata": {
        "id": "hwGMCMUK_Cb9"
      },
      "source": [
        "### Предположим, в каком порядке происходят события. Все ли они выстраиваются в последовательную цепочку? Не будем их учитывать при расчёте воронки."
      ]
    },
    {
      "cell_type": "markdown",
      "metadata": {
        "id": "dZs_CDUE_Cb9"
      },
      "source": [
        "**Предположение порядка происхождения событий**\n",
        "\n",
        "    1. MainScreenAppear - Появление Главного экрана(переход на сайт)\n",
        "    2. OffersScreenAppear - Появление Экрана Предложений(переход на прайс-лист)\n",
        "    3. CartScreenAppear - Появление Экрана Корзины(переход в корзину)\n",
        "    4. PaymentScreenSuccessful - Экран удачного совершения платежа(переход к оплате)\n",
        "    5. Tutorial - Руководство пользователя(рекомендации)\n",
        "\n",
        "В принципе по количеству событий такой порядок логичен и подтверждается цифрами. Кто-то последним пунктом не пользуется, скорее всего. "
      ]
    },
    {
      "cell_type": "markdown",
      "metadata": {
        "id": "FOPyjG_I_Cb-"
      },
      "source": [
        "### По воронке событий посчитаем, какая доля пользователей проходит на следующий шаг воронки (от числа пользователей на предыдущем). То есть для последовательности событий A → B → C посчитаем отношение числа пользователей с событием B к количеству пользователей с событием A, а также отношение числа пользователей с событием C к количеству пользователей с событием B."
      ]
    },
    {
      "cell_type": "code",
      "execution_count": 23,
      "metadata": {
        "colab": {
          "base_uri": "https://localhost:8080/",
          "height": 206
        },
        "id": "tgTdCm9u_Cb-",
        "outputId": "8f34253d-dd8e-4d5d-e834-4e2d89d6426e"
      },
      "outputs": [
        {
          "output_type": "execute_result",
          "data": {
            "text/plain": [
              "                     event  users  share_of_total  share_of_prev  \\\n",
              "0         MainScreenAppear   7419            98.5          100.0   \n",
              "1       OffersScreenAppear   4593            61.0           61.9   \n",
              "2         CartScreenAppear   3734            49.6           81.3   \n",
              "3  PaymentScreenSuccessful   3539            47.0           94.8   \n",
              "4                 Tutorial    840            11.1           23.7   \n",
              "\n",
              "   share_from_first  \n",
              "0             100.0  \n",
              "1              61.9  \n",
              "2              50.3  \n",
              "3              47.7  \n",
              "4              11.3  "
            ],
            "text/html": [
              "\n",
              "  <div id=\"df-7f491f9f-fbce-496b-81c7-da3645f50b5a\">\n",
              "    <div class=\"colab-df-container\">\n",
              "      <div>\n",
              "<style scoped>\n",
              "    .dataframe tbody tr th:only-of-type {\n",
              "        vertical-align: middle;\n",
              "    }\n",
              "\n",
              "    .dataframe tbody tr th {\n",
              "        vertical-align: top;\n",
              "    }\n",
              "\n",
              "    .dataframe thead th {\n",
              "        text-align: right;\n",
              "    }\n",
              "</style>\n",
              "<table border=\"1\" class=\"dataframe\">\n",
              "  <thead>\n",
              "    <tr style=\"text-align: right;\">\n",
              "      <th></th>\n",
              "      <th>event</th>\n",
              "      <th>users</th>\n",
              "      <th>share_of_total</th>\n",
              "      <th>share_of_prev</th>\n",
              "      <th>share_from_first</th>\n",
              "    </tr>\n",
              "  </thead>\n",
              "  <tbody>\n",
              "    <tr>\n",
              "      <th>0</th>\n",
              "      <td>MainScreenAppear</td>\n",
              "      <td>7419</td>\n",
              "      <td>98.5</td>\n",
              "      <td>100.0</td>\n",
              "      <td>100.0</td>\n",
              "    </tr>\n",
              "    <tr>\n",
              "      <th>1</th>\n",
              "      <td>OffersScreenAppear</td>\n",
              "      <td>4593</td>\n",
              "      <td>61.0</td>\n",
              "      <td>61.9</td>\n",
              "      <td>61.9</td>\n",
              "    </tr>\n",
              "    <tr>\n",
              "      <th>2</th>\n",
              "      <td>CartScreenAppear</td>\n",
              "      <td>3734</td>\n",
              "      <td>49.6</td>\n",
              "      <td>81.3</td>\n",
              "      <td>50.3</td>\n",
              "    </tr>\n",
              "    <tr>\n",
              "      <th>3</th>\n",
              "      <td>PaymentScreenSuccessful</td>\n",
              "      <td>3539</td>\n",
              "      <td>47.0</td>\n",
              "      <td>94.8</td>\n",
              "      <td>47.7</td>\n",
              "    </tr>\n",
              "    <tr>\n",
              "      <th>4</th>\n",
              "      <td>Tutorial</td>\n",
              "      <td>840</td>\n",
              "      <td>11.1</td>\n",
              "      <td>23.7</td>\n",
              "      <td>11.3</td>\n",
              "    </tr>\n",
              "  </tbody>\n",
              "</table>\n",
              "</div>\n",
              "      <button class=\"colab-df-convert\" onclick=\"convertToInteractive('df-7f491f9f-fbce-496b-81c7-da3645f50b5a')\"\n",
              "              title=\"Convert this dataframe to an interactive table.\"\n",
              "              style=\"display:none;\">\n",
              "        \n",
              "  <svg xmlns=\"http://www.w3.org/2000/svg\" height=\"24px\"viewBox=\"0 0 24 24\"\n",
              "       width=\"24px\">\n",
              "    <path d=\"M0 0h24v24H0V0z\" fill=\"none\"/>\n",
              "    <path d=\"M18.56 5.44l.94 2.06.94-2.06 2.06-.94-2.06-.94-.94-2.06-.94 2.06-2.06.94zm-11 1L8.5 8.5l.94-2.06 2.06-.94-2.06-.94L8.5 2.5l-.94 2.06-2.06.94zm10 10l.94 2.06.94-2.06 2.06-.94-2.06-.94-.94-2.06-.94 2.06-2.06.94z\"/><path d=\"M17.41 7.96l-1.37-1.37c-.4-.4-.92-.59-1.43-.59-.52 0-1.04.2-1.43.59L10.3 9.45l-7.72 7.72c-.78.78-.78 2.05 0 2.83L4 21.41c.39.39.9.59 1.41.59.51 0 1.02-.2 1.41-.59l7.78-7.78 2.81-2.81c.8-.78.8-2.07 0-2.86zM5.41 20L4 18.59l7.72-7.72 1.47 1.35L5.41 20z\"/>\n",
              "  </svg>\n",
              "      </button>\n",
              "      \n",
              "  <style>\n",
              "    .colab-df-container {\n",
              "      display:flex;\n",
              "      flex-wrap:wrap;\n",
              "      gap: 12px;\n",
              "    }\n",
              "\n",
              "    .colab-df-convert {\n",
              "      background-color: #E8F0FE;\n",
              "      border: none;\n",
              "      border-radius: 50%;\n",
              "      cursor: pointer;\n",
              "      display: none;\n",
              "      fill: #1967D2;\n",
              "      height: 32px;\n",
              "      padding: 0 0 0 0;\n",
              "      width: 32px;\n",
              "    }\n",
              "\n",
              "    .colab-df-convert:hover {\n",
              "      background-color: #E2EBFA;\n",
              "      box-shadow: 0px 1px 2px rgba(60, 64, 67, 0.3), 0px 1px 3px 1px rgba(60, 64, 67, 0.15);\n",
              "      fill: #174EA6;\n",
              "    }\n",
              "\n",
              "    [theme=dark] .colab-df-convert {\n",
              "      background-color: #3B4455;\n",
              "      fill: #D2E3FC;\n",
              "    }\n",
              "\n",
              "    [theme=dark] .colab-df-convert:hover {\n",
              "      background-color: #434B5C;\n",
              "      box-shadow: 0px 1px 3px 1px rgba(0, 0, 0, 0.15);\n",
              "      filter: drop-shadow(0px 1px 2px rgba(0, 0, 0, 0.3));\n",
              "      fill: #FFFFFF;\n",
              "    }\n",
              "  </style>\n",
              "\n",
              "      <script>\n",
              "        const buttonEl =\n",
              "          document.querySelector('#df-7f491f9f-fbce-496b-81c7-da3645f50b5a button.colab-df-convert');\n",
              "        buttonEl.style.display =\n",
              "          google.colab.kernel.accessAllowed ? 'block' : 'none';\n",
              "\n",
              "        async function convertToInteractive(key) {\n",
              "          const element = document.querySelector('#df-7f491f9f-fbce-496b-81c7-da3645f50b5a');\n",
              "          const dataTable =\n",
              "            await google.colab.kernel.invokeFunction('convertToInteractive',\n",
              "                                                     [key], {});\n",
              "          if (!dataTable) return;\n",
              "\n",
              "          const docLinkHtml = 'Like what you see? Visit the ' +\n",
              "            '<a target=\"_blank\" href=https://colab.research.google.com/notebooks/data_table.ipynb>data table notebook</a>'\n",
              "            + ' to learn more about interactive tables.';\n",
              "          element.innerHTML = '';\n",
              "          dataTable['output_type'] = 'display_data';\n",
              "          await google.colab.output.renderOutput(dataTable, element);\n",
              "          const docLink = document.createElement('div');\n",
              "          docLink.innerHTML = docLinkHtml;\n",
              "          element.appendChild(docLink);\n",
              "        }\n",
              "      </script>\n",
              "    </div>\n",
              "  </div>\n",
              "  "
            ]
          },
          "metadata": {},
          "execution_count": 23
        }
      ],
      "source": [
        "prev_users = events_users.loc[0,'users']\n",
        "start_users = prev_users\n",
        "\n",
        "for i in events_users.index:\n",
        "    events_users.loc[i,'share_of_prev'] = (events_users.loc[i,'users'] / prev_users * 100).round(1)\n",
        "    events_users.loc[i,'share_from_first'] = (events_users.loc[i,'users'] / start_users * 100).round(1)\n",
        "    prev_users = events_users.loc[i,'users']\n",
        "events_users  "
      ]
    },
    {
      "cell_type": "markdown",
      "metadata": {
        "id": "wM-N8PhS_Cb_"
      },
      "source": [
        "### Выясним на каком шаге теряем больше всего пользователей."
      ]
    },
    {
      "cell_type": "markdown",
      "metadata": {
        "id": "xZTcGYm3_Cb_"
      },
      "source": [
        "Из таблицы выше видно, что очень много пользователей (38,1%) не попадают на второе событие. Возможно есть какая-то проблема на первом событии. Надо об этом сообщить тестировщикам или отделу маркетинга."
      ]
    },
    {
      "cell_type": "markdown",
      "metadata": {
        "id": "5slNUjUJ_CcA"
      },
      "source": [
        "### Выясним какая доля пользователей доходит от первого события до оплаты."
      ]
    },
    {
      "cell_type": "markdown",
      "metadata": {
        "id": "I9IulFo2_CcA"
      },
      "source": [
        "Из таблицы пункта 4.4 видно, что по сравнению с первым событием, также много пользователей теряется при переходе на второй шаг. И доля пользователей дошедших от первого события до оплаты составляет 47,7%."
      ]
    },
    {
      "cell_type": "markdown",
      "metadata": {
        "id": "UTT3rmBQ_CcA"
      },
      "source": [
        "**ОБЩИЙ ВЫВОД**\n",
        "\n",
        "Предположение порядка происхождения событий получается таким:\n",
        "\n",
        "    1. MainScreenAppear - Появление Главного экрана(переход на сайт)\n",
        "    2. OffersScreenAppear - Появление Экрана Предложений(переход на прайс-лист)\n",
        "    3. CartScreenAppear - Появление Экрана Корзины(переход в корзину)\n",
        "    4. PaymentScreenSuccessful - Экран удачного совершения платежа(переход к оплате)\n",
        "    5. Tutorial - Руководство пользователя(рекомендации)\n",
        "\n",
        "На второй этап воронки попадает 61,9% пользователей, а 38,1% отваливаются. Возможно есть какая-то проблема на первом событии. Надо об этом сообщить тестировщикам или отделу маркетинга.\n",
        "\n",
        "С первого экрана до платежа доходят 47,7% пользователей. Это весьма хороший результат."
      ]
    },
    {
      "cell_type": "code",
      "execution_count": 24,
      "metadata": {
        "colab": {
          "base_uri": "https://localhost:8080/",
          "height": 542
        },
        "id": "ZqJwfDJV_CcB",
        "outputId": "35d6f682-ba40-4268-cc9c-169a516aec0c"
      },
      "outputs": [
        {
          "output_type": "display_data",
          "data": {
            "text/html": [
              "<html>\n",
              "<head><meta charset=\"utf-8\" /></head>\n",
              "<body>\n",
              "    <div>            <script src=\"https://cdnjs.cloudflare.com/ajax/libs/mathjax/2.7.5/MathJax.js?config=TeX-AMS-MML_SVG\"></script><script type=\"text/javascript\">if (window.MathJax && window.MathJax.Hub && window.MathJax.Hub.Config) {window.MathJax.Hub.Config({SVG: {font: \"STIX-Web\"}});}</script>                <script type=\"text/javascript\">window.PlotlyConfig = {MathJaxConfig: 'local'};</script>\n",
              "        <script src=\"https://cdn.plot.ly/plotly-2.18.2.min.js\"></script>                <div id=\"42fda57a-175f-4ea8-836c-7884fad40657\" class=\"plotly-graph-div\" style=\"height:525px; width:100%;\"></div>            <script type=\"text/javascript\">                                    window.PLOTLYENV=window.PLOTLYENV || {};                                    if (document.getElementById(\"42fda57a-175f-4ea8-836c-7884fad40657\")) {                    Plotly.newPlot(                        \"42fda57a-175f-4ea8-836c-7884fad40657\",                        [{\"x\":[100.0,61.9,50.3,47.7,11.3],\"y\":[\"MainScreenAppear\",\"OffersScreenAppear\",\"CartScreenAppear\",\"PaymentScreenSuccessful\",\"Tutorial\"],\"type\":\"funnel\"}],                        {\"template\":{\"data\":{\"histogram2dcontour\":[{\"type\":\"histogram2dcontour\",\"colorbar\":{\"outlinewidth\":0,\"ticks\":\"\"},\"colorscale\":[[0.0,\"#0d0887\"],[0.1111111111111111,\"#46039f\"],[0.2222222222222222,\"#7201a8\"],[0.3333333333333333,\"#9c179e\"],[0.4444444444444444,\"#bd3786\"],[0.5555555555555556,\"#d8576b\"],[0.6666666666666666,\"#ed7953\"],[0.7777777777777778,\"#fb9f3a\"],[0.8888888888888888,\"#fdca26\"],[1.0,\"#f0f921\"]]}],\"choropleth\":[{\"type\":\"choropleth\",\"colorbar\":{\"outlinewidth\":0,\"ticks\":\"\"}}],\"histogram2d\":[{\"type\":\"histogram2d\",\"colorbar\":{\"outlinewidth\":0,\"ticks\":\"\"},\"colorscale\":[[0.0,\"#0d0887\"],[0.1111111111111111,\"#46039f\"],[0.2222222222222222,\"#7201a8\"],[0.3333333333333333,\"#9c179e\"],[0.4444444444444444,\"#bd3786\"],[0.5555555555555556,\"#d8576b\"],[0.6666666666666666,\"#ed7953\"],[0.7777777777777778,\"#fb9f3a\"],[0.8888888888888888,\"#fdca26\"],[1.0,\"#f0f921\"]]}],\"heatmap\":[{\"type\":\"heatmap\",\"colorbar\":{\"outlinewidth\":0,\"ticks\":\"\"},\"colorscale\":[[0.0,\"#0d0887\"],[0.1111111111111111,\"#46039f\"],[0.2222222222222222,\"#7201a8\"],[0.3333333333333333,\"#9c179e\"],[0.4444444444444444,\"#bd3786\"],[0.5555555555555556,\"#d8576b\"],[0.6666666666666666,\"#ed7953\"],[0.7777777777777778,\"#fb9f3a\"],[0.8888888888888888,\"#fdca26\"],[1.0,\"#f0f921\"]]}],\"heatmapgl\":[{\"type\":\"heatmapgl\",\"colorbar\":{\"outlinewidth\":0,\"ticks\":\"\"},\"colorscale\":[[0.0,\"#0d0887\"],[0.1111111111111111,\"#46039f\"],[0.2222222222222222,\"#7201a8\"],[0.3333333333333333,\"#9c179e\"],[0.4444444444444444,\"#bd3786\"],[0.5555555555555556,\"#d8576b\"],[0.6666666666666666,\"#ed7953\"],[0.7777777777777778,\"#fb9f3a\"],[0.8888888888888888,\"#fdca26\"],[1.0,\"#f0f921\"]]}],\"contourcarpet\":[{\"type\":\"contourcarpet\",\"colorbar\":{\"outlinewidth\":0,\"ticks\":\"\"}}],\"contour\":[{\"type\":\"contour\",\"colorbar\":{\"outlinewidth\":0,\"ticks\":\"\"},\"colorscale\":[[0.0,\"#0d0887\"],[0.1111111111111111,\"#46039f\"],[0.2222222222222222,\"#7201a8\"],[0.3333333333333333,\"#9c179e\"],[0.4444444444444444,\"#bd3786\"],[0.5555555555555556,\"#d8576b\"],[0.6666666666666666,\"#ed7953\"],[0.7777777777777778,\"#fb9f3a\"],[0.8888888888888888,\"#fdca26\"],[1.0,\"#f0f921\"]]}],\"surface\":[{\"type\":\"surface\",\"colorbar\":{\"outlinewidth\":0,\"ticks\":\"\"},\"colorscale\":[[0.0,\"#0d0887\"],[0.1111111111111111,\"#46039f\"],[0.2222222222222222,\"#7201a8\"],[0.3333333333333333,\"#9c179e\"],[0.4444444444444444,\"#bd3786\"],[0.5555555555555556,\"#d8576b\"],[0.6666666666666666,\"#ed7953\"],[0.7777777777777778,\"#fb9f3a\"],[0.8888888888888888,\"#fdca26\"],[1.0,\"#f0f921\"]]}],\"mesh3d\":[{\"type\":\"mesh3d\",\"colorbar\":{\"outlinewidth\":0,\"ticks\":\"\"}}],\"scatter\":[{\"fillpattern\":{\"fillmode\":\"overlay\",\"size\":10,\"solidity\":0.2},\"type\":\"scatter\"}],\"parcoords\":[{\"type\":\"parcoords\",\"line\":{\"colorbar\":{\"outlinewidth\":0,\"ticks\":\"\"}}}],\"scatterpolargl\":[{\"type\":\"scatterpolargl\",\"marker\":{\"colorbar\":{\"outlinewidth\":0,\"ticks\":\"\"}}}],\"bar\":[{\"error_x\":{\"color\":\"#2a3f5f\"},\"error_y\":{\"color\":\"#2a3f5f\"},\"marker\":{\"line\":{\"color\":\"#E5ECF6\",\"width\":0.5},\"pattern\":{\"fillmode\":\"overlay\",\"size\":10,\"solidity\":0.2}},\"type\":\"bar\"}],\"scattergeo\":[{\"type\":\"scattergeo\",\"marker\":{\"colorbar\":{\"outlinewidth\":0,\"ticks\":\"\"}}}],\"scatterpolar\":[{\"type\":\"scatterpolar\",\"marker\":{\"colorbar\":{\"outlinewidth\":0,\"ticks\":\"\"}}}],\"histogram\":[{\"marker\":{\"pattern\":{\"fillmode\":\"overlay\",\"size\":10,\"solidity\":0.2}},\"type\":\"histogram\"}],\"scattergl\":[{\"type\":\"scattergl\",\"marker\":{\"colorbar\":{\"outlinewidth\":0,\"ticks\":\"\"}}}],\"scatter3d\":[{\"type\":\"scatter3d\",\"line\":{\"colorbar\":{\"outlinewidth\":0,\"ticks\":\"\"}},\"marker\":{\"colorbar\":{\"outlinewidth\":0,\"ticks\":\"\"}}}],\"scattermapbox\":[{\"type\":\"scattermapbox\",\"marker\":{\"colorbar\":{\"outlinewidth\":0,\"ticks\":\"\"}}}],\"scatterternary\":[{\"type\":\"scatterternary\",\"marker\":{\"colorbar\":{\"outlinewidth\":0,\"ticks\":\"\"}}}],\"scattercarpet\":[{\"type\":\"scattercarpet\",\"marker\":{\"colorbar\":{\"outlinewidth\":0,\"ticks\":\"\"}}}],\"carpet\":[{\"aaxis\":{\"endlinecolor\":\"#2a3f5f\",\"gridcolor\":\"white\",\"linecolor\":\"white\",\"minorgridcolor\":\"white\",\"startlinecolor\":\"#2a3f5f\"},\"baxis\":{\"endlinecolor\":\"#2a3f5f\",\"gridcolor\":\"white\",\"linecolor\":\"white\",\"minorgridcolor\":\"white\",\"startlinecolor\":\"#2a3f5f\"},\"type\":\"carpet\"}],\"table\":[{\"cells\":{\"fill\":{\"color\":\"#EBF0F8\"},\"line\":{\"color\":\"white\"}},\"header\":{\"fill\":{\"color\":\"#C8D4E3\"},\"line\":{\"color\":\"white\"}},\"type\":\"table\"}],\"barpolar\":[{\"marker\":{\"line\":{\"color\":\"#E5ECF6\",\"width\":0.5},\"pattern\":{\"fillmode\":\"overlay\",\"size\":10,\"solidity\":0.2}},\"type\":\"barpolar\"}],\"pie\":[{\"automargin\":true,\"type\":\"pie\"}]},\"layout\":{\"autotypenumbers\":\"strict\",\"colorway\":[\"#636efa\",\"#EF553B\",\"#00cc96\",\"#ab63fa\",\"#FFA15A\",\"#19d3f3\",\"#FF6692\",\"#B6E880\",\"#FF97FF\",\"#FECB52\"],\"font\":{\"color\":\"#2a3f5f\"},\"hovermode\":\"closest\",\"hoverlabel\":{\"align\":\"left\"},\"paper_bgcolor\":\"white\",\"plot_bgcolor\":\"#E5ECF6\",\"polar\":{\"bgcolor\":\"#E5ECF6\",\"angularaxis\":{\"gridcolor\":\"white\",\"linecolor\":\"white\",\"ticks\":\"\"},\"radialaxis\":{\"gridcolor\":\"white\",\"linecolor\":\"white\",\"ticks\":\"\"}},\"ternary\":{\"bgcolor\":\"#E5ECF6\",\"aaxis\":{\"gridcolor\":\"white\",\"linecolor\":\"white\",\"ticks\":\"\"},\"baxis\":{\"gridcolor\":\"white\",\"linecolor\":\"white\",\"ticks\":\"\"},\"caxis\":{\"gridcolor\":\"white\",\"linecolor\":\"white\",\"ticks\":\"\"}},\"coloraxis\":{\"colorbar\":{\"outlinewidth\":0,\"ticks\":\"\"}},\"colorscale\":{\"sequential\":[[0.0,\"#0d0887\"],[0.1111111111111111,\"#46039f\"],[0.2222222222222222,\"#7201a8\"],[0.3333333333333333,\"#9c179e\"],[0.4444444444444444,\"#bd3786\"],[0.5555555555555556,\"#d8576b\"],[0.6666666666666666,\"#ed7953\"],[0.7777777777777778,\"#fb9f3a\"],[0.8888888888888888,\"#fdca26\"],[1.0,\"#f0f921\"]],\"sequentialminus\":[[0.0,\"#0d0887\"],[0.1111111111111111,\"#46039f\"],[0.2222222222222222,\"#7201a8\"],[0.3333333333333333,\"#9c179e\"],[0.4444444444444444,\"#bd3786\"],[0.5555555555555556,\"#d8576b\"],[0.6666666666666666,\"#ed7953\"],[0.7777777777777778,\"#fb9f3a\"],[0.8888888888888888,\"#fdca26\"],[1.0,\"#f0f921\"]],\"diverging\":[[0,\"#8e0152\"],[0.1,\"#c51b7d\"],[0.2,\"#de77ae\"],[0.3,\"#f1b6da\"],[0.4,\"#fde0ef\"],[0.5,\"#f7f7f7\"],[0.6,\"#e6f5d0\"],[0.7,\"#b8e186\"],[0.8,\"#7fbc41\"],[0.9,\"#4d9221\"],[1,\"#276419\"]]},\"xaxis\":{\"gridcolor\":\"white\",\"linecolor\":\"white\",\"ticks\":\"\",\"title\":{\"standoff\":15},\"zerolinecolor\":\"white\",\"automargin\":true,\"zerolinewidth\":2},\"yaxis\":{\"gridcolor\":\"white\",\"linecolor\":\"white\",\"ticks\":\"\",\"title\":{\"standoff\":15},\"zerolinecolor\":\"white\",\"automargin\":true,\"zerolinewidth\":2},\"scene\":{\"xaxis\":{\"backgroundcolor\":\"#E5ECF6\",\"gridcolor\":\"white\",\"linecolor\":\"white\",\"showbackground\":true,\"ticks\":\"\",\"zerolinecolor\":\"white\",\"gridwidth\":2},\"yaxis\":{\"backgroundcolor\":\"#E5ECF6\",\"gridcolor\":\"white\",\"linecolor\":\"white\",\"showbackground\":true,\"ticks\":\"\",\"zerolinecolor\":\"white\",\"gridwidth\":2},\"zaxis\":{\"backgroundcolor\":\"#E5ECF6\",\"gridcolor\":\"white\",\"linecolor\":\"white\",\"showbackground\":true,\"ticks\":\"\",\"zerolinecolor\":\"white\",\"gridwidth\":2}},\"shapedefaults\":{\"line\":{\"color\":\"#2a3f5f\"}},\"annotationdefaults\":{\"arrowcolor\":\"#2a3f5f\",\"arrowhead\":0,\"arrowwidth\":1},\"geo\":{\"bgcolor\":\"white\",\"landcolor\":\"#E5ECF6\",\"subunitcolor\":\"white\",\"showland\":true,\"showlakes\":true,\"lakecolor\":\"white\"},\"title\":{\"x\":0.05},\"mapbox\":{\"style\":\"light\"}}}},                        {\"responsive\": true}                    ).then(function(){\n",
              "                            \n",
              "var gd = document.getElementById('42fda57a-175f-4ea8-836c-7884fad40657');\n",
              "var x = new MutationObserver(function (mutations, observer) {{\n",
              "        var display = window.getComputedStyle(gd).display;\n",
              "        if (!display || display === 'none') {{\n",
              "            console.log([gd, 'removed!']);\n",
              "            Plotly.purge(gd);\n",
              "            observer.disconnect();\n",
              "        }}\n",
              "}});\n",
              "\n",
              "// Listen for the removal of the full notebook cells\n",
              "var notebookContainer = gd.closest('#notebook-container');\n",
              "if (notebookContainer) {{\n",
              "    x.observe(notebookContainer, {childList: true});\n",
              "}}\n",
              "\n",
              "// Listen for the clearing of the current output cell\n",
              "var outputEl = gd.closest('.output');\n",
              "if (outputEl) {{\n",
              "    x.observe(outputEl, {childList: true});\n",
              "}}\n",
              "\n",
              "                        })                };                            </script>        </div>\n",
              "</body>\n",
              "</html>"
            ]
          },
          "metadata": {}
        }
      ],
      "source": [
        "funnel = go.Figure(go.Funnel(x = events_users['share_from_first'], y = events_users['event']))\n",
        "funnel.show();"
      ]
    },
    {
      "cell_type": "markdown",
      "metadata": {
        "id": "0zPx9wG9_CcB"
      },
      "source": [
        "## Шаг. Изучим результаты эксперимента\n",
        "### Выясним сколько пользователей в каждой экспериментальной группе."
      ]
    },
    {
      "cell_type": "code",
      "execution_count": 25,
      "metadata": {
        "colab": {
          "base_uri": "https://localhost:8080/"
        },
        "id": "JAA4XvZ0_CcB",
        "outputId": "95d6ba0b-cc06-46e0-cc7a-b452433178fb"
      },
      "outputs": [
        {
          "output_type": "stream",
          "name": "stdout",
          "text": [
            "Всего в группе 246 пользователей =  2484\n",
            "Всего в группе 247 пользователей =  2513\n",
            "Всего в группе 248 пользователей =  2537\n"
          ]
        }
      ],
      "source": [
        "group_246_count = logs_exp.query('group == 246')['deviceid'].nunique()\n",
        "print(\"Всего в группе 246 пользователей = \", group_246_count)\n",
        "group_247_count = logs_exp.query('group == 247')['deviceid'].nunique()\n",
        "print(\"Всего в группе 247 пользователей = \", group_247_count)\n",
        "group_248_count = logs_exp.query('group == 248')['deviceid'].nunique()\n",
        "print(\"Всего в группе 248 пользователей = \", group_248_count)"
      ]
    },
    {
      "cell_type": "code",
      "execution_count": 26,
      "metadata": {
        "colab": {
          "base_uri": "https://localhost:8080/"
        },
        "id": "9ylIiOxG_CcC",
        "outputId": "39862af2-7e79-46bc-d981-50382778e355"
      },
      "outputs": [
        {
          "output_type": "stream",
          "name": "stdout",
          "text": [
            "group\n",
            "246    2484\n",
            "247    2513\n",
            "248    2537\n",
            "Name: deviceid, dtype: int64\n"
          ]
        }
      ],
      "source": [
        "group_count = logs_exp.groupby('group')['deviceid'].nunique()\n",
        "print(group_count)"
      ]
    },
    {
      "cell_type": "markdown",
      "metadata": {
        "id": "2qIa-lim_CcC"
      },
      "source": [
        "**Вывод**\n",
        "\n",
        "Разбивку на группы можно считать корректной."
      ]
    },
    {
      "cell_type": "markdown",
      "metadata": {
        "id": "wJVn0VQY_CcD"
      },
      "source": [
        "### Есть 2 контрольные группы для А/А-эксперимента, чтобы проверить корректность всех механизмов и расчётов. Проверим, находят ли статистические критерии разницу между выборками 246 и 247."
      ]
    },
    {
      "cell_type": "markdown",
      "metadata": {
        "id": "OQl2Nfig_CcD"
      },
      "source": [
        "Критерии успешного A/A-теста: \n",
        "- Количество пользователей в различных группах различается не более, чем на 1%;\n",
        "- Для всех групп фиксируют и отправляют в системы аналитики данные об одном и том же;\n",
        "- Различие ключевых метрик по группам не превышает 1% и не имеет статистической значимости;\n",
        "- Попавший в одну из групп посетитель остаётся в этой группе до конца теста. Если пользователь видит разные версии исследуемой страницы в ходе одного исследования, неизвестно, какая именно повлияла на его решения. Значит, и результаты такого теста нельзя интерпретировать однозначно."
      ]
    },
    {
      "cell_type": "markdown",
      "metadata": {
        "id": "GAZ7VeLJ_CcD"
      },
      "source": [
        "**Вывод**\n",
        "\n",
        "Статистически значимой разницы между выборками 246 и 247 нет."
      ]
    },
    {
      "cell_type": "markdown",
      "metadata": {
        "id": "89DKO0Mh_CcD"
      },
      "source": [
        "### Выберем самое популярное событие. Посчитаем число пользователей, совершивших это событие в каждой из контрольных групп. Посчитаем долю пользователей, совершивших это событие. Проверим, будет ли отличие между группами статистически достоверным. Проделаем тоже самое для всех других событий (удобно обернем проверку в отдельную функцию). Выясним, можно ли сказать, что разбиение на группы работает корректно."
      ]
    },
    {
      "cell_type": "markdown",
      "metadata": {
        "id": "7Y6_HSkv_CcE"
      },
      "source": [
        "В пункте 4.1 мы выяснили, что самым популярным событием является MainScreenAppear - Появление Главного экрана(переход на сайт)."
      ]
    },
    {
      "cell_type": "code",
      "execution_count": 27,
      "metadata": {
        "colab": {
          "base_uri": "https://localhost:8080/",
          "height": 206
        },
        "id": "d59pHvIn_CcE",
        "outputId": "876bd031-3d43-4ecb-9a8d-fe4f9ea179cf"
      },
      "outputs": [
        {
          "output_type": "display_data",
          "data": {
            "text/plain": [
              "group                    event   246   247   248  share_246  share_247  \\\n",
              "0             MainScreenAppear  2450  2476  2493       98.6       98.5   \n",
              "1           OffersScreenAppear  1542  1520  1531       62.1       60.5   \n",
              "2             CartScreenAppear  1266  1238  1230       51.0       49.3   \n",
              "3      PaymentScreenSuccessful  1200  1158  1181       48.3       46.1   \n",
              "4                     Tutorial   278   283   279       11.2       11.3   \n",
              "\n",
              "group  share_248   all  share_all  \n",
              "0           97.6  7419       98.5  \n",
              "1           59.9  4593       61.0  \n",
              "2           48.8  3734       49.6  \n",
              "3           45.6  3539       47.0  \n",
              "4           11.2   840       11.1  "
            ],
            "text/html": [
              "\n",
              "  <div id=\"df-5df6b9b3-b73a-44e7-b959-bd1cee142973\">\n",
              "    <div class=\"colab-df-container\">\n",
              "      <div>\n",
              "<style scoped>\n",
              "    .dataframe tbody tr th:only-of-type {\n",
              "        vertical-align: middle;\n",
              "    }\n",
              "\n",
              "    .dataframe tbody tr th {\n",
              "        vertical-align: top;\n",
              "    }\n",
              "\n",
              "    .dataframe thead th {\n",
              "        text-align: right;\n",
              "    }\n",
              "</style>\n",
              "<table border=\"1\" class=\"dataframe\">\n",
              "  <thead>\n",
              "    <tr style=\"text-align: right;\">\n",
              "      <th>group</th>\n",
              "      <th>event</th>\n",
              "      <th>246</th>\n",
              "      <th>247</th>\n",
              "      <th>248</th>\n",
              "      <th>share_246</th>\n",
              "      <th>share_247</th>\n",
              "      <th>share_248</th>\n",
              "      <th>all</th>\n",
              "      <th>share_all</th>\n",
              "    </tr>\n",
              "  </thead>\n",
              "  <tbody>\n",
              "    <tr>\n",
              "      <th>0</th>\n",
              "      <td>MainScreenAppear</td>\n",
              "      <td>2450</td>\n",
              "      <td>2476</td>\n",
              "      <td>2493</td>\n",
              "      <td>98.6</td>\n",
              "      <td>98.5</td>\n",
              "      <td>97.6</td>\n",
              "      <td>7419</td>\n",
              "      <td>98.5</td>\n",
              "    </tr>\n",
              "    <tr>\n",
              "      <th>1</th>\n",
              "      <td>OffersScreenAppear</td>\n",
              "      <td>1542</td>\n",
              "      <td>1520</td>\n",
              "      <td>1531</td>\n",
              "      <td>62.1</td>\n",
              "      <td>60.5</td>\n",
              "      <td>59.9</td>\n",
              "      <td>4593</td>\n",
              "      <td>61.0</td>\n",
              "    </tr>\n",
              "    <tr>\n",
              "      <th>2</th>\n",
              "      <td>CartScreenAppear</td>\n",
              "      <td>1266</td>\n",
              "      <td>1238</td>\n",
              "      <td>1230</td>\n",
              "      <td>51.0</td>\n",
              "      <td>49.3</td>\n",
              "      <td>48.8</td>\n",
              "      <td>3734</td>\n",
              "      <td>49.6</td>\n",
              "    </tr>\n",
              "    <tr>\n",
              "      <th>3</th>\n",
              "      <td>PaymentScreenSuccessful</td>\n",
              "      <td>1200</td>\n",
              "      <td>1158</td>\n",
              "      <td>1181</td>\n",
              "      <td>48.3</td>\n",
              "      <td>46.1</td>\n",
              "      <td>45.6</td>\n",
              "      <td>3539</td>\n",
              "      <td>47.0</td>\n",
              "    </tr>\n",
              "    <tr>\n",
              "      <th>4</th>\n",
              "      <td>Tutorial</td>\n",
              "      <td>278</td>\n",
              "      <td>283</td>\n",
              "      <td>279</td>\n",
              "      <td>11.2</td>\n",
              "      <td>11.3</td>\n",
              "      <td>11.2</td>\n",
              "      <td>840</td>\n",
              "      <td>11.1</td>\n",
              "    </tr>\n",
              "  </tbody>\n",
              "</table>\n",
              "</div>\n",
              "      <button class=\"colab-df-convert\" onclick=\"convertToInteractive('df-5df6b9b3-b73a-44e7-b959-bd1cee142973')\"\n",
              "              title=\"Convert this dataframe to an interactive table.\"\n",
              "              style=\"display:none;\">\n",
              "        \n",
              "  <svg xmlns=\"http://www.w3.org/2000/svg\" height=\"24px\"viewBox=\"0 0 24 24\"\n",
              "       width=\"24px\">\n",
              "    <path d=\"M0 0h24v24H0V0z\" fill=\"none\"/>\n",
              "    <path d=\"M18.56 5.44l.94 2.06.94-2.06 2.06-.94-2.06-.94-.94-2.06-.94 2.06-2.06.94zm-11 1L8.5 8.5l.94-2.06 2.06-.94-2.06-.94L8.5 2.5l-.94 2.06-2.06.94zm10 10l.94 2.06.94-2.06 2.06-.94-2.06-.94-.94-2.06-.94 2.06-2.06.94z\"/><path d=\"M17.41 7.96l-1.37-1.37c-.4-.4-.92-.59-1.43-.59-.52 0-1.04.2-1.43.59L10.3 9.45l-7.72 7.72c-.78.78-.78 2.05 0 2.83L4 21.41c.39.39.9.59 1.41.59.51 0 1.02-.2 1.41-.59l7.78-7.78 2.81-2.81c.8-.78.8-2.07 0-2.86zM5.41 20L4 18.59l7.72-7.72 1.47 1.35L5.41 20z\"/>\n",
              "  </svg>\n",
              "      </button>\n",
              "      \n",
              "  <style>\n",
              "    .colab-df-container {\n",
              "      display:flex;\n",
              "      flex-wrap:wrap;\n",
              "      gap: 12px;\n",
              "    }\n",
              "\n",
              "    .colab-df-convert {\n",
              "      background-color: #E8F0FE;\n",
              "      border: none;\n",
              "      border-radius: 50%;\n",
              "      cursor: pointer;\n",
              "      display: none;\n",
              "      fill: #1967D2;\n",
              "      height: 32px;\n",
              "      padding: 0 0 0 0;\n",
              "      width: 32px;\n",
              "    }\n",
              "\n",
              "    .colab-df-convert:hover {\n",
              "      background-color: #E2EBFA;\n",
              "      box-shadow: 0px 1px 2px rgba(60, 64, 67, 0.3), 0px 1px 3px 1px rgba(60, 64, 67, 0.15);\n",
              "      fill: #174EA6;\n",
              "    }\n",
              "\n",
              "    [theme=dark] .colab-df-convert {\n",
              "      background-color: #3B4455;\n",
              "      fill: #D2E3FC;\n",
              "    }\n",
              "\n",
              "    [theme=dark] .colab-df-convert:hover {\n",
              "      background-color: #434B5C;\n",
              "      box-shadow: 0px 1px 3px 1px rgba(0, 0, 0, 0.15);\n",
              "      filter: drop-shadow(0px 1px 2px rgba(0, 0, 0, 0.3));\n",
              "      fill: #FFFFFF;\n",
              "    }\n",
              "  </style>\n",
              "\n",
              "      <script>\n",
              "        const buttonEl =\n",
              "          document.querySelector('#df-5df6b9b3-b73a-44e7-b959-bd1cee142973 button.colab-df-convert');\n",
              "        buttonEl.style.display =\n",
              "          google.colab.kernel.accessAllowed ? 'block' : 'none';\n",
              "\n",
              "        async function convertToInteractive(key) {\n",
              "          const element = document.querySelector('#df-5df6b9b3-b73a-44e7-b959-bd1cee142973');\n",
              "          const dataTable =\n",
              "            await google.colab.kernel.invokeFunction('convertToInteractive',\n",
              "                                                     [key], {});\n",
              "          if (!dataTable) return;\n",
              "\n",
              "          const docLinkHtml = 'Like what you see? Visit the ' +\n",
              "            '<a target=\"_blank\" href=https://colab.research.google.com/notebooks/data_table.ipynb>data table notebook</a>'\n",
              "            + ' to learn more about interactive tables.';\n",
              "          element.innerHTML = '';\n",
              "          dataTable['output_type'] = 'display_data';\n",
              "          await google.colab.output.renderOutput(dataTable, element);\n",
              "          const docLink = document.createElement('div');\n",
              "          docLink.innerHTML = docLinkHtml;\n",
              "          element.appendChild(docLink);\n",
              "        }\n",
              "      </script>\n",
              "    </div>\n",
              "  </div>\n",
              "  "
            ]
          },
          "metadata": {}
        }
      ],
      "source": [
        "#Посчитаем число пользователей, совершивших это событие в каждой из контрольных групп:\n",
        "event_group_test = logs_exp.pivot_table(\n",
        "    index='event', \n",
        "    columns='group', \n",
        "    values='deviceid',\n",
        "    aggfunc='nunique').sort_values(by=246, ascending=False)\n",
        "event_group_test = event_group_test.reset_index()\n",
        "#Посчитаем долю пользователей, совершивших это событие в каждой из контрольных групп:\n",
        "event_group_test['share_246'] = (event_group_test[246] / group_246_count * 100).round(1)\n",
        "event_group_test['share_247'] = (event_group_test[247] / group_247_count * 100).round(1)\n",
        "event_group_test['share_248'] = (event_group_test[247] / group_248_count * 100).round(1)\n",
        "#Посчитаем количество пользователей, совершивших это событие:\n",
        "event_group_test['all'] = event_group_test[246] + event_group_test[247]+event_group_test[248]\n",
        "#Посчитаем долю пользователей, совершивших это событие:\n",
        "event_group_test['share_all'] = (event_group_test['all'] / (group_246_count+group_247_count+group_248_count) * 100).round(1)\n",
        "display(event_group_test)"
      ]
    },
    {
      "cell_type": "markdown",
      "metadata": {
        "id": "M6ZkbfPO_CcE"
      },
      "source": [
        "**Вывод**\n",
        "\n",
        "Число пользователей совершивших самое популярное событие \"MainScreenAppear\" - 7419, в разрезе групп:\n",
        "\n",
        "246 - 2450\n",
        "\n",
        "247 - 2476\n",
        "\n",
        "248 - 2493\n",
        "\n",
        "Доли пользователей совершивших самое популярное событие \"MainScreenAppear\" - 98,5%."
      ]
    },
    {
      "cell_type": "markdown",
      "metadata": {
        "id": "hwPxWI_c_CcF"
      },
      "source": [
        "Для проверки гипотезы придумаем нулевую и альтернативную гипотезы:\n",
        "\n",
        "**Нулевую гипотеза: нет оснований считать доли разными.**\n",
        "\n",
        "**Альтернативная гипотеза: между долями есть значимая разница.**"
      ]
    },
    {
      "cell_type": "code",
      "execution_count": 28,
      "metadata": {
        "colab": {
          "base_uri": "https://localhost:8080/",
          "height": 403
        },
        "id": "aLMk9Pi7_CcF",
        "outputId": "81cb21aa-d20c-4596-855e-aad21b3793b7"
      },
      "outputs": [
        {
          "output_type": "display_data",
          "data": {
            "text/plain": [
              "group\n",
              "246        2484\n",
              "247        2513\n",
              "248        2537\n",
              "246+247    4997\n",
              "Name: deviceid, dtype: int64"
            ]
          },
          "metadata": {}
        },
        {
          "output_type": "stream",
          "name": "stdout",
          "text": [
            "MainScreenAppear p-значение: 0.757\n",
            "Не получилось отвергнуть нулевую гипотезу\n",
            "\n",
            "OffersScreenAppear p-значение: 0.248\n",
            "Не получилось отвергнуть нулевую гипотезу\n",
            "\n",
            "CartScreenAppear p-значение: 0.229\n",
            "Не получилось отвергнуть нулевую гипотезу\n",
            "\n",
            "PaymentScreenSuccessful p-значение: 0.115\n",
            "Не получилось отвергнуть нулевую гипотезу\n",
            "\n",
            "Tutorial p-значение: 0.938\n",
            "Не получилось отвергнуть нулевую гипотезу\n",
            "\n"
          ]
        }
      ],
      "source": [
        "users_by_group = logs_exp.groupby('group')['deviceid'].nunique()\n",
        "users_by_group['246+247'] = users_by_group[246] + users_by_group[247]\n",
        "display(users_by_group)\n",
        "\n",
        "#Проверим, будет ли отличие между группами статистически достоверным:\n",
        "def z_test(group1, group2, alpha):\n",
        "    for i in event_group_test.index:\n",
        "        p1 = event_group_test[group1][i] / users_by_group[group1]\n",
        "        # пропорция успехов во второй группе:\n",
        "        p2 = event_group_test[group2][i] / users_by_group[group2]\n",
        "        # пропорция успехов в комбинированном датасете:\n",
        "        p_combined = ((event_group_test[group1][i] + event_group_test[group2][i]) / \n",
        "                      (users_by_group[group1] + users_by_group[group2]))\n",
        "        # разница пропорций в датасетах\n",
        "        difference = p1 - p2\n",
        "        # считаем статистику в ст.отклонениях стандартного нормального распределения\n",
        "        z_value = difference / mth.sqrt(p_combined * (1 - p_combined) * \n",
        "                                        (1/users_by_group[group1] + 1/users_by_group[group2]))\n",
        "        # задаем стандартное нормальное распределение (среднее 0, ст.отклонение 1)\n",
        "        distr = st.norm(0, 1) \n",
        "        p_value = round((1 - distr.cdf(abs(z_value))) * 2,3)\n",
        "        print('{} p-значение: {}'.format(event_group_test['event'][i], p_value))\n",
        "        if (p_value < alpha):\n",
        "            print(\"Отвергаем нулевую гипотезу\")\n",
        "        else:\n",
        "            print(\"Не получилось отвергнуть нулевую гипотезу\")\n",
        "        print('')\n",
        "\n",
        "z_test(246, 247, 0.05)"
      ]
    },
    {
      "cell_type": "markdown",
      "metadata": {
        "id": "zXaKMLXW_CcG"
      },
      "source": [
        "**Вывод**\n",
        "\n",
        "Статистически значимой разницы между выборками 246 и 247 нет для всех событий."
      ]
    },
    {
      "cell_type": "markdown",
      "metadata": {
        "id": "w2EuQgS7_CcG"
      },
      "source": [
        "### Аналогично поступим с группой с изменённым шрифтом. Сравним результаты с каждой из контрольных групп в отдельности по каждому событию. Сравним результаты с объединённой контрольной группой. Сделаем выводы из эксперимента."
      ]
    },
    {
      "cell_type": "code",
      "execution_count": 29,
      "metadata": {
        "colab": {
          "base_uri": "https://localhost:8080/"
        },
        "id": "NS-93I2N_CcH",
        "outputId": "2b9372b2-3fdc-45f7-b3bc-78947bc3c669"
      },
      "outputs": [
        {
          "output_type": "stream",
          "name": "stdout",
          "text": [
            "MainScreenAppear p-значение: 0.295\n",
            "Не получилось отвергнуть нулевую гипотезу\n",
            "\n",
            "OffersScreenAppear p-значение: 0.208\n",
            "Не получилось отвергнуть нулевую гипотезу\n",
            "\n",
            "CartScreenAppear p-значение: 0.078\n",
            "Не получилось отвергнуть нулевую гипотезу\n",
            "\n",
            "PaymentScreenSuccessful p-значение: 0.212\n",
            "Не получилось отвергнуть нулевую гипотезу\n",
            "\n",
            "Tutorial p-значение: 0.826\n",
            "Не получилось отвергнуть нулевую гипотезу\n",
            "\n"
          ]
        }
      ],
      "source": [
        "z_test(246, 248, 0.05)"
      ]
    },
    {
      "cell_type": "code",
      "execution_count": 30,
      "metadata": {
        "colab": {
          "base_uri": "https://localhost:8080/"
        },
        "id": "84jcrOFF_CcH",
        "outputId": "1be9a068-ca57-4f9a-e47b-938d3d518c58"
      },
      "outputs": [
        {
          "output_type": "stream",
          "name": "stdout",
          "text": [
            "MainScreenAppear p-значение: 0.459\n",
            "Не получилось отвергнуть нулевую гипотезу\n",
            "\n",
            "OffersScreenAppear p-значение: 0.92\n",
            "Не получилось отвергнуть нулевую гипотезу\n",
            "\n",
            "CartScreenAppear p-значение: 0.579\n",
            "Не получилось отвергнуть нулевую гипотезу\n",
            "\n",
            "PaymentScreenSuccessful p-значение: 0.737\n",
            "Не получилось отвергнуть нулевую гипотезу\n",
            "\n",
            "Tutorial p-значение: 0.765\n",
            "Не получилось отвергнуть нулевую гипотезу\n",
            "\n"
          ]
        }
      ],
      "source": [
        "z_test(247, 248, 0.05)"
      ]
    },
    {
      "cell_type": "code",
      "execution_count": 31,
      "metadata": {
        "colab": {
          "base_uri": "https://localhost:8080/"
        },
        "id": "Y2_qbeRv_CcH",
        "outputId": "8f41de7a-9c58-4ec1-b1b6-1598ceb7fa4a"
      },
      "outputs": [
        {
          "output_type": "stream",
          "name": "stdout",
          "text": [
            "MainScreenAppear p-значение: 0.294\n",
            "Не получилось отвергнуть нулевую гипотезу\n",
            "\n",
            "OffersScreenAppear p-значение: 0.434\n",
            "Не получилось отвергнуть нулевую гипотезу\n",
            "\n",
            "CartScreenAppear p-значение: 0.182\n",
            "Не получилось отвергнуть нулевую гипотезу\n",
            "\n",
            "PaymentScreenSuccessful p-значение: 0.6\n",
            "Не получилось отвергнуть нулевую гипотезу\n",
            "\n",
            "Tutorial p-значение: 0.765\n",
            "Не получилось отвергнуть нулевую гипотезу\n",
            "\n"
          ]
        }
      ],
      "source": [
        "#Сравним результаты с объединённой контрольной группой:\n",
        "event_group_test['246+247'] = event_group_test[246] + event_group_test[247]\n",
        "z_test('246+247', 248, 0.05)"
      ]
    },
    {
      "cell_type": "markdown",
      "metadata": {
        "id": "W4yDTqWZ_CcI"
      },
      "source": [
        "**Вывод**\n",
        "\n",
        "Статистически значимой разницы между выборками нет для всех событий."
      ]
    },
    {
      "cell_type": "markdown",
      "metadata": {
        "id": "8CFGjZel_CcI"
      },
      "source": [
        "### Выберем уровень значимости при проверке статистических гипотез выше. Посчитаем, сколько проверок статистических гипотез мы сделали. При уровне значимости 0.1 каждый десятый раз можно получать ложный результат. Выясним, какой уровень значимости стоит применить. Если захотим изменить его, проделаем предыдущие пункты и проверим свои выводы."
      ]
    },
    {
      "cell_type": "markdown",
      "metadata": {
        "id": "n_MPNlgX_CcI"
      },
      "source": [
        "Степень различия ключевых метрик по группам зависит от необходимой чувствительности эксперимента.Значение альфа дает нам вероятность ошибки I типа. Ошибки типа I возникают, когда мы отвергаем нулевую гипотезу, которая на самом деле верна. \n",
        "При уровне значимости 0.1 каждый десятый раз можно получать ложный результат. \n",
        "Т.е. отклонение в одном из 20 случаев не гарантирует, что это будет именно двадцатый случай. При проведении 16 экспериментов, мы гарантированно его поймаем как минимум один раз. А при уровне значимости в 0,05 у нас уже есть шанс (пусть и не очень большой) не поймать эту ложноположительную ошибку. Еще уменьшать уровень значимости рискованно, так как мы очень повысим вероятность поймать ошибку второго рода. Поэтому 0,05 - оптимальный вариант в нашем случае. \n",
        "\n",
        "И нам для A/B теста не нужна высокая точность, то для экспериментов взяли стандартный уровень значимости равный 5%.\n",
        "В ходе тестирования мы сделали 4 проверки по 4 эксперимента для каждого события."
      ]
    },
    {
      "cell_type": "markdown",
      "metadata": {
        "id": "1uVcOPna_CcJ"
      },
      "source": [
        "**ОБЩИЙ ВЫВОД**\n",
        "\n",
        "При анализе данных выяснили, что данные предоставлены с 25 ююля по 7 августа. Кол-во событий, происходивших в июле очень низкое по сравнению с августом, поэтому июльские данные отрезали.\n",
        "Отбросив старые данные, мы потеряли 0,23% пользователей и 1,16% событий.\n",
        "Потери допустимые и на дальнейший анализ не должны сильно повлиять.\n",
        "\n",
        "Мы сделали предположение порядка происхождения событий:\n",
        "\n",
        "    1. MainScreenAppear - Появление Главного экрана(переход на сайт)\n",
        "    2. OffersScreenAppear - Появление Экрана Предложений(переход на прайс-лист)\n",
        "    3. CartScreenAppear - Появление Экрана Корзины(переход в корзину)\n",
        "    4. PaymentScreenSuccessful - Экран удачного совершения платежа(переход к оплате)\n",
        "    5. Tutorial - Руководство пользователя(рекомендации)\n",
        "\n",
        "На второй этап воронки попадает 61,9% пользователей, а 38,1% отваливаются. Возможно есть какая-то проблема на первом событии. Надо об этом сообщить тестировщикам или отделу маркетинга.\n",
        "\n",
        "С первого экрана до платежа доходят 47,7% пользователей. Это весьма хороший результат.\n",
        "\n",
        "В результате A/A/B тестирования мы выяснили, что статистически значимой разницы между выборками нет.\n",
        "\n",
        "Мы проверили группы 246 и 247, по результатам A/A тестирования для всех событий разница не оказалось значимой, поэтому эти группы считаем контрольными.\n",
        "\n",
        "В результате всех остальных A/B тестов значимой разницы между группами при уровне значимости в 0.05 не выявлено. Поэтому делаем вывод, что на поведение пользователей изменение шрифта значимого эффекта не оказало. Тестирование можно назвать успешным - изменение шрифта не повлияло на поведение пользователей."
      ]
    }
  ],
  "metadata": {
    "ExecuteTimeLog": [
      {
        "duration": 1380,
        "start_time": "2023-03-27T10:19:29.386Z"
      },
      {
        "duration": 1012,
        "start_time": "2023-03-27T10:20:50.200Z"
      },
      {
        "duration": 218,
        "start_time": "2023-03-27T10:22:10.224Z"
      },
      {
        "duration": 181,
        "start_time": "2023-03-27T10:27:25.063Z"
      },
      {
        "duration": 161,
        "start_time": "2023-03-27T10:27:44.706Z"
      },
      {
        "duration": 63,
        "start_time": "2023-03-27T10:28:22.611Z"
      },
      {
        "duration": 35,
        "start_time": "2023-03-27T10:28:52.697Z"
      },
      {
        "duration": 1759,
        "start_time": "2023-03-27T10:29:18.195Z"
      },
      {
        "duration": 190,
        "start_time": "2023-03-27T10:29:19.956Z"
      },
      {
        "duration": 69,
        "start_time": "2023-03-27T10:29:20.148Z"
      },
      {
        "duration": 102,
        "start_time": "2023-03-27T10:29:20.219Z"
      },
      {
        "duration": 37,
        "start_time": "2023-03-27T10:29:51.765Z"
      },
      {
        "duration": 67,
        "start_time": "2023-03-27T10:34:48.014Z"
      },
      {
        "duration": 39,
        "start_time": "2023-03-27T10:34:53.983Z"
      },
      {
        "duration": 71,
        "start_time": "2023-03-27T10:36:49.138Z"
      },
      {
        "duration": 39,
        "start_time": "2023-03-27T10:36:55.976Z"
      },
      {
        "duration": 38,
        "start_time": "2023-03-27T10:38:07.176Z"
      },
      {
        "duration": 47,
        "start_time": "2023-03-27T10:38:20.723Z"
      },
      {
        "duration": 341,
        "start_time": "2023-03-27T10:38:34.987Z"
      },
      {
        "duration": 18,
        "start_time": "2023-03-27T10:38:40.572Z"
      },
      {
        "duration": 87,
        "start_time": "2023-03-27T10:39:32.951Z"
      },
      {
        "duration": 108,
        "start_time": "2023-03-27T10:44:46.562Z"
      },
      {
        "duration": 117,
        "start_time": "2023-03-27T10:45:04.283Z"
      },
      {
        "duration": 54,
        "start_time": "2023-03-27T10:46:07.751Z"
      },
      {
        "duration": 103,
        "start_time": "2023-03-27T10:48:33.129Z"
      },
      {
        "duration": 1230,
        "start_time": "2023-03-27T10:48:41.850Z"
      },
      {
        "duration": 184,
        "start_time": "2023-03-27T10:48:43.082Z"
      },
      {
        "duration": 88,
        "start_time": "2023-03-27T10:48:43.267Z"
      },
      {
        "duration": 103,
        "start_time": "2023-03-27T10:48:43.357Z"
      },
      {
        "duration": 86,
        "start_time": "2023-03-27T10:48:43.462Z"
      },
      {
        "duration": 124,
        "start_time": "2023-03-27T10:48:43.550Z"
      },
      {
        "duration": 50,
        "start_time": "2023-03-27T10:48:43.675Z"
      },
      {
        "duration": 189,
        "start_time": "2023-03-27T10:50:16.740Z"
      },
      {
        "duration": 904,
        "start_time": "2023-03-27T10:51:24.305Z"
      },
      {
        "duration": 1238,
        "start_time": "2023-03-27T10:51:36.843Z"
      },
      {
        "duration": 198,
        "start_time": "2023-03-27T10:51:38.084Z"
      },
      {
        "duration": 78,
        "start_time": "2023-03-27T10:51:38.284Z"
      },
      {
        "duration": 93,
        "start_time": "2023-03-27T10:51:38.363Z"
      },
      {
        "duration": 116,
        "start_time": "2023-03-27T10:51:38.459Z"
      },
      {
        "duration": 119,
        "start_time": "2023-03-27T10:51:38.577Z"
      },
      {
        "duration": 60,
        "start_time": "2023-03-27T10:51:38.698Z"
      },
      {
        "duration": 13,
        "start_time": "2023-03-27T11:10:40.025Z"
      },
      {
        "duration": 11,
        "start_time": "2023-03-27T11:12:49.948Z"
      },
      {
        "duration": 3,
        "start_time": "2023-03-27T11:15:07.542Z"
      },
      {
        "duration": 60,
        "start_time": "2023-03-27T11:15:49.255Z"
      },
      {
        "duration": 3,
        "start_time": "2023-03-27T11:15:54.234Z"
      },
      {
        "duration": 117,
        "start_time": "2023-03-27T11:20:13.799Z"
      },
      {
        "duration": 12,
        "start_time": "2023-03-27T11:20:39.188Z"
      },
      {
        "duration": 3,
        "start_time": "2023-03-27T11:20:58.035Z"
      },
      {
        "duration": 48,
        "start_time": "2023-03-27T17:59:48.278Z"
      },
      {
        "duration": 1372,
        "start_time": "2023-03-27T17:59:54.289Z"
      },
      {
        "duration": 740,
        "start_time": "2023-03-27T17:59:55.663Z"
      },
      {
        "duration": 68,
        "start_time": "2023-03-27T17:59:56.405Z"
      },
      {
        "duration": 93,
        "start_time": "2023-03-27T17:59:56.475Z"
      },
      {
        "duration": 103,
        "start_time": "2023-03-27T17:59:56.570Z"
      },
      {
        "duration": 121,
        "start_time": "2023-03-27T17:59:56.675Z"
      },
      {
        "duration": 61,
        "start_time": "2023-03-27T17:59:56.799Z"
      },
      {
        "duration": 49,
        "start_time": "2023-03-27T17:59:56.862Z"
      },
      {
        "duration": 35,
        "start_time": "2023-03-27T17:59:56.912Z"
      },
      {
        "duration": 118,
        "start_time": "2023-03-27T17:59:56.949Z"
      },
      {
        "duration": 20,
        "start_time": "2023-03-27T18:00:48.387Z"
      },
      {
        "duration": 4,
        "start_time": "2023-03-27T18:01:03.806Z"
      },
      {
        "duration": 6,
        "start_time": "2023-03-27T18:05:46.112Z"
      },
      {
        "duration": 6,
        "start_time": "2023-03-27T18:06:19.883Z"
      },
      {
        "duration": 10,
        "start_time": "2023-03-27T18:06:52.575Z"
      },
      {
        "duration": 270,
        "start_time": "2023-03-27T18:14:24.800Z"
      },
      {
        "duration": 185,
        "start_time": "2023-03-27T18:14:42.096Z"
      },
      {
        "duration": 165,
        "start_time": "2023-03-27T18:14:48.296Z"
      },
      {
        "duration": 198,
        "start_time": "2023-03-27T18:15:29.796Z"
      },
      {
        "duration": 196,
        "start_time": "2023-03-27T18:16:15.332Z"
      },
      {
        "duration": 196,
        "start_time": "2023-03-27T18:16:42.895Z"
      },
      {
        "duration": 277,
        "start_time": "2023-03-27T18:17:19.296Z"
      },
      {
        "duration": 212,
        "start_time": "2023-03-27T18:18:56.487Z"
      },
      {
        "duration": 40,
        "start_time": "2023-03-27T18:30:42.985Z"
      },
      {
        "duration": 79,
        "start_time": "2023-03-27T18:39:57.958Z"
      },
      {
        "duration": 9,
        "start_time": "2023-03-27T18:40:08.398Z"
      },
      {
        "duration": 8,
        "start_time": "2023-03-27T18:40:24.855Z"
      },
      {
        "duration": 9,
        "start_time": "2023-03-27T18:40:42.693Z"
      },
      {
        "duration": 9,
        "start_time": "2023-03-27T18:40:47.098Z"
      },
      {
        "duration": 9,
        "start_time": "2023-03-27T18:41:02.111Z"
      },
      {
        "duration": 19,
        "start_time": "2023-03-27T18:43:15.614Z"
      },
      {
        "duration": 21,
        "start_time": "2023-03-27T18:44:59.612Z"
      },
      {
        "duration": 6,
        "start_time": "2023-03-27T18:47:05.462Z"
      },
      {
        "duration": 1253,
        "start_time": "2023-03-27T19:05:41.503Z"
      },
      {
        "duration": 192,
        "start_time": "2023-03-27T19:05:42.758Z"
      },
      {
        "duration": 76,
        "start_time": "2023-03-27T19:05:42.951Z"
      },
      {
        "duration": 87,
        "start_time": "2023-03-27T19:05:43.030Z"
      },
      {
        "duration": 97,
        "start_time": "2023-03-27T19:05:43.120Z"
      },
      {
        "duration": 108,
        "start_time": "2023-03-27T19:05:43.219Z"
      },
      {
        "duration": 51,
        "start_time": "2023-03-27T19:05:43.329Z"
      },
      {
        "duration": 13,
        "start_time": "2023-03-27T19:05:43.381Z"
      },
      {
        "duration": 29,
        "start_time": "2023-03-27T19:05:43.396Z"
      },
      {
        "duration": 4,
        "start_time": "2023-03-27T19:05:43.427Z"
      },
      {
        "duration": 14,
        "start_time": "2023-03-27T19:05:43.432Z"
      },
      {
        "duration": 302,
        "start_time": "2023-03-27T19:05:43.448Z"
      },
      {
        "duration": 39,
        "start_time": "2023-03-27T19:05:43.751Z"
      },
      {
        "duration": 38,
        "start_time": "2023-03-27T19:05:43.792Z"
      },
      {
        "duration": 5,
        "start_time": "2023-03-27T19:05:43.831Z"
      },
      {
        "duration": 1357,
        "start_time": "2023-03-28T11:47:13.415Z"
      },
      {
        "duration": 804,
        "start_time": "2023-03-28T11:47:14.775Z"
      },
      {
        "duration": 60,
        "start_time": "2023-03-28T11:47:15.581Z"
      },
      {
        "duration": 79,
        "start_time": "2023-03-28T11:47:15.644Z"
      },
      {
        "duration": 81,
        "start_time": "2023-03-28T11:47:15.726Z"
      },
      {
        "duration": 125,
        "start_time": "2023-03-28T11:47:15.823Z"
      },
      {
        "duration": 55,
        "start_time": "2023-03-28T11:47:15.950Z"
      },
      {
        "duration": 39,
        "start_time": "2023-03-28T11:47:16.007Z"
      },
      {
        "duration": 27,
        "start_time": "2023-03-28T11:47:16.048Z"
      },
      {
        "duration": 17,
        "start_time": "2023-03-28T11:47:16.077Z"
      },
      {
        "duration": 25,
        "start_time": "2023-03-28T11:47:16.096Z"
      },
      {
        "duration": 315,
        "start_time": "2023-03-28T11:47:16.123Z"
      },
      {
        "duration": 45,
        "start_time": "2023-03-28T11:47:16.441Z"
      },
      {
        "duration": 16,
        "start_time": "2023-03-28T11:47:16.488Z"
      },
      {
        "duration": 26,
        "start_time": "2023-03-28T11:47:16.505Z"
      },
      {
        "duration": 108,
        "start_time": "2023-03-28T11:48:12.024Z"
      },
      {
        "duration": 20,
        "start_time": "2023-03-28T11:48:23.692Z"
      },
      {
        "duration": 34,
        "start_time": "2023-03-28T11:48:48.626Z"
      },
      {
        "duration": 19,
        "start_time": "2023-03-28T11:49:34.312Z"
      },
      {
        "duration": 18,
        "start_time": "2023-03-28T11:49:47.186Z"
      },
      {
        "duration": 28,
        "start_time": "2023-03-28T11:49:52.453Z"
      },
      {
        "duration": 68,
        "start_time": "2023-03-28T11:54:34.328Z"
      },
      {
        "duration": 62,
        "start_time": "2023-03-28T11:55:14.474Z"
      },
      {
        "duration": 73,
        "start_time": "2023-03-28T12:03:35.313Z"
      },
      {
        "duration": 65,
        "start_time": "2023-03-28T12:05:57.437Z"
      },
      {
        "duration": 53,
        "start_time": "2023-03-28T12:06:18.180Z"
      },
      {
        "duration": 1080,
        "start_time": "2023-03-28T12:27:10.753Z"
      },
      {
        "duration": 753,
        "start_time": "2023-03-28T12:27:48.297Z"
      },
      {
        "duration": 727,
        "start_time": "2023-03-28T12:28:16.215Z"
      },
      {
        "duration": 816,
        "start_time": "2023-03-28T12:28:39.718Z"
      },
      {
        "duration": 237,
        "start_time": "2023-03-28T12:30:35.916Z"
      },
      {
        "duration": 56,
        "start_time": "2023-03-28T12:31:00.261Z"
      },
      {
        "duration": 57,
        "start_time": "2023-03-28T12:31:16.068Z"
      },
      {
        "duration": 57,
        "start_time": "2023-03-28T12:31:45.275Z"
      },
      {
        "duration": 13,
        "start_time": "2023-03-28T12:32:11.757Z"
      },
      {
        "duration": 12,
        "start_time": "2023-03-28T12:32:48.453Z"
      },
      {
        "duration": 16,
        "start_time": "2023-03-28T12:33:13.446Z"
      },
      {
        "duration": 1129,
        "start_time": "2023-03-28T12:33:25.339Z"
      },
      {
        "duration": 170,
        "start_time": "2023-03-28T12:33:26.470Z"
      },
      {
        "duration": 63,
        "start_time": "2023-03-28T12:33:26.642Z"
      },
      {
        "duration": 90,
        "start_time": "2023-03-28T12:33:26.708Z"
      },
      {
        "duration": 92,
        "start_time": "2023-03-28T12:33:26.800Z"
      },
      {
        "duration": 145,
        "start_time": "2023-03-28T12:33:26.894Z"
      },
      {
        "duration": 50,
        "start_time": "2023-03-28T12:33:27.041Z"
      },
      {
        "duration": 11,
        "start_time": "2023-03-28T12:33:27.093Z"
      },
      {
        "duration": 26,
        "start_time": "2023-03-28T12:33:27.105Z"
      },
      {
        "duration": 3,
        "start_time": "2023-03-28T12:33:27.134Z"
      },
      {
        "duration": 9,
        "start_time": "2023-03-28T12:33:27.139Z"
      },
      {
        "duration": 319,
        "start_time": "2023-03-28T12:33:27.150Z"
      },
      {
        "duration": 37,
        "start_time": "2023-03-28T12:33:27.471Z"
      },
      {
        "duration": 27,
        "start_time": "2023-03-28T12:33:27.509Z"
      },
      {
        "duration": 5,
        "start_time": "2023-03-28T12:33:27.538Z"
      },
      {
        "duration": 24,
        "start_time": "2023-03-28T12:33:27.544Z"
      },
      {
        "duration": 78,
        "start_time": "2023-03-28T12:33:27.570Z"
      },
      {
        "duration": 13,
        "start_time": "2023-03-28T12:33:27.649Z"
      },
      {
        "duration": 14,
        "start_time": "2023-03-28T12:45:52.202Z"
      },
      {
        "duration": 19,
        "start_time": "2023-03-28T12:46:36.398Z"
      },
      {
        "duration": 15,
        "start_time": "2023-03-28T12:50:04.170Z"
      },
      {
        "duration": 16,
        "start_time": "2023-03-28T12:54:16.180Z"
      },
      {
        "duration": 1108,
        "start_time": "2023-03-28T12:54:25.327Z"
      },
      {
        "duration": 171,
        "start_time": "2023-03-28T12:54:26.437Z"
      },
      {
        "duration": 65,
        "start_time": "2023-03-28T12:54:26.609Z"
      },
      {
        "duration": 78,
        "start_time": "2023-03-28T12:54:26.676Z"
      },
      {
        "duration": 87,
        "start_time": "2023-03-28T12:54:26.756Z"
      },
      {
        "duration": 103,
        "start_time": "2023-03-28T12:54:26.845Z"
      },
      {
        "duration": 58,
        "start_time": "2023-03-28T12:54:26.949Z"
      },
      {
        "duration": 24,
        "start_time": "2023-03-28T12:54:27.008Z"
      },
      {
        "duration": 20,
        "start_time": "2023-03-28T12:54:27.033Z"
      },
      {
        "duration": 3,
        "start_time": "2023-03-28T12:54:27.055Z"
      },
      {
        "duration": 8,
        "start_time": "2023-03-28T12:54:27.060Z"
      },
      {
        "duration": 310,
        "start_time": "2023-03-28T12:54:27.070Z"
      },
      {
        "duration": 48,
        "start_time": "2023-03-28T12:54:27.382Z"
      },
      {
        "duration": 17,
        "start_time": "2023-03-28T12:54:27.431Z"
      },
      {
        "duration": 5,
        "start_time": "2023-03-28T12:54:27.450Z"
      },
      {
        "duration": 30,
        "start_time": "2023-03-28T12:54:27.457Z"
      },
      {
        "duration": 69,
        "start_time": "2023-03-28T12:54:27.489Z"
      },
      {
        "duration": 108,
        "start_time": "2023-03-28T12:54:27.559Z"
      },
      {
        "duration": 18,
        "start_time": "2023-03-28T12:55:25.417Z"
      },
      {
        "duration": 1158,
        "start_time": "2023-03-28T13:06:34.539Z"
      },
      {
        "duration": 167,
        "start_time": "2023-03-28T13:06:35.699Z"
      },
      {
        "duration": 71,
        "start_time": "2023-03-28T13:06:35.867Z"
      },
      {
        "duration": 73,
        "start_time": "2023-03-28T13:06:35.941Z"
      },
      {
        "duration": 104,
        "start_time": "2023-03-28T13:06:36.023Z"
      },
      {
        "duration": 99,
        "start_time": "2023-03-28T13:06:36.129Z"
      },
      {
        "duration": 46,
        "start_time": "2023-03-28T13:06:36.230Z"
      },
      {
        "duration": 10,
        "start_time": "2023-03-28T13:06:36.278Z"
      },
      {
        "duration": 15,
        "start_time": "2023-03-28T13:06:36.289Z"
      },
      {
        "duration": 3,
        "start_time": "2023-03-28T13:06:36.323Z"
      },
      {
        "duration": 10,
        "start_time": "2023-03-28T13:06:36.328Z"
      },
      {
        "duration": 302,
        "start_time": "2023-03-28T13:06:36.340Z"
      },
      {
        "duration": 38,
        "start_time": "2023-03-28T13:06:36.644Z"
      },
      {
        "duration": 18,
        "start_time": "2023-03-28T13:06:36.683Z"
      },
      {
        "duration": 7,
        "start_time": "2023-03-28T13:06:36.722Z"
      },
      {
        "duration": 25,
        "start_time": "2023-03-28T13:06:36.731Z"
      },
      {
        "duration": 85,
        "start_time": "2023-03-28T13:06:36.758Z"
      },
      {
        "duration": 16,
        "start_time": "2023-03-28T13:06:36.845Z"
      },
      {
        "duration": 51,
        "start_time": "2023-03-29T18:04:58.471Z"
      },
      {
        "duration": 1410,
        "start_time": "2023-03-29T18:05:09.292Z"
      },
      {
        "duration": 533,
        "start_time": "2023-03-29T18:05:10.704Z"
      },
      {
        "duration": 71,
        "start_time": "2023-03-29T18:05:11.238Z"
      },
      {
        "duration": 99,
        "start_time": "2023-03-29T18:05:11.312Z"
      },
      {
        "duration": 91,
        "start_time": "2023-03-29T18:05:11.413Z"
      },
      {
        "duration": 111,
        "start_time": "2023-03-29T18:05:11.506Z"
      },
      {
        "duration": 54,
        "start_time": "2023-03-29T18:05:11.618Z"
      },
      {
        "duration": 11,
        "start_time": "2023-03-29T18:05:11.674Z"
      },
      {
        "duration": 15,
        "start_time": "2023-03-29T18:05:11.687Z"
      },
      {
        "duration": 9,
        "start_time": "2023-03-29T18:05:11.705Z"
      },
      {
        "duration": 37,
        "start_time": "2023-03-29T18:05:11.716Z"
      },
      {
        "duration": 333,
        "start_time": "2023-03-29T18:05:11.755Z"
      },
      {
        "duration": 62,
        "start_time": "2023-03-29T18:05:12.090Z"
      },
      {
        "duration": 20,
        "start_time": "2023-03-29T18:05:12.154Z"
      },
      {
        "duration": 21,
        "start_time": "2023-03-29T18:05:12.176Z"
      },
      {
        "duration": 34,
        "start_time": "2023-03-29T18:05:12.199Z"
      },
      {
        "duration": 86,
        "start_time": "2023-03-29T18:05:12.235Z"
      },
      {
        "duration": 18,
        "start_time": "2023-03-29T18:05:12.323Z"
      },
      {
        "duration": 52,
        "start_time": "2023-03-29T18:05:12.343Z"
      },
      {
        "duration": 35,
        "start_time": "2023-03-29T18:05:31.403Z"
      },
      {
        "duration": 52,
        "start_time": "2023-03-29T18:06:11.213Z"
      },
      {
        "duration": 31,
        "start_time": "2023-03-29T18:06:20.204Z"
      },
      {
        "duration": 30,
        "start_time": "2023-03-29T18:06:31.765Z"
      },
      {
        "duration": 29,
        "start_time": "2023-03-29T18:07:12.112Z"
      },
      {
        "duration": 116,
        "start_time": "2023-03-29T18:38:58.751Z"
      },
      {
        "duration": 13,
        "start_time": "2023-03-29T18:39:58.824Z"
      },
      {
        "duration": 4,
        "start_time": "2023-03-29T18:41:03.151Z"
      },
      {
        "duration": 12,
        "start_time": "2023-03-29T18:41:10.372Z"
      },
      {
        "duration": 4,
        "start_time": "2023-03-29T18:42:02.797Z"
      },
      {
        "duration": 6,
        "start_time": "2023-03-29T18:42:13.259Z"
      },
      {
        "duration": 1256,
        "start_time": "2023-03-29T18:42:19.910Z"
      },
      {
        "duration": 200,
        "start_time": "2023-03-29T18:42:21.168Z"
      },
      {
        "duration": 84,
        "start_time": "2023-03-29T18:42:21.369Z"
      },
      {
        "duration": 103,
        "start_time": "2023-03-29T18:42:21.455Z"
      },
      {
        "duration": 88,
        "start_time": "2023-03-29T18:42:21.561Z"
      },
      {
        "duration": 110,
        "start_time": "2023-03-29T18:42:21.651Z"
      },
      {
        "duration": 51,
        "start_time": "2023-03-29T18:42:21.763Z"
      },
      {
        "duration": 41,
        "start_time": "2023-03-29T18:42:21.816Z"
      },
      {
        "duration": 28,
        "start_time": "2023-03-29T18:42:21.859Z"
      },
      {
        "duration": 17,
        "start_time": "2023-03-29T18:42:21.889Z"
      },
      {
        "duration": 29,
        "start_time": "2023-03-29T18:42:21.908Z"
      },
      {
        "duration": 310,
        "start_time": "2023-03-29T18:42:21.938Z"
      },
      {
        "duration": 44,
        "start_time": "2023-03-29T18:42:22.250Z"
      },
      {
        "duration": 23,
        "start_time": "2023-03-29T18:42:22.296Z"
      },
      {
        "duration": 7,
        "start_time": "2023-03-29T18:42:22.341Z"
      },
      {
        "duration": 26,
        "start_time": "2023-03-29T18:42:22.350Z"
      },
      {
        "duration": 74,
        "start_time": "2023-03-29T18:42:22.378Z"
      },
      {
        "duration": 14,
        "start_time": "2023-03-29T18:42:22.454Z"
      },
      {
        "duration": 46,
        "start_time": "2023-03-29T18:42:22.470Z"
      },
      {
        "duration": 5,
        "start_time": "2023-03-29T18:42:22.518Z"
      },
      {
        "duration": 73,
        "start_time": "2023-03-29T18:44:32.344Z"
      },
      {
        "duration": 71,
        "start_time": "2023-03-29T18:45:23.342Z"
      },
      {
        "duration": 95,
        "start_time": "2023-03-29T18:45:33.819Z"
      },
      {
        "duration": 86,
        "start_time": "2023-03-29T18:46:03.150Z"
      },
      {
        "duration": 10,
        "start_time": "2023-03-29T18:46:25.937Z"
      },
      {
        "duration": 6,
        "start_time": "2023-03-29T18:46:45.350Z"
      },
      {
        "duration": 8,
        "start_time": "2023-03-29T18:46:56.064Z"
      },
      {
        "duration": 102,
        "start_time": "2023-03-29T18:56:45.465Z"
      },
      {
        "duration": 17,
        "start_time": "2023-03-29T18:56:55.655Z"
      },
      {
        "duration": 80,
        "start_time": "2023-03-29T18:57:08.909Z"
      },
      {
        "duration": 73,
        "start_time": "2023-03-29T18:57:18.486Z"
      },
      {
        "duration": 79,
        "start_time": "2023-03-29T18:57:34.836Z"
      },
      {
        "duration": 74,
        "start_time": "2023-03-29T18:59:45.759Z"
      },
      {
        "duration": 70,
        "start_time": "2023-03-29T19:00:30.518Z"
      },
      {
        "duration": 76,
        "start_time": "2023-03-29T19:00:39.831Z"
      },
      {
        "duration": 1597,
        "start_time": "2023-03-29T19:03:37.405Z"
      },
      {
        "duration": 76,
        "start_time": "2023-03-29T19:04:11.692Z"
      },
      {
        "duration": 106,
        "start_time": "2023-03-29T19:05:07.084Z"
      },
      {
        "duration": 102,
        "start_time": "2023-03-29T19:10:46.166Z"
      },
      {
        "duration": 96,
        "start_time": "2023-03-29T19:15:21.563Z"
      },
      {
        "duration": 9,
        "start_time": "2023-03-29T19:20:09.684Z"
      },
      {
        "duration": 1489,
        "start_time": "2023-03-29T19:30:21.646Z"
      },
      {
        "duration": 21,
        "start_time": "2023-03-29T19:30:34.894Z"
      },
      {
        "duration": 12,
        "start_time": "2023-03-29T19:31:47.653Z"
      },
      {
        "duration": 1302,
        "start_time": "2023-03-29T19:33:03.044Z"
      },
      {
        "duration": 1021,
        "start_time": "2023-03-29T19:36:10.092Z"
      },
      {
        "duration": 1193,
        "start_time": "2023-03-29T19:36:29.904Z"
      },
      {
        "duration": 961,
        "start_time": "2023-03-29T19:36:40.847Z"
      },
      {
        "duration": 34,
        "start_time": "2023-03-29T19:36:55.689Z"
      },
      {
        "duration": 33,
        "start_time": "2023-03-29T19:37:08.756Z"
      },
      {
        "duration": 1426,
        "start_time": "2023-03-29T19:37:18.505Z"
      },
      {
        "duration": 51,
        "start_time": "2023-03-29T19:37:30.521Z"
      },
      {
        "duration": 92,
        "start_time": "2023-03-29T19:39:02.191Z"
      },
      {
        "duration": 11,
        "start_time": "2023-03-29T19:40:44.962Z"
      },
      {
        "duration": 8,
        "start_time": "2023-03-29T19:41:13.529Z"
      },
      {
        "duration": 9,
        "start_time": "2023-03-29T19:41:21.561Z"
      },
      {
        "duration": 2012,
        "start_time": "2023-03-29T19:42:07.489Z"
      },
      {
        "duration": 1578,
        "start_time": "2023-03-29T19:42:25.697Z"
      },
      {
        "duration": 41,
        "start_time": "2023-03-29T19:43:22.548Z"
      },
      {
        "duration": 1385,
        "start_time": "2023-03-29T19:43:30.563Z"
      },
      {
        "duration": 9,
        "start_time": "2023-03-29T19:44:21.747Z"
      },
      {
        "duration": 11,
        "start_time": "2023-03-29T19:48:49.046Z"
      },
      {
        "duration": 1246,
        "start_time": "2023-03-29T19:48:59.558Z"
      },
      {
        "duration": 198,
        "start_time": "2023-03-29T19:49:00.806Z"
      },
      {
        "duration": 82,
        "start_time": "2023-03-29T19:49:01.006Z"
      },
      {
        "duration": 98,
        "start_time": "2023-03-29T19:49:01.090Z"
      },
      {
        "duration": 88,
        "start_time": "2023-03-29T19:49:01.190Z"
      },
      {
        "duration": 111,
        "start_time": "2023-03-29T19:49:01.279Z"
      },
      {
        "duration": 60,
        "start_time": "2023-03-29T19:49:01.393Z"
      },
      {
        "duration": 29,
        "start_time": "2023-03-29T19:49:01.455Z"
      },
      {
        "duration": 41,
        "start_time": "2023-03-29T19:49:01.486Z"
      },
      {
        "duration": 21,
        "start_time": "2023-03-29T19:49:01.530Z"
      },
      {
        "duration": 37,
        "start_time": "2023-03-29T19:49:01.553Z"
      },
      {
        "duration": 314,
        "start_time": "2023-03-29T19:49:01.591Z"
      },
      {
        "duration": 54,
        "start_time": "2023-03-29T19:49:01.906Z"
      },
      {
        "duration": 18,
        "start_time": "2023-03-29T19:49:01.961Z"
      },
      {
        "duration": 28,
        "start_time": "2023-03-29T19:49:01.980Z"
      },
      {
        "duration": 37,
        "start_time": "2023-03-29T19:49:02.011Z"
      },
      {
        "duration": 103,
        "start_time": "2023-03-29T19:49:02.049Z"
      },
      {
        "duration": 57,
        "start_time": "2023-03-29T19:49:02.154Z"
      },
      {
        "duration": 73,
        "start_time": "2023-03-29T19:49:02.212Z"
      },
      {
        "duration": 14,
        "start_time": "2023-03-29T19:49:02.287Z"
      },
      {
        "duration": 149,
        "start_time": "2023-03-29T19:49:02.303Z"
      },
      {
        "duration": 42,
        "start_time": "2023-03-29T19:49:02.455Z"
      },
      {
        "duration": 101,
        "start_time": "2023-03-29T19:49:02.499Z"
      },
      {
        "duration": 19,
        "start_time": "2023-03-29T19:49:02.602Z"
      },
      {
        "duration": 123,
        "start_time": "2023-03-29T19:49:02.623Z"
      },
      {
        "duration": 12,
        "start_time": "2023-03-29T19:49:36.767Z"
      },
      {
        "duration": 71,
        "start_time": "2023-03-29T19:50:34.050Z"
      },
      {
        "duration": 1181,
        "start_time": "2023-03-29T20:05:17.996Z"
      },
      {
        "duration": 195,
        "start_time": "2023-03-29T20:05:19.180Z"
      },
      {
        "duration": 88,
        "start_time": "2023-03-29T20:05:19.376Z"
      },
      {
        "duration": 106,
        "start_time": "2023-03-29T20:05:19.467Z"
      },
      {
        "duration": 85,
        "start_time": "2023-03-29T20:05:19.575Z"
      },
      {
        "duration": 114,
        "start_time": "2023-03-29T20:05:19.662Z"
      },
      {
        "duration": 63,
        "start_time": "2023-03-29T20:05:19.778Z"
      },
      {
        "duration": 12,
        "start_time": "2023-03-29T20:05:19.843Z"
      },
      {
        "duration": 27,
        "start_time": "2023-03-29T20:05:19.857Z"
      },
      {
        "duration": 4,
        "start_time": "2023-03-29T20:05:19.887Z"
      },
      {
        "duration": 13,
        "start_time": "2023-03-29T20:05:19.894Z"
      },
      {
        "duration": 351,
        "start_time": "2023-03-29T20:05:19.909Z"
      },
      {
        "duration": 45,
        "start_time": "2023-03-29T20:05:20.262Z"
      },
      {
        "duration": 34,
        "start_time": "2023-03-29T20:05:20.309Z"
      },
      {
        "duration": 7,
        "start_time": "2023-03-29T20:05:20.345Z"
      },
      {
        "duration": 29,
        "start_time": "2023-03-29T20:05:20.354Z"
      },
      {
        "duration": 83,
        "start_time": "2023-03-29T20:05:20.385Z"
      },
      {
        "duration": 18,
        "start_time": "2023-03-29T20:05:20.470Z"
      },
      {
        "duration": 57,
        "start_time": "2023-03-29T20:05:20.489Z"
      },
      {
        "duration": 20,
        "start_time": "2023-03-29T20:05:20.548Z"
      },
      {
        "duration": 120,
        "start_time": "2023-03-29T20:05:20.569Z"
      },
      {
        "duration": 58,
        "start_time": "2023-03-29T20:05:20.691Z"
      },
      {
        "duration": 10,
        "start_time": "2023-03-29T20:05:20.751Z"
      },
      {
        "duration": 17,
        "start_time": "2023-03-29T20:05:20.762Z"
      },
      {
        "duration": 25,
        "start_time": "2023-03-29T20:05:20.781Z"
      },
      {
        "duration": 1229,
        "start_time": "2023-03-29T20:42:25.934Z"
      },
      {
        "duration": 1030,
        "start_time": "2023-03-29T20:42:27.164Z"
      },
      {
        "duration": 58,
        "start_time": "2023-03-29T20:42:28.196Z"
      },
      {
        "duration": 70,
        "start_time": "2023-03-29T20:42:28.256Z"
      },
      {
        "duration": 73,
        "start_time": "2023-03-29T20:42:28.327Z"
      },
      {
        "duration": 85,
        "start_time": "2023-03-29T20:42:28.401Z"
      },
      {
        "duration": 41,
        "start_time": "2023-03-29T20:42:28.488Z"
      },
      {
        "duration": 10,
        "start_time": "2023-03-29T20:42:28.530Z"
      },
      {
        "duration": 10,
        "start_time": "2023-03-29T20:42:28.541Z"
      },
      {
        "duration": 4,
        "start_time": "2023-03-29T20:42:28.569Z"
      },
      {
        "duration": 10,
        "start_time": "2023-03-29T20:42:28.574Z"
      },
      {
        "duration": 273,
        "start_time": "2023-03-29T20:42:28.586Z"
      },
      {
        "duration": 46,
        "start_time": "2023-03-29T20:42:28.861Z"
      },
      {
        "duration": 16,
        "start_time": "2023-03-29T20:42:28.908Z"
      },
      {
        "duration": 5,
        "start_time": "2023-03-29T20:42:28.925Z"
      },
      {
        "duration": 40,
        "start_time": "2023-03-29T20:42:28.931Z"
      },
      {
        "duration": 50,
        "start_time": "2023-03-29T20:42:28.972Z"
      },
      {
        "duration": 16,
        "start_time": "2023-03-29T20:42:29.023Z"
      },
      {
        "duration": 53,
        "start_time": "2023-03-29T20:42:29.041Z"
      },
      {
        "duration": 9,
        "start_time": "2023-03-29T20:42:29.096Z"
      },
      {
        "duration": 83,
        "start_time": "2023-03-29T20:42:29.107Z"
      },
      {
        "duration": 37,
        "start_time": "2023-03-29T20:42:29.192Z"
      },
      {
        "duration": 10,
        "start_time": "2023-03-29T20:42:29.230Z"
      },
      {
        "duration": 32,
        "start_time": "2023-03-29T20:42:29.242Z"
      },
      {
        "duration": 12,
        "start_time": "2023-03-29T20:42:29.276Z"
      },
      {
        "duration": 597,
        "start_time": "2023-03-29T20:48:17.768Z"
      },
      {
        "duration": 56,
        "start_time": "2023-03-30T18:13:17.543Z"
      },
      {
        "duration": 41,
        "start_time": "2023-03-30T18:22:55.760Z"
      },
      {
        "duration": 1365,
        "start_time": "2023-03-30T18:23:03.514Z"
      },
      {
        "duration": 750,
        "start_time": "2023-03-30T18:23:04.881Z"
      },
      {
        "duration": 66,
        "start_time": "2023-03-30T18:23:05.632Z"
      },
      {
        "duration": 86,
        "start_time": "2023-03-30T18:23:05.700Z"
      },
      {
        "duration": 81,
        "start_time": "2023-03-30T18:23:05.788Z"
      },
      {
        "duration": 109,
        "start_time": "2023-03-30T18:23:05.871Z"
      },
      {
        "duration": 54,
        "start_time": "2023-03-30T18:23:05.982Z"
      },
      {
        "duration": 82,
        "start_time": "2023-03-30T18:23:06.039Z"
      },
      {
        "duration": 12,
        "start_time": "2023-03-30T18:23:06.122Z"
      },
      {
        "duration": 27,
        "start_time": "2023-03-30T18:23:06.136Z"
      },
      {
        "duration": 3,
        "start_time": "2023-03-30T18:23:06.165Z"
      },
      {
        "duration": 11,
        "start_time": "2023-03-30T18:23:06.170Z"
      },
      {
        "duration": 335,
        "start_time": "2023-03-30T18:23:06.183Z"
      },
      {
        "duration": 579,
        "start_time": "2023-03-30T18:23:06.519Z"
      },
      {
        "duration": 36,
        "start_time": "2023-03-30T18:23:07.100Z"
      },
      {
        "duration": 32,
        "start_time": "2023-03-30T18:23:07.138Z"
      },
      {
        "duration": 5,
        "start_time": "2023-03-30T18:23:07.171Z"
      },
      {
        "duration": 23,
        "start_time": "2023-03-30T18:23:07.177Z"
      },
      {
        "duration": 76,
        "start_time": "2023-03-30T18:23:07.202Z"
      },
      {
        "duration": 104,
        "start_time": "2023-03-30T18:23:07.279Z"
      },
      {
        "duration": 25,
        "start_time": "2023-03-30T18:23:07.385Z"
      },
      {
        "duration": 7,
        "start_time": "2023-03-30T18:23:07.412Z"
      },
      {
        "duration": 113,
        "start_time": "2023-03-30T18:23:07.420Z"
      },
      {
        "duration": 59,
        "start_time": "2023-03-30T18:23:07.535Z"
      },
      {
        "duration": 12,
        "start_time": "2023-03-30T18:23:07.596Z"
      },
      {
        "duration": 11,
        "start_time": "2023-03-30T18:23:07.610Z"
      },
      {
        "duration": 39,
        "start_time": "2023-03-30T18:23:07.623Z"
      },
      {
        "duration": 44,
        "start_time": "2023-03-30T18:24:16.193Z"
      },
      {
        "duration": 41,
        "start_time": "2023-03-30T18:24:31.275Z"
      },
      {
        "duration": 45,
        "start_time": "2023-03-30T18:27:57.984Z"
      },
      {
        "duration": 260,
        "start_time": "2023-03-30T18:30:59.494Z"
      },
      {
        "duration": 301,
        "start_time": "2023-03-30T18:31:14.324Z"
      },
      {
        "duration": 287,
        "start_time": "2023-03-30T18:31:21.477Z"
      },
      {
        "duration": 274,
        "start_time": "2023-03-30T18:32:29.240Z"
      },
      {
        "duration": 297,
        "start_time": "2023-03-30T18:32:36.541Z"
      },
      {
        "duration": 392,
        "start_time": "2023-03-30T18:32:44.591Z"
      },
      {
        "duration": 275,
        "start_time": "2023-03-30T18:35:49.425Z"
      },
      {
        "duration": 282,
        "start_time": "2023-03-30T18:36:14.904Z"
      },
      {
        "duration": 290,
        "start_time": "2023-03-30T18:36:21.571Z"
      },
      {
        "duration": 327,
        "start_time": "2023-03-30T18:36:28.781Z"
      },
      {
        "duration": 286,
        "start_time": "2023-03-30T18:36:34.797Z"
      },
      {
        "duration": 45,
        "start_time": "2023-03-30T18:38:29.008Z"
      },
      {
        "duration": 8,
        "start_time": "2023-03-30T18:39:16.268Z"
      },
      {
        "duration": 7,
        "start_time": "2023-03-30T18:40:31.785Z"
      },
      {
        "duration": 54,
        "start_time": "2023-03-30T18:43:32.926Z"
      },
      {
        "duration": 43,
        "start_time": "2023-03-30T18:47:04.094Z"
      },
      {
        "duration": 45,
        "start_time": "2023-03-30T18:48:32.491Z"
      },
      {
        "duration": 25,
        "start_time": "2023-03-30T18:49:57.701Z"
      },
      {
        "duration": 44,
        "start_time": "2023-03-30T18:50:07.599Z"
      },
      {
        "duration": 16,
        "start_time": "2023-03-30T18:50:15.916Z"
      },
      {
        "duration": 17,
        "start_time": "2023-03-30T18:51:40.435Z"
      },
      {
        "duration": 50,
        "start_time": "2023-03-30T18:53:07.958Z"
      },
      {
        "duration": 4,
        "start_time": "2023-03-30T19:06:07.856Z"
      },
      {
        "duration": 10,
        "start_time": "2023-03-30T19:06:22.930Z"
      },
      {
        "duration": 11,
        "start_time": "2023-03-30T19:06:51.494Z"
      },
      {
        "duration": 1179,
        "start_time": "2023-03-30T19:06:58.643Z"
      },
      {
        "duration": 168,
        "start_time": "2023-03-30T19:06:59.824Z"
      },
      {
        "duration": 71,
        "start_time": "2023-03-30T19:06:59.994Z"
      },
      {
        "duration": 95,
        "start_time": "2023-03-30T19:07:00.068Z"
      },
      {
        "duration": 79,
        "start_time": "2023-03-30T19:07:00.165Z"
      },
      {
        "duration": 159,
        "start_time": "2023-03-30T19:07:00.246Z"
      },
      {
        "duration": 57,
        "start_time": "2023-03-30T19:07:00.407Z"
      },
      {
        "duration": 52,
        "start_time": "2023-03-30T19:07:00.466Z"
      },
      {
        "duration": 12,
        "start_time": "2023-03-30T19:07:00.520Z"
      },
      {
        "duration": 29,
        "start_time": "2023-03-30T19:07:00.535Z"
      },
      {
        "duration": 27,
        "start_time": "2023-03-30T19:07:00.565Z"
      },
      {
        "duration": 321,
        "start_time": "2023-03-30T19:07:00.593Z"
      },
      {
        "duration": 8,
        "start_time": "2023-03-30T19:07:00.916Z"
      },
      {
        "duration": 38,
        "start_time": "2023-03-30T19:07:00.926Z"
      },
      {
        "duration": 47,
        "start_time": "2023-03-30T19:07:00.966Z"
      },
      {
        "duration": 358,
        "start_time": "2023-03-30T19:07:01.015Z"
      },
      {
        "duration": 697,
        "start_time": "2023-03-30T19:07:01.375Z"
      },
      {
        "duration": 39,
        "start_time": "2023-03-30T19:07:02.074Z"
      },
      {
        "duration": 26,
        "start_time": "2023-03-30T19:07:02.115Z"
      },
      {
        "duration": 20,
        "start_time": "2023-03-30T19:07:02.143Z"
      },
      {
        "duration": 45,
        "start_time": "2023-03-30T19:07:02.165Z"
      },
      {
        "duration": 74,
        "start_time": "2023-03-30T19:07:02.212Z"
      },
      {
        "duration": 10,
        "start_time": "2023-03-30T19:07:02.287Z"
      },
      {
        "duration": 26,
        "start_time": "2023-03-30T19:07:02.299Z"
      },
      {
        "duration": 67,
        "start_time": "2023-03-30T19:07:02.327Z"
      },
      {
        "duration": 7,
        "start_time": "2023-03-30T19:07:02.395Z"
      },
      {
        "duration": 95,
        "start_time": "2023-03-30T19:07:02.403Z"
      },
      {
        "duration": 43,
        "start_time": "2023-03-30T19:07:02.501Z"
      },
      {
        "duration": 26,
        "start_time": "2023-03-30T19:07:02.545Z"
      },
      {
        "duration": 14,
        "start_time": "2023-03-30T19:07:02.573Z"
      },
      {
        "duration": 12,
        "start_time": "2023-03-30T19:07:02.588Z"
      },
      {
        "duration": 13,
        "start_time": "2023-03-30T19:07:35.996Z"
      },
      {
        "duration": 12,
        "start_time": "2023-03-30T19:07:49.580Z"
      },
      {
        "duration": 72,
        "start_time": "2023-03-30T19:08:51.081Z"
      },
      {
        "duration": 62,
        "start_time": "2023-03-30T19:08:57.409Z"
      },
      {
        "duration": 16,
        "start_time": "2023-03-30T19:09:15.179Z"
      },
      {
        "duration": 830,
        "start_time": "2023-03-30T19:10:17.529Z"
      },
      {
        "duration": 706,
        "start_time": "2023-03-30T19:11:02.051Z"
      },
      {
        "duration": 787,
        "start_time": "2023-03-30T19:11:21.916Z"
      },
      {
        "duration": 8,
        "start_time": "2023-03-30T19:16:12.239Z"
      },
      {
        "duration": 87,
        "start_time": "2023-03-30T19:17:41.368Z"
      },
      {
        "duration": 158,
        "start_time": "2023-03-30T19:17:53.835Z"
      },
      {
        "duration": 43,
        "start_time": "2023-03-30T19:19:10.605Z"
      },
      {
        "duration": 31,
        "start_time": "2023-03-30T19:21:50.261Z"
      },
      {
        "duration": 30,
        "start_time": "2023-03-30T19:22:04.525Z"
      },
      {
        "duration": 44,
        "start_time": "2023-03-30T19:52:01.824Z"
      },
      {
        "duration": 46,
        "start_time": "2023-03-30T19:55:53.435Z"
      },
      {
        "duration": 51,
        "start_time": "2023-03-30T19:56:31.751Z"
      },
      {
        "duration": 10,
        "start_time": "2023-03-30T19:56:45.660Z"
      },
      {
        "duration": 11,
        "start_time": "2023-03-30T19:56:50.436Z"
      },
      {
        "duration": 12,
        "start_time": "2023-03-30T19:56:54.804Z"
      },
      {
        "duration": 49,
        "start_time": "2023-03-30T20:17:44.057Z"
      },
      {
        "duration": 1474,
        "start_time": "2023-03-31T13:03:20.398Z"
      },
      {
        "duration": 253,
        "start_time": "2023-03-31T13:03:21.874Z"
      },
      {
        "duration": 69,
        "start_time": "2023-03-31T13:03:22.130Z"
      },
      {
        "duration": 90,
        "start_time": "2023-03-31T13:03:22.201Z"
      },
      {
        "duration": 95,
        "start_time": "2023-03-31T13:03:22.296Z"
      },
      {
        "duration": 152,
        "start_time": "2023-03-31T13:03:22.393Z"
      },
      {
        "duration": 68,
        "start_time": "2023-03-31T13:03:22.547Z"
      },
      {
        "duration": 100,
        "start_time": "2023-03-31T13:03:22.620Z"
      },
      {
        "duration": 20,
        "start_time": "2023-03-31T13:03:22.723Z"
      },
      {
        "duration": 61,
        "start_time": "2023-03-31T13:03:22.746Z"
      },
      {
        "duration": 10,
        "start_time": "2023-03-31T13:03:22.817Z"
      },
      {
        "duration": 393,
        "start_time": "2023-03-31T13:03:22.833Z"
      },
      {
        "duration": 23,
        "start_time": "2023-03-31T13:03:23.228Z"
      },
      {
        "duration": 22,
        "start_time": "2023-03-31T13:03:23.258Z"
      },
      {
        "duration": 24,
        "start_time": "2023-03-31T13:03:23.285Z"
      },
      {
        "duration": 406,
        "start_time": "2023-03-31T13:03:23.317Z"
      },
      {
        "duration": 923,
        "start_time": "2023-03-31T13:03:23.735Z"
      },
      {
        "duration": 66,
        "start_time": "2023-03-31T13:03:24.661Z"
      },
      {
        "duration": 23,
        "start_time": "2023-03-31T13:03:24.732Z"
      },
      {
        "duration": 34,
        "start_time": "2023-03-31T13:03:24.760Z"
      },
      {
        "duration": 49,
        "start_time": "2023-03-31T13:03:24.798Z"
      },
      {
        "duration": 80,
        "start_time": "2023-03-31T13:03:24.849Z"
      },
      {
        "duration": 26,
        "start_time": "2023-03-31T13:03:24.931Z"
      },
      {
        "duration": 466,
        "start_time": "2023-03-31T13:03:24.959Z"
      },
      {
        "duration": 68,
        "start_time": "2023-03-31T13:03:25.427Z"
      },
      {
        "duration": 97,
        "start_time": "2023-03-31T13:03:25.496Z"
      },
      {
        "duration": 127,
        "start_time": "2023-03-31T13:03:25.604Z"
      },
      {
        "duration": 53,
        "start_time": "2023-03-31T13:03:25.734Z"
      },
      {
        "duration": 46,
        "start_time": "2023-03-31T13:03:25.791Z"
      },
      {
        "duration": 11,
        "start_time": "2023-03-31T13:03:25.843Z"
      },
      {
        "duration": 65,
        "start_time": "2023-03-31T13:03:25.856Z"
      },
      {
        "duration": 1548,
        "start_time": "2023-04-03T06:18:20.708Z"
      },
      {
        "duration": 1071,
        "start_time": "2023-04-03T06:18:22.259Z"
      },
      {
        "duration": 64,
        "start_time": "2023-04-03T06:18:23.332Z"
      },
      {
        "duration": 89,
        "start_time": "2023-04-03T06:18:23.398Z"
      },
      {
        "duration": 89,
        "start_time": "2023-04-03T06:18:23.489Z"
      },
      {
        "duration": 114,
        "start_time": "2023-04-03T06:18:23.580Z"
      },
      {
        "duration": 64,
        "start_time": "2023-04-03T06:18:23.696Z"
      },
      {
        "duration": 58,
        "start_time": "2023-04-03T06:18:23.762Z"
      },
      {
        "duration": 14,
        "start_time": "2023-04-03T06:18:23.822Z"
      },
      {
        "duration": 26,
        "start_time": "2023-04-03T06:18:23.839Z"
      },
      {
        "duration": 10,
        "start_time": "2023-04-03T06:18:23.867Z"
      },
      {
        "duration": 298,
        "start_time": "2023-04-03T06:18:23.879Z"
      },
      {
        "duration": 8,
        "start_time": "2023-04-03T06:18:24.179Z"
      },
      {
        "duration": 8,
        "start_time": "2023-04-03T06:18:24.189Z"
      },
      {
        "duration": 25,
        "start_time": "2023-04-03T06:18:24.199Z"
      },
      {
        "duration": 315,
        "start_time": "2023-04-03T06:18:24.226Z"
      },
      {
        "duration": 689,
        "start_time": "2023-04-03T06:18:24.544Z"
      },
      {
        "duration": 45,
        "start_time": "2023-04-03T06:18:25.236Z"
      },
      {
        "duration": 37,
        "start_time": "2023-04-03T06:18:25.282Z"
      },
      {
        "duration": 5,
        "start_time": "2023-04-03T06:18:25.322Z"
      },
      {
        "duration": 47,
        "start_time": "2023-04-03T06:18:25.329Z"
      },
      {
        "duration": 92,
        "start_time": "2023-04-03T06:18:25.377Z"
      },
      {
        "duration": 24,
        "start_time": "2023-04-03T06:18:25.472Z"
      },
      {
        "duration": 210,
        "start_time": "2023-04-03T06:18:25.498Z"
      },
      {
        "duration": 35,
        "start_time": "2023-04-03T06:18:25.710Z"
      },
      {
        "duration": 83,
        "start_time": "2023-04-03T06:18:25.747Z"
      },
      {
        "duration": 128,
        "start_time": "2023-04-03T06:18:25.832Z"
      },
      {
        "duration": 54,
        "start_time": "2023-04-03T06:18:25.965Z"
      },
      {
        "duration": 11,
        "start_time": "2023-04-03T06:18:26.021Z"
      },
      {
        "duration": 31,
        "start_time": "2023-04-03T06:18:26.034Z"
      },
      {
        "duration": 28,
        "start_time": "2023-04-03T06:18:26.067Z"
      }
    ],
    "kernelspec": {
      "display_name": "Python 3 (ipykernel)",
      "language": "python",
      "name": "python3"
    },
    "language_info": {
      "codemirror_mode": {
        "name": "ipython",
        "version": 3
      },
      "file_extension": ".py",
      "mimetype": "text/x-python",
      "name": "python",
      "nbconvert_exporter": "python",
      "pygments_lexer": "ipython3",
      "version": "3.9.5"
    },
    "toc": {
      "base_numbering": 1,
      "nav_menu": {},
      "number_sections": false,
      "sideBar": true,
      "skip_h1_title": false,
      "title_cell": "Project №2",
      "title_sidebar": "Project №2",
      "toc_cell": true,
      "toc_position": {
        "height": "calc(100% - 180px)",
        "left": "10px",
        "top": "150px",
        "width": "225.355px"
      },
      "toc_section_display": true,
      "toc_window_display": true
    },
    "colab": {
      "provenance": []
    }
  },
  "nbformat": 4,
  "nbformat_minor": 0
}