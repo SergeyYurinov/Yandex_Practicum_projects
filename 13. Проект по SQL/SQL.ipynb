{
 "cells": [
  {
   "cell_type": "markdown",
   "metadata": {},
   "source": [
    " # Проект.\n",
    " <b>Описание проекта</b>\n",
    "\n",
    "Наша компания решила быть на волне и купила крупный сервис для чтения книг по подписке. Проанализируем базу данных.\n",
    "В ней — информация о книгах, издательствах, авторах, а также пользовательские обзоры книг. С помощью этих данных сформулируем ценностное предложение для нового продукта."
   ]
  },
  {
   "cell_type": "markdown",
   "metadata": {},
   "source": [
    "## Шаг. Откроем файлы с данными и изучим общую информацию."
   ]
  },
  {
   "cell_type": "code",
   "execution_count": 1,
   "metadata": {},
   "outputs": [
    {
     "data": {
      "text/html": [
       "<div>\n",
       "<style scoped>\n",
       "    .dataframe tbody tr th:only-of-type {\n",
       "        vertical-align: middle;\n",
       "    }\n",
       "\n",
       "    .dataframe tbody tr th {\n",
       "        vertical-align: top;\n",
       "    }\n",
       "\n",
       "    .dataframe thead th {\n",
       "        text-align: right;\n",
       "    }\n",
       "</style>\n",
       "<table border=\"1\" class=\"dataframe\">\n",
       "  <thead>\n",
       "    <tr style=\"text-align: right;\">\n",
       "      <th></th>\n",
       "      <th>book_id</th>\n",
       "      <th>author_id</th>\n",
       "      <th>title</th>\n",
       "      <th>num_pages</th>\n",
       "      <th>publication_date</th>\n",
       "      <th>publisher_id</th>\n",
       "    </tr>\n",
       "  </thead>\n",
       "  <tbody>\n",
       "    <tr>\n",
       "      <th>0</th>\n",
       "      <td>1</td>\n",
       "      <td>546</td>\n",
       "      <td>'Salem's Lot</td>\n",
       "      <td>594</td>\n",
       "      <td>2005-11-01</td>\n",
       "      <td>93</td>\n",
       "    </tr>\n",
       "    <tr>\n",
       "      <th>1</th>\n",
       "      <td>2</td>\n",
       "      <td>465</td>\n",
       "      <td>1 000 Places to See Before You Die</td>\n",
       "      <td>992</td>\n",
       "      <td>2003-05-22</td>\n",
       "      <td>336</td>\n",
       "    </tr>\n",
       "    <tr>\n",
       "      <th>2</th>\n",
       "      <td>3</td>\n",
       "      <td>407</td>\n",
       "      <td>13 Little Blue Envelopes (Little Blue Envelope...</td>\n",
       "      <td>322</td>\n",
       "      <td>2010-12-21</td>\n",
       "      <td>135</td>\n",
       "    </tr>\n",
       "    <tr>\n",
       "      <th>3</th>\n",
       "      <td>4</td>\n",
       "      <td>82</td>\n",
       "      <td>1491: New Revelations of the Americas Before C...</td>\n",
       "      <td>541</td>\n",
       "      <td>2006-10-10</td>\n",
       "      <td>309</td>\n",
       "    </tr>\n",
       "    <tr>\n",
       "      <th>4</th>\n",
       "      <td>5</td>\n",
       "      <td>125</td>\n",
       "      <td>1776</td>\n",
       "      <td>386</td>\n",
       "      <td>2006-07-04</td>\n",
       "      <td>268</td>\n",
       "    </tr>\n",
       "  </tbody>\n",
       "</table>\n",
       "</div>"
      ],
      "text/plain": [
       "   book_id  author_id                                              title  \\\n",
       "0        1        546                                       'Salem's Lot   \n",
       "1        2        465                 1 000 Places to See Before You Die   \n",
       "2        3        407  13 Little Blue Envelopes (Little Blue Envelope...   \n",
       "3        4         82  1491: New Revelations of the Americas Before C...   \n",
       "4        5        125                                               1776   \n",
       "\n",
       "   num_pages publication_date  publisher_id  \n",
       "0        594       2005-11-01            93  \n",
       "1        992       2003-05-22           336  \n",
       "2        322       2010-12-21           135  \n",
       "3        541       2006-10-10           309  \n",
       "4        386       2006-07-04           268  "
      ]
     },
     "execution_count": 1,
     "metadata": {},
     "output_type": "execute_result"
    }
   ],
   "source": [
    "# импортируем библиотеки\n",
    "import pandas as pd\n",
    "from sqlalchemy import text, create_engine\n",
    "# устанавливаем параметры\n",
    "db_config = {'user': 'praktikum_student', # имя пользователя\n",
    "'pwd': 'Sdf4$2;d-d30pp', # пароль\n",
    "'host': 'rc1b-wcoijxj3yxfsf3fs.mdb.yandexcloud.net',\n",
    "'port': 6432, # порт подключения\n",
    "'db': 'data-analyst-final-project-db'} # название базы данных\n",
    "connection_string = 'postgresql://{user}:{pwd}@{host}:{port}/{db}'.format(**db_config)\n",
    "# сохраняем коннектор\n",
    "engine = create_engine(connection_string, connect_args={'sslmode':'require'})\n",
    "# чтобы выполнить SQL-запрос, используем Pandas\n",
    "books = '''SELECT * FROM books LIMIT 5'''\n",
    "con=engine.connect()\n",
    "pd.io.sql.read_sql(sql=text(books), con = con)"
   ]
  },
  {
   "cell_type": "code",
   "execution_count": 2,
   "metadata": {},
   "outputs": [
    {
     "data": {
      "text/html": [
       "<div>\n",
       "<style scoped>\n",
       "    .dataframe tbody tr th:only-of-type {\n",
       "        vertical-align: middle;\n",
       "    }\n",
       "\n",
       "    .dataframe tbody tr th {\n",
       "        vertical-align: top;\n",
       "    }\n",
       "\n",
       "    .dataframe thead th {\n",
       "        text-align: right;\n",
       "    }\n",
       "</style>\n",
       "<table border=\"1\" class=\"dataframe\">\n",
       "  <thead>\n",
       "    <tr style=\"text-align: right;\">\n",
       "      <th></th>\n",
       "      <th>author_id</th>\n",
       "      <th>author</th>\n",
       "    </tr>\n",
       "  </thead>\n",
       "  <tbody>\n",
       "    <tr>\n",
       "      <th>0</th>\n",
       "      <td>1</td>\n",
       "      <td>A.S. Byatt</td>\n",
       "    </tr>\n",
       "    <tr>\n",
       "      <th>1</th>\n",
       "      <td>2</td>\n",
       "      <td>Aesop/Laura Harris/Laura Gibbs</td>\n",
       "    </tr>\n",
       "    <tr>\n",
       "      <th>2</th>\n",
       "      <td>3</td>\n",
       "      <td>Agatha Christie</td>\n",
       "    </tr>\n",
       "    <tr>\n",
       "      <th>3</th>\n",
       "      <td>4</td>\n",
       "      <td>Alan Brennert</td>\n",
       "    </tr>\n",
       "    <tr>\n",
       "      <th>4</th>\n",
       "      <td>5</td>\n",
       "      <td>Alan Moore/David   Lloyd</td>\n",
       "    </tr>\n",
       "  </tbody>\n",
       "</table>\n",
       "</div>"
      ],
      "text/plain": [
       "   author_id                          author\n",
       "0          1                      A.S. Byatt\n",
       "1          2  Aesop/Laura Harris/Laura Gibbs\n",
       "2          3                 Agatha Christie\n",
       "3          4                   Alan Brennert\n",
       "4          5        Alan Moore/David   Lloyd"
      ]
     },
     "execution_count": 2,
     "metadata": {},
     "output_type": "execute_result"
    }
   ],
   "source": [
    "authors = '''SELECT * FROM authors LIMIT 5'''\n",
    "pd.io.sql.read_sql(sql=text(authors), con = con)"
   ]
  },
  {
   "cell_type": "code",
   "execution_count": 3,
   "metadata": {},
   "outputs": [
    {
     "data": {
      "text/html": [
       "<div>\n",
       "<style scoped>\n",
       "    .dataframe tbody tr th:only-of-type {\n",
       "        vertical-align: middle;\n",
       "    }\n",
       "\n",
       "    .dataframe tbody tr th {\n",
       "        vertical-align: top;\n",
       "    }\n",
       "\n",
       "    .dataframe thead th {\n",
       "        text-align: right;\n",
       "    }\n",
       "</style>\n",
       "<table border=\"1\" class=\"dataframe\">\n",
       "  <thead>\n",
       "    <tr style=\"text-align: right;\">\n",
       "      <th></th>\n",
       "      <th>publisher_id</th>\n",
       "      <th>publisher</th>\n",
       "    </tr>\n",
       "  </thead>\n",
       "  <tbody>\n",
       "    <tr>\n",
       "      <th>0</th>\n",
       "      <td>1</td>\n",
       "      <td>Ace</td>\n",
       "    </tr>\n",
       "    <tr>\n",
       "      <th>1</th>\n",
       "      <td>2</td>\n",
       "      <td>Ace Book</td>\n",
       "    </tr>\n",
       "    <tr>\n",
       "      <th>2</th>\n",
       "      <td>3</td>\n",
       "      <td>Ace Books</td>\n",
       "    </tr>\n",
       "    <tr>\n",
       "      <th>3</th>\n",
       "      <td>4</td>\n",
       "      <td>Ace Hardcover</td>\n",
       "    </tr>\n",
       "    <tr>\n",
       "      <th>4</th>\n",
       "      <td>5</td>\n",
       "      <td>Addison Wesley Publishing Company</td>\n",
       "    </tr>\n",
       "  </tbody>\n",
       "</table>\n",
       "</div>"
      ],
      "text/plain": [
       "   publisher_id                          publisher\n",
       "0             1                                Ace\n",
       "1             2                           Ace Book\n",
       "2             3                          Ace Books\n",
       "3             4                      Ace Hardcover\n",
       "4             5  Addison Wesley Publishing Company"
      ]
     },
     "execution_count": 3,
     "metadata": {},
     "output_type": "execute_result"
    }
   ],
   "source": [
    "publishers = '''SELECT * FROM publishers LIMIT 5'''\n",
    "pd.io.sql.read_sql(sql=text(publishers), con = con)"
   ]
  },
  {
   "cell_type": "code",
   "execution_count": 4,
   "metadata": {},
   "outputs": [
    {
     "data": {
      "text/html": [
       "<div>\n",
       "<style scoped>\n",
       "    .dataframe tbody tr th:only-of-type {\n",
       "        vertical-align: middle;\n",
       "    }\n",
       "\n",
       "    .dataframe tbody tr th {\n",
       "        vertical-align: top;\n",
       "    }\n",
       "\n",
       "    .dataframe thead th {\n",
       "        text-align: right;\n",
       "    }\n",
       "</style>\n",
       "<table border=\"1\" class=\"dataframe\">\n",
       "  <thead>\n",
       "    <tr style=\"text-align: right;\">\n",
       "      <th></th>\n",
       "      <th>rating_id</th>\n",
       "      <th>book_id</th>\n",
       "      <th>username</th>\n",
       "      <th>rating</th>\n",
       "    </tr>\n",
       "  </thead>\n",
       "  <tbody>\n",
       "    <tr>\n",
       "      <th>0</th>\n",
       "      <td>1</td>\n",
       "      <td>1</td>\n",
       "      <td>ryanfranco</td>\n",
       "      <td>4</td>\n",
       "    </tr>\n",
       "    <tr>\n",
       "      <th>1</th>\n",
       "      <td>2</td>\n",
       "      <td>1</td>\n",
       "      <td>grantpatricia</td>\n",
       "      <td>2</td>\n",
       "    </tr>\n",
       "    <tr>\n",
       "      <th>2</th>\n",
       "      <td>3</td>\n",
       "      <td>1</td>\n",
       "      <td>brandtandrea</td>\n",
       "      <td>5</td>\n",
       "    </tr>\n",
       "    <tr>\n",
       "      <th>3</th>\n",
       "      <td>4</td>\n",
       "      <td>2</td>\n",
       "      <td>lorichen</td>\n",
       "      <td>3</td>\n",
       "    </tr>\n",
       "    <tr>\n",
       "      <th>4</th>\n",
       "      <td>5</td>\n",
       "      <td>2</td>\n",
       "      <td>mariokeller</td>\n",
       "      <td>2</td>\n",
       "    </tr>\n",
       "  </tbody>\n",
       "</table>\n",
       "</div>"
      ],
      "text/plain": [
       "   rating_id  book_id       username  rating\n",
       "0          1        1     ryanfranco       4\n",
       "1          2        1  grantpatricia       2\n",
       "2          3        1   brandtandrea       5\n",
       "3          4        2       lorichen       3\n",
       "4          5        2    mariokeller       2"
      ]
     },
     "execution_count": 4,
     "metadata": {},
     "output_type": "execute_result"
    }
   ],
   "source": [
    "ratings = '''SELECT * FROM ratings LIMIT 5'''\n",
    "pd.io.sql.read_sql(sql=text(ratings), con = con)"
   ]
  },
  {
   "cell_type": "code",
   "execution_count": 5,
   "metadata": {},
   "outputs": [
    {
     "data": {
      "text/html": [
       "<div>\n",
       "<style scoped>\n",
       "    .dataframe tbody tr th:only-of-type {\n",
       "        vertical-align: middle;\n",
       "    }\n",
       "\n",
       "    .dataframe tbody tr th {\n",
       "        vertical-align: top;\n",
       "    }\n",
       "\n",
       "    .dataframe thead th {\n",
       "        text-align: right;\n",
       "    }\n",
       "</style>\n",
       "<table border=\"1\" class=\"dataframe\">\n",
       "  <thead>\n",
       "    <tr style=\"text-align: right;\">\n",
       "      <th></th>\n",
       "      <th>review_id</th>\n",
       "      <th>book_id</th>\n",
       "      <th>username</th>\n",
       "      <th>text</th>\n",
       "    </tr>\n",
       "  </thead>\n",
       "  <tbody>\n",
       "    <tr>\n",
       "      <th>0</th>\n",
       "      <td>1</td>\n",
       "      <td>1</td>\n",
       "      <td>brandtandrea</td>\n",
       "      <td>Mention society tell send professor analysis. ...</td>\n",
       "    </tr>\n",
       "    <tr>\n",
       "      <th>1</th>\n",
       "      <td>2</td>\n",
       "      <td>1</td>\n",
       "      <td>ryanfranco</td>\n",
       "      <td>Foot glass pretty audience hit themselves. Amo...</td>\n",
       "    </tr>\n",
       "    <tr>\n",
       "      <th>2</th>\n",
       "      <td>3</td>\n",
       "      <td>2</td>\n",
       "      <td>lorichen</td>\n",
       "      <td>Listen treat keep worry. Miss husband tax but ...</td>\n",
       "    </tr>\n",
       "    <tr>\n",
       "      <th>3</th>\n",
       "      <td>4</td>\n",
       "      <td>3</td>\n",
       "      <td>johnsonamanda</td>\n",
       "      <td>Finally month interesting blue could nature cu...</td>\n",
       "    </tr>\n",
       "    <tr>\n",
       "      <th>4</th>\n",
       "      <td>5</td>\n",
       "      <td>3</td>\n",
       "      <td>scotttamara</td>\n",
       "      <td>Nation purpose heavy give wait song will. List...</td>\n",
       "    </tr>\n",
       "  </tbody>\n",
       "</table>\n",
       "</div>"
      ],
      "text/plain": [
       "   review_id  book_id       username  \\\n",
       "0          1        1   brandtandrea   \n",
       "1          2        1     ryanfranco   \n",
       "2          3        2       lorichen   \n",
       "3          4        3  johnsonamanda   \n",
       "4          5        3    scotttamara   \n",
       "\n",
       "                                                text  \n",
       "0  Mention society tell send professor analysis. ...  \n",
       "1  Foot glass pretty audience hit themselves. Amo...  \n",
       "2  Listen treat keep worry. Miss husband tax but ...  \n",
       "3  Finally month interesting blue could nature cu...  \n",
       "4  Nation purpose heavy give wait song will. List...  "
      ]
     },
     "execution_count": 5,
     "metadata": {},
     "output_type": "execute_result"
    }
   ],
   "source": [
    "reviews = '''SELECT * FROM reviews LIMIT 5'''\n",
    "pd.io.sql.read_sql(sql=text(reviews), con = con)"
   ]
  },
  {
   "cell_type": "markdown",
   "metadata": {},
   "source": [
    "## Шаг. Посчитаем, сколько книг вышло после 1 января 2000 года;"
   ]
  },
  {
   "cell_type": "code",
   "execution_count": 6,
   "metadata": {},
   "outputs": [
    {
     "data": {
      "text/html": [
       "<div>\n",
       "<style scoped>\n",
       "    .dataframe tbody tr th:only-of-type {\n",
       "        vertical-align: middle;\n",
       "    }\n",
       "\n",
       "    .dataframe tbody tr th {\n",
       "        vertical-align: top;\n",
       "    }\n",
       "\n",
       "    .dataframe thead th {\n",
       "        text-align: right;\n",
       "    }\n",
       "</style>\n",
       "<table border=\"1\" class=\"dataframe\">\n",
       "  <thead>\n",
       "    <tr style=\"text-align: right;\">\n",
       "      <th></th>\n",
       "      <th>total_books</th>\n",
       "    </tr>\n",
       "  </thead>\n",
       "  <tbody>\n",
       "    <tr>\n",
       "      <th>0</th>\n",
       "      <td>819</td>\n",
       "    </tr>\n",
       "  </tbody>\n",
       "</table>\n",
       "</div>"
      ],
      "text/plain": [
       "   total_books\n",
       "0          819"
      ]
     },
     "execution_count": 6,
     "metadata": {},
     "output_type": "execute_result"
    }
   ],
   "source": [
    "total_books = '''\n",
    "    SELECT COUNT(*) AS total_books\n",
    "    FROM books\n",
    "    WHERE publication_date > '2000-01-01'\n",
    "'''\n",
    "\n",
    "pd.io.sql.read_sql(sql=text(total_books), con = con)"
   ]
  },
  {
   "cell_type": "markdown",
   "metadata": {},
   "source": [
    "**Вывод**\n",
    "\n",
    "819 книг вышло после 1 января 2000 года."
   ]
  },
  {
   "cell_type": "markdown",
   "metadata": {},
   "source": [
    "## Шаг. Для каждой книги посчитаем количество обзоров и среднюю оценку;"
   ]
  },
  {
   "cell_type": "code",
   "execution_count": 7,
   "metadata": {},
   "outputs": [
    {
     "data": {
      "text/html": [
       "<div>\n",
       "<style scoped>\n",
       "    .dataframe tbody tr th:only-of-type {\n",
       "        vertical-align: middle;\n",
       "    }\n",
       "\n",
       "    .dataframe tbody tr th {\n",
       "        vertical-align: top;\n",
       "    }\n",
       "\n",
       "    .dataframe thead th {\n",
       "        text-align: right;\n",
       "    }\n",
       "</style>\n",
       "<table border=\"1\" class=\"dataframe\">\n",
       "  <thead>\n",
       "    <tr style=\"text-align: right;\">\n",
       "      <th></th>\n",
       "      <th>book_id</th>\n",
       "      <th>title</th>\n",
       "      <th>review_count</th>\n",
       "      <th>average_rating</th>\n",
       "    </tr>\n",
       "  </thead>\n",
       "  <tbody>\n",
       "    <tr>\n",
       "      <th>0</th>\n",
       "      <td>652</td>\n",
       "      <td>The Body in the Library (Miss Marple  #3)</td>\n",
       "      <td>4</td>\n",
       "      <td>4.500000</td>\n",
       "    </tr>\n",
       "    <tr>\n",
       "      <th>1</th>\n",
       "      <td>273</td>\n",
       "      <td>Galápagos</td>\n",
       "      <td>4</td>\n",
       "      <td>4.500000</td>\n",
       "    </tr>\n",
       "    <tr>\n",
       "      <th>2</th>\n",
       "      <td>51</td>\n",
       "      <td>A Tree Grows in Brooklyn</td>\n",
       "      <td>60</td>\n",
       "      <td>4.250000</td>\n",
       "    </tr>\n",
       "    <tr>\n",
       "      <th>3</th>\n",
       "      <td>951</td>\n",
       "      <td>Undaunted Courage: The Pioneering First Missio...</td>\n",
       "      <td>4</td>\n",
       "      <td>4.000000</td>\n",
       "    </tr>\n",
       "    <tr>\n",
       "      <th>4</th>\n",
       "      <td>839</td>\n",
       "      <td>The Prophet</td>\n",
       "      <td>28</td>\n",
       "      <td>4.285714</td>\n",
       "    </tr>\n",
       "    <tr>\n",
       "      <th>...</th>\n",
       "      <td>...</td>\n",
       "      <td>...</td>\n",
       "      <td>...</td>\n",
       "      <td>...</td>\n",
       "    </tr>\n",
       "    <tr>\n",
       "      <th>995</th>\n",
       "      <td>64</td>\n",
       "      <td>Alice in Wonderland</td>\n",
       "      <td>52</td>\n",
       "      <td>4.230769</td>\n",
       "    </tr>\n",
       "    <tr>\n",
       "      <th>996</th>\n",
       "      <td>55</td>\n",
       "      <td>A Woman of Substance (Emma Harte Saga #1)</td>\n",
       "      <td>4</td>\n",
       "      <td>5.000000</td>\n",
       "    </tr>\n",
       "    <tr>\n",
       "      <th>997</th>\n",
       "      <td>148</td>\n",
       "      <td>Christine</td>\n",
       "      <td>21</td>\n",
       "      <td>3.428571</td>\n",
       "    </tr>\n",
       "    <tr>\n",
       "      <th>998</th>\n",
       "      <td>790</td>\n",
       "      <td>The Magicians' Guild (Black Magician Trilogy  #1)</td>\n",
       "      <td>4</td>\n",
       "      <td>3.500000</td>\n",
       "    </tr>\n",
       "    <tr>\n",
       "      <th>999</th>\n",
       "      <td>828</td>\n",
       "      <td>The Plot Against America</td>\n",
       "      <td>4</td>\n",
       "      <td>3.000000</td>\n",
       "    </tr>\n",
       "  </tbody>\n",
       "</table>\n",
       "<p>1000 rows × 4 columns</p>\n",
       "</div>"
      ],
      "text/plain": [
       "     book_id                                              title  review_count  \\\n",
       "0        652          The Body in the Library (Miss Marple  #3)             4   \n",
       "1        273                                          Galápagos             4   \n",
       "2         51                           A Tree Grows in Brooklyn            60   \n",
       "3        951  Undaunted Courage: The Pioneering First Missio...             4   \n",
       "4        839                                        The Prophet            28   \n",
       "..       ...                                                ...           ...   \n",
       "995       64                                Alice in Wonderland            52   \n",
       "996       55          A Woman of Substance (Emma Harte Saga #1)             4   \n",
       "997      148                                          Christine            21   \n",
       "998      790  The Magicians' Guild (Black Magician Trilogy  #1)             4   \n",
       "999      828                           The Plot Against America             4   \n",
       "\n",
       "     average_rating  \n",
       "0          4.500000  \n",
       "1          4.500000  \n",
       "2          4.250000  \n",
       "3          4.000000  \n",
       "4          4.285714  \n",
       "..              ...  \n",
       "995        4.230769  \n",
       "996        5.000000  \n",
       "997        3.428571  \n",
       "998        3.500000  \n",
       "999        3.000000  \n",
       "\n",
       "[1000 rows x 4 columns]"
      ]
     },
     "execution_count": 7,
     "metadata": {},
     "output_type": "execute_result"
    }
   ],
   "source": [
    "reviews = '''\n",
    "SELECT\n",
    "    b.book_id,\n",
    "    b.title,\n",
    "    COUNT(r.review_id) AS review_count,\n",
    "    AVG(rt.rating) AS average_rating\n",
    "FROM\n",
    "    books b\n",
    "LEFT JOIN\n",
    "    reviews r ON b.book_id = r.book_id\n",
    "LEFT JOIN\n",
    "    ratings rt ON b.book_id = rt.book_id\n",
    "GROUP BY\n",
    "    b.book_id, b.title;\n",
    "'''\n",
    "pd.io.sql.read_sql(sql=text(reviews), con = con)"
   ]
  },
  {
   "cell_type": "markdown",
   "metadata": {},
   "source": [
    "**Вывод**\n",
    "\n",
    "Для 1000 книг посчитали количество обзоров и среднюю оценку."
   ]
  },
  {
   "cell_type": "markdown",
   "metadata": {},
   "source": [
    "## Шаг. Определим издательство, которое выпустило наибольшее число книг толще 50 страниц — так мы исключим из анализа брошюры;"
   ]
  },
  {
   "cell_type": "code",
   "execution_count": 8,
   "metadata": {},
   "outputs": [
    {
     "data": {
      "text/html": [
       "<div>\n",
       "<style scoped>\n",
       "    .dataframe tbody tr th:only-of-type {\n",
       "        vertical-align: middle;\n",
       "    }\n",
       "\n",
       "    .dataframe tbody tr th {\n",
       "        vertical-align: top;\n",
       "    }\n",
       "\n",
       "    .dataframe thead th {\n",
       "        text-align: right;\n",
       "    }\n",
       "</style>\n",
       "<table border=\"1\" class=\"dataframe\">\n",
       "  <thead>\n",
       "    <tr style=\"text-align: right;\">\n",
       "      <th></th>\n",
       "      <th>publisher_id</th>\n",
       "      <th>publisher</th>\n",
       "      <th>book_count</th>\n",
       "    </tr>\n",
       "  </thead>\n",
       "  <tbody>\n",
       "    <tr>\n",
       "      <th>0</th>\n",
       "      <td>212</td>\n",
       "      <td>Penguin Books</td>\n",
       "      <td>42</td>\n",
       "    </tr>\n",
       "  </tbody>\n",
       "</table>\n",
       "</div>"
      ],
      "text/plain": [
       "   publisher_id      publisher  book_count\n",
       "0           212  Penguin Books          42"
      ]
     },
     "execution_count": 8,
     "metadata": {},
     "output_type": "execute_result"
    }
   ],
   "source": [
    "publisher = '''\n",
    "SELECT\n",
    "    p.publisher_id,\n",
    "    p.publisher,\n",
    "    COUNT(b.book_id) AS book_count\n",
    "FROM\n",
    "    publishers p\n",
    "JOIN\n",
    "    books b ON p.publisher_id = b.publisher_id\n",
    "WHERE\n",
    "    b.num_pages > 50\n",
    "GROUP BY\n",
    "    p.publisher_id, p.publisher\n",
    "ORDER BY\n",
    "    book_count DESC\n",
    "LIMIT 1;\n",
    "'''\n",
    "pd.io.sql.read_sql(sql=text(publisher), con = con)"
   ]
  },
  {
   "cell_type": "markdown",
   "metadata": {},
   "source": [
    "**Вывод**\n",
    "\n",
    "Издательство Penguin Books наибольшее число книг толще 50 страниц. Оно выпустило 42 книги."
   ]
  },
  {
   "cell_type": "markdown",
   "metadata": {},
   "source": [
    "## Шаг. Определим автора с самой высокой средней оценкой книг — учитываем только книги с 50 и более оценками;"
   ]
  },
  {
   "cell_type": "code",
   "execution_count": 9,
   "metadata": {},
   "outputs": [
    {
     "data": {
      "text/html": [
       "<div>\n",
       "<style scoped>\n",
       "    .dataframe tbody tr th:only-of-type {\n",
       "        vertical-align: middle;\n",
       "    }\n",
       "\n",
       "    .dataframe tbody tr th {\n",
       "        vertical-align: top;\n",
       "    }\n",
       "\n",
       "    .dataframe thead th {\n",
       "        text-align: right;\n",
       "    }\n",
       "</style>\n",
       "<table border=\"1\" class=\"dataframe\">\n",
       "  <thead>\n",
       "    <tr style=\"text-align: right;\">\n",
       "      <th></th>\n",
       "      <th>author_id</th>\n",
       "      <th>author</th>\n",
       "      <th>average_rating</th>\n",
       "    </tr>\n",
       "  </thead>\n",
       "  <tbody>\n",
       "    <tr>\n",
       "      <th>0</th>\n",
       "      <td>236</td>\n",
       "      <td>J.K. Rowling/Mary GrandPré</td>\n",
       "      <td>4.283844</td>\n",
       "    </tr>\n",
       "  </tbody>\n",
       "</table>\n",
       "</div>"
      ],
      "text/plain": [
       "   author_id                      author  average_rating\n",
       "0        236  J.K. Rowling/Mary GrandPré        4.283844"
      ]
     },
     "execution_count": 9,
     "metadata": {},
     "output_type": "execute_result"
    }
   ],
   "source": [
    "author = '''\n",
    "SELECT\n",
    "    a.author_id,\n",
    "    a.author,\n",
    "    AVG(rating.rating) AS average_rating\n",
    "FROM\n",
    "    authors a\n",
    "JOIN\n",
    "    books b ON a.author_id = b.author_id\n",
    "JOIN\n",
    "    (\n",
    "        SELECT\n",
    "            book_id,\n",
    "            AVG(rating) AS rating\n",
    "        FROM\n",
    "            ratings\n",
    "        GROUP BY\n",
    "            book_id\n",
    "        HAVING\n",
    "            COUNT(*) >= 50\n",
    "    ) rating ON b.book_id = rating.book_id\n",
    "GROUP BY\n",
    "    a.author_id, a.author\n",
    "ORDER BY\n",
    "    average_rating DESC\n",
    "LIMIT 1;\n",
    "'''\n",
    "pd.io.sql.read_sql(sql=text(author), con = con)"
   ]
  },
  {
   "cell_type": "markdown",
   "metadata": {},
   "source": [
    "**Вывод**\n",
    "\n",
    "Автор с самой высокой средней оценкой книг, у которого книги с 50 и более оценками является J.K. Rowling/Mary GrandPré и средним рейтингом 4,28."
   ]
  },
  {
   "cell_type": "markdown",
   "metadata": {},
   "source": [
    "## Шаг. Посчитаем среднее количество обзоров от пользователей, которые поставили больше 48 оценок."
   ]
  },
  {
   "cell_type": "code",
   "execution_count": 10,
   "metadata": {},
   "outputs": [
    {
     "data": {
      "text/html": [
       "<div>\n",
       "<style scoped>\n",
       "    .dataframe tbody tr th:only-of-type {\n",
       "        vertical-align: middle;\n",
       "    }\n",
       "\n",
       "    .dataframe tbody tr th {\n",
       "        vertical-align: top;\n",
       "    }\n",
       "\n",
       "    .dataframe thead th {\n",
       "        text-align: right;\n",
       "    }\n",
       "</style>\n",
       "<table border=\"1\" class=\"dataframe\">\n",
       "  <thead>\n",
       "    <tr style=\"text-align: right;\">\n",
       "      <th></th>\n",
       "      <th>avg_reviews</th>\n",
       "    </tr>\n",
       "  </thead>\n",
       "  <tbody>\n",
       "    <tr>\n",
       "      <th>0</th>\n",
       "      <td>24.0</td>\n",
       "    </tr>\n",
       "  </tbody>\n",
       "</table>\n",
       "</div>"
      ],
      "text/plain": [
       "   avg_reviews\n",
       "0         24.0"
      ]
     },
     "execution_count": 10,
     "metadata": {},
     "output_type": "execute_result"
    }
   ],
   "source": [
    "review_count = '''\n",
    "WITH i AS (\n",
    "    SELECT\n",
    "        COUNT(reviews.review_id) AS reviews_count\n",
    "    FROM\n",
    "        reviews\n",
    "    WHERE\n",
    "        username IN (\n",
    "            SELECT\n",
    "                username\n",
    "            FROM\n",
    "                ratings\n",
    "            GROUP BY\n",
    "                username\n",
    "            HAVING\n",
    "                COUNT(rating_id) > 48\n",
    "        )\n",
    "    GROUP BY\n",
    "        username\n",
    ")\n",
    "\n",
    "SELECT\n",
    "    ROUND(AVG(i.reviews_count)) AS avg_reviews\n",
    "FROM\n",
    "    i\n",
    "'''\n",
    "pd.io.sql.read_sql(sql=text(review_count), con = con)"
   ]
  },
  {
   "cell_type": "markdown",
   "metadata": {},
   "source": [
    "**Вывод**\n",
    "\n",
    "В среднем 24 обзора от пользователей, которые поставили больше 48 оценок."
   ]
  }
 ],
 "metadata": {
  "ExecuteTimeLog": [
   {
    "duration": 7,
    "start_time": "2023-05-28T13:25:27.914Z"
   },
   {
    "duration": 69,
    "start_time": "2023-05-28T13:27:38.864Z"
   },
   {
    "duration": 37,
    "start_time": "2023-05-28T13:28:02.206Z"
   },
   {
    "duration": 37,
    "start_time": "2023-05-28T13:28:11.280Z"
   },
   {
    "duration": 38,
    "start_time": "2023-05-28T13:28:20.212Z"
   },
   {
    "duration": 8894,
    "start_time": "2023-05-28T13:30:11.397Z"
   },
   {
    "duration": 225,
    "start_time": "2023-05-28T13:31:56.100Z"
   },
   {
    "duration": 28,
    "start_time": "2023-05-28T13:32:46.306Z"
   },
   {
    "duration": 28,
    "start_time": "2023-05-28T13:33:13.793Z"
   },
   {
    "duration": 29,
    "start_time": "2023-05-28T13:33:37.396Z"
   },
   {
    "duration": 30,
    "start_time": "2023-05-28T13:34:12.168Z"
   },
   {
    "duration": 79,
    "start_time": "2023-05-28T13:42:22.089Z"
   },
   {
    "duration": 68,
    "start_time": "2023-05-28T13:46:46.407Z"
   },
   {
    "duration": 85,
    "start_time": "2023-05-28T13:47:39.617Z"
   },
   {
    "duration": 74,
    "start_time": "2023-05-28T13:48:12.510Z"
   },
   {
    "duration": 97,
    "start_time": "2023-05-28T13:48:27.776Z"
   },
   {
    "duration": 73,
    "start_time": "2023-05-28T13:49:19.107Z"
   },
   {
    "duration": 75,
    "start_time": "2023-05-28T13:50:14.274Z"
   },
   {
    "duration": 3,
    "start_time": "2023-05-28T13:53:54.764Z"
   },
   {
    "duration": 29,
    "start_time": "2023-05-28T13:53:58.556Z"
   },
   {
    "duration": 127,
    "start_time": "2023-05-28T13:59:44.985Z"
   },
   {
    "duration": 3,
    "start_time": "2023-05-28T14:00:12.660Z"
   },
   {
    "duration": 33,
    "start_time": "2023-05-28T14:00:26.905Z"
   },
   {
    "duration": 3,
    "start_time": "2023-05-28T14:00:36.294Z"
   },
   {
    "duration": 7,
    "start_time": "2023-05-28T14:02:47.496Z"
   },
   {
    "duration": 7,
    "start_time": "2023-05-28T14:04:23.376Z"
   },
   {
    "duration": 29,
    "start_time": "2023-05-28T14:05:41.385Z"
   },
   {
    "duration": 28,
    "start_time": "2023-05-28T14:07:54.606Z"
   },
   {
    "duration": 68,
    "start_time": "2023-05-28T14:12:20.082Z"
   },
   {
    "duration": 65,
    "start_time": "2023-05-28T14:14:05.606Z"
   },
   {
    "duration": 72,
    "start_time": "2023-05-28T14:17:37.381Z"
   },
   {
    "duration": 33,
    "start_time": "2023-05-28T14:19:24.319Z"
   },
   {
    "duration": 73,
    "start_time": "2023-05-28T14:21:21.472Z"
   },
   {
    "duration": 35,
    "start_time": "2023-05-28T14:22:50.232Z"
   },
   {
    "duration": 35,
    "start_time": "2023-05-28T14:28:03.117Z"
   },
   {
    "duration": 37,
    "start_time": "2023-05-28T14:32:03.475Z"
   },
   {
    "duration": 36,
    "start_time": "2023-05-28T14:33:47.167Z"
   },
   {
    "duration": 36,
    "start_time": "2023-05-28T14:37:02.984Z"
   },
   {
    "duration": 32,
    "start_time": "2023-05-28T14:39:35.664Z"
   },
   {
    "duration": 8304,
    "start_time": "2023-05-28T14:42:23.976Z"
   },
   {
    "duration": 28,
    "start_time": "2023-05-28T14:42:32.282Z"
   },
   {
    "duration": 30,
    "start_time": "2023-05-28T14:42:32.311Z"
   },
   {
    "duration": 31,
    "start_time": "2023-05-28T14:42:32.343Z"
   },
   {
    "duration": 30,
    "start_time": "2023-05-28T14:42:32.375Z"
   },
   {
    "duration": 28,
    "start_time": "2023-05-28T14:42:32.406Z"
   },
   {
    "duration": 64,
    "start_time": "2023-05-28T14:42:32.435Z"
   },
   {
    "duration": 29,
    "start_time": "2023-05-28T14:42:32.500Z"
   },
   {
    "duration": 31,
    "start_time": "2023-05-28T14:42:32.530Z"
   },
   {
    "duration": 30,
    "start_time": "2023-05-28T14:42:32.562Z"
   }
  ],
  "kernelspec": {
   "display_name": "Python 3 (ipykernel)",
   "language": "python",
   "name": "python3"
  },
  "language_info": {
   "codemirror_mode": {
    "name": "ipython",
    "version": 3
   },
   "file_extension": ".py",
   "mimetype": "text/x-python",
   "name": "python",
   "nbconvert_exporter": "python",
   "pygments_lexer": "ipython3",
   "version": "3.9.5"
  },
  "toc": {
   "base_numbering": 1,
   "nav_menu": {},
   "number_sections": true,
   "sideBar": true,
   "skip_h1_title": true,
   "title_cell": "Table of Contents",
   "title_sidebar": "Contents",
   "toc_cell": false,
   "toc_position": {},
   "toc_section_display": true,
   "toc_window_display": false
  }
 },
 "nbformat": 4,
 "nbformat_minor": 2
}
