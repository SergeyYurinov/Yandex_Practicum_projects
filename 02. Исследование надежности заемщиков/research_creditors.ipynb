{
  "cells": [
    {
      "cell_type": "markdown",
      "id": "80b669ec",
      "metadata": {
        "deletable": false,
        "editable": false,
        "id": "80b669ec"
      },
      "source": [
        "# Исследование надежности заемщиков\n"
      ]
    },
    {
      "cell_type": "markdown",
      "id": "4e203a0e",
      "metadata": {
        "deletable": false,
        "editable": false,
        "id": "4e203a0e"
      },
      "source": [
        "Во второй части проекта вы выполните шаги 3 и 4. Их вручную проверит ревьюер.\n",
        "Чтобы вам не пришлось писать код заново для шагов 1 и 2, мы добавили авторские решения в ячейки с кодом. \n",
        "\n"
      ]
    },
    {
      "cell_type": "markdown",
      "id": "95d805b8",
      "metadata": {
        "deletable": false,
        "editable": false,
        "id": "95d805b8"
      },
      "source": [
        "## Откройте таблицу и изучите общую информацию о данных"
      ]
    },
    {
      "cell_type": "markdown",
      "id": "32465bf2",
      "metadata": {
        "deletable": false,
        "editable": false,
        "id": "32465bf2"
      },
      "source": [
        "**Задание 1. Импортируйте библиотеку pandas. Считайте данные из csv-файла в датафрейм и сохраните в переменную `data`. Путь к файлу:**\n",
        "\n",
        "`/datasets/data.csv`"
      ]
    },
    {
      "cell_type": "code",
      "execution_count": null,
      "id": "09dcaf92",
      "metadata": {
        "deletable": false,
        "id": "09dcaf92"
      },
      "outputs": [],
      "source": [
        "import pandas as pd\n",
        "\n",
        "try:\n",
        "    data = pd.read_csv('/datasets/data.csv')\n",
        "except:\n",
        "    data = pd.read_csv('https://code.s3.yandex.net/datasets/data.csv')"
      ]
    },
    {
      "cell_type": "markdown",
      "id": "8a2db05a",
      "metadata": {
        "deletable": false,
        "editable": false,
        "id": "8a2db05a"
      },
      "source": [
        "**Задание 2. Выведите первые 20 строчек датафрейма `data` на экран.**"
      ]
    },
    {
      "cell_type": "code",
      "execution_count": null,
      "id": "05636035",
      "metadata": {
        "deletable": false,
        "id": "05636035",
        "outputId": "1a8f3ef2-d323-4ec2-ddf7-89670b5944c4"
      },
      "outputs": [
        {
          "data": {
            "text/html": [
              "<div>\n",
              "<style scoped>\n",
              "    .dataframe tbody tr th:only-of-type {\n",
              "        vertical-align: middle;\n",
              "    }\n",
              "\n",
              "    .dataframe tbody tr th {\n",
              "        vertical-align: top;\n",
              "    }\n",
              "\n",
              "    .dataframe thead th {\n",
              "        text-align: right;\n",
              "    }\n",
              "</style>\n",
              "<table border=\"1\" class=\"dataframe\">\n",
              "  <thead>\n",
              "    <tr style=\"text-align: right;\">\n",
              "      <th></th>\n",
              "      <th>children</th>\n",
              "      <th>days_employed</th>\n",
              "      <th>dob_years</th>\n",
              "      <th>education</th>\n",
              "      <th>education_id</th>\n",
              "      <th>family_status</th>\n",
              "      <th>family_status_id</th>\n",
              "      <th>gender</th>\n",
              "      <th>income_type</th>\n",
              "      <th>debt</th>\n",
              "      <th>total_income</th>\n",
              "      <th>purpose</th>\n",
              "    </tr>\n",
              "  </thead>\n",
              "  <tbody>\n",
              "    <tr>\n",
              "      <th>0</th>\n",
              "      <td>1</td>\n",
              "      <td>-8437.673028</td>\n",
              "      <td>42</td>\n",
              "      <td>высшее</td>\n",
              "      <td>0</td>\n",
              "      <td>женат / замужем</td>\n",
              "      <td>0</td>\n",
              "      <td>F</td>\n",
              "      <td>сотрудник</td>\n",
              "      <td>0</td>\n",
              "      <td>253875.639453</td>\n",
              "      <td>покупка жилья</td>\n",
              "    </tr>\n",
              "    <tr>\n",
              "      <th>1</th>\n",
              "      <td>1</td>\n",
              "      <td>-4024.803754</td>\n",
              "      <td>36</td>\n",
              "      <td>среднее</td>\n",
              "      <td>1</td>\n",
              "      <td>женат / замужем</td>\n",
              "      <td>0</td>\n",
              "      <td>F</td>\n",
              "      <td>сотрудник</td>\n",
              "      <td>0</td>\n",
              "      <td>112080.014102</td>\n",
              "      <td>приобретение автомобиля</td>\n",
              "    </tr>\n",
              "    <tr>\n",
              "      <th>2</th>\n",
              "      <td>0</td>\n",
              "      <td>-5623.422610</td>\n",
              "      <td>33</td>\n",
              "      <td>Среднее</td>\n",
              "      <td>1</td>\n",
              "      <td>женат / замужем</td>\n",
              "      <td>0</td>\n",
              "      <td>M</td>\n",
              "      <td>сотрудник</td>\n",
              "      <td>0</td>\n",
              "      <td>145885.952297</td>\n",
              "      <td>покупка жилья</td>\n",
              "    </tr>\n",
              "    <tr>\n",
              "      <th>3</th>\n",
              "      <td>3</td>\n",
              "      <td>-4124.747207</td>\n",
              "      <td>32</td>\n",
              "      <td>среднее</td>\n",
              "      <td>1</td>\n",
              "      <td>женат / замужем</td>\n",
              "      <td>0</td>\n",
              "      <td>M</td>\n",
              "      <td>сотрудник</td>\n",
              "      <td>0</td>\n",
              "      <td>267628.550329</td>\n",
              "      <td>дополнительное образование</td>\n",
              "    </tr>\n",
              "    <tr>\n",
              "      <th>4</th>\n",
              "      <td>0</td>\n",
              "      <td>340266.072047</td>\n",
              "      <td>53</td>\n",
              "      <td>среднее</td>\n",
              "      <td>1</td>\n",
              "      <td>гражданский брак</td>\n",
              "      <td>1</td>\n",
              "      <td>F</td>\n",
              "      <td>пенсионер</td>\n",
              "      <td>0</td>\n",
              "      <td>158616.077870</td>\n",
              "      <td>сыграть свадьбу</td>\n",
              "    </tr>\n",
              "    <tr>\n",
              "      <th>5</th>\n",
              "      <td>0</td>\n",
              "      <td>-926.185831</td>\n",
              "      <td>27</td>\n",
              "      <td>высшее</td>\n",
              "      <td>0</td>\n",
              "      <td>гражданский брак</td>\n",
              "      <td>1</td>\n",
              "      <td>M</td>\n",
              "      <td>компаньон</td>\n",
              "      <td>0</td>\n",
              "      <td>255763.565419</td>\n",
              "      <td>покупка жилья</td>\n",
              "    </tr>\n",
              "    <tr>\n",
              "      <th>6</th>\n",
              "      <td>0</td>\n",
              "      <td>-2879.202052</td>\n",
              "      <td>43</td>\n",
              "      <td>высшее</td>\n",
              "      <td>0</td>\n",
              "      <td>женат / замужем</td>\n",
              "      <td>0</td>\n",
              "      <td>F</td>\n",
              "      <td>компаньон</td>\n",
              "      <td>0</td>\n",
              "      <td>240525.971920</td>\n",
              "      <td>операции с жильем</td>\n",
              "    </tr>\n",
              "    <tr>\n",
              "      <th>7</th>\n",
              "      <td>0</td>\n",
              "      <td>-152.779569</td>\n",
              "      <td>50</td>\n",
              "      <td>СРЕДНЕЕ</td>\n",
              "      <td>1</td>\n",
              "      <td>женат / замужем</td>\n",
              "      <td>0</td>\n",
              "      <td>M</td>\n",
              "      <td>сотрудник</td>\n",
              "      <td>0</td>\n",
              "      <td>135823.934197</td>\n",
              "      <td>образование</td>\n",
              "    </tr>\n",
              "    <tr>\n",
              "      <th>8</th>\n",
              "      <td>2</td>\n",
              "      <td>-6929.865299</td>\n",
              "      <td>35</td>\n",
              "      <td>ВЫСШЕЕ</td>\n",
              "      <td>0</td>\n",
              "      <td>гражданский брак</td>\n",
              "      <td>1</td>\n",
              "      <td>F</td>\n",
              "      <td>сотрудник</td>\n",
              "      <td>0</td>\n",
              "      <td>95856.832424</td>\n",
              "      <td>на проведение свадьбы</td>\n",
              "    </tr>\n",
              "    <tr>\n",
              "      <th>9</th>\n",
              "      <td>0</td>\n",
              "      <td>-2188.756445</td>\n",
              "      <td>41</td>\n",
              "      <td>среднее</td>\n",
              "      <td>1</td>\n",
              "      <td>женат / замужем</td>\n",
              "      <td>0</td>\n",
              "      <td>M</td>\n",
              "      <td>сотрудник</td>\n",
              "      <td>0</td>\n",
              "      <td>144425.938277</td>\n",
              "      <td>покупка жилья для семьи</td>\n",
              "    </tr>\n",
              "    <tr>\n",
              "      <th>10</th>\n",
              "      <td>2</td>\n",
              "      <td>-4171.483647</td>\n",
              "      <td>36</td>\n",
              "      <td>высшее</td>\n",
              "      <td>0</td>\n",
              "      <td>женат / замужем</td>\n",
              "      <td>0</td>\n",
              "      <td>M</td>\n",
              "      <td>компаньон</td>\n",
              "      <td>0</td>\n",
              "      <td>113943.491460</td>\n",
              "      <td>покупка недвижимости</td>\n",
              "    </tr>\n",
              "    <tr>\n",
              "      <th>11</th>\n",
              "      <td>0</td>\n",
              "      <td>-792.701887</td>\n",
              "      <td>40</td>\n",
              "      <td>среднее</td>\n",
              "      <td>1</td>\n",
              "      <td>женат / замужем</td>\n",
              "      <td>0</td>\n",
              "      <td>F</td>\n",
              "      <td>сотрудник</td>\n",
              "      <td>0</td>\n",
              "      <td>77069.234271</td>\n",
              "      <td>покупка коммерческой недвижимости</td>\n",
              "    </tr>\n",
              "    <tr>\n",
              "      <th>12</th>\n",
              "      <td>0</td>\n",
              "      <td>NaN</td>\n",
              "      <td>65</td>\n",
              "      <td>среднее</td>\n",
              "      <td>1</td>\n",
              "      <td>гражданский брак</td>\n",
              "      <td>1</td>\n",
              "      <td>M</td>\n",
              "      <td>пенсионер</td>\n",
              "      <td>0</td>\n",
              "      <td>NaN</td>\n",
              "      <td>сыграть свадьбу</td>\n",
              "    </tr>\n",
              "    <tr>\n",
              "      <th>13</th>\n",
              "      <td>0</td>\n",
              "      <td>-1846.641941</td>\n",
              "      <td>54</td>\n",
              "      <td>неоконченное высшее</td>\n",
              "      <td>2</td>\n",
              "      <td>женат / замужем</td>\n",
              "      <td>0</td>\n",
              "      <td>F</td>\n",
              "      <td>сотрудник</td>\n",
              "      <td>0</td>\n",
              "      <td>130458.228857</td>\n",
              "      <td>приобретение автомобиля</td>\n",
              "    </tr>\n",
              "    <tr>\n",
              "      <th>14</th>\n",
              "      <td>0</td>\n",
              "      <td>-1844.956182</td>\n",
              "      <td>56</td>\n",
              "      <td>высшее</td>\n",
              "      <td>0</td>\n",
              "      <td>гражданский брак</td>\n",
              "      <td>1</td>\n",
              "      <td>F</td>\n",
              "      <td>компаньон</td>\n",
              "      <td>1</td>\n",
              "      <td>165127.911772</td>\n",
              "      <td>покупка жилой недвижимости</td>\n",
              "    </tr>\n",
              "    <tr>\n",
              "      <th>15</th>\n",
              "      <td>1</td>\n",
              "      <td>-972.364419</td>\n",
              "      <td>26</td>\n",
              "      <td>среднее</td>\n",
              "      <td>1</td>\n",
              "      <td>женат / замужем</td>\n",
              "      <td>0</td>\n",
              "      <td>F</td>\n",
              "      <td>сотрудник</td>\n",
              "      <td>0</td>\n",
              "      <td>116820.904450</td>\n",
              "      <td>строительство собственной недвижимости</td>\n",
              "    </tr>\n",
              "    <tr>\n",
              "      <th>16</th>\n",
              "      <td>0</td>\n",
              "      <td>-1719.934226</td>\n",
              "      <td>35</td>\n",
              "      <td>среднее</td>\n",
              "      <td>1</td>\n",
              "      <td>женат / замужем</td>\n",
              "      <td>0</td>\n",
              "      <td>F</td>\n",
              "      <td>сотрудник</td>\n",
              "      <td>0</td>\n",
              "      <td>289202.704229</td>\n",
              "      <td>недвижимость</td>\n",
              "    </tr>\n",
              "    <tr>\n",
              "      <th>17</th>\n",
              "      <td>0</td>\n",
              "      <td>-2369.999720</td>\n",
              "      <td>33</td>\n",
              "      <td>высшее</td>\n",
              "      <td>0</td>\n",
              "      <td>гражданский брак</td>\n",
              "      <td>1</td>\n",
              "      <td>M</td>\n",
              "      <td>сотрудник</td>\n",
              "      <td>0</td>\n",
              "      <td>90410.586745</td>\n",
              "      <td>строительство недвижимости</td>\n",
              "    </tr>\n",
              "    <tr>\n",
              "      <th>18</th>\n",
              "      <td>0</td>\n",
              "      <td>400281.136913</td>\n",
              "      <td>53</td>\n",
              "      <td>среднее</td>\n",
              "      <td>1</td>\n",
              "      <td>вдовец / вдова</td>\n",
              "      <td>2</td>\n",
              "      <td>F</td>\n",
              "      <td>пенсионер</td>\n",
              "      <td>0</td>\n",
              "      <td>56823.777243</td>\n",
              "      <td>на покупку подержанного автомобиля</td>\n",
              "    </tr>\n",
              "    <tr>\n",
              "      <th>19</th>\n",
              "      <td>0</td>\n",
              "      <td>-10038.818549</td>\n",
              "      <td>48</td>\n",
              "      <td>СРЕДНЕЕ</td>\n",
              "      <td>1</td>\n",
              "      <td>в разводе</td>\n",
              "      <td>3</td>\n",
              "      <td>F</td>\n",
              "      <td>сотрудник</td>\n",
              "      <td>0</td>\n",
              "      <td>242831.107982</td>\n",
              "      <td>на покупку своего автомобиля</td>\n",
              "    </tr>\n",
              "  </tbody>\n",
              "</table>\n",
              "</div>"
            ],
            "text/plain": [
              "    children  days_employed  dob_years            education  education_id  \\\n",
              "0          1   -8437.673028         42               высшее             0   \n",
              "1          1   -4024.803754         36              среднее             1   \n",
              "2          0   -5623.422610         33              Среднее             1   \n",
              "3          3   -4124.747207         32              среднее             1   \n",
              "4          0  340266.072047         53              среднее             1   \n",
              "5          0    -926.185831         27               высшее             0   \n",
              "6          0   -2879.202052         43               высшее             0   \n",
              "7          0    -152.779569         50              СРЕДНЕЕ             1   \n",
              "8          2   -6929.865299         35               ВЫСШЕЕ             0   \n",
              "9          0   -2188.756445         41              среднее             1   \n",
              "10         2   -4171.483647         36               высшее             0   \n",
              "11         0    -792.701887         40              среднее             1   \n",
              "12         0            NaN         65              среднее             1   \n",
              "13         0   -1846.641941         54  неоконченное высшее             2   \n",
              "14         0   -1844.956182         56               высшее             0   \n",
              "15         1    -972.364419         26              среднее             1   \n",
              "16         0   -1719.934226         35              среднее             1   \n",
              "17         0   -2369.999720         33               высшее             0   \n",
              "18         0  400281.136913         53              среднее             1   \n",
              "19         0  -10038.818549         48              СРЕДНЕЕ             1   \n",
              "\n",
              "       family_status  family_status_id gender income_type  debt  \\\n",
              "0    женат / замужем                 0      F   сотрудник     0   \n",
              "1    женат / замужем                 0      F   сотрудник     0   \n",
              "2    женат / замужем                 0      M   сотрудник     0   \n",
              "3    женат / замужем                 0      M   сотрудник     0   \n",
              "4   гражданский брак                 1      F   пенсионер     0   \n",
              "5   гражданский брак                 1      M   компаньон     0   \n",
              "6    женат / замужем                 0      F   компаньон     0   \n",
              "7    женат / замужем                 0      M   сотрудник     0   \n",
              "8   гражданский брак                 1      F   сотрудник     0   \n",
              "9    женат / замужем                 0      M   сотрудник     0   \n",
              "10   женат / замужем                 0      M   компаньон     0   \n",
              "11   женат / замужем                 0      F   сотрудник     0   \n",
              "12  гражданский брак                 1      M   пенсионер     0   \n",
              "13   женат / замужем                 0      F   сотрудник     0   \n",
              "14  гражданский брак                 1      F   компаньон     1   \n",
              "15   женат / замужем                 0      F   сотрудник     0   \n",
              "16   женат / замужем                 0      F   сотрудник     0   \n",
              "17  гражданский брак                 1      M   сотрудник     0   \n",
              "18    вдовец / вдова                 2      F   пенсионер     0   \n",
              "19         в разводе                 3      F   сотрудник     0   \n",
              "\n",
              "     total_income                                 purpose  \n",
              "0   253875.639453                           покупка жилья  \n",
              "1   112080.014102                 приобретение автомобиля  \n",
              "2   145885.952297                           покупка жилья  \n",
              "3   267628.550329              дополнительное образование  \n",
              "4   158616.077870                         сыграть свадьбу  \n",
              "5   255763.565419                           покупка жилья  \n",
              "6   240525.971920                       операции с жильем  \n",
              "7   135823.934197                             образование  \n",
              "8    95856.832424                   на проведение свадьбы  \n",
              "9   144425.938277                 покупка жилья для семьи  \n",
              "10  113943.491460                    покупка недвижимости  \n",
              "11   77069.234271       покупка коммерческой недвижимости  \n",
              "12            NaN                         сыграть свадьбу  \n",
              "13  130458.228857                 приобретение автомобиля  \n",
              "14  165127.911772              покупка жилой недвижимости  \n",
              "15  116820.904450  строительство собственной недвижимости  \n",
              "16  289202.704229                            недвижимость  \n",
              "17   90410.586745              строительство недвижимости  \n",
              "18   56823.777243      на покупку подержанного автомобиля  \n",
              "19  242831.107982            на покупку своего автомобиля  "
            ]
          },
          "execution_count": 2,
          "metadata": {},
          "output_type": "execute_result"
        }
      ],
      "source": [
        "data.head(20)"
      ]
    },
    {
      "cell_type": "markdown",
      "id": "3f2d2917",
      "metadata": {
        "deletable": false,
        "editable": false,
        "id": "3f2d2917"
      },
      "source": [
        "**Задание 3. Выведите основную информацию о датафрейме с помощью метода `info()`.**"
      ]
    },
    {
      "cell_type": "code",
      "execution_count": null,
      "id": "8242f84f",
      "metadata": {
        "deletable": false,
        "id": "8242f84f",
        "outputId": "15376089-8dad-46c9-b520-c05248d43158"
      },
      "outputs": [
        {
          "name": "stdout",
          "output_type": "stream",
          "text": [
            "<class 'pandas.core.frame.DataFrame'>\n",
            "RangeIndex: 21525 entries, 0 to 21524\n",
            "Data columns (total 12 columns):\n",
            " #   Column            Non-Null Count  Dtype  \n",
            "---  ------            --------------  -----  \n",
            " 0   children          21525 non-null  int64  \n",
            " 1   days_employed     19351 non-null  float64\n",
            " 2   dob_years         21525 non-null  int64  \n",
            " 3   education         21525 non-null  object \n",
            " 4   education_id      21525 non-null  int64  \n",
            " 5   family_status     21525 non-null  object \n",
            " 6   family_status_id  21525 non-null  int64  \n",
            " 7   gender            21525 non-null  object \n",
            " 8   income_type       21525 non-null  object \n",
            " 9   debt              21525 non-null  int64  \n",
            " 10  total_income      19351 non-null  float64\n",
            " 11  purpose           21525 non-null  object \n",
            "dtypes: float64(2), int64(5), object(5)\n",
            "memory usage: 2.0+ MB\n"
          ]
        }
      ],
      "source": [
        "data.info()"
      ]
    },
    {
      "cell_type": "markdown",
      "id": "2a3b6ca9",
      "metadata": {
        "deletable": false,
        "editable": false,
        "id": "2a3b6ca9"
      },
      "source": [
        "## Предобработка данных"
      ]
    },
    {
      "cell_type": "markdown",
      "id": "c96ba253",
      "metadata": {
        "deletable": false,
        "editable": false,
        "id": "c96ba253"
      },
      "source": [
        "### Удаление пропусков"
      ]
    },
    {
      "cell_type": "markdown",
      "id": "ca2fb2b2",
      "metadata": {
        "deletable": false,
        "editable": false,
        "id": "ca2fb2b2"
      },
      "source": [
        "**Задание 4. Выведите количество пропущенных значений для каждого столбца. Используйте комбинацию двух методов.**"
      ]
    },
    {
      "cell_type": "code",
      "execution_count": null,
      "id": "0c53da6b",
      "metadata": {
        "deletable": false,
        "id": "0c53da6b",
        "outputId": "81f4d817-781c-465c-ed15-91ce4446810d"
      },
      "outputs": [
        {
          "data": {
            "text/plain": [
              "children               0\n",
              "days_employed       2174\n",
              "dob_years              0\n",
              "education              0\n",
              "education_id           0\n",
              "family_status          0\n",
              "family_status_id       0\n",
              "gender                 0\n",
              "income_type            0\n",
              "debt                   0\n",
              "total_income        2174\n",
              "purpose                0\n",
              "dtype: int64"
            ]
          },
          "execution_count": 4,
          "metadata": {},
          "output_type": "execute_result"
        }
      ],
      "source": [
        "data.isna().sum()"
      ]
    },
    {
      "cell_type": "markdown",
      "id": "2ff1eb27",
      "metadata": {
        "deletable": false,
        "editable": false,
        "id": "2ff1eb27"
      },
      "source": [
        "**Задание 5. В двух столбцах есть пропущенные значения. Один из них — `days_employed`. Пропуски в этом столбце вы обработаете на следующем этапе. Другой столбец с пропущенными значениями — `total_income` — хранит данные о доходах. На сумму дохода сильнее всего влияет тип занятости, поэтому заполнить пропуски в этом столбце нужно медианным значением по каждому типу из столбца `income_type`. Например, у человека с типом занятости `сотрудник` пропуск в столбце `total_income` должен быть заполнен медианным доходом среди всех записей с тем же типом.**"
      ]
    },
    {
      "cell_type": "code",
      "execution_count": null,
      "id": "8afc7b69",
      "metadata": {
        "deletable": false,
        "id": "8afc7b69"
      },
      "outputs": [],
      "source": [
        "for t in data['income_type'].unique():\n",
        "    data.loc[(data['income_type'] == t) & (data['total_income'].isna()), 'total_income'] = \\\n",
        "    data.loc[(data['income_type'] == t), 'total_income'].median()"
      ]
    },
    {
      "cell_type": "markdown",
      "id": "31cda3fa",
      "metadata": {
        "deletable": false,
        "editable": false,
        "id": "31cda3fa"
      },
      "source": [
        "### Обработка аномальных значений"
      ]
    },
    {
      "cell_type": "markdown",
      "id": "5c5a405a",
      "metadata": {
        "deletable": false,
        "editable": false,
        "id": "5c5a405a"
      },
      "source": [
        "**Задание 6. В данных могут встречаться артефакты (аномалии) — значения, которые не отражают действительность и появились по какой-то ошибке. таким артефактом будет отрицательное количество дней трудового стажа в столбце `days_employed`. Для реальных данных это нормально. Обработайте значения в этом столбце: замените все отрицательные значения положительными с помощью метода `abs()`.**"
      ]
    },
    {
      "cell_type": "code",
      "execution_count": null,
      "id": "b4408da9",
      "metadata": {
        "deletable": false,
        "id": "b4408da9"
      },
      "outputs": [],
      "source": [
        "data['days_employed'] = data['days_employed'].abs()"
      ]
    },
    {
      "cell_type": "markdown",
      "id": "7bf219d3",
      "metadata": {
        "deletable": false,
        "editable": false,
        "id": "7bf219d3"
      },
      "source": [
        "**Задание 7. Для каждого типа занятости выведите медианное значение трудового стажа `days_employed` в днях.**"
      ]
    },
    {
      "cell_type": "code",
      "execution_count": null,
      "id": "3fb3f1d6",
      "metadata": {
        "deletable": false,
        "id": "3fb3f1d6",
        "outputId": "801ef80e-522b-4668-f34e-565af7432bcf"
      },
      "outputs": [
        {
          "data": {
            "text/plain": [
              "income_type\n",
              "безработный        366413.652744\n",
              "в декрете            3296.759962\n",
              "госслужащий          2689.368353\n",
              "компаньон            1547.382223\n",
              "пенсионер          365213.306266\n",
              "предприниматель       520.848083\n",
              "сотрудник            1574.202821\n",
              "студент               578.751554\n",
              "Name: days_employed, dtype: float64"
            ]
          },
          "execution_count": 7,
          "metadata": {},
          "output_type": "execute_result"
        }
      ],
      "source": [
        "data.groupby('income_type')['days_employed'].agg('median')"
      ]
    },
    {
      "cell_type": "markdown",
      "id": "a1d0ed18",
      "metadata": {
        "deletable": false,
        "editable": false,
        "id": "a1d0ed18"
      },
      "source": [
        "У двух типов (безработные и пенсионеры) получатся аномально большие значения. Исправить такие значения сложно, поэтому оставьте их как есть. Тем более этот столбец не понадобится вам для исследования."
      ]
    },
    {
      "cell_type": "markdown",
      "id": "12463f26",
      "metadata": {
        "deletable": false,
        "editable": false,
        "id": "12463f26"
      },
      "source": [
        "**Задание 8. Выведите перечень уникальных значений столбца `children`.**"
      ]
    },
    {
      "cell_type": "code",
      "execution_count": null,
      "id": "e065feb0",
      "metadata": {
        "deletable": false,
        "id": "e065feb0",
        "outputId": "6975b15c-7f95-4697-d16d-a0c79b657b03"
      },
      "outputs": [
        {
          "data": {
            "text/plain": [
              "array([ 1,  0,  3,  2, -1,  4, 20,  5])"
            ]
          },
          "execution_count": 8,
          "metadata": {},
          "output_type": "execute_result"
        }
      ],
      "source": [
        "data['children'].unique()"
      ]
    },
    {
      "cell_type": "markdown",
      "id": "b4ec1939",
      "metadata": {
        "deletable": false,
        "editable": false,
        "id": "b4ec1939"
      },
      "source": [
        "**Задание 9. В столбце `children` есть два аномальных значения. Удалите строки, в которых встречаются такие аномальные значения из датафрейма `data`.**"
      ]
    },
    {
      "cell_type": "code",
      "execution_count": null,
      "id": "c1a8b232",
      "metadata": {
        "deletable": false,
        "id": "c1a8b232"
      },
      "outputs": [],
      "source": [
        "data = data[(data['children'] != -1) & (data['children'] != 20)]"
      ]
    },
    {
      "cell_type": "markdown",
      "id": "ee0eaa1d",
      "metadata": {
        "deletable": false,
        "editable": false,
        "id": "ee0eaa1d"
      },
      "source": [
        "**Задание 10. Ещё раз выведите перечень уникальных значений столбца `children`, чтобы убедиться, что артефакты удалены.**"
      ]
    },
    {
      "cell_type": "code",
      "execution_count": null,
      "id": "656cc522",
      "metadata": {
        "deletable": false,
        "id": "656cc522",
        "outputId": "b2097101-d49d-44d9-901b-32a65c9463d1"
      },
      "outputs": [
        {
          "data": {
            "text/plain": [
              "array([1, 0, 3, 2, 4, 5])"
            ]
          },
          "execution_count": 10,
          "metadata": {},
          "output_type": "execute_result"
        }
      ],
      "source": [
        "data['children'].unique()"
      ]
    },
    {
      "cell_type": "markdown",
      "id": "68e8dc56",
      "metadata": {
        "deletable": false,
        "editable": false,
        "id": "68e8dc56"
      },
      "source": [
        "### Удаление пропусков (продолжение)"
      ]
    },
    {
      "cell_type": "markdown",
      "id": "dbffd98a",
      "metadata": {
        "deletable": false,
        "editable": false,
        "id": "dbffd98a"
      },
      "source": [
        "**Задание 11. Заполните пропуски в столбце `days_employed` медианными значениями по каждого типа занятости `income_type`.**"
      ]
    },
    {
      "cell_type": "code",
      "execution_count": null,
      "id": "48021f60",
      "metadata": {
        "deletable": false,
        "id": "48021f60"
      },
      "outputs": [],
      "source": [
        "for t in data['income_type'].unique():\n",
        "    data.loc[(data['income_type'] == t) & (data['days_employed'].isna()), 'days_employed'] = \\\n",
        "    data.loc[(data['income_type'] == t), 'days_employed'].median()"
      ]
    },
    {
      "cell_type": "markdown",
      "id": "bac8ff04",
      "metadata": {
        "deletable": false,
        "editable": false,
        "id": "bac8ff04"
      },
      "source": [
        "**Задание 12. Убедитесь, что все пропуски заполнены. Проверьте себя и ещё раз выведите количество пропущенных значений для каждого столбца с помощью двух методов.**"
      ]
    },
    {
      "cell_type": "code",
      "execution_count": null,
      "id": "396db9b9",
      "metadata": {
        "deletable": false,
        "id": "396db9b9",
        "outputId": "8da1e4e1-358e-4e87-98c9-f261bce0a7b2"
      },
      "outputs": [
        {
          "data": {
            "text/plain": [
              "children            0\n",
              "days_employed       0\n",
              "dob_years           0\n",
              "education           0\n",
              "education_id        0\n",
              "family_status       0\n",
              "family_status_id    0\n",
              "gender              0\n",
              "income_type         0\n",
              "debt                0\n",
              "total_income        0\n",
              "purpose             0\n",
              "dtype: int64"
            ]
          },
          "execution_count": 12,
          "metadata": {},
          "output_type": "execute_result"
        }
      ],
      "source": [
        "data.isna().sum()"
      ]
    },
    {
      "cell_type": "markdown",
      "id": "dba9b5c6",
      "metadata": {
        "deletable": false,
        "editable": false,
        "id": "dba9b5c6"
      },
      "source": [
        "### Изменение типов данных"
      ]
    },
    {
      "cell_type": "markdown",
      "id": "da350ffe",
      "metadata": {
        "deletable": false,
        "editable": false,
        "id": "da350ffe"
      },
      "source": [
        "**Задание 13. Замените вещественный тип данных в столбце `total_income` на целочисленный с помощью метода `astype()`.**"
      ]
    },
    {
      "cell_type": "code",
      "execution_count": null,
      "id": "9de3e850",
      "metadata": {
        "deletable": false,
        "id": "9de3e850"
      },
      "outputs": [],
      "source": [
        "data['total_income'] = data['total_income'].astype(int)"
      ]
    },
    {
      "cell_type": "markdown",
      "id": "76a234c5",
      "metadata": {
        "deletable": false,
        "editable": false,
        "id": "76a234c5"
      },
      "source": [
        "### Обработка дубликатов"
      ]
    },
    {
      "cell_type": "markdown",
      "id": "2c83c7ff",
      "metadata": {
        "deletable": false,
        "editable": false,
        "id": "2c83c7ff"
      },
      "source": [
        "**Задание 14. Обработайте неявные дубликаты в столбце `education`. В этом столбце есть одни и те же значения, но записанные по-разному: с использованием заглавных и строчных букв. Приведите их к нижнему регистру. Проверьте остальные столбцы.**"
      ]
    },
    {
      "cell_type": "code",
      "execution_count": null,
      "id": "037cdfbc",
      "metadata": {
        "deletable": false,
        "id": "037cdfbc"
      },
      "outputs": [],
      "source": [
        "data['education'] = data['education'].str.lower()"
      ]
    },
    {
      "cell_type": "markdown",
      "id": "4c43c7bd",
      "metadata": {
        "deletable": false,
        "editable": false,
        "id": "4c43c7bd"
      },
      "source": [
        "**Задание 15. Выведите на экран количество строк-дубликатов в данных. Если такие строки присутствуют, удалите их.**"
      ]
    },
    {
      "cell_type": "code",
      "execution_count": null,
      "id": "3840aa9a",
      "metadata": {
        "deletable": false,
        "id": "3840aa9a",
        "outputId": "9684deba-1934-42d1-99e1-cda61740f822"
      },
      "outputs": [
        {
          "data": {
            "text/plain": [
              "71"
            ]
          },
          "execution_count": 15,
          "metadata": {},
          "output_type": "execute_result"
        }
      ],
      "source": [
        "data.duplicated().sum()"
      ]
    },
    {
      "cell_type": "code",
      "execution_count": null,
      "id": "de87b1c7",
      "metadata": {
        "deletable": false,
        "id": "de87b1c7"
      },
      "outputs": [],
      "source": [
        "data = data.drop_duplicates()"
      ]
    },
    {
      "cell_type": "markdown",
      "id": "c27456bb",
      "metadata": {
        "deletable": false,
        "editable": false,
        "id": "c27456bb"
      },
      "source": [
        "### Категоризация данных"
      ]
    },
    {
      "cell_type": "markdown",
      "id": "e177358c",
      "metadata": {
        "deletable": false,
        "editable": false,
        "id": "e177358c"
      },
      "source": [
        "**Задание 16. На основании диапазонов, указанных ниже, создайте в датафрейме `data` столбец `total_income_category` с категориями:**\n",
        "\n",
        "- 0–30000 — `'E'`;\n",
        "- 30001–50000 — `'D'`;\n",
        "- 50001–200000 — `'C'`;\n",
        "- 200001–1000000 — `'B'`;\n",
        "- 1000001 и выше — `'A'`.\n",
        "\n",
        "\n",
        "**Например, кредитополучателю с доходом 25000 нужно назначить категорию `'E'`, а клиенту, получающему 235000, — `'B'`. Используйте собственную функцию с именем `categorize_income()` и метод `apply()`.**"
      ]
    },
    {
      "cell_type": "code",
      "execution_count": null,
      "id": "a1c49e22",
      "metadata": {
        "deletable": false,
        "id": "a1c49e22"
      },
      "outputs": [],
      "source": [
        "def categorize_income(income):\n",
        "    try:\n",
        "        if 0 <= income <= 30000:\n",
        "            return 'E'\n",
        "        elif 30001 <= income <= 50000:\n",
        "            return 'D'\n",
        "        elif 50001 <= income <= 200000:\n",
        "            return 'C'\n",
        "        elif 200001 <= income <= 1000000:\n",
        "            return 'B'\n",
        "        elif income >= 1000001:\n",
        "            return 'A'\n",
        "    except:\n",
        "        pass"
      ]
    },
    {
      "cell_type": "code",
      "execution_count": null,
      "id": "b04b06b7",
      "metadata": {
        "deletable": false,
        "id": "b04b06b7"
      },
      "outputs": [],
      "source": [
        "data['total_income_category'] = data['total_income'].apply(categorize_income)"
      ]
    },
    {
      "cell_type": "markdown",
      "id": "6cb52007",
      "metadata": {
        "deletable": false,
        "editable": false,
        "id": "6cb52007"
      },
      "source": [
        "**Задание 17. Выведите на экран перечень уникальных целей взятия кредита из столбца `purpose`.**"
      ]
    },
    {
      "cell_type": "code",
      "execution_count": null,
      "id": "9794264f",
      "metadata": {
        "deletable": false,
        "id": "9794264f",
        "outputId": "673c12d9-7d7e-4ae0-9812-c622c89dd244"
      },
      "outputs": [
        {
          "data": {
            "text/plain": [
              "array(['покупка жилья', 'приобретение автомобиля',\n",
              "       'дополнительное образование', 'сыграть свадьбу',\n",
              "       'операции с жильем', 'образование', 'на проведение свадьбы',\n",
              "       'покупка жилья для семьи', 'покупка недвижимости',\n",
              "       'покупка коммерческой недвижимости', 'покупка жилой недвижимости',\n",
              "       'строительство собственной недвижимости', 'недвижимость',\n",
              "       'строительство недвижимости', 'на покупку подержанного автомобиля',\n",
              "       'на покупку своего автомобиля',\n",
              "       'операции с коммерческой недвижимостью',\n",
              "       'строительство жилой недвижимости', 'жилье',\n",
              "       'операции со своей недвижимостью', 'автомобили',\n",
              "       'заняться образованием', 'сделка с подержанным автомобилем',\n",
              "       'получение образования', 'автомобиль', 'свадьба',\n",
              "       'получение дополнительного образования', 'покупка своего жилья',\n",
              "       'операции с недвижимостью', 'получение высшего образования',\n",
              "       'свой автомобиль', 'сделка с автомобилем',\n",
              "       'профильное образование', 'высшее образование',\n",
              "       'покупка жилья для сдачи', 'на покупку автомобиля', 'ремонт жилью',\n",
              "       'заняться высшим образованием'], dtype=object)"
            ]
          },
          "execution_count": 19,
          "metadata": {},
          "output_type": "execute_result"
        }
      ],
      "source": [
        "data['purpose'].unique()"
      ]
    },
    {
      "cell_type": "markdown",
      "id": "1340714d",
      "metadata": {
        "deletable": false,
        "editable": false,
        "id": "1340714d"
      },
      "source": [
        "**Задание 18. Создайте функцию, которая на основании данных из столбца `purpose` сформирует новый столбец `purpose_category`, в который войдут следующие категории:**\n",
        "\n",
        "- `'операции с автомобилем'`,\n",
        "- `'операции с недвижимостью'`,\n",
        "- `'проведение свадьбы'`,\n",
        "- `'получение образования'`.\n",
        "\n",
        "**Например, если в столбце `purpose` находится подстрока `'на покупку автомобиля'`, то в столбце `purpose_category` должна появиться строка `'операции с автомобилем'`.**\n",
        "\n",
        "**Используйте собственную функцию с именем `categorize_purpose()` и метод `apply()`. Изучите данные в столбце `purpose` и определите, какие подстроки помогут вам правильно определить категорию.**"
      ]
    },
    {
      "cell_type": "code",
      "execution_count": null,
      "id": "49b839bd",
      "metadata": {
        "deletable": false,
        "id": "49b839bd"
      },
      "outputs": [],
      "source": [
        "def categorize_purpose(row):\n",
        "    try:\n",
        "        if 'автом' in row:\n",
        "            return 'операции с автомобилем'\n",
        "        elif 'жил' in row or 'недвиж' in row:\n",
        "            return 'операции с недвижимостью'\n",
        "        elif 'свад' in row:\n",
        "            return 'проведение свадьбы'\n",
        "        elif 'образов' in row:\n",
        "            return 'получение образования'\n",
        "    except:\n",
        "        return 'нет категории'"
      ]
    },
    {
      "cell_type": "code",
      "execution_count": null,
      "id": "31343792",
      "metadata": {
        "deletable": false,
        "id": "31343792"
      },
      "outputs": [],
      "source": [
        "data['purpose_category'] = data['purpose'].apply(categorize_purpose)"
      ]
    },
    {
      "cell_type": "markdown",
      "id": "107dd93b",
      "metadata": {
        "deletable": false,
        "editable": false,
        "id": "107dd93b"
      },
      "source": [
        "### Шаг 3. Исследуйте данные и ответьте на вопросы"
      ]
    },
    {
      "cell_type": "markdown",
      "id": "224a1831",
      "metadata": {
        "deletable": false,
        "editable": false,
        "id": "224a1831"
      },
      "source": [
        "#### 3.1 Есть ли зависимость между количеством детей и возвратом кредита в срок?"
      ]
    },
    {
      "cell_type": "code",
      "execution_count": null,
      "id": "7d86a8c9",
      "metadata": {
        "deletable": false,
        "id": "7d86a8c9",
        "outputId": "e1e5c3df-6b75-4846-e5e7-59e40dc9081b"
      },
      "outputs": [
        {
          "data": {
            "text/html": [
              "<style  type=\"text/css\" >\n",
              "</style><table id=\"T_ef02a_\" ><thead>    <tr>        <th class=\"blank level0\" ></th>        <th class=\"col_heading level0 col0\" >debt</th>    </tr>    <tr>        <th class=\"index_name level0\" >children</th>        <th class=\"blank\" ></th>    </tr></thead><tbody>\n",
              "                <tr>\n",
              "                        <th id=\"T_ef02a_level0_row0\" class=\"row_heading level0 row0\" >5</th>\n",
              "                        <td id=\"T_ef02a_row0_col0\" class=\"data row0 col0\" >0.00%</td>\n",
              "            </tr>\n",
              "            <tr>\n",
              "                        <th id=\"T_ef02a_level0_row1\" class=\"row_heading level0 row1\" >0</th>\n",
              "                        <td id=\"T_ef02a_row1_col0\" class=\"data row1 col0\" >7.54%</td>\n",
              "            </tr>\n",
              "            <tr>\n",
              "                        <th id=\"T_ef02a_level0_row2\" class=\"row_heading level0 row2\" >3</th>\n",
              "                        <td id=\"T_ef02a_row2_col0\" class=\"data row2 col0\" >8.18%</td>\n",
              "            </tr>\n",
              "            <tr>\n",
              "                        <th id=\"T_ef02a_level0_row3\" class=\"row_heading level0 row3\" >1</th>\n",
              "                        <td id=\"T_ef02a_row3_col0\" class=\"data row3 col0\" >9.23%</td>\n",
              "            </tr>\n",
              "            <tr>\n",
              "                        <th id=\"T_ef02a_level0_row4\" class=\"row_heading level0 row4\" >2</th>\n",
              "                        <td id=\"T_ef02a_row4_col0\" class=\"data row4 col0\" >9.45%</td>\n",
              "            </tr>\n",
              "            <tr>\n",
              "                        <th id=\"T_ef02a_level0_row5\" class=\"row_heading level0 row5\" >4</th>\n",
              "                        <td id=\"T_ef02a_row5_col0\" class=\"data row5 col0\" >9.76%</td>\n",
              "            </tr>\n",
              "    </tbody></table>"
            ],
            "text/plain": [
              "<pandas.io.formats.style.Styler at 0x7f20740abc70>"
            ]
          },
          "execution_count": 22,
          "metadata": {},
          "output_type": "execute_result"
        }
      ],
      "source": [
        "data.groupby('children')[['debt']].mean().sort_values(['debt'], ascending = True).style.format({'debt': '{:.2%}'})# Ваш код будет здесь. Вы можете создавать новые ячейки."
      ]
    },
    {
      "cell_type": "markdown",
      "id": "02499676",
      "metadata": {
        "deletable": false,
        "id": "02499676"
      },
      "source": [
        "**Вывод:** Из полученной таблицы не видно прямой зависимости между количеством детей и возвратом кредита в срок, т.к. при наличии 2 детей вероятность невозврата больше, чем при наличии 3. Но в тоже время можно предположить, что появление первого ребенка и последующих прямо влияет на вероятность ухудшения платежоспособности. Тут надо более глубоко смотреть категории граждан и их доход, так как появление третьего ребенка снижает процент, возможно это говорит о том, что третьего ребенка заводят более благополучные семьи. Также нужно уделить внимание гражданам с пятью детьми."
      ]
    },
    {
      "cell_type": "markdown",
      "id": "add4dfe8",
      "metadata": {
        "deletable": false,
        "editable": false,
        "id": "add4dfe8"
      },
      "source": [
        "#### 3.2 Есть ли зависимость между семейным положением и возвратом кредита в срок?"
      ]
    },
    {
      "cell_type": "code",
      "execution_count": null,
      "id": "bf318b26",
      "metadata": {
        "deletable": false,
        "id": "bf318b26",
        "outputId": "f43a3fa8-fcfd-4a61-de9b-57a790685892"
      },
      "outputs": [
        {
          "data": {
            "text/html": [
              "<style  type=\"text/css\" >\n",
              "</style><table id=\"T_227fd_\" ><thead>    <tr>        <th class=\"blank level0\" ></th>        <th class=\"col_heading level0 col0\" >debt</th>    </tr>    <tr>        <th class=\"index_name level0\" >family_status</th>        <th class=\"blank\" ></th>    </tr></thead><tbody>\n",
              "                <tr>\n",
              "                        <th id=\"T_227fd_level0_row0\" class=\"row_heading level0 row0\" >вдовец / вдова</th>\n",
              "                        <td id=\"T_227fd_row0_col0\" class=\"data row0 col0\" >6.62%</td>\n",
              "            </tr>\n",
              "            <tr>\n",
              "                        <th id=\"T_227fd_level0_row1\" class=\"row_heading level0 row1\" >в разводе</th>\n",
              "                        <td id=\"T_227fd_row1_col0\" class=\"data row1 col0\" >7.06%</td>\n",
              "            </tr>\n",
              "            <tr>\n",
              "                        <th id=\"T_227fd_level0_row2\" class=\"row_heading level0 row2\" >женат / замужем</th>\n",
              "                        <td id=\"T_227fd_row2_col0\" class=\"data row2 col0\" >7.56%</td>\n",
              "            </tr>\n",
              "            <tr>\n",
              "                        <th id=\"T_227fd_level0_row3\" class=\"row_heading level0 row3\" >гражданский брак</th>\n",
              "                        <td id=\"T_227fd_row3_col0\" class=\"data row3 col0\" >9.31%</td>\n",
              "            </tr>\n",
              "            <tr>\n",
              "                        <th id=\"T_227fd_level0_row4\" class=\"row_heading level0 row4\" >Не женат / не замужем</th>\n",
              "                        <td id=\"T_227fd_row4_col0\" class=\"data row4 col0\" >9.76%</td>\n",
              "            </tr>\n",
              "    </tbody></table>"
            ],
            "text/plain": [
              "<pandas.io.formats.style.Styler at 0x7f20740864f0>"
            ]
          },
          "execution_count": 23,
          "metadata": {},
          "output_type": "execute_result"
        }
      ],
      "source": [
        "data.groupby('family_status')[['debt']].mean().sort_values(['debt'], ascending = True).style.format({'debt': '{:.2%}'})# Ваш код будет здесь. Вы можете создавать новые ячейки."
      ]
    },
    {
      "cell_type": "markdown",
      "id": "b9d8b4a9",
      "metadata": {
        "deletable": false,
        "id": "b9d8b4a9"
      },
      "source": [
        "**Вывод:** Что касается, зависимости между семейным положением и возвратом кредита в срок здесь имеет место быть теория о том, что люди до брака относят к своему бюджету нераспланировано, а те кто уже был в браке  или находится в нем планируют его и поэтому отдают лучше. Те, кто в разводе или остались одни уже прожили большую часть своей жизни и умеют планировать бюджет."
      ]
    },
    {
      "cell_type": "markdown",
      "id": "848f68e5",
      "metadata": {
        "deletable": false,
        "editable": false,
        "id": "848f68e5"
      },
      "source": [
        "#### 3.3 Есть ли зависимость между уровнем дохода и возвратом кредита в срок?"
      ]
    },
    {
      "cell_type": "code",
      "execution_count": null,
      "id": "7abe9285",
      "metadata": {
        "deletable": false,
        "id": "7abe9285",
        "outputId": "703c8482-3261-4cfd-ad02-b1783e99a3d4"
      },
      "outputs": [
        {
          "data": {
            "text/html": [
              "<style  type=\"text/css\" >\n",
              "</style><table id=\"T_87e11_\" ><thead>    <tr>        <th class=\"blank level0\" ></th>        <th class=\"col_heading level0 col0\" >debt</th>    </tr>    <tr>        <th class=\"index_name level0\" >total_income_category</th>        <th class=\"blank\" ></th>    </tr></thead><tbody>\n",
              "                <tr>\n",
              "                        <th id=\"T_87e11_level0_row0\" class=\"row_heading level0 row0\" >E</th>\n",
              "                        <td id=\"T_87e11_row0_col0\" class=\"data row0 col0\" >9.09%</td>\n",
              "            </tr>\n",
              "            <tr>\n",
              "                        <th id=\"T_87e11_level0_row1\" class=\"row_heading level0 row1\" >C</th>\n",
              "                        <td id=\"T_87e11_row1_col0\" class=\"data row1 col0\" >8.50%</td>\n",
              "            </tr>\n",
              "            <tr>\n",
              "                        <th id=\"T_87e11_level0_row2\" class=\"row_heading level0 row2\" >A</th>\n",
              "                        <td id=\"T_87e11_row2_col0\" class=\"data row2 col0\" >8.00%</td>\n",
              "            </tr>\n",
              "            <tr>\n",
              "                        <th id=\"T_87e11_level0_row3\" class=\"row_heading level0 row3\" >B</th>\n",
              "                        <td id=\"T_87e11_row3_col0\" class=\"data row3 col0\" >7.06%</td>\n",
              "            </tr>\n",
              "            <tr>\n",
              "                        <th id=\"T_87e11_level0_row4\" class=\"row_heading level0 row4\" >D</th>\n",
              "                        <td id=\"T_87e11_row4_col0\" class=\"data row4 col0\" >6.02%</td>\n",
              "            </tr>\n",
              "    </tbody></table>"
            ],
            "text/plain": [
              "<pandas.io.formats.style.Styler at 0x7f20dec24ee0>"
            ]
          },
          "execution_count": 24,
          "metadata": {},
          "output_type": "execute_result"
        }
      ],
      "source": [
        "data.groupby('total_income_category')[['debt']].mean().sort_values(['debt'], ascending = False).style.format({'debt': '{:.2%}'})# Ваш код будет здесь. Вы можете создавать новые ячейки."
      ]
    },
    {
      "cell_type": "code",
      "execution_count": null,
      "id": "74363936",
      "metadata": {
        "id": "74363936",
        "outputId": "71797935-a7ae-44be-fa60-870ddd81e3a5"
      },
      "outputs": [
        {
          "data": {
            "text/html": [
              "<style  type=\"text/css\" >\n",
              "</style><table id=\"T_1ebe9_\" ><thead>    <tr>        <th class=\"blank level0\" ></th>        <th class=\"col_heading level0 col0\" >debt</th>    </tr>    <tr>        <th class=\"index_name level0\" >income_type</th>        <th class=\"blank\" ></th>    </tr></thead><tbody>\n",
              "                <tr>\n",
              "                        <th id=\"T_1ebe9_level0_row0\" class=\"row_heading level0 row0\" >в декрете</th>\n",
              "                        <td id=\"T_1ebe9_row0_col0\" class=\"data row0 col0\" >100.00%</td>\n",
              "            </tr>\n",
              "            <tr>\n",
              "                        <th id=\"T_1ebe9_level0_row1\" class=\"row_heading level0 row1\" >безработный</th>\n",
              "                        <td id=\"T_1ebe9_row1_col0\" class=\"data row1 col0\" >50.00%</td>\n",
              "            </tr>\n",
              "            <tr>\n",
              "                        <th id=\"T_1ebe9_level0_row2\" class=\"row_heading level0 row2\" >сотрудник</th>\n",
              "                        <td id=\"T_1ebe9_row2_col0\" class=\"data row2 col0\" >9.57%</td>\n",
              "            </tr>\n",
              "            <tr>\n",
              "                        <th id=\"T_1ebe9_level0_row3\" class=\"row_heading level0 row3\" >компаньон</th>\n",
              "                        <td id=\"T_1ebe9_row3_col0\" class=\"data row3 col0\" >7.41%</td>\n",
              "            </tr>\n",
              "            <tr>\n",
              "                        <th id=\"T_1ebe9_level0_row4\" class=\"row_heading level0 row4\" >госслужащий</th>\n",
              "                        <td id=\"T_1ebe9_row4_col0\" class=\"data row4 col0\" >5.93%</td>\n",
              "            </tr>\n",
              "            <tr>\n",
              "                        <th id=\"T_1ebe9_level0_row5\" class=\"row_heading level0 row5\" >пенсионер</th>\n",
              "                        <td id=\"T_1ebe9_row5_col0\" class=\"data row5 col0\" >5.67%</td>\n",
              "            </tr>\n",
              "            <tr>\n",
              "                        <th id=\"T_1ebe9_level0_row6\" class=\"row_heading level0 row6\" >предприниматель</th>\n",
              "                        <td id=\"T_1ebe9_row6_col0\" class=\"data row6 col0\" >0.00%</td>\n",
              "            </tr>\n",
              "            <tr>\n",
              "                        <th id=\"T_1ebe9_level0_row7\" class=\"row_heading level0 row7\" >студент</th>\n",
              "                        <td id=\"T_1ebe9_row7_col0\" class=\"data row7 col0\" >0.00%</td>\n",
              "            </tr>\n",
              "    </tbody></table>"
            ],
            "text/plain": [
              "<pandas.io.formats.style.Styler at 0x7f20dec80580>"
            ]
          },
          "execution_count": 25,
          "metadata": {},
          "output_type": "execute_result"
        }
      ],
      "source": [
        "data.groupby('income_type')[['debt']].mean().sort_values(['debt'], ascending = False).style.format({'debt': '{:.2%}'})# Ваш код будет здесь. Вы можете создавать новые ячейки."
      ]
    },
    {
      "cell_type": "markdown",
      "id": "ec2307d4",
      "metadata": {
        "deletable": false,
        "id": "ec2307d4"
      },
      "source": [
        "**Вывод:** Можно предположить, что люди с доходом от 30001 до 50000 высоконадежные, так как не берут завышенные кредиты и умеют планировать свой бюджет. А с доходом меньше 30000, берут кредит, чтобы перекрыть свои финансовыве трудности. По другим категориям выводы сделать невозможно, для них нужно учитывать в сумме несколько факторов для дополнительного анализа(тип занятости, семейное положение и др.) Так, при дополнительном анализе зависимости от типа работы можно сделать вывод, что людям в декрете и безработным выдавать кредиты нельзя! У них 100% не будет отдан кредит в срок."
      ]
    },
    {
      "cell_type": "markdown",
      "id": "c2ded86e",
      "metadata": {
        "deletable": false,
        "editable": false,
        "id": "c2ded86e"
      },
      "source": [
        "#### 3.4 Как разные цели кредита влияют на его возврат в срок?"
      ]
    },
    {
      "cell_type": "code",
      "execution_count": null,
      "id": "8c8cdde8",
      "metadata": {
        "deletable": false,
        "id": "8c8cdde8",
        "outputId": "0a9502a0-37b7-464b-fe2c-e75bd34a0253"
      },
      "outputs": [
        {
          "data": {
            "text/html": [
              "<style  type=\"text/css\" >\n",
              "</style><table id=\"T_1ae9d_\" ><thead>    <tr>        <th class=\"blank level0\" ></th>        <th class=\"col_heading level0 col0\" >debt</th>    </tr>    <tr>        <th class=\"index_name level0\" >purpose_category</th>        <th class=\"blank\" ></th>    </tr></thead><tbody>\n",
              "                <tr>\n",
              "                        <th id=\"T_1ae9d_level0_row0\" class=\"row_heading level0 row0\" >операции с автомобилем</th>\n",
              "                        <td id=\"T_1ae9d_row0_col0\" class=\"data row0 col0\" >9.35%</td>\n",
              "            </tr>\n",
              "            <tr>\n",
              "                        <th id=\"T_1ae9d_level0_row1\" class=\"row_heading level0 row1\" >получение образования</th>\n",
              "                        <td id=\"T_1ae9d_row1_col0\" class=\"data row1 col0\" >9.25%</td>\n",
              "            </tr>\n",
              "            <tr>\n",
              "                        <th id=\"T_1ae9d_level0_row2\" class=\"row_heading level0 row2\" >проведение свадьбы</th>\n",
              "                        <td id=\"T_1ae9d_row2_col0\" class=\"data row2 col0\" >7.91%</td>\n",
              "            </tr>\n",
              "            <tr>\n",
              "                        <th id=\"T_1ae9d_level0_row3\" class=\"row_heading level0 row3\" >операции с недвижимостью</th>\n",
              "                        <td id=\"T_1ae9d_row3_col0\" class=\"data row3 col0\" >7.26%</td>\n",
              "            </tr>\n",
              "    </tbody></table>"
            ],
            "text/plain": [
              "<pandas.io.formats.style.Styler at 0x7f20b8b431c0>"
            ]
          },
          "execution_count": 26,
          "metadata": {},
          "output_type": "execute_result"
        }
      ],
      "source": [
        "data.groupby('purpose_category')[['debt']].mean().sort_values(['debt'], ascending = False).style.format({'debt': '{:.2%}'})# Ваш код будет здесь. Вы можете создавать новые ячейки."
      ]
    },
    {
      "cell_type": "markdown",
      "id": "b534e8f9",
      "metadata": {
        "deletable": false,
        "id": "b534e8f9"
      },
      "source": [
        "**Вывод:** Кредиты на операции с автомобилем самые высокорискованные,да и на получение образования тоже риск невозврата незначительно меньше. Лучше всего отдают кредиты, связанные с недвижимостью - самые благонадежные. Проведение свадьб скорее всего тоже будет благонадежным за счет подарков на сам день мероприятия."
      ]
    },
    {
      "cell_type": "markdown",
      "id": "5ef316f5",
      "metadata": {
        "deletable": false,
        "editable": false,
        "id": "5ef316f5"
      },
      "source": [
        "#### 3.5 Приведите возможные причины появления пропусков в исходных данных."
      ]
    },
    {
      "cell_type": "markdown",
      "id": "a1346188",
      "metadata": {
        "deletable": false,
        "id": "a1346188"
      },
      "source": [
        "*Ответ:*  В двух столбцах есть пропущенные значения. Один из них — days_employed - количество просроченных дней. Другой столбец с пропущенными значениями — total_income — хранит данные о доходах. \n",
        "Причины пропусков в столбце \"days_employed\" может быть связана с типом занятости человека. Например студент или пенсионер могут не работать официально и поэтому для них значение пропущено.\n",
        "В столбце \"total_income\" также причина пропуска может быть связана с тем, что официального дохода нет. Обычно бывает еще дополнительная графа о неофициальном доходе."
      ]
    },
    {
      "cell_type": "markdown",
      "id": "70a0de1c",
      "metadata": {
        "deletable": false,
        "editable": false,
        "id": "70a0de1c"
      },
      "source": [
        "#### 3.6 Объясните, почему заполнить пропуски медианным значением — лучшее решение для количественных переменных."
      ]
    },
    {
      "cell_type": "markdown",
      "id": "aac0d86d",
      "metadata": {
        "deletable": false,
        "id": "aac0d86d"
      },
      "source": [
        "*Ответ:* Заполнить пропуски медианным значением — лучшее решение для количественных переменных. Начнем с определения для более точного понимания. \n",
        "Медиана — это такое число в выборке, что ровно половина элементов больше него, а другая половина — меньше. \n",
        "Отсюда среднее значение некорректно характеризует данные, когда некоторые значения сильно выделяются среди большинства. "
      ]
    },
    {
      "cell_type": "markdown",
      "id": "e2c6c99a",
      "metadata": {
        "deletable": false,
        "editable": false,
        "id": "e2c6c99a"
      },
      "source": [
        "### Шаг 4: общий вывод."
      ]
    },
    {
      "cell_type": "markdown",
      "id": "4d2a7326",
      "metadata": {
        "deletable": false,
        "id": "4d2a7326"
      },
      "source": [
        "Напишите ваш общий вывод. Мы проверили несколько гипотез о влиянии различных характеристик клиента на погашения кредита в срок. Исследование показало, что все параметры играют важную роль на погашение кредита. Выявили какие кредиты несут в себе меньшую вероятность просрочки, какой доход кредитора является оптимальным, какое семейное положение указывает на умение распределять финансы, а также сделали небольшое предоположение о факторе наличия детей(но по нему нужно сделать дополнительные исследования). \n",
        "Из всего вышесказанного лучше учитывать данные факторы при модели построения алгоритма выдачи кредита.\n",
        "\n",
        "Также необходимо:\n",
        "1. Запросить у кредитного отдела фактор возможности выдачи кредита без подтверждения дохода.\n",
        "2. Внести корректировки в таблицу(создателю) в части указания только положительных чисел.\n",
        "3. Сообщить о наличии дубликатов и аномалиях в таблице."
      ]
    }
  ],
  "metadata": {
    "ExecuteTimeLog": [
      {
        "duration": 44,
        "start_time": "2022-12-04T18:48:24.868Z"
      },
      {
        "duration": 531,
        "start_time": "2022-12-04T18:48:38.288Z"
      },
      {
        "duration": 22,
        "start_time": "2022-12-04T18:48:38.821Z"
      },
      {
        "duration": 25,
        "start_time": "2022-12-04T18:48:38.846Z"
      },
      {
        "duration": 16,
        "start_time": "2022-12-04T18:48:38.874Z"
      },
      {
        "duration": 56,
        "start_time": "2022-12-04T18:48:38.893Z"
      },
      {
        "duration": 4,
        "start_time": "2022-12-04T18:48:38.950Z"
      },
      {
        "duration": 11,
        "start_time": "2022-12-04T18:48:38.956Z"
      },
      {
        "duration": 4,
        "start_time": "2022-12-04T18:48:38.969Z"
      },
      {
        "duration": 7,
        "start_time": "2022-12-04T18:48:38.975Z"
      },
      {
        "duration": 19,
        "start_time": "2022-12-04T18:48:38.984Z"
      },
      {
        "duration": 42,
        "start_time": "2022-12-04T18:48:39.005Z"
      },
      {
        "duration": 11,
        "start_time": "2022-12-04T18:48:39.049Z"
      },
      {
        "duration": 7,
        "start_time": "2022-12-04T18:48:39.062Z"
      },
      {
        "duration": 13,
        "start_time": "2022-12-04T18:48:39.072Z"
      },
      {
        "duration": 44,
        "start_time": "2022-12-04T18:48:39.087Z"
      },
      {
        "duration": 18,
        "start_time": "2022-12-04T18:48:39.133Z"
      },
      {
        "duration": 4,
        "start_time": "2022-12-04T18:48:39.152Z"
      },
      {
        "duration": 17,
        "start_time": "2022-12-04T18:48:39.158Z"
      },
      {
        "duration": 8,
        "start_time": "2022-12-04T18:48:39.177Z"
      },
      {
        "duration": 35,
        "start_time": "2022-12-04T18:48:39.187Z"
      },
      {
        "duration": 20,
        "start_time": "2022-12-04T18:48:39.225Z"
      },
      {
        "duration": 7,
        "start_time": "2022-12-04T18:48:39.247Z"
      },
      {
        "duration": 113,
        "start_time": "2022-12-04T18:48:39.256Z"
      },
      {
        "duration": 0,
        "start_time": "2022-12-04T18:48:39.370Z"
      },
      {
        "duration": 0,
        "start_time": "2022-12-04T18:48:39.372Z"
      },
      {
        "duration": 431,
        "start_time": "2022-12-04T18:49:20.053Z"
      },
      {
        "duration": 10,
        "start_time": "2022-12-04T18:50:21.706Z"
      },
      {
        "duration": 69,
        "start_time": "2022-12-04T18:52:28.148Z"
      },
      {
        "duration": 22,
        "start_time": "2022-12-04T18:52:45.555Z"
      },
      {
        "duration": 9,
        "start_time": "2022-12-04T18:53:48.348Z"
      },
      {
        "duration": 501,
        "start_time": "2022-12-04T19:16:16.299Z"
      },
      {
        "duration": 32,
        "start_time": "2022-12-04T19:16:16.802Z"
      },
      {
        "duration": 20,
        "start_time": "2022-12-04T19:16:16.839Z"
      },
      {
        "duration": 12,
        "start_time": "2022-12-04T19:16:16.861Z"
      },
      {
        "duration": 38,
        "start_time": "2022-12-04T19:16:16.875Z"
      },
      {
        "duration": 17,
        "start_time": "2022-12-04T19:16:16.915Z"
      },
      {
        "duration": 16,
        "start_time": "2022-12-04T19:16:16.935Z"
      },
      {
        "duration": 6,
        "start_time": "2022-12-04T19:16:16.953Z"
      },
      {
        "duration": 11,
        "start_time": "2022-12-04T19:16:16.961Z"
      },
      {
        "duration": 5,
        "start_time": "2022-12-04T19:16:16.973Z"
      },
      {
        "duration": 64,
        "start_time": "2022-12-04T19:16:16.979Z"
      },
      {
        "duration": 10,
        "start_time": "2022-12-04T19:16:17.045Z"
      },
      {
        "duration": 6,
        "start_time": "2022-12-04T19:16:17.057Z"
      },
      {
        "duration": 11,
        "start_time": "2022-12-04T19:16:17.066Z"
      },
      {
        "duration": 26,
        "start_time": "2022-12-04T19:16:17.079Z"
      },
      {
        "duration": 34,
        "start_time": "2022-12-04T19:16:17.106Z"
      },
      {
        "duration": 4,
        "start_time": "2022-12-04T19:16:17.141Z"
      },
      {
        "duration": 12,
        "start_time": "2022-12-04T19:16:17.146Z"
      },
      {
        "duration": 8,
        "start_time": "2022-12-04T19:16:17.160Z"
      },
      {
        "duration": 7,
        "start_time": "2022-12-04T19:16:17.170Z"
      },
      {
        "duration": 12,
        "start_time": "2022-12-04T19:16:17.179Z"
      },
      {
        "duration": 300,
        "start_time": "2022-12-04T19:16:17.192Z"
      },
      {
        "duration": 12,
        "start_time": "2022-12-04T19:16:17.494Z"
      },
      {
        "duration": 1402,
        "start_time": "2022-12-04T19:16:17.508Z"
      },
      {
        "duration": 5,
        "start_time": "2022-12-04T19:16:18.912Z"
      },
      {
        "duration": 11,
        "start_time": "2022-12-04T19:17:47.909Z"
      },
      {
        "duration": 468,
        "start_time": "2022-12-04T19:18:11.094Z"
      },
      {
        "duration": 29,
        "start_time": "2022-12-04T19:18:11.564Z"
      },
      {
        "duration": 31,
        "start_time": "2022-12-04T19:18:11.595Z"
      },
      {
        "duration": 12,
        "start_time": "2022-12-04T19:18:11.634Z"
      },
      {
        "duration": 39,
        "start_time": "2022-12-04T19:18:11.648Z"
      },
      {
        "duration": 3,
        "start_time": "2022-12-04T19:18:11.689Z"
      },
      {
        "duration": 10,
        "start_time": "2022-12-04T19:18:11.694Z"
      },
      {
        "duration": 13,
        "start_time": "2022-12-04T19:18:11.722Z"
      },
      {
        "duration": 16,
        "start_time": "2022-12-04T19:18:11.736Z"
      },
      {
        "duration": 4,
        "start_time": "2022-12-04T19:18:11.754Z"
      },
      {
        "duration": 50,
        "start_time": "2022-12-04T19:18:11.760Z"
      },
      {
        "duration": 21,
        "start_time": "2022-12-04T19:18:11.812Z"
      },
      {
        "duration": 25,
        "start_time": "2022-12-04T19:18:11.838Z"
      },
      {
        "duration": 22,
        "start_time": "2022-12-04T19:18:11.865Z"
      },
      {
        "duration": 28,
        "start_time": "2022-12-04T19:18:11.889Z"
      },
      {
        "duration": 24,
        "start_time": "2022-12-04T19:18:11.918Z"
      },
      {
        "duration": 18,
        "start_time": "2022-12-04T19:18:11.944Z"
      },
      {
        "duration": 12,
        "start_time": "2022-12-04T19:18:11.964Z"
      },
      {
        "duration": 9,
        "start_time": "2022-12-04T19:18:11.978Z"
      },
      {
        "duration": 4,
        "start_time": "2022-12-04T19:18:11.989Z"
      },
      {
        "duration": 12,
        "start_time": "2022-12-04T19:18:11.995Z"
      },
      {
        "duration": 291,
        "start_time": "2022-12-04T19:18:12.009Z"
      },
      {
        "duration": 10,
        "start_time": "2022-12-04T19:18:12.301Z"
      },
      {
        "duration": 1357,
        "start_time": "2022-12-04T19:18:12.322Z"
      },
      {
        "duration": 4,
        "start_time": "2022-12-04T19:18:13.681Z"
      },
      {
        "duration": 1264,
        "start_time": "2022-12-04T19:18:16.627Z"
      },
      {
        "duration": 440,
        "start_time": "2022-12-04T19:18:28.669Z"
      },
      {
        "duration": 33,
        "start_time": "2022-12-04T19:18:29.111Z"
      },
      {
        "duration": 18,
        "start_time": "2022-12-04T19:18:29.145Z"
      },
      {
        "duration": 8,
        "start_time": "2022-12-04T19:18:29.165Z"
      },
      {
        "duration": 32,
        "start_time": "2022-12-04T19:18:29.175Z"
      },
      {
        "duration": 16,
        "start_time": "2022-12-04T19:18:29.209Z"
      },
      {
        "duration": 14,
        "start_time": "2022-12-04T19:18:29.229Z"
      },
      {
        "duration": 7,
        "start_time": "2022-12-04T19:18:29.245Z"
      },
      {
        "duration": 10,
        "start_time": "2022-12-04T19:18:29.253Z"
      },
      {
        "duration": 5,
        "start_time": "2022-12-04T19:18:29.266Z"
      },
      {
        "duration": 61,
        "start_time": "2022-12-04T19:18:29.272Z"
      },
      {
        "duration": 12,
        "start_time": "2022-12-04T19:18:29.337Z"
      },
      {
        "duration": 4,
        "start_time": "2022-12-04T19:18:29.351Z"
      },
      {
        "duration": 12,
        "start_time": "2022-12-04T19:18:29.357Z"
      },
      {
        "duration": 19,
        "start_time": "2022-12-04T19:18:29.371Z"
      },
      {
        "duration": 53,
        "start_time": "2022-12-04T19:18:29.392Z"
      },
      {
        "duration": 5,
        "start_time": "2022-12-04T19:18:29.447Z"
      },
      {
        "duration": 18,
        "start_time": "2022-12-04T19:18:29.453Z"
      },
      {
        "duration": 7,
        "start_time": "2022-12-04T19:18:29.473Z"
      },
      {
        "duration": 4,
        "start_time": "2022-12-04T19:18:29.482Z"
      },
      {
        "duration": 14,
        "start_time": "2022-12-04T19:18:29.487Z"
      },
      {
        "duration": 315,
        "start_time": "2022-12-04T19:18:29.522Z"
      },
      {
        "duration": 15,
        "start_time": "2022-12-04T19:18:29.839Z"
      },
      {
        "duration": 1396,
        "start_time": "2022-12-04T19:18:29.855Z"
      },
      {
        "duration": 4,
        "start_time": "2022-12-04T19:18:31.253Z"
      },
      {
        "duration": 1292,
        "start_time": "2022-12-04T19:18:45.798Z"
      },
      {
        "duration": 87,
        "start_time": "2022-12-04T19:19:15.260Z"
      },
      {
        "duration": 25,
        "start_time": "2022-12-04T19:20:44.180Z"
      },
      {
        "duration": 22,
        "start_time": "2022-12-04T19:21:35.573Z"
      },
      {
        "duration": 47,
        "start_time": "2022-12-04T19:21:48.998Z"
      },
      {
        "duration": 15,
        "start_time": "2022-12-04T19:22:06.488Z"
      },
      {
        "duration": 15,
        "start_time": "2022-12-04T19:22:23.053Z"
      },
      {
        "duration": 480,
        "start_time": "2022-12-04T19:22:33.540Z"
      },
      {
        "duration": 27,
        "start_time": "2022-12-04T19:22:34.022Z"
      },
      {
        "duration": 19,
        "start_time": "2022-12-04T19:22:34.051Z"
      },
      {
        "duration": 13,
        "start_time": "2022-12-04T19:22:34.073Z"
      },
      {
        "duration": 67,
        "start_time": "2022-12-04T19:22:34.088Z"
      },
      {
        "duration": 4,
        "start_time": "2022-12-04T19:22:34.156Z"
      },
      {
        "duration": 11,
        "start_time": "2022-12-04T19:22:34.162Z"
      },
      {
        "duration": 9,
        "start_time": "2022-12-04T19:22:34.174Z"
      },
      {
        "duration": 13,
        "start_time": "2022-12-04T19:22:34.185Z"
      },
      {
        "duration": 5,
        "start_time": "2022-12-04T19:22:34.201Z"
      },
      {
        "duration": 50,
        "start_time": "2022-12-04T19:22:34.208Z"
      },
      {
        "duration": 13,
        "start_time": "2022-12-04T19:22:34.260Z"
      },
      {
        "duration": 5,
        "start_time": "2022-12-04T19:22:34.274Z"
      },
      {
        "duration": 15,
        "start_time": "2022-12-04T19:22:34.280Z"
      },
      {
        "duration": 52,
        "start_time": "2022-12-04T19:22:34.297Z"
      },
      {
        "duration": 17,
        "start_time": "2022-12-04T19:22:34.350Z"
      },
      {
        "duration": 4,
        "start_time": "2022-12-04T19:22:34.369Z"
      },
      {
        "duration": 17,
        "start_time": "2022-12-04T19:22:34.375Z"
      },
      {
        "duration": 42,
        "start_time": "2022-12-04T19:22:34.394Z"
      },
      {
        "duration": 4,
        "start_time": "2022-12-04T19:22:34.438Z"
      },
      {
        "duration": 16,
        "start_time": "2022-12-04T19:22:34.443Z"
      },
      {
        "duration": 287,
        "start_time": "2022-12-04T19:22:34.460Z"
      },
      {
        "duration": 12,
        "start_time": "2022-12-04T19:22:34.748Z"
      },
      {
        "duration": 16,
        "start_time": "2022-12-04T19:22:34.761Z"
      },
      {
        "duration": 3,
        "start_time": "2022-12-04T19:22:34.778Z"
      },
      {
        "duration": 65,
        "start_time": "2022-12-04T19:22:43.051Z"
      },
      {
        "duration": 29,
        "start_time": "2022-12-04T19:22:55.915Z"
      },
      {
        "duration": 1443,
        "start_time": "2022-12-04T19:23:13.560Z"
      },
      {
        "duration": 16,
        "start_time": "2022-12-04T19:26:46.084Z"
      },
      {
        "duration": 11,
        "start_time": "2022-12-04T19:28:52.817Z"
      },
      {
        "duration": 9,
        "start_time": "2022-12-04T19:29:45.751Z"
      },
      {
        "duration": 80,
        "start_time": "2022-12-04T19:30:34.457Z"
      },
      {
        "duration": 14,
        "start_time": "2022-12-04T19:30:40.063Z"
      },
      {
        "duration": 20,
        "start_time": "2022-12-04T19:44:05.279Z"
      },
      {
        "duration": 16,
        "start_time": "2022-12-04T19:44:53.480Z"
      },
      {
        "duration": 57,
        "start_time": "2022-12-05T19:36:41.044Z"
      },
      {
        "duration": 736,
        "start_time": "2022-12-05T19:36:49.828Z"
      },
      {
        "duration": 32,
        "start_time": "2022-12-05T19:36:50.566Z"
      },
      {
        "duration": 19,
        "start_time": "2022-12-05T19:36:50.600Z"
      },
      {
        "duration": 10,
        "start_time": "2022-12-05T19:36:50.621Z"
      },
      {
        "duration": 73,
        "start_time": "2022-12-05T19:36:50.633Z"
      },
      {
        "duration": 4,
        "start_time": "2022-12-05T19:36:50.708Z"
      },
      {
        "duration": 14,
        "start_time": "2022-12-05T19:36:50.713Z"
      },
      {
        "duration": 5,
        "start_time": "2022-12-05T19:36:50.729Z"
      },
      {
        "duration": 13,
        "start_time": "2022-12-05T19:36:50.735Z"
      },
      {
        "duration": 11,
        "start_time": "2022-12-05T19:36:50.779Z"
      },
      {
        "duration": 41,
        "start_time": "2022-12-05T19:36:50.794Z"
      },
      {
        "duration": 10,
        "start_time": "2022-12-05T19:36:50.837Z"
      },
      {
        "duration": 4,
        "start_time": "2022-12-05T19:36:50.848Z"
      },
      {
        "duration": 45,
        "start_time": "2022-12-05T19:36:50.854Z"
      },
      {
        "duration": 24,
        "start_time": "2022-12-05T19:36:50.901Z"
      },
      {
        "duration": 20,
        "start_time": "2022-12-05T19:36:50.927Z"
      },
      {
        "duration": 4,
        "start_time": "2022-12-05T19:36:50.949Z"
      },
      {
        "duration": 22,
        "start_time": "2022-12-05T19:36:50.977Z"
      },
      {
        "duration": 17,
        "start_time": "2022-12-05T19:36:51.004Z"
      },
      {
        "duration": 8,
        "start_time": "2022-12-05T19:36:51.024Z"
      },
      {
        "duration": 28,
        "start_time": "2022-12-05T19:36:51.034Z"
      },
      {
        "duration": 521,
        "start_time": "2022-12-05T19:36:51.065Z"
      },
      {
        "duration": 21,
        "start_time": "2022-12-05T19:36:51.588Z"
      },
      {
        "duration": 14,
        "start_time": "2022-12-05T19:36:51.610Z"
      },
      {
        "duration": 14,
        "start_time": "2022-12-05T19:36:51.626Z"
      },
      {
        "duration": 44,
        "start_time": "2022-12-05T19:36:51.642Z"
      }
    ],
    "colab": {
      "provenance": []
    },
    "kernelspec": {
      "display_name": "Python 3 (ipykernel)",
      "language": "python",
      "name": "python3"
    },
    "language_info": {
      "codemirror_mode": {
        "name": "ipython",
        "version": 3
      },
      "file_extension": ".py",
      "mimetype": "text/x-python",
      "name": "python",
      "nbconvert_exporter": "python",
      "pygments_lexer": "ipython3",
      "version": "3.9.5"
    },
    "toc": {
      "base_numbering": 1,
      "nav_menu": {},
      "number_sections": true,
      "sideBar": true,
      "skip_h1_title": true,
      "title_cell": "Table of Contents",
      "title_sidebar": "Contents",
      "toc_cell": false,
      "toc_position": {},
      "toc_section_display": true,
      "toc_window_display": false
    }
  },
  "nbformat": 4,
  "nbformat_minor": 5
}