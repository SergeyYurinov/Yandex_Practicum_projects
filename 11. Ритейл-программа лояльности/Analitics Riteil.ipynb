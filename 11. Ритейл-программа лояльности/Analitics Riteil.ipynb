{
  "cells": [
    {
      "cell_type": "markdown",
      "metadata": {
        "id": "snvJejD3Wbmx"
      },
      "source": [
        "# Ритейл — Анализ программы лояльности"
      ]
    },
    {
      "cell_type": "markdown",
      "metadata": {
        "id": "iAcis64QWbmy"
      },
      "source": [
        "## Ознакомиться с данными, изучить структуру и формат представления."
      ]
    },
    {
      "cell_type": "code",
      "execution_count": 1,
      "metadata": {
        "id": "W3C8LNa2Wbmz"
      },
      "outputs": [],
      "source": [
        "#Импортируем библиотеки\n",
        "import pandas as pd\n",
        "import numpy as np\n",
        "import matplotlib.pyplot as plt\n",
        "import datetime as dt\n",
        "import seaborn as sns\n",
        "import scipy.stats as stats\n",
        "from scipy import stats as st\n",
        "from scipy.stats import ttest_ind\n",
        "from statsmodels.stats.proportion import proportions_ztest\n",
        "import scipy.stats as stats\n",
        "import math as mth\n",
        "import plotly.express as px\n",
        "from plotly import graph_objects as go\n",
        "from datetime import datetime, timedelta"
      ]
    },
    {
      "cell_type": "code",
      "execution_count": 2,
      "metadata": {
        "colab": {
          "base_uri": "https://localhost:8080/",
          "height": 620
        },
        "id": "YjESg2QxWbm1",
        "outputId": "e524e24d-da23-40dc-c6a3-20bc97ecfcb8"
      },
      "outputs": [
        {
          "output_type": "stream",
          "name": "stdout",
          "text": [
            "<class 'pandas.core.frame.DataFrame'>\n",
            "RangeIndex: 105335 entries, 0 to 105334\n",
            "Data columns (total 7 columns):\n",
            " #   Column           Non-Null Count   Dtype  \n",
            "---  ------           --------------   -----  \n",
            " 0   purchaseid       105335 non-null  object \n",
            " 1   item_ID          105335 non-null  object \n",
            " 2   Quantity         105335 non-null  int64  \n",
            " 3   purchasedate     105335 non-null  object \n",
            " 4   CustomerID       69125 non-null   float64\n",
            " 5   ShopID           105335 non-null  object \n",
            " 6   loyalty_program  105335 non-null  float64\n",
            "dtypes: float64(2), int64(1), object(4)\n",
            "memory usage: 5.6+ MB\n"
          ]
        },
        {
          "output_type": "display_data",
          "data": {
            "text/plain": [
              "  purchaseid item_ID  Quantity         purchasedate  CustomerID  ShopID  \\\n",
              "0     538280   21873        11  2016-12-10 12:50:00     18427.0  Shop 0   \n",
              "1     538862   22195         0  2016-12-14 14:11:00     22389.0  Shop 0   \n",
              "2     538855   21239         7  2016-12-14 13:50:00     22182.0  Shop 0   \n",
              "3     543543   22271         0  2017-02-09 15:33:00     23522.0  Shop 0   \n",
              "4     543812   79321         0  2017-02-13 14:40:00     23151.0  Shop 0   \n",
              "5     538379   22965         0  2016-12-12 11:26:00     22805.0  Shop 0   \n",
              "6     540468   22189         0  2017-01-07 13:55:00         NaN  Shop 0   \n",
              "7     541424   79321         1  2017-01-17 17:57:00         NaN  Shop 0   \n",
              "8     538883   22891         0  2016-12-14 15:56:00         NaN  Shop 0   \n",
              "9     539501   22372         0  2016-12-20 11:08:00     22764.0  Shop 0   \n",
              "\n",
              "   loyalty_program  \n",
              "0              0.0  \n",
              "1              1.0  \n",
              "2              1.0  \n",
              "3              1.0  \n",
              "4              1.0  \n",
              "5              1.0  \n",
              "6              0.0  \n",
              "7              0.0  \n",
              "8              0.0  \n",
              "9              1.0  "
            ],
            "text/html": [
              "\n",
              "  <div id=\"df-4c913800-d145-43bd-975e-002fb6f2694f\">\n",
              "    <div class=\"colab-df-container\">\n",
              "      <div>\n",
              "<style scoped>\n",
              "    .dataframe tbody tr th:only-of-type {\n",
              "        vertical-align: middle;\n",
              "    }\n",
              "\n",
              "    .dataframe tbody tr th {\n",
              "        vertical-align: top;\n",
              "    }\n",
              "\n",
              "    .dataframe thead th {\n",
              "        text-align: right;\n",
              "    }\n",
              "</style>\n",
              "<table border=\"1\" class=\"dataframe\">\n",
              "  <thead>\n",
              "    <tr style=\"text-align: right;\">\n",
              "      <th></th>\n",
              "      <th>purchaseid</th>\n",
              "      <th>item_ID</th>\n",
              "      <th>Quantity</th>\n",
              "      <th>purchasedate</th>\n",
              "      <th>CustomerID</th>\n",
              "      <th>ShopID</th>\n",
              "      <th>loyalty_program</th>\n",
              "    </tr>\n",
              "  </thead>\n",
              "  <tbody>\n",
              "    <tr>\n",
              "      <th>0</th>\n",
              "      <td>538280</td>\n",
              "      <td>21873</td>\n",
              "      <td>11</td>\n",
              "      <td>2016-12-10 12:50:00</td>\n",
              "      <td>18427.0</td>\n",
              "      <td>Shop 0</td>\n",
              "      <td>0.0</td>\n",
              "    </tr>\n",
              "    <tr>\n",
              "      <th>1</th>\n",
              "      <td>538862</td>\n",
              "      <td>22195</td>\n",
              "      <td>0</td>\n",
              "      <td>2016-12-14 14:11:00</td>\n",
              "      <td>22389.0</td>\n",
              "      <td>Shop 0</td>\n",
              "      <td>1.0</td>\n",
              "    </tr>\n",
              "    <tr>\n",
              "      <th>2</th>\n",
              "      <td>538855</td>\n",
              "      <td>21239</td>\n",
              "      <td>7</td>\n",
              "      <td>2016-12-14 13:50:00</td>\n",
              "      <td>22182.0</td>\n",
              "      <td>Shop 0</td>\n",
              "      <td>1.0</td>\n",
              "    </tr>\n",
              "    <tr>\n",
              "      <th>3</th>\n",
              "      <td>543543</td>\n",
              "      <td>22271</td>\n",
              "      <td>0</td>\n",
              "      <td>2017-02-09 15:33:00</td>\n",
              "      <td>23522.0</td>\n",
              "      <td>Shop 0</td>\n",
              "      <td>1.0</td>\n",
              "    </tr>\n",
              "    <tr>\n",
              "      <th>4</th>\n",
              "      <td>543812</td>\n",
              "      <td>79321</td>\n",
              "      <td>0</td>\n",
              "      <td>2017-02-13 14:40:00</td>\n",
              "      <td>23151.0</td>\n",
              "      <td>Shop 0</td>\n",
              "      <td>1.0</td>\n",
              "    </tr>\n",
              "    <tr>\n",
              "      <th>5</th>\n",
              "      <td>538379</td>\n",
              "      <td>22965</td>\n",
              "      <td>0</td>\n",
              "      <td>2016-12-12 11:26:00</td>\n",
              "      <td>22805.0</td>\n",
              "      <td>Shop 0</td>\n",
              "      <td>1.0</td>\n",
              "    </tr>\n",
              "    <tr>\n",
              "      <th>6</th>\n",
              "      <td>540468</td>\n",
              "      <td>22189</td>\n",
              "      <td>0</td>\n",
              "      <td>2017-01-07 13:55:00</td>\n",
              "      <td>NaN</td>\n",
              "      <td>Shop 0</td>\n",
              "      <td>0.0</td>\n",
              "    </tr>\n",
              "    <tr>\n",
              "      <th>7</th>\n",
              "      <td>541424</td>\n",
              "      <td>79321</td>\n",
              "      <td>1</td>\n",
              "      <td>2017-01-17 17:57:00</td>\n",
              "      <td>NaN</td>\n",
              "      <td>Shop 0</td>\n",
              "      <td>0.0</td>\n",
              "    </tr>\n",
              "    <tr>\n",
              "      <th>8</th>\n",
              "      <td>538883</td>\n",
              "      <td>22891</td>\n",
              "      <td>0</td>\n",
              "      <td>2016-12-14 15:56:00</td>\n",
              "      <td>NaN</td>\n",
              "      <td>Shop 0</td>\n",
              "      <td>0.0</td>\n",
              "    </tr>\n",
              "    <tr>\n",
              "      <th>9</th>\n",
              "      <td>539501</td>\n",
              "      <td>22372</td>\n",
              "      <td>0</td>\n",
              "      <td>2016-12-20 11:08:00</td>\n",
              "      <td>22764.0</td>\n",
              "      <td>Shop 0</td>\n",
              "      <td>1.0</td>\n",
              "    </tr>\n",
              "  </tbody>\n",
              "</table>\n",
              "</div>\n",
              "      <button class=\"colab-df-convert\" onclick=\"convertToInteractive('df-4c913800-d145-43bd-975e-002fb6f2694f')\"\n",
              "              title=\"Convert this dataframe to an interactive table.\"\n",
              "              style=\"display:none;\">\n",
              "        \n",
              "  <svg xmlns=\"http://www.w3.org/2000/svg\" height=\"24px\"viewBox=\"0 0 24 24\"\n",
              "       width=\"24px\">\n",
              "    <path d=\"M0 0h24v24H0V0z\" fill=\"none\"/>\n",
              "    <path d=\"M18.56 5.44l.94 2.06.94-2.06 2.06-.94-2.06-.94-.94-2.06-.94 2.06-2.06.94zm-11 1L8.5 8.5l.94-2.06 2.06-.94-2.06-.94L8.5 2.5l-.94 2.06-2.06.94zm10 10l.94 2.06.94-2.06 2.06-.94-2.06-.94-.94-2.06-.94 2.06-2.06.94z\"/><path d=\"M17.41 7.96l-1.37-1.37c-.4-.4-.92-.59-1.43-.59-.52 0-1.04.2-1.43.59L10.3 9.45l-7.72 7.72c-.78.78-.78 2.05 0 2.83L4 21.41c.39.39.9.59 1.41.59.51 0 1.02-.2 1.41-.59l7.78-7.78 2.81-2.81c.8-.78.8-2.07 0-2.86zM5.41 20L4 18.59l7.72-7.72 1.47 1.35L5.41 20z\"/>\n",
              "  </svg>\n",
              "      </button>\n",
              "      \n",
              "  <style>\n",
              "    .colab-df-container {\n",
              "      display:flex;\n",
              "      flex-wrap:wrap;\n",
              "      gap: 12px;\n",
              "    }\n",
              "\n",
              "    .colab-df-convert {\n",
              "      background-color: #E8F0FE;\n",
              "      border: none;\n",
              "      border-radius: 50%;\n",
              "      cursor: pointer;\n",
              "      display: none;\n",
              "      fill: #1967D2;\n",
              "      height: 32px;\n",
              "      padding: 0 0 0 0;\n",
              "      width: 32px;\n",
              "    }\n",
              "\n",
              "    .colab-df-convert:hover {\n",
              "      background-color: #E2EBFA;\n",
              "      box-shadow: 0px 1px 2px rgba(60, 64, 67, 0.3), 0px 1px 3px 1px rgba(60, 64, 67, 0.15);\n",
              "      fill: #174EA6;\n",
              "    }\n",
              "\n",
              "    [theme=dark] .colab-df-convert {\n",
              "      background-color: #3B4455;\n",
              "      fill: #D2E3FC;\n",
              "    }\n",
              "\n",
              "    [theme=dark] .colab-df-convert:hover {\n",
              "      background-color: #434B5C;\n",
              "      box-shadow: 0px 1px 3px 1px rgba(0, 0, 0, 0.15);\n",
              "      filter: drop-shadow(0px 1px 2px rgba(0, 0, 0, 0.3));\n",
              "      fill: #FFFFFF;\n",
              "    }\n",
              "  </style>\n",
              "\n",
              "      <script>\n",
              "        const buttonEl =\n",
              "          document.querySelector('#df-4c913800-d145-43bd-975e-002fb6f2694f button.colab-df-convert');\n",
              "        buttonEl.style.display =\n",
              "          google.colab.kernel.accessAllowed ? 'block' : 'none';\n",
              "\n",
              "        async function convertToInteractive(key) {\n",
              "          const element = document.querySelector('#df-4c913800-d145-43bd-975e-002fb6f2694f');\n",
              "          const dataTable =\n",
              "            await google.colab.kernel.invokeFunction('convertToInteractive',\n",
              "                                                     [key], {});\n",
              "          if (!dataTable) return;\n",
              "\n",
              "          const docLinkHtml = 'Like what you see? Visit the ' +\n",
              "            '<a target=\"_blank\" href=https://colab.research.google.com/notebooks/data_table.ipynb>data table notebook</a>'\n",
              "            + ' to learn more about interactive tables.';\n",
              "          element.innerHTML = '';\n",
              "          dataTable['output_type'] = 'display_data';\n",
              "          await google.colab.output.renderOutput(dataTable, element);\n",
              "          const docLink = document.createElement('div');\n",
              "          docLink.innerHTML = docLinkHtml;\n",
              "          element.appendChild(docLink);\n",
              "        }\n",
              "      </script>\n",
              "    </div>\n",
              "  </div>\n",
              "  "
            ]
          },
          "metadata": {}
        }
      ],
      "source": [
        "#код загрузки первого датасета\n",
        "\n",
        "import os\n",
        "    \n",
        "rd = '/content/retail_dataset.csv'\n",
        "if os.path.exists(rd):\n",
        "    rd = pd.read_csv(rd)\n",
        "else:\n",
        "    print('Something is wrong')\n",
        "\n",
        "rd.info()\n",
        "display(rd.head(10));"
      ]
    },
    {
      "cell_type": "code",
      "execution_count": 3,
      "metadata": {
        "colab": {
          "base_uri": "https://localhost:8080/",
          "height": 528
        },
        "id": "n4ZBSD1jWbm3",
        "outputId": "fe6c06ec-d343-47bd-d2b1-270663f2f9a1"
      },
      "outputs": [
        {
          "output_type": "stream",
          "name": "stdout",
          "text": [
            "<class 'pandas.core.frame.DataFrame'>\n",
            "RangeIndex: 9969 entries, 0 to 9968\n",
            "Data columns (total 2 columns):\n",
            " #   Column         Non-Null Count  Dtype  \n",
            "---  ------         --------------  -----  \n",
            " 0   productID      9969 non-null   object \n",
            " 1   price_per_one  9969 non-null   float64\n",
            "dtypes: float64(1), object(1)\n",
            "memory usage: 155.9+ KB\n"
          ]
        },
        {
          "output_type": "display_data",
          "data": {
            "text/plain": [
              "  productID  price_per_one\n",
              "0    85123A           2.55\n",
              "1     71053           3.39\n",
              "2    84406B           2.75\n",
              "3    84029G           3.39\n",
              "4    84029E           3.39\n",
              "5     22752           7.65\n",
              "6     21730           4.25\n",
              "7     22633           1.85\n",
              "8     22632           1.85\n",
              "9     84879           1.69"
            ],
            "text/html": [
              "\n",
              "  <div id=\"df-c000d1bf-2859-444c-aa8b-2340a24b379f\">\n",
              "    <div class=\"colab-df-container\">\n",
              "      <div>\n",
              "<style scoped>\n",
              "    .dataframe tbody tr th:only-of-type {\n",
              "        vertical-align: middle;\n",
              "    }\n",
              "\n",
              "    .dataframe tbody tr th {\n",
              "        vertical-align: top;\n",
              "    }\n",
              "\n",
              "    .dataframe thead th {\n",
              "        text-align: right;\n",
              "    }\n",
              "</style>\n",
              "<table border=\"1\" class=\"dataframe\">\n",
              "  <thead>\n",
              "    <tr style=\"text-align: right;\">\n",
              "      <th></th>\n",
              "      <th>productID</th>\n",
              "      <th>price_per_one</th>\n",
              "    </tr>\n",
              "  </thead>\n",
              "  <tbody>\n",
              "    <tr>\n",
              "      <th>0</th>\n",
              "      <td>85123A</td>\n",
              "      <td>2.55</td>\n",
              "    </tr>\n",
              "    <tr>\n",
              "      <th>1</th>\n",
              "      <td>71053</td>\n",
              "      <td>3.39</td>\n",
              "    </tr>\n",
              "    <tr>\n",
              "      <th>2</th>\n",
              "      <td>84406B</td>\n",
              "      <td>2.75</td>\n",
              "    </tr>\n",
              "    <tr>\n",
              "      <th>3</th>\n",
              "      <td>84029G</td>\n",
              "      <td>3.39</td>\n",
              "    </tr>\n",
              "    <tr>\n",
              "      <th>4</th>\n",
              "      <td>84029E</td>\n",
              "      <td>3.39</td>\n",
              "    </tr>\n",
              "    <tr>\n",
              "      <th>5</th>\n",
              "      <td>22752</td>\n",
              "      <td>7.65</td>\n",
              "    </tr>\n",
              "    <tr>\n",
              "      <th>6</th>\n",
              "      <td>21730</td>\n",
              "      <td>4.25</td>\n",
              "    </tr>\n",
              "    <tr>\n",
              "      <th>7</th>\n",
              "      <td>22633</td>\n",
              "      <td>1.85</td>\n",
              "    </tr>\n",
              "    <tr>\n",
              "      <th>8</th>\n",
              "      <td>22632</td>\n",
              "      <td>1.85</td>\n",
              "    </tr>\n",
              "    <tr>\n",
              "      <th>9</th>\n",
              "      <td>84879</td>\n",
              "      <td>1.69</td>\n",
              "    </tr>\n",
              "  </tbody>\n",
              "</table>\n",
              "</div>\n",
              "      <button class=\"colab-df-convert\" onclick=\"convertToInteractive('df-c000d1bf-2859-444c-aa8b-2340a24b379f')\"\n",
              "              title=\"Convert this dataframe to an interactive table.\"\n",
              "              style=\"display:none;\">\n",
              "        \n",
              "  <svg xmlns=\"http://www.w3.org/2000/svg\" height=\"24px\"viewBox=\"0 0 24 24\"\n",
              "       width=\"24px\">\n",
              "    <path d=\"M0 0h24v24H0V0z\" fill=\"none\"/>\n",
              "    <path d=\"M18.56 5.44l.94 2.06.94-2.06 2.06-.94-2.06-.94-.94-2.06-.94 2.06-2.06.94zm-11 1L8.5 8.5l.94-2.06 2.06-.94-2.06-.94L8.5 2.5l-.94 2.06-2.06.94zm10 10l.94 2.06.94-2.06 2.06-.94-2.06-.94-.94-2.06-.94 2.06-2.06.94z\"/><path d=\"M17.41 7.96l-1.37-1.37c-.4-.4-.92-.59-1.43-.59-.52 0-1.04.2-1.43.59L10.3 9.45l-7.72 7.72c-.78.78-.78 2.05 0 2.83L4 21.41c.39.39.9.59 1.41.59.51 0 1.02-.2 1.41-.59l7.78-7.78 2.81-2.81c.8-.78.8-2.07 0-2.86zM5.41 20L4 18.59l7.72-7.72 1.47 1.35L5.41 20z\"/>\n",
              "  </svg>\n",
              "      </button>\n",
              "      \n",
              "  <style>\n",
              "    .colab-df-container {\n",
              "      display:flex;\n",
              "      flex-wrap:wrap;\n",
              "      gap: 12px;\n",
              "    }\n",
              "\n",
              "    .colab-df-convert {\n",
              "      background-color: #E8F0FE;\n",
              "      border: none;\n",
              "      border-radius: 50%;\n",
              "      cursor: pointer;\n",
              "      display: none;\n",
              "      fill: #1967D2;\n",
              "      height: 32px;\n",
              "      padding: 0 0 0 0;\n",
              "      width: 32px;\n",
              "    }\n",
              "\n",
              "    .colab-df-convert:hover {\n",
              "      background-color: #E2EBFA;\n",
              "      box-shadow: 0px 1px 2px rgba(60, 64, 67, 0.3), 0px 1px 3px 1px rgba(60, 64, 67, 0.15);\n",
              "      fill: #174EA6;\n",
              "    }\n",
              "\n",
              "    [theme=dark] .colab-df-convert {\n",
              "      background-color: #3B4455;\n",
              "      fill: #D2E3FC;\n",
              "    }\n",
              "\n",
              "    [theme=dark] .colab-df-convert:hover {\n",
              "      background-color: #434B5C;\n",
              "      box-shadow: 0px 1px 3px 1px rgba(0, 0, 0, 0.15);\n",
              "      filter: drop-shadow(0px 1px 2px rgba(0, 0, 0, 0.3));\n",
              "      fill: #FFFFFF;\n",
              "    }\n",
              "  </style>\n",
              "\n",
              "      <script>\n",
              "        const buttonEl =\n",
              "          document.querySelector('#df-c000d1bf-2859-444c-aa8b-2340a24b379f button.colab-df-convert');\n",
              "        buttonEl.style.display =\n",
              "          google.colab.kernel.accessAllowed ? 'block' : 'none';\n",
              "\n",
              "        async function convertToInteractive(key) {\n",
              "          const element = document.querySelector('#df-c000d1bf-2859-444c-aa8b-2340a24b379f');\n",
              "          const dataTable =\n",
              "            await google.colab.kernel.invokeFunction('convertToInteractive',\n",
              "                                                     [key], {});\n",
              "          if (!dataTable) return;\n",
              "\n",
              "          const docLinkHtml = 'Like what you see? Visit the ' +\n",
              "            '<a target=\"_blank\" href=https://colab.research.google.com/notebooks/data_table.ipynb>data table notebook</a>'\n",
              "            + ' to learn more about interactive tables.';\n",
              "          element.innerHTML = '';\n",
              "          dataTable['output_type'] = 'display_data';\n",
              "          await google.colab.output.renderOutput(dataTable, element);\n",
              "          const docLink = document.createElement('div');\n",
              "          docLink.innerHTML = docLinkHtml;\n",
              "          element.appendChild(docLink);\n",
              "        }\n",
              "      </script>\n",
              "    </div>\n",
              "  </div>\n",
              "  "
            ]
          },
          "metadata": {}
        }
      ],
      "source": [
        "#код загрузки второго датасета\n",
        "\n",
        "import os\n",
        "    \n",
        "pc = '/content/product_codes.csv'\n",
        "if os.path.exists(pc):\n",
        "    pc = pd.read_csv(pc)\n",
        "else:\n",
        "    print('Something is wrong')\n",
        "\n",
        "pc.info()\n",
        "display(pc.head(10));"
      ]
    },
    {
      "cell_type": "code",
      "execution_count": 4,
      "metadata": {
        "colab": {
          "base_uri": "https://localhost:8080/"
        },
        "id": "DY-Sg1eUWbm3",
        "outputId": "8ca69cff-5a2f-4982-b2a2-c49c470ed203"
      },
      "outputs": [
        {
          "output_type": "stream",
          "name": "stdout",
          "text": [
            "Количество магазинов: 31\n"
          ]
        }
      ],
      "source": [
        "# Найдем количество магазинов: \n",
        "print('Количество магазинов:', rd['ShopID'].nunique())"
      ]
    },
    {
      "cell_type": "markdown",
      "metadata": {
        "id": "y217nvqqWbm4"
      },
      "source": [
        "### Выводы: \n",
        "\n",
        "Общая информация о датасетах:\n",
        "**Retail Dataset**\n",
        "У нас 7 столбцов с данными. Максимальное количество строк 105335.\n",
        "\n",
        "Всего в таблице представлен 31 магазин.\n",
        "\n",
        "Большинство столбцов имеют тип: object и float64.\n",
        "\n",
        "В столбце для времени покупки нужно будет изменить тип данных.\n",
        "customer_id, loyalty_program - тоже изменим тип данных.\n",
        "\n",
        "**Product_codes**\n",
        "\n",
        "У нас 2 столбца с данными. Максимальное количество строк 9969.\n",
        "\n",
        "Столбцы имеют тип: object и float64.\n",
        "\n",
        "В обеих датасетах нужно будет привести названия столбцов к нижнему регистру."
      ]
    },
    {
      "cell_type": "markdown",
      "metadata": {
        "id": "-p6VoiaTWbm5"
      },
      "source": [
        "### Привести названия столбцов к нижнему регистру. Проверить данные на наличие пропусков, выбросов, дубликатов."
      ]
    },
    {
      "cell_type": "code",
      "execution_count": 5,
      "metadata": {
        "colab": {
          "base_uri": "https://localhost:8080/",
          "height": 90
        },
        "id": "F5gjAHJ3Wbm5",
        "outputId": "630b0a97-2148-48b8-b803-9e45070b9d9d"
      },
      "outputs": [
        {
          "output_type": "display_data",
          "data": {
            "text/plain": [
              "Index(['purchase_id', 'item_id', 'quantity', 'purchase_date', 'customer_id',\n",
              "       'shop_id', 'loyalty_program'],\n",
              "      dtype='object')"
            ]
          },
          "metadata": {}
        },
        {
          "output_type": "display_data",
          "data": {
            "text/plain": [
              "Index(['product_id', 'price_per_one'], dtype='object')"
            ]
          },
          "metadata": {}
        }
      ],
      "source": [
        "# Изменение названий столбцов в первом датасете\n",
        "rd = rd.rename(columns={'purchaseid': 'purchase_id', 'item_ID': 'item_id', 'Quantity': 'quantity','purchasedate': 'purchase_date',\n",
        "                               'CustomerID': 'customer_id', 'ShopID': 'shop_id'})\n",
        "\n",
        "# Изменение названий столбцов во втором датасете\n",
        "pc = pc.rename(columns={'productID': 'product_id'})\n",
        "display(rd.columns)\n",
        "display(pc.columns)"
      ]
    },
    {
      "cell_type": "code",
      "execution_count": 6,
      "metadata": {
        "colab": {
          "base_uri": "https://localhost:8080/"
        },
        "id": "iegDHlu7Wbm6",
        "outputId": "81645b44-ed49-48c1-dc70-26f690f67516"
      },
      "outputs": [
        {
          "output_type": "stream",
          "name": "stdout",
          "text": [
            "<class 'pandas.core.frame.DataFrame'>\n",
            "RangeIndex: 105335 entries, 0 to 105334\n",
            "Data columns (total 7 columns):\n",
            " #   Column           Non-Null Count   Dtype         \n",
            "---  ------           --------------   -----         \n",
            " 0   purchase_id      105335 non-null  object        \n",
            " 1   item_id          105335 non-null  object        \n",
            " 2   quantity         105335 non-null  int64         \n",
            " 3   purchase_date    105335 non-null  datetime64[ns]\n",
            " 4   customer_id      69125 non-null   float64       \n",
            " 5   shop_id          105335 non-null  object        \n",
            " 6   loyalty_program  105335 non-null  bool          \n",
            "dtypes: bool(1), datetime64[ns](1), float64(1), int64(1), object(3)\n",
            "memory usage: 4.9+ MB\n"
          ]
        }
      ],
      "source": [
        "# Изменяем тип данных\n",
        "rd['purchase_date'] = pd.to_datetime(rd['purchase_date']).dt.date\n",
        "rd['purchase_date'] = pd.to_datetime(rd['purchase_date'], format='%Y-%m-%d')\n",
        "rd['loyalty_program'] = rd['loyalty_program'].round(0).astype('bool')\n",
        "rd.info()"
      ]
    },
    {
      "cell_type": "code",
      "execution_count": 7,
      "metadata": {
        "colab": {
          "base_uri": "https://localhost:8080/"
        },
        "id": "r5QPnRUTWbm7",
        "outputId": "8676a0d1-2a32-4ba0-f7d5-b0c1c7689d53"
      },
      "outputs": [
        {
          "output_type": "stream",
          "name": "stdout",
          "text": [
            "Количество дубликатов: 1034\n",
            "Количество дубликатов: 0\n"
          ]
        }
      ],
      "source": [
        "#Проверяем наличие явных дубликатов\n",
        "print('Количество дубликатов:', rd.duplicated().sum())\n",
        "print('Количество дубликатов:', pc.duplicated().sum())"
      ]
    },
    {
      "cell_type": "code",
      "execution_count": 8,
      "metadata": {
        "colab": {
          "base_uri": "https://localhost:8080/"
        },
        "id": "QDtYwXuBWbm8",
        "outputId": "26f593da-cf32-44b6-ea54-e75ae40dfb9e"
      },
      "outputs": [
        {
          "output_type": "stream",
          "name": "stdout",
          "text": [
            "<class 'pandas.core.frame.DataFrame'>\n",
            "Int64Index: 104301 entries, 0 to 105334\n",
            "Data columns (total 7 columns):\n",
            " #   Column           Non-Null Count   Dtype         \n",
            "---  ------           --------------   -----         \n",
            " 0   purchase_id      104301 non-null  object        \n",
            " 1   item_id          104301 non-null  object        \n",
            " 2   quantity         104301 non-null  int64         \n",
            " 3   purchase_date    104301 non-null  datetime64[ns]\n",
            " 4   customer_id      68154 non-null   float64       \n",
            " 5   shop_id          104301 non-null  object        \n",
            " 6   loyalty_program  104301 non-null  bool          \n",
            "dtypes: bool(1), datetime64[ns](1), float64(1), int64(1), object(3)\n",
            "memory usage: 5.7+ MB\n"
          ]
        }
      ],
      "source": [
        "#Удаляем явные дубликаты\n",
        "rd = rd.drop_duplicates()\n",
        "rd.info()"
      ]
    },
    {
      "cell_type": "code",
      "execution_count": 9,
      "metadata": {
        "colab": {
          "base_uri": "https://localhost:8080/",
          "height": 269
        },
        "id": "PfOKSRjQWbm8",
        "outputId": "5e19af8b-36cb-4252-abeb-05df8defcec5"
      },
      "outputs": [
        {
          "output_type": "execute_result",
          "data": {
            "text/plain": [
              "<pandas.io.formats.style.Styler at 0x7ffa61df25f0>"
            ],
            "text/html": [
              "<style type=\"text/css\">\n",
              "#T_10c4a_row0_col0, #T_10c4a_row1_col0, #T_10c4a_row2_col0, #T_10c4a_row3_col0, #T_10c4a_row5_col0, #T_10c4a_row6_col0 {\n",
              "  background-color: #3b4cc0;\n",
              "  color: #f1f1f1;\n",
              "}\n",
              "#T_10c4a_row4_col0 {\n",
              "  background-color: #b40426;\n",
              "  color: #f1f1f1;\n",
              "}\n",
              "</style>\n",
              "<table id=\"T_10c4a\" class=\"dataframe\">\n",
              "  <thead>\n",
              "    <tr>\n",
              "      <th class=\"blank level0\" >&nbsp;</th>\n",
              "      <th id=\"T_10c4a_level0_col0\" class=\"col_heading level0 col0\" >0</th>\n",
              "    </tr>\n",
              "  </thead>\n",
              "  <tbody>\n",
              "    <tr>\n",
              "      <th id=\"T_10c4a_level0_row0\" class=\"row_heading level0 row0\" >purchase_id</th>\n",
              "      <td id=\"T_10c4a_row0_col0\" class=\"data row0 col0\" >0</td>\n",
              "    </tr>\n",
              "    <tr>\n",
              "      <th id=\"T_10c4a_level0_row1\" class=\"row_heading level0 row1\" >item_id</th>\n",
              "      <td id=\"T_10c4a_row1_col0\" class=\"data row1 col0\" >0</td>\n",
              "    </tr>\n",
              "    <tr>\n",
              "      <th id=\"T_10c4a_level0_row2\" class=\"row_heading level0 row2\" >quantity</th>\n",
              "      <td id=\"T_10c4a_row2_col0\" class=\"data row2 col0\" >0</td>\n",
              "    </tr>\n",
              "    <tr>\n",
              "      <th id=\"T_10c4a_level0_row3\" class=\"row_heading level0 row3\" >purchase_date</th>\n",
              "      <td id=\"T_10c4a_row3_col0\" class=\"data row3 col0\" >0</td>\n",
              "    </tr>\n",
              "    <tr>\n",
              "      <th id=\"T_10c4a_level0_row4\" class=\"row_heading level0 row4\" >customer_id</th>\n",
              "      <td id=\"T_10c4a_row4_col0\" class=\"data row4 col0\" >36147</td>\n",
              "    </tr>\n",
              "    <tr>\n",
              "      <th id=\"T_10c4a_level0_row5\" class=\"row_heading level0 row5\" >shop_id</th>\n",
              "      <td id=\"T_10c4a_row5_col0\" class=\"data row5 col0\" >0</td>\n",
              "    </tr>\n",
              "    <tr>\n",
              "      <th id=\"T_10c4a_level0_row6\" class=\"row_heading level0 row6\" >loyalty_program</th>\n",
              "      <td id=\"T_10c4a_row6_col0\" class=\"data row6 col0\" >0</td>\n",
              "    </tr>\n",
              "  </tbody>\n",
              "</table>\n"
            ]
          },
          "metadata": {},
          "execution_count": 9
        }
      ],
      "source": [
        "#Проверяем наличие пропусков\n",
        "pd.DataFrame(round(rd.isna().sum(),1)).style.background_gradient('coolwarm')"
      ]
    },
    {
      "cell_type": "markdown",
      "metadata": {
        "id": "zeTLcUGRWbm9"
      },
      "source": [
        "В столбце customer_id большое кол-во пропусков, удалять такое кол-во нельзя.\n",
        "Пропущенные значения в 'customer_id', я думаю означают отсутствие информации о клиентах, заменим их на уникальное значение, которое не встречается в остальных идентификаторах клиентов.\n",
        "Также проверим, есть ли среди пропусков участники программы лояльности."
      ]
    },
    {
      "cell_type": "code",
      "execution_count": 10,
      "metadata": {
        "colab": {
          "base_uri": "https://localhost:8080/"
        },
        "id": "kWwCvoHOWbm9",
        "outputId": "aeea3121-aafd-4761-a0f9-7f0d869318c9"
      },
      "outputs": [
        {
          "output_type": "stream",
          "name": "stdout",
          "text": [
            "Количество пропущенных значений в customer_id среди участников программы лояльности: 0\n"
          ]
        }
      ],
      "source": [
        "# Подсчет количества пропущенных значений в customer_id среди участников программы лояльности\n",
        "missing_count = rd.loc[rd['loyalty_program'] == 1, 'customer_id'].isna().sum()\n",
        "\n",
        "print(f\"Количество пропущенных значений в customer_id среди участников программы лояльности: {missing_count}\")"
      ]
    },
    {
      "cell_type": "code",
      "execution_count": 11,
      "metadata": {
        "colab": {
          "base_uri": "https://localhost:8080/",
          "height": 269
        },
        "id": "qlbkYaUWWbm-",
        "outputId": "d4efed71-7d7a-432c-e4b9-2312c3ccf2af"
      },
      "outputs": [
        {
          "output_type": "execute_result",
          "data": {
            "text/plain": [
              "<pandas.io.formats.style.Styler at 0x7ffa6318a500>"
            ],
            "text/html": [
              "<style type=\"text/css\">\n",
              "#T_21ce7_row0_col0, #T_21ce7_row1_col0, #T_21ce7_row2_col0, #T_21ce7_row3_col0, #T_21ce7_row4_col0, #T_21ce7_row5_col0, #T_21ce7_row6_col0 {\n",
              "  background-color: #3b4cc0;\n",
              "  color: #f1f1f1;\n",
              "}\n",
              "</style>\n",
              "<table id=\"T_21ce7\" class=\"dataframe\">\n",
              "  <thead>\n",
              "    <tr>\n",
              "      <th class=\"blank level0\" >&nbsp;</th>\n",
              "      <th id=\"T_21ce7_level0_col0\" class=\"col_heading level0 col0\" >0</th>\n",
              "    </tr>\n",
              "  </thead>\n",
              "  <tbody>\n",
              "    <tr>\n",
              "      <th id=\"T_21ce7_level0_row0\" class=\"row_heading level0 row0\" >purchase_id</th>\n",
              "      <td id=\"T_21ce7_row0_col0\" class=\"data row0 col0\" >0</td>\n",
              "    </tr>\n",
              "    <tr>\n",
              "      <th id=\"T_21ce7_level0_row1\" class=\"row_heading level0 row1\" >item_id</th>\n",
              "      <td id=\"T_21ce7_row1_col0\" class=\"data row1 col0\" >0</td>\n",
              "    </tr>\n",
              "    <tr>\n",
              "      <th id=\"T_21ce7_level0_row2\" class=\"row_heading level0 row2\" >quantity</th>\n",
              "      <td id=\"T_21ce7_row2_col0\" class=\"data row2 col0\" >0</td>\n",
              "    </tr>\n",
              "    <tr>\n",
              "      <th id=\"T_21ce7_level0_row3\" class=\"row_heading level0 row3\" >purchase_date</th>\n",
              "      <td id=\"T_21ce7_row3_col0\" class=\"data row3 col0\" >0</td>\n",
              "    </tr>\n",
              "    <tr>\n",
              "      <th id=\"T_21ce7_level0_row4\" class=\"row_heading level0 row4\" >customer_id</th>\n",
              "      <td id=\"T_21ce7_row4_col0\" class=\"data row4 col0\" >0</td>\n",
              "    </tr>\n",
              "    <tr>\n",
              "      <th id=\"T_21ce7_level0_row5\" class=\"row_heading level0 row5\" >shop_id</th>\n",
              "      <td id=\"T_21ce7_row5_col0\" class=\"data row5 col0\" >0</td>\n",
              "    </tr>\n",
              "    <tr>\n",
              "      <th id=\"T_21ce7_level0_row6\" class=\"row_heading level0 row6\" >loyalty_program</th>\n",
              "      <td id=\"T_21ce7_row6_col0\" class=\"data row6 col0\" >0</td>\n",
              "    </tr>\n",
              "  </tbody>\n",
              "</table>\n"
            ]
          },
          "metadata": {},
          "execution_count": 11
        }
      ],
      "source": [
        "# Заменяем пропущенные значения на 0, которое не встречается в остальных идентификаторах клиентов.\n",
        "rd['customer_id'] = rd['customer_id'].fillna(0)\n",
        "rd['customer_id'] = rd['customer_id'].astype('int')\n",
        "pd.DataFrame(round(rd.isna().sum(),1)).style.background_gradient('coolwarm')"
      ]
    },
    {
      "cell_type": "code",
      "execution_count": 12,
      "metadata": {
        "colab": {
          "base_uri": "https://localhost:8080/",
          "height": 112
        },
        "id": "6zwZerX8Wbm-",
        "outputId": "04d8b742-2789-4e7f-be1d-53b66baa8689"
      },
      "outputs": [
        {
          "output_type": "execute_result",
          "data": {
            "text/plain": [
              "<pandas.io.formats.style.Styler at 0x7ffa631f62c0>"
            ],
            "text/html": [
              "<style type=\"text/css\">\n",
              "#T_30725_row0_col0, #T_30725_row1_col0 {\n",
              "  background-color: #3b4cc0;\n",
              "  color: #f1f1f1;\n",
              "}\n",
              "</style>\n",
              "<table id=\"T_30725\" class=\"dataframe\">\n",
              "  <thead>\n",
              "    <tr>\n",
              "      <th class=\"blank level0\" >&nbsp;</th>\n",
              "      <th id=\"T_30725_level0_col0\" class=\"col_heading level0 col0\" >0</th>\n",
              "    </tr>\n",
              "  </thead>\n",
              "  <tbody>\n",
              "    <tr>\n",
              "      <th id=\"T_30725_level0_row0\" class=\"row_heading level0 row0\" >product_id</th>\n",
              "      <td id=\"T_30725_row0_col0\" class=\"data row0 col0\" >0</td>\n",
              "    </tr>\n",
              "    <tr>\n",
              "      <th id=\"T_30725_level0_row1\" class=\"row_heading level0 row1\" >price_per_one</th>\n",
              "      <td id=\"T_30725_row1_col0\" class=\"data row1 col0\" >0</td>\n",
              "    </tr>\n",
              "  </tbody>\n",
              "</table>\n"
            ]
          },
          "metadata": {},
          "execution_count": 12
        }
      ],
      "source": [
        "#Проверяем наличие пропущенных значений во втором датасете\n",
        "pd.DataFrame(round(pc.isna().sum(),1)).style.background_gradient('coolwarm')"
      ]
    },
    {
      "cell_type": "code",
      "execution_count": 13,
      "metadata": {
        "colab": {
          "base_uri": "https://localhost:8080/"
        },
        "id": "sbYi_89eWbm_",
        "outputId": "c8da37d4-c150-43e1-af5f-5b5a8798cf08"
      },
      "outputs": [
        {
          "output_type": "stream",
          "name": "stdout",
          "text": [
            "Количество дубликатов: 6810\n"
          ]
        }
      ],
      "source": [
        "#Проверяем количество неявных дубликатов\n",
        "print('Количество дубликатов:', pc['product_id'].duplicated().sum())"
      ]
    },
    {
      "cell_type": "code",
      "execution_count": 14,
      "metadata": {
        "colab": {
          "base_uri": "https://localhost:8080/",
          "height": 424
        },
        "id": "AncaEIQqWbm_",
        "outputId": "18bd7567-a61d-467c-ae25-6605c0deba6e"
      },
      "outputs": [
        {
          "output_type": "display_data",
          "data": {
            "text/plain": [
              "        product_id  price_per_one\n",
              "0            10002          1.380\n",
              "1            10080          0.850\n",
              "2            10120          0.210\n",
              "3           10123C          0.650\n",
              "4           10124A          0.420\n",
              "...            ...            ...\n",
              "3154  gift_0001_20         16.845\n",
              "3155  gift_0001_30         25.265\n",
              "3156  gift_0001_40         34.040\n",
              "3157  gift_0001_50         42.550\n",
              "3158             m          2.550\n",
              "\n",
              "[3159 rows x 2 columns]"
            ],
            "text/html": [
              "\n",
              "  <div id=\"df-5d9cfd8b-c119-45a4-ad44-5d16761e78e7\">\n",
              "    <div class=\"colab-df-container\">\n",
              "      <div>\n",
              "<style scoped>\n",
              "    .dataframe tbody tr th:only-of-type {\n",
              "        vertical-align: middle;\n",
              "    }\n",
              "\n",
              "    .dataframe tbody tr th {\n",
              "        vertical-align: top;\n",
              "    }\n",
              "\n",
              "    .dataframe thead th {\n",
              "        text-align: right;\n",
              "    }\n",
              "</style>\n",
              "<table border=\"1\" class=\"dataframe\">\n",
              "  <thead>\n",
              "    <tr style=\"text-align: right;\">\n",
              "      <th></th>\n",
              "      <th>product_id</th>\n",
              "      <th>price_per_one</th>\n",
              "    </tr>\n",
              "  </thead>\n",
              "  <tbody>\n",
              "    <tr>\n",
              "      <th>0</th>\n",
              "      <td>10002</td>\n",
              "      <td>1.380</td>\n",
              "    </tr>\n",
              "    <tr>\n",
              "      <th>1</th>\n",
              "      <td>10080</td>\n",
              "      <td>0.850</td>\n",
              "    </tr>\n",
              "    <tr>\n",
              "      <th>2</th>\n",
              "      <td>10120</td>\n",
              "      <td>0.210</td>\n",
              "    </tr>\n",
              "    <tr>\n",
              "      <th>3</th>\n",
              "      <td>10123C</td>\n",
              "      <td>0.650</td>\n",
              "    </tr>\n",
              "    <tr>\n",
              "      <th>4</th>\n",
              "      <td>10124A</td>\n",
              "      <td>0.420</td>\n",
              "    </tr>\n",
              "    <tr>\n",
              "      <th>...</th>\n",
              "      <td>...</td>\n",
              "      <td>...</td>\n",
              "    </tr>\n",
              "    <tr>\n",
              "      <th>3154</th>\n",
              "      <td>gift_0001_20</td>\n",
              "      <td>16.845</td>\n",
              "    </tr>\n",
              "    <tr>\n",
              "      <th>3155</th>\n",
              "      <td>gift_0001_30</td>\n",
              "      <td>25.265</td>\n",
              "    </tr>\n",
              "    <tr>\n",
              "      <th>3156</th>\n",
              "      <td>gift_0001_40</td>\n",
              "      <td>34.040</td>\n",
              "    </tr>\n",
              "    <tr>\n",
              "      <th>3157</th>\n",
              "      <td>gift_0001_50</td>\n",
              "      <td>42.550</td>\n",
              "    </tr>\n",
              "    <tr>\n",
              "      <th>3158</th>\n",
              "      <td>m</td>\n",
              "      <td>2.550</td>\n",
              "    </tr>\n",
              "  </tbody>\n",
              "</table>\n",
              "<p>3159 rows × 2 columns</p>\n",
              "</div>\n",
              "      <button class=\"colab-df-convert\" onclick=\"convertToInteractive('df-5d9cfd8b-c119-45a4-ad44-5d16761e78e7')\"\n",
              "              title=\"Convert this dataframe to an interactive table.\"\n",
              "              style=\"display:none;\">\n",
              "        \n",
              "  <svg xmlns=\"http://www.w3.org/2000/svg\" height=\"24px\"viewBox=\"0 0 24 24\"\n",
              "       width=\"24px\">\n",
              "    <path d=\"M0 0h24v24H0V0z\" fill=\"none\"/>\n",
              "    <path d=\"M18.56 5.44l.94 2.06.94-2.06 2.06-.94-2.06-.94-.94-2.06-.94 2.06-2.06.94zm-11 1L8.5 8.5l.94-2.06 2.06-.94-2.06-.94L8.5 2.5l-.94 2.06-2.06.94zm10 10l.94 2.06.94-2.06 2.06-.94-2.06-.94-.94-2.06-.94 2.06-2.06.94z\"/><path d=\"M17.41 7.96l-1.37-1.37c-.4-.4-.92-.59-1.43-.59-.52 0-1.04.2-1.43.59L10.3 9.45l-7.72 7.72c-.78.78-.78 2.05 0 2.83L4 21.41c.39.39.9.59 1.41.59.51 0 1.02-.2 1.41-.59l7.78-7.78 2.81-2.81c.8-.78.8-2.07 0-2.86zM5.41 20L4 18.59l7.72-7.72 1.47 1.35L5.41 20z\"/>\n",
              "  </svg>\n",
              "      </button>\n",
              "      \n",
              "  <style>\n",
              "    .colab-df-container {\n",
              "      display:flex;\n",
              "      flex-wrap:wrap;\n",
              "      gap: 12px;\n",
              "    }\n",
              "\n",
              "    .colab-df-convert {\n",
              "      background-color: #E8F0FE;\n",
              "      border: none;\n",
              "      border-radius: 50%;\n",
              "      cursor: pointer;\n",
              "      display: none;\n",
              "      fill: #1967D2;\n",
              "      height: 32px;\n",
              "      padding: 0 0 0 0;\n",
              "      width: 32px;\n",
              "    }\n",
              "\n",
              "    .colab-df-convert:hover {\n",
              "      background-color: #E2EBFA;\n",
              "      box-shadow: 0px 1px 2px rgba(60, 64, 67, 0.3), 0px 1px 3px 1px rgba(60, 64, 67, 0.15);\n",
              "      fill: #174EA6;\n",
              "    }\n",
              "\n",
              "    [theme=dark] .colab-df-convert {\n",
              "      background-color: #3B4455;\n",
              "      fill: #D2E3FC;\n",
              "    }\n",
              "\n",
              "    [theme=dark] .colab-df-convert:hover {\n",
              "      background-color: #434B5C;\n",
              "      box-shadow: 0px 1px 3px 1px rgba(0, 0, 0, 0.15);\n",
              "      filter: drop-shadow(0px 1px 2px rgba(0, 0, 0, 0.3));\n",
              "      fill: #FFFFFF;\n",
              "    }\n",
              "  </style>\n",
              "\n",
              "      <script>\n",
              "        const buttonEl =\n",
              "          document.querySelector('#df-5d9cfd8b-c119-45a4-ad44-5d16761e78e7 button.colab-df-convert');\n",
              "        buttonEl.style.display =\n",
              "          google.colab.kernel.accessAllowed ? 'block' : 'none';\n",
              "\n",
              "        async function convertToInteractive(key) {\n",
              "          const element = document.querySelector('#df-5d9cfd8b-c119-45a4-ad44-5d16761e78e7');\n",
              "          const dataTable =\n",
              "            await google.colab.kernel.invokeFunction('convertToInteractive',\n",
              "                                                     [key], {});\n",
              "          if (!dataTable) return;\n",
              "\n",
              "          const docLinkHtml = 'Like what you see? Visit the ' +\n",
              "            '<a target=\"_blank\" href=https://colab.research.google.com/notebooks/data_table.ipynb>data table notebook</a>'\n",
              "            + ' to learn more about interactive tables.';\n",
              "          element.innerHTML = '';\n",
              "          dataTable['output_type'] = 'display_data';\n",
              "          await google.colab.output.renderOutput(dataTable, element);\n",
              "          const docLink = document.createElement('div');\n",
              "          docLink.innerHTML = docLinkHtml;\n",
              "          element.appendChild(docLink);\n",
              "        }\n",
              "      </script>\n",
              "    </div>\n",
              "  </div>\n",
              "  "
            ]
          },
          "metadata": {}
        }
      ],
      "source": [
        "#Заменяем неявные дубликаты на среднее значение\n",
        "pc = pc.groupby('product_id')['price_per_one'].mean().reset_index()\n",
        "display(pc)"
      ]
    },
    {
      "cell_type": "markdown",
      "metadata": {
        "id": "vSRPu3tHWbnA"
      },
      "source": [
        "### Выводы: \n",
        "Пропуски и дубликаты проверили и заполнили."
      ]
    },
    {
      "cell_type": "markdown",
      "metadata": {
        "id": "7PJ0hV1vWbnA"
      },
      "source": [
        "### Объединим таблицы"
      ]
    },
    {
      "cell_type": "code",
      "execution_count": 15,
      "metadata": {
        "id": "mwSO7NC_WbnA"
      },
      "outputs": [],
      "source": [
        "# Объединение таблиц retail_dataset и product_codes по столбцу item_ID\n",
        "df = rd.merge(pc, left_on='item_id', right_on='product_id', how='left')"
      ]
    },
    {
      "cell_type": "code",
      "execution_count": 16,
      "metadata": {
        "colab": {
          "base_uri": "https://localhost:8080/",
          "height": 820
        },
        "id": "Ybl_l7GnWbnB",
        "outputId": "a2d34b56-0406-4448-c8f2-aaed3cb6a397"
      },
      "outputs": [
        {
          "output_type": "stream",
          "name": "stdout",
          "text": [
            "<class 'pandas.core.frame.DataFrame'>\n",
            "Int64Index: 104301 entries, 0 to 104300\n",
            "Data columns (total 10 columns):\n",
            " #   Column           Non-Null Count   Dtype         \n",
            "---  ------           --------------   -----         \n",
            " 0   purchase_id      104301 non-null  object        \n",
            " 1   item_id          104301 non-null  object        \n",
            " 2   quantity         104301 non-null  int64         \n",
            " 3   purchase_date    104301 non-null  datetime64[ns]\n",
            " 4   customer_id      104301 non-null  int64         \n",
            " 5   shop_id          104301 non-null  object        \n",
            " 6   loyalty_program  104301 non-null  bool          \n",
            " 7   product_id       104301 non-null  object        \n",
            " 8   price_per_one    104301 non-null  float64       \n",
            " 9   revenue          104301 non-null  float64       \n",
            "dtypes: bool(1), datetime64[ns](1), float64(2), int64(2), object(4)\n",
            "memory usage: 8.1+ MB\n"
          ]
        },
        {
          "output_type": "display_data",
          "data": {
            "text/plain": [
              "None"
            ]
          },
          "metadata": {}
        },
        {
          "output_type": "display_data",
          "data": {
            "text/plain": [
              "  purchase_id item_id  quantity purchase_date  customer_id shop_id  \\\n",
              "0      538280   21873        11    2016-12-10        18427  Shop 0   \n",
              "1      538862   22195         0    2016-12-14        22389  Shop 0   \n",
              "2      538855   21239         7    2016-12-14        22182  Shop 0   \n",
              "3      543543   22271         0    2017-02-09        23522  Shop 0   \n",
              "4      543812   79321         0    2017-02-13        23151  Shop 0   \n",
              "\n",
              "   loyalty_program product_id  price_per_one  revenue  \n",
              "0            False      21873       1.810000   19.910  \n",
              "1             True      22195       2.766667    0.000  \n",
              "2             True      21239       1.474000   10.318  \n",
              "3             True      22271       4.300000    0.000  \n",
              "4             True      79321       7.013636    0.000  "
            ],
            "text/html": [
              "\n",
              "  <div id=\"df-36ab3839-954b-429e-b591-c3a91bf3112c\">\n",
              "    <div class=\"colab-df-container\">\n",
              "      <div>\n",
              "<style scoped>\n",
              "    .dataframe tbody tr th:only-of-type {\n",
              "        vertical-align: middle;\n",
              "    }\n",
              "\n",
              "    .dataframe tbody tr th {\n",
              "        vertical-align: top;\n",
              "    }\n",
              "\n",
              "    .dataframe thead th {\n",
              "        text-align: right;\n",
              "    }\n",
              "</style>\n",
              "<table border=\"1\" class=\"dataframe\">\n",
              "  <thead>\n",
              "    <tr style=\"text-align: right;\">\n",
              "      <th></th>\n",
              "      <th>purchase_id</th>\n",
              "      <th>item_id</th>\n",
              "      <th>quantity</th>\n",
              "      <th>purchase_date</th>\n",
              "      <th>customer_id</th>\n",
              "      <th>shop_id</th>\n",
              "      <th>loyalty_program</th>\n",
              "      <th>product_id</th>\n",
              "      <th>price_per_one</th>\n",
              "      <th>revenue</th>\n",
              "    </tr>\n",
              "  </thead>\n",
              "  <tbody>\n",
              "    <tr>\n",
              "      <th>0</th>\n",
              "      <td>538280</td>\n",
              "      <td>21873</td>\n",
              "      <td>11</td>\n",
              "      <td>2016-12-10</td>\n",
              "      <td>18427</td>\n",
              "      <td>Shop 0</td>\n",
              "      <td>False</td>\n",
              "      <td>21873</td>\n",
              "      <td>1.810000</td>\n",
              "      <td>19.910</td>\n",
              "    </tr>\n",
              "    <tr>\n",
              "      <th>1</th>\n",
              "      <td>538862</td>\n",
              "      <td>22195</td>\n",
              "      <td>0</td>\n",
              "      <td>2016-12-14</td>\n",
              "      <td>22389</td>\n",
              "      <td>Shop 0</td>\n",
              "      <td>True</td>\n",
              "      <td>22195</td>\n",
              "      <td>2.766667</td>\n",
              "      <td>0.000</td>\n",
              "    </tr>\n",
              "    <tr>\n",
              "      <th>2</th>\n",
              "      <td>538855</td>\n",
              "      <td>21239</td>\n",
              "      <td>7</td>\n",
              "      <td>2016-12-14</td>\n",
              "      <td>22182</td>\n",
              "      <td>Shop 0</td>\n",
              "      <td>True</td>\n",
              "      <td>21239</td>\n",
              "      <td>1.474000</td>\n",
              "      <td>10.318</td>\n",
              "    </tr>\n",
              "    <tr>\n",
              "      <th>3</th>\n",
              "      <td>543543</td>\n",
              "      <td>22271</td>\n",
              "      <td>0</td>\n",
              "      <td>2017-02-09</td>\n",
              "      <td>23522</td>\n",
              "      <td>Shop 0</td>\n",
              "      <td>True</td>\n",
              "      <td>22271</td>\n",
              "      <td>4.300000</td>\n",
              "      <td>0.000</td>\n",
              "    </tr>\n",
              "    <tr>\n",
              "      <th>4</th>\n",
              "      <td>543812</td>\n",
              "      <td>79321</td>\n",
              "      <td>0</td>\n",
              "      <td>2017-02-13</td>\n",
              "      <td>23151</td>\n",
              "      <td>Shop 0</td>\n",
              "      <td>True</td>\n",
              "      <td>79321</td>\n",
              "      <td>7.013636</td>\n",
              "      <td>0.000</td>\n",
              "    </tr>\n",
              "  </tbody>\n",
              "</table>\n",
              "</div>\n",
              "      <button class=\"colab-df-convert\" onclick=\"convertToInteractive('df-36ab3839-954b-429e-b591-c3a91bf3112c')\"\n",
              "              title=\"Convert this dataframe to an interactive table.\"\n",
              "              style=\"display:none;\">\n",
              "        \n",
              "  <svg xmlns=\"http://www.w3.org/2000/svg\" height=\"24px\"viewBox=\"0 0 24 24\"\n",
              "       width=\"24px\">\n",
              "    <path d=\"M0 0h24v24H0V0z\" fill=\"none\"/>\n",
              "    <path d=\"M18.56 5.44l.94 2.06.94-2.06 2.06-.94-2.06-.94-.94-2.06-.94 2.06-2.06.94zm-11 1L8.5 8.5l.94-2.06 2.06-.94-2.06-.94L8.5 2.5l-.94 2.06-2.06.94zm10 10l.94 2.06.94-2.06 2.06-.94-2.06-.94-.94-2.06-.94 2.06-2.06.94z\"/><path d=\"M17.41 7.96l-1.37-1.37c-.4-.4-.92-.59-1.43-.59-.52 0-1.04.2-1.43.59L10.3 9.45l-7.72 7.72c-.78.78-.78 2.05 0 2.83L4 21.41c.39.39.9.59 1.41.59.51 0 1.02-.2 1.41-.59l7.78-7.78 2.81-2.81c.8-.78.8-2.07 0-2.86zM5.41 20L4 18.59l7.72-7.72 1.47 1.35L5.41 20z\"/>\n",
              "  </svg>\n",
              "      </button>\n",
              "      \n",
              "  <style>\n",
              "    .colab-df-container {\n",
              "      display:flex;\n",
              "      flex-wrap:wrap;\n",
              "      gap: 12px;\n",
              "    }\n",
              "\n",
              "    .colab-df-convert {\n",
              "      background-color: #E8F0FE;\n",
              "      border: none;\n",
              "      border-radius: 50%;\n",
              "      cursor: pointer;\n",
              "      display: none;\n",
              "      fill: #1967D2;\n",
              "      height: 32px;\n",
              "      padding: 0 0 0 0;\n",
              "      width: 32px;\n",
              "    }\n",
              "\n",
              "    .colab-df-convert:hover {\n",
              "      background-color: #E2EBFA;\n",
              "      box-shadow: 0px 1px 2px rgba(60, 64, 67, 0.3), 0px 1px 3px 1px rgba(60, 64, 67, 0.15);\n",
              "      fill: #174EA6;\n",
              "    }\n",
              "\n",
              "    [theme=dark] .colab-df-convert {\n",
              "      background-color: #3B4455;\n",
              "      fill: #D2E3FC;\n",
              "    }\n",
              "\n",
              "    [theme=dark] .colab-df-convert:hover {\n",
              "      background-color: #434B5C;\n",
              "      box-shadow: 0px 1px 3px 1px rgba(0, 0, 0, 0.15);\n",
              "      filter: drop-shadow(0px 1px 2px rgba(0, 0, 0, 0.3));\n",
              "      fill: #FFFFFF;\n",
              "    }\n",
              "  </style>\n",
              "\n",
              "      <script>\n",
              "        const buttonEl =\n",
              "          document.querySelector('#df-36ab3839-954b-429e-b591-c3a91bf3112c button.colab-df-convert');\n",
              "        buttonEl.style.display =\n",
              "          google.colab.kernel.accessAllowed ? 'block' : 'none';\n",
              "\n",
              "        async function convertToInteractive(key) {\n",
              "          const element = document.querySelector('#df-36ab3839-954b-429e-b591-c3a91bf3112c');\n",
              "          const dataTable =\n",
              "            await google.colab.kernel.invokeFunction('convertToInteractive',\n",
              "                                                     [key], {});\n",
              "          if (!dataTable) return;\n",
              "\n",
              "          const docLinkHtml = 'Like what you see? Visit the ' +\n",
              "            '<a target=\"_blank\" href=https://colab.research.google.com/notebooks/data_table.ipynb>data table notebook</a>'\n",
              "            + ' to learn more about interactive tables.';\n",
              "          element.innerHTML = '';\n",
              "          dataTable['output_type'] = 'display_data';\n",
              "          await google.colab.output.renderOutput(dataTable, element);\n",
              "          const docLink = document.createElement('div');\n",
              "          docLink.innerHTML = docLinkHtml;\n",
              "          element.appendChild(docLink);\n",
              "        }\n",
              "      </script>\n",
              "    </div>\n",
              "  </div>\n",
              "  "
            ]
          },
          "metadata": {}
        },
        {
          "output_type": "execute_result",
          "data": {
            "text/plain": [
              "            quantity    customer_id  price_per_one        revenue\n",
              "count  104301.000000  104301.000000  104301.000000  104301.000000\n",
              "mean        7.883069   13729.446506       5.951259      19.156809\n",
              "std       329.567119   10100.216183      96.290008     451.811458\n",
              "min    -74216.000000       0.000000       0.000000  -77184.640000\n",
              "25%         0.000000       0.000000       1.796667       0.000000\n",
              "50%         2.000000   19423.000000       2.948333       5.940000\n",
              "75%         7.000000   21692.000000       5.274000      19.125000\n",
              "max     74214.000000   23962.000000    9268.762222   77182.560000"
            ],
            "text/html": [
              "\n",
              "  <div id=\"df-a74f6d3a-a4df-4a24-adf2-f8613f32e629\">\n",
              "    <div class=\"colab-df-container\">\n",
              "      <div>\n",
              "<style scoped>\n",
              "    .dataframe tbody tr th:only-of-type {\n",
              "        vertical-align: middle;\n",
              "    }\n",
              "\n",
              "    .dataframe tbody tr th {\n",
              "        vertical-align: top;\n",
              "    }\n",
              "\n",
              "    .dataframe thead th {\n",
              "        text-align: right;\n",
              "    }\n",
              "</style>\n",
              "<table border=\"1\" class=\"dataframe\">\n",
              "  <thead>\n",
              "    <tr style=\"text-align: right;\">\n",
              "      <th></th>\n",
              "      <th>quantity</th>\n",
              "      <th>customer_id</th>\n",
              "      <th>price_per_one</th>\n",
              "      <th>revenue</th>\n",
              "    </tr>\n",
              "  </thead>\n",
              "  <tbody>\n",
              "    <tr>\n",
              "      <th>count</th>\n",
              "      <td>104301.000000</td>\n",
              "      <td>104301.000000</td>\n",
              "      <td>104301.000000</td>\n",
              "      <td>104301.000000</td>\n",
              "    </tr>\n",
              "    <tr>\n",
              "      <th>mean</th>\n",
              "      <td>7.883069</td>\n",
              "      <td>13729.446506</td>\n",
              "      <td>5.951259</td>\n",
              "      <td>19.156809</td>\n",
              "    </tr>\n",
              "    <tr>\n",
              "      <th>std</th>\n",
              "      <td>329.567119</td>\n",
              "      <td>10100.216183</td>\n",
              "      <td>96.290008</td>\n",
              "      <td>451.811458</td>\n",
              "    </tr>\n",
              "    <tr>\n",
              "      <th>min</th>\n",
              "      <td>-74216.000000</td>\n",
              "      <td>0.000000</td>\n",
              "      <td>0.000000</td>\n",
              "      <td>-77184.640000</td>\n",
              "    </tr>\n",
              "    <tr>\n",
              "      <th>25%</th>\n",
              "      <td>0.000000</td>\n",
              "      <td>0.000000</td>\n",
              "      <td>1.796667</td>\n",
              "      <td>0.000000</td>\n",
              "    </tr>\n",
              "    <tr>\n",
              "      <th>50%</th>\n",
              "      <td>2.000000</td>\n",
              "      <td>19423.000000</td>\n",
              "      <td>2.948333</td>\n",
              "      <td>5.940000</td>\n",
              "    </tr>\n",
              "    <tr>\n",
              "      <th>75%</th>\n",
              "      <td>7.000000</td>\n",
              "      <td>21692.000000</td>\n",
              "      <td>5.274000</td>\n",
              "      <td>19.125000</td>\n",
              "    </tr>\n",
              "    <tr>\n",
              "      <th>max</th>\n",
              "      <td>74214.000000</td>\n",
              "      <td>23962.000000</td>\n",
              "      <td>9268.762222</td>\n",
              "      <td>77182.560000</td>\n",
              "    </tr>\n",
              "  </tbody>\n",
              "</table>\n",
              "</div>\n",
              "      <button class=\"colab-df-convert\" onclick=\"convertToInteractive('df-a74f6d3a-a4df-4a24-adf2-f8613f32e629')\"\n",
              "              title=\"Convert this dataframe to an interactive table.\"\n",
              "              style=\"display:none;\">\n",
              "        \n",
              "  <svg xmlns=\"http://www.w3.org/2000/svg\" height=\"24px\"viewBox=\"0 0 24 24\"\n",
              "       width=\"24px\">\n",
              "    <path d=\"M0 0h24v24H0V0z\" fill=\"none\"/>\n",
              "    <path d=\"M18.56 5.44l.94 2.06.94-2.06 2.06-.94-2.06-.94-.94-2.06-.94 2.06-2.06.94zm-11 1L8.5 8.5l.94-2.06 2.06-.94-2.06-.94L8.5 2.5l-.94 2.06-2.06.94zm10 10l.94 2.06.94-2.06 2.06-.94-2.06-.94-.94-2.06-.94 2.06-2.06.94z\"/><path d=\"M17.41 7.96l-1.37-1.37c-.4-.4-.92-.59-1.43-.59-.52 0-1.04.2-1.43.59L10.3 9.45l-7.72 7.72c-.78.78-.78 2.05 0 2.83L4 21.41c.39.39.9.59 1.41.59.51 0 1.02-.2 1.41-.59l7.78-7.78 2.81-2.81c.8-.78.8-2.07 0-2.86zM5.41 20L4 18.59l7.72-7.72 1.47 1.35L5.41 20z\"/>\n",
              "  </svg>\n",
              "      </button>\n",
              "      \n",
              "  <style>\n",
              "    .colab-df-container {\n",
              "      display:flex;\n",
              "      flex-wrap:wrap;\n",
              "      gap: 12px;\n",
              "    }\n",
              "\n",
              "    .colab-df-convert {\n",
              "      background-color: #E8F0FE;\n",
              "      border: none;\n",
              "      border-radius: 50%;\n",
              "      cursor: pointer;\n",
              "      display: none;\n",
              "      fill: #1967D2;\n",
              "      height: 32px;\n",
              "      padding: 0 0 0 0;\n",
              "      width: 32px;\n",
              "    }\n",
              "\n",
              "    .colab-df-convert:hover {\n",
              "      background-color: #E2EBFA;\n",
              "      box-shadow: 0px 1px 2px rgba(60, 64, 67, 0.3), 0px 1px 3px 1px rgba(60, 64, 67, 0.15);\n",
              "      fill: #174EA6;\n",
              "    }\n",
              "\n",
              "    [theme=dark] .colab-df-convert {\n",
              "      background-color: #3B4455;\n",
              "      fill: #D2E3FC;\n",
              "    }\n",
              "\n",
              "    [theme=dark] .colab-df-convert:hover {\n",
              "      background-color: #434B5C;\n",
              "      box-shadow: 0px 1px 3px 1px rgba(0, 0, 0, 0.15);\n",
              "      filter: drop-shadow(0px 1px 2px rgba(0, 0, 0, 0.3));\n",
              "      fill: #FFFFFF;\n",
              "    }\n",
              "  </style>\n",
              "\n",
              "      <script>\n",
              "        const buttonEl =\n",
              "          document.querySelector('#df-a74f6d3a-a4df-4a24-adf2-f8613f32e629 button.colab-df-convert');\n",
              "        buttonEl.style.display =\n",
              "          google.colab.kernel.accessAllowed ? 'block' : 'none';\n",
              "\n",
              "        async function convertToInteractive(key) {\n",
              "          const element = document.querySelector('#df-a74f6d3a-a4df-4a24-adf2-f8613f32e629');\n",
              "          const dataTable =\n",
              "            await google.colab.kernel.invokeFunction('convertToInteractive',\n",
              "                                                     [key], {});\n",
              "          if (!dataTable) return;\n",
              "\n",
              "          const docLinkHtml = 'Like what you see? Visit the ' +\n",
              "            '<a target=\"_blank\" href=https://colab.research.google.com/notebooks/data_table.ipynb>data table notebook</a>'\n",
              "            + ' to learn more about interactive tables.';\n",
              "          element.innerHTML = '';\n",
              "          dataTable['output_type'] = 'display_data';\n",
              "          await google.colab.output.renderOutput(dataTable, element);\n",
              "          const docLink = document.createElement('div');\n",
              "          docLink.innerHTML = docLinkHtml;\n",
              "          element.appendChild(docLink);\n",
              "        }\n",
              "      </script>\n",
              "    </div>\n",
              "  </div>\n",
              "  "
            ]
          },
          "metadata": {},
          "execution_count": 16
        }
      ],
      "source": [
        "# Добавим столбец 'revenue' с выручкой\n",
        "df = df.assign(revenue=df['quantity'] * df['price_per_one'])\n",
        "# Вывод результата объединения\n",
        "display(df.info())\n",
        "display(df.head())\n",
        "df.describe()"
      ]
    },
    {
      "cell_type": "code",
      "execution_count": 17,
      "metadata": {
        "colab": {
          "base_uri": "https://localhost:8080/"
        },
        "id": "t76SqOTRWbnB",
        "outputId": "f6229025-f51c-4970-ffd4-c1527485c58e"
      },
      "outputs": [
        {
          "output_type": "execute_result",
          "data": {
            "text/plain": [
              "104301"
            ]
          },
          "metadata": {},
          "execution_count": 17
        }
      ],
      "source": [
        "df.shape[0]"
      ]
    },
    {
      "cell_type": "markdown",
      "metadata": {
        "id": "9fYZ1pXAWbnC"
      },
      "source": [
        "#### Посмотрим на аномальные значения."
      ]
    },
    {
      "cell_type": "code",
      "execution_count": 18,
      "metadata": {
        "colab": {
          "base_uri": "https://localhost:8080/",
          "height": 314
        },
        "id": "PnQCOpy4WbnD",
        "outputId": "5522b878-5d68-4ed2-fec5-ecfa05d88b2d"
      },
      "outputs": [
        {
          "output_type": "display_data",
          "data": {
            "text/plain": [
              "<Figure size 1500x300 with 1 Axes>"
            ],
            "image/png": "[encoded data removed]"
          },
          "metadata": {}
        }
      ],
      "source": [
        "# check\n",
        "df.hist(column = 'quantity', bins = 60, figsize = (15,3), range = (0,25));"
      ]
    },
    {
      "cell_type": "code",
      "execution_count": 19,
      "metadata": {
        "colab": {
          "base_uri": "https://localhost:8080/"
        },
        "id": "SbeDxxtKWbnD",
        "outputId": "e2f3a4b1-39e3-4bf9-ff28-af6c92780d55"
      },
      "outputs": [
        {
          "output_type": "execute_result",
          "data": {
            "text/plain": [
              "count    104301.000000\n",
              "mean          7.883069\n",
              "std         329.567119\n",
              "min      -74216.000000\n",
              "25%           0.000000\n",
              "50%           2.000000\n",
              "75%           7.000000\n",
              "max       74214.000000\n",
              "Name: quantity, dtype: float64"
            ]
          },
          "metadata": {},
          "execution_count": 19
        }
      ],
      "source": [
        "# Изучим столбец quantity\n",
        "df['quantity'].describe()"
      ]
    },
    {
      "cell_type": "code",
      "execution_count": 20,
      "metadata": {
        "colab": {
          "base_uri": "https://localhost:8080/",
          "height": 314
        },
        "id": "NLtbA2mrWbnD",
        "outputId": "894b4c6b-f305-434e-8e77-d0cd3724f370"
      },
      "outputs": [
        {
          "output_type": "display_data",
          "data": {
            "text/plain": [
              "<Figure size 1500x300 with 1 Axes>"
            ],
            "image/png": "[encoded data removed]"
          },
          "metadata": {}
        }
      ],
      "source": [
        "# check\n",
        "df.hist(column = 'revenue', bins = 60, figsize = (15,3), range = (0,35));"
      ]
    },
    {
      "cell_type": "code",
      "execution_count": 21,
      "metadata": {
        "colab": {
          "base_uri": "https://localhost:8080/"
        },
        "id": "2WGyrABRWbnD",
        "outputId": "82cd7948-896a-41df-8ab6-3ded6418eab5"
      },
      "outputs": [
        {
          "output_type": "execute_result",
          "data": {
            "text/plain": [
              "count    104301.000000\n",
              "mean         19.156809\n",
              "std         451.811458\n",
              "min      -77184.640000\n",
              "25%           0.000000\n",
              "50%           5.940000\n",
              "75%          19.125000\n",
              "max       77182.560000\n",
              "Name: revenue, dtype: float64"
            ]
          },
          "metadata": {},
          "execution_count": 21
        }
      ],
      "source": [
        "# Изучим столбец quantity\n",
        "df['revenue'].describe()"
      ]
    },
    {
      "cell_type": "code",
      "execution_count": 22,
      "metadata": {
        "colab": {
          "base_uri": "https://localhost:8080/"
        },
        "id": "0hL-IDw1WbnL",
        "outputId": "4fcd4d3b-8d3b-49a2-aa99-5f83b4c72be6"
      },
      "outputs": [
        {
          "output_type": "stream",
          "name": "stdout",
          "text": [
            "до I удаления 104301\n",
            "после I удаления 102199\n"
          ]
        }
      ],
      "source": [
        "#Проверил количество аномалий и решил удалить выбивающиеся значения:  \n",
        "print ('до I удаления', df.shape[0])\n",
        "df = df.query('0 <= quantity < 4000')\n",
        "df = df.query('0 <= revenue < 4000')\n",
        "print ('после I удаления', df.shape[0])"
      ]
    },
    {
      "cell_type": "markdown",
      "metadata": {
        "id": "UyRKudaXWbnL"
      },
      "source": [
        "#### Вывод:\n",
        "Возьмем за верхние границы 4000 товаров в чеке и сумму 4000 у.е. Отсеивать аномальные покупки будем по ним.\n",
        "Также обратим внимание, что среди количества покупок и выручки есть отрицательные значения, скорее всего это возвраты. Отметим это, но дальнейший анализ будем проводить без них."
      ]
    },
    {
      "cell_type": "markdown",
      "metadata": {
        "id": "grOt0fOkWbnL"
      },
      "source": [
        "## Провести исследовательский анализ данных:\n",
        "### Вычислить количество уникальных покупателей, магазинов, товаров и чеков. "
      ]
    },
    {
      "cell_type": "code",
      "execution_count": 23,
      "metadata": {
        "colab": {
          "base_uri": "https://localhost:8080/"
        },
        "id": "FlsaeoDDWbnM",
        "outputId": "3f27da17-a694-4559-a0d8-b687e7be3378"
      },
      "outputs": [
        {
          "output_type": "stream",
          "name": "stdout",
          "text": [
            "Количество уникальных покупателей: 1680\n",
            "Количество уникальных магазинов: 31\n",
            "Количество уникальных товаров: 3101\n",
            "Количество уникальных чеков: 3868\n"
          ]
        }
      ],
      "source": [
        "# Вычисление количества уникальных покупателей\n",
        "print(\"Количество уникальных покупателей:\", df['customer_id'].nunique())\n",
        "\n",
        "# Вычисление количества уникальных магазинов\n",
        "print(\"Количество уникальных магазинов:\", df['shop_id'].nunique())\n",
        "\n",
        "# Вычисление количества уникальных товаров\n",
        "print(\"Количество уникальных товаров:\", df['item_id'].nunique())\n",
        "\n",
        "# Вычисление количества уникальных чеков\n",
        "print(\"Количество уникальных чеков:\", df['purchase_id'].nunique())"
      ]
    },
    {
      "cell_type": "markdown",
      "metadata": {
        "id": "wlnUPP7IWbnM"
      },
      "source": [
        "### Изучить структуру покупок в разных группах покупателей. Построить графики."
      ]
    },
    {
      "cell_type": "code",
      "execution_count": 24,
      "metadata": {
        "colab": {
          "base_uri": "https://localhost:8080/",
          "height": 718
        },
        "id": "QEQGWbyLWbnM",
        "outputId": "3afecc0c-69d7-4b51-b167-8e1e1fc2b669"
      },
      "outputs": [
        {
          "output_type": "display_data",
          "data": {
            "text/plain": [
              "<Figure size 800x800 with 1 Axes>"
            ],
            "image/png": "[encoded data removed]"
          },
          "metadata": {}
        }
      ],
      "source": [
        "# Группировка данных по участию в программе лояльности\n",
        "grouped_data = df.groupby('loyalty_program')\n",
        "\n",
        "# Количество покупок в каждой группе\n",
        "purchase_count = grouped_data['purchase_id'].nunique()\n",
        "\n",
        "# График количества покупок в каждой группе\n",
        "plt.figure(figsize=(8, 8))\n",
        "purchase_count.plot(kind='bar', color=['skyblue', 'lightgreen'])\n",
        "plt.xlabel('Участие в программе лояльности')\n",
        "plt.ylabel('Количество покупок')\n",
        "plt.title('Структура покупок по группам')\n",
        "plt.xticks(rotation=0)\n",
        "plt.legend(['Не участвует', 'Участвует'])\n",
        "plt.show()"
      ]
    },
    {
      "cell_type": "markdown",
      "metadata": {
        "id": "0QRvGyVoWbnN"
      },
      "source": [
        "#### Выводы: \n",
        "В программе лояльности количество покупок меньше, чем у покупателей без нее. "
      ]
    },
    {
      "cell_type": "markdown",
      "metadata": {
        "id": "QkvNnNVAWbnN"
      },
      "source": [
        "### Вычислить общую выручку за весь период. Построить график."
      ]
    },
    {
      "cell_type": "code",
      "execution_count": 25,
      "metadata": {
        "colab": {
          "base_uri": "https://localhost:8080/"
        },
        "id": "j2bTh-GNWbnO",
        "outputId": "4200d181-7b1e-4125-a99b-f092d2ff16f3"
      },
      "outputs": [
        {
          "output_type": "stream",
          "name": "stdout",
          "text": [
            "2016-12-01 00:00:00\n",
            "2017-02-28 00:00:00\n"
          ]
        }
      ],
      "source": [
        "#Определяем период данных\n",
        "date_min = df['purchase_date'].min()\n",
        "print(date_min)\n",
        "date_max = df['purchase_date'].max()\n",
        "print(date_max)"
      ]
    },
    {
      "cell_type": "code",
      "execution_count": 26,
      "metadata": {
        "colab": {
          "base_uri": "https://localhost:8080/"
        },
        "id": "son9FyZBWbnO",
        "outputId": "13d94559-decd-4faa-8cc7-41e4ddd09755"
      },
      "outputs": [
        {
          "output_type": "stream",
          "name": "stdout",
          "text": [
            "Общая выручка за весь период: 2262658.0\n"
          ]
        }
      ],
      "source": [
        "# Вычисление общей выручки за весь период\n",
        "total_revenue = df['revenue'].sum()\n",
        "print(\"Общая выручка за весь период:\", total_revenue.round(0))"
      ]
    },
    {
      "cell_type": "code",
      "execution_count": 27,
      "metadata": {
        "id": "-DDITz72WbnP"
      },
      "outputs": [],
      "source": [
        "# Расчет месяца покупки\n",
        "df['purchase_month'] = df['purchase_date'].dt.month\n",
        "\n",
        "# Группировка и суммирование выручки по месяцам\n",
        "monthly_revenue = df.groupby('purchase_month')['revenue'].sum()\n",
        "monthly_revenue = monthly_revenue.sort_values(ascending=False)"
      ]
    },
    {
      "cell_type": "code",
      "execution_count": 28,
      "metadata": {
        "colab": {
          "base_uri": "https://localhost:8080/",
          "height": 475
        },
        "id": "t69zRZX3WbnP",
        "outputId": "3196ae25-84b3-432c-c4b5-e9907dc9ef47"
      },
      "outputs": [
        {
          "output_type": "display_data",
          "data": {
            "text/plain": [
              "<Figure size 640x480 with 1 Axes>"
            ],
            "image/png": "[encoded data removed]"
          },
          "metadata": {}
        }
      ],
      "source": [
        "# График суммарной выручки по месяцам\n",
        "monthly_revenue.plot(kind='bar')\n",
        "plt.xlabel('Месяц')\n",
        "plt.ylabel('Выручка')\n",
        "plt.title('Суммарная выручка по месяцам')\n",
        "plt.show()"
      ]
    },
    {
      "cell_type": "code",
      "execution_count": 29,
      "metadata": {
        "colab": {
          "base_uri": "https://localhost:8080/",
          "height": 542
        },
        "id": "7jH7SF87WbnP",
        "outputId": "3de46969-1a68-49fe-9e3f-efd6094ce067"
      },
      "outputs": [
        {
          "output_type": "display_data",
          "data": {
            "text/html": [
              "<html>\n",
              "<head><meta charset=\"utf-8\" /></head>\n",
              "<body>\n",
              "    <div>            <script src=\"https://cdnjs.cloudflare.com/ajax/libs/mathjax/2.7.5/MathJax.js?config=TeX-AMS-MML_SVG\"></script><script type=\"text/javascript\">if (window.MathJax && window.MathJax.Hub && window.MathJax.Hub.Config) {window.MathJax.Hub.Config({SVG: {font: \"STIX-Web\"}});}</script>                <script type=\"text/javascript\">window.PlotlyConfig = {MathJaxConfig: 'local'};</script>\n",
              "        <script src=\"https://cdn.plot.ly/plotly-2.18.2.min.js\"></script>                <div id=\"c04fc78f-af20-44c4-9b2d-93956cc0856c\" class=\"plotly-graph-div\" style=\"height:525px; width:100%;\"></div>            <script type=\"text/javascript\">                                    window.PLOTLYENV=window.PLOTLYENV || {};                                    if (document.getElementById(\"c04fc78f-af20-44c4-9b2d-93956cc0856c\")) {                    Plotly.newPlot(                        \"c04fc78f-af20-44c4-9b2d-93956cc0856c\",                        [{\"alignmentgroup\":\"True\",\"hovertemplate\":\"\\u0414\\u0430\\u0442\\u0430=%{x}<br>\\u0412\\u044b\\u0440\\u0443\\u0447\\u043a\\u0430=%{y}<extra></extra>\",\"legendgroup\":\"\",\"marker\":{\"color\":\"#636efa\",\"pattern\":{\"shape\":\"\"}},\"name\":\"\",\"offsetgroup\":\"\",\"orientation\":\"v\",\"showlegend\":false,\"textposition\":\"auto\",\"x\":[\"2016-12-01\",\"2016-12-02\",\"2016-12-03\",\"2016-12-05\",\"2016-12-06\",\"2016-12-07\",\"2016-12-08\",\"2016-12-09\",\"2016-12-10\",\"2016-12-12\",\"2016-12-13\",\"2016-12-14\",\"2016-12-15\",\"2016-12-16\",\"2016-12-17\",\"2016-12-19\",\"2016-12-20\",\"2016-12-21\",\"2016-12-22\",\"2016-12-23\",\"2017-01-04\",\"2017-01-05\",\"2017-01-06\",\"2017-01-07\",\"2017-01-09\",\"2017-01-10\",\"2017-01-11\",\"2017-01-12\",\"2017-01-13\",\"2017-01-14\",\"2017-01-16\",\"2017-01-17\",\"2017-01-18\",\"2017-01-19\",\"2017-01-20\",\"2017-01-21\",\"2017-01-23\",\"2017-01-24\",\"2017-01-25\",\"2017-01-26\",\"2017-01-27\",\"2017-01-28\",\"2017-01-30\",\"2017-01-31\",\"2017-02-01\",\"2017-02-02\",\"2017-02-03\",\"2017-02-04\",\"2017-02-06\",\"2017-02-07\",\"2017-02-08\",\"2017-02-09\",\"2017-02-10\",\"2017-02-11\",\"2017-02-13\",\"2017-02-14\",\"2017-02-15\",\"2017-02-16\",\"2017-02-17\",\"2017-02-18\",\"2017-02-20\",\"2017-02-21\",\"2017-02-22\",\"2017-02-23\",\"2017-02-24\",\"2017-02-25\",\"2017-02-27\",\"2017-02-28\"],\"xaxis\":\"x\",\"y\":[69002.02700324675,66171.18222186147,44003.6388405728,39776.31648338714,52861.0756313437,62160.75665440116,60329.588567637635,50551.67056168831,58212.10429256854,21160.953956349207,46328.112903318906,53471.90263321471,44817.53936183261,75631.69706099127,37234.099964310175,9169.525354617605,32417.230347402598,41951.73725,7399.6383412698415,12357.888386363637,21603.924330569618,49155.82743867244,60674.50190728716,39936.88078499278,19985.151014069263,27836.970936507936,53037.60028210678,26066.92787085137,24981.436488095238,67193.78899098124,8704.59522332893,29290.059713924962,21119.069000629785,41416.19985159097,25078.47629329004,40734.660547619045,12379.070799062049,28734.92896031746,35711.37575829726,25040.618585137083,28021.926135281385,24884.482988455988,6677.957813492063,28284.01901767677,37619.985655122655,23475.82245779221,31696.08235858586,26910.98652272727,4419.2510357142855,23177.9118481241,22319.79826262626,18595.506984487733,19025.45791847042,26719.417863997114,6033.605605339105,37912.416607142855,56174.77438314134,33279.282243506495,27349.25709126984,21681.08022150072,10843.856181530804,50547.072506132754,37511.312025613275,28540.699460079,29979.361473304474,25142.544514069265,11089.63115079365,21053.593571789323],\"yaxis\":\"y\",\"type\":\"bar\"}],                        {\"template\":{\"data\":{\"histogram2dcontour\":[{\"type\":\"histogram2dcontour\",\"colorbar\":{\"outlinewidth\":0,\"ticks\":\"\"},\"colorscale\":[[0.0,\"#0d0887\"],[0.1111111111111111,\"#46039f\"],[0.2222222222222222,\"#7201a8\"],[0.3333333333333333,\"#9c179e\"],[0.4444444444444444,\"#bd3786\"],[0.5555555555555556,\"#d8576b\"],[0.6666666666666666,\"#ed7953\"],[0.7777777777777778,\"#fb9f3a\"],[0.8888888888888888,\"#fdca26\"],[1.0,\"#f0f921\"]]}],\"choropleth\":[{\"type\":\"choropleth\",\"colorbar\":{\"outlinewidth\":0,\"ticks\":\"\"}}],\"histogram2d\":[{\"type\":\"histogram2d\",\"colorbar\":{\"outlinewidth\":0,\"ticks\":\"\"},\"colorscale\":[[0.0,\"#0d0887\"],[0.1111111111111111,\"#46039f\"],[0.2222222222222222,\"#7201a8\"],[0.3333333333333333,\"#9c179e\"],[0.4444444444444444,\"#bd3786\"],[0.5555555555555556,\"#d8576b\"],[0.6666666666666666,\"#ed7953\"],[0.7777777777777778,\"#fb9f3a\"],[0.8888888888888888,\"#fdca26\"],[1.0,\"#f0f921\"]]}],\"heatmap\":[{\"type\":\"heatmap\",\"colorbar\":{\"outlinewidth\":0,\"ticks\":\"\"},\"colorscale\":[[0.0,\"#0d0887\"],[0.1111111111111111,\"#46039f\"],[0.2222222222222222,\"#7201a8\"],[0.3333333333333333,\"#9c179e\"],[0.4444444444444444,\"#bd3786\"],[0.5555555555555556,\"#d8576b\"],[0.6666666666666666,\"#ed7953\"],[0.7777777777777778,\"#fb9f3a\"],[0.8888888888888888,\"#fdca26\"],[1.0,\"#f0f921\"]]}],\"heatmapgl\":[{\"type\":\"heatmapgl\",\"colorbar\":{\"outlinewidth\":0,\"ticks\":\"\"},\"colorscale\":[[0.0,\"#0d0887\"],[0.1111111111111111,\"#46039f\"],[0.2222222222222222,\"#7201a8\"],[0.3333333333333333,\"#9c179e\"],[0.4444444444444444,\"#bd3786\"],[0.5555555555555556,\"#d8576b\"],[0.6666666666666666,\"#ed7953\"],[0.7777777777777778,\"#fb9f3a\"],[0.8888888888888888,\"#fdca26\"],[1.0,\"#f0f921\"]]}],\"contourcarpet\":[{\"type\":\"contourcarpet\",\"colorbar\":{\"outlinewidth\":0,\"ticks\":\"\"}}],\"contour\":[{\"type\":\"contour\",\"colorbar\":{\"outlinewidth\":0,\"ticks\":\"\"},\"colorscale\":[[0.0,\"#0d0887\"],[0.1111111111111111,\"#46039f\"],[0.2222222222222222,\"#7201a8\"],[0.3333333333333333,\"#9c179e\"],[0.4444444444444444,\"#bd3786\"],[0.5555555555555556,\"#d8576b\"],[0.6666666666666666,\"#ed7953\"],[0.7777777777777778,\"#fb9f3a\"],[0.8888888888888888,\"#fdca26\"],[1.0,\"#f0f921\"]]}],\"surface\":[{\"type\":\"surface\",\"colorbar\":{\"outlinewidth\":0,\"ticks\":\"\"},\"colorscale\":[[0.0,\"#0d0887\"],[0.1111111111111111,\"#46039f\"],[0.2222222222222222,\"#7201a8\"],[0.3333333333333333,\"#9c179e\"],[0.4444444444444444,\"#bd3786\"],[0.5555555555555556,\"#d8576b\"],[0.6666666666666666,\"#ed7953\"],[0.7777777777777778,\"#fb9f3a\"],[0.8888888888888888,\"#fdca26\"],[1.0,\"#f0f921\"]]}],\"mesh3d\":[{\"type\":\"mesh3d\",\"colorbar\":{\"outlinewidth\":0,\"ticks\":\"\"}}],\"scatter\":[{\"fillpattern\":{\"fillmode\":\"overlay\",\"size\":10,\"solidity\":0.2},\"type\":\"scatter\"}],\"parcoords\":[{\"type\":\"parcoords\",\"line\":{\"colorbar\":{\"outlinewidth\":0,\"ticks\":\"\"}}}],\"scatterpolargl\":[{\"type\":\"scatterpolargl\",\"marker\":{\"colorbar\":{\"outlinewidth\":0,\"ticks\":\"\"}}}],\"bar\":[{\"error_x\":{\"color\":\"#2a3f5f\"},\"error_y\":{\"color\":\"#2a3f5f\"},\"marker\":{\"line\":{\"color\":\"#E5ECF6\",\"width\":0.5},\"pattern\":{\"fillmode\":\"overlay\",\"size\":10,\"solidity\":0.2}},\"type\":\"bar\"}],\"scattergeo\":[{\"type\":\"scattergeo\",\"marker\":{\"colorbar\":{\"outlinewidth\":0,\"ticks\":\"\"}}}],\"scatterpolar\":[{\"type\":\"scatterpolar\",\"marker\":{\"colorbar\":{\"outlinewidth\":0,\"ticks\":\"\"}}}],\"histogram\":[{\"marker\":{\"pattern\":{\"fillmode\":\"overlay\",\"size\":10,\"solidity\":0.2}},\"type\":\"histogram\"}],\"scattergl\":[{\"type\":\"scattergl\",\"marker\":{\"colorbar\":{\"outlinewidth\":0,\"ticks\":\"\"}}}],\"scatter3d\":[{\"type\":\"scatter3d\",\"line\":{\"colorbar\":{\"outlinewidth\":0,\"ticks\":\"\"}},\"marker\":{\"colorbar\":{\"outlinewidth\":0,\"ticks\":\"\"}}}],\"scattermapbox\":[{\"type\":\"scattermapbox\",\"marker\":{\"colorbar\":{\"outlinewidth\":0,\"ticks\":\"\"}}}],\"scatterternary\":[{\"type\":\"scatterternary\",\"marker\":{\"colorbar\":{\"outlinewidth\":0,\"ticks\":\"\"}}}],\"scattercarpet\":[{\"type\":\"scattercarpet\",\"marker\":{\"colorbar\":{\"outlinewidth\":0,\"ticks\":\"\"}}}],\"carpet\":[{\"aaxis\":{\"endlinecolor\":\"#2a3f5f\",\"gridcolor\":\"white\",\"linecolor\":\"white\",\"minorgridcolor\":\"white\",\"startlinecolor\":\"#2a3f5f\"},\"baxis\":{\"endlinecolor\":\"#2a3f5f\",\"gridcolor\":\"white\",\"linecolor\":\"white\",\"minorgridcolor\":\"white\",\"startlinecolor\":\"#2a3f5f\"},\"type\":\"carpet\"}],\"table\":[{\"cells\":{\"fill\":{\"color\":\"#EBF0F8\"},\"line\":{\"color\":\"white\"}},\"header\":{\"fill\":{\"color\":\"#C8D4E3\"},\"line\":{\"color\":\"white\"}},\"type\":\"table\"}],\"barpolar\":[{\"marker\":{\"line\":{\"color\":\"#E5ECF6\",\"width\":0.5},\"pattern\":{\"fillmode\":\"overlay\",\"size\":10,\"solidity\":0.2}},\"type\":\"barpolar\"}],\"pie\":[{\"automargin\":true,\"type\":\"pie\"}]},\"layout\":{\"autotypenumbers\":\"strict\",\"colorway\":[\"#636efa\",\"#EF553B\",\"#00cc96\",\"#ab63fa\",\"#FFA15A\",\"#19d3f3\",\"#FF6692\",\"#B6E880\",\"#FF97FF\",\"#FECB52\"],\"font\":{\"color\":\"#2a3f5f\"},\"hovermode\":\"closest\",\"hoverlabel\":{\"align\":\"left\"},\"paper_bgcolor\":\"white\",\"plot_bgcolor\":\"#E5ECF6\",\"polar\":{\"bgcolor\":\"#E5ECF6\",\"angularaxis\":{\"gridcolor\":\"white\",\"linecolor\":\"white\",\"ticks\":\"\"},\"radialaxis\":{\"gridcolor\":\"white\",\"linecolor\":\"white\",\"ticks\":\"\"}},\"ternary\":{\"bgcolor\":\"#E5ECF6\",\"aaxis\":{\"gridcolor\":\"white\",\"linecolor\":\"white\",\"ticks\":\"\"},\"baxis\":{\"gridcolor\":\"white\",\"linecolor\":\"white\",\"ticks\":\"\"},\"caxis\":{\"gridcolor\":\"white\",\"linecolor\":\"white\",\"ticks\":\"\"}},\"coloraxis\":{\"colorbar\":{\"outlinewidth\":0,\"ticks\":\"\"}},\"colorscale\":{\"sequential\":[[0.0,\"#0d0887\"],[0.1111111111111111,\"#46039f\"],[0.2222222222222222,\"#7201a8\"],[0.3333333333333333,\"#9c179e\"],[0.4444444444444444,\"#bd3786\"],[0.5555555555555556,\"#d8576b\"],[0.6666666666666666,\"#ed7953\"],[0.7777777777777778,\"#fb9f3a\"],[0.8888888888888888,\"#fdca26\"],[1.0,\"#f0f921\"]],\"sequentialminus\":[[0.0,\"#0d0887\"],[0.1111111111111111,\"#46039f\"],[0.2222222222222222,\"#7201a8\"],[0.3333333333333333,\"#9c179e\"],[0.4444444444444444,\"#bd3786\"],[0.5555555555555556,\"#d8576b\"],[0.6666666666666666,\"#ed7953\"],[0.7777777777777778,\"#fb9f3a\"],[0.8888888888888888,\"#fdca26\"],[1.0,\"#f0f921\"]],\"diverging\":[[0,\"#8e0152\"],[0.1,\"#c51b7d\"],[0.2,\"#de77ae\"],[0.3,\"#f1b6da\"],[0.4,\"#fde0ef\"],[0.5,\"#f7f7f7\"],[0.6,\"#e6f5d0\"],[0.7,\"#b8e186\"],[0.8,\"#7fbc41\"],[0.9,\"#4d9221\"],[1,\"#276419\"]]},\"xaxis\":{\"gridcolor\":\"white\",\"linecolor\":\"white\",\"ticks\":\"\",\"title\":{\"standoff\":15},\"zerolinecolor\":\"white\",\"automargin\":true,\"zerolinewidth\":2},\"yaxis\":{\"gridcolor\":\"white\",\"linecolor\":\"white\",\"ticks\":\"\",\"title\":{\"standoff\":15},\"zerolinecolor\":\"white\",\"automargin\":true,\"zerolinewidth\":2},\"scene\":{\"xaxis\":{\"backgroundcolor\":\"#E5ECF6\",\"gridcolor\":\"white\",\"linecolor\":\"white\",\"showbackground\":true,\"ticks\":\"\",\"zerolinecolor\":\"white\",\"gridwidth\":2},\"yaxis\":{\"backgroundcolor\":\"#E5ECF6\",\"gridcolor\":\"white\",\"linecolor\":\"white\",\"showbackground\":true,\"ticks\":\"\",\"zerolinecolor\":\"white\",\"gridwidth\":2},\"zaxis\":{\"backgroundcolor\":\"#E5ECF6\",\"gridcolor\":\"white\",\"linecolor\":\"white\",\"showbackground\":true,\"ticks\":\"\",\"zerolinecolor\":\"white\",\"gridwidth\":2}},\"shapedefaults\":{\"line\":{\"color\":\"#2a3f5f\"}},\"annotationdefaults\":{\"arrowcolor\":\"#2a3f5f\",\"arrowhead\":0,\"arrowwidth\":1},\"geo\":{\"bgcolor\":\"white\",\"landcolor\":\"#E5ECF6\",\"subunitcolor\":\"white\",\"showland\":true,\"showlakes\":true,\"lakecolor\":\"white\"},\"title\":{\"x\":0.05},\"mapbox\":{\"style\":\"light\"}}},\"xaxis\":{\"anchor\":\"y\",\"domain\":[0.0,1.0],\"title\":{\"text\":\"\\u0414\\u0430\\u0442\\u0430\"}},\"yaxis\":{\"anchor\":\"x\",\"domain\":[0.0,1.0],\"title\":{\"text\":\"\\u0412\\u044b\\u0440\\u0443\\u0447\\u043a\\u0430\"}},\"legend\":{\"tracegroupgap\":0},\"margin\":{\"t\":60},\"barmode\":\"relative\",\"title\":{\"text\":\"\\u0412\\u044b\\u0440\\u0443\\u0447\\u043a\\u0430 \\u043f\\u043e \\u0434\\u043d\\u044f\\u043c\"}},                        {\"responsive\": true}                    ).then(function(){\n",
              "                            \n",
              "var gd = document.getElementById('c04fc78f-af20-44c4-9b2d-93956cc0856c');\n",
              "var x = new MutationObserver(function (mutations, observer) {{\n",
              "        var display = window.getComputedStyle(gd).display;\n",
              "        if (!display || display === 'none') {{\n",
              "            console.log([gd, 'removed!']);\n",
              "            Plotly.purge(gd);\n",
              "            observer.disconnect();\n",
              "        }}\n",
              "}});\n",
              "\n",
              "// Listen for the removal of the full notebook cells\n",
              "var notebookContainer = gd.closest('#notebook-container');\n",
              "if (notebookContainer) {{\n",
              "    x.observe(notebookContainer, {childList: true});\n",
              "}}\n",
              "\n",
              "// Listen for the clearing of the current output cell\n",
              "var outputEl = gd.closest('.output');\n",
              "if (outputEl) {{\n",
              "    x.observe(outputEl, {childList: true});\n",
              "}}\n",
              "\n",
              "                        })                };                            </script>        </div>\n",
              "</body>\n",
              "</html>"
            ]
          },
          "metadata": {}
        }
      ],
      "source": [
        "# Группировка данных по дням и подсчет выручки\n",
        "daily_revenue = df.groupby(df['purchase_date'].dt.date)['revenue'].sum()\n",
        "\n",
        "# Создание графика\n",
        "fig = px.bar(x=daily_revenue.index, y=daily_revenue, labels={'x': 'Дата', 'y': 'Выручка'})\n",
        "fig.update_layout(title='Выручка по дням')\n",
        "fig.show()"
      ]
    },
    {
      "cell_type": "code",
      "execution_count": 30,
      "metadata": {
        "colab": {
          "base_uri": "https://localhost:8080/"
        },
        "id": "Gr-J3v_yWbnQ",
        "outputId": "a279d79c-f3e4-485b-984e-e2f7ec35955b"
      },
      "outputs": [
        {
          "output_type": "execute_result",
          "data": {
            "text/plain": [
              "count       68.000000\n",
              "mean     33274.380066\n",
              "std      17225.312827\n",
              "min       4419.251036\n",
              "25%      21661.791249\n",
              "50%      28637.814210\n",
              "75%      44207.113971\n",
              "max      75631.697061\n",
              "Name: revenue, dtype: float64"
            ]
          },
          "metadata": {},
          "execution_count": 30
        }
      ],
      "source": [
        "daily_revenue.describe()"
      ]
    },
    {
      "cell_type": "markdown",
      "metadata": {
        "id": "Jv5sbZyFWbnQ"
      },
      "source": [
        "#### Вывод.\n",
        "Период данных - с 01.12.2016 по 28.02.2017.\n",
        "\n",
        "Общая выручка за весь период составила 2262658.0 у.е.\n",
        "\n",
        "По столбчатому графику видим, что самая большая выручка в декабре и самая маленькая в феврале. \n",
        "\n",
        "По второму столбчатому графику видим, что есть дни, в которых выручка нулевая (можно предположить, что магазины не работали). \n",
        "\n",
        "Средняя выручка в сутки составила 33274 у.е., максимальная - 75631 у.е."
      ]
    },
    {
      "cell_type": "markdown",
      "metadata": {
        "id": "knyCbx9pWbnR"
      },
      "source": [
        "### Построим график активности покупателей."
      ]
    },
    {
      "cell_type": "code",
      "execution_count": 31,
      "metadata": {
        "colab": {
          "base_uri": "https://localhost:8080/",
          "height": 542
        },
        "id": "_a_-kQq2WbnR",
        "outputId": "57c736df-62db-428b-e0be-04b7312705fc"
      },
      "outputs": [
        {
          "output_type": "display_data",
          "data": {
            "text/html": [
              "<html>\n",
              "<head><meta charset=\"utf-8\" /></head>\n",
              "<body>\n",
              "    <div>            <script src=\"https://cdnjs.cloudflare.com/ajax/libs/mathjax/2.7.5/MathJax.js?config=TeX-AMS-MML_SVG\"></script><script type=\"text/javascript\">if (window.MathJax && window.MathJax.Hub && window.MathJax.Hub.Config) {window.MathJax.Hub.Config({SVG: {font: \"STIX-Web\"}});}</script>                <script type=\"text/javascript\">window.PlotlyConfig = {MathJaxConfig: 'local'};</script>\n",
              "        <script src=\"https://cdn.plot.ly/plotly-2.18.2.min.js\"></script>                <div id=\"64a413fe-d4c3-40ae-bea2-a7b6bc936871\" class=\"plotly-graph-div\" style=\"height:525px; width:100%;\"></div>            <script type=\"text/javascript\">                                    window.PLOTLYENV=window.PLOTLYENV || {};                                    if (document.getElementById(\"64a413fe-d4c3-40ae-bea2-a7b6bc936871\")) {                    Plotly.newPlot(                        \"64a413fe-d4c3-40ae-bea2-a7b6bc936871\",                        [{\"alignmentgroup\":\"True\",\"hovertemplate\":\"\\u0414\\u0430\\u0442\\u0430=%{x}<br>\\u041a\\u043e\\u043b\\u0438\\u0447\\u0435\\u0441\\u0442\\u0432\\u043e \\u043f\\u043e\\u043a\\u0443\\u043f\\u0430\\u0442\\u0435\\u043b\\u0435\\u0439=%{y}<extra></extra>\",\"legendgroup\":\"\",\"marker\":{\"color\":\"#636efa\",\"pattern\":{\"shape\":\"\"}},\"name\":\"\",\"offsetgroup\":\"\",\"orientation\":\"v\",\"showlegend\":false,\"textposition\":\"auto\",\"x\":[\"2016-12-01T00:00:00\",\"2016-12-02T00:00:00\",\"2016-12-03T00:00:00\",\"2016-12-05T00:00:00\",\"2016-12-06T00:00:00\",\"2016-12-07T00:00:00\",\"2016-12-08T00:00:00\",\"2016-12-09T00:00:00\",\"2016-12-10T00:00:00\",\"2016-12-12T00:00:00\",\"2016-12-13T00:00:00\",\"2016-12-14T00:00:00\",\"2016-12-15T00:00:00\",\"2016-12-16T00:00:00\",\"2016-12-17T00:00:00\",\"2016-12-19T00:00:00\",\"2016-12-20T00:00:00\",\"2016-12-21T00:00:00\",\"2016-12-22T00:00:00\",\"2016-12-23T00:00:00\",\"2017-01-04T00:00:00\",\"2017-01-05T00:00:00\",\"2017-01-06T00:00:00\",\"2017-01-07T00:00:00\",\"2017-01-09T00:00:00\",\"2017-01-10T00:00:00\",\"2017-01-11T00:00:00\",\"2017-01-12T00:00:00\",\"2017-01-13T00:00:00\",\"2017-01-14T00:00:00\",\"2017-01-16T00:00:00\",\"2017-01-17T00:00:00\",\"2017-01-18T00:00:00\",\"2017-01-19T00:00:00\",\"2017-01-20T00:00:00\",\"2017-01-21T00:00:00\",\"2017-01-23T00:00:00\",\"2017-01-24T00:00:00\",\"2017-01-25T00:00:00\",\"2017-01-26T00:00:00\",\"2017-01-27T00:00:00\",\"2017-01-28T00:00:00\",\"2017-01-30T00:00:00\",\"2017-01-31T00:00:00\",\"2017-02-01T00:00:00\",\"2017-02-02T00:00:00\",\"2017-02-03T00:00:00\",\"2017-02-04T00:00:00\",\"2017-02-06T00:00:00\",\"2017-02-07T00:00:00\",\"2017-02-08T00:00:00\",\"2017-02-09T00:00:00\",\"2017-02-10T00:00:00\",\"2017-02-11T00:00:00\",\"2017-02-13T00:00:00\",\"2017-02-14T00:00:00\",\"2017-02-15T00:00:00\",\"2017-02-16T00:00:00\",\"2017-02-17T00:00:00\",\"2017-02-18T00:00:00\",\"2017-02-20T00:00:00\",\"2017-02-21T00:00:00\",\"2017-02-22T00:00:00\",\"2017-02-23T00:00:00\",\"2017-02-24T00:00:00\",\"2017-02-25T00:00:00\",\"2017-02-27T00:00:00\",\"2017-02-28T00:00:00\"],\"xaxis\":\"x\",\"y\":[96,100,51,76,83,66,100,90,54,43,60,74,67,99,52,18,42,24,14,16,35,46,46,46,48,33,48,43,42,38,22,46,31,34,31,33,27,44,58,50,51,37,22,51,58,56,45,42,11,36,38,23,41,35,20,37,48,57,51,35,26,32,47,50,53,43,31,50],\"yaxis\":\"y\",\"type\":\"bar\"}],                        {\"template\":{\"data\":{\"histogram2dcontour\":[{\"type\":\"histogram2dcontour\",\"colorbar\":{\"outlinewidth\":0,\"ticks\":\"\"},\"colorscale\":[[0.0,\"#0d0887\"],[0.1111111111111111,\"#46039f\"],[0.2222222222222222,\"#7201a8\"],[0.3333333333333333,\"#9c179e\"],[0.4444444444444444,\"#bd3786\"],[0.5555555555555556,\"#d8576b\"],[0.6666666666666666,\"#ed7953\"],[0.7777777777777778,\"#fb9f3a\"],[0.8888888888888888,\"#fdca26\"],[1.0,\"#f0f921\"]]}],\"choropleth\":[{\"type\":\"choropleth\",\"colorbar\":{\"outlinewidth\":0,\"ticks\":\"\"}}],\"histogram2d\":[{\"type\":\"histogram2d\",\"colorbar\":{\"outlinewidth\":0,\"ticks\":\"\"},\"colorscale\":[[0.0,\"#0d0887\"],[0.1111111111111111,\"#46039f\"],[0.2222222222222222,\"#7201a8\"],[0.3333333333333333,\"#9c179e\"],[0.4444444444444444,\"#bd3786\"],[0.5555555555555556,\"#d8576b\"],[0.6666666666666666,\"#ed7953\"],[0.7777777777777778,\"#fb9f3a\"],[0.8888888888888888,\"#fdca26\"],[1.0,\"#f0f921\"]]}],\"heatmap\":[{\"type\":\"heatmap\",\"colorbar\":{\"outlinewidth\":0,\"ticks\":\"\"},\"colorscale\":[[0.0,\"#0d0887\"],[0.1111111111111111,\"#46039f\"],[0.2222222222222222,\"#7201a8\"],[0.3333333333333333,\"#9c179e\"],[0.4444444444444444,\"#bd3786\"],[0.5555555555555556,\"#d8576b\"],[0.6666666666666666,\"#ed7953\"],[0.7777777777777778,\"#fb9f3a\"],[0.8888888888888888,\"#fdca26\"],[1.0,\"#f0f921\"]]}],\"heatmapgl\":[{\"type\":\"heatmapgl\",\"colorbar\":{\"outlinewidth\":0,\"ticks\":\"\"},\"colorscale\":[[0.0,\"#0d0887\"],[0.1111111111111111,\"#46039f\"],[0.2222222222222222,\"#7201a8\"],[0.3333333333333333,\"#9c179e\"],[0.4444444444444444,\"#bd3786\"],[0.5555555555555556,\"#d8576b\"],[0.6666666666666666,\"#ed7953\"],[0.7777777777777778,\"#fb9f3a\"],[0.8888888888888888,\"#fdca26\"],[1.0,\"#f0f921\"]]}],\"contourcarpet\":[{\"type\":\"contourcarpet\",\"colorbar\":{\"outlinewidth\":0,\"ticks\":\"\"}}],\"contour\":[{\"type\":\"contour\",\"colorbar\":{\"outlinewidth\":0,\"ticks\":\"\"},\"colorscale\":[[0.0,\"#0d0887\"],[0.1111111111111111,\"#46039f\"],[0.2222222222222222,\"#7201a8\"],[0.3333333333333333,\"#9c179e\"],[0.4444444444444444,\"#bd3786\"],[0.5555555555555556,\"#d8576b\"],[0.6666666666666666,\"#ed7953\"],[0.7777777777777778,\"#fb9f3a\"],[0.8888888888888888,\"#fdca26\"],[1.0,\"#f0f921\"]]}],\"surface\":[{\"type\":\"surface\",\"colorbar\":{\"outlinewidth\":0,\"ticks\":\"\"},\"colorscale\":[[0.0,\"#0d0887\"],[0.1111111111111111,\"#46039f\"],[0.2222222222222222,\"#7201a8\"],[0.3333333333333333,\"#9c179e\"],[0.4444444444444444,\"#bd3786\"],[0.5555555555555556,\"#d8576b\"],[0.6666666666666666,\"#ed7953\"],[0.7777777777777778,\"#fb9f3a\"],[0.8888888888888888,\"#fdca26\"],[1.0,\"#f0f921\"]]}],\"mesh3d\":[{\"type\":\"mesh3d\",\"colorbar\":{\"outlinewidth\":0,\"ticks\":\"\"}}],\"scatter\":[{\"fillpattern\":{\"fillmode\":\"overlay\",\"size\":10,\"solidity\":0.2},\"type\":\"scatter\"}],\"parcoords\":[{\"type\":\"parcoords\",\"line\":{\"colorbar\":{\"outlinewidth\":0,\"ticks\":\"\"}}}],\"scatterpolargl\":[{\"type\":\"scatterpolargl\",\"marker\":{\"colorbar\":{\"outlinewidth\":0,\"ticks\":\"\"}}}],\"bar\":[{\"error_x\":{\"color\":\"#2a3f5f\"},\"error_y\":{\"color\":\"#2a3f5f\"},\"marker\":{\"line\":{\"color\":\"#E5ECF6\",\"width\":0.5},\"pattern\":{\"fillmode\":\"overlay\",\"size\":10,\"solidity\":0.2}},\"type\":\"bar\"}],\"scattergeo\":[{\"type\":\"scattergeo\",\"marker\":{\"colorbar\":{\"outlinewidth\":0,\"ticks\":\"\"}}}],\"scatterpolar\":[{\"type\":\"scatterpolar\",\"marker\":{\"colorbar\":{\"outlinewidth\":0,\"ticks\":\"\"}}}],\"histogram\":[{\"marker\":{\"pattern\":{\"fillmode\":\"overlay\",\"size\":10,\"solidity\":0.2}},\"type\":\"histogram\"}],\"scattergl\":[{\"type\":\"scattergl\",\"marker\":{\"colorbar\":{\"outlinewidth\":0,\"ticks\":\"\"}}}],\"scatter3d\":[{\"type\":\"scatter3d\",\"line\":{\"colorbar\":{\"outlinewidth\":0,\"ticks\":\"\"}},\"marker\":{\"colorbar\":{\"outlinewidth\":0,\"ticks\":\"\"}}}],\"scattermapbox\":[{\"type\":\"scattermapbox\",\"marker\":{\"colorbar\":{\"outlinewidth\":0,\"ticks\":\"\"}}}],\"scatterternary\":[{\"type\":\"scatterternary\",\"marker\":{\"colorbar\":{\"outlinewidth\":0,\"ticks\":\"\"}}}],\"scattercarpet\":[{\"type\":\"scattercarpet\",\"marker\":{\"colorbar\":{\"outlinewidth\":0,\"ticks\":\"\"}}}],\"carpet\":[{\"aaxis\":{\"endlinecolor\":\"#2a3f5f\",\"gridcolor\":\"white\",\"linecolor\":\"white\",\"minorgridcolor\":\"white\",\"startlinecolor\":\"#2a3f5f\"},\"baxis\":{\"endlinecolor\":\"#2a3f5f\",\"gridcolor\":\"white\",\"linecolor\":\"white\",\"minorgridcolor\":\"white\",\"startlinecolor\":\"#2a3f5f\"},\"type\":\"carpet\"}],\"table\":[{\"cells\":{\"fill\":{\"color\":\"#EBF0F8\"},\"line\":{\"color\":\"white\"}},\"header\":{\"fill\":{\"color\":\"#C8D4E3\"},\"line\":{\"color\":\"white\"}},\"type\":\"table\"}],\"barpolar\":[{\"marker\":{\"line\":{\"color\":\"#E5ECF6\",\"width\":0.5},\"pattern\":{\"fillmode\":\"overlay\",\"size\":10,\"solidity\":0.2}},\"type\":\"barpolar\"}],\"pie\":[{\"automargin\":true,\"type\":\"pie\"}]},\"layout\":{\"autotypenumbers\":\"strict\",\"colorway\":[\"#636efa\",\"#EF553B\",\"#00cc96\",\"#ab63fa\",\"#FFA15A\",\"#19d3f3\",\"#FF6692\",\"#B6E880\",\"#FF97FF\",\"#FECB52\"],\"font\":{\"color\":\"#2a3f5f\"},\"hovermode\":\"closest\",\"hoverlabel\":{\"align\":\"left\"},\"paper_bgcolor\":\"white\",\"plot_bgcolor\":\"#E5ECF6\",\"polar\":{\"bgcolor\":\"#E5ECF6\",\"angularaxis\":{\"gridcolor\":\"white\",\"linecolor\":\"white\",\"ticks\":\"\"},\"radialaxis\":{\"gridcolor\":\"white\",\"linecolor\":\"white\",\"ticks\":\"\"}},\"ternary\":{\"bgcolor\":\"#E5ECF6\",\"aaxis\":{\"gridcolor\":\"white\",\"linecolor\":\"white\",\"ticks\":\"\"},\"baxis\":{\"gridcolor\":\"white\",\"linecolor\":\"white\",\"ticks\":\"\"},\"caxis\":{\"gridcolor\":\"white\",\"linecolor\":\"white\",\"ticks\":\"\"}},\"coloraxis\":{\"colorbar\":{\"outlinewidth\":0,\"ticks\":\"\"}},\"colorscale\":{\"sequential\":[[0.0,\"#0d0887\"],[0.1111111111111111,\"#46039f\"],[0.2222222222222222,\"#7201a8\"],[0.3333333333333333,\"#9c179e\"],[0.4444444444444444,\"#bd3786\"],[0.5555555555555556,\"#d8576b\"],[0.6666666666666666,\"#ed7953\"],[0.7777777777777778,\"#fb9f3a\"],[0.8888888888888888,\"#fdca26\"],[1.0,\"#f0f921\"]],\"sequentialminus\":[[0.0,\"#0d0887\"],[0.1111111111111111,\"#46039f\"],[0.2222222222222222,\"#7201a8\"],[0.3333333333333333,\"#9c179e\"],[0.4444444444444444,\"#bd3786\"],[0.5555555555555556,\"#d8576b\"],[0.6666666666666666,\"#ed7953\"],[0.7777777777777778,\"#fb9f3a\"],[0.8888888888888888,\"#fdca26\"],[1.0,\"#f0f921\"]],\"diverging\":[[0,\"#8e0152\"],[0.1,\"#c51b7d\"],[0.2,\"#de77ae\"],[0.3,\"#f1b6da\"],[0.4,\"#fde0ef\"],[0.5,\"#f7f7f7\"],[0.6,\"#e6f5d0\"],[0.7,\"#b8e186\"],[0.8,\"#7fbc41\"],[0.9,\"#4d9221\"],[1,\"#276419\"]]},\"xaxis\":{\"gridcolor\":\"white\",\"linecolor\":\"white\",\"ticks\":\"\",\"title\":{\"standoff\":15},\"zerolinecolor\":\"white\",\"automargin\":true,\"zerolinewidth\":2},\"yaxis\":{\"gridcolor\":\"white\",\"linecolor\":\"white\",\"ticks\":\"\",\"title\":{\"standoff\":15},\"zerolinecolor\":\"white\",\"automargin\":true,\"zerolinewidth\":2},\"scene\":{\"xaxis\":{\"backgroundcolor\":\"#E5ECF6\",\"gridcolor\":\"white\",\"linecolor\":\"white\",\"showbackground\":true,\"ticks\":\"\",\"zerolinecolor\":\"white\",\"gridwidth\":2},\"yaxis\":{\"backgroundcolor\":\"#E5ECF6\",\"gridcolor\":\"white\",\"linecolor\":\"white\",\"showbackground\":true,\"ticks\":\"\",\"zerolinecolor\":\"white\",\"gridwidth\":2},\"zaxis\":{\"backgroundcolor\":\"#E5ECF6\",\"gridcolor\":\"white\",\"linecolor\":\"white\",\"showbackground\":true,\"ticks\":\"\",\"zerolinecolor\":\"white\",\"gridwidth\":2}},\"shapedefaults\":{\"line\":{\"color\":\"#2a3f5f\"}},\"annotationdefaults\":{\"arrowcolor\":\"#2a3f5f\",\"arrowhead\":0,\"arrowwidth\":1},\"geo\":{\"bgcolor\":\"white\",\"landcolor\":\"#E5ECF6\",\"subunitcolor\":\"white\",\"showland\":true,\"showlakes\":true,\"lakecolor\":\"white\"},\"title\":{\"x\":0.05},\"mapbox\":{\"style\":\"light\"}}},\"xaxis\":{\"anchor\":\"y\",\"domain\":[0.0,1.0],\"title\":{\"text\":\"\\u0414\\u0430\\u0442\\u0430\"}},\"yaxis\":{\"anchor\":\"x\",\"domain\":[0.0,1.0],\"title\":{\"text\":\"\\u041a\\u043e\\u043b\\u0438\\u0447\\u0435\\u0441\\u0442\\u0432\\u043e \\u043f\\u043e\\u043a\\u0443\\u043f\\u0430\\u0442\\u0435\\u043b\\u0435\\u0439\"}},\"legend\":{\"tracegroupgap\":0},\"margin\":{\"t\":60},\"barmode\":\"relative\",\"title\":{\"text\":\"\\u0410\\u043a\\u0442\\u0438\\u0432\\u043d\\u043e\\u0441\\u0442\\u0438 \\u043f\\u043e\\u043a\\u0443\\u043f\\u0430\\u0442\\u0435\\u043b\\u0435\\u0439 \\u043f\\u043e \\u0434\\u0430\\u0442\\u0430\\u043c\"}},                        {\"responsive\": true}                    ).then(function(){\n",
              "                            \n",
              "var gd = document.getElementById('64a413fe-d4c3-40ae-bea2-a7b6bc936871');\n",
              "var x = new MutationObserver(function (mutations, observer) {{\n",
              "        var display = window.getComputedStyle(gd).display;\n",
              "        if (!display || display === 'none') {{\n",
              "            console.log([gd, 'removed!']);\n",
              "            Plotly.purge(gd);\n",
              "            observer.disconnect();\n",
              "        }}\n",
              "}});\n",
              "\n",
              "// Listen for the removal of the full notebook cells\n",
              "var notebookContainer = gd.closest('#notebook-container');\n",
              "if (notebookContainer) {{\n",
              "    x.observe(notebookContainer, {childList: true});\n",
              "}}\n",
              "\n",
              "// Listen for the clearing of the current output cell\n",
              "var outputEl = gd.closest('.output');\n",
              "if (outputEl) {{\n",
              "    x.observe(outputEl, {childList: true});\n",
              "}}\n",
              "\n",
              "                        })                };                            </script>        </div>\n",
              "</body>\n",
              "</html>"
            ]
          },
          "metadata": {}
        }
      ],
      "source": [
        "# Группировка данных по дате и подсчет количества уникальных покупателей\n",
        "customer_activity = df.groupby('purchase_date')['customer_id'].nunique()\n",
        "\n",
        "# Создание графика\n",
        "fig = px.bar(x=customer_activity.index, y=customer_activity, labels={'x': 'Дата', 'y': 'Количество покупателей'})\n",
        "fig.update_layout(title='Активности покупателей по датам')\n",
        "fig.show()"
      ]
    },
    {
      "cell_type": "markdown",
      "metadata": {
        "id": "lqo9f7VgWbnS"
      },
      "source": [
        "#### Вывод.\n",
        "По графику видно, что самое большое количество покупателей приходится на декабрь. И нет посетителей в первые дни января, ввиду праздников и возможного закрытия магазинов. Также есть и другие дни, в которых нет покупателей, скорее всего это выходные. "
      ]
    },
    {
      "cell_type": "markdown",
      "metadata": {
        "id": "QpahgyAdWbnS"
      },
      "source": [
        "### Сделать анализ магазинов, покупателей. "
      ]
    },
    {
      "cell_type": "markdown",
      "metadata": {
        "id": "wP8qgNouWbnT"
      },
      "source": [
        "#### Анализ магазинов"
      ]
    },
    {
      "cell_type": "code",
      "execution_count": 32,
      "metadata": {
        "id": "GCTT4dt6WbnT"
      },
      "outputs": [],
      "source": [
        "# Группировка данных по магазинам и вычисление суммарной выручки\n",
        "shop_revenue = df.groupby('shop_id')['revenue'].sum()\n",
        "\n",
        "# Создание таблицы с анализом магазинов\n",
        "shop_analysis = pd.DataFrame({\n",
        "    'shop_id': shop_revenue.index,\n",
        "    'total_revenue': shop_revenue.values\n",
        "})\n",
        "shop_analysis['total_revenue'] = shop_analysis['total_revenue'].round(2)\n",
        "# Сортировка таблицы по убыванию выручки\n",
        "shop_analysis = shop_analysis.sort_values(by='total_revenue', ascending=False)"
      ]
    },
    {
      "cell_type": "code",
      "execution_count": 33,
      "metadata": {
        "colab": {
          "base_uri": "https://localhost:8080/",
          "height": 542
        },
        "id": "EVxHcQz-WbnT",
        "outputId": "03b258bc-8f6a-40f5-fb56-6c347dea1e2a"
      },
      "outputs": [
        {
          "output_type": "display_data",
          "data": {
            "text/html": [
              "<html>\n",
              "<head><meta charset=\"utf-8\" /></head>\n",
              "<body>\n",
              "    <div>            <script src=\"https://cdnjs.cloudflare.com/ajax/libs/mathjax/2.7.5/MathJax.js?config=TeX-AMS-MML_SVG\"></script><script type=\"text/javascript\">if (window.MathJax && window.MathJax.Hub && window.MathJax.Hub.Config) {window.MathJax.Hub.Config({SVG: {font: \"STIX-Web\"}});}</script>                <script type=\"text/javascript\">window.PlotlyConfig = {MathJaxConfig: 'local'};</script>\n",
              "        <script src=\"https://cdn.plot.ly/plotly-2.18.2.min.js\"></script>                <div id=\"4f6234c9-9076-4c06-855c-5f933d5f428c\" class=\"plotly-graph-div\" style=\"height:525px; width:100%;\"></div>            <script type=\"text/javascript\">                                    window.PLOTLYENV=window.PLOTLYENV || {};                                    if (document.getElementById(\"4f6234c9-9076-4c06-855c-5f933d5f428c\")) {                    Plotly.newPlot(                        \"4f6234c9-9076-4c06-855c-5f933d5f428c\",                        [{\"alignmentgroup\":\"True\",\"hovertemplate\":\"shop_id=%{x}<br>total_revenue=%{text}<extra></extra>\",\"legendgroup\":\"Shop 0\",\"marker\":{\"color\":\"#636efa\",\"pattern\":{\"shape\":\"\"}},\"name\":\"Shop 0\",\"offsetgroup\":\"Shop 0\",\"orientation\":\"v\",\"showlegend\":true,\"text\":[1829839.84],\"textposition\":\"auto\",\"x\":[\"Shop 0\"],\"xaxis\":\"x\",\"y\":[1829839.84],\"yaxis\":\"y\",\"type\":\"bar\"},{\"alignmentgroup\":\"True\",\"hovertemplate\":\"shop_id=%{x}<br>total_revenue=%{text}<extra></extra>\",\"legendgroup\":\"Shop 3\",\"marker\":{\"color\":\"#EF553B\",\"pattern\":{\"shape\":\"\"}},\"name\":\"Shop 3\",\"offsetgroup\":\"Shop 3\",\"orientation\":\"v\",\"showlegend\":true,\"text\":[104097.18],\"textposition\":\"auto\",\"x\":[\"Shop 3\"],\"xaxis\":\"x\",\"y\":[104097.18],\"yaxis\":\"y\",\"type\":\"bar\"},{\"alignmentgroup\":\"True\",\"hovertemplate\":\"shop_id=%{x}<br>total_revenue=%{text}<extra></extra>\",\"legendgroup\":\"Shop 6\",\"marker\":{\"color\":\"#00cc96\",\"pattern\":{\"shape\":\"\"}},\"name\":\"Shop 6\",\"offsetgroup\":\"Shop 6\",\"orientation\":\"v\",\"showlegend\":true,\"text\":[62930.14],\"textposition\":\"auto\",\"x\":[\"Shop 6\"],\"xaxis\":\"x\",\"y\":[62930.14],\"yaxis\":\"y\",\"type\":\"bar\"},{\"alignmentgroup\":\"True\",\"hovertemplate\":\"shop_id=%{x}<br>total_revenue=%{text}<extra></extra>\",\"legendgroup\":\"Shop 4\",\"marker\":{\"color\":\"#ab63fa\",\"pattern\":{\"shape\":\"\"}},\"name\":\"Shop 4\",\"offsetgroup\":\"Shop 4\",\"orientation\":\"v\",\"showlegend\":true,\"text\":[54752.89],\"textposition\":\"auto\",\"x\":[\"Shop 4\"],\"xaxis\":\"x\",\"y\":[54752.89],\"yaxis\":\"y\",\"type\":\"bar\"},{\"alignmentgroup\":\"True\",\"hovertemplate\":\"shop_id=%{x}<br>total_revenue=%{text}<extra></extra>\",\"legendgroup\":\"Shop 1\",\"marker\":{\"color\":\"#FFA15A\",\"pattern\":{\"shape\":\"\"}},\"name\":\"Shop 1\",\"offsetgroup\":\"Shop 1\",\"orientation\":\"v\",\"showlegend\":true,\"text\":[48234.0],\"textposition\":\"auto\",\"x\":[\"Shop 1\"],\"xaxis\":\"x\",\"y\":[48234.0],\"yaxis\":\"y\",\"type\":\"bar\"},{\"alignmentgroup\":\"True\",\"hovertemplate\":\"shop_id=%{x}<br>total_revenue=%{text}<extra></extra>\",\"legendgroup\":\"Shop 2\",\"marker\":{\"color\":\"#19d3f3\",\"pattern\":{\"shape\":\"\"}},\"name\":\"Shop 2\",\"offsetgroup\":\"Shop 2\",\"orientation\":\"v\",\"showlegend\":true,\"text\":[40579.66],\"textposition\":\"auto\",\"x\":[\"Shop 2\"],\"xaxis\":\"x\",\"y\":[40579.66],\"yaxis\":\"y\",\"type\":\"bar\"},{\"alignmentgroup\":\"True\",\"hovertemplate\":\"shop_id=%{x}<br>total_revenue=%{text}<extra></extra>\",\"legendgroup\":\"Shop 8\",\"marker\":{\"color\":\"#FF6692\",\"pattern\":{\"shape\":\"\"}},\"name\":\"Shop 8\",\"offsetgroup\":\"Shop 8\",\"orientation\":\"v\",\"showlegend\":true,\"text\":[17357.73],\"textposition\":\"auto\",\"x\":[\"Shop 8\"],\"xaxis\":\"x\",\"y\":[17357.73],\"yaxis\":\"y\",\"type\":\"bar\"},{\"alignmentgroup\":\"True\",\"hovertemplate\":\"shop_id=%{x}<br>total_revenue=%{text}<extra></extra>\",\"legendgroup\":\"Shop 14\",\"marker\":{\"color\":\"#B6E880\",\"pattern\":{\"shape\":\"\"}},\"name\":\"Shop 14\",\"offsetgroup\":\"Shop 14\",\"orientation\":\"v\",\"showlegend\":true,\"text\":[16128.0],\"textposition\":\"auto\",\"x\":[\"Shop 14\"],\"xaxis\":\"x\",\"y\":[16128.0],\"yaxis\":\"y\",\"type\":\"bar\"},{\"alignmentgroup\":\"True\",\"hovertemplate\":\"shop_id=%{x}<br>total_revenue=%{text}<extra></extra>\",\"legendgroup\":\"Shop 7\",\"marker\":{\"color\":\"#FF97FF\",\"pattern\":{\"shape\":\"\"}},\"name\":\"Shop 7\",\"offsetgroup\":\"Shop 7\",\"orientation\":\"v\",\"showlegend\":true,\"text\":[11148.39],\"textposition\":\"auto\",\"x\":[\"Shop 7\"],\"xaxis\":\"x\",\"y\":[11148.39],\"yaxis\":\"y\",\"type\":\"bar\"},{\"alignmentgroup\":\"True\",\"hovertemplate\":\"shop_id=%{x}<br>total_revenue=%{text}<extra></extra>\",\"legendgroup\":\"Shop 19\",\"marker\":{\"color\":\"#FECB52\",\"pattern\":{\"shape\":\"\"}},\"name\":\"Shop 19\",\"offsetgroup\":\"Shop 19\",\"orientation\":\"v\",\"showlegend\":true,\"text\":[10904.28],\"textposition\":\"auto\",\"x\":[\"Shop 19\"],\"xaxis\":\"x\",\"y\":[10904.28],\"yaxis\":\"y\",\"type\":\"bar\"},{\"alignmentgroup\":\"True\",\"hovertemplate\":\"shop_id=%{x}<br>total_revenue=%{text}<extra></extra>\",\"legendgroup\":\"Shop 10\",\"marker\":{\"color\":\"#636efa\",\"pattern\":{\"shape\":\"\"}},\"name\":\"Shop 10\",\"offsetgroup\":\"Shop 10\",\"orientation\":\"v\",\"showlegend\":true,\"text\":[10025.44],\"textposition\":\"auto\",\"x\":[\"Shop 10\"],\"xaxis\":\"x\",\"y\":[10025.44],\"yaxis\":\"y\",\"type\":\"bar\"},{\"alignmentgroup\":\"True\",\"hovertemplate\":\"shop_id=%{x}<br>total_revenue=%{text}<extra></extra>\",\"legendgroup\":\"Shop 12\",\"marker\":{\"color\":\"#EF553B\",\"pattern\":{\"shape\":\"\"}},\"name\":\"Shop 12\",\"offsetgroup\":\"Shop 12\",\"orientation\":\"v\",\"showlegend\":true,\"text\":[6912.32],\"textposition\":\"auto\",\"x\":[\"Shop 12\"],\"xaxis\":\"x\",\"y\":[6912.32],\"yaxis\":\"y\",\"type\":\"bar\"},{\"alignmentgroup\":\"True\",\"hovertemplate\":\"shop_id=%{x}<br>total_revenue=%{text}<extra></extra>\",\"legendgroup\":\"Shop 18\",\"marker\":{\"color\":\"#00cc96\",\"pattern\":{\"shape\":\"\"}},\"name\":\"Shop 18\",\"offsetgroup\":\"Shop 18\",\"orientation\":\"v\",\"showlegend\":true,\"text\":[6750.02],\"textposition\":\"auto\",\"x\":[\"Shop 18\"],\"xaxis\":\"x\",\"y\":[6750.02],\"yaxis\":\"y\",\"type\":\"bar\"},{\"alignmentgroup\":\"True\",\"hovertemplate\":\"shop_id=%{x}<br>total_revenue=%{text}<extra></extra>\",\"legendgroup\":\"Shop 5\",\"marker\":{\"color\":\"#ab63fa\",\"pattern\":{\"shape\":\"\"}},\"name\":\"Shop 5\",\"offsetgroup\":\"Shop 5\",\"orientation\":\"v\",\"showlegend\":true,\"text\":[6136.92],\"textposition\":\"auto\",\"x\":[\"Shop 5\"],\"xaxis\":\"x\",\"y\":[6136.92],\"yaxis\":\"y\",\"type\":\"bar\"},{\"alignmentgroup\":\"True\",\"hovertemplate\":\"shop_id=%{x}<br>total_revenue=%{text}<extra></extra>\",\"legendgroup\":\"Shop 11\",\"marker\":{\"color\":\"#FFA15A\",\"pattern\":{\"shape\":\"\"}},\"name\":\"Shop 11\",\"offsetgroup\":\"Shop 11\",\"orientation\":\"v\",\"showlegend\":true,\"text\":[4117.23],\"textposition\":\"auto\",\"x\":[\"Shop 11\"],\"xaxis\":\"x\",\"y\":[4117.23],\"yaxis\":\"y\",\"type\":\"bar\"},{\"alignmentgroup\":\"True\",\"hovertemplate\":\"shop_id=%{x}<br>total_revenue=%{text}<extra></extra>\",\"legendgroup\":\"Shop 24\",\"marker\":{\"color\":\"#19d3f3\",\"pattern\":{\"shape\":\"\"}},\"name\":\"Shop 24\",\"offsetgroup\":\"Shop 24\",\"orientation\":\"v\",\"showlegend\":true,\"text\":[3917.85],\"textposition\":\"auto\",\"x\":[\"Shop 24\"],\"xaxis\":\"x\",\"y\":[3917.85],\"yaxis\":\"y\",\"type\":\"bar\"},{\"alignmentgroup\":\"True\",\"hovertemplate\":\"shop_id=%{x}<br>total_revenue=%{text}<extra></extra>\",\"legendgroup\":\"Shop 16\",\"marker\":{\"color\":\"#FF6692\",\"pattern\":{\"shape\":\"\"}},\"name\":\"Shop 16\",\"offsetgroup\":\"Shop 16\",\"orientation\":\"v\",\"showlegend\":true,\"text\":[3807.71],\"textposition\":\"auto\",\"x\":[\"Shop 16\"],\"xaxis\":\"x\",\"y\":[3807.71],\"yaxis\":\"y\",\"type\":\"bar\"},{\"alignmentgroup\":\"True\",\"hovertemplate\":\"shop_id=%{x}<br>total_revenue=%{text}<extra></extra>\",\"legendgroup\":\"Shop 25\",\"marker\":{\"color\":\"#B6E880\",\"pattern\":{\"shape\":\"\"}},\"name\":\"Shop 25\",\"offsetgroup\":\"Shop 25\",\"orientation\":\"v\",\"showlegend\":true,\"text\":[3150.08],\"textposition\":\"auto\",\"x\":[\"Shop 25\"],\"xaxis\":\"x\",\"y\":[3150.08],\"yaxis\":\"y\",\"type\":\"bar\"},{\"alignmentgroup\":\"True\",\"hovertemplate\":\"shop_id=%{x}<br>total_revenue=%{text}<extra></extra>\",\"legendgroup\":\"Shop 22\",\"marker\":{\"color\":\"#FF97FF\",\"pattern\":{\"shape\":\"\"}},\"name\":\"Shop 22\",\"offsetgroup\":\"Shop 22\",\"orientation\":\"v\",\"showlegend\":true,\"text\":[2906.96],\"textposition\":\"auto\",\"x\":[\"Shop 22\"],\"xaxis\":\"x\",\"y\":[2906.96],\"yaxis\":\"y\",\"type\":\"bar\"},{\"alignmentgroup\":\"True\",\"hovertemplate\":\"shop_id=%{x}<br>total_revenue=%{text}<extra></extra>\",\"legendgroup\":\"Shop 26\",\"marker\":{\"color\":\"#FECB52\",\"pattern\":{\"shape\":\"\"}},\"name\":\"Shop 26\",\"offsetgroup\":\"Shop 26\",\"orientation\":\"v\",\"showlegend\":true,\"text\":[2768.06],\"textposition\":\"auto\",\"x\":[\"Shop 26\"],\"xaxis\":\"x\",\"y\":[2768.06],\"yaxis\":\"y\",\"type\":\"bar\"},{\"alignmentgroup\":\"True\",\"hovertemplate\":\"shop_id=%{x}<br>total_revenue=%{text}<extra></extra>\",\"legendgroup\":\"Shop 13\",\"marker\":{\"color\":\"#636efa\",\"pattern\":{\"shape\":\"\"}},\"name\":\"Shop 13\",\"offsetgroup\":\"Shop 13\",\"orientation\":\"v\",\"showlegend\":true,\"text\":[2443.4],\"textposition\":\"auto\",\"x\":[\"Shop 13\"],\"xaxis\":\"x\",\"y\":[2443.4],\"yaxis\":\"y\",\"type\":\"bar\"},{\"alignmentgroup\":\"True\",\"hovertemplate\":\"shop_id=%{x}<br>total_revenue=%{text}<extra></extra>\",\"legendgroup\":\"Shop 9\",\"marker\":{\"color\":\"#EF553B\",\"pattern\":{\"shape\":\"\"}},\"name\":\"Shop 9\",\"offsetgroup\":\"Shop 9\",\"orientation\":\"v\",\"showlegend\":true,\"text\":[2421.23],\"textposition\":\"auto\",\"x\":[\"Shop 9\"],\"xaxis\":\"x\",\"y\":[2421.23],\"yaxis\":\"y\",\"type\":\"bar\"},{\"alignmentgroup\":\"True\",\"hovertemplate\":\"shop_id=%{x}<br>total_revenue=%{text}<extra></extra>\",\"legendgroup\":\"Shop 17\",\"marker\":{\"color\":\"#00cc96\",\"pattern\":{\"shape\":\"\"}},\"name\":\"Shop 17\",\"offsetgroup\":\"Shop 17\",\"orientation\":\"v\",\"showlegend\":true,\"text\":[2232.19],\"textposition\":\"auto\",\"x\":[\"Shop 17\"],\"xaxis\":\"x\",\"y\":[2232.19],\"yaxis\":\"y\",\"type\":\"bar\"},{\"alignmentgroup\":\"True\",\"hovertemplate\":\"shop_id=%{x}<br>total_revenue=%{text}<extra></extra>\",\"legendgroup\":\"Shop 27\",\"marker\":{\"color\":\"#ab63fa\",\"pattern\":{\"shape\":\"\"}},\"name\":\"Shop 27\",\"offsetgroup\":\"Shop 27\",\"orientation\":\"v\",\"showlegend\":true,\"text\":[2114.42],\"textposition\":\"auto\",\"x\":[\"Shop 27\"],\"xaxis\":\"x\",\"y\":[2114.42],\"yaxis\":\"y\",\"type\":\"bar\"},{\"alignmentgroup\":\"True\",\"hovertemplate\":\"shop_id=%{x}<br>total_revenue=%{text}<extra></extra>\",\"legendgroup\":\"Shop 15\",\"marker\":{\"color\":\"#FFA15A\",\"pattern\":{\"shape\":\"\"}},\"name\":\"Shop 15\",\"offsetgroup\":\"Shop 15\",\"orientation\":\"v\",\"showlegend\":true,\"text\":[1718.36],\"textposition\":\"auto\",\"x\":[\"Shop 15\"],\"xaxis\":\"x\",\"y\":[1718.36],\"yaxis\":\"y\",\"type\":\"bar\"},{\"alignmentgroup\":\"True\",\"hovertemplate\":\"shop_id=%{x}<br>total_revenue=%{text}<extra></extra>\",\"legendgroup\":\"Shop 21\",\"marker\":{\"color\":\"#19d3f3\",\"pattern\":{\"shape\":\"\"}},\"name\":\"Shop 21\",\"offsetgroup\":\"Shop 21\",\"orientation\":\"v\",\"showlegend\":true,\"text\":[1619.41],\"textposition\":\"auto\",\"x\":[\"Shop 21\"],\"xaxis\":\"x\",\"y\":[1619.41],\"yaxis\":\"y\",\"type\":\"bar\"},{\"alignmentgroup\":\"True\",\"hovertemplate\":\"shop_id=%{x}<br>total_revenue=%{text}<extra></extra>\",\"legendgroup\":\"Shop 28\",\"marker\":{\"color\":\"#FF6692\",\"pattern\":{\"shape\":\"\"}},\"name\":\"Shop 28\",\"offsetgroup\":\"Shop 28\",\"orientation\":\"v\",\"showlegend\":true,\"text\":[1466.01],\"textposition\":\"auto\",\"x\":[\"Shop 28\"],\"xaxis\":\"x\",\"y\":[1466.01],\"yaxis\":\"y\",\"type\":\"bar\"},{\"alignmentgroup\":\"True\",\"hovertemplate\":\"shop_id=%{x}<br>total_revenue=%{text}<extra></extra>\",\"legendgroup\":\"Shop 20\",\"marker\":{\"color\":\"#B6E880\",\"pattern\":{\"shape\":\"\"}},\"name\":\"Shop 20\",\"offsetgroup\":\"Shop 20\",\"orientation\":\"v\",\"showlegend\":true,\"text\":[941.28],\"textposition\":\"auto\",\"x\":[\"Shop 20\"],\"xaxis\":\"x\",\"y\":[941.28],\"yaxis\":\"y\",\"type\":\"bar\"},{\"alignmentgroup\":\"True\",\"hovertemplate\":\"shop_id=%{x}<br>total_revenue=%{text}<extra></extra>\",\"legendgroup\":\"Shop 30\",\"marker\":{\"color\":\"#FF97FF\",\"pattern\":{\"shape\":\"\"}},\"name\":\"Shop 30\",\"offsetgroup\":\"Shop 30\",\"orientation\":\"v\",\"showlegend\":true,\"text\":[742.51],\"textposition\":\"auto\",\"x\":[\"Shop 30\"],\"xaxis\":\"x\",\"y\":[742.51],\"yaxis\":\"y\",\"type\":\"bar\"},{\"alignmentgroup\":\"True\",\"hovertemplate\":\"shop_id=%{x}<br>total_revenue=%{text}<extra></extra>\",\"legendgroup\":\"Shop 23\",\"marker\":{\"color\":\"#FECB52\",\"pattern\":{\"shape\":\"\"}},\"name\":\"Shop 23\",\"offsetgroup\":\"Shop 23\",\"orientation\":\"v\",\"showlegend\":true,\"text\":[292.03],\"textposition\":\"auto\",\"x\":[\"Shop 23\"],\"xaxis\":\"x\",\"y\":[292.03],\"yaxis\":\"y\",\"type\":\"bar\"},{\"alignmentgroup\":\"True\",\"hovertemplate\":\"shop_id=%{x}<br>total_revenue=%{text}<extra></extra>\",\"legendgroup\":\"Shop 29\",\"marker\":{\"color\":\"#636efa\",\"pattern\":{\"shape\":\"\"}},\"name\":\"Shop 29\",\"offsetgroup\":\"Shop 29\",\"orientation\":\"v\",\"showlegend\":true,\"text\":[202.28],\"textposition\":\"auto\",\"x\":[\"Shop 29\"],\"xaxis\":\"x\",\"y\":[202.28],\"yaxis\":\"y\",\"type\":\"bar\"}],                        {\"template\":{\"data\":{\"histogram2dcontour\":[{\"type\":\"histogram2dcontour\",\"colorbar\":{\"outlinewidth\":0,\"ticks\":\"\"},\"colorscale\":[[0.0,\"#0d0887\"],[0.1111111111111111,\"#46039f\"],[0.2222222222222222,\"#7201a8\"],[0.3333333333333333,\"#9c179e\"],[0.4444444444444444,\"#bd3786\"],[0.5555555555555556,\"#d8576b\"],[0.6666666666666666,\"#ed7953\"],[0.7777777777777778,\"#fb9f3a\"],[0.8888888888888888,\"#fdca26\"],[1.0,\"#f0f921\"]]}],\"choropleth\":[{\"type\":\"choropleth\",\"colorbar\":{\"outlinewidth\":0,\"ticks\":\"\"}}],\"histogram2d\":[{\"type\":\"histogram2d\",\"colorbar\":{\"outlinewidth\":0,\"ticks\":\"\"},\"colorscale\":[[0.0,\"#0d0887\"],[0.1111111111111111,\"#46039f\"],[0.2222222222222222,\"#7201a8\"],[0.3333333333333333,\"#9c179e\"],[0.4444444444444444,\"#bd3786\"],[0.5555555555555556,\"#d8576b\"],[0.6666666666666666,\"#ed7953\"],[0.7777777777777778,\"#fb9f3a\"],[0.8888888888888888,\"#fdca26\"],[1.0,\"#f0f921\"]]}],\"heatmap\":[{\"type\":\"heatmap\",\"colorbar\":{\"outlinewidth\":0,\"ticks\":\"\"},\"colorscale\":[[0.0,\"#0d0887\"],[0.1111111111111111,\"#46039f\"],[0.2222222222222222,\"#7201a8\"],[0.3333333333333333,\"#9c179e\"],[0.4444444444444444,\"#bd3786\"],[0.5555555555555556,\"#d8576b\"],[0.6666666666666666,\"#ed7953\"],[0.7777777777777778,\"#fb9f3a\"],[0.8888888888888888,\"#fdca26\"],[1.0,\"#f0f921\"]]}],\"heatmapgl\":[{\"type\":\"heatmapgl\",\"colorbar\":{\"outlinewidth\":0,\"ticks\":\"\"},\"colorscale\":[[0.0,\"#0d0887\"],[0.1111111111111111,\"#46039f\"],[0.2222222222222222,\"#7201a8\"],[0.3333333333333333,\"#9c179e\"],[0.4444444444444444,\"#bd3786\"],[0.5555555555555556,\"#d8576b\"],[0.6666666666666666,\"#ed7953\"],[0.7777777777777778,\"#fb9f3a\"],[0.8888888888888888,\"#fdca26\"],[1.0,\"#f0f921\"]]}],\"contourcarpet\":[{\"type\":\"contourcarpet\",\"colorbar\":{\"outlinewidth\":0,\"ticks\":\"\"}}],\"contour\":[{\"type\":\"contour\",\"colorbar\":{\"outlinewidth\":0,\"ticks\":\"\"},\"colorscale\":[[0.0,\"#0d0887\"],[0.1111111111111111,\"#46039f\"],[0.2222222222222222,\"#7201a8\"],[0.3333333333333333,\"#9c179e\"],[0.4444444444444444,\"#bd3786\"],[0.5555555555555556,\"#d8576b\"],[0.6666666666666666,\"#ed7953\"],[0.7777777777777778,\"#fb9f3a\"],[0.8888888888888888,\"#fdca26\"],[1.0,\"#f0f921\"]]}],\"surface\":[{\"type\":\"surface\",\"colorbar\":{\"outlinewidth\":0,\"ticks\":\"\"},\"colorscale\":[[0.0,\"#0d0887\"],[0.1111111111111111,\"#46039f\"],[0.2222222222222222,\"#7201a8\"],[0.3333333333333333,\"#9c179e\"],[0.4444444444444444,\"#bd3786\"],[0.5555555555555556,\"#d8576b\"],[0.6666666666666666,\"#ed7953\"],[0.7777777777777778,\"#fb9f3a\"],[0.8888888888888888,\"#fdca26\"],[1.0,\"#f0f921\"]]}],\"mesh3d\":[{\"type\":\"mesh3d\",\"colorbar\":{\"outlinewidth\":0,\"ticks\":\"\"}}],\"scatter\":[{\"fillpattern\":{\"fillmode\":\"overlay\",\"size\":10,\"solidity\":0.2},\"type\":\"scatter\"}],\"parcoords\":[{\"type\":\"parcoords\",\"line\":{\"colorbar\":{\"outlinewidth\":0,\"ticks\":\"\"}}}],\"scatterpolargl\":[{\"type\":\"scatterpolargl\",\"marker\":{\"colorbar\":{\"outlinewidth\":0,\"ticks\":\"\"}}}],\"bar\":[{\"error_x\":{\"color\":\"#2a3f5f\"},\"error_y\":{\"color\":\"#2a3f5f\"},\"marker\":{\"line\":{\"color\":\"#E5ECF6\",\"width\":0.5},\"pattern\":{\"fillmode\":\"overlay\",\"size\":10,\"solidity\":0.2}},\"type\":\"bar\"}],\"scattergeo\":[{\"type\":\"scattergeo\",\"marker\":{\"colorbar\":{\"outlinewidth\":0,\"ticks\":\"\"}}}],\"scatterpolar\":[{\"type\":\"scatterpolar\",\"marker\":{\"colorbar\":{\"outlinewidth\":0,\"ticks\":\"\"}}}],\"histogram\":[{\"marker\":{\"pattern\":{\"fillmode\":\"overlay\",\"size\":10,\"solidity\":0.2}},\"type\":\"histogram\"}],\"scattergl\":[{\"type\":\"scattergl\",\"marker\":{\"colorbar\":{\"outlinewidth\":0,\"ticks\":\"\"}}}],\"scatter3d\":[{\"type\":\"scatter3d\",\"line\":{\"colorbar\":{\"outlinewidth\":0,\"ticks\":\"\"}},\"marker\":{\"colorbar\":{\"outlinewidth\":0,\"ticks\":\"\"}}}],\"scattermapbox\":[{\"type\":\"scattermapbox\",\"marker\":{\"colorbar\":{\"outlinewidth\":0,\"ticks\":\"\"}}}],\"scatterternary\":[{\"type\":\"scatterternary\",\"marker\":{\"colorbar\":{\"outlinewidth\":0,\"ticks\":\"\"}}}],\"scattercarpet\":[{\"type\":\"scattercarpet\",\"marker\":{\"colorbar\":{\"outlinewidth\":0,\"ticks\":\"\"}}}],\"carpet\":[{\"aaxis\":{\"endlinecolor\":\"#2a3f5f\",\"gridcolor\":\"white\",\"linecolor\":\"white\",\"minorgridcolor\":\"white\",\"startlinecolor\":\"#2a3f5f\"},\"baxis\":{\"endlinecolor\":\"#2a3f5f\",\"gridcolor\":\"white\",\"linecolor\":\"white\",\"minorgridcolor\":\"white\",\"startlinecolor\":\"#2a3f5f\"},\"type\":\"carpet\"}],\"table\":[{\"cells\":{\"fill\":{\"color\":\"#EBF0F8\"},\"line\":{\"color\":\"white\"}},\"header\":{\"fill\":{\"color\":\"#C8D4E3\"},\"line\":{\"color\":\"white\"}},\"type\":\"table\"}],\"barpolar\":[{\"marker\":{\"line\":{\"color\":\"#E5ECF6\",\"width\":0.5},\"pattern\":{\"fillmode\":\"overlay\",\"size\":10,\"solidity\":0.2}},\"type\":\"barpolar\"}],\"pie\":[{\"automargin\":true,\"type\":\"pie\"}]},\"layout\":{\"autotypenumbers\":\"strict\",\"colorway\":[\"#636efa\",\"#EF553B\",\"#00cc96\",\"#ab63fa\",\"#FFA15A\",\"#19d3f3\",\"#FF6692\",\"#B6E880\",\"#FF97FF\",\"#FECB52\"],\"font\":{\"color\":\"#2a3f5f\"},\"hovermode\":\"closest\",\"hoverlabel\":{\"align\":\"left\"},\"paper_bgcolor\":\"white\",\"plot_bgcolor\":\"#E5ECF6\",\"polar\":{\"bgcolor\":\"#E5ECF6\",\"angularaxis\":{\"gridcolor\":\"white\",\"linecolor\":\"white\",\"ticks\":\"\"},\"radialaxis\":{\"gridcolor\":\"white\",\"linecolor\":\"white\",\"ticks\":\"\"}},\"ternary\":{\"bgcolor\":\"#E5ECF6\",\"aaxis\":{\"gridcolor\":\"white\",\"linecolor\":\"white\",\"ticks\":\"\"},\"baxis\":{\"gridcolor\":\"white\",\"linecolor\":\"white\",\"ticks\":\"\"},\"caxis\":{\"gridcolor\":\"white\",\"linecolor\":\"white\",\"ticks\":\"\"}},\"coloraxis\":{\"colorbar\":{\"outlinewidth\":0,\"ticks\":\"\"}},\"colorscale\":{\"sequential\":[[0.0,\"#0d0887\"],[0.1111111111111111,\"#46039f\"],[0.2222222222222222,\"#7201a8\"],[0.3333333333333333,\"#9c179e\"],[0.4444444444444444,\"#bd3786\"],[0.5555555555555556,\"#d8576b\"],[0.6666666666666666,\"#ed7953\"],[0.7777777777777778,\"#fb9f3a\"],[0.8888888888888888,\"#fdca26\"],[1.0,\"#f0f921\"]],\"sequentialminus\":[[0.0,\"#0d0887\"],[0.1111111111111111,\"#46039f\"],[0.2222222222222222,\"#7201a8\"],[0.3333333333333333,\"#9c179e\"],[0.4444444444444444,\"#bd3786\"],[0.5555555555555556,\"#d8576b\"],[0.6666666666666666,\"#ed7953\"],[0.7777777777777778,\"#fb9f3a\"],[0.8888888888888888,\"#fdca26\"],[1.0,\"#f0f921\"]],\"diverging\":[[0,\"#8e0152\"],[0.1,\"#c51b7d\"],[0.2,\"#de77ae\"],[0.3,\"#f1b6da\"],[0.4,\"#fde0ef\"],[0.5,\"#f7f7f7\"],[0.6,\"#e6f5d0\"],[0.7,\"#b8e186\"],[0.8,\"#7fbc41\"],[0.9,\"#4d9221\"],[1,\"#276419\"]]},\"xaxis\":{\"gridcolor\":\"white\",\"linecolor\":\"white\",\"ticks\":\"\",\"title\":{\"standoff\":15},\"zerolinecolor\":\"white\",\"automargin\":true,\"zerolinewidth\":2},\"yaxis\":{\"gridcolor\":\"white\",\"linecolor\":\"white\",\"ticks\":\"\",\"title\":{\"standoff\":15},\"zerolinecolor\":\"white\",\"automargin\":true,\"zerolinewidth\":2},\"scene\":{\"xaxis\":{\"backgroundcolor\":\"#E5ECF6\",\"gridcolor\":\"white\",\"linecolor\":\"white\",\"showbackground\":true,\"ticks\":\"\",\"zerolinecolor\":\"white\",\"gridwidth\":2},\"yaxis\":{\"backgroundcolor\":\"#E5ECF6\",\"gridcolor\":\"white\",\"linecolor\":\"white\",\"showbackground\":true,\"ticks\":\"\",\"zerolinecolor\":\"white\",\"gridwidth\":2},\"zaxis\":{\"backgroundcolor\":\"#E5ECF6\",\"gridcolor\":\"white\",\"linecolor\":\"white\",\"showbackground\":true,\"ticks\":\"\",\"zerolinecolor\":\"white\",\"gridwidth\":2}},\"shapedefaults\":{\"line\":{\"color\":\"#2a3f5f\"}},\"annotationdefaults\":{\"arrowcolor\":\"#2a3f5f\",\"arrowhead\":0,\"arrowwidth\":1},\"geo\":{\"bgcolor\":\"white\",\"landcolor\":\"#E5ECF6\",\"subunitcolor\":\"white\",\"showland\":true,\"showlakes\":true,\"lakecolor\":\"white\"},\"title\":{\"x\":0.05},\"mapbox\":{\"style\":\"light\"}}},\"xaxis\":{\"anchor\":\"y\",\"domain\":[0.0,1.0],\"title\":{\"text\":\"\\u041c\\u0430\\u0433\\u0430\\u0437\\u0438\\u043d\\u044b\"},\"categoryorder\":\"total descending\",\"categoryarray\":[\"Shop 0\",\"Shop 3\",\"Shop 6\",\"Shop 4\",\"Shop 1\",\"Shop 2\",\"Shop 8\",\"Shop 14\",\"Shop 7\",\"Shop 19\",\"Shop 10\",\"Shop 12\",\"Shop 18\",\"Shop 5\",\"Shop 11\",\"Shop 24\",\"Shop 16\",\"Shop 25\",\"Shop 22\",\"Shop 26\",\"Shop 13\",\"Shop 9\",\"Shop 17\",\"Shop 27\",\"Shop 15\",\"Shop 21\",\"Shop 28\",\"Shop 20\",\"Shop 30\",\"Shop 23\",\"Shop 29\"]},\"yaxis\":{\"anchor\":\"x\",\"domain\":[0.0,1.0],\"title\":{\"text\":\"\\u0421\\u0443\\u043c\\u043c\\u0430 \\u0432\\u044b\\u0440\\u0443\\u0447\\u043a\\u0438\"}},\"legend\":{\"title\":{\"text\":\"shop_id\"},\"tracegroupgap\":0},\"margin\":{\"t\":60},\"barmode\":\"relative\",\"title\":{\"text\":\"\\u0420\\u0430\\u0441\\u043f\\u0440\\u0435\\u0434\\u0435\\u043b\\u0435\\u043d\\u0438\\u0435 \\u0432\\u044b\\u0440\\u0443\\u0447\\u043a\\u0438 \\u043f\\u043e \\u043c\\u0430\\u0433\\u0430\\u0437\\u0438\\u043d\\u0430\\u043c\"},\"showlegend\":false},                        {\"responsive\": true}                    ).then(function(){\n",
              "                            \n",
              "var gd = document.getElementById('4f6234c9-9076-4c06-855c-5f933d5f428c');\n",
              "var x = new MutationObserver(function (mutations, observer) {{\n",
              "        var display = window.getComputedStyle(gd).display;\n",
              "        if (!display || display === 'none') {{\n",
              "            console.log([gd, 'removed!']);\n",
              "            Plotly.purge(gd);\n",
              "            observer.disconnect();\n",
              "        }}\n",
              "}});\n",
              "\n",
              "// Listen for the removal of the full notebook cells\n",
              "var notebookContainer = gd.closest('#notebook-container');\n",
              "if (notebookContainer) {{\n",
              "    x.observe(notebookContainer, {childList: true});\n",
              "}}\n",
              "\n",
              "// Listen for the clearing of the current output cell\n",
              "var outputEl = gd.closest('.output');\n",
              "if (outputEl) {{\n",
              "    x.observe(outputEl, {childList: true});\n",
              "}}\n",
              "\n",
              "                        })                };                            </script>        </div>\n",
              "</body>\n",
              "</html>"
            ]
          },
          "metadata": {}
        }
      ],
      "source": [
        "#Построим график распределения выручки по магазинам\n",
        "fig = px.bar(shop_analysis,\n",
        "             x='shop_id',\n",
        "             y='total_revenue',\n",
        "             text='total_revenue',\n",
        "             color='shop_id'\n",
        "            )\n",
        "\n",
        "fig.update_layout(title='Распределение выручки по магазинам',\n",
        "                   yaxis_title='Сумма выручки',\n",
        "                   xaxis_title='Магазины',\n",
        "                   showlegend=False,\n",
        "                   xaxis={'categoryorder':'total descending'}\n",
        "                 )\n",
        "fig.show()"
      ]
    },
    {
      "cell_type": "markdown",
      "metadata": {
        "id": "E1l6wHEqWbnT"
      },
      "source": [
        "**Вывод**\n",
        "\n",
        "Самый крупный из них по выручке - Shop 0. Выручка за изучаемый период в нем составила 1,82 М у.е.\n",
        "\n",
        "В тройку лучших по выручке входит:\n",
        "Shop 3: 104097 у.е.\n",
        "Shop 6: 62930 у.е."
      ]
    },
    {
      "cell_type": "markdown",
      "metadata": {
        "id": "1TuML1xcWbnU"
      },
      "source": [
        "#### Проанализируем средний чек по магазинам"
      ]
    },
    {
      "cell_type": "code",
      "execution_count": 34,
      "metadata": {
        "id": "96GYWi98WbnU"
      },
      "outputs": [],
      "source": [
        "# Рассчет среднего чека по магазинам\n",
        "average_check = df.groupby('shop_id')['revenue'].sum() / df.groupby('shop_id')['purchase_id'].nunique()\n",
        "\n",
        "# Создание новой таблицы с результатами\n",
        "average_check_table = pd.DataFrame({'shop_id': average_check.index, 'average_check': average_check.values})\n",
        "\n",
        "# Сортировка таблицы по убыванию среднего чека\n",
        "average_check_table = average_check_table.sort_values('average_check', ascending=False).round(2)"
      ]
    },
    {
      "cell_type": "code",
      "execution_count": 35,
      "metadata": {
        "colab": {
          "base_uri": "https://localhost:8080/",
          "height": 542
        },
        "id": "3NM1auDbWbnU",
        "outputId": "6557ba04-6f58-449e-8a7d-847d5b6082d6"
      },
      "outputs": [
        {
          "output_type": "display_data",
          "data": {
            "text/html": [
              "<html>\n",
              "<head><meta charset=\"utf-8\" /></head>\n",
              "<body>\n",
              "    <div>            <script src=\"https://cdnjs.cloudflare.com/ajax/libs/mathjax/2.7.5/MathJax.js?config=TeX-AMS-MML_SVG\"></script><script type=\"text/javascript\">if (window.MathJax && window.MathJax.Hub && window.MathJax.Hub.Config) {window.MathJax.Hub.Config({SVG: {font: \"STIX-Web\"}});}</script>                <script type=\"text/javascript\">window.PlotlyConfig = {MathJaxConfig: 'local'};</script>\n",
              "        <script src=\"https://cdn.plot.ly/plotly-2.18.2.min.js\"></script>                <div id=\"50455070-6b26-437c-8ecc-cf9aecd20dd8\" class=\"plotly-graph-div\" style=\"height:525px; width:100%;\"></div>            <script type=\"text/javascript\">                                    window.PLOTLYENV=window.PLOTLYENV || {};                                    if (document.getElementById(\"50455070-6b26-437c-8ecc-cf9aecd20dd8\")) {                    Plotly.newPlot(                        \"50455070-6b26-437c-8ecc-cf9aecd20dd8\",                        [{\"alignmentgroup\":\"True\",\"hovertemplate\":\"shop_id=%{x}<br>average_check=%{text}<extra></extra>\",\"legendgroup\":\"Shop 3\",\"marker\":{\"color\":\"#636efa\",\"pattern\":{\"shape\":\"\"}},\"name\":\"Shop 3\",\"offsetgroup\":\"Shop 3\",\"orientation\":\"v\",\"showlegend\":true,\"text\":[8007.48],\"textposition\":\"auto\",\"x\":[\"Shop 3\"],\"xaxis\":\"x\",\"y\":[8007.48],\"yaxis\":\"y\",\"type\":\"bar\"},{\"alignmentgroup\":\"True\",\"hovertemplate\":\"shop_id=%{x}<br>average_check=%{text}<extra></extra>\",\"legendgroup\":\"Shop 14\",\"marker\":{\"color\":\"#EF553B\",\"pattern\":{\"shape\":\"\"}},\"name\":\"Shop 14\",\"offsetgroup\":\"Shop 14\",\"orientation\":\"v\",\"showlegend\":true,\"text\":[4032.0],\"textposition\":\"auto\",\"x\":[\"Shop 14\"],\"xaxis\":\"x\",\"y\":[4032.0],\"yaxis\":\"y\",\"type\":\"bar\"},{\"alignmentgroup\":\"True\",\"hovertemplate\":\"shop_id=%{x}<br>average_check=%{text}<extra></extra>\",\"legendgroup\":\"Shop 24\",\"marker\":{\"color\":\"#00cc96\",\"pattern\":{\"shape\":\"\"}},\"name\":\"Shop 24\",\"offsetgroup\":\"Shop 24\",\"orientation\":\"v\",\"showlegend\":true,\"text\":[3917.85],\"textposition\":\"auto\",\"x\":[\"Shop 24\"],\"xaxis\":\"x\",\"y\":[3917.85],\"yaxis\":\"y\",\"type\":\"bar\"},{\"alignmentgroup\":\"True\",\"hovertemplate\":\"shop_id=%{x}<br>average_check=%{text}<extra></extra>\",\"legendgroup\":\"Shop 25\",\"marker\":{\"color\":\"#ab63fa\",\"pattern\":{\"shape\":\"\"}},\"name\":\"Shop 25\",\"offsetgroup\":\"Shop 25\",\"orientation\":\"v\",\"showlegend\":true,\"text\":[3150.08],\"textposition\":\"auto\",\"x\":[\"Shop 25\"],\"xaxis\":\"x\",\"y\":[3150.08],\"yaxis\":\"y\",\"type\":\"bar\"},{\"alignmentgroup\":\"True\",\"hovertemplate\":\"shop_id=%{x}<br>average_check=%{text}<extra></extra>\",\"legendgroup\":\"Shop 26\",\"marker\":{\"color\":\"#FFA15A\",\"pattern\":{\"shape\":\"\"}},\"name\":\"Shop 26\",\"offsetgroup\":\"Shop 26\",\"orientation\":\"v\",\"showlegend\":true,\"text\":[2768.06],\"textposition\":\"auto\",\"x\":[\"Shop 26\"],\"xaxis\":\"x\",\"y\":[2768.06],\"yaxis\":\"y\",\"type\":\"bar\"},{\"alignmentgroup\":\"True\",\"hovertemplate\":\"shop_id=%{x}<br>average_check=%{text}<extra></extra>\",\"legendgroup\":\"Shop 2\",\"marker\":{\"color\":\"#19d3f3\",\"pattern\":{\"shape\":\"\"}},\"name\":\"Shop 2\",\"offsetgroup\":\"Shop 2\",\"orientation\":\"v\",\"showlegend\":true,\"text\":[2387.04],\"textposition\":\"auto\",\"x\":[\"Shop 2\"],\"xaxis\":\"x\",\"y\":[2387.04],\"yaxis\":\"y\",\"type\":\"bar\"},{\"alignmentgroup\":\"True\",\"hovertemplate\":\"shop_id=%{x}<br>average_check=%{text}<extra></extra>\",\"legendgroup\":\"Shop 19\",\"marker\":{\"color\":\"#FF6692\",\"pattern\":{\"shape\":\"\"}},\"name\":\"Shop 19\",\"offsetgroup\":\"Shop 19\",\"orientation\":\"v\",\"showlegend\":true,\"text\":[2180.86],\"textposition\":\"auto\",\"x\":[\"Shop 19\"],\"xaxis\":\"x\",\"y\":[2180.86],\"yaxis\":\"y\",\"type\":\"bar\"},{\"alignmentgroup\":\"True\",\"hovertemplate\":\"shop_id=%{x}<br>average_check=%{text}<extra></extra>\",\"legendgroup\":\"Shop 27\",\"marker\":{\"color\":\"#B6E880\",\"pattern\":{\"shape\":\"\"}},\"name\":\"Shop 27\",\"offsetgroup\":\"Shop 27\",\"orientation\":\"v\",\"showlegend\":true,\"text\":[2114.42],\"textposition\":\"auto\",\"x\":[\"Shop 27\"],\"xaxis\":\"x\",\"y\":[2114.42],\"yaxis\":\"y\",\"type\":\"bar\"},{\"alignmentgroup\":\"True\",\"hovertemplate\":\"shop_id=%{x}<br>average_check=%{text}<extra></extra>\",\"legendgroup\":\"Shop 6\",\"marker\":{\"color\":\"#FF97FF\",\"pattern\":{\"shape\":\"\"}},\"name\":\"Shop 6\",\"offsetgroup\":\"Shop 6\",\"orientation\":\"v\",\"showlegend\":true,\"text\":[1700.81],\"textposition\":\"auto\",\"x\":[\"Shop 6\"],\"xaxis\":\"x\",\"y\":[1700.81],\"yaxis\":\"y\",\"type\":\"bar\"},{\"alignmentgroup\":\"True\",\"hovertemplate\":\"shop_id=%{x}<br>average_check=%{text}<extra></extra>\",\"legendgroup\":\"Shop 5\",\"marker\":{\"color\":\"#FECB52\",\"pattern\":{\"shape\":\"\"}},\"name\":\"Shop 5\",\"offsetgroup\":\"Shop 5\",\"orientation\":\"v\",\"showlegend\":true,\"text\":[1534.23],\"textposition\":\"auto\",\"x\":[\"Shop 5\"],\"xaxis\":\"x\",\"y\":[1534.23],\"yaxis\":\"y\",\"type\":\"bar\"},{\"alignmentgroup\":\"True\",\"hovertemplate\":\"shop_id=%{x}<br>average_check=%{text}<extra></extra>\",\"legendgroup\":\"Shop 28\",\"marker\":{\"color\":\"#636efa\",\"pattern\":{\"shape\":\"\"}},\"name\":\"Shop 28\",\"offsetgroup\":\"Shop 28\",\"orientation\":\"v\",\"showlegend\":true,\"text\":[1466.01],\"textposition\":\"auto\",\"x\":[\"Shop 28\"],\"xaxis\":\"x\",\"y\":[1466.01],\"yaxis\":\"y\",\"type\":\"bar\"},{\"alignmentgroup\":\"True\",\"hovertemplate\":\"shop_id=%{x}<br>average_check=%{text}<extra></extra>\",\"legendgroup\":\"Shop 16\",\"marker\":{\"color\":\"#EF553B\",\"pattern\":{\"shape\":\"\"}},\"name\":\"Shop 16\",\"offsetgroup\":\"Shop 16\",\"orientation\":\"v\",\"showlegend\":true,\"text\":[1269.24],\"textposition\":\"auto\",\"x\":[\"Shop 16\"],\"xaxis\":\"x\",\"y\":[1269.24],\"yaxis\":\"y\",\"type\":\"bar\"},{\"alignmentgroup\":\"True\",\"hovertemplate\":\"shop_id=%{x}<br>average_check=%{text}<extra></extra>\",\"legendgroup\":\"Shop 17\",\"marker\":{\"color\":\"#00cc96\",\"pattern\":{\"shape\":\"\"}},\"name\":\"Shop 17\",\"offsetgroup\":\"Shop 17\",\"orientation\":\"v\",\"showlegend\":true,\"text\":[1116.09],\"textposition\":\"auto\",\"x\":[\"Shop 17\"],\"xaxis\":\"x\",\"y\":[1116.09],\"yaxis\":\"y\",\"type\":\"bar\"},{\"alignmentgroup\":\"True\",\"hovertemplate\":\"shop_id=%{x}<br>average_check=%{text}<extra></extra>\",\"legendgroup\":\"Shop 7\",\"marker\":{\"color\":\"#ab63fa\",\"pattern\":{\"shape\":\"\"}},\"name\":\"Shop 7\",\"offsetgroup\":\"Shop 7\",\"orientation\":\"v\",\"showlegend\":true,\"text\":[1114.84],\"textposition\":\"auto\",\"x\":[\"Shop 7\"],\"xaxis\":\"x\",\"y\":[1114.84],\"yaxis\":\"y\",\"type\":\"bar\"},{\"alignmentgroup\":\"True\",\"hovertemplate\":\"shop_id=%{x}<br>average_check=%{text}<extra></extra>\",\"legendgroup\":\"Shop 8\",\"marker\":{\"color\":\"#FFA15A\",\"pattern\":{\"shape\":\"\"}},\"name\":\"Shop 8\",\"offsetgroup\":\"Shop 8\",\"orientation\":\"v\",\"showlegend\":true,\"text\":[1084.86],\"textposition\":\"auto\",\"x\":[\"Shop 8\"],\"xaxis\":\"x\",\"y\":[1084.86],\"yaxis\":\"y\",\"type\":\"bar\"},{\"alignmentgroup\":\"True\",\"hovertemplate\":\"shop_id=%{x}<br>average_check=%{text}<extra></extra>\",\"legendgroup\":\"Shop 15\",\"marker\":{\"color\":\"#19d3f3\",\"pattern\":{\"shape\":\"\"}},\"name\":\"Shop 15\",\"offsetgroup\":\"Shop 15\",\"orientation\":\"v\",\"showlegend\":true,\"text\":[859.18],\"textposition\":\"auto\",\"x\":[\"Shop 15\"],\"xaxis\":\"x\",\"y\":[859.18],\"yaxis\":\"y\",\"type\":\"bar\"},{\"alignmentgroup\":\"True\",\"hovertemplate\":\"shop_id=%{x}<br>average_check=%{text}<extra></extra>\",\"legendgroup\":\"Shop 18\",\"marker\":{\"color\":\"#FF6692\",\"pattern\":{\"shape\":\"\"}},\"name\":\"Shop 18\",\"offsetgroup\":\"Shop 18\",\"orientation\":\"v\",\"showlegend\":true,\"text\":[843.75],\"textposition\":\"auto\",\"x\":[\"Shop 18\"],\"xaxis\":\"x\",\"y\":[843.75],\"yaxis\":\"y\",\"type\":\"bar\"},{\"alignmentgroup\":\"True\",\"hovertemplate\":\"shop_id=%{x}<br>average_check=%{text}<extra></extra>\",\"legendgroup\":\"Shop 10\",\"marker\":{\"color\":\"#B6E880\",\"pattern\":{\"shape\":\"\"}},\"name\":\"Shop 10\",\"offsetgroup\":\"Shop 10\",\"orientation\":\"v\",\"showlegend\":true,\"text\":[835.45],\"textposition\":\"auto\",\"x\":[\"Shop 10\"],\"xaxis\":\"x\",\"y\":[835.45],\"yaxis\":\"y\",\"type\":\"bar\"},{\"alignmentgroup\":\"True\",\"hovertemplate\":\"shop_id=%{x}<br>average_check=%{text}<extra></extra>\",\"legendgroup\":\"Shop 21\",\"marker\":{\"color\":\"#FF97FF\",\"pattern\":{\"shape\":\"\"}},\"name\":\"Shop 21\",\"offsetgroup\":\"Shop 21\",\"orientation\":\"v\",\"showlegend\":true,\"text\":[809.71],\"textposition\":\"auto\",\"x\":[\"Shop 21\"],\"xaxis\":\"x\",\"y\":[809.71],\"yaxis\":\"y\",\"type\":\"bar\"},{\"alignmentgroup\":\"True\",\"hovertemplate\":\"shop_id=%{x}<br>average_check=%{text}<extra></extra>\",\"legendgroup\":\"Shop 30\",\"marker\":{\"color\":\"#FECB52\",\"pattern\":{\"shape\":\"\"}},\"name\":\"Shop 30\",\"offsetgroup\":\"Shop 30\",\"orientation\":\"v\",\"showlegend\":true,\"text\":[742.51],\"textposition\":\"auto\",\"x\":[\"Shop 30\"],\"xaxis\":\"x\",\"y\":[742.51],\"yaxis\":\"y\",\"type\":\"bar\"},{\"alignmentgroup\":\"True\",\"hovertemplate\":\"shop_id=%{x}<br>average_check=%{text}<extra></extra>\",\"legendgroup\":\"Shop 22\",\"marker\":{\"color\":\"#636efa\",\"pattern\":{\"shape\":\"\"}},\"name\":\"Shop 22\",\"offsetgroup\":\"Shop 22\",\"orientation\":\"v\",\"showlegend\":true,\"text\":[726.74],\"textposition\":\"auto\",\"x\":[\"Shop 22\"],\"xaxis\":\"x\",\"y\":[726.74],\"yaxis\":\"y\",\"type\":\"bar\"},{\"alignmentgroup\":\"True\",\"hovertemplate\":\"shop_id=%{x}<br>average_check=%{text}<extra></extra>\",\"legendgroup\":\"Shop 11\",\"marker\":{\"color\":\"#EF553B\",\"pattern\":{\"shape\":\"\"}},\"name\":\"Shop 11\",\"offsetgroup\":\"Shop 11\",\"orientation\":\"v\",\"showlegend\":true,\"text\":[686.21],\"textposition\":\"auto\",\"x\":[\"Shop 11\"],\"xaxis\":\"x\",\"y\":[686.21],\"yaxis\":\"y\",\"type\":\"bar\"},{\"alignmentgroup\":\"True\",\"hovertemplate\":\"shop_id=%{x}<br>average_check=%{text}<extra></extra>\",\"legendgroup\":\"Shop 4\",\"marker\":{\"color\":\"#00cc96\",\"pattern\":{\"shape\":\"\"}},\"name\":\"Shop 4\",\"offsetgroup\":\"Shop 4\",\"orientation\":\"v\",\"showlegend\":true,\"text\":[684.41],\"textposition\":\"auto\",\"x\":[\"Shop 4\"],\"xaxis\":\"x\",\"y\":[684.41],\"yaxis\":\"y\",\"type\":\"bar\"},{\"alignmentgroup\":\"True\",\"hovertemplate\":\"shop_id=%{x}<br>average_check=%{text}<extra></extra>\",\"legendgroup\":\"Shop 1\",\"marker\":{\"color\":\"#ab63fa\",\"pattern\":{\"shape\":\"\"}},\"name\":\"Shop 1\",\"offsetgroup\":\"Shop 1\",\"orientation\":\"v\",\"showlegend\":true,\"text\":[679.35],\"textposition\":\"auto\",\"x\":[\"Shop 1\"],\"xaxis\":\"x\",\"y\":[679.35],\"yaxis\":\"y\",\"type\":\"bar\"},{\"alignmentgroup\":\"True\",\"hovertemplate\":\"shop_id=%{x}<br>average_check=%{text}<extra></extra>\",\"legendgroup\":\"Shop 13\",\"marker\":{\"color\":\"#FFA15A\",\"pattern\":{\"shape\":\"\"}},\"name\":\"Shop 13\",\"offsetgroup\":\"Shop 13\",\"orientation\":\"v\",\"showlegend\":true,\"text\":[610.85],\"textposition\":\"auto\",\"x\":[\"Shop 13\"],\"xaxis\":\"x\",\"y\":[610.85],\"yaxis\":\"y\",\"type\":\"bar\"},{\"alignmentgroup\":\"True\",\"hovertemplate\":\"shop_id=%{x}<br>average_check=%{text}<extra></extra>\",\"legendgroup\":\"Shop 9\",\"marker\":{\"color\":\"#19d3f3\",\"pattern\":{\"shape\":\"\"}},\"name\":\"Shop 9\",\"offsetgroup\":\"Shop 9\",\"orientation\":\"v\",\"showlegend\":true,\"text\":[605.31],\"textposition\":\"auto\",\"x\":[\"Shop 9\"],\"xaxis\":\"x\",\"y\":[605.31],\"yaxis\":\"y\",\"type\":\"bar\"},{\"alignmentgroup\":\"True\",\"hovertemplate\":\"shop_id=%{x}<br>average_check=%{text}<extra></extra>\",\"legendgroup\":\"Shop 0\",\"marker\":{\"color\":\"#FF6692\",\"pattern\":{\"shape\":\"\"}},\"name\":\"Shop 0\",\"offsetgroup\":\"Shop 0\",\"orientation\":\"v\",\"showlegend\":true,\"text\":[517.34],\"textposition\":\"auto\",\"x\":[\"Shop 0\"],\"xaxis\":\"x\",\"y\":[517.34],\"yaxis\":\"y\",\"type\":\"bar\"},{\"alignmentgroup\":\"True\",\"hovertemplate\":\"shop_id=%{x}<br>average_check=%{text}<extra></extra>\",\"legendgroup\":\"Shop 12\",\"marker\":{\"color\":\"#B6E880\",\"pattern\":{\"shape\":\"\"}},\"name\":\"Shop 12\",\"offsetgroup\":\"Shop 12\",\"orientation\":\"v\",\"showlegend\":true,\"text\":[432.02],\"textposition\":\"auto\",\"x\":[\"Shop 12\"],\"xaxis\":\"x\",\"y\":[432.02],\"yaxis\":\"y\",\"type\":\"bar\"},{\"alignmentgroup\":\"True\",\"hovertemplate\":\"shop_id=%{x}<br>average_check=%{text}<extra></extra>\",\"legendgroup\":\"Shop 20\",\"marker\":{\"color\":\"#FF97FF\",\"pattern\":{\"shape\":\"\"}},\"name\":\"Shop 20\",\"offsetgroup\":\"Shop 20\",\"orientation\":\"v\",\"showlegend\":true,\"text\":[313.76],\"textposition\":\"auto\",\"x\":[\"Shop 20\"],\"xaxis\":\"x\",\"y\":[313.76],\"yaxis\":\"y\",\"type\":\"bar\"},{\"alignmentgroup\":\"True\",\"hovertemplate\":\"shop_id=%{x}<br>average_check=%{text}<extra></extra>\",\"legendgroup\":\"Shop 23\",\"marker\":{\"color\":\"#FECB52\",\"pattern\":{\"shape\":\"\"}},\"name\":\"Shop 23\",\"offsetgroup\":\"Shop 23\",\"orientation\":\"v\",\"showlegend\":true,\"text\":[292.03],\"textposition\":\"auto\",\"x\":[\"Shop 23\"],\"xaxis\":\"x\",\"y\":[292.03],\"yaxis\":\"y\",\"type\":\"bar\"},{\"alignmentgroup\":\"True\",\"hovertemplate\":\"shop_id=%{x}<br>average_check=%{text}<extra></extra>\",\"legendgroup\":\"Shop 29\",\"marker\":{\"color\":\"#636efa\",\"pattern\":{\"shape\":\"\"}},\"name\":\"Shop 29\",\"offsetgroup\":\"Shop 29\",\"orientation\":\"v\",\"showlegend\":true,\"text\":[202.28],\"textposition\":\"auto\",\"x\":[\"Shop 29\"],\"xaxis\":\"x\",\"y\":[202.28],\"yaxis\":\"y\",\"type\":\"bar\"}],                        {\"template\":{\"data\":{\"histogram2dcontour\":[{\"type\":\"histogram2dcontour\",\"colorbar\":{\"outlinewidth\":0,\"ticks\":\"\"},\"colorscale\":[[0.0,\"#0d0887\"],[0.1111111111111111,\"#46039f\"],[0.2222222222222222,\"#7201a8\"],[0.3333333333333333,\"#9c179e\"],[0.4444444444444444,\"#bd3786\"],[0.5555555555555556,\"#d8576b\"],[0.6666666666666666,\"#ed7953\"],[0.7777777777777778,\"#fb9f3a\"],[0.8888888888888888,\"#fdca26\"],[1.0,\"#f0f921\"]]}],\"choropleth\":[{\"type\":\"choropleth\",\"colorbar\":{\"outlinewidth\":0,\"ticks\":\"\"}}],\"histogram2d\":[{\"type\":\"histogram2d\",\"colorbar\":{\"outlinewidth\":0,\"ticks\":\"\"},\"colorscale\":[[0.0,\"#0d0887\"],[0.1111111111111111,\"#46039f\"],[0.2222222222222222,\"#7201a8\"],[0.3333333333333333,\"#9c179e\"],[0.4444444444444444,\"#bd3786\"],[0.5555555555555556,\"#d8576b\"],[0.6666666666666666,\"#ed7953\"],[0.7777777777777778,\"#fb9f3a\"],[0.8888888888888888,\"#fdca26\"],[1.0,\"#f0f921\"]]}],\"heatmap\":[{\"type\":\"heatmap\",\"colorbar\":{\"outlinewidth\":0,\"ticks\":\"\"},\"colorscale\":[[0.0,\"#0d0887\"],[0.1111111111111111,\"#46039f\"],[0.2222222222222222,\"#7201a8\"],[0.3333333333333333,\"#9c179e\"],[0.4444444444444444,\"#bd3786\"],[0.5555555555555556,\"#d8576b\"],[0.6666666666666666,\"#ed7953\"],[0.7777777777777778,\"#fb9f3a\"],[0.8888888888888888,\"#fdca26\"],[1.0,\"#f0f921\"]]}],\"heatmapgl\":[{\"type\":\"heatmapgl\",\"colorbar\":{\"outlinewidth\":0,\"ticks\":\"\"},\"colorscale\":[[0.0,\"#0d0887\"],[0.1111111111111111,\"#46039f\"],[0.2222222222222222,\"#7201a8\"],[0.3333333333333333,\"#9c179e\"],[0.4444444444444444,\"#bd3786\"],[0.5555555555555556,\"#d8576b\"],[0.6666666666666666,\"#ed7953\"],[0.7777777777777778,\"#fb9f3a\"],[0.8888888888888888,\"#fdca26\"],[1.0,\"#f0f921\"]]}],\"contourcarpet\":[{\"type\":\"contourcarpet\",\"colorbar\":{\"outlinewidth\":0,\"ticks\":\"\"}}],\"contour\":[{\"type\":\"contour\",\"colorbar\":{\"outlinewidth\":0,\"ticks\":\"\"},\"colorscale\":[[0.0,\"#0d0887\"],[0.1111111111111111,\"#46039f\"],[0.2222222222222222,\"#7201a8\"],[0.3333333333333333,\"#9c179e\"],[0.4444444444444444,\"#bd3786\"],[0.5555555555555556,\"#d8576b\"],[0.6666666666666666,\"#ed7953\"],[0.7777777777777778,\"#fb9f3a\"],[0.8888888888888888,\"#fdca26\"],[1.0,\"#f0f921\"]]}],\"surface\":[{\"type\":\"surface\",\"colorbar\":{\"outlinewidth\":0,\"ticks\":\"\"},\"colorscale\":[[0.0,\"#0d0887\"],[0.1111111111111111,\"#46039f\"],[0.2222222222222222,\"#7201a8\"],[0.3333333333333333,\"#9c179e\"],[0.4444444444444444,\"#bd3786\"],[0.5555555555555556,\"#d8576b\"],[0.6666666666666666,\"#ed7953\"],[0.7777777777777778,\"#fb9f3a\"],[0.8888888888888888,\"#fdca26\"],[1.0,\"#f0f921\"]]}],\"mesh3d\":[{\"type\":\"mesh3d\",\"colorbar\":{\"outlinewidth\":0,\"ticks\":\"\"}}],\"scatter\":[{\"fillpattern\":{\"fillmode\":\"overlay\",\"size\":10,\"solidity\":0.2},\"type\":\"scatter\"}],\"parcoords\":[{\"type\":\"parcoords\",\"line\":{\"colorbar\":{\"outlinewidth\":0,\"ticks\":\"\"}}}],\"scatterpolargl\":[{\"type\":\"scatterpolargl\",\"marker\":{\"colorbar\":{\"outlinewidth\":0,\"ticks\":\"\"}}}],\"bar\":[{\"error_x\":{\"color\":\"#2a3f5f\"},\"error_y\":{\"color\":\"#2a3f5f\"},\"marker\":{\"line\":{\"color\":\"#E5ECF6\",\"width\":0.5},\"pattern\":{\"fillmode\":\"overlay\",\"size\":10,\"solidity\":0.2}},\"type\":\"bar\"}],\"scattergeo\":[{\"type\":\"scattergeo\",\"marker\":{\"colorbar\":{\"outlinewidth\":0,\"ticks\":\"\"}}}],\"scatterpolar\":[{\"type\":\"scatterpolar\",\"marker\":{\"colorbar\":{\"outlinewidth\":0,\"ticks\":\"\"}}}],\"histogram\":[{\"marker\":{\"pattern\":{\"fillmode\":\"overlay\",\"size\":10,\"solidity\":0.2}},\"type\":\"histogram\"}],\"scattergl\":[{\"type\":\"scattergl\",\"marker\":{\"colorbar\":{\"outlinewidth\":0,\"ticks\":\"\"}}}],\"scatter3d\":[{\"type\":\"scatter3d\",\"line\":{\"colorbar\":{\"outlinewidth\":0,\"ticks\":\"\"}},\"marker\":{\"colorbar\":{\"outlinewidth\":0,\"ticks\":\"\"}}}],\"scattermapbox\":[{\"type\":\"scattermapbox\",\"marker\":{\"colorbar\":{\"outlinewidth\":0,\"ticks\":\"\"}}}],\"scatterternary\":[{\"type\":\"scatterternary\",\"marker\":{\"colorbar\":{\"outlinewidth\":0,\"ticks\":\"\"}}}],\"scattercarpet\":[{\"type\":\"scattercarpet\",\"marker\":{\"colorbar\":{\"outlinewidth\":0,\"ticks\":\"\"}}}],\"carpet\":[{\"aaxis\":{\"endlinecolor\":\"#2a3f5f\",\"gridcolor\":\"white\",\"linecolor\":\"white\",\"minorgridcolor\":\"white\",\"startlinecolor\":\"#2a3f5f\"},\"baxis\":{\"endlinecolor\":\"#2a3f5f\",\"gridcolor\":\"white\",\"linecolor\":\"white\",\"minorgridcolor\":\"white\",\"startlinecolor\":\"#2a3f5f\"},\"type\":\"carpet\"}],\"table\":[{\"cells\":{\"fill\":{\"color\":\"#EBF0F8\"},\"line\":{\"color\":\"white\"}},\"header\":{\"fill\":{\"color\":\"#C8D4E3\"},\"line\":{\"color\":\"white\"}},\"type\":\"table\"}],\"barpolar\":[{\"marker\":{\"line\":{\"color\":\"#E5ECF6\",\"width\":0.5},\"pattern\":{\"fillmode\":\"overlay\",\"size\":10,\"solidity\":0.2}},\"type\":\"barpolar\"}],\"pie\":[{\"automargin\":true,\"type\":\"pie\"}]},\"layout\":{\"autotypenumbers\":\"strict\",\"colorway\":[\"#636efa\",\"#EF553B\",\"#00cc96\",\"#ab63fa\",\"#FFA15A\",\"#19d3f3\",\"#FF6692\",\"#B6E880\",\"#FF97FF\",\"#FECB52\"],\"font\":{\"color\":\"#2a3f5f\"},\"hovermode\":\"closest\",\"hoverlabel\":{\"align\":\"left\"},\"paper_bgcolor\":\"white\",\"plot_bgcolor\":\"#E5ECF6\",\"polar\":{\"bgcolor\":\"#E5ECF6\",\"angularaxis\":{\"gridcolor\":\"white\",\"linecolor\":\"white\",\"ticks\":\"\"},\"radialaxis\":{\"gridcolor\":\"white\",\"linecolor\":\"white\",\"ticks\":\"\"}},\"ternary\":{\"bgcolor\":\"#E5ECF6\",\"aaxis\":{\"gridcolor\":\"white\",\"linecolor\":\"white\",\"ticks\":\"\"},\"baxis\":{\"gridcolor\":\"white\",\"linecolor\":\"white\",\"ticks\":\"\"},\"caxis\":{\"gridcolor\":\"white\",\"linecolor\":\"white\",\"ticks\":\"\"}},\"coloraxis\":{\"colorbar\":{\"outlinewidth\":0,\"ticks\":\"\"}},\"colorscale\":{\"sequential\":[[0.0,\"#0d0887\"],[0.1111111111111111,\"#46039f\"],[0.2222222222222222,\"#7201a8\"],[0.3333333333333333,\"#9c179e\"],[0.4444444444444444,\"#bd3786\"],[0.5555555555555556,\"#d8576b\"],[0.6666666666666666,\"#ed7953\"],[0.7777777777777778,\"#fb9f3a\"],[0.8888888888888888,\"#fdca26\"],[1.0,\"#f0f921\"]],\"sequentialminus\":[[0.0,\"#0d0887\"],[0.1111111111111111,\"#46039f\"],[0.2222222222222222,\"#7201a8\"],[0.3333333333333333,\"#9c179e\"],[0.4444444444444444,\"#bd3786\"],[0.5555555555555556,\"#d8576b\"],[0.6666666666666666,\"#ed7953\"],[0.7777777777777778,\"#fb9f3a\"],[0.8888888888888888,\"#fdca26\"],[1.0,\"#f0f921\"]],\"diverging\":[[0,\"#8e0152\"],[0.1,\"#c51b7d\"],[0.2,\"#de77ae\"],[0.3,\"#f1b6da\"],[0.4,\"#fde0ef\"],[0.5,\"#f7f7f7\"],[0.6,\"#e6f5d0\"],[0.7,\"#b8e186\"],[0.8,\"#7fbc41\"],[0.9,\"#4d9221\"],[1,\"#276419\"]]},\"xaxis\":{\"gridcolor\":\"white\",\"linecolor\":\"white\",\"ticks\":\"\",\"title\":{\"standoff\":15},\"zerolinecolor\":\"white\",\"automargin\":true,\"zerolinewidth\":2},\"yaxis\":{\"gridcolor\":\"white\",\"linecolor\":\"white\",\"ticks\":\"\",\"title\":{\"standoff\":15},\"zerolinecolor\":\"white\",\"automargin\":true,\"zerolinewidth\":2},\"scene\":{\"xaxis\":{\"backgroundcolor\":\"#E5ECF6\",\"gridcolor\":\"white\",\"linecolor\":\"white\",\"showbackground\":true,\"ticks\":\"\",\"zerolinecolor\":\"white\",\"gridwidth\":2},\"yaxis\":{\"backgroundcolor\":\"#E5ECF6\",\"gridcolor\":\"white\",\"linecolor\":\"white\",\"showbackground\":true,\"ticks\":\"\",\"zerolinecolor\":\"white\",\"gridwidth\":2},\"zaxis\":{\"backgroundcolor\":\"#E5ECF6\",\"gridcolor\":\"white\",\"linecolor\":\"white\",\"showbackground\":true,\"ticks\":\"\",\"zerolinecolor\":\"white\",\"gridwidth\":2}},\"shapedefaults\":{\"line\":{\"color\":\"#2a3f5f\"}},\"annotationdefaults\":{\"arrowcolor\":\"#2a3f5f\",\"arrowhead\":0,\"arrowwidth\":1},\"geo\":{\"bgcolor\":\"white\",\"landcolor\":\"#E5ECF6\",\"subunitcolor\":\"white\",\"showland\":true,\"showlakes\":true,\"lakecolor\":\"white\"},\"title\":{\"x\":0.05},\"mapbox\":{\"style\":\"light\"}}},\"xaxis\":{\"anchor\":\"y\",\"domain\":[0.0,1.0],\"title\":{\"text\":\"\\u041c\\u0430\\u0433\\u0430\\u0437\\u0438\\u043d\\u044b\"},\"categoryorder\":\"total descending\",\"categoryarray\":[\"Shop 3\",\"Shop 14\",\"Shop 24\",\"Shop 25\",\"Shop 26\",\"Shop 2\",\"Shop 19\",\"Shop 27\",\"Shop 6\",\"Shop 5\",\"Shop 28\",\"Shop 16\",\"Shop 17\",\"Shop 7\",\"Shop 8\",\"Shop 15\",\"Shop 18\",\"Shop 10\",\"Shop 21\",\"Shop 30\",\"Shop 22\",\"Shop 11\",\"Shop 4\",\"Shop 1\",\"Shop 13\",\"Shop 9\",\"Shop 0\",\"Shop 12\",\"Shop 20\",\"Shop 23\",\"Shop 29\"]},\"yaxis\":{\"anchor\":\"x\",\"domain\":[0.0,1.0],\"title\":{\"text\":\"\\u0421\\u0443\\u043c\\u043c\\u0430 \\u0447\\u0435\\u043a\\u0430\"}},\"legend\":{\"title\":{\"text\":\"shop_id\"},\"tracegroupgap\":0},\"margin\":{\"t\":60},\"barmode\":\"relative\",\"title\":{\"text\":\"\\u0421\\u0440\\u0435\\u0434\\u043d\\u0438\\u0439 \\u0447\\u0435\\u043a \\u043f\\u043e \\u043c\\u0430\\u0433\\u0430\\u0437\\u0438\\u043d\\u0430\\u043c\"},\"showlegend\":false},                        {\"responsive\": true}                    ).then(function(){\n",
              "                            \n",
              "var gd = document.getElementById('50455070-6b26-437c-8ecc-cf9aecd20dd8');\n",
              "var x = new MutationObserver(function (mutations, observer) {{\n",
              "        var display = window.getComputedStyle(gd).display;\n",
              "        if (!display || display === 'none') {{\n",
              "            console.log([gd, 'removed!']);\n",
              "            Plotly.purge(gd);\n",
              "            observer.disconnect();\n",
              "        }}\n",
              "}});\n",
              "\n",
              "// Listen for the removal of the full notebook cells\n",
              "var notebookContainer = gd.closest('#notebook-container');\n",
              "if (notebookContainer) {{\n",
              "    x.observe(notebookContainer, {childList: true});\n",
              "}}\n",
              "\n",
              "// Listen for the clearing of the current output cell\n",
              "var outputEl = gd.closest('.output');\n",
              "if (outputEl) {{\n",
              "    x.observe(outputEl, {childList: true});\n",
              "}}\n",
              "\n",
              "                        })                };                            </script>        </div>\n",
              "</body>\n",
              "</html>"
            ]
          },
          "metadata": {}
        }
      ],
      "source": [
        "#Построим график среднего чека по магазинам\n",
        "fig = px.bar(average_check_table,\n",
        "             x='shop_id',\n",
        "             y='average_check',\n",
        "             text='average_check',\n",
        "             color='shop_id'\n",
        "            )\n",
        "\n",
        "fig.update_layout(title='Средний чек по магазинам',\n",
        "                   yaxis_title='Сумма чека',\n",
        "                   xaxis_title='Магазины',\n",
        "                   showlegend=False,\n",
        "                   xaxis={'categoryorder':'total descending'}\n",
        "                 )\n",
        "fig.show()"
      ]
    },
    {
      "cell_type": "markdown",
      "metadata": {
        "id": "GJO5jVEJWbnV"
      },
      "source": [
        "**Вывод**\n",
        "\n",
        "Самый крупный из них по сумме среднего чека - Shop 3. Она в нем составила 8007 у.е.\n",
        "\n",
        "В тройку лучших входят:\n",
        "Shop 14: 5376 у.е.\n",
        "Shop 24: 3917 у.е."
      ]
    },
    {
      "cell_type": "markdown",
      "metadata": {
        "id": "GTQTG_HEWbnV"
      },
      "source": [
        "#### Проанализируем количество покупок по магазинам"
      ]
    },
    {
      "cell_type": "code",
      "execution_count": 36,
      "metadata": {
        "id": "qfCm2xqJWbnV"
      },
      "outputs": [],
      "source": [
        "purchase_counts = df.groupby('shop_id')['purchase_id'].nunique().reset_index()\n",
        "purchase_counts.columns = ['shop_id', 'purchase_count']"
      ]
    },
    {
      "cell_type": "code",
      "execution_count": 37,
      "metadata": {
        "colab": {
          "base_uri": "https://localhost:8080/",
          "height": 542
        },
        "id": "_uPDt8WKWbnV",
        "outputId": "70a15ad2-e700-4940-8885-d6fb3324d510"
      },
      "outputs": [
        {
          "output_type": "display_data",
          "data": {
            "text/html": [
              "<html>\n",
              "<head><meta charset=\"utf-8\" /></head>\n",
              "<body>\n",
              "    <div>            <script src=\"https://cdnjs.cloudflare.com/ajax/libs/mathjax/2.7.5/MathJax.js?config=TeX-AMS-MML_SVG\"></script><script type=\"text/javascript\">if (window.MathJax && window.MathJax.Hub && window.MathJax.Hub.Config) {window.MathJax.Hub.Config({SVG: {font: \"STIX-Web\"}});}</script>                <script type=\"text/javascript\">window.PlotlyConfig = {MathJaxConfig: 'local'};</script>\n",
              "        <script src=\"https://cdn.plot.ly/plotly-2.18.2.min.js\"></script>                <div id=\"1eb772a7-adc4-4b0f-a7e7-aa8d317a7f64\" class=\"plotly-graph-div\" style=\"height:525px; width:100%;\"></div>            <script type=\"text/javascript\">                                    window.PLOTLYENV=window.PLOTLYENV || {};                                    if (document.getElementById(\"1eb772a7-adc4-4b0f-a7e7-aa8d317a7f64\")) {                    Plotly.newPlot(                        \"1eb772a7-adc4-4b0f-a7e7-aa8d317a7f64\",                        [{\"alignmentgroup\":\"True\",\"hovertemplate\":\"shop_id=%{x}<br>purchase_count=%{text}<extra></extra>\",\"legendgroup\":\"Shop 0\",\"marker\":{\"color\":\"#636efa\",\"pattern\":{\"shape\":\"\"}},\"name\":\"Shop 0\",\"offsetgroup\":\"Shop 0\",\"orientation\":\"v\",\"showlegend\":true,\"text\":[3537.0],\"textposition\":\"auto\",\"x\":[\"Shop 0\"],\"xaxis\":\"x\",\"y\":[3537],\"yaxis\":\"y\",\"type\":\"bar\"},{\"alignmentgroup\":\"True\",\"hovertemplate\":\"shop_id=%{x}<br>purchase_count=%{text}<extra></extra>\",\"legendgroup\":\"Shop 1\",\"marker\":{\"color\":\"#EF553B\",\"pattern\":{\"shape\":\"\"}},\"name\":\"Shop 1\",\"offsetgroup\":\"Shop 1\",\"orientation\":\"v\",\"showlegend\":true,\"text\":[71.0],\"textposition\":\"auto\",\"x\":[\"Shop 1\"],\"xaxis\":\"x\",\"y\":[71],\"yaxis\":\"y\",\"type\":\"bar\"},{\"alignmentgroup\":\"True\",\"hovertemplate\":\"shop_id=%{x}<br>purchase_count=%{text}<extra></extra>\",\"legendgroup\":\"Shop 10\",\"marker\":{\"color\":\"#00cc96\",\"pattern\":{\"shape\":\"\"}},\"name\":\"Shop 10\",\"offsetgroup\":\"Shop 10\",\"orientation\":\"v\",\"showlegend\":true,\"text\":[12.0],\"textposition\":\"auto\",\"x\":[\"Shop 10\"],\"xaxis\":\"x\",\"y\":[12],\"yaxis\":\"y\",\"type\":\"bar\"},{\"alignmentgroup\":\"True\",\"hovertemplate\":\"shop_id=%{x}<br>purchase_count=%{text}<extra></extra>\",\"legendgroup\":\"Shop 11\",\"marker\":{\"color\":\"#ab63fa\",\"pattern\":{\"shape\":\"\"}},\"name\":\"Shop 11\",\"offsetgroup\":\"Shop 11\",\"orientation\":\"v\",\"showlegend\":true,\"text\":[6.0],\"textposition\":\"auto\",\"x\":[\"Shop 11\"],\"xaxis\":\"x\",\"y\":[6],\"yaxis\":\"y\",\"type\":\"bar\"},{\"alignmentgroup\":\"True\",\"hovertemplate\":\"shop_id=%{x}<br>purchase_count=%{text}<extra></extra>\",\"legendgroup\":\"Shop 12\",\"marker\":{\"color\":\"#FFA15A\",\"pattern\":{\"shape\":\"\"}},\"name\":\"Shop 12\",\"offsetgroup\":\"Shop 12\",\"orientation\":\"v\",\"showlegend\":true,\"text\":[16.0],\"textposition\":\"auto\",\"x\":[\"Shop 12\"],\"xaxis\":\"x\",\"y\":[16],\"yaxis\":\"y\",\"type\":\"bar\"},{\"alignmentgroup\":\"True\",\"hovertemplate\":\"shop_id=%{x}<br>purchase_count=%{text}<extra></extra>\",\"legendgroup\":\"Shop 13\",\"marker\":{\"color\":\"#19d3f3\",\"pattern\":{\"shape\":\"\"}},\"name\":\"Shop 13\",\"offsetgroup\":\"Shop 13\",\"orientation\":\"v\",\"showlegend\":true,\"text\":[4.0],\"textposition\":\"auto\",\"x\":[\"Shop 13\"],\"xaxis\":\"x\",\"y\":[4],\"yaxis\":\"y\",\"type\":\"bar\"},{\"alignmentgroup\":\"True\",\"hovertemplate\":\"shop_id=%{x}<br>purchase_count=%{text}<extra></extra>\",\"legendgroup\":\"Shop 14\",\"marker\":{\"color\":\"#FF6692\",\"pattern\":{\"shape\":\"\"}},\"name\":\"Shop 14\",\"offsetgroup\":\"Shop 14\",\"orientation\":\"v\",\"showlegend\":true,\"text\":[4.0],\"textposition\":\"auto\",\"x\":[\"Shop 14\"],\"xaxis\":\"x\",\"y\":[4],\"yaxis\":\"y\",\"type\":\"bar\"},{\"alignmentgroup\":\"True\",\"hovertemplate\":\"shop_id=%{x}<br>purchase_count=%{text}<extra></extra>\",\"legendgroup\":\"Shop 15\",\"marker\":{\"color\":\"#B6E880\",\"pattern\":{\"shape\":\"\"}},\"name\":\"Shop 15\",\"offsetgroup\":\"Shop 15\",\"orientation\":\"v\",\"showlegend\":true,\"text\":[2.0],\"textposition\":\"auto\",\"x\":[\"Shop 15\"],\"xaxis\":\"x\",\"y\":[2],\"yaxis\":\"y\",\"type\":\"bar\"},{\"alignmentgroup\":\"True\",\"hovertemplate\":\"shop_id=%{x}<br>purchase_count=%{text}<extra></extra>\",\"legendgroup\":\"Shop 16\",\"marker\":{\"color\":\"#FF97FF\",\"pattern\":{\"shape\":\"\"}},\"name\":\"Shop 16\",\"offsetgroup\":\"Shop 16\",\"orientation\":\"v\",\"showlegend\":true,\"text\":[3.0],\"textposition\":\"auto\",\"x\":[\"Shop 16\"],\"xaxis\":\"x\",\"y\":[3],\"yaxis\":\"y\",\"type\":\"bar\"},{\"alignmentgroup\":\"True\",\"hovertemplate\":\"shop_id=%{x}<br>purchase_count=%{text}<extra></extra>\",\"legendgroup\":\"Shop 17\",\"marker\":{\"color\":\"#FECB52\",\"pattern\":{\"shape\":\"\"}},\"name\":\"Shop 17\",\"offsetgroup\":\"Shop 17\",\"orientation\":\"v\",\"showlegend\":true,\"text\":[2.0],\"textposition\":\"auto\",\"x\":[\"Shop 17\"],\"xaxis\":\"x\",\"y\":[2],\"yaxis\":\"y\",\"type\":\"bar\"},{\"alignmentgroup\":\"True\",\"hovertemplate\":\"shop_id=%{x}<br>purchase_count=%{text}<extra></extra>\",\"legendgroup\":\"Shop 18\",\"marker\":{\"color\":\"#636efa\",\"pattern\":{\"shape\":\"\"}},\"name\":\"Shop 18\",\"offsetgroup\":\"Shop 18\",\"orientation\":\"v\",\"showlegend\":true,\"text\":[8.0],\"textposition\":\"auto\",\"x\":[\"Shop 18\"],\"xaxis\":\"x\",\"y\":[8],\"yaxis\":\"y\",\"type\":\"bar\"},{\"alignmentgroup\":\"True\",\"hovertemplate\":\"shop_id=%{x}<br>purchase_count=%{text}<extra></extra>\",\"legendgroup\":\"Shop 19\",\"marker\":{\"color\":\"#EF553B\",\"pattern\":{\"shape\":\"\"}},\"name\":\"Shop 19\",\"offsetgroup\":\"Shop 19\",\"orientation\":\"v\",\"showlegend\":true,\"text\":[5.0],\"textposition\":\"auto\",\"x\":[\"Shop 19\"],\"xaxis\":\"x\",\"y\":[5],\"yaxis\":\"y\",\"type\":\"bar\"},{\"alignmentgroup\":\"True\",\"hovertemplate\":\"shop_id=%{x}<br>purchase_count=%{text}<extra></extra>\",\"legendgroup\":\"Shop 2\",\"marker\":{\"color\":\"#00cc96\",\"pattern\":{\"shape\":\"\"}},\"name\":\"Shop 2\",\"offsetgroup\":\"Shop 2\",\"orientation\":\"v\",\"showlegend\":true,\"text\":[17.0],\"textposition\":\"auto\",\"x\":[\"Shop 2\"],\"xaxis\":\"x\",\"y\":[17],\"yaxis\":\"y\",\"type\":\"bar\"},{\"alignmentgroup\":\"True\",\"hovertemplate\":\"shop_id=%{x}<br>purchase_count=%{text}<extra></extra>\",\"legendgroup\":\"Shop 20\",\"marker\":{\"color\":\"#ab63fa\",\"pattern\":{\"shape\":\"\"}},\"name\":\"Shop 20\",\"offsetgroup\":\"Shop 20\",\"orientation\":\"v\",\"showlegend\":true,\"text\":[3.0],\"textposition\":\"auto\",\"x\":[\"Shop 20\"],\"xaxis\":\"x\",\"y\":[3],\"yaxis\":\"y\",\"type\":\"bar\"},{\"alignmentgroup\":\"True\",\"hovertemplate\":\"shop_id=%{x}<br>purchase_count=%{text}<extra></extra>\",\"legendgroup\":\"Shop 21\",\"marker\":{\"color\":\"#FFA15A\",\"pattern\":{\"shape\":\"\"}},\"name\":\"Shop 21\",\"offsetgroup\":\"Shop 21\",\"orientation\":\"v\",\"showlegend\":true,\"text\":[2.0],\"textposition\":\"auto\",\"x\":[\"Shop 21\"],\"xaxis\":\"x\",\"y\":[2],\"yaxis\":\"y\",\"type\":\"bar\"},{\"alignmentgroup\":\"True\",\"hovertemplate\":\"shop_id=%{x}<br>purchase_count=%{text}<extra></extra>\",\"legendgroup\":\"Shop 22\",\"marker\":{\"color\":\"#19d3f3\",\"pattern\":{\"shape\":\"\"}},\"name\":\"Shop 22\",\"offsetgroup\":\"Shop 22\",\"orientation\":\"v\",\"showlegend\":true,\"text\":[4.0],\"textposition\":\"auto\",\"x\":[\"Shop 22\"],\"xaxis\":\"x\",\"y\":[4],\"yaxis\":\"y\",\"type\":\"bar\"},{\"alignmentgroup\":\"True\",\"hovertemplate\":\"shop_id=%{x}<br>purchase_count=%{text}<extra></extra>\",\"legendgroup\":\"Shop 23\",\"marker\":{\"color\":\"#FF6692\",\"pattern\":{\"shape\":\"\"}},\"name\":\"Shop 23\",\"offsetgroup\":\"Shop 23\",\"orientation\":\"v\",\"showlegend\":true,\"text\":[1.0],\"textposition\":\"auto\",\"x\":[\"Shop 23\"],\"xaxis\":\"x\",\"y\":[1],\"yaxis\":\"y\",\"type\":\"bar\"},{\"alignmentgroup\":\"True\",\"hovertemplate\":\"shop_id=%{x}<br>purchase_count=%{text}<extra></extra>\",\"legendgroup\":\"Shop 24\",\"marker\":{\"color\":\"#B6E880\",\"pattern\":{\"shape\":\"\"}},\"name\":\"Shop 24\",\"offsetgroup\":\"Shop 24\",\"orientation\":\"v\",\"showlegend\":true,\"text\":[1.0],\"textposition\":\"auto\",\"x\":[\"Shop 24\"],\"xaxis\":\"x\",\"y\":[1],\"yaxis\":\"y\",\"type\":\"bar\"},{\"alignmentgroup\":\"True\",\"hovertemplate\":\"shop_id=%{x}<br>purchase_count=%{text}<extra></extra>\",\"legendgroup\":\"Shop 25\",\"marker\":{\"color\":\"#FF97FF\",\"pattern\":{\"shape\":\"\"}},\"name\":\"Shop 25\",\"offsetgroup\":\"Shop 25\",\"orientation\":\"v\",\"showlegend\":true,\"text\":[1.0],\"textposition\":\"auto\",\"x\":[\"Shop 25\"],\"xaxis\":\"x\",\"y\":[1],\"yaxis\":\"y\",\"type\":\"bar\"},{\"alignmentgroup\":\"True\",\"hovertemplate\":\"shop_id=%{x}<br>purchase_count=%{text}<extra></extra>\",\"legendgroup\":\"Shop 26\",\"marker\":{\"color\":\"#FECB52\",\"pattern\":{\"shape\":\"\"}},\"name\":\"Shop 26\",\"offsetgroup\":\"Shop 26\",\"orientation\":\"v\",\"showlegend\":true,\"text\":[1.0],\"textposition\":\"auto\",\"x\":[\"Shop 26\"],\"xaxis\":\"x\",\"y\":[1],\"yaxis\":\"y\",\"type\":\"bar\"},{\"alignmentgroup\":\"True\",\"hovertemplate\":\"shop_id=%{x}<br>purchase_count=%{text}<extra></extra>\",\"legendgroup\":\"Shop 27\",\"marker\":{\"color\":\"#636efa\",\"pattern\":{\"shape\":\"\"}},\"name\":\"Shop 27\",\"offsetgroup\":\"Shop 27\",\"orientation\":\"v\",\"showlegend\":true,\"text\":[1.0],\"textposition\":\"auto\",\"x\":[\"Shop 27\"],\"xaxis\":\"x\",\"y\":[1],\"yaxis\":\"y\",\"type\":\"bar\"},{\"alignmentgroup\":\"True\",\"hovertemplate\":\"shop_id=%{x}<br>purchase_count=%{text}<extra></extra>\",\"legendgroup\":\"Shop 28\",\"marker\":{\"color\":\"#EF553B\",\"pattern\":{\"shape\":\"\"}},\"name\":\"Shop 28\",\"offsetgroup\":\"Shop 28\",\"orientation\":\"v\",\"showlegend\":true,\"text\":[1.0],\"textposition\":\"auto\",\"x\":[\"Shop 28\"],\"xaxis\":\"x\",\"y\":[1],\"yaxis\":\"y\",\"type\":\"bar\"},{\"alignmentgroup\":\"True\",\"hovertemplate\":\"shop_id=%{x}<br>purchase_count=%{text}<extra></extra>\",\"legendgroup\":\"Shop 29\",\"marker\":{\"color\":\"#00cc96\",\"pattern\":{\"shape\":\"\"}},\"name\":\"Shop 29\",\"offsetgroup\":\"Shop 29\",\"orientation\":\"v\",\"showlegend\":true,\"text\":[1.0],\"textposition\":\"auto\",\"x\":[\"Shop 29\"],\"xaxis\":\"x\",\"y\":[1],\"yaxis\":\"y\",\"type\":\"bar\"},{\"alignmentgroup\":\"True\",\"hovertemplate\":\"shop_id=%{x}<br>purchase_count=%{text}<extra></extra>\",\"legendgroup\":\"Shop 3\",\"marker\":{\"color\":\"#ab63fa\",\"pattern\":{\"shape\":\"\"}},\"name\":\"Shop 3\",\"offsetgroup\":\"Shop 3\",\"orientation\":\"v\",\"showlegend\":true,\"text\":[13.0],\"textposition\":\"auto\",\"x\":[\"Shop 3\"],\"xaxis\":\"x\",\"y\":[13],\"yaxis\":\"y\",\"type\":\"bar\"},{\"alignmentgroup\":\"True\",\"hovertemplate\":\"shop_id=%{x}<br>purchase_count=%{text}<extra></extra>\",\"legendgroup\":\"Shop 30\",\"marker\":{\"color\":\"#FFA15A\",\"pattern\":{\"shape\":\"\"}},\"name\":\"Shop 30\",\"offsetgroup\":\"Shop 30\",\"orientation\":\"v\",\"showlegend\":true,\"text\":[1.0],\"textposition\":\"auto\",\"x\":[\"Shop 30\"],\"xaxis\":\"x\",\"y\":[1],\"yaxis\":\"y\",\"type\":\"bar\"},{\"alignmentgroup\":\"True\",\"hovertemplate\":\"shop_id=%{x}<br>purchase_count=%{text}<extra></extra>\",\"legendgroup\":\"Shop 4\",\"marker\":{\"color\":\"#19d3f3\",\"pattern\":{\"shape\":\"\"}},\"name\":\"Shop 4\",\"offsetgroup\":\"Shop 4\",\"orientation\":\"v\",\"showlegend\":true,\"text\":[80.0],\"textposition\":\"auto\",\"x\":[\"Shop 4\"],\"xaxis\":\"x\",\"y\":[80],\"yaxis\":\"y\",\"type\":\"bar\"},{\"alignmentgroup\":\"True\",\"hovertemplate\":\"shop_id=%{x}<br>purchase_count=%{text}<extra></extra>\",\"legendgroup\":\"Shop 5\",\"marker\":{\"color\":\"#FF6692\",\"pattern\":{\"shape\":\"\"}},\"name\":\"Shop 5\",\"offsetgroup\":\"Shop 5\",\"orientation\":\"v\",\"showlegend\":true,\"text\":[4.0],\"textposition\":\"auto\",\"x\":[\"Shop 5\"],\"xaxis\":\"x\",\"y\":[4],\"yaxis\":\"y\",\"type\":\"bar\"},{\"alignmentgroup\":\"True\",\"hovertemplate\":\"shop_id=%{x}<br>purchase_count=%{text}<extra></extra>\",\"legendgroup\":\"Shop 6\",\"marker\":{\"color\":\"#B6E880\",\"pattern\":{\"shape\":\"\"}},\"name\":\"Shop 6\",\"offsetgroup\":\"Shop 6\",\"orientation\":\"v\",\"showlegend\":true,\"text\":[37.0],\"textposition\":\"auto\",\"x\":[\"Shop 6\"],\"xaxis\":\"x\",\"y\":[37],\"yaxis\":\"y\",\"type\":\"bar\"},{\"alignmentgroup\":\"True\",\"hovertemplate\":\"shop_id=%{x}<br>purchase_count=%{text}<extra></extra>\",\"legendgroup\":\"Shop 7\",\"marker\":{\"color\":\"#FF97FF\",\"pattern\":{\"shape\":\"\"}},\"name\":\"Shop 7\",\"offsetgroup\":\"Shop 7\",\"orientation\":\"v\",\"showlegend\":true,\"text\":[10.0],\"textposition\":\"auto\",\"x\":[\"Shop 7\"],\"xaxis\":\"x\",\"y\":[10],\"yaxis\":\"y\",\"type\":\"bar\"},{\"alignmentgroup\":\"True\",\"hovertemplate\":\"shop_id=%{x}<br>purchase_count=%{text}<extra></extra>\",\"legendgroup\":\"Shop 8\",\"marker\":{\"color\":\"#FECB52\",\"pattern\":{\"shape\":\"\"}},\"name\":\"Shop 8\",\"offsetgroup\":\"Shop 8\",\"orientation\":\"v\",\"showlegend\":true,\"text\":[16.0],\"textposition\":\"auto\",\"x\":[\"Shop 8\"],\"xaxis\":\"x\",\"y\":[16],\"yaxis\":\"y\",\"type\":\"bar\"},{\"alignmentgroup\":\"True\",\"hovertemplate\":\"shop_id=%{x}<br>purchase_count=%{text}<extra></extra>\",\"legendgroup\":\"Shop 9\",\"marker\":{\"color\":\"#636efa\",\"pattern\":{\"shape\":\"\"}},\"name\":\"Shop 9\",\"offsetgroup\":\"Shop 9\",\"orientation\":\"v\",\"showlegend\":true,\"text\":[4.0],\"textposition\":\"auto\",\"x\":[\"Shop 9\"],\"xaxis\":\"x\",\"y\":[4],\"yaxis\":\"y\",\"type\":\"bar\"}],                        {\"template\":{\"data\":{\"histogram2dcontour\":[{\"type\":\"histogram2dcontour\",\"colorbar\":{\"outlinewidth\":0,\"ticks\":\"\"},\"colorscale\":[[0.0,\"#0d0887\"],[0.1111111111111111,\"#46039f\"],[0.2222222222222222,\"#7201a8\"],[0.3333333333333333,\"#9c179e\"],[0.4444444444444444,\"#bd3786\"],[0.5555555555555556,\"#d8576b\"],[0.6666666666666666,\"#ed7953\"],[0.7777777777777778,\"#fb9f3a\"],[0.8888888888888888,\"#fdca26\"],[1.0,\"#f0f921\"]]}],\"choropleth\":[{\"type\":\"choropleth\",\"colorbar\":{\"outlinewidth\":0,\"ticks\":\"\"}}],\"histogram2d\":[{\"type\":\"histogram2d\",\"colorbar\":{\"outlinewidth\":0,\"ticks\":\"\"},\"colorscale\":[[0.0,\"#0d0887\"],[0.1111111111111111,\"#46039f\"],[0.2222222222222222,\"#7201a8\"],[0.3333333333333333,\"#9c179e\"],[0.4444444444444444,\"#bd3786\"],[0.5555555555555556,\"#d8576b\"],[0.6666666666666666,\"#ed7953\"],[0.7777777777777778,\"#fb9f3a\"],[0.8888888888888888,\"#fdca26\"],[1.0,\"#f0f921\"]]}],\"heatmap\":[{\"type\":\"heatmap\",\"colorbar\":{\"outlinewidth\":0,\"ticks\":\"\"},\"colorscale\":[[0.0,\"#0d0887\"],[0.1111111111111111,\"#46039f\"],[0.2222222222222222,\"#7201a8\"],[0.3333333333333333,\"#9c179e\"],[0.4444444444444444,\"#bd3786\"],[0.5555555555555556,\"#d8576b\"],[0.6666666666666666,\"#ed7953\"],[0.7777777777777778,\"#fb9f3a\"],[0.8888888888888888,\"#fdca26\"],[1.0,\"#f0f921\"]]}],\"heatmapgl\":[{\"type\":\"heatmapgl\",\"colorbar\":{\"outlinewidth\":0,\"ticks\":\"\"},\"colorscale\":[[0.0,\"#0d0887\"],[0.1111111111111111,\"#46039f\"],[0.2222222222222222,\"#7201a8\"],[0.3333333333333333,\"#9c179e\"],[0.4444444444444444,\"#bd3786\"],[0.5555555555555556,\"#d8576b\"],[0.6666666666666666,\"#ed7953\"],[0.7777777777777778,\"#fb9f3a\"],[0.8888888888888888,\"#fdca26\"],[1.0,\"#f0f921\"]]}],\"contourcarpet\":[{\"type\":\"contourcarpet\",\"colorbar\":{\"outlinewidth\":0,\"ticks\":\"\"}}],\"contour\":[{\"type\":\"contour\",\"colorbar\":{\"outlinewidth\":0,\"ticks\":\"\"},\"colorscale\":[[0.0,\"#0d0887\"],[0.1111111111111111,\"#46039f\"],[0.2222222222222222,\"#7201a8\"],[0.3333333333333333,\"#9c179e\"],[0.4444444444444444,\"#bd3786\"],[0.5555555555555556,\"#d8576b\"],[0.6666666666666666,\"#ed7953\"],[0.7777777777777778,\"#fb9f3a\"],[0.8888888888888888,\"#fdca26\"],[1.0,\"#f0f921\"]]}],\"surface\":[{\"type\":\"surface\",\"colorbar\":{\"outlinewidth\":0,\"ticks\":\"\"},\"colorscale\":[[0.0,\"#0d0887\"],[0.1111111111111111,\"#46039f\"],[0.2222222222222222,\"#7201a8\"],[0.3333333333333333,\"#9c179e\"],[0.4444444444444444,\"#bd3786\"],[0.5555555555555556,\"#d8576b\"],[0.6666666666666666,\"#ed7953\"],[0.7777777777777778,\"#fb9f3a\"],[0.8888888888888888,\"#fdca26\"],[1.0,\"#f0f921\"]]}],\"mesh3d\":[{\"type\":\"mesh3d\",\"colorbar\":{\"outlinewidth\":0,\"ticks\":\"\"}}],\"scatter\":[{\"fillpattern\":{\"fillmode\":\"overlay\",\"size\":10,\"solidity\":0.2},\"type\":\"scatter\"}],\"parcoords\":[{\"type\":\"parcoords\",\"line\":{\"colorbar\":{\"outlinewidth\":0,\"ticks\":\"\"}}}],\"scatterpolargl\":[{\"type\":\"scatterpolargl\",\"marker\":{\"colorbar\":{\"outlinewidth\":0,\"ticks\":\"\"}}}],\"bar\":[{\"error_x\":{\"color\":\"#2a3f5f\"},\"error_y\":{\"color\":\"#2a3f5f\"},\"marker\":{\"line\":{\"color\":\"#E5ECF6\",\"width\":0.5},\"pattern\":{\"fillmode\":\"overlay\",\"size\":10,\"solidity\":0.2}},\"type\":\"bar\"}],\"scattergeo\":[{\"type\":\"scattergeo\",\"marker\":{\"colorbar\":{\"outlinewidth\":0,\"ticks\":\"\"}}}],\"scatterpolar\":[{\"type\":\"scatterpolar\",\"marker\":{\"colorbar\":{\"outlinewidth\":0,\"ticks\":\"\"}}}],\"histogram\":[{\"marker\":{\"pattern\":{\"fillmode\":\"overlay\",\"size\":10,\"solidity\":0.2}},\"type\":\"histogram\"}],\"scattergl\":[{\"type\":\"scattergl\",\"marker\":{\"colorbar\":{\"outlinewidth\":0,\"ticks\":\"\"}}}],\"scatter3d\":[{\"type\":\"scatter3d\",\"line\":{\"colorbar\":{\"outlinewidth\":0,\"ticks\":\"\"}},\"marker\":{\"colorbar\":{\"outlinewidth\":0,\"ticks\":\"\"}}}],\"scattermapbox\":[{\"type\":\"scattermapbox\",\"marker\":{\"colorbar\":{\"outlinewidth\":0,\"ticks\":\"\"}}}],\"scatterternary\":[{\"type\":\"scatterternary\",\"marker\":{\"colorbar\":{\"outlinewidth\":0,\"ticks\":\"\"}}}],\"scattercarpet\":[{\"type\":\"scattercarpet\",\"marker\":{\"colorbar\":{\"outlinewidth\":0,\"ticks\":\"\"}}}],\"carpet\":[{\"aaxis\":{\"endlinecolor\":\"#2a3f5f\",\"gridcolor\":\"white\",\"linecolor\":\"white\",\"minorgridcolor\":\"white\",\"startlinecolor\":\"#2a3f5f\"},\"baxis\":{\"endlinecolor\":\"#2a3f5f\",\"gridcolor\":\"white\",\"linecolor\":\"white\",\"minorgridcolor\":\"white\",\"startlinecolor\":\"#2a3f5f\"},\"type\":\"carpet\"}],\"table\":[{\"cells\":{\"fill\":{\"color\":\"#EBF0F8\"},\"line\":{\"color\":\"white\"}},\"header\":{\"fill\":{\"color\":\"#C8D4E3\"},\"line\":{\"color\":\"white\"}},\"type\":\"table\"}],\"barpolar\":[{\"marker\":{\"line\":{\"color\":\"#E5ECF6\",\"width\":0.5},\"pattern\":{\"fillmode\":\"overlay\",\"size\":10,\"solidity\":0.2}},\"type\":\"barpolar\"}],\"pie\":[{\"automargin\":true,\"type\":\"pie\"}]},\"layout\":{\"autotypenumbers\":\"strict\",\"colorway\":[\"#636efa\",\"#EF553B\",\"#00cc96\",\"#ab63fa\",\"#FFA15A\",\"#19d3f3\",\"#FF6692\",\"#B6E880\",\"#FF97FF\",\"#FECB52\"],\"font\":{\"color\":\"#2a3f5f\"},\"hovermode\":\"closest\",\"hoverlabel\":{\"align\":\"left\"},\"paper_bgcolor\":\"white\",\"plot_bgcolor\":\"#E5ECF6\",\"polar\":{\"bgcolor\":\"#E5ECF6\",\"angularaxis\":{\"gridcolor\":\"white\",\"linecolor\":\"white\",\"ticks\":\"\"},\"radialaxis\":{\"gridcolor\":\"white\",\"linecolor\":\"white\",\"ticks\":\"\"}},\"ternary\":{\"bgcolor\":\"#E5ECF6\",\"aaxis\":{\"gridcolor\":\"white\",\"linecolor\":\"white\",\"ticks\":\"\"},\"baxis\":{\"gridcolor\":\"white\",\"linecolor\":\"white\",\"ticks\":\"\"},\"caxis\":{\"gridcolor\":\"white\",\"linecolor\":\"white\",\"ticks\":\"\"}},\"coloraxis\":{\"colorbar\":{\"outlinewidth\":0,\"ticks\":\"\"}},\"colorscale\":{\"sequential\":[[0.0,\"#0d0887\"],[0.1111111111111111,\"#46039f\"],[0.2222222222222222,\"#7201a8\"],[0.3333333333333333,\"#9c179e\"],[0.4444444444444444,\"#bd3786\"],[0.5555555555555556,\"#d8576b\"],[0.6666666666666666,\"#ed7953\"],[0.7777777777777778,\"#fb9f3a\"],[0.8888888888888888,\"#fdca26\"],[1.0,\"#f0f921\"]],\"sequentialminus\":[[0.0,\"#0d0887\"],[0.1111111111111111,\"#46039f\"],[0.2222222222222222,\"#7201a8\"],[0.3333333333333333,\"#9c179e\"],[0.4444444444444444,\"#bd3786\"],[0.5555555555555556,\"#d8576b\"],[0.6666666666666666,\"#ed7953\"],[0.7777777777777778,\"#fb9f3a\"],[0.8888888888888888,\"#fdca26\"],[1.0,\"#f0f921\"]],\"diverging\":[[0,\"#8e0152\"],[0.1,\"#c51b7d\"],[0.2,\"#de77ae\"],[0.3,\"#f1b6da\"],[0.4,\"#fde0ef\"],[0.5,\"#f7f7f7\"],[0.6,\"#e6f5d0\"],[0.7,\"#b8e186\"],[0.8,\"#7fbc41\"],[0.9,\"#4d9221\"],[1,\"#276419\"]]},\"xaxis\":{\"gridcolor\":\"white\",\"linecolor\":\"white\",\"ticks\":\"\",\"title\":{\"standoff\":15},\"zerolinecolor\":\"white\",\"automargin\":true,\"zerolinewidth\":2},\"yaxis\":{\"gridcolor\":\"white\",\"linecolor\":\"white\",\"ticks\":\"\",\"title\":{\"standoff\":15},\"zerolinecolor\":\"white\",\"automargin\":true,\"zerolinewidth\":2},\"scene\":{\"xaxis\":{\"backgroundcolor\":\"#E5ECF6\",\"gridcolor\":\"white\",\"linecolor\":\"white\",\"showbackground\":true,\"ticks\":\"\",\"zerolinecolor\":\"white\",\"gridwidth\":2},\"yaxis\":{\"backgroundcolor\":\"#E5ECF6\",\"gridcolor\":\"white\",\"linecolor\":\"white\",\"showbackground\":true,\"ticks\":\"\",\"zerolinecolor\":\"white\",\"gridwidth\":2},\"zaxis\":{\"backgroundcolor\":\"#E5ECF6\",\"gridcolor\":\"white\",\"linecolor\":\"white\",\"showbackground\":true,\"ticks\":\"\",\"zerolinecolor\":\"white\",\"gridwidth\":2}},\"shapedefaults\":{\"line\":{\"color\":\"#2a3f5f\"}},\"annotationdefaults\":{\"arrowcolor\":\"#2a3f5f\",\"arrowhead\":0,\"arrowwidth\":1},\"geo\":{\"bgcolor\":\"white\",\"landcolor\":\"#E5ECF6\",\"subunitcolor\":\"white\",\"showland\":true,\"showlakes\":true,\"lakecolor\":\"white\"},\"title\":{\"x\":0.05},\"mapbox\":{\"style\":\"light\"}}},\"xaxis\":{\"anchor\":\"y\",\"domain\":[0.0,1.0],\"title\":{\"text\":\"\\u041c\\u0430\\u0433\\u0430\\u0437\\u0438\\u043d\\u044b\"},\"categoryorder\":\"total descending\",\"categoryarray\":[\"Shop 0\",\"Shop 1\",\"Shop 10\",\"Shop 11\",\"Shop 12\",\"Shop 13\",\"Shop 14\",\"Shop 15\",\"Shop 16\",\"Shop 17\",\"Shop 18\",\"Shop 19\",\"Shop 2\",\"Shop 20\",\"Shop 21\",\"Shop 22\",\"Shop 23\",\"Shop 24\",\"Shop 25\",\"Shop 26\",\"Shop 27\",\"Shop 28\",\"Shop 29\",\"Shop 3\",\"Shop 30\",\"Shop 4\",\"Shop 5\",\"Shop 6\",\"Shop 7\",\"Shop 8\",\"Shop 9\"]},\"yaxis\":{\"anchor\":\"x\",\"domain\":[0.0,1.0],\"title\":{\"text\":\"\\u041a\\u043e\\u043b\\u0438\\u0447\\u0435\\u0441\\u0442\\u0432\\u043e \\u043f\\u043e\\u043a\\u0443\\u043f\\u043e\\u043a\"}},\"legend\":{\"title\":{\"text\":\"shop_id\"},\"tracegroupgap\":0},\"margin\":{\"t\":60},\"barmode\":\"relative\",\"title\":{\"text\":\"\\u041a\\u043e\\u043b\\u0438\\u0447\\u0435\\u0441\\u0442\\u0432\\u043e \\u043f\\u043e\\u043a\\u0443\\u043f\\u043e\\u043a \\u043f\\u043e \\u043c\\u0430\\u0433\\u0430\\u0437\\u0438\\u043d\\u0430\\u043c\"},\"showlegend\":false},                        {\"responsive\": true}                    ).then(function(){\n",
              "                            \n",
              "var gd = document.getElementById('1eb772a7-adc4-4b0f-a7e7-aa8d317a7f64');\n",
              "var x = new MutationObserver(function (mutations, observer) {{\n",
              "        var display = window.getComputedStyle(gd).display;\n",
              "        if (!display || display === 'none') {{\n",
              "            console.log([gd, 'removed!']);\n",
              "            Plotly.purge(gd);\n",
              "            observer.disconnect();\n",
              "        }}\n",
              "}});\n",
              "\n",
              "// Listen for the removal of the full notebook cells\n",
              "var notebookContainer = gd.closest('#notebook-container');\n",
              "if (notebookContainer) {{\n",
              "    x.observe(notebookContainer, {childList: true});\n",
              "}}\n",
              "\n",
              "// Listen for the clearing of the current output cell\n",
              "var outputEl = gd.closest('.output');\n",
              "if (outputEl) {{\n",
              "    x.observe(outputEl, {childList: true});\n",
              "}}\n",
              "\n",
              "                        })                };                            </script>        </div>\n",
              "</body>\n",
              "</html>"
            ]
          },
          "metadata": {}
        }
      ],
      "source": [
        "#Построим график количества покупок по магазинам\n",
        "fig = px.bar(purchase_counts,\n",
        "             x='shop_id',\n",
        "             y='purchase_count',\n",
        "             text='purchase_count',\n",
        "             color='shop_id'\n",
        "            )\n",
        "\n",
        "fig.update_layout(title='Количество покупок по магазинам',\n",
        "                   yaxis_title='Количество покупок',\n",
        "                   xaxis_title='Магазины',\n",
        "                   showlegend=False,\n",
        "                   xaxis={'categoryorder':'total descending'}\n",
        "                 )\n",
        "fig.show()"
      ]
    },
    {
      "cell_type": "markdown",
      "metadata": {
        "id": "iOZOzaBEWbnW"
      },
      "source": [
        "**Вывод**\n",
        "\n",
        "Самое большое количество покупателей также у Shop 0. Пришло 3377 клиентов.\n",
        "\n",
        "В остальных магазинах количество покупателей незначительно."
      ]
    },
    {
      "cell_type": "markdown",
      "metadata": {
        "id": "Yv9Py-jmWbnW"
      },
      "source": [
        "### Общий вывод.\n",
        "Количество уникальных покупателей: 1680\n",
        "Количество уникальных магазинов: 31\n",
        "Количество уникальных товаров: 3101\n",
        "Количество уникальных чеков: 3868\n",
        "\n",
        "\n",
        "Период данных - с 01.12.2016 по 28.02.2017.\n",
        "\n",
        "Общая выручка за весь период составила 2262658.0 у.е.\n",
        "\n",
        "По столбчатому графику видим, что самая большая выручка в декабре и самая маленькая в феврале. \n",
        "\n",
        "По второму столбчатому графику видим, что есть дни, в которых выручка нулевая (можно предположить, что магазины не работали). \n",
        "\n",
        "Средняя выручка в сутки составила 33274 у.е., максимальная - 75631 у.е.\n",
        "\n",
        "Cамое большое количество покупателей приходится на декабрь. И нет посетителей в первые дни января, ввиду праздников и возможного закрытия магазинов. Также есть и другие дни, в которых нет покупателей, скорее всего это выходные. \n",
        "\n",
        "У нас 31 магазин.\n",
        "\n",
        "Самый крупный из них по выручке - Shop 0. Выручка за изучаемый период в нем составила 1,82 М у.е.\n",
        "\n",
        "В тройку лучших по выручке входит:\n",
        "Shop 3: 104097 у.е.\n",
        "Shop 6: 62930 у.е.\n",
        "\n",
        "У остальных она меньше.\n",
        "\n",
        "Самый крупный из них по сумме среднего чека - Shop 3. Она в нем составила 8007 у.е.\n",
        "\n",
        "В тройку лучших входят:\n",
        "Shop 14: 5376 у.е.\n",
        "Shop 24: 3917 у.е.\n",
        "\n",
        "Самое большое количество покупателей также у Shop 0. Пришло 3377 клиентов.\n",
        "\n",
        "В остальных магазинах количество покупателей незначительно."
      ]
    },
    {
      "cell_type": "markdown",
      "metadata": {
        "id": "QqMyhil3WbnW"
      },
      "source": [
        "## Провести анализ программы лояльности, расчет бизнес-метрик:\n",
        "### Вычислить долю участников программы в общем количестве покупателей."
      ]
    },
    {
      "cell_type": "code",
      "execution_count": 38,
      "metadata": {
        "colab": {
          "base_uri": "https://localhost:8080/",
          "height": 112
        },
        "id": "s6gvmpRIWbnX",
        "outputId": "47ec173c-7116-4f12-c1ea-032581233860"
      },
      "outputs": [
        {
          "output_type": "execute_result",
          "data": {
            "text/plain": [
              "   loyalty_program  customer_id\n",
              "0            False         1116\n",
              "1             True          564"
            ],
            "text/html": [
              "\n",
              "  <div id=\"df-eeba1f4a-1b0e-4707-8f87-0f43f91259c7\">\n",
              "    <div class=\"colab-df-container\">\n",
              "      <div>\n",
              "<style scoped>\n",
              "    .dataframe tbody tr th:only-of-type {\n",
              "        vertical-align: middle;\n",
              "    }\n",
              "\n",
              "    .dataframe tbody tr th {\n",
              "        vertical-align: top;\n",
              "    }\n",
              "\n",
              "    .dataframe thead th {\n",
              "        text-align: right;\n",
              "    }\n",
              "</style>\n",
              "<table border=\"1\" class=\"dataframe\">\n",
              "  <thead>\n",
              "    <tr style=\"text-align: right;\">\n",
              "      <th></th>\n",
              "      <th>loyalty_program</th>\n",
              "      <th>customer_id</th>\n",
              "    </tr>\n",
              "  </thead>\n",
              "  <tbody>\n",
              "    <tr>\n",
              "      <th>0</th>\n",
              "      <td>False</td>\n",
              "      <td>1116</td>\n",
              "    </tr>\n",
              "    <tr>\n",
              "      <th>1</th>\n",
              "      <td>True</td>\n",
              "      <td>564</td>\n",
              "    </tr>\n",
              "  </tbody>\n",
              "</table>\n",
              "</div>\n",
              "      <button class=\"colab-df-convert\" onclick=\"convertToInteractive('df-eeba1f4a-1b0e-4707-8f87-0f43f91259c7')\"\n",
              "              title=\"Convert this dataframe to an interactive table.\"\n",
              "              style=\"display:none;\">\n",
              "        \n",
              "  <svg xmlns=\"http://www.w3.org/2000/svg\" height=\"24px\"viewBox=\"0 0 24 24\"\n",
              "       width=\"24px\">\n",
              "    <path d=\"M0 0h24v24H0V0z\" fill=\"none\"/>\n",
              "    <path d=\"M18.56 5.44l.94 2.06.94-2.06 2.06-.94-2.06-.94-.94-2.06-.94 2.06-2.06.94zm-11 1L8.5 8.5l.94-2.06 2.06-.94-2.06-.94L8.5 2.5l-.94 2.06-2.06.94zm10 10l.94 2.06.94-2.06 2.06-.94-2.06-.94-.94-2.06-.94 2.06-2.06.94z\"/><path d=\"M17.41 7.96l-1.37-1.37c-.4-.4-.92-.59-1.43-.59-.52 0-1.04.2-1.43.59L10.3 9.45l-7.72 7.72c-.78.78-.78 2.05 0 2.83L4 21.41c.39.39.9.59 1.41.59.51 0 1.02-.2 1.41-.59l7.78-7.78 2.81-2.81c.8-.78.8-2.07 0-2.86zM5.41 20L4 18.59l7.72-7.72 1.47 1.35L5.41 20z\"/>\n",
              "  </svg>\n",
              "      </button>\n",
              "      \n",
              "  <style>\n",
              "    .colab-df-container {\n",
              "      display:flex;\n",
              "      flex-wrap:wrap;\n",
              "      gap: 12px;\n",
              "    }\n",
              "\n",
              "    .colab-df-convert {\n",
              "      background-color: #E8F0FE;\n",
              "      border: none;\n",
              "      border-radius: 50%;\n",
              "      cursor: pointer;\n",
              "      display: none;\n",
              "      fill: #1967D2;\n",
              "      height: 32px;\n",
              "      padding: 0 0 0 0;\n",
              "      width: 32px;\n",
              "    }\n",
              "\n",
              "    .colab-df-convert:hover {\n",
              "      background-color: #E2EBFA;\n",
              "      box-shadow: 0px 1px 2px rgba(60, 64, 67, 0.3), 0px 1px 3px 1px rgba(60, 64, 67, 0.15);\n",
              "      fill: #174EA6;\n",
              "    }\n",
              "\n",
              "    [theme=dark] .colab-df-convert {\n",
              "      background-color: #3B4455;\n",
              "      fill: #D2E3FC;\n",
              "    }\n",
              "\n",
              "    [theme=dark] .colab-df-convert:hover {\n",
              "      background-color: #434B5C;\n",
              "      box-shadow: 0px 1px 3px 1px rgba(0, 0, 0, 0.15);\n",
              "      filter: drop-shadow(0px 1px 2px rgba(0, 0, 0, 0.3));\n",
              "      fill: #FFFFFF;\n",
              "    }\n",
              "  </style>\n",
              "\n",
              "      <script>\n",
              "        const buttonEl =\n",
              "          document.querySelector('#df-eeba1f4a-1b0e-4707-8f87-0f43f91259c7 button.colab-df-convert');\n",
              "        buttonEl.style.display =\n",
              "          google.colab.kernel.accessAllowed ? 'block' : 'none';\n",
              "\n",
              "        async function convertToInteractive(key) {\n",
              "          const element = document.querySelector('#df-eeba1f4a-1b0e-4707-8f87-0f43f91259c7');\n",
              "          const dataTable =\n",
              "            await google.colab.kernel.invokeFunction('convertToInteractive',\n",
              "                                                     [key], {});\n",
              "          if (!dataTable) return;\n",
              "\n",
              "          const docLinkHtml = 'Like what you see? Visit the ' +\n",
              "            '<a target=\"_blank\" href=https://colab.research.google.com/notebooks/data_table.ipynb>data table notebook</a>'\n",
              "            + ' to learn more about interactive tables.';\n",
              "          element.innerHTML = '';\n",
              "          dataTable['output_type'] = 'display_data';\n",
              "          await google.colab.output.renderOutput(dataTable, element);\n",
              "          const docLink = document.createElement('div');\n",
              "          docLink.innerHTML = docLinkHtml;\n",
              "          element.appendChild(docLink);\n",
              "        }\n",
              "      </script>\n",
              "    </div>\n",
              "  </div>\n",
              "  "
            ]
          },
          "metadata": {},
          "execution_count": 38
        }
      ],
      "source": [
        "loyalty_customer = df.groupby('loyalty_program')['customer_id'].nunique().reset_index()\n",
        "loyalty_customer"
      ]
    },
    {
      "cell_type": "code",
      "execution_count": 39,
      "metadata": {
        "colab": {
          "base_uri": "https://localhost:8080/",
          "height": 542
        },
        "id": "IInoG4bAWbnX",
        "outputId": "4341d5a2-478a-407c-ac65-ae39a002bb2c"
      },
      "outputs": [
        {
          "output_type": "display_data",
          "data": {
            "text/html": [
              "<html>\n",
              "<head><meta charset=\"utf-8\" /></head>\n",
              "<body>\n",
              "    <div>            <script src=\"https://cdnjs.cloudflare.com/ajax/libs/mathjax/2.7.5/MathJax.js?config=TeX-AMS-MML_SVG\"></script><script type=\"text/javascript\">if (window.MathJax && window.MathJax.Hub && window.MathJax.Hub.Config) {window.MathJax.Hub.Config({SVG: {font: \"STIX-Web\"}});}</script>                <script type=\"text/javascript\">window.PlotlyConfig = {MathJaxConfig: 'local'};</script>\n",
              "        <script src=\"https://cdn.plot.ly/plotly-2.18.2.min.js\"></script>                <div id=\"4fd9d34f-cc7e-4de2-98b4-51882de87a84\" class=\"plotly-graph-div\" style=\"height:525px; width:100%;\"></div>            <script type=\"text/javascript\">                                    window.PLOTLYENV=window.PLOTLYENV || {};                                    if (document.getElementById(\"4fd9d34f-cc7e-4de2-98b4-51882de87a84\")) {                    Plotly.newPlot(                        \"4fd9d34f-cc7e-4de2-98b4-51882de87a84\",                        [{\"labels\":[\"\\u0411\\u0435\\u0437 \\u043a\\u0430\\u0440\\u0442\\u044b\",\"\\u0421 \\u043a\\u0430\\u0440\\u0442\\u043e\\u0439\"],\"values\":[1116,564],\"type\":\"pie\"}],                        {\"title\":{\"text\":\"\\u0414\\u043e\\u043b\\u044f \\u043a\\u043b\\u0438\\u0435\\u043d\\u0442\\u043e\\u0432, \\u0443\\u0447\\u0430\\u0441\\u0442\\u0432\\u0443\\u044e\\u0449\\u0438\\u0445 \\u0432 \\u043f\\u0440\\u043e\\u0433\\u0440\\u0430\\u043c\\u043c\\u0435 \\u043b\\u043e\\u044f\\u043b\\u044c\\u043d\\u043e\\u0441\\u0442\\u0438\"},\"template\":{\"data\":{\"histogram2dcontour\":[{\"type\":\"histogram2dcontour\",\"colorbar\":{\"outlinewidth\":0,\"ticks\":\"\"},\"colorscale\":[[0.0,\"#0d0887\"],[0.1111111111111111,\"#46039f\"],[0.2222222222222222,\"#7201a8\"],[0.3333333333333333,\"#9c179e\"],[0.4444444444444444,\"#bd3786\"],[0.5555555555555556,\"#d8576b\"],[0.6666666666666666,\"#ed7953\"],[0.7777777777777778,\"#fb9f3a\"],[0.8888888888888888,\"#fdca26\"],[1.0,\"#f0f921\"]]}],\"choropleth\":[{\"type\":\"choropleth\",\"colorbar\":{\"outlinewidth\":0,\"ticks\":\"\"}}],\"histogram2d\":[{\"type\":\"histogram2d\",\"colorbar\":{\"outlinewidth\":0,\"ticks\":\"\"},\"colorscale\":[[0.0,\"#0d0887\"],[0.1111111111111111,\"#46039f\"],[0.2222222222222222,\"#7201a8\"],[0.3333333333333333,\"#9c179e\"],[0.4444444444444444,\"#bd3786\"],[0.5555555555555556,\"#d8576b\"],[0.6666666666666666,\"#ed7953\"],[0.7777777777777778,\"#fb9f3a\"],[0.8888888888888888,\"#fdca26\"],[1.0,\"#f0f921\"]]}],\"heatmap\":[{\"type\":\"heatmap\",\"colorbar\":{\"outlinewidth\":0,\"ticks\":\"\"},\"colorscale\":[[0.0,\"#0d0887\"],[0.1111111111111111,\"#46039f\"],[0.2222222222222222,\"#7201a8\"],[0.3333333333333333,\"#9c179e\"],[0.4444444444444444,\"#bd3786\"],[0.5555555555555556,\"#d8576b\"],[0.6666666666666666,\"#ed7953\"],[0.7777777777777778,\"#fb9f3a\"],[0.8888888888888888,\"#fdca26\"],[1.0,\"#f0f921\"]]}],\"heatmapgl\":[{\"type\":\"heatmapgl\",\"colorbar\":{\"outlinewidth\":0,\"ticks\":\"\"},\"colorscale\":[[0.0,\"#0d0887\"],[0.1111111111111111,\"#46039f\"],[0.2222222222222222,\"#7201a8\"],[0.3333333333333333,\"#9c179e\"],[0.4444444444444444,\"#bd3786\"],[0.5555555555555556,\"#d8576b\"],[0.6666666666666666,\"#ed7953\"],[0.7777777777777778,\"#fb9f3a\"],[0.8888888888888888,\"#fdca26\"],[1.0,\"#f0f921\"]]}],\"contourcarpet\":[{\"type\":\"contourcarpet\",\"colorbar\":{\"outlinewidth\":0,\"ticks\":\"\"}}],\"contour\":[{\"type\":\"contour\",\"colorbar\":{\"outlinewidth\":0,\"ticks\":\"\"},\"colorscale\":[[0.0,\"#0d0887\"],[0.1111111111111111,\"#46039f\"],[0.2222222222222222,\"#7201a8\"],[0.3333333333333333,\"#9c179e\"],[0.4444444444444444,\"#bd3786\"],[0.5555555555555556,\"#d8576b\"],[0.6666666666666666,\"#ed7953\"],[0.7777777777777778,\"#fb9f3a\"],[0.8888888888888888,\"#fdca26\"],[1.0,\"#f0f921\"]]}],\"surface\":[{\"type\":\"surface\",\"colorbar\":{\"outlinewidth\":0,\"ticks\":\"\"},\"colorscale\":[[0.0,\"#0d0887\"],[0.1111111111111111,\"#46039f\"],[0.2222222222222222,\"#7201a8\"],[0.3333333333333333,\"#9c179e\"],[0.4444444444444444,\"#bd3786\"],[0.5555555555555556,\"#d8576b\"],[0.6666666666666666,\"#ed7953\"],[0.7777777777777778,\"#fb9f3a\"],[0.8888888888888888,\"#fdca26\"],[1.0,\"#f0f921\"]]}],\"mesh3d\":[{\"type\":\"mesh3d\",\"colorbar\":{\"outlinewidth\":0,\"ticks\":\"\"}}],\"scatter\":[{\"fillpattern\":{\"fillmode\":\"overlay\",\"size\":10,\"solidity\":0.2},\"type\":\"scatter\"}],\"parcoords\":[{\"type\":\"parcoords\",\"line\":{\"colorbar\":{\"outlinewidth\":0,\"ticks\":\"\"}}}],\"scatterpolargl\":[{\"type\":\"scatterpolargl\",\"marker\":{\"colorbar\":{\"outlinewidth\":0,\"ticks\":\"\"}}}],\"bar\":[{\"error_x\":{\"color\":\"#2a3f5f\"},\"error_y\":{\"color\":\"#2a3f5f\"},\"marker\":{\"line\":{\"color\":\"#E5ECF6\",\"width\":0.5},\"pattern\":{\"fillmode\":\"overlay\",\"size\":10,\"solidity\":0.2}},\"type\":\"bar\"}],\"scattergeo\":[{\"type\":\"scattergeo\",\"marker\":{\"colorbar\":{\"outlinewidth\":0,\"ticks\":\"\"}}}],\"scatterpolar\":[{\"type\":\"scatterpolar\",\"marker\":{\"colorbar\":{\"outlinewidth\":0,\"ticks\":\"\"}}}],\"histogram\":[{\"marker\":{\"pattern\":{\"fillmode\":\"overlay\",\"size\":10,\"solidity\":0.2}},\"type\":\"histogram\"}],\"scattergl\":[{\"type\":\"scattergl\",\"marker\":{\"colorbar\":{\"outlinewidth\":0,\"ticks\":\"\"}}}],\"scatter3d\":[{\"type\":\"scatter3d\",\"line\":{\"colorbar\":{\"outlinewidth\":0,\"ticks\":\"\"}},\"marker\":{\"colorbar\":{\"outlinewidth\":0,\"ticks\":\"\"}}}],\"scattermapbox\":[{\"type\":\"scattermapbox\",\"marker\":{\"colorbar\":{\"outlinewidth\":0,\"ticks\":\"\"}}}],\"scatterternary\":[{\"type\":\"scatterternary\",\"marker\":{\"colorbar\":{\"outlinewidth\":0,\"ticks\":\"\"}}}],\"scattercarpet\":[{\"type\":\"scattercarpet\",\"marker\":{\"colorbar\":{\"outlinewidth\":0,\"ticks\":\"\"}}}],\"carpet\":[{\"aaxis\":{\"endlinecolor\":\"#2a3f5f\",\"gridcolor\":\"white\",\"linecolor\":\"white\",\"minorgridcolor\":\"white\",\"startlinecolor\":\"#2a3f5f\"},\"baxis\":{\"endlinecolor\":\"#2a3f5f\",\"gridcolor\":\"white\",\"linecolor\":\"white\",\"minorgridcolor\":\"white\",\"startlinecolor\":\"#2a3f5f\"},\"type\":\"carpet\"}],\"table\":[{\"cells\":{\"fill\":{\"color\":\"#EBF0F8\"},\"line\":{\"color\":\"white\"}},\"header\":{\"fill\":{\"color\":\"#C8D4E3\"},\"line\":{\"color\":\"white\"}},\"type\":\"table\"}],\"barpolar\":[{\"marker\":{\"line\":{\"color\":\"#E5ECF6\",\"width\":0.5},\"pattern\":{\"fillmode\":\"overlay\",\"size\":10,\"solidity\":0.2}},\"type\":\"barpolar\"}],\"pie\":[{\"automargin\":true,\"type\":\"pie\"}]},\"layout\":{\"autotypenumbers\":\"strict\",\"colorway\":[\"#636efa\",\"#EF553B\",\"#00cc96\",\"#ab63fa\",\"#FFA15A\",\"#19d3f3\",\"#FF6692\",\"#B6E880\",\"#FF97FF\",\"#FECB52\"],\"font\":{\"color\":\"#2a3f5f\"},\"hovermode\":\"closest\",\"hoverlabel\":{\"align\":\"left\"},\"paper_bgcolor\":\"white\",\"plot_bgcolor\":\"#E5ECF6\",\"polar\":{\"bgcolor\":\"#E5ECF6\",\"angularaxis\":{\"gridcolor\":\"white\",\"linecolor\":\"white\",\"ticks\":\"\"},\"radialaxis\":{\"gridcolor\":\"white\",\"linecolor\":\"white\",\"ticks\":\"\"}},\"ternary\":{\"bgcolor\":\"#E5ECF6\",\"aaxis\":{\"gridcolor\":\"white\",\"linecolor\":\"white\",\"ticks\":\"\"},\"baxis\":{\"gridcolor\":\"white\",\"linecolor\":\"white\",\"ticks\":\"\"},\"caxis\":{\"gridcolor\":\"white\",\"linecolor\":\"white\",\"ticks\":\"\"}},\"coloraxis\":{\"colorbar\":{\"outlinewidth\":0,\"ticks\":\"\"}},\"colorscale\":{\"sequential\":[[0.0,\"#0d0887\"],[0.1111111111111111,\"#46039f\"],[0.2222222222222222,\"#7201a8\"],[0.3333333333333333,\"#9c179e\"],[0.4444444444444444,\"#bd3786\"],[0.5555555555555556,\"#d8576b\"],[0.6666666666666666,\"#ed7953\"],[0.7777777777777778,\"#fb9f3a\"],[0.8888888888888888,\"#fdca26\"],[1.0,\"#f0f921\"]],\"sequentialminus\":[[0.0,\"#0d0887\"],[0.1111111111111111,\"#46039f\"],[0.2222222222222222,\"#7201a8\"],[0.3333333333333333,\"#9c179e\"],[0.4444444444444444,\"#bd3786\"],[0.5555555555555556,\"#d8576b\"],[0.6666666666666666,\"#ed7953\"],[0.7777777777777778,\"#fb9f3a\"],[0.8888888888888888,\"#fdca26\"],[1.0,\"#f0f921\"]],\"diverging\":[[0,\"#8e0152\"],[0.1,\"#c51b7d\"],[0.2,\"#de77ae\"],[0.3,\"#f1b6da\"],[0.4,\"#fde0ef\"],[0.5,\"#f7f7f7\"],[0.6,\"#e6f5d0\"],[0.7,\"#b8e186\"],[0.8,\"#7fbc41\"],[0.9,\"#4d9221\"],[1,\"#276419\"]]},\"xaxis\":{\"gridcolor\":\"white\",\"linecolor\":\"white\",\"ticks\":\"\",\"title\":{\"standoff\":15},\"zerolinecolor\":\"white\",\"automargin\":true,\"zerolinewidth\":2},\"yaxis\":{\"gridcolor\":\"white\",\"linecolor\":\"white\",\"ticks\":\"\",\"title\":{\"standoff\":15},\"zerolinecolor\":\"white\",\"automargin\":true,\"zerolinewidth\":2},\"scene\":{\"xaxis\":{\"backgroundcolor\":\"#E5ECF6\",\"gridcolor\":\"white\",\"linecolor\":\"white\",\"showbackground\":true,\"ticks\":\"\",\"zerolinecolor\":\"white\",\"gridwidth\":2},\"yaxis\":{\"backgroundcolor\":\"#E5ECF6\",\"gridcolor\":\"white\",\"linecolor\":\"white\",\"showbackground\":true,\"ticks\":\"\",\"zerolinecolor\":\"white\",\"gridwidth\":2},\"zaxis\":{\"backgroundcolor\":\"#E5ECF6\",\"gridcolor\":\"white\",\"linecolor\":\"white\",\"showbackground\":true,\"ticks\":\"\",\"zerolinecolor\":\"white\",\"gridwidth\":2}},\"shapedefaults\":{\"line\":{\"color\":\"#2a3f5f\"}},\"annotationdefaults\":{\"arrowcolor\":\"#2a3f5f\",\"arrowhead\":0,\"arrowwidth\":1},\"geo\":{\"bgcolor\":\"white\",\"landcolor\":\"#E5ECF6\",\"subunitcolor\":\"white\",\"showland\":true,\"showlakes\":true,\"lakecolor\":\"white\"},\"title\":{\"x\":0.05},\"mapbox\":{\"style\":\"light\"}}}},                        {\"responsive\": true}                    ).then(function(){\n",
              "                            \n",
              "var gd = document.getElementById('4fd9d34f-cc7e-4de2-98b4-51882de87a84');\n",
              "var x = new MutationObserver(function (mutations, observer) {{\n",
              "        var display = window.getComputedStyle(gd).display;\n",
              "        if (!display || display === 'none') {{\n",
              "            console.log([gd, 'removed!']);\n",
              "            Plotly.purge(gd);\n",
              "            observer.disconnect();\n",
              "        }}\n",
              "}});\n",
              "\n",
              "// Listen for the removal of the full notebook cells\n",
              "var notebookContainer = gd.closest('#notebook-container');\n",
              "if (notebookContainer) {{\n",
              "    x.observe(notebookContainer, {childList: true});\n",
              "}}\n",
              "\n",
              "// Listen for the clearing of the current output cell\n",
              "var outputEl = gd.closest('.output');\n",
              "if (outputEl) {{\n",
              "    x.observe(outputEl, {childList: true});\n",
              "}}\n",
              "\n",
              "                        })                };                            </script>        </div>\n",
              "</body>\n",
              "</html>"
            ]
          },
          "metadata": {}
        }
      ],
      "source": [
        "fig = go.Figure(data=[go.Pie(labels=['Без карты', 'С картой'], values=loyalty_customer['customer_id'])], layout=go.Layout(\n",
        "        title=go.layout.Title(text=\"Доля клиентов, участвующих в программе лояльности\")))\n",
        "fig.show()"
      ]
    },
    {
      "cell_type": "markdown",
      "metadata": {
        "id": "PDENfuXFWbnX"
      },
      "source": [
        "**Вывод**\n",
        "\n",
        "В программе лояльности участвует 560 человек. Это составляет 33,6% от всех покупателей."
      ]
    },
    {
      "cell_type": "markdown",
      "metadata": {
        "id": "YzIIVESfWbnY"
      },
      "source": [
        "### Вычислить магазины, в которых есть программа лояльности."
      ]
    },
    {
      "cell_type": "code",
      "execution_count": 40,
      "metadata": {
        "colab": {
          "base_uri": "https://localhost:8080/",
          "height": 35
        },
        "id": "yQby_n90WbnY",
        "outputId": "97d4b7d1-3dee-4cc9-9152-2e87c57b9802"
      },
      "outputs": [
        {
          "output_type": "display_data",
          "data": {
            "text/plain": [
              "array(['Shop 0', 'Shop 8', 'Shop 28', 'Shop 19'], dtype=object)"
            ]
          },
          "metadata": {}
        }
      ],
      "source": [
        "loyalty_shops = df[df['loyalty_program'] == 1]['shop_id'].unique()\n",
        "display(loyalty_shops)"
      ]
    },
    {
      "cell_type": "markdown",
      "metadata": {
        "id": "5g-gCnWIWbnY"
      },
      "source": [
        "**Вывод**\n",
        "\n",
        "В программе лояльности участвует 4 магазина. Это Shop 0, 'Shop 28', 'Shop 8', 'Shop 19'."
      ]
    },
    {
      "cell_type": "markdown",
      "metadata": {
        "id": "FHXtJxU5WbnZ"
      },
      "source": [
        "### Проанализируем выручку магазинов в зависимости от программы лояльности или ее отсутствии."
      ]
    },
    {
      "cell_type": "code",
      "execution_count": 41,
      "metadata": {
        "colab": {
          "base_uri": "https://localhost:8080/",
          "height": 610
        },
        "id": "EDl1466LWbnZ",
        "outputId": "f3b30033-4d49-41a6-c421-3f947f80f11c"
      },
      "outputs": [
        {
          "output_type": "display_data",
          "data": {
            "text/plain": [
              "<Figure size 1800x700 with 1 Axes>"
            ],
            "image/png": "[encoded data removed]"
          },
          "metadata": {}
        }
      ],
      "source": [
        "loyalty_revenue = df[df['loyalty_program'] == 1].groupby('shop_id')['revenue'].sum()\n",
        "non_loyalty_revenue = df[df['loyalty_program'] == 0].groupby('shop_id')['revenue'].sum()\n",
        "\n",
        "sorted_loyalty_revenue = sorted(loyalty_revenue.items(), key=lambda x: x[1], reverse=True)\n",
        "sorted_non_loyalty_revenue = sorted(non_loyalty_revenue.items(), key=lambda x: x[1], reverse=True)\n",
        "\n",
        "shops_loyalty = [item[0] for item in sorted_loyalty_revenue]\n",
        "revenue_loyalty = [item[1] for item in sorted_loyalty_revenue]\n",
        "\n",
        "shops_non_loyalty = [item[0] for item in sorted_non_loyalty_revenue]\n",
        "revenue_non_loyalty = [item[1] for item in sorted_non_loyalty_revenue]\n",
        "\n",
        "fig, ax = plt.subplots(figsize=(18, 7))\n",
        "ax.bar(shops_loyalty, revenue_loyalty, color='red', label='С программой лояльности')\n",
        "ax.bar(shops_non_loyalty, revenue_non_loyalty, color='blue', label='Без программы лояльности')\n",
        "\n",
        "ax.set_title('Выручка по магазину (сортировка по сумме выручки)')\n",
        "ax.set_xlabel('Магазин и лояльность')\n",
        "ax.set_ylabel('Суммарная выручка')\n",
        "ax.legend()\n",
        "ax.grid(True)\n",
        "plt.xticks(rotation=45)\n",
        "\n",
        "plt.show()"
      ]
    },
    {
      "cell_type": "markdown",
      "metadata": {
        "id": "XXR7t9ROWbna"
      },
      "source": [
        "**Вывод**\n",
        "\n",
        "Суммарная выручка с программой лояльности несущественна и еле видна на графике."
      ]
    },
    {
      "cell_type": "markdown",
      "metadata": {
        "id": "JuuEskjAWbna"
      },
      "source": [
        "### Сравним средний(медианный) чек по группам(с картой/без)"
      ]
    },
    {
      "cell_type": "code",
      "execution_count": 42,
      "metadata": {
        "colab": {
          "base_uri": "https://localhost:8080/",
          "height": 542
        },
        "id": "WirWV6FpWbna",
        "outputId": "0d10ed35-e61b-4793-ab88-5cba9dbc97b5"
      },
      "outputs": [
        {
          "output_type": "display_data",
          "data": {
            "text/html": [
              "<html>\n",
              "<head><meta charset=\"utf-8\" /></head>\n",
              "<body>\n",
              "    <div>            <script src=\"https://cdnjs.cloudflare.com/ajax/libs/mathjax/2.7.5/MathJax.js?config=TeX-AMS-MML_SVG\"></script><script type=\"text/javascript\">if (window.MathJax && window.MathJax.Hub && window.MathJax.Hub.Config) {window.MathJax.Hub.Config({SVG: {font: \"STIX-Web\"}});}</script>                <script type=\"text/javascript\">window.PlotlyConfig = {MathJaxConfig: 'local'};</script>\n",
              "        <script src=\"https://cdn.plot.ly/plotly-2.18.2.min.js\"></script>                <div id=\"8c5e0cf5-7113-4d42-8b8d-570b7479f84b\" class=\"plotly-graph-div\" style=\"height:525px; width:100%;\"></div>            <script type=\"text/javascript\">                                    window.PLOTLYENV=window.PLOTLYENV || {};                                    if (document.getElementById(\"8c5e0cf5-7113-4d42-8b8d-570b7479f84b\")) {                    Plotly.newPlot(                        \"8c5e0cf5-7113-4d42-8b8d-570b7479f84b\",                        [{\"alignmentgroup\":\"True\",\"hovertemplate\":\"loyalty_program=False<br>purchase_date=%{x}<br>revenue=%{text}<extra></extra>\",\"legendgroup\":\"False\",\"marker\":{\"color\":\"#636efa\",\"pattern\":{\"shape\":\"\"}},\"name\":\"False\",\"offsetgroup\":\"False\",\"orientation\":\"v\",\"showlegend\":true,\"text\":[358.6741666666667,269.43178571428575,304.7263095238095,294.23103787878784,223.5915,378.84158333333335,296.4096428571429,231.4155,258.8027698412698,235.81310714285715,469.9141488095238,358.7677738095238,417.045,349.2608333333333,370.41166666666663,56.18,240.6234722222222,61.51916666666666,335.032875,172.8075,304.4753787878788,494.18017857142854,416.63916666666665,475.2412297979798,295.8786547619048,539.36,315.6825714285714,389.4185735930736,376.31095238095236,383.4933392857143,149.13779761904763,334.54109523809524,203.8208492063492,451.06783333333334,261.88866666666667,342.9169166666667,245.45614285714288,285.6120238095238,406.5753611111111,342.3645714285714,341.71803968253965,339.4663095238095,184.17666666666668,362.1349523809524,322.8396666666667,213.78948214285714,314.46524999999997,355.295,114.35622619047619,199.17984415584417,259.15436904761907,316.6209404761905,228.83369642857144,407.6441666666667,337.9891666666666,465.9015,380.29973809523807,408.50988095238097,203.25595238095238,338.9210714285714,181.71791666666667,422.65833333333336,579.1958333333333,342.890625,324.40677380952377,428.59499999999997,279.590003968254,302.96333333333337],\"textposition\":\"auto\",\"x\":[\"2016-12-01T00:00:00\",\"2016-12-02T00:00:00\",\"2016-12-03T00:00:00\",\"2016-12-05T00:00:00\",\"2016-12-06T00:00:00\",\"2016-12-07T00:00:00\",\"2016-12-08T00:00:00\",\"2016-12-09T00:00:00\",\"2016-12-10T00:00:00\",\"2016-12-12T00:00:00\",\"2016-12-13T00:00:00\",\"2016-12-14T00:00:00\",\"2016-12-15T00:00:00\",\"2016-12-16T00:00:00\",\"2016-12-17T00:00:00\",\"2016-12-19T00:00:00\",\"2016-12-20T00:00:00\",\"2016-12-21T00:00:00\",\"2016-12-22T00:00:00\",\"2016-12-23T00:00:00\",\"2017-01-04T00:00:00\",\"2017-01-05T00:00:00\",\"2017-01-06T00:00:00\",\"2017-01-07T00:00:00\",\"2017-01-09T00:00:00\",\"2017-01-10T00:00:00\",\"2017-01-11T00:00:00\",\"2017-01-12T00:00:00\",\"2017-01-13T00:00:00\",\"2017-01-14T00:00:00\",\"2017-01-16T00:00:00\",\"2017-01-17T00:00:00\",\"2017-01-18T00:00:00\",\"2017-01-19T00:00:00\",\"2017-01-20T00:00:00\",\"2017-01-21T00:00:00\",\"2017-01-23T00:00:00\",\"2017-01-24T00:00:00\",\"2017-01-25T00:00:00\",\"2017-01-26T00:00:00\",\"2017-01-27T00:00:00\",\"2017-01-28T00:00:00\",\"2017-01-30T00:00:00\",\"2017-01-31T00:00:00\",\"2017-02-01T00:00:00\",\"2017-02-02T00:00:00\",\"2017-02-03T00:00:00\",\"2017-02-04T00:00:00\",\"2017-02-06T00:00:00\",\"2017-02-07T00:00:00\",\"2017-02-08T00:00:00\",\"2017-02-09T00:00:00\",\"2017-02-10T00:00:00\",\"2017-02-11T00:00:00\",\"2017-02-13T00:00:00\",\"2017-02-14T00:00:00\",\"2017-02-15T00:00:00\",\"2017-02-16T00:00:00\",\"2017-02-17T00:00:00\",\"2017-02-18T00:00:00\",\"2017-02-20T00:00:00\",\"2017-02-21T00:00:00\",\"2017-02-22T00:00:00\",\"2017-02-23T00:00:00\",\"2017-02-24T00:00:00\",\"2017-02-25T00:00:00\",\"2017-02-27T00:00:00\",\"2017-02-28T00:00:00\"],\"xaxis\":\"x\",\"y\":[358.6741666666667,269.43178571428575,304.7263095238095,294.23103787878784,223.5915,378.84158333333335,296.4096428571429,231.4155,258.8027698412698,235.81310714285715,469.9141488095238,358.7677738095238,417.045,349.2608333333333,370.41166666666663,56.18,240.6234722222222,61.51916666666666,335.032875,172.8075,304.4753787878788,494.18017857142854,416.63916666666665,475.2412297979798,295.8786547619048,539.36,315.6825714285714,389.4185735930736,376.31095238095236,383.4933392857143,149.13779761904763,334.54109523809524,203.8208492063492,451.06783333333334,261.88866666666667,342.9169166666667,245.45614285714288,285.6120238095238,406.5753611111111,342.3645714285714,341.71803968253965,339.4663095238095,184.17666666666668,362.1349523809524,322.8396666666667,213.78948214285714,314.46524999999997,355.295,114.35622619047619,199.17984415584417,259.15436904761907,316.6209404761905,228.83369642857144,407.6441666666667,337.9891666666666,465.9015,380.29973809523807,408.50988095238097,203.25595238095238,338.9210714285714,181.71791666666667,422.65833333333336,579.1958333333333,342.890625,324.40677380952377,428.59499999999997,279.590003968254,302.96333333333337],\"yaxis\":\"y\",\"type\":\"bar\"},{\"alignmentgroup\":\"True\",\"hovertemplate\":\"loyalty_program=True<br>purchase_date=%{x}<br>revenue=%{text}<extra></extra>\",\"legendgroup\":\"True\",\"marker\":{\"color\":\"#EF553B\",\"pattern\":{\"shape\":\"\"}},\"name\":\"True\",\"offsetgroup\":\"True\",\"orientation\":\"v\",\"showlegend\":true,\"text\":[204.77395238095238,252.06672619047617,284.62847222222223,309.9029226190476,296.9923333333333,282.1930853174603,334.6392996031746,208.48083333333332,198.6556666666667,243.6653095238095,233.11925,303.0170176889965,207.7625,325.54370238095237,192.58524278499277,228.1955515873016,291.40182142857145,167.63009523809524,557.5625634920634,178.97941666666665,563.9633333333334,406.82501587301584,583.241,567.7135000000001,172.3675,313.49125396825394,632.5561507936508,420.7340476190476,273.37904761904764,398.73108333333334,250.53759740259744,179.23496428571428,325.193253968254,301.2764027777778,376.92020238095233,523.5793571428571,238.86085714285713,368.44058333333334,221.07333333333332,213.4073863636364,368.9561111111111,454.73858333333334,192.21983333333333,280.227005952381,402.04821428571427,236.41199999999998,262.0034642857143,436.50154761904764,393.85461904761905,274.8355714285714,415.32916666666665,209.38857142857142,304.73358333333334,396.3458095238095,193.1597142857143,328.89866666666666,353.9824107142857,393.00033333333334,328.43119047619047,276.7925218253968,457.5051785714286,372.7925,328.0090238095238,423.4913095238095,455.9434523809524,526.0122380952381,293.509630952381,242.92197619047616],\"textposition\":\"auto\",\"x\":[\"2016-12-01T00:00:00\",\"2016-12-02T00:00:00\",\"2016-12-03T00:00:00\",\"2016-12-05T00:00:00\",\"2016-12-06T00:00:00\",\"2016-12-07T00:00:00\",\"2016-12-08T00:00:00\",\"2016-12-09T00:00:00\",\"2016-12-10T00:00:00\",\"2016-12-12T00:00:00\",\"2016-12-13T00:00:00\",\"2016-12-14T00:00:00\",\"2016-12-15T00:00:00\",\"2016-12-16T00:00:00\",\"2016-12-17T00:00:00\",\"2016-12-19T00:00:00\",\"2016-12-20T00:00:00\",\"2016-12-21T00:00:00\",\"2016-12-22T00:00:00\",\"2016-12-23T00:00:00\",\"2017-01-04T00:00:00\",\"2017-01-05T00:00:00\",\"2017-01-06T00:00:00\",\"2017-01-07T00:00:00\",\"2017-01-09T00:00:00\",\"2017-01-10T00:00:00\",\"2017-01-11T00:00:00\",\"2017-01-12T00:00:00\",\"2017-01-13T00:00:00\",\"2017-01-14T00:00:00\",\"2017-01-16T00:00:00\",\"2017-01-17T00:00:00\",\"2017-01-18T00:00:00\",\"2017-01-19T00:00:00\",\"2017-01-20T00:00:00\",\"2017-01-21T00:00:00\",\"2017-01-23T00:00:00\",\"2017-01-24T00:00:00\",\"2017-01-25T00:00:00\",\"2017-01-26T00:00:00\",\"2017-01-27T00:00:00\",\"2017-01-28T00:00:00\",\"2017-01-30T00:00:00\",\"2017-01-31T00:00:00\",\"2017-02-01T00:00:00\",\"2017-02-02T00:00:00\",\"2017-02-03T00:00:00\",\"2017-02-04T00:00:00\",\"2017-02-06T00:00:00\",\"2017-02-07T00:00:00\",\"2017-02-08T00:00:00\",\"2017-02-09T00:00:00\",\"2017-02-10T00:00:00\",\"2017-02-11T00:00:00\",\"2017-02-13T00:00:00\",\"2017-02-14T00:00:00\",\"2017-02-15T00:00:00\",\"2017-02-16T00:00:00\",\"2017-02-17T00:00:00\",\"2017-02-18T00:00:00\",\"2017-02-20T00:00:00\",\"2017-02-21T00:00:00\",\"2017-02-22T00:00:00\",\"2017-02-23T00:00:00\",\"2017-02-24T00:00:00\",\"2017-02-25T00:00:00\",\"2017-02-27T00:00:00\",\"2017-02-28T00:00:00\"],\"xaxis\":\"x\",\"y\":[204.77395238095238,252.06672619047617,284.62847222222223,309.9029226190476,296.9923333333333,282.1930853174603,334.6392996031746,208.48083333333332,198.6556666666667,243.6653095238095,233.11925,303.0170176889965,207.7625,325.54370238095237,192.58524278499277,228.1955515873016,291.40182142857145,167.63009523809524,557.5625634920634,178.97941666666665,563.9633333333334,406.82501587301584,583.241,567.7135000000001,172.3675,313.49125396825394,632.5561507936508,420.7340476190476,273.37904761904764,398.73108333333334,250.53759740259744,179.23496428571428,325.193253968254,301.2764027777778,376.92020238095233,523.5793571428571,238.86085714285713,368.44058333333334,221.07333333333332,213.4073863636364,368.9561111111111,454.73858333333334,192.21983333333333,280.227005952381,402.04821428571427,236.41199999999998,262.0034642857143,436.50154761904764,393.85461904761905,274.8355714285714,415.32916666666665,209.38857142857142,304.73358333333334,396.3458095238095,193.1597142857143,328.89866666666666,353.9824107142857,393.00033333333334,328.43119047619047,276.7925218253968,457.5051785714286,372.7925,328.0090238095238,423.4913095238095,455.9434523809524,526.0122380952381,293.509630952381,242.92197619047616],\"yaxis\":\"y\",\"type\":\"bar\"}],                        {\"template\":{\"data\":{\"histogram2dcontour\":[{\"type\":\"histogram2dcontour\",\"colorbar\":{\"outlinewidth\":0,\"ticks\":\"\"},\"colorscale\":[[0.0,\"#0d0887\"],[0.1111111111111111,\"#46039f\"],[0.2222222222222222,\"#7201a8\"],[0.3333333333333333,\"#9c179e\"],[0.4444444444444444,\"#bd3786\"],[0.5555555555555556,\"#d8576b\"],[0.6666666666666666,\"#ed7953\"],[0.7777777777777778,\"#fb9f3a\"],[0.8888888888888888,\"#fdca26\"],[1.0,\"#f0f921\"]]}],\"choropleth\":[{\"type\":\"choropleth\",\"colorbar\":{\"outlinewidth\":0,\"ticks\":\"\"}}],\"histogram2d\":[{\"type\":\"histogram2d\",\"colorbar\":{\"outlinewidth\":0,\"ticks\":\"\"},\"colorscale\":[[0.0,\"#0d0887\"],[0.1111111111111111,\"#46039f\"],[0.2222222222222222,\"#7201a8\"],[0.3333333333333333,\"#9c179e\"],[0.4444444444444444,\"#bd3786\"],[0.5555555555555556,\"#d8576b\"],[0.6666666666666666,\"#ed7953\"],[0.7777777777777778,\"#fb9f3a\"],[0.8888888888888888,\"#fdca26\"],[1.0,\"#f0f921\"]]}],\"heatmap\":[{\"type\":\"heatmap\",\"colorbar\":{\"outlinewidth\":0,\"ticks\":\"\"},\"colorscale\":[[0.0,\"#0d0887\"],[0.1111111111111111,\"#46039f\"],[0.2222222222222222,\"#7201a8\"],[0.3333333333333333,\"#9c179e\"],[0.4444444444444444,\"#bd3786\"],[0.5555555555555556,\"#d8576b\"],[0.6666666666666666,\"#ed7953\"],[0.7777777777777778,\"#fb9f3a\"],[0.8888888888888888,\"#fdca26\"],[1.0,\"#f0f921\"]]}],\"heatmapgl\":[{\"type\":\"heatmapgl\",\"colorbar\":{\"outlinewidth\":0,\"ticks\":\"\"},\"colorscale\":[[0.0,\"#0d0887\"],[0.1111111111111111,\"#46039f\"],[0.2222222222222222,\"#7201a8\"],[0.3333333333333333,\"#9c179e\"],[0.4444444444444444,\"#bd3786\"],[0.5555555555555556,\"#d8576b\"],[0.6666666666666666,\"#ed7953\"],[0.7777777777777778,\"#fb9f3a\"],[0.8888888888888888,\"#fdca26\"],[1.0,\"#f0f921\"]]}],\"contourcarpet\":[{\"type\":\"contourcarpet\",\"colorbar\":{\"outlinewidth\":0,\"ticks\":\"\"}}],\"contour\":[{\"type\":\"contour\",\"colorbar\":{\"outlinewidth\":0,\"ticks\":\"\"},\"colorscale\":[[0.0,\"#0d0887\"],[0.1111111111111111,\"#46039f\"],[0.2222222222222222,\"#7201a8\"],[0.3333333333333333,\"#9c179e\"],[0.4444444444444444,\"#bd3786\"],[0.5555555555555556,\"#d8576b\"],[0.6666666666666666,\"#ed7953\"],[0.7777777777777778,\"#fb9f3a\"],[0.8888888888888888,\"#fdca26\"],[1.0,\"#f0f921\"]]}],\"surface\":[{\"type\":\"surface\",\"colorbar\":{\"outlinewidth\":0,\"ticks\":\"\"},\"colorscale\":[[0.0,\"#0d0887\"],[0.1111111111111111,\"#46039f\"],[0.2222222222222222,\"#7201a8\"],[0.3333333333333333,\"#9c179e\"],[0.4444444444444444,\"#bd3786\"],[0.5555555555555556,\"#d8576b\"],[0.6666666666666666,\"#ed7953\"],[0.7777777777777778,\"#fb9f3a\"],[0.8888888888888888,\"#fdca26\"],[1.0,\"#f0f921\"]]}],\"mesh3d\":[{\"type\":\"mesh3d\",\"colorbar\":{\"outlinewidth\":0,\"ticks\":\"\"}}],\"scatter\":[{\"fillpattern\":{\"fillmode\":\"overlay\",\"size\":10,\"solidity\":0.2},\"type\":\"scatter\"}],\"parcoords\":[{\"type\":\"parcoords\",\"line\":{\"colorbar\":{\"outlinewidth\":0,\"ticks\":\"\"}}}],\"scatterpolargl\":[{\"type\":\"scatterpolargl\",\"marker\":{\"colorbar\":{\"outlinewidth\":0,\"ticks\":\"\"}}}],\"bar\":[{\"error_x\":{\"color\":\"#2a3f5f\"},\"error_y\":{\"color\":\"#2a3f5f\"},\"marker\":{\"line\":{\"color\":\"#E5ECF6\",\"width\":0.5},\"pattern\":{\"fillmode\":\"overlay\",\"size\":10,\"solidity\":0.2}},\"type\":\"bar\"}],\"scattergeo\":[{\"type\":\"scattergeo\",\"marker\":{\"colorbar\":{\"outlinewidth\":0,\"ticks\":\"\"}}}],\"scatterpolar\":[{\"type\":\"scatterpolar\",\"marker\":{\"colorbar\":{\"outlinewidth\":0,\"ticks\":\"\"}}}],\"histogram\":[{\"marker\":{\"pattern\":{\"fillmode\":\"overlay\",\"size\":10,\"solidity\":0.2}},\"type\":\"histogram\"}],\"scattergl\":[{\"type\":\"scattergl\",\"marker\":{\"colorbar\":{\"outlinewidth\":0,\"ticks\":\"\"}}}],\"scatter3d\":[{\"type\":\"scatter3d\",\"line\":{\"colorbar\":{\"outlinewidth\":0,\"ticks\":\"\"}},\"marker\":{\"colorbar\":{\"outlinewidth\":0,\"ticks\":\"\"}}}],\"scattermapbox\":[{\"type\":\"scattermapbox\",\"marker\":{\"colorbar\":{\"outlinewidth\":0,\"ticks\":\"\"}}}],\"scatterternary\":[{\"type\":\"scatterternary\",\"marker\":{\"colorbar\":{\"outlinewidth\":0,\"ticks\":\"\"}}}],\"scattercarpet\":[{\"type\":\"scattercarpet\",\"marker\":{\"colorbar\":{\"outlinewidth\":0,\"ticks\":\"\"}}}],\"carpet\":[{\"aaxis\":{\"endlinecolor\":\"#2a3f5f\",\"gridcolor\":\"white\",\"linecolor\":\"white\",\"minorgridcolor\":\"white\",\"startlinecolor\":\"#2a3f5f\"},\"baxis\":{\"endlinecolor\":\"#2a3f5f\",\"gridcolor\":\"white\",\"linecolor\":\"white\",\"minorgridcolor\":\"white\",\"startlinecolor\":\"#2a3f5f\"},\"type\":\"carpet\"}],\"table\":[{\"cells\":{\"fill\":{\"color\":\"#EBF0F8\"},\"line\":{\"color\":\"white\"}},\"header\":{\"fill\":{\"color\":\"#C8D4E3\"},\"line\":{\"color\":\"white\"}},\"type\":\"table\"}],\"barpolar\":[{\"marker\":{\"line\":{\"color\":\"#E5ECF6\",\"width\":0.5},\"pattern\":{\"fillmode\":\"overlay\",\"size\":10,\"solidity\":0.2}},\"type\":\"barpolar\"}],\"pie\":[{\"automargin\":true,\"type\":\"pie\"}]},\"layout\":{\"autotypenumbers\":\"strict\",\"colorway\":[\"#636efa\",\"#EF553B\",\"#00cc96\",\"#ab63fa\",\"#FFA15A\",\"#19d3f3\",\"#FF6692\",\"#B6E880\",\"#FF97FF\",\"#FECB52\"],\"font\":{\"color\":\"#2a3f5f\"},\"hovermode\":\"closest\",\"hoverlabel\":{\"align\":\"left\"},\"paper_bgcolor\":\"white\",\"plot_bgcolor\":\"#E5ECF6\",\"polar\":{\"bgcolor\":\"#E5ECF6\",\"angularaxis\":{\"gridcolor\":\"white\",\"linecolor\":\"white\",\"ticks\":\"\"},\"radialaxis\":{\"gridcolor\":\"white\",\"linecolor\":\"white\",\"ticks\":\"\"}},\"ternary\":{\"bgcolor\":\"#E5ECF6\",\"aaxis\":{\"gridcolor\":\"white\",\"linecolor\":\"white\",\"ticks\":\"\"},\"baxis\":{\"gridcolor\":\"white\",\"linecolor\":\"white\",\"ticks\":\"\"},\"caxis\":{\"gridcolor\":\"white\",\"linecolor\":\"white\",\"ticks\":\"\"}},\"coloraxis\":{\"colorbar\":{\"outlinewidth\":0,\"ticks\":\"\"}},\"colorscale\":{\"sequential\":[[0.0,\"#0d0887\"],[0.1111111111111111,\"#46039f\"],[0.2222222222222222,\"#7201a8\"],[0.3333333333333333,\"#9c179e\"],[0.4444444444444444,\"#bd3786\"],[0.5555555555555556,\"#d8576b\"],[0.6666666666666666,\"#ed7953\"],[0.7777777777777778,\"#fb9f3a\"],[0.8888888888888888,\"#fdca26\"],[1.0,\"#f0f921\"]],\"sequentialminus\":[[0.0,\"#0d0887\"],[0.1111111111111111,\"#46039f\"],[0.2222222222222222,\"#7201a8\"],[0.3333333333333333,\"#9c179e\"],[0.4444444444444444,\"#bd3786\"],[0.5555555555555556,\"#d8576b\"],[0.6666666666666666,\"#ed7953\"],[0.7777777777777778,\"#fb9f3a\"],[0.8888888888888888,\"#fdca26\"],[1.0,\"#f0f921\"]],\"diverging\":[[0,\"#8e0152\"],[0.1,\"#c51b7d\"],[0.2,\"#de77ae\"],[0.3,\"#f1b6da\"],[0.4,\"#fde0ef\"],[0.5,\"#f7f7f7\"],[0.6,\"#e6f5d0\"],[0.7,\"#b8e186\"],[0.8,\"#7fbc41\"],[0.9,\"#4d9221\"],[1,\"#276419\"]]},\"xaxis\":{\"gridcolor\":\"white\",\"linecolor\":\"white\",\"ticks\":\"\",\"title\":{\"standoff\":15},\"zerolinecolor\":\"white\",\"automargin\":true,\"zerolinewidth\":2},\"yaxis\":{\"gridcolor\":\"white\",\"linecolor\":\"white\",\"ticks\":\"\",\"title\":{\"standoff\":15},\"zerolinecolor\":\"white\",\"automargin\":true,\"zerolinewidth\":2},\"scene\":{\"xaxis\":{\"backgroundcolor\":\"#E5ECF6\",\"gridcolor\":\"white\",\"linecolor\":\"white\",\"showbackground\":true,\"ticks\":\"\",\"zerolinecolor\":\"white\",\"gridwidth\":2},\"yaxis\":{\"backgroundcolor\":\"#E5ECF6\",\"gridcolor\":\"white\",\"linecolor\":\"white\",\"showbackground\":true,\"ticks\":\"\",\"zerolinecolor\":\"white\",\"gridwidth\":2},\"zaxis\":{\"backgroundcolor\":\"#E5ECF6\",\"gridcolor\":\"white\",\"linecolor\":\"white\",\"showbackground\":true,\"ticks\":\"\",\"zerolinecolor\":\"white\",\"gridwidth\":2}},\"shapedefaults\":{\"line\":{\"color\":\"#2a3f5f\"}},\"annotationdefaults\":{\"arrowcolor\":\"#2a3f5f\",\"arrowhead\":0,\"arrowwidth\":1},\"geo\":{\"bgcolor\":\"white\",\"landcolor\":\"#E5ECF6\",\"subunitcolor\":\"white\",\"showland\":true,\"showlakes\":true,\"lakecolor\":\"white\"},\"title\":{\"x\":0.05},\"mapbox\":{\"style\":\"light\"}}},\"xaxis\":{\"anchor\":\"y\",\"domain\":[0.0,1.0],\"title\":{\"text\":\"\\u041c\\u0435\\u0441\\u044f\\u0446\"},\"categoryorder\":\"total descending\"},\"yaxis\":{\"anchor\":\"x\",\"domain\":[0.0,1.0],\"title\":{\"text\":\"\\u041c\\u0435\\u0434\\u0438\\u0430\\u043d\\u043d\\u0430\\u044f \\u0441\\u0443\\u043c\\u043c\\u0430 \\u0447\\u0435\\u043a\\u0430\"}},\"legend\":{\"title\":{\"text\":\"loyalty_program\"},\"tracegroupgap\":0},\"margin\":{\"t\":60},\"barmode\":\"group\",\"title\":{\"text\":\"\\u041c\\u0435\\u0434\\u0438\\u0430\\u043d\\u043d\\u044b\\u0439 \\u0447\\u0435\\u043a \\u043f\\u043e \\u043c\\u0435\\u0441\\u044f\\u0446\\u0430\\u043c\"}},                        {\"responsive\": true}                    ).then(function(){\n",
              "                            \n",
              "var gd = document.getElementById('8c5e0cf5-7113-4d42-8b8d-570b7479f84b');\n",
              "var x = new MutationObserver(function (mutations, observer) {{\n",
              "        var display = window.getComputedStyle(gd).display;\n",
              "        if (!display || display === 'none') {{\n",
              "            console.log([gd, 'removed!']);\n",
              "            Plotly.purge(gd);\n",
              "            observer.disconnect();\n",
              "        }}\n",
              "}});\n",
              "\n",
              "// Listen for the removal of the full notebook cells\n",
              "var notebookContainer = gd.closest('#notebook-container');\n",
              "if (notebookContainer) {{\n",
              "    x.observe(notebookContainer, {childList: true});\n",
              "}}\n",
              "\n",
              "// Listen for the clearing of the current output cell\n",
              "var outputEl = gd.closest('.output');\n",
              "if (outputEl) {{\n",
              "    x.observe(outputEl, {childList: true});\n",
              "}}\n",
              "\n",
              "                        })                };                            </script>        </div>\n",
              "</body>\n",
              "</html>"
            ]
          },
          "metadata": {}
        }
      ],
      "source": [
        "# Рассчитываем средний(медианный) чек по месяцам\n",
        "median_purchase= df.groupby(['purchase_date','purchase_id', 'loyalty_program']).agg({'revenue':'sum'}).reset_index()\n",
        "median_purchase= median_purchase.groupby(['purchase_date','loyalty_program']).agg({'revenue':'median'}).reset_index()\n",
        "# Построение графика медианного чека\n",
        "fig = px.bar(median_purchase, \n",
        "             x='purchase_date', \n",
        "             y='revenue', \n",
        "             text='revenue',\n",
        "             color='loyalty_program',\n",
        "             barmode='group'\n",
        "            )\n",
        "\n",
        "fig.update_layout(title='Медианный чек по месяцам',\n",
        "                   xaxis_title='Месяц',\n",
        "                   yaxis_title='Медианная сумма чека',\n",
        "                  xaxis={'categoryorder':'total descending'}\n",
        "                 )\n",
        "fig.show()"
      ]
    },
    {
      "cell_type": "markdown",
      "metadata": {
        "id": "Cln1EFuBWbnb"
      },
      "source": [
        "**Вывод**\n",
        "\n",
        "Во всех месяцах за три месяца медианный чек у клиентов с картой выше, чем у клиентов без."
      ]
    },
    {
      "cell_type": "markdown",
      "metadata": {
        "id": "KlmwcZb3Wbnc"
      },
      "source": [
        "###  LTV клиента (с картой/без). Посмотрим динамику повторных покупок."
      ]
    },
    {
      "cell_type": "code",
      "execution_count": 43,
      "metadata": {
        "id": "YUCTFNbSWbnd"
      },
      "outputs": [],
      "source": [
        "# функция для получения расширенных пользовательских профилей\n",
        "def get_profiles(df):\n",
        "\n",
        "    # находим параметры первых посещений\n",
        "    profiles = (\n",
        "        df.sort_values(by=['customer_id', 'purchase_date'])\n",
        "        .groupby('customer_id')\n",
        "        .agg(\n",
        "            {\n",
        "                'purchase_date': 'first',\n",
        "                'loyalty_program': 'first',\n",
        "                'shop_id': 'first',\n",
        "            }\n",
        "        )\n",
        "        .rename(columns={'purchase_date': 'first_ts'})\n",
        "        .reset_index()\n",
        "    )\n",
        "\n",
        "    # для когортного анализа определяем дату первого посещения\n",
        "    # и первый день месяца, в который это посещение произошло\n",
        "    profiles['dt'] = profiles['first_ts'].dt.date\n",
        "    profiles['month'] = profiles['first_ts'].astype('datetime64[M]')\n",
        "\n",
        "    # считаем количество уникальных пользователей\n",
        "    # с одинаковыми источником и датой привлечения\n",
        "    new_users = (\n",
        "        profiles.groupby(['dt', 'loyalty_program'])\n",
        "        .agg({'customer_id': 'nunique'})\n",
        "        .rename(columns={'customer_id': 'unique_customer'})\n",
        "        .reset_index()\n",
        "    )\n",
        "\n",
        "    new_users['dt'] = pd.to_datetime(new_users['dt'])\n",
        "\n",
        "    return profiles"
      ]
    },
    {
      "cell_type": "code",
      "execution_count": 44,
      "metadata": {
        "colab": {
          "base_uri": "https://localhost:8080/",
          "height": 400
        },
        "id": "wrAceJsVWbnd",
        "outputId": "03df2a2f-27c0-4e39-9577-45cd41bd013a"
      },
      "outputs": [
        {
          "output_type": "display_data",
          "data": {
            "text/plain": [
              "   customer_id   first_ts  loyalty_program  shop_id          dt      month\n",
              "0            0 2016-12-01            False   Shop 0  2016-12-01 2016-12-01\n",
              "1        18026 2016-12-07            False  Shop 15  2016-12-07 2016-12-07\n",
              "2        18027 2016-12-16            False  Shop 22  2016-12-16 2016-12-16\n",
              "3        18029 2017-02-02            False   Shop 5  2017-02-02 2017-02-02\n",
              "4        18031 2017-02-16            False   Shop 5  2017-02-16 2017-02-16\n",
              "5        18035 2017-01-18            False  Shop 10  2017-01-18 2017-01-18\n",
              "6        18038 2017-01-12            False  Shop 18  2017-01-12 2017-01-12\n",
              "7        18040 2017-02-25            False  Shop 12  2017-02-25 2017-02-25\n",
              "8        18041 2017-02-17            False  Shop 12  2017-02-17 2017-02-17\n",
              "9        18044 2017-02-21            False  Shop 18  2017-02-21 2017-02-21"
            ],
            "text/html": [
              "\n",
              "  <div id=\"df-38789f64-f0a6-4247-b7f9-efdd6d392663\">\n",
              "    <div class=\"colab-df-container\">\n",
              "      <div>\n",
              "<style scoped>\n",
              "    .dataframe tbody tr th:only-of-type {\n",
              "        vertical-align: middle;\n",
              "    }\n",
              "\n",
              "    .dataframe tbody tr th {\n",
              "        vertical-align: top;\n",
              "    }\n",
              "\n",
              "    .dataframe thead th {\n",
              "        text-align: right;\n",
              "    }\n",
              "</style>\n",
              "<table border=\"1\" class=\"dataframe\">\n",
              "  <thead>\n",
              "    <tr style=\"text-align: right;\">\n",
              "      <th></th>\n",
              "      <th>customer_id</th>\n",
              "      <th>first_ts</th>\n",
              "      <th>loyalty_program</th>\n",
              "      <th>shop_id</th>\n",
              "      <th>dt</th>\n",
              "      <th>month</th>\n",
              "    </tr>\n",
              "  </thead>\n",
              "  <tbody>\n",
              "    <tr>\n",
              "      <th>0</th>\n",
              "      <td>0</td>\n",
              "      <td>2016-12-01</td>\n",
              "      <td>False</td>\n",
              "      <td>Shop 0</td>\n",
              "      <td>2016-12-01</td>\n",
              "      <td>2016-12-01</td>\n",
              "    </tr>\n",
              "    <tr>\n",
              "      <th>1</th>\n",
              "      <td>18026</td>\n",
              "      <td>2016-12-07</td>\n",
              "      <td>False</td>\n",
              "      <td>Shop 15</td>\n",
              "      <td>2016-12-07</td>\n",
              "      <td>2016-12-07</td>\n",
              "    </tr>\n",
              "    <tr>\n",
              "      <th>2</th>\n",
              "      <td>18027</td>\n",
              "      <td>2016-12-16</td>\n",
              "      <td>False</td>\n",
              "      <td>Shop 22</td>\n",
              "      <td>2016-12-16</td>\n",
              "      <td>2016-12-16</td>\n",
              "    </tr>\n",
              "    <tr>\n",
              "      <th>3</th>\n",
              "      <td>18029</td>\n",
              "      <td>2017-02-02</td>\n",
              "      <td>False</td>\n",
              "      <td>Shop 5</td>\n",
              "      <td>2017-02-02</td>\n",
              "      <td>2017-02-02</td>\n",
              "    </tr>\n",
              "    <tr>\n",
              "      <th>4</th>\n",
              "      <td>18031</td>\n",
              "      <td>2017-02-16</td>\n",
              "      <td>False</td>\n",
              "      <td>Shop 5</td>\n",
              "      <td>2017-02-16</td>\n",
              "      <td>2017-02-16</td>\n",
              "    </tr>\n",
              "    <tr>\n",
              "      <th>5</th>\n",
              "      <td>18035</td>\n",
              "      <td>2017-01-18</td>\n",
              "      <td>False</td>\n",
              "      <td>Shop 10</td>\n",
              "      <td>2017-01-18</td>\n",
              "      <td>2017-01-18</td>\n",
              "    </tr>\n",
              "    <tr>\n",
              "      <th>6</th>\n",
              "      <td>18038</td>\n",
              "      <td>2017-01-12</td>\n",
              "      <td>False</td>\n",
              "      <td>Shop 18</td>\n",
              "      <td>2017-01-12</td>\n",
              "      <td>2017-01-12</td>\n",
              "    </tr>\n",
              "    <tr>\n",
              "      <th>7</th>\n",
              "      <td>18040</td>\n",
              "      <td>2017-02-25</td>\n",
              "      <td>False</td>\n",
              "      <td>Shop 12</td>\n",
              "      <td>2017-02-25</td>\n",
              "      <td>2017-02-25</td>\n",
              "    </tr>\n",
              "    <tr>\n",
              "      <th>8</th>\n",
              "      <td>18041</td>\n",
              "      <td>2017-02-17</td>\n",
              "      <td>False</td>\n",
              "      <td>Shop 12</td>\n",
              "      <td>2017-02-17</td>\n",
              "      <td>2017-02-17</td>\n",
              "    </tr>\n",
              "    <tr>\n",
              "      <th>9</th>\n",
              "      <td>18044</td>\n",
              "      <td>2017-02-21</td>\n",
              "      <td>False</td>\n",
              "      <td>Shop 18</td>\n",
              "      <td>2017-02-21</td>\n",
              "      <td>2017-02-21</td>\n",
              "    </tr>\n",
              "  </tbody>\n",
              "</table>\n",
              "</div>\n",
              "      <button class=\"colab-df-convert\" onclick=\"convertToInteractive('df-38789f64-f0a6-4247-b7f9-efdd6d392663')\"\n",
              "              title=\"Convert this dataframe to an interactive table.\"\n",
              "              style=\"display:none;\">\n",
              "        \n",
              "  <svg xmlns=\"http://www.w3.org/2000/svg\" height=\"24px\"viewBox=\"0 0 24 24\"\n",
              "       width=\"24px\">\n",
              "    <path d=\"M0 0h24v24H0V0z\" fill=\"none\"/>\n",
              "    <path d=\"M18.56 5.44l.94 2.06.94-2.06 2.06-.94-2.06-.94-.94-2.06-.94 2.06-2.06.94zm-11 1L8.5 8.5l.94-2.06 2.06-.94-2.06-.94L8.5 2.5l-.94 2.06-2.06.94zm10 10l.94 2.06.94-2.06 2.06-.94-2.06-.94-.94-2.06-.94 2.06-2.06.94z\"/><path d=\"M17.41 7.96l-1.37-1.37c-.4-.4-.92-.59-1.43-.59-.52 0-1.04.2-1.43.59L10.3 9.45l-7.72 7.72c-.78.78-.78 2.05 0 2.83L4 21.41c.39.39.9.59 1.41.59.51 0 1.02-.2 1.41-.59l7.78-7.78 2.81-2.81c.8-.78.8-2.07 0-2.86zM5.41 20L4 18.59l7.72-7.72 1.47 1.35L5.41 20z\"/>\n",
              "  </svg>\n",
              "      </button>\n",
              "      \n",
              "  <style>\n",
              "    .colab-df-container {\n",
              "      display:flex;\n",
              "      flex-wrap:wrap;\n",
              "      gap: 12px;\n",
              "    }\n",
              "\n",
              "    .colab-df-convert {\n",
              "      background-color: #E8F0FE;\n",
              "      border: none;\n",
              "      border-radius: 50%;\n",
              "      cursor: pointer;\n",
              "      display: none;\n",
              "      fill: #1967D2;\n",
              "      height: 32px;\n",
              "      padding: 0 0 0 0;\n",
              "      width: 32px;\n",
              "    }\n",
              "\n",
              "    .colab-df-convert:hover {\n",
              "      background-color: #E2EBFA;\n",
              "      box-shadow: 0px 1px 2px rgba(60, 64, 67, 0.3), 0px 1px 3px 1px rgba(60, 64, 67, 0.15);\n",
              "      fill: #174EA6;\n",
              "    }\n",
              "\n",
              "    [theme=dark] .colab-df-convert {\n",
              "      background-color: #3B4455;\n",
              "      fill: #D2E3FC;\n",
              "    }\n",
              "\n",
              "    [theme=dark] .colab-df-convert:hover {\n",
              "      background-color: #434B5C;\n",
              "      box-shadow: 0px 1px 3px 1px rgba(0, 0, 0, 0.15);\n",
              "      filter: drop-shadow(0px 1px 2px rgba(0, 0, 0, 0.3));\n",
              "      fill: #FFFFFF;\n",
              "    }\n",
              "  </style>\n",
              "\n",
              "      <script>\n",
              "        const buttonEl =\n",
              "          document.querySelector('#df-38789f64-f0a6-4247-b7f9-efdd6d392663 button.colab-df-convert');\n",
              "        buttonEl.style.display =\n",
              "          google.colab.kernel.accessAllowed ? 'block' : 'none';\n",
              "\n",
              "        async function convertToInteractive(key) {\n",
              "          const element = document.querySelector('#df-38789f64-f0a6-4247-b7f9-efdd6d392663');\n",
              "          const dataTable =\n",
              "            await google.colab.kernel.invokeFunction('convertToInteractive',\n",
              "                                                     [key], {});\n",
              "          if (!dataTable) return;\n",
              "\n",
              "          const docLinkHtml = 'Like what you see? Visit the ' +\n",
              "            '<a target=\"_blank\" href=https://colab.research.google.com/notebooks/data_table.ipynb>data table notebook</a>'\n",
              "            + ' to learn more about interactive tables.';\n",
              "          element.innerHTML = '';\n",
              "          dataTable['output_type'] = 'display_data';\n",
              "          await google.colab.output.renderOutput(dataTable, element);\n",
              "          const docLink = document.createElement('div');\n",
              "          docLink.innerHTML = docLinkHtml;\n",
              "          element.appendChild(docLink);\n",
              "        }\n",
              "      </script>\n",
              "    </div>\n",
              "  </div>\n",
              "  "
            ]
          },
          "metadata": {}
        },
        {
          "output_type": "stream",
          "name": "stdout",
          "text": [
            "2016-12-01\n",
            "2017-02-28\n"
          ]
        }
      ],
      "source": [
        "# строим профили по двум наборам данных\n",
        "profiles = get_profiles(df)\n",
        "\n",
        "# доступный интервал привлечения пользователей\n",
        "min_analysis_date = profiles['dt'].min()\n",
        "observation_date = profiles['dt'].max()  # момент анализа\n",
        "    \n",
        "display(profiles.head(10))\n",
        "print(min_analysis_date)\n",
        "print(observation_date)"
      ]
    },
    {
      "cell_type": "code",
      "execution_count": 45,
      "metadata": {
        "id": "A5Kh7npWWbnd"
      },
      "outputs": [],
      "source": [
        "def get_ltv(\n",
        "    profiles,  # Шаг 1. Получить профили и данные о покупках\n",
        "    purchases,\n",
        "    observation_date,\n",
        "    horizon_days,\n",
        "    dimensions=[],\n",
        "    ignore_horizon=False,\n",
        "):\n",
        "\n",
        "    # исключаем пользователей, не «доживших» до горизонта анализа\n",
        "    last_suitable_acquisition_date = observation_date\n",
        "    if not ignore_horizon:\n",
        "        last_suitable_acquisition_date = observation_date - timedelta(\n",
        "            days=horizon_days - 1\n",
        "        )\n",
        "    result_raw = profiles.query('dt <= @last_suitable_acquisition_date')\n",
        "\n",
        "    # Шаг 2. Добавить данные о покупках в профили\n",
        "\n",
        "    result_raw = result_raw.merge(\n",
        "        # добавляем в профили время совершения покупок и выручку\n",
        "        purchases[['customer_id', 'purchase_date', 'revenue']],\n",
        "        on='customer_id',\n",
        "        how='left',\n",
        "    )\n",
        "\n",
        "    # Шаг 3. Рассчитать лайфтайм пользователя для каждой покупки\n",
        "    result_raw['lifetime'] = (\n",
        "        result_raw['purchase_date'] - result_raw['first_ts']\n",
        "    ).dt.days\n",
        "\n",
        "    # группируем по cohort, если в dimensions ничего нет\n",
        "    if len(dimensions) == 0:\n",
        "        result_raw['cohort'] = 'All users'\n",
        "        dimensions = dimensions + ['cohort']\n",
        "        \n",
        "    # добавляем стоимость подписки в каждый первый доступный день месяца\n",
        "    loyalty_rows = result_raw[result_raw['loyalty_program'] == True]\n",
        "    first_month_date = loyalty_rows.groupby(['customer_id', 'month'])['dt'].min()\n",
        "    first_month_date_index = list(first_month_date.index)\n",
        "\n",
        "    for customer_id, month in first_month_date_index:\n",
        "        result_raw.loc[(result_raw['customer_id'] == customer_id) & (result_raw['month'] == month), 'revenue'] += 200\n",
        "\n",
        "    # функция для группировки таблицы по желаемым признакам\n",
        "    def group_by_dimensions(df, dims, horizon_days):\n",
        "\n",
        "        # Шаг 4. Построить таблицу выручки\n",
        "        # строим «треугольную» таблицу\n",
        "        result = df.pivot_table(\n",
        "            index=dims,\n",
        "            columns='lifetime',\n",
        "            values='revenue',  # в ячейках — выручка за каждый лайфтайм\n",
        "            aggfunc='sum',\n",
        "        )\n",
        "\n",
        "        # Шаг 5. Посчитать сумму выручки с накоплением\n",
        "        result = result.fillna(0).cumsum(axis=1)\n",
        "\n",
        "        # Шаг 6. Вычислить размеры когорт\n",
        "        cohort_sizes = (\n",
        "            df.groupby(dims)\n",
        "            .agg({'customer_id': 'nunique'})\n",
        "            .rename(columns={'customer_id': 'cohort_size'})\n",
        "        )\n",
        "\n",
        "        # Шаг 7. Объединить размеры когорт и таблицу выручки\n",
        "        result = cohort_sizes.merge(result, on=dims, how='left').fillna(0)\n",
        "\n",
        "        # Шаг 8. Посчитать LTV\n",
        "        # делим каждую «ячейку» в строке на размер когорты\n",
        "        result = result.div(result['cohort_size'], axis=0)\n",
        "        # исключаем все лайфтаймы, превышающие горизонт анализа\n",
        "        result = result[['cohort_size'] + list(range(horizon_days))]\n",
        "        # восстанавливаем размеры когорт\n",
        "        result['cohort_size'] = cohort_sizes\n",
        "        return result\n",
        "\n",
        "    # получаем таблицу LTV\n",
        "    result_grouped = group_by_dimensions(result_raw, dimensions, horizon_days)\n",
        "\n",
        "    # для таблицы динамики LTV убираем 'cohort' из dimensions\n",
        "    if 'cohort' in dimensions:\n",
        "        dimensions = []\n",
        "    # получаем таблицу динамики LTV\n",
        "    result_in_time = group_by_dimensions(\n",
        "        result_raw, dimensions + ['dt'], horizon_days\n",
        "    )\n",
        "\n",
        "    # возвращаем обе таблицы LTV и сырые данные\n",
        "    return result_raw, result_grouped, result_in_time"
      ]
    },
    {
      "cell_type": "code",
      "execution_count": 46,
      "metadata": {
        "colab": {
          "base_uri": "https://localhost:8080/",
          "height": 424
        },
        "id": "-mlWGSEnWbne",
        "outputId": "11047548-83f7-4cfb-b4f4-63f55c08efe4"
      },
      "outputs": [
        {
          "output_type": "execute_result",
          "data": {
            "text/plain": [
              "      customer_id purchase_date       revenue\n",
              "0               0    2016-12-01   5427.464343\n",
              "1               0    2016-12-02    412.183778\n",
              "2               0    2016-12-03  12156.558298\n",
              "3               0    2016-12-05      0.000000\n",
              "4               0    2016-12-06  10075.745609\n",
              "...           ...           ...           ...\n",
              "3147        23939    2017-01-09    738.457202\n",
              "3148        23948    2016-12-08    197.537500\n",
              "3149        23962    2017-01-06     12.361000\n",
              "3150        23962    2017-01-23     37.242500\n",
              "3151        23962    2017-02-28     52.415333\n",
              "\n",
              "[3152 rows x 3 columns]"
            ],
            "text/html": [
              "\n",
              "  <div id=\"df-ac8d0c36-5350-43a8-943b-62d517a45266\">\n",
              "    <div class=\"colab-df-container\">\n",
              "      <div>\n",
              "<style scoped>\n",
              "    .dataframe tbody tr th:only-of-type {\n",
              "        vertical-align: middle;\n",
              "    }\n",
              "\n",
              "    .dataframe tbody tr th {\n",
              "        vertical-align: top;\n",
              "    }\n",
              "\n",
              "    .dataframe thead th {\n",
              "        text-align: right;\n",
              "    }\n",
              "</style>\n",
              "<table border=\"1\" class=\"dataframe\">\n",
              "  <thead>\n",
              "    <tr style=\"text-align: right;\">\n",
              "      <th></th>\n",
              "      <th>customer_id</th>\n",
              "      <th>purchase_date</th>\n",
              "      <th>revenue</th>\n",
              "    </tr>\n",
              "  </thead>\n",
              "  <tbody>\n",
              "    <tr>\n",
              "      <th>0</th>\n",
              "      <td>0</td>\n",
              "      <td>2016-12-01</td>\n",
              "      <td>5427.464343</td>\n",
              "    </tr>\n",
              "    <tr>\n",
              "      <th>1</th>\n",
              "      <td>0</td>\n",
              "      <td>2016-12-02</td>\n",
              "      <td>412.183778</td>\n",
              "    </tr>\n",
              "    <tr>\n",
              "      <th>2</th>\n",
              "      <td>0</td>\n",
              "      <td>2016-12-03</td>\n",
              "      <td>12156.558298</td>\n",
              "    </tr>\n",
              "    <tr>\n",
              "      <th>3</th>\n",
              "      <td>0</td>\n",
              "      <td>2016-12-05</td>\n",
              "      <td>0.000000</td>\n",
              "    </tr>\n",
              "    <tr>\n",
              "      <th>4</th>\n",
              "      <td>0</td>\n",
              "      <td>2016-12-06</td>\n",
              "      <td>10075.745609</td>\n",
              "    </tr>\n",
              "    <tr>\n",
              "      <th>...</th>\n",
              "      <td>...</td>\n",
              "      <td>...</td>\n",
              "      <td>...</td>\n",
              "    </tr>\n",
              "    <tr>\n",
              "      <th>3147</th>\n",
              "      <td>23939</td>\n",
              "      <td>2017-01-09</td>\n",
              "      <td>738.457202</td>\n",
              "    </tr>\n",
              "    <tr>\n",
              "      <th>3148</th>\n",
              "      <td>23948</td>\n",
              "      <td>2016-12-08</td>\n",
              "      <td>197.537500</td>\n",
              "    </tr>\n",
              "    <tr>\n",
              "      <th>3149</th>\n",
              "      <td>23962</td>\n",
              "      <td>2017-01-06</td>\n",
              "      <td>12.361000</td>\n",
              "    </tr>\n",
              "    <tr>\n",
              "      <th>3150</th>\n",
              "      <td>23962</td>\n",
              "      <td>2017-01-23</td>\n",
              "      <td>37.242500</td>\n",
              "    </tr>\n",
              "    <tr>\n",
              "      <th>3151</th>\n",
              "      <td>23962</td>\n",
              "      <td>2017-02-28</td>\n",
              "      <td>52.415333</td>\n",
              "    </tr>\n",
              "  </tbody>\n",
              "</table>\n",
              "<p>3152 rows × 3 columns</p>\n",
              "</div>\n",
              "      <button class=\"colab-df-convert\" onclick=\"convertToInteractive('df-ac8d0c36-5350-43a8-943b-62d517a45266')\"\n",
              "              title=\"Convert this dataframe to an interactive table.\"\n",
              "              style=\"display:none;\">\n",
              "        \n",
              "  <svg xmlns=\"http://www.w3.org/2000/svg\" height=\"24px\"viewBox=\"0 0 24 24\"\n",
              "       width=\"24px\">\n",
              "    <path d=\"M0 0h24v24H0V0z\" fill=\"none\"/>\n",
              "    <path d=\"M18.56 5.44l.94 2.06.94-2.06 2.06-.94-2.06-.94-.94-2.06-.94 2.06-2.06.94zm-11 1L8.5 8.5l.94-2.06 2.06-.94-2.06-.94L8.5 2.5l-.94 2.06-2.06.94zm10 10l.94 2.06.94-2.06 2.06-.94-2.06-.94-.94-2.06-.94 2.06-2.06.94z\"/><path d=\"M17.41 7.96l-1.37-1.37c-.4-.4-.92-.59-1.43-.59-.52 0-1.04.2-1.43.59L10.3 9.45l-7.72 7.72c-.78.78-.78 2.05 0 2.83L4 21.41c.39.39.9.59 1.41.59.51 0 1.02-.2 1.41-.59l7.78-7.78 2.81-2.81c.8-.78.8-2.07 0-2.86zM5.41 20L4 18.59l7.72-7.72 1.47 1.35L5.41 20z\"/>\n",
              "  </svg>\n",
              "      </button>\n",
              "      \n",
              "  <style>\n",
              "    .colab-df-container {\n",
              "      display:flex;\n",
              "      flex-wrap:wrap;\n",
              "      gap: 12px;\n",
              "    }\n",
              "\n",
              "    .colab-df-convert {\n",
              "      background-color: #E8F0FE;\n",
              "      border: none;\n",
              "      border-radius: 50%;\n",
              "      cursor: pointer;\n",
              "      display: none;\n",
              "      fill: #1967D2;\n",
              "      height: 32px;\n",
              "      padding: 0 0 0 0;\n",
              "      width: 32px;\n",
              "    }\n",
              "\n",
              "    .colab-df-convert:hover {\n",
              "      background-color: #E2EBFA;\n",
              "      box-shadow: 0px 1px 2px rgba(60, 64, 67, 0.3), 0px 1px 3px 1px rgba(60, 64, 67, 0.15);\n",
              "      fill: #174EA6;\n",
              "    }\n",
              "\n",
              "    [theme=dark] .colab-df-convert {\n",
              "      background-color: #3B4455;\n",
              "      fill: #D2E3FC;\n",
              "    }\n",
              "\n",
              "    [theme=dark] .colab-df-convert:hover {\n",
              "      background-color: #434B5C;\n",
              "      box-shadow: 0px 1px 3px 1px rgba(0, 0, 0, 0.15);\n",
              "      filter: drop-shadow(0px 1px 2px rgba(0, 0, 0, 0.3));\n",
              "      fill: #FFFFFF;\n",
              "    }\n",
              "  </style>\n",
              "\n",
              "      <script>\n",
              "        const buttonEl =\n",
              "          document.querySelector('#df-ac8d0c36-5350-43a8-943b-62d517a45266 button.colab-df-convert');\n",
              "        buttonEl.style.display =\n",
              "          google.colab.kernel.accessAllowed ? 'block' : 'none';\n",
              "\n",
              "        async function convertToInteractive(key) {\n",
              "          const element = document.querySelector('#df-ac8d0c36-5350-43a8-943b-62d517a45266');\n",
              "          const dataTable =\n",
              "            await google.colab.kernel.invokeFunction('convertToInteractive',\n",
              "                                                     [key], {});\n",
              "          if (!dataTable) return;\n",
              "\n",
              "          const docLinkHtml = 'Like what you see? Visit the ' +\n",
              "            '<a target=\"_blank\" href=https://colab.research.google.com/notebooks/data_table.ipynb>data table notebook</a>'\n",
              "            + ' to learn more about interactive tables.';\n",
              "          element.innerHTML = '';\n",
              "          dataTable['output_type'] = 'display_data';\n",
              "          await google.colab.output.renderOutput(dataTable, element);\n",
              "          const docLink = document.createElement('div');\n",
              "          docLink.innerHTML = docLinkHtml;\n",
              "          element.appendChild(docLink);\n",
              "        }\n",
              "      </script>\n",
              "    </div>\n",
              "  </div>\n",
              "  "
            ]
          },
          "metadata": {},
          "execution_count": 46
        }
      ],
      "source": [
        "#Собираем данные\n",
        "purchases = df.groupby(['customer_id', 'purchase_date']).agg({'revenue':'sum'}).reset_index()\n",
        "purchases"
      ]
    },
    {
      "cell_type": "code",
      "execution_count": 47,
      "metadata": {
        "colab": {
          "base_uri": "https://localhost:8080/",
          "height": 573
        },
        "id": "LqQL4FYsWbnf",
        "outputId": "d6a11aab-e92a-40e1-84d4-c1ea50fbf2e7"
      },
      "outputs": [
        {
          "output_type": "display_data",
          "data": {
            "text/plain": [
              "<Figure size 1800x700 with 1 Axes>"
            ],
            "image/png": "[encoded data removed]"
          },
          "metadata": {}
        }
      ],
      "source": [
        "ltv_raw, ltv, ltv_history = get_ltv(profiles, purchases, datetime(2017, 2, 28).date(), 60, dimensions=['loyalty_program'])\n",
        "\n",
        "report = ltv.drop(columns=['cohort_size'])\n",
        "report.T.plot(grid=True, figsize=(18, 7), xticks=list(report.columns.values))\n",
        "plt.title('LTV клиента (с картой/без)')\n",
        "plt.ylabel('LTV, у.е.')\n",
        "plt.xlabel('Лайфтайм')\n",
        "plt.legend(title='Участие в программе', labels=['Без карты','С картой'])\n",
        "plt.show()"
      ]
    },
    {
      "cell_type": "markdown",
      "metadata": {
        "id": "N6pn7YhMWbnf"
      },
      "source": [
        "**Вывод**\n",
        "\n",
        "Судя по графику, LTV у пользователей с картой в самом начале превышало, но потом у пользователей без карты стало выше, и тренд сохранился."
      ]
    },
    {
      "cell_type": "markdown",
      "metadata": {
        "id": "wMK8EVkHWbnf"
      },
      "source": [
        "### Вывод.\n",
        "\n",
        "В программе лояльности участвует 560 человек. Это составляет 33,6% от всех покупателей.\n",
        "\n",
        "Данная акция запущена в 4 магазинах. Это Shop 0, 'Shop 28', 'Shop 8', 'Shop 19'\n",
        "\n",
        "Расчеты производились с учетом дополнительной оплаты программы лояльности клиентами. Если считать без нее, то показатели будут хуже.\n",
        "\n",
        "Средний(медианный) чек у клиентов c картой лояльности выше, чем без нее.\n",
        "\n",
        "LTV у пользователей с картой выше, чем без. Поэтому вывод, что общую сумму денег, которую один клиент в среднем приносит компании со всех своих покупок больше - хороший показатель.\n",
        "\n",
        "Считаю, что программа лояльности работает и будет дальше улучшать показатели. Клиенты с картами лояльности пприносят больше выручки(средний чек выше)."
      ]
    },
    {
      "cell_type": "markdown",
      "metadata": {
        "id": "NbtLBj9AWbnf"
      },
      "source": [
        "## Сформулировать и проверить статистические гипотезы:"
      ]
    },
    {
      "cell_type": "markdown",
      "metadata": {
        "id": "K5-E7uT_Wbng"
      },
      "source": [
        "### Проверить гипотезу: средний чек в декабре участников программы лояльности выше, чем у остальных покупателей. Для проверки гипотезы можно использовать t-тест Стьюдента."
      ]
    },
    {
      "cell_type": "markdown",
      "metadata": {
        "id": "6vp5QyCXWbng"
      },
      "source": [
        "**Гипотезы:**\n",
        "\n",
        "Н0 - средний чек в декабре у покупателей с программой лояльности и без программы лояльности равны.\n",
        "\n",
        "Н1 - средние чеки не равны."
      ]
    },
    {
      "cell_type": "code",
      "execution_count": 48,
      "metadata": {
        "colab": {
          "base_uri": "https://localhost:8080/"
        },
        "id": "SPov3dr9Wbng",
        "outputId": "075c945f-77bb-43ff-855d-6c5573dd7a22"
      },
      "outputs": [
        {
          "output_type": "stream",
          "name": "stdout",
          "text": [
            "p-значение: 0.008922176986894991\n",
            "Отвергаем нулевую гипотезу. Средние чеки не равны.\n"
          ]
        }
      ],
      "source": [
        "    # Агрегируем и фильтруем данные по декабрю\n",
        "    december_check = (df[df['purchase_month'] == 12]\n",
        "                    .groupby(['loyalty_program','purchase_id','purchase_date'])\n",
        "                    .agg({'revenue':'sum'}).reset_index())\n",
        "\n",
        "\n",
        "    # Проводим t-тест\n",
        "    p_value = stats.ttest_ind(december_check[december_check['loyalty_program']==True]['revenue'], \n",
        "                              december_check[december_check['loyalty_program']==False]['revenue'])[1]\n",
        "\n",
        "    # Определяем уровень значимости\n",
        "    alpha = 0.05\n",
        "\n",
        "    print('p-значение:', p_value)\n",
        "\n",
        "    # Проверка статистической значимости результатов\n",
        "    if p_value < alpha:\n",
        "        print(\"Отвергаем нулевую гипотезу. Средние чеки не равны.\")\n",
        "    else:\n",
        "        print(\"Не получилось отвергнуть нулевую гипотезу. Средние чеки равны.\")"
      ]
    },
    {
      "cell_type": "markdown",
      "metadata": {
        "id": "TTkjx4pxWbng"
      },
      "source": [
        "**Вывод**\n",
        "\n",
        "У нас подтвердилась гипотеза о том, что средние чеки не равны. У лояльных клиентов они выше. До этого мы строили график и он это тоже наглядно показывал."
      ]
    },
    {
      "cell_type": "markdown",
      "metadata": {
        "id": "1JnmRUmtWbnh"
      },
      "source": [
        "###  Проверить гипотезу: доля покупок в декабре в чеке у участников программы лояльности значимо выше, чем у неучастников."
      ]
    },
    {
      "cell_type": "markdown",
      "metadata": {
        "id": "IZVuPizBWbnh"
      },
      "source": [
        "**Гипотезы:**\n",
        "    \n",
        "Н0 - доля покупок в декабре в чеке с картой и без карты равно.\n",
        "\n",
        "Н1 - доля покупок в декабре в чеке с картой и без карты не равны."
      ]
    },
    {
      "cell_type": "code",
      "execution_count": 49,
      "metadata": {
        "colab": {
          "base_uri": "https://localhost:8080/"
        },
        "id": "zUZtMQaJWbnh",
        "outputId": "b6b0df98-b583-49f2-c936-738bafcd6b28"
      },
      "outputs": [
        {
          "output_type": "stream",
          "name": "stdout",
          "text": [
            "p-значение: 0.012613043836771753\n",
            "Отвергаем нулевую гипотезу. Доли покупок в декабре в чеке с картой и без карты не равны.\n"
          ]
        }
      ],
      "source": [
        "# Агрегируем и фильтруем данные по декабрю\n",
        "december_purchase = (df[df['purchase_month'] == 12]\n",
        "                     .groupby(['loyalty_program'])\n",
        "                     .agg({'purchase_id':'nunique'}).reset_index())\n",
        "total_purchase = (df.groupby(['loyalty_program'])\n",
        "                     .agg({'purchase_id':'nunique'}).reset_index())\n",
        "# Подсчет количества покупок с картой в декабре\n",
        "with_card_count_december = december_purchase['purchase_id'][1]\n",
        "# Подсчет количества покупок без карты в декабре\n",
        "without_card_count_december = december_purchase['purchase_id'][0]\n",
        "# Подсчет общего количества покупок c картой\n",
        "with_card_count = total_purchase['purchase_id'][1]\n",
        "# Подсчет общего количества покупок без карты\n",
        "without_card_count = total_purchase['purchase_id'][0]\n",
        "purchases = np.array([with_card_count_december, without_card_count_december])\n",
        "leads = np.array([with_card_count, without_card_count])\n",
        "\n",
        "# пропорция успехов в первой группе:\n",
        "p1 = purchases[0] / leads[0]\n",
        "# пропорция успехов во второй группе:\n",
        "p2 = purchases[1] / leads[1]\n",
        "# пропорция успехов в комбинированном датасете:\n",
        "p_combined = (purchases[0] + purchases[1]) / (leads[0] + leads[1])\n",
        "# разница пропорций в датасетах\n",
        "difference = p1 - p2\n",
        "z_value = difference / mth.sqrt(p_combined * (1 - p_combined) * (1 / leads[0] + 1 / leads[1]))\n",
        "# задаем стандартное нормальное распределение (среднее 0, ст.отклонение 1)\n",
        "distr = st.norm(0, 1)\n",
        "p_value = (1 - distr.cdf(abs(z_value))) * 2\n",
        "print('p-значение:', p_value)\n",
        "alpha = 0.05\n",
        "# Проверка статистической значимости результатов\n",
        "if p_value < alpha:\n",
        "    print(\"Отвергаем нулевую гипотезу. Доли покупок в декабре в чеке с картой и без карты не равны.\")\n",
        "else:\n",
        "    print(\"Не получилось отвергнуть нулевую гипотезу. Доля покупок в декабре в чеке с картой и без карты равны.\")"
      ]
    },
    {
      "cell_type": "markdown",
      "metadata": {
        "id": "6dfOdIuuWbnh"
      },
      "source": [
        "**Вывод**\n",
        "\n",
        "Доля покупок в декабре в чеке с картой и без карты не равны. У лояльных клиентов доля покупок больше."
      ]
    },
    {
      "cell_type": "markdown",
      "metadata": {
        "id": "qtFS-fR0Wbni"
      },
      "source": [
        "###  Проверить гипотезу: доля пользователей совершивших повторную покупку в группе лояльности и без не отличается."
      ]
    },
    {
      "cell_type": "markdown",
      "metadata": {
        "id": "QAaQvI-wWbni"
      },
      "source": [
        "**Гипотезы:**\n",
        "    \n",
        "Н0 - доля пользователей совершивших повторную покупку с картой и без карты равно.\n",
        "\n",
        "Н1 - доля пользователей совершивших повторную покупку с картой и без карты не равны."
      ]
    },
    {
      "cell_type": "code",
      "execution_count": 50,
      "metadata": {
        "colab": {
          "base_uri": "https://localhost:8080/"
        },
        "id": "RDKz4G02Wbni",
        "outputId": "cd72db28-bef9-4cd7-c3a4-0e5ff43b8453"
      },
      "outputs": [
        {
          "output_type": "stream",
          "name": "stdout",
          "text": [
            "p-значение: 0.0907885411606959\n",
            "Не получилось отвергнуть нулевую гипотезу. Доли пользователей совершивших повторную покупку с картой и без карты равны.\n"
          ]
        }
      ],
      "source": [
        "# Сгруппируем данные\n",
        "purchase_without_card = (df[df['loyalty_program'] == False]\n",
        "                         .groupby('customer_id')\n",
        "                         .agg({'purchase_id':'nunique'}).reset_index())\n",
        "purchase_with_card = (df[df['loyalty_program'] == True]\n",
        "                      .groupby('customer_id')\n",
        "                      .agg({'purchase_id':'nunique'}).reset_index())\n",
        "\n",
        "purchases = np.array([purchase_without_card[purchase_without_card['purchase_id'] > 1]['purchase_id'].sum(), \n",
        "                      purchase_with_card[purchase_with_card['purchase_id'] > 1]['purchase_id'].sum()])\n",
        "leads = np.array([purchase_without_card['purchase_id'].sum(), \n",
        "                  purchase_with_card['purchase_id'].sum()])\n",
        "\n",
        "\n",
        "# пропорция успехов в первой группе:\n",
        "p1 = purchases[0] / leads[0]\n",
        "# пропорция успехов во второй группе:\n",
        "p2 = purchases[1] / leads[1]\n",
        "# пропорция успехов в комбинированном датасете:\n",
        "p_combined = (purchases[0] + purchases[1]) / (leads[0] + leads[1])\n",
        "# разница пропорций в датасетах\n",
        "difference = p1 - p2\n",
        "z_value = difference / mth.sqrt(p_combined * (1 - p_combined) * (1 / leads[0] + 1 / leads[1]))\n",
        "# задаем стандартное нормальное распределение (среднее 0, ст.отклонение 1)\n",
        "distr = st.norm(0, 1)\n",
        "p_value = (1 - distr.cdf(abs(z_value))) * 2\n",
        "print('p-значение:', p_value)\n",
        "alpha = 0.05\n",
        "\n",
        "# Проверьте статистическую значимость результатов\n",
        "if p_value < alpha:\n",
        "    print(\"Отвергаем нулевую гипотезу. Доли пользователей совершивших повторную покупку с картой и без карты не равны.\")\n",
        "else:\n",
        "    print(\"Не получилось отвергнуть нулевую гипотезу. Доли пользователей совершивших повторную покупку с картой и без карты равны.\")"
      ]
    },
    {
      "cell_type": "markdown",
      "metadata": {
        "id": "TQkyB4UhWbnj"
      },
      "source": [
        "**Вывод**\n",
        " \n",
        "Доли пользователей совершивших повторную покупку с картой и без карты равны."
      ]
    },
    {
      "cell_type": "markdown",
      "metadata": {
        "id": "Hg29jpZSWbnj"
      },
      "source": [
        "## Сформулировать выводы и рекомендации по результатам анализа данных:"
      ]
    },
    {
      "cell_type": "markdown",
      "metadata": {
        "id": "gcE4-kiyWbnk"
      },
      "source": [
        "### Вывод:\n",
        "\n",
        "Количество уникальных покупателей: 1680\n",
        "Количество уникальных магазинов: 31\n",
        "Количество уникальных товаров: 3101\n",
        "Количество уникальных чеков: 3868\n",
        "\n",
        "\n",
        "Период данных - с 01.12.2016 по 28.02.2017.\n",
        "\n",
        "Общая выручка за весь период составила 2262658.0 у.е.\n",
        "\n",
        "По столбчатому графику видим, что самая большая выручка в декабре и самая маленькая в феврале. \n",
        "\n",
        "По второму столбчатому графику видим, что есть дни, в которых выручка нулевая (можно предположить, что магазины не работали). \n",
        "\n",
        "Средняя выручка в сутки составила 33274 у.е., максимальная - 75631 у.е.\n",
        "\n",
        "Cамое большое количество покупателей приходится на декабрь. И нет посетителей в первые дни января, ввиду праздников и возможного закрытия магазинов. Также есть и другие дни, в которых нет покупателей, скорее всего это выходные. \n",
        "\n",
        "У нас 31 магазин.\n",
        "\n",
        "Самый крупный из них по выручке - Shop 0. Выручка за изучаемый период в нем составила 1,82 М у.е.\n",
        "\n",
        "В тройку лучших по выручке входит:\n",
        "Shop 3: 104097 у.е.\n",
        "Shop 6: 62930 у.е.\n",
        "\n",
        "У остальных она меньше.\n",
        "\n",
        "Самый крупный из них по сумме среднего чека - Shop 3. Она в нем составила 8007 у.е.\n",
        "\n",
        "В тройку лучших входят:\n",
        "Shop 14: 5376 у.е.\n",
        "Shop 24: 3917 у.е.\n",
        "\n",
        "Самое большое количество покупателей также у Shop 0. Пришло 3377 клиентов.\n",
        "\n",
        "В остальных магазинах количество покупателей незначительно.\n",
        "\n",
        "В программе лояльности участвует 560 человек. Это составляет 33,6% от всех покупателей.\n",
        "\n",
        "Данная акция запущена в 4 магазинах. Это Shop 0, 'Shop 28', 'Shop 8', 'Shop 19'.\n",
        "\n",
        "Средний(медианный) чек у клиентов c картой лояльности выше, чем без нее.\n",
        "\n",
        "LTV у пользователей с картой ниже, чем с картой. Поэтому вывод, что общую сумму денег приносят компании клиенты без программы лояльности.\n",
        "\n",
        "Считаю, что программа лояльности работает, но пока недостаточно эффективно.\n",
        "\n",
        "После проверки гипотез сделаем вывод: программа работает, но не во всем. Средний чек у участников программы лояльности выше, чем не у лояльных. В декабре доля покупок больше у лояльных клиентов, чем не у лояльных."
      ]
    },
    {
      "cell_type": "markdown",
      "metadata": {
        "id": "5Pk1bVliWbnk"
      },
      "source": [
        "### Дать рекомендации по улучшению программы лояльности и ее эффективности.\n",
        "Распространить программу лояльности на другие магазины сети. Пока она есть только у 4 магазинов.\n",
        "Следует посмотреть данные за более продолжительный период и так как магазины строительные, то лучше учесть данные за летний период.\n",
        "Понять как программа лояльности действует на оптовые заказы, если таковые есть.\n",
        "Проанализировать финансовую деятельность всех магазинов, так как основную часть выручки приносит один."
      ]
    },
    {
      "cell_type": "markdown",
      "source": [
        "Дашборд - https://public.tableau.com/app/profile/sergei.iurinov/viz/Retail_16850011250550/Dashboard2?publish=yes\n",
        "\n",
        "Презентация - https://disk.yandex.ru/i/3W9NeBZ9THMbBg"
      ],
      "metadata": {
        "id": "TGehFJ-jXtXg"
      }
    }
  ],
  "metadata": {
    "ExecuteTimeLog": [
      {
        "duration": 1390,
        "start_time": "2023-05-16T16:42:52.660Z"
      },
      {
        "duration": 556,
        "start_time": "2023-05-16T16:43:51.492Z"
      },
      {
        "duration": 88,
        "start_time": "2023-05-16T16:46:41.855Z"
      },
      {
        "duration": 26,
        "start_time": "2023-05-16T16:48:46.284Z"
      },
      {
        "duration": 1341,
        "start_time": "2023-05-16T17:12:38.264Z"
      },
      {
        "duration": 165,
        "start_time": "2023-05-16T17:12:39.613Z"
      },
      {
        "duration": 38,
        "start_time": "2023-05-16T17:12:39.780Z"
      },
      {
        "duration": 14,
        "start_time": "2023-05-16T17:12:39.820Z"
      },
      {
        "duration": 127,
        "start_time": "2023-05-16T17:12:39.837Z"
      },
      {
        "duration": 16,
        "start_time": "2023-05-16T17:14:18.835Z"
      },
      {
        "duration": 65,
        "start_time": "2023-05-16T17:18:00.803Z"
      },
      {
        "duration": 128,
        "start_time": "2023-05-16T17:18:18.763Z"
      },
      {
        "duration": 58,
        "start_time": "2023-05-16T17:19:26.670Z"
      },
      {
        "duration": 68,
        "start_time": "2023-05-16T17:24:07.137Z"
      },
      {
        "duration": 8,
        "start_time": "2023-05-16T17:25:24.450Z"
      },
      {
        "duration": 79,
        "start_time": "2023-05-16T17:25:36.695Z"
      },
      {
        "duration": 53,
        "start_time": "2023-05-16T17:25:49.715Z"
      },
      {
        "duration": 69,
        "start_time": "2023-05-16T17:26:18.451Z"
      },
      {
        "duration": 71,
        "start_time": "2023-05-16T17:29:03.497Z"
      },
      {
        "duration": 49,
        "start_time": "2023-05-16T17:29:14.555Z"
      },
      {
        "duration": 13,
        "start_time": "2023-05-16T17:29:22.651Z"
      },
      {
        "duration": 18,
        "start_time": "2023-05-16T17:33:56.201Z"
      },
      {
        "duration": 38,
        "start_time": "2023-05-16T17:34:40.994Z"
      },
      {
        "duration": 7,
        "start_time": "2023-05-16T17:34:50.608Z"
      },
      {
        "duration": 39,
        "start_time": "2023-05-16T17:35:31.581Z"
      },
      {
        "duration": 9,
        "start_time": "2023-05-16T17:41:28.544Z"
      },
      {
        "duration": 10,
        "start_time": "2023-05-16T17:47:46.647Z"
      },
      {
        "duration": 305,
        "start_time": "2023-05-16T17:47:56.221Z"
      },
      {
        "duration": 1509,
        "start_time": "2023-05-16T17:51:30.787Z"
      },
      {
        "duration": 190,
        "start_time": "2023-05-16T17:51:32.302Z"
      },
      {
        "duration": 39,
        "start_time": "2023-05-16T17:51:32.494Z"
      },
      {
        "duration": 33,
        "start_time": "2023-05-16T17:51:32.535Z"
      },
      {
        "duration": 35,
        "start_time": "2023-05-16T17:51:32.570Z"
      },
      {
        "duration": 141,
        "start_time": "2023-05-16T17:51:32.607Z"
      },
      {
        "duration": 74,
        "start_time": "2023-05-16T17:51:32.750Z"
      },
      {
        "duration": 103,
        "start_time": "2023-05-16T17:51:32.829Z"
      },
      {
        "duration": 78,
        "start_time": "2023-05-16T17:51:32.933Z"
      },
      {
        "duration": 20,
        "start_time": "2023-05-16T17:51:33.018Z"
      },
      {
        "duration": 49,
        "start_time": "2023-05-16T17:51:33.040Z"
      },
      {
        "duration": 30,
        "start_time": "2023-05-16T17:51:33.090Z"
      },
      {
        "duration": 237,
        "start_time": "2023-05-16T17:51:33.122Z"
      },
      {
        "duration": 1211,
        "start_time": "2023-05-16T18:49:53.766Z"
      },
      {
        "duration": 178,
        "start_time": "2023-05-16T18:49:54.979Z"
      },
      {
        "duration": 30,
        "start_time": "2023-05-16T18:49:55.158Z"
      },
      {
        "duration": 18,
        "start_time": "2023-05-16T18:49:55.190Z"
      },
      {
        "duration": 16,
        "start_time": "2023-05-16T18:49:55.212Z"
      },
      {
        "duration": 107,
        "start_time": "2023-05-16T18:49:55.230Z"
      },
      {
        "duration": 45,
        "start_time": "2023-05-16T18:49:55.339Z"
      },
      {
        "duration": 97,
        "start_time": "2023-05-16T18:49:55.386Z"
      },
      {
        "duration": 82,
        "start_time": "2023-05-16T18:49:55.485Z"
      },
      {
        "duration": 34,
        "start_time": "2023-05-16T18:49:55.569Z"
      },
      {
        "duration": 51,
        "start_time": "2023-05-16T18:49:55.606Z"
      },
      {
        "duration": 10,
        "start_time": "2023-05-16T18:49:55.659Z"
      },
      {
        "duration": 205,
        "start_time": "2023-05-16T18:49:55.671Z"
      },
      {
        "duration": 2100,
        "start_time": "2023-05-16T18:52:03.256Z"
      },
      {
        "duration": 2658,
        "start_time": "2023-05-16T18:52:55.730Z"
      },
      {
        "duration": 2633,
        "start_time": "2023-05-16T18:54:31.622Z"
      },
      {
        "duration": 1384,
        "start_time": "2023-05-16T18:54:56.362Z"
      },
      {
        "duration": 177,
        "start_time": "2023-05-16T18:54:57.748Z"
      },
      {
        "duration": 31,
        "start_time": "2023-05-16T18:54:57.931Z"
      },
      {
        "duration": 15,
        "start_time": "2023-05-16T18:54:57.964Z"
      },
      {
        "duration": 27,
        "start_time": "2023-05-16T18:54:57.980Z"
      },
      {
        "duration": 134,
        "start_time": "2023-05-16T18:54:58.009Z"
      },
      {
        "duration": 57,
        "start_time": "2023-05-16T18:54:58.145Z"
      },
      {
        "duration": 98,
        "start_time": "2023-05-16T18:54:58.204Z"
      },
      {
        "duration": 76,
        "start_time": "2023-05-16T18:54:58.303Z"
      },
      {
        "duration": 24,
        "start_time": "2023-05-16T18:54:58.381Z"
      },
      {
        "duration": 51,
        "start_time": "2023-05-16T18:54:58.408Z"
      },
      {
        "duration": 10,
        "start_time": "2023-05-16T18:54:58.460Z"
      },
      {
        "duration": 26,
        "start_time": "2023-05-16T18:54:58.472Z"
      },
      {
        "duration": 236,
        "start_time": "2023-05-16T18:54:58.501Z"
      },
      {
        "duration": 119,
        "start_time": "2023-05-16T18:56:25.153Z"
      },
      {
        "duration": 22,
        "start_time": "2023-05-16T18:56:36.891Z"
      },
      {
        "duration": 1230,
        "start_time": "2023-05-16T18:57:13.740Z"
      },
      {
        "duration": 170,
        "start_time": "2023-05-16T18:57:14.972Z"
      },
      {
        "duration": 30,
        "start_time": "2023-05-16T18:57:15.144Z"
      },
      {
        "duration": 25,
        "start_time": "2023-05-16T18:57:15.176Z"
      },
      {
        "duration": 16,
        "start_time": "2023-05-16T18:57:15.207Z"
      },
      {
        "duration": 131,
        "start_time": "2023-05-16T18:57:15.226Z"
      },
      {
        "duration": 67,
        "start_time": "2023-05-16T18:57:15.359Z"
      },
      {
        "duration": 104,
        "start_time": "2023-05-16T18:57:15.432Z"
      },
      {
        "duration": 72,
        "start_time": "2023-05-16T18:57:15.537Z"
      },
      {
        "duration": 16,
        "start_time": "2023-05-16T18:57:15.611Z"
      },
      {
        "duration": 42,
        "start_time": "2023-05-16T18:57:15.628Z"
      },
      {
        "duration": 10,
        "start_time": "2023-05-16T18:57:15.671Z"
      },
      {
        "duration": 9,
        "start_time": "2023-05-16T18:57:15.697Z"
      },
      {
        "duration": 14,
        "start_time": "2023-05-16T18:57:15.713Z"
      },
      {
        "duration": 51,
        "start_time": "2023-05-16T18:57:15.729Z"
      },
      {
        "duration": 1569,
        "start_time": "2023-05-17T09:14:47.618Z"
      },
      {
        "duration": 217,
        "start_time": "2023-05-17T09:14:49.190Z"
      },
      {
        "duration": 119,
        "start_time": "2023-05-17T09:14:49.410Z"
      },
      {
        "duration": 19,
        "start_time": "2023-05-17T09:14:49.532Z"
      },
      {
        "duration": 19,
        "start_time": "2023-05-17T09:14:49.553Z"
      },
      {
        "duration": 112,
        "start_time": "2023-05-17T09:14:49.575Z"
      },
      {
        "duration": 59,
        "start_time": "2023-05-17T09:14:49.689Z"
      },
      {
        "duration": 88,
        "start_time": "2023-05-17T09:14:49.749Z"
      },
      {
        "duration": 80,
        "start_time": "2023-05-17T09:14:49.839Z"
      },
      {
        "duration": 16,
        "start_time": "2023-05-17T09:14:49.922Z"
      },
      {
        "duration": 67,
        "start_time": "2023-05-17T09:14:49.941Z"
      },
      {
        "duration": 12,
        "start_time": "2023-05-17T09:14:50.010Z"
      },
      {
        "duration": 7,
        "start_time": "2023-05-17T09:14:50.024Z"
      },
      {
        "duration": 21,
        "start_time": "2023-05-17T09:14:50.033Z"
      },
      {
        "duration": 86,
        "start_time": "2023-05-17T09:14:50.056Z"
      },
      {
        "duration": 32,
        "start_time": "2023-05-17T09:19:18.742Z"
      },
      {
        "duration": 410,
        "start_time": "2023-05-17T09:24:43.526Z"
      },
      {
        "duration": 174,
        "start_time": "2023-05-17T09:36:28.445Z"
      },
      {
        "duration": 280,
        "start_time": "2023-05-17T09:40:10.799Z"
      },
      {
        "duration": 205,
        "start_time": "2023-05-17T09:40:34.537Z"
      },
      {
        "duration": 290,
        "start_time": "2023-05-17T09:41:58.170Z"
      },
      {
        "duration": 223,
        "start_time": "2023-05-17T09:42:33.843Z"
      },
      {
        "duration": 1255,
        "start_time": "2023-05-17T09:44:06.575Z"
      },
      {
        "duration": 1294,
        "start_time": "2023-05-17T09:44:15.654Z"
      },
      {
        "duration": 272,
        "start_time": "2023-05-17T09:45:27.239Z"
      },
      {
        "duration": 1900,
        "start_time": "2023-05-17T09:46:56.391Z"
      },
      {
        "duration": 8,
        "start_time": "2023-05-17T09:47:53.039Z"
      },
      {
        "duration": 1363,
        "start_time": "2023-05-17T09:48:33.091Z"
      },
      {
        "duration": 401,
        "start_time": "2023-05-17T09:54:47.682Z"
      },
      {
        "duration": 1212,
        "start_time": "2023-05-17T09:55:46.035Z"
      },
      {
        "duration": 162,
        "start_time": "2023-05-17T09:55:47.249Z"
      },
      {
        "duration": 32,
        "start_time": "2023-05-17T09:55:47.420Z"
      },
      {
        "duration": 12,
        "start_time": "2023-05-17T09:55:47.454Z"
      },
      {
        "duration": 15,
        "start_time": "2023-05-17T09:55:47.468Z"
      },
      {
        "duration": 102,
        "start_time": "2023-05-17T09:55:47.484Z"
      },
      {
        "duration": 60,
        "start_time": "2023-05-17T09:55:47.588Z"
      },
      {
        "duration": 113,
        "start_time": "2023-05-17T09:55:47.651Z"
      },
      {
        "duration": 1203,
        "start_time": "2023-05-17T10:03:08.017Z"
      },
      {
        "duration": 131,
        "start_time": "2023-05-17T10:03:09.222Z"
      },
      {
        "duration": 31,
        "start_time": "2023-05-17T10:03:09.354Z"
      },
      {
        "duration": 12,
        "start_time": "2023-05-17T10:03:09.387Z"
      },
      {
        "duration": 15,
        "start_time": "2023-05-17T10:03:09.406Z"
      },
      {
        "duration": 106,
        "start_time": "2023-05-17T10:03:09.423Z"
      },
      {
        "duration": 45,
        "start_time": "2023-05-17T10:03:09.530Z"
      },
      {
        "duration": 84,
        "start_time": "2023-05-17T10:03:09.577Z"
      },
      {
        "duration": 66,
        "start_time": "2023-05-17T10:03:09.663Z"
      },
      {
        "duration": 11,
        "start_time": "2023-05-17T10:03:09.731Z"
      },
      {
        "duration": 40,
        "start_time": "2023-05-17T10:03:09.743Z"
      },
      {
        "duration": 27,
        "start_time": "2023-05-17T10:03:09.784Z"
      },
      {
        "duration": 26,
        "start_time": "2023-05-17T10:03:09.812Z"
      },
      {
        "duration": 52,
        "start_time": "2023-05-17T10:03:09.842Z"
      },
      {
        "duration": 85,
        "start_time": "2023-05-17T10:03:09.896Z"
      },
      {
        "duration": 64,
        "start_time": "2023-05-17T10:03:09.983Z"
      },
      {
        "duration": 188,
        "start_time": "2023-05-17T10:03:10.049Z"
      },
      {
        "duration": 270,
        "start_time": "2023-05-17T10:03:10.239Z"
      },
      {
        "duration": 14,
        "start_time": "2023-05-17T10:05:10.327Z"
      },
      {
        "duration": 436,
        "start_time": "2023-05-17T10:06:43.555Z"
      },
      {
        "duration": 293,
        "start_time": "2023-05-17T10:07:04.229Z"
      },
      {
        "duration": 248,
        "start_time": "2023-05-17T10:07:59.299Z"
      },
      {
        "duration": 221,
        "start_time": "2023-05-17T10:09:34.229Z"
      },
      {
        "duration": 221,
        "start_time": "2023-05-17T10:09:45.519Z"
      },
      {
        "duration": 191,
        "start_time": "2023-05-17T10:10:52.055Z"
      },
      {
        "duration": 592,
        "start_time": "2023-05-17T10:11:44.452Z"
      },
      {
        "duration": 1128,
        "start_time": "2023-05-17T10:17:18.525Z"
      },
      {
        "duration": 290,
        "start_time": "2023-05-17T10:17:49.854Z"
      },
      {
        "duration": 92,
        "start_time": "2023-05-17T10:18:06.121Z"
      },
      {
        "duration": 5,
        "start_time": "2023-05-17T10:19:32.768Z"
      },
      {
        "duration": 540,
        "start_time": "2023-05-17T10:46:50.179Z"
      },
      {
        "duration": 438,
        "start_time": "2023-05-17T10:49:07.425Z"
      },
      {
        "duration": 18,
        "start_time": "2023-05-17T10:57:10.840Z"
      },
      {
        "duration": 8,
        "start_time": "2023-05-17T10:58:25.273Z"
      },
      {
        "duration": 21,
        "start_time": "2023-05-17T10:59:57.604Z"
      },
      {
        "duration": 22,
        "start_time": "2023-05-17T11:00:04.430Z"
      },
      {
        "duration": 9,
        "start_time": "2023-05-17T11:04:10.244Z"
      },
      {
        "duration": 8,
        "start_time": "2023-05-17T11:04:29.320Z"
      },
      {
        "duration": 190,
        "start_time": "2023-05-17T11:11:08.888Z"
      },
      {
        "duration": 297,
        "start_time": "2023-05-17T11:19:59.652Z"
      },
      {
        "duration": 268,
        "start_time": "2023-05-17T11:20:10.496Z"
      },
      {
        "duration": 281,
        "start_time": "2023-05-17T11:20:21.356Z"
      },
      {
        "duration": 9,
        "start_time": "2023-05-17T11:47:07.549Z"
      },
      {
        "duration": 7,
        "start_time": "2023-05-17T11:50:56.160Z"
      },
      {
        "duration": 173,
        "start_time": "2023-05-17T11:51:00.312Z"
      },
      {
        "duration": 176,
        "start_time": "2023-05-17T11:51:07.689Z"
      },
      {
        "duration": 4,
        "start_time": "2023-05-17T11:51:15.236Z"
      },
      {
        "duration": 174,
        "start_time": "2023-05-17T11:52:34.913Z"
      },
      {
        "duration": 180,
        "start_time": "2023-05-17T11:52:51.426Z"
      },
      {
        "duration": 176,
        "start_time": "2023-05-17T11:53:00.804Z"
      },
      {
        "duration": 19,
        "start_time": "2023-05-17T11:54:48.757Z"
      },
      {
        "duration": 171,
        "start_time": "2023-05-17T11:54:56.248Z"
      },
      {
        "duration": 175,
        "start_time": "2023-05-17T11:55:07.402Z"
      },
      {
        "duration": 4,
        "start_time": "2023-05-17T11:56:02.893Z"
      },
      {
        "duration": 178,
        "start_time": "2023-05-17T11:56:17.893Z"
      },
      {
        "duration": 6,
        "start_time": "2023-05-17T11:57:01.688Z"
      },
      {
        "duration": 12,
        "start_time": "2023-05-17T11:59:43.699Z"
      },
      {
        "duration": 167,
        "start_time": "2023-05-17T11:59:51.625Z"
      },
      {
        "duration": 5,
        "start_time": "2023-05-17T11:59:56.885Z"
      },
      {
        "duration": 6,
        "start_time": "2023-05-17T12:01:30.297Z"
      },
      {
        "duration": 52,
        "start_time": "2023-05-17T12:07:31.548Z"
      },
      {
        "duration": 54,
        "start_time": "2023-05-17T12:07:47.196Z"
      },
      {
        "duration": 308,
        "start_time": "2023-05-17T12:11:40.705Z"
      },
      {
        "duration": 1148,
        "start_time": "2023-05-17T12:12:06.815Z"
      },
      {
        "duration": 150,
        "start_time": "2023-05-17T12:12:07.964Z"
      },
      {
        "duration": 34,
        "start_time": "2023-05-17T12:12:08.116Z"
      },
      {
        "duration": 14,
        "start_time": "2023-05-17T12:12:08.153Z"
      },
      {
        "duration": 28,
        "start_time": "2023-05-17T12:12:08.170Z"
      },
      {
        "duration": 109,
        "start_time": "2023-05-17T12:12:08.199Z"
      },
      {
        "duration": 51,
        "start_time": "2023-05-17T12:12:08.310Z"
      },
      {
        "duration": 83,
        "start_time": "2023-05-17T12:12:08.363Z"
      },
      {
        "duration": 61,
        "start_time": "2023-05-17T12:12:08.448Z"
      },
      {
        "duration": 13,
        "start_time": "2023-05-17T12:12:08.511Z"
      },
      {
        "duration": 36,
        "start_time": "2023-05-17T12:12:08.525Z"
      },
      {
        "duration": 13,
        "start_time": "2023-05-17T12:12:08.563Z"
      },
      {
        "duration": 32,
        "start_time": "2023-05-17T12:12:08.577Z"
      },
      {
        "duration": 19,
        "start_time": "2023-05-17T12:12:08.612Z"
      },
      {
        "duration": 51,
        "start_time": "2023-05-17T12:12:08.633Z"
      },
      {
        "duration": 49,
        "start_time": "2023-05-17T12:12:08.686Z"
      },
      {
        "duration": 204,
        "start_time": "2023-05-17T12:12:08.736Z"
      },
      {
        "duration": 5,
        "start_time": "2023-05-17T12:12:08.941Z"
      },
      {
        "duration": 248,
        "start_time": "2023-05-17T12:12:08.947Z"
      },
      {
        "duration": 637,
        "start_time": "2023-05-17T12:12:09.197Z"
      },
      {
        "duration": 306,
        "start_time": "2023-05-17T12:12:09.835Z"
      },
      {
        "duration": 12,
        "start_time": "2023-05-17T12:12:10.142Z"
      },
      {
        "duration": 15,
        "start_time": "2023-05-17T12:12:10.156Z"
      },
      {
        "duration": 5,
        "start_time": "2023-05-17T12:12:10.173Z"
      },
      {
        "duration": 27,
        "start_time": "2023-05-17T12:12:10.179Z"
      },
      {
        "duration": 187,
        "start_time": "2023-05-17T12:12:10.208Z"
      },
      {
        "duration": 224,
        "start_time": "2023-05-17T12:12:10.397Z"
      },
      {
        "duration": 5,
        "start_time": "2023-05-17T12:12:10.622Z"
      },
      {
        "duration": 214,
        "start_time": "2023-05-17T12:12:10.628Z"
      },
      {
        "duration": 191,
        "start_time": "2023-05-17T12:12:10.843Z"
      },
      {
        "duration": 5,
        "start_time": "2023-05-17T12:12:11.036Z"
      },
      {
        "duration": 86,
        "start_time": "2023-05-17T12:12:11.043Z"
      },
      {
        "duration": 270,
        "start_time": "2023-05-17T12:12:11.131Z"
      },
      {
        "duration": 326,
        "start_time": "2023-05-17T12:12:37.546Z"
      },
      {
        "duration": 45,
        "start_time": "2023-05-17T12:19:40.724Z"
      },
      {
        "duration": 572,
        "start_time": "2023-05-17T12:21:24.981Z"
      },
      {
        "duration": 140,
        "start_time": "2023-05-17T12:21:48.830Z"
      },
      {
        "duration": 137,
        "start_time": "2023-05-17T12:24:34.306Z"
      },
      {
        "duration": 1226,
        "start_time": "2023-05-17T12:46:55.607Z"
      },
      {
        "duration": 135,
        "start_time": "2023-05-17T12:46:56.835Z"
      },
      {
        "duration": 29,
        "start_time": "2023-05-17T12:46:56.972Z"
      },
      {
        "duration": 21,
        "start_time": "2023-05-17T12:46:57.003Z"
      },
      {
        "duration": 15,
        "start_time": "2023-05-17T12:46:57.025Z"
      },
      {
        "duration": 101,
        "start_time": "2023-05-17T12:46:57.041Z"
      },
      {
        "duration": 45,
        "start_time": "2023-05-17T12:46:57.144Z"
      },
      {
        "duration": 85,
        "start_time": "2023-05-17T12:46:57.190Z"
      },
      {
        "duration": 68,
        "start_time": "2023-05-17T12:46:57.277Z"
      },
      {
        "duration": 11,
        "start_time": "2023-05-17T12:46:57.347Z"
      },
      {
        "duration": 36,
        "start_time": "2023-05-17T12:46:57.359Z"
      },
      {
        "duration": 16,
        "start_time": "2023-05-17T12:46:57.407Z"
      },
      {
        "duration": 4,
        "start_time": "2023-05-17T12:46:57.425Z"
      },
      {
        "duration": 14,
        "start_time": "2023-05-17T12:46:57.430Z"
      },
      {
        "duration": 73,
        "start_time": "2023-05-17T12:46:57.446Z"
      },
      {
        "duration": 33,
        "start_time": "2023-05-17T12:46:57.523Z"
      },
      {
        "duration": 188,
        "start_time": "2023-05-17T12:46:57.558Z"
      },
      {
        "duration": 4,
        "start_time": "2023-05-17T12:46:57.747Z"
      },
      {
        "duration": 285,
        "start_time": "2023-05-17T12:46:57.752Z"
      },
      {
        "duration": 700,
        "start_time": "2023-05-17T12:46:58.038Z"
      },
      {
        "duration": 360,
        "start_time": "2023-05-17T12:46:58.739Z"
      },
      {
        "duration": 18,
        "start_time": "2023-05-17T12:46:59.101Z"
      },
      {
        "duration": 18,
        "start_time": "2023-05-17T12:46:59.121Z"
      },
      {
        "duration": 6,
        "start_time": "2023-05-17T12:46:59.141Z"
      },
      {
        "duration": 11,
        "start_time": "2023-05-17T12:46:59.148Z"
      },
      {
        "duration": 263,
        "start_time": "2023-05-17T12:46:59.161Z"
      },
      {
        "duration": 251,
        "start_time": "2023-05-17T12:46:59.426Z"
      },
      {
        "duration": 6,
        "start_time": "2023-05-17T12:46:59.681Z"
      },
      {
        "duration": 246,
        "start_time": "2023-05-17T12:46:59.690Z"
      },
      {
        "duration": 209,
        "start_time": "2023-05-17T12:46:59.937Z"
      },
      {
        "duration": 5,
        "start_time": "2023-05-17T12:47:00.148Z"
      },
      {
        "duration": 67,
        "start_time": "2023-05-17T12:47:00.154Z"
      },
      {
        "duration": 330,
        "start_time": "2023-05-17T12:47:00.223Z"
      },
      {
        "duration": 56,
        "start_time": "2023-05-17T12:47:00.554Z"
      },
      {
        "duration": 508,
        "start_time": "2023-05-17T12:47:00.616Z"
      },
      {
        "duration": 214,
        "start_time": "2023-05-17T12:47:01.126Z"
      },
      {
        "duration": 1344,
        "start_time": "2023-05-17T12:47:29.595Z"
      },
      {
        "duration": 156,
        "start_time": "2023-05-17T12:47:30.941Z"
      },
      {
        "duration": 38,
        "start_time": "2023-05-17T12:47:31.099Z"
      },
      {
        "duration": 21,
        "start_time": "2023-05-17T12:47:31.139Z"
      },
      {
        "duration": 45,
        "start_time": "2023-05-17T12:47:31.162Z"
      },
      {
        "duration": 105,
        "start_time": "2023-05-17T12:47:31.216Z"
      },
      {
        "duration": 46,
        "start_time": "2023-05-17T12:47:31.323Z"
      },
      {
        "duration": 89,
        "start_time": "2023-05-17T12:47:31.371Z"
      },
      {
        "duration": 75,
        "start_time": "2023-05-17T12:47:31.462Z"
      },
      {
        "duration": 14,
        "start_time": "2023-05-17T12:47:31.539Z"
      },
      {
        "duration": 68,
        "start_time": "2023-05-17T12:47:31.554Z"
      },
      {
        "duration": 26,
        "start_time": "2023-05-17T12:47:31.624Z"
      },
      {
        "duration": 31,
        "start_time": "2023-05-17T12:47:31.651Z"
      },
      {
        "duration": 49,
        "start_time": "2023-05-17T12:47:31.685Z"
      },
      {
        "duration": 70,
        "start_time": "2023-05-17T12:47:31.736Z"
      },
      {
        "duration": 38,
        "start_time": "2023-05-17T12:47:31.810Z"
      },
      {
        "duration": 195,
        "start_time": "2023-05-17T12:47:31.850Z"
      },
      {
        "duration": 5,
        "start_time": "2023-05-17T12:47:32.046Z"
      },
      {
        "duration": 274,
        "start_time": "2023-05-17T12:47:32.052Z"
      },
      {
        "duration": 707,
        "start_time": "2023-05-17T12:47:32.327Z"
      },
      {
        "duration": 316,
        "start_time": "2023-05-17T12:47:33.036Z"
      },
      {
        "duration": 11,
        "start_time": "2023-05-17T12:47:33.354Z"
      },
      {
        "duration": 19,
        "start_time": "2023-05-17T12:47:33.367Z"
      },
      {
        "duration": 22,
        "start_time": "2023-05-17T12:47:33.387Z"
      },
      {
        "duration": 11,
        "start_time": "2023-05-17T12:47:33.412Z"
      },
      {
        "duration": 202,
        "start_time": "2023-05-17T12:47:33.425Z"
      },
      {
        "duration": 220,
        "start_time": "2023-05-17T12:47:33.629Z"
      },
      {
        "duration": 5,
        "start_time": "2023-05-17T12:47:33.850Z"
      },
      {
        "duration": 200,
        "start_time": "2023-05-17T12:47:33.857Z"
      },
      {
        "duration": 189,
        "start_time": "2023-05-17T12:47:34.058Z"
      },
      {
        "duration": 5,
        "start_time": "2023-05-17T12:47:34.248Z"
      },
      {
        "duration": 69,
        "start_time": "2023-05-17T12:47:34.254Z"
      },
      {
        "duration": 304,
        "start_time": "2023-05-17T12:47:34.325Z"
      },
      {
        "duration": 51,
        "start_time": "2023-05-17T12:47:34.630Z"
      },
      {
        "duration": 499,
        "start_time": "2023-05-17T12:47:34.683Z"
      },
      {
        "duration": 184,
        "start_time": "2023-05-17T12:47:35.184Z"
      },
      {
        "duration": 1506,
        "start_time": "2023-05-18T18:40:40.625Z"
      },
      {
        "duration": 526,
        "start_time": "2023-05-18T18:40:42.133Z"
      },
      {
        "duration": 85,
        "start_time": "2023-05-18T18:40:42.660Z"
      },
      {
        "duration": 16,
        "start_time": "2023-05-18T18:40:42.747Z"
      },
      {
        "duration": 16,
        "start_time": "2023-05-18T18:40:42.765Z"
      },
      {
        "duration": 115,
        "start_time": "2023-05-18T18:40:42.782Z"
      },
      {
        "duration": 51,
        "start_time": "2023-05-18T18:40:42.899Z"
      },
      {
        "duration": 107,
        "start_time": "2023-05-18T18:40:42.952Z"
      },
      {
        "duration": 79,
        "start_time": "2023-05-18T18:40:43.061Z"
      },
      {
        "duration": 13,
        "start_time": "2023-05-18T18:40:43.143Z"
      },
      {
        "duration": 55,
        "start_time": "2023-05-18T18:40:43.158Z"
      },
      {
        "duration": 11,
        "start_time": "2023-05-18T18:40:43.215Z"
      },
      {
        "duration": 3,
        "start_time": "2023-05-18T18:40:43.228Z"
      },
      {
        "duration": 21,
        "start_time": "2023-05-18T18:40:43.233Z"
      },
      {
        "duration": 86,
        "start_time": "2023-05-18T18:40:43.256Z"
      },
      {
        "duration": 39,
        "start_time": "2023-05-18T18:40:43.344Z"
      },
      {
        "duration": 213,
        "start_time": "2023-05-18T18:40:43.399Z"
      },
      {
        "duration": 5,
        "start_time": "2023-05-18T18:40:43.613Z"
      },
      {
        "duration": 318,
        "start_time": "2023-05-18T18:40:43.620Z"
      },
      {
        "duration": 759,
        "start_time": "2023-05-18T18:40:43.940Z"
      },
      {
        "duration": 351,
        "start_time": "2023-05-18T18:40:44.702Z"
      },
      {
        "duration": 16,
        "start_time": "2023-05-18T18:40:45.055Z"
      },
      {
        "duration": 37,
        "start_time": "2023-05-18T18:40:45.072Z"
      },
      {
        "duration": 7,
        "start_time": "2023-05-18T18:40:45.110Z"
      },
      {
        "duration": 22,
        "start_time": "2023-05-18T18:40:45.119Z"
      },
      {
        "duration": 240,
        "start_time": "2023-05-18T18:40:45.143Z"
      },
      {
        "duration": 273,
        "start_time": "2023-05-18T18:40:45.385Z"
      },
      {
        "duration": 6,
        "start_time": "2023-05-18T18:40:45.661Z"
      },
      {
        "duration": 213,
        "start_time": "2023-05-18T18:40:45.669Z"
      },
      {
        "duration": 192,
        "start_time": "2023-05-18T18:40:45.883Z"
      },
      {
        "duration": 5,
        "start_time": "2023-05-18T18:40:46.076Z"
      },
      {
        "duration": 64,
        "start_time": "2023-05-18T18:40:46.083Z"
      },
      {
        "duration": 329,
        "start_time": "2023-05-18T18:40:46.149Z"
      },
      {
        "duration": 61,
        "start_time": "2023-05-18T18:40:46.480Z"
      },
      {
        "duration": 747,
        "start_time": "2023-05-18T18:40:46.543Z"
      },
      {
        "duration": 221,
        "start_time": "2023-05-18T18:40:47.291Z"
      },
      {
        "duration": 13,
        "start_time": "2023-05-18T18:41:58.774Z"
      },
      {
        "duration": 12,
        "start_time": "2023-05-18T18:42:14.652Z"
      },
      {
        "duration": 72,
        "start_time": "2023-05-18T19:01:16.996Z"
      },
      {
        "duration": 72,
        "start_time": "2023-05-18T19:01:57.400Z"
      },
      {
        "duration": 13,
        "start_time": "2023-05-18T19:03:24.623Z"
      },
      {
        "duration": 165,
        "start_time": "2023-05-18T19:05:50.809Z"
      },
      {
        "duration": 47,
        "start_time": "2023-05-18T19:08:29.901Z"
      },
      {
        "duration": 46,
        "start_time": "2023-05-18T19:12:12.393Z"
      },
      {
        "duration": 71,
        "start_time": "2023-05-18T19:15:14.477Z"
      },
      {
        "duration": 98,
        "start_time": "2023-05-18T19:16:26.247Z"
      },
      {
        "duration": 63,
        "start_time": "2023-05-18T19:21:27.608Z"
      },
      {
        "duration": 53,
        "start_time": "2023-05-18T19:23:00.703Z"
      },
      {
        "duration": 50,
        "start_time": "2023-05-18T19:23:51.730Z"
      },
      {
        "duration": 69,
        "start_time": "2023-05-18T19:24:39.621Z"
      },
      {
        "duration": 29,
        "start_time": "2023-05-18T19:28:44.394Z"
      },
      {
        "duration": 1096,
        "start_time": "2023-05-18T19:30:49.155Z"
      },
      {
        "duration": 138,
        "start_time": "2023-05-18T19:30:50.253Z"
      },
      {
        "duration": 29,
        "start_time": "2023-05-18T19:30:50.392Z"
      },
      {
        "duration": 12,
        "start_time": "2023-05-18T19:30:50.423Z"
      },
      {
        "duration": 15,
        "start_time": "2023-05-18T19:30:50.436Z"
      },
      {
        "duration": 98,
        "start_time": "2023-05-18T19:30:50.453Z"
      },
      {
        "duration": 50,
        "start_time": "2023-05-18T19:30:50.553Z"
      },
      {
        "duration": 69,
        "start_time": "2023-05-18T19:30:50.605Z"
      },
      {
        "duration": 64,
        "start_time": "2023-05-18T19:30:50.676Z"
      },
      {
        "duration": 11,
        "start_time": "2023-05-18T19:30:50.742Z"
      },
      {
        "duration": 51,
        "start_time": "2023-05-18T19:30:50.754Z"
      },
      {
        "duration": 9,
        "start_time": "2023-05-18T19:30:50.807Z"
      },
      {
        "duration": 9,
        "start_time": "2023-05-18T19:30:50.818Z"
      },
      {
        "duration": 17,
        "start_time": "2023-05-18T19:30:50.829Z"
      },
      {
        "duration": 77,
        "start_time": "2023-05-18T19:30:50.847Z"
      },
      {
        "duration": 35,
        "start_time": "2023-05-18T19:30:50.926Z"
      },
      {
        "duration": 191,
        "start_time": "2023-05-18T19:30:50.962Z"
      },
      {
        "duration": 5,
        "start_time": "2023-05-18T19:30:51.154Z"
      },
      {
        "duration": 261,
        "start_time": "2023-05-18T19:30:51.160Z"
      },
      {
        "duration": 637,
        "start_time": "2023-05-18T19:30:51.422Z"
      },
      {
        "duration": 306,
        "start_time": "2023-05-18T19:30:52.060Z"
      },
      {
        "duration": 11,
        "start_time": "2023-05-18T19:30:52.368Z"
      },
      {
        "duration": 22,
        "start_time": "2023-05-18T19:30:52.381Z"
      },
      {
        "duration": 6,
        "start_time": "2023-05-18T19:30:52.405Z"
      },
      {
        "duration": 10,
        "start_time": "2023-05-18T19:30:52.413Z"
      },
      {
        "duration": 197,
        "start_time": "2023-05-18T19:30:52.425Z"
      },
      {
        "duration": 233,
        "start_time": "2023-05-18T19:30:52.624Z"
      },
      {
        "duration": 5,
        "start_time": "2023-05-18T19:30:52.860Z"
      },
      {
        "duration": 191,
        "start_time": "2023-05-18T19:30:52.866Z"
      },
      {
        "duration": 178,
        "start_time": "2023-05-18T19:30:53.058Z"
      },
      {
        "duration": 4,
        "start_time": "2023-05-18T19:30:53.238Z"
      },
      {
        "duration": 61,
        "start_time": "2023-05-18T19:30:53.243Z"
      },
      {
        "duration": 330,
        "start_time": "2023-05-18T19:30:53.305Z"
      },
      {
        "duration": 62,
        "start_time": "2023-05-18T19:30:53.636Z"
      },
      {
        "duration": 525,
        "start_time": "2023-05-18T19:30:53.700Z"
      },
      {
        "duration": 217,
        "start_time": "2023-05-18T19:30:54.227Z"
      },
      {
        "duration": 14,
        "start_time": "2023-05-18T19:30:54.446Z"
      },
      {
        "duration": 10,
        "start_time": "2023-05-18T19:30:54.461Z"
      },
      {
        "duration": 81,
        "start_time": "2023-05-18T19:30:54.473Z"
      },
      {
        "duration": 11,
        "start_time": "2023-05-18T19:30:54.556Z"
      },
      {
        "duration": 66,
        "start_time": "2023-05-18T19:30:54.568Z"
      },
      {
        "duration": 45,
        "start_time": "2023-05-18T19:30:54.635Z"
      },
      {
        "duration": 46,
        "start_time": "2023-05-18T19:30:54.696Z"
      },
      {
        "duration": 63,
        "start_time": "2023-05-18T19:30:54.743Z"
      },
      {
        "duration": 19,
        "start_time": "2023-05-18T19:30:54.808Z"
      },
      {
        "duration": 43118,
        "start_time": "2023-05-18T19:30:54.828Z"
      },
      {
        "duration": 153,
        "start_time": "2023-05-18T19:34:30.849Z"
      },
      {
        "duration": 101,
        "start_time": "2023-05-18T19:42:03.610Z"
      },
      {
        "duration": 305,
        "start_time": "2023-05-18T19:43:52.279Z"
      },
      {
        "duration": 43,
        "start_time": "2023-05-18T19:45:18.216Z"
      },
      {
        "duration": 13,
        "start_time": "2023-05-18T19:45:29.250Z"
      },
      {
        "duration": 23,
        "start_time": "2023-05-18T19:46:56.797Z"
      },
      {
        "duration": 30,
        "start_time": "2023-05-18T19:47:10.080Z"
      },
      {
        "duration": 24,
        "start_time": "2023-05-18T19:47:49.708Z"
      },
      {
        "duration": 520,
        "start_time": "2023-05-18T19:49:06.503Z"
      },
      {
        "duration": 106,
        "start_time": "2023-05-18T19:50:23.976Z"
      },
      {
        "duration": 193,
        "start_time": "2023-05-18T19:50:58.447Z"
      },
      {
        "duration": 180,
        "start_time": "2023-05-18T19:51:48.100Z"
      },
      {
        "duration": 146,
        "start_time": "2023-05-18T19:52:14.421Z"
      },
      {
        "duration": 16,
        "start_time": "2023-05-18T19:52:52.462Z"
      },
      {
        "duration": 21,
        "start_time": "2023-05-18T19:53:23.201Z"
      },
      {
        "duration": 337,
        "start_time": "2023-05-18T19:54:40.779Z"
      },
      {
        "duration": 37952,
        "start_time": "2023-05-18T20:04:15.057Z"
      },
      {
        "duration": 129,
        "start_time": "2023-05-18T20:07:22.017Z"
      },
      {
        "duration": 105,
        "start_time": "2023-05-18T20:07:38.671Z"
      },
      {
        "duration": 254,
        "start_time": "2023-05-18T20:07:56.043Z"
      },
      {
        "duration": 21,
        "start_time": "2023-05-18T20:08:13.664Z"
      },
      {
        "duration": 15,
        "start_time": "2023-05-18T20:08:53.283Z"
      },
      {
        "duration": 482,
        "start_time": "2023-05-18T20:09:07.498Z"
      },
      {
        "duration": 15,
        "start_time": "2023-05-18T20:09:55.956Z"
      },
      {
        "duration": 2276,
        "start_time": "2023-05-19T10:30:16.329Z"
      },
      {
        "duration": 832,
        "start_time": "2023-05-19T10:30:18.607Z"
      },
      {
        "duration": 157,
        "start_time": "2023-05-19T10:30:19.442Z"
      },
      {
        "duration": 30,
        "start_time": "2023-05-19T10:30:19.614Z"
      },
      {
        "duration": 34,
        "start_time": "2023-05-19T10:30:19.653Z"
      },
      {
        "duration": 206,
        "start_time": "2023-05-19T10:30:19.690Z"
      },
      {
        "duration": 81,
        "start_time": "2023-05-19T10:30:19.903Z"
      },
      {
        "duration": 130,
        "start_time": "2023-05-19T10:30:19.991Z"
      },
      {
        "duration": 109,
        "start_time": "2023-05-19T10:30:20.128Z"
      },
      {
        "duration": 19,
        "start_time": "2023-05-19T10:30:20.245Z"
      },
      {
        "duration": 102,
        "start_time": "2023-05-19T10:30:20.266Z"
      },
      {
        "duration": 53,
        "start_time": "2023-05-19T10:30:20.370Z"
      },
      {
        "duration": 42,
        "start_time": "2023-05-19T10:30:20.425Z"
      },
      {
        "duration": 114,
        "start_time": "2023-05-19T10:30:20.469Z"
      },
      {
        "duration": 139,
        "start_time": "2023-05-19T10:30:20.585Z"
      },
      {
        "duration": 70,
        "start_time": "2023-05-19T10:30:20.727Z"
      },
      {
        "duration": 296,
        "start_time": "2023-05-19T10:30:20.799Z"
      },
      {
        "duration": 13,
        "start_time": "2023-05-19T10:30:21.101Z"
      },
      {
        "duration": 508,
        "start_time": "2023-05-19T10:30:21.120Z"
      },
      {
        "duration": 1151,
        "start_time": "2023-05-19T10:30:21.635Z"
      },
      {
        "duration": 526,
        "start_time": "2023-05-19T10:30:22.789Z"
      },
      {
        "duration": 31,
        "start_time": "2023-05-19T10:30:23.327Z"
      },
      {
        "duration": 108,
        "start_time": "2023-05-19T10:30:23.360Z"
      },
      {
        "duration": 92,
        "start_time": "2023-05-19T10:30:23.477Z"
      },
      {
        "duration": 110,
        "start_time": "2023-05-19T10:30:23.571Z"
      },
      {
        "duration": 425,
        "start_time": "2023-05-19T10:30:23.684Z"
      },
      {
        "duration": 336,
        "start_time": "2023-05-19T10:30:24.115Z"
      },
      {
        "duration": 7,
        "start_time": "2023-05-19T10:30:24.456Z"
      },
      {
        "duration": 374,
        "start_time": "2023-05-19T10:30:24.465Z"
      },
      {
        "duration": 296,
        "start_time": "2023-05-19T10:30:24.844Z"
      },
      {
        "duration": 6,
        "start_time": "2023-05-19T10:30:25.143Z"
      },
      {
        "duration": 98,
        "start_time": "2023-05-19T10:30:25.151Z"
      },
      {
        "duration": 485,
        "start_time": "2023-05-19T10:30:25.252Z"
      },
      {
        "duration": 87,
        "start_time": "2023-05-19T10:30:25.741Z"
      },
      {
        "duration": 901,
        "start_time": "2023-05-19T10:30:25.830Z"
      },
      {
        "duration": 418,
        "start_time": "2023-05-19T10:30:26.734Z"
      },
      {
        "duration": 25,
        "start_time": "2023-05-19T10:30:27.157Z"
      },
      {
        "duration": 138,
        "start_time": "2023-05-19T10:30:27.185Z"
      },
      {
        "duration": 236,
        "start_time": "2023-05-19T10:30:27.325Z"
      },
      {
        "duration": 22,
        "start_time": "2023-05-19T10:30:27.563Z"
      },
      {
        "duration": 167,
        "start_time": "2023-05-19T10:30:27.587Z"
      },
      {
        "duration": 131,
        "start_time": "2023-05-19T10:30:27.756Z"
      },
      {
        "duration": 213,
        "start_time": "2023-05-19T10:30:27.890Z"
      },
      {
        "duration": 133,
        "start_time": "2023-05-19T10:30:28.116Z"
      },
      {
        "duration": 34,
        "start_time": "2023-05-19T10:30:28.256Z"
      },
      {
        "duration": 337,
        "start_time": "2023-05-19T10:30:28.296Z"
      },
      {
        "duration": 183,
        "start_time": "2023-05-19T10:30:28.639Z"
      },
      {
        "duration": 363,
        "start_time": "2023-05-19T10:30:28.824Z"
      },
      {
        "duration": 172,
        "start_time": "2023-05-19T10:30:29.189Z"
      },
      {
        "duration": 488,
        "start_time": "2023-05-19T10:30:29.378Z"
      },
      {
        "duration": 308,
        "start_time": "2023-05-19T10:31:27.059Z"
      },
      {
        "duration": 228,
        "start_time": "2023-05-19T10:31:27.379Z"
      },
      {
        "duration": 381,
        "start_time": "2023-05-19T10:31:27.613Z"
      },
      {
        "duration": 343,
        "start_time": "2023-05-19T10:31:28.005Z"
      },
      {
        "duration": 0,
        "start_time": "2023-05-19T10:31:28.351Z"
      },
      {
        "duration": 0,
        "start_time": "2023-05-19T10:31:28.352Z"
      },
      {
        "duration": 806,
        "start_time": "2023-05-19T10:31:45.924Z"
      },
      {
        "duration": 55243,
        "start_time": "2023-05-19T10:34:41.567Z"
      },
      {
        "duration": 69360,
        "start_time": "2023-05-19T10:40:09.019Z"
      },
      {
        "duration": 426,
        "start_time": "2023-05-19T10:43:43.907Z"
      },
      {
        "duration": 394,
        "start_time": "2023-05-19T10:45:30.009Z"
      },
      {
        "duration": 394,
        "start_time": "2023-05-19T10:47:49.900Z"
      },
      {
        "duration": 350,
        "start_time": "2023-05-19T10:51:19.497Z"
      },
      {
        "duration": 320,
        "start_time": "2023-05-19T10:55:50.849Z"
      },
      {
        "duration": 342,
        "start_time": "2023-05-19T10:57:06.560Z"
      },
      {
        "duration": 30,
        "start_time": "2023-05-19T11:42:18.728Z"
      },
      {
        "duration": 5,
        "start_time": "2023-05-19T11:42:56.737Z"
      },
      {
        "duration": 30,
        "start_time": "2023-05-19T11:43:02.926Z"
      },
      {
        "duration": 2026,
        "start_time": "2023-05-19T11:43:15.865Z"
      },
      {
        "duration": 264,
        "start_time": "2023-05-19T11:43:17.894Z"
      },
      {
        "duration": 80,
        "start_time": "2023-05-19T11:43:18.160Z"
      },
      {
        "duration": 63,
        "start_time": "2023-05-19T11:43:18.252Z"
      },
      {
        "duration": 135,
        "start_time": "2023-05-19T11:43:18.317Z"
      },
      {
        "duration": 336,
        "start_time": "2023-05-19T11:43:18.455Z"
      },
      {
        "duration": 98,
        "start_time": "2023-05-19T11:43:18.793Z"
      },
      {
        "duration": 127,
        "start_time": "2023-05-19T11:43:18.913Z"
      },
      {
        "duration": 121,
        "start_time": "2023-05-19T11:43:19.043Z"
      },
      {
        "duration": 53,
        "start_time": "2023-05-19T11:43:19.167Z"
      },
      {
        "duration": 122,
        "start_time": "2023-05-19T11:43:19.224Z"
      },
      {
        "duration": 15,
        "start_time": "2023-05-19T11:43:19.351Z"
      },
      {
        "duration": 82,
        "start_time": "2023-05-19T11:43:19.369Z"
      },
      {
        "duration": 42,
        "start_time": "2023-05-19T11:43:19.453Z"
      },
      {
        "duration": 153,
        "start_time": "2023-05-19T11:43:19.497Z"
      },
      {
        "duration": 69,
        "start_time": "2023-05-19T11:43:19.653Z"
      },
      {
        "duration": 303,
        "start_time": "2023-05-19T11:43:19.728Z"
      },
      {
        "duration": 12,
        "start_time": "2023-05-19T11:43:20.038Z"
      },
      {
        "duration": 534,
        "start_time": "2023-05-19T11:43:20.052Z"
      },
      {
        "duration": 1187,
        "start_time": "2023-05-19T11:43:20.600Z"
      },
      {
        "duration": 493,
        "start_time": "2023-05-19T11:43:21.798Z"
      },
      {
        "duration": 37,
        "start_time": "2023-05-19T11:43:22.294Z"
      },
      {
        "duration": 60,
        "start_time": "2023-05-19T11:43:22.333Z"
      },
      {
        "duration": 63,
        "start_time": "2023-05-19T11:43:22.396Z"
      },
      {
        "duration": 101,
        "start_time": "2023-05-19T11:43:22.463Z"
      },
      {
        "duration": 344,
        "start_time": "2023-05-19T11:43:22.566Z"
      },
      {
        "duration": 334,
        "start_time": "2023-05-19T11:43:22.917Z"
      },
      {
        "duration": 6,
        "start_time": "2023-05-19T11:43:23.256Z"
      },
      {
        "duration": 403,
        "start_time": "2023-05-19T11:43:23.264Z"
      },
      {
        "duration": 368,
        "start_time": "2023-05-19T11:43:23.669Z"
      },
      {
        "duration": 16,
        "start_time": "2023-05-19T11:43:24.043Z"
      },
      {
        "duration": 207,
        "start_time": "2023-05-19T11:43:24.062Z"
      },
      {
        "duration": 524,
        "start_time": "2023-05-19T11:43:24.271Z"
      },
      {
        "duration": 94,
        "start_time": "2023-05-19T11:43:24.797Z"
      },
      {
        "duration": 917,
        "start_time": "2023-05-19T11:43:24.894Z"
      },
      {
        "duration": 459,
        "start_time": "2023-05-19T11:43:25.839Z"
      },
      {
        "duration": 53,
        "start_time": "2023-05-19T11:43:26.302Z"
      },
      {
        "duration": 164,
        "start_time": "2023-05-19T11:43:26.358Z"
      },
      {
        "duration": 217,
        "start_time": "2023-05-19T11:43:26.536Z"
      },
      {
        "duration": 74,
        "start_time": "2023-05-19T11:43:26.756Z"
      },
      {
        "duration": 139,
        "start_time": "2023-05-19T11:43:26.837Z"
      },
      {
        "duration": 110,
        "start_time": "2023-05-19T11:43:26.979Z"
      },
      {
        "duration": 214,
        "start_time": "2023-05-19T11:43:27.102Z"
      },
      {
        "duration": 106,
        "start_time": "2023-05-19T11:43:27.323Z"
      },
      {
        "duration": 22,
        "start_time": "2023-05-19T11:43:27.432Z"
      },
      {
        "duration": 428,
        "start_time": "2023-05-19T11:47:50.637Z"
      },
      {
        "duration": 48,
        "start_time": "2023-05-19T11:48:04.847Z"
      },
      {
        "duration": 42,
        "start_time": "2023-05-19T11:48:30.924Z"
      },
      {
        "duration": 22,
        "start_time": "2023-05-19T11:49:43.461Z"
      },
      {
        "duration": 22,
        "start_time": "2023-05-19T11:53:28.717Z"
      },
      {
        "duration": 24,
        "start_time": "2023-05-19T12:05:34.296Z"
      },
      {
        "duration": 23,
        "start_time": "2023-05-19T12:07:52.936Z"
      },
      {
        "duration": 2506,
        "start_time": "2023-05-19T12:31:10.253Z"
      },
      {
        "duration": 559,
        "start_time": "2023-05-19T12:31:12.762Z"
      },
      {
        "duration": 73,
        "start_time": "2023-05-19T12:31:13.324Z"
      },
      {
        "duration": 96,
        "start_time": "2023-05-19T12:31:13.399Z"
      },
      {
        "duration": 155,
        "start_time": "2023-05-19T12:31:13.498Z"
      },
      {
        "duration": 333,
        "start_time": "2023-05-19T12:31:13.655Z"
      },
      {
        "duration": 116,
        "start_time": "2023-05-19T12:31:13.990Z"
      },
      {
        "duration": 253,
        "start_time": "2023-05-19T12:31:14.111Z"
      },
      {
        "duration": 273,
        "start_time": "2023-05-19T12:31:14.370Z"
      },
      {
        "duration": 32,
        "start_time": "2023-05-19T12:31:14.655Z"
      },
      {
        "duration": 211,
        "start_time": "2023-05-19T12:31:14.695Z"
      },
      {
        "duration": 45,
        "start_time": "2023-05-19T12:31:14.914Z"
      },
      {
        "duration": 154,
        "start_time": "2023-05-19T12:31:14.966Z"
      },
      {
        "duration": 127,
        "start_time": "2023-05-19T12:31:15.134Z"
      },
      {
        "duration": 231,
        "start_time": "2023-05-19T12:31:15.264Z"
      },
      {
        "duration": 85,
        "start_time": "2023-05-19T12:31:15.498Z"
      },
      {
        "duration": 425,
        "start_time": "2023-05-19T12:31:15.598Z"
      },
      {
        "duration": 14,
        "start_time": "2023-05-19T12:31:16.031Z"
      },
      {
        "duration": 854,
        "start_time": "2023-05-19T12:31:16.049Z"
      },
      {
        "duration": 1539,
        "start_time": "2023-05-19T12:31:16.924Z"
      },
      {
        "duration": 1175,
        "start_time": "2023-05-19T12:31:18.471Z"
      },
      {
        "duration": 30,
        "start_time": "2023-05-19T12:31:19.653Z"
      },
      {
        "duration": 217,
        "start_time": "2023-05-19T12:31:19.702Z"
      },
      {
        "duration": 130,
        "start_time": "2023-05-19T12:31:19.937Z"
      },
      {
        "duration": 156,
        "start_time": "2023-05-19T12:31:20.075Z"
      },
      {
        "duration": 494,
        "start_time": "2023-05-19T12:31:20.234Z"
      },
      {
        "duration": 462,
        "start_time": "2023-05-19T12:31:20.736Z"
      },
      {
        "duration": 22,
        "start_time": "2023-05-19T12:31:21.201Z"
      },
      {
        "duration": 589,
        "start_time": "2023-05-19T12:31:21.226Z"
      },
      {
        "duration": 380,
        "start_time": "2023-05-19T12:31:21.823Z"
      },
      {
        "duration": 13,
        "start_time": "2023-05-19T12:31:22.210Z"
      },
      {
        "duration": 369,
        "start_time": "2023-05-19T12:31:22.230Z"
      },
      {
        "duration": 798,
        "start_time": "2023-05-19T12:31:22.616Z"
      },
      {
        "duration": 103,
        "start_time": "2023-05-19T12:31:23.421Z"
      },
      {
        "duration": 1632,
        "start_time": "2023-05-19T12:31:23.531Z"
      },
      {
        "duration": 359,
        "start_time": "2023-05-19T12:31:25.166Z"
      },
      {
        "duration": 43,
        "start_time": "2023-05-19T12:31:25.528Z"
      },
      {
        "duration": 94,
        "start_time": "2023-05-19T12:31:25.584Z"
      },
      {
        "duration": 247,
        "start_time": "2023-05-19T12:31:25.684Z"
      },
      {
        "duration": 29,
        "start_time": "2023-05-19T12:31:25.935Z"
      },
      {
        "duration": 367,
        "start_time": "2023-05-19T12:31:25.976Z"
      },
      {
        "duration": 186,
        "start_time": "2023-05-19T12:31:26.346Z"
      },
      {
        "duration": 173,
        "start_time": "2023-05-19T12:31:26.534Z"
      },
      {
        "duration": 188,
        "start_time": "2023-05-19T12:31:26.710Z"
      },
      {
        "duration": 24,
        "start_time": "2023-05-19T12:31:26.911Z"
      },
      {
        "duration": 206,
        "start_time": "2023-05-19T12:31:26.938Z"
      },
      {
        "duration": 1498,
        "start_time": "2023-05-19T19:16:59.368Z"
      },
      {
        "duration": 255,
        "start_time": "2023-05-19T19:17:00.869Z"
      },
      {
        "duration": 118,
        "start_time": "2023-05-19T19:17:01.126Z"
      },
      {
        "duration": 17,
        "start_time": "2023-05-19T19:17:01.246Z"
      },
      {
        "duration": 16,
        "start_time": "2023-05-19T19:17:01.265Z"
      },
      {
        "duration": 130,
        "start_time": "2023-05-19T19:17:01.282Z"
      },
      {
        "duration": 62,
        "start_time": "2023-05-19T19:17:01.414Z"
      },
      {
        "duration": 97,
        "start_time": "2023-05-19T19:17:01.478Z"
      },
      {
        "duration": 88,
        "start_time": "2023-05-19T19:17:01.577Z"
      },
      {
        "duration": 16,
        "start_time": "2023-05-19T19:17:01.669Z"
      },
      {
        "duration": 43,
        "start_time": "2023-05-19T19:17:01.687Z"
      },
      {
        "duration": 34,
        "start_time": "2023-05-19T19:17:01.732Z"
      },
      {
        "duration": 10,
        "start_time": "2023-05-19T19:17:01.768Z"
      },
      {
        "duration": 19,
        "start_time": "2023-05-19T19:17:01.781Z"
      },
      {
        "duration": 98,
        "start_time": "2023-05-19T19:17:01.802Z"
      },
      {
        "duration": 58,
        "start_time": "2023-05-19T19:17:01.902Z"
      },
      {
        "duration": 224,
        "start_time": "2023-05-19T19:17:01.963Z"
      },
      {
        "duration": 5,
        "start_time": "2023-05-19T19:17:02.190Z"
      },
      {
        "duration": 343,
        "start_time": "2023-05-19T19:17:02.197Z"
      },
      {
        "duration": 747,
        "start_time": "2023-05-19T19:17:02.542Z"
      },
      {
        "duration": 346,
        "start_time": "2023-05-19T19:17:03.291Z"
      },
      {
        "duration": 18,
        "start_time": "2023-05-19T19:17:03.639Z"
      },
      {
        "duration": 20,
        "start_time": "2023-05-19T19:17:03.659Z"
      },
      {
        "duration": 6,
        "start_time": "2023-05-19T19:17:03.681Z"
      },
      {
        "duration": 10,
        "start_time": "2023-05-19T19:17:03.689Z"
      },
      {
        "duration": 235,
        "start_time": "2023-05-19T19:17:03.701Z"
      },
      {
        "duration": 274,
        "start_time": "2023-05-19T19:17:03.938Z"
      },
      {
        "duration": 8,
        "start_time": "2023-05-19T19:17:04.217Z"
      },
      {
        "duration": 268,
        "start_time": "2023-05-19T19:17:04.228Z"
      },
      {
        "duration": 245,
        "start_time": "2023-05-19T19:17:04.498Z"
      },
      {
        "duration": 9,
        "start_time": "2023-05-19T19:17:04.744Z"
      },
      {
        "duration": 57,
        "start_time": "2023-05-19T19:17:04.755Z"
      },
      {
        "duration": 360,
        "start_time": "2023-05-19T19:17:04.814Z"
      },
      {
        "duration": 52,
        "start_time": "2023-05-19T19:17:05.176Z"
      },
      {
        "duration": 569,
        "start_time": "2023-05-19T19:17:05.230Z"
      },
      {
        "duration": 265,
        "start_time": "2023-05-19T19:17:05.801Z"
      },
      {
        "duration": 19,
        "start_time": "2023-05-19T19:17:06.068Z"
      },
      {
        "duration": 11,
        "start_time": "2023-05-19T19:17:06.088Z"
      },
      {
        "duration": 116,
        "start_time": "2023-05-19T19:17:06.100Z"
      },
      {
        "duration": 11,
        "start_time": "2023-05-19T19:17:06.218Z"
      },
      {
        "duration": 70,
        "start_time": "2023-05-19T19:17:06.231Z"
      },
      {
        "duration": 63,
        "start_time": "2023-05-19T19:17:06.302Z"
      },
      {
        "duration": 53,
        "start_time": "2023-05-19T19:17:06.367Z"
      },
      {
        "duration": 92,
        "start_time": "2023-05-19T19:17:06.422Z"
      },
      {
        "duration": 9,
        "start_time": "2023-05-19T19:17:06.516Z"
      },
      {
        "duration": 30,
        "start_time": "2023-05-19T19:17:06.527Z"
      },
      {
        "duration": 52,
        "start_time": "2023-05-20T13:03:25.481Z"
      },
      {
        "duration": 8,
        "start_time": "2023-05-20T13:03:44.008Z"
      },
      {
        "duration": 1368,
        "start_time": "2023-05-20T13:03:59.707Z"
      },
      {
        "duration": 216,
        "start_time": "2023-05-20T13:04:01.078Z"
      },
      {
        "duration": 106,
        "start_time": "2023-05-20T13:04:01.297Z"
      },
      {
        "duration": 13,
        "start_time": "2023-05-20T13:04:01.405Z"
      },
      {
        "duration": 159,
        "start_time": "2023-05-20T13:04:01.420Z"
      },
      {
        "duration": 0,
        "start_time": "2023-05-20T13:04:01.581Z"
      },
      {
        "duration": 0,
        "start_time": "2023-05-20T13:04:01.583Z"
      },
      {
        "duration": 0,
        "start_time": "2023-05-20T13:04:01.584Z"
      },
      {
        "duration": 0,
        "start_time": "2023-05-20T13:04:01.585Z"
      },
      {
        "duration": 0,
        "start_time": "2023-05-20T13:04:01.586Z"
      },
      {
        "duration": 0,
        "start_time": "2023-05-20T13:04:01.588Z"
      },
      {
        "duration": 0,
        "start_time": "2023-05-20T13:04:01.590Z"
      },
      {
        "duration": 0,
        "start_time": "2023-05-20T13:04:01.591Z"
      },
      {
        "duration": 0,
        "start_time": "2023-05-20T13:04:01.592Z"
      },
      {
        "duration": 0,
        "start_time": "2023-05-20T13:04:01.594Z"
      },
      {
        "duration": 0,
        "start_time": "2023-05-20T13:04:01.596Z"
      },
      {
        "duration": 0,
        "start_time": "2023-05-20T13:04:01.597Z"
      },
      {
        "duration": 0,
        "start_time": "2023-05-20T13:04:01.599Z"
      },
      {
        "duration": 0,
        "start_time": "2023-05-20T13:04:01.600Z"
      },
      {
        "duration": 0,
        "start_time": "2023-05-20T13:04:01.602Z"
      },
      {
        "duration": 0,
        "start_time": "2023-05-20T13:04:01.603Z"
      },
      {
        "duration": 0,
        "start_time": "2023-05-20T13:04:01.606Z"
      },
      {
        "duration": 0,
        "start_time": "2023-05-20T13:04:01.607Z"
      },
      {
        "duration": 0,
        "start_time": "2023-05-20T13:04:01.609Z"
      },
      {
        "duration": 0,
        "start_time": "2023-05-20T13:04:01.610Z"
      },
      {
        "duration": 0,
        "start_time": "2023-05-20T13:04:01.612Z"
      },
      {
        "duration": 0,
        "start_time": "2023-05-20T13:04:01.657Z"
      },
      {
        "duration": 0,
        "start_time": "2023-05-20T13:04:01.659Z"
      },
      {
        "duration": 0,
        "start_time": "2023-05-20T13:04:01.661Z"
      },
      {
        "duration": 0,
        "start_time": "2023-05-20T13:04:01.663Z"
      },
      {
        "duration": 0,
        "start_time": "2023-05-20T13:04:01.664Z"
      },
      {
        "duration": 0,
        "start_time": "2023-05-20T13:04:01.666Z"
      },
      {
        "duration": 0,
        "start_time": "2023-05-20T13:04:01.667Z"
      },
      {
        "duration": 0,
        "start_time": "2023-05-20T13:04:01.668Z"
      },
      {
        "duration": 0,
        "start_time": "2023-05-20T13:04:01.670Z"
      },
      {
        "duration": 0,
        "start_time": "2023-05-20T13:04:01.671Z"
      },
      {
        "duration": 0,
        "start_time": "2023-05-20T13:04:01.672Z"
      },
      {
        "duration": 0,
        "start_time": "2023-05-20T13:04:01.673Z"
      },
      {
        "duration": 0,
        "start_time": "2023-05-20T13:04:01.674Z"
      },
      {
        "duration": 0,
        "start_time": "2023-05-20T13:04:01.675Z"
      },
      {
        "duration": 0,
        "start_time": "2023-05-20T13:04:01.676Z"
      },
      {
        "duration": 0,
        "start_time": "2023-05-20T13:04:01.678Z"
      },
      {
        "duration": 0,
        "start_time": "2023-05-20T13:04:01.679Z"
      },
      {
        "duration": 0,
        "start_time": "2023-05-20T13:04:01.680Z"
      },
      {
        "duration": 0,
        "start_time": "2023-05-20T13:04:01.681Z"
      },
      {
        "duration": 0,
        "start_time": "2023-05-20T13:04:01.682Z"
      },
      {
        "duration": 13,
        "start_time": "2023-05-20T13:05:11.321Z"
      },
      {
        "duration": 10,
        "start_time": "2023-05-20T13:08:06.993Z"
      },
      {
        "duration": 11,
        "start_time": "2023-05-20T13:11:02.338Z"
      },
      {
        "duration": 10,
        "start_time": "2023-05-20T13:11:17.213Z"
      },
      {
        "duration": 9,
        "start_time": "2023-05-20T13:12:57.642Z"
      },
      {
        "duration": 1332,
        "start_time": "2023-05-20T13:13:07.911Z"
      },
      {
        "duration": 147,
        "start_time": "2023-05-20T13:13:09.245Z"
      },
      {
        "duration": 31,
        "start_time": "2023-05-20T13:13:09.394Z"
      },
      {
        "duration": 12,
        "start_time": "2023-05-20T13:13:09.427Z"
      },
      {
        "duration": 26,
        "start_time": "2023-05-20T13:13:09.442Z"
      },
      {
        "duration": 842,
        "start_time": "2023-05-20T13:13:09.469Z"
      },
      {
        "duration": 0,
        "start_time": "2023-05-20T13:13:10.315Z"
      },
      {
        "duration": 0,
        "start_time": "2023-05-20T13:13:10.317Z"
      },
      {
        "duration": 0,
        "start_time": "2023-05-20T13:13:10.317Z"
      },
      {
        "duration": 0,
        "start_time": "2023-05-20T13:13:10.318Z"
      },
      {
        "duration": 0,
        "start_time": "2023-05-20T13:13:10.319Z"
      },
      {
        "duration": 0,
        "start_time": "2023-05-20T13:13:10.320Z"
      },
      {
        "duration": 0,
        "start_time": "2023-05-20T13:13:10.321Z"
      },
      {
        "duration": 0,
        "start_time": "2023-05-20T13:13:10.321Z"
      },
      {
        "duration": 0,
        "start_time": "2023-05-20T13:13:10.322Z"
      },
      {
        "duration": 0,
        "start_time": "2023-05-20T13:13:10.323Z"
      },
      {
        "duration": 0,
        "start_time": "2023-05-20T13:13:10.324Z"
      },
      {
        "duration": 0,
        "start_time": "2023-05-20T13:13:10.325Z"
      },
      {
        "duration": 0,
        "start_time": "2023-05-20T13:13:10.326Z"
      },
      {
        "duration": 0,
        "start_time": "2023-05-20T13:13:10.328Z"
      },
      {
        "duration": 0,
        "start_time": "2023-05-20T13:13:10.329Z"
      },
      {
        "duration": 0,
        "start_time": "2023-05-20T13:13:10.330Z"
      },
      {
        "duration": 0,
        "start_time": "2023-05-20T13:13:10.331Z"
      },
      {
        "duration": 0,
        "start_time": "2023-05-20T13:13:10.332Z"
      },
      {
        "duration": 0,
        "start_time": "2023-05-20T13:13:10.333Z"
      },
      {
        "duration": 0,
        "start_time": "2023-05-20T13:13:10.334Z"
      },
      {
        "duration": 0,
        "start_time": "2023-05-20T13:13:10.335Z"
      },
      {
        "duration": 0,
        "start_time": "2023-05-20T13:13:10.336Z"
      },
      {
        "duration": 0,
        "start_time": "2023-05-20T13:13:10.337Z"
      },
      {
        "duration": 0,
        "start_time": "2023-05-20T13:13:10.338Z"
      },
      {
        "duration": 0,
        "start_time": "2023-05-20T13:13:10.339Z"
      },
      {
        "duration": 0,
        "start_time": "2023-05-20T13:13:10.340Z"
      },
      {
        "duration": 0,
        "start_time": "2023-05-20T13:13:10.341Z"
      },
      {
        "duration": 0,
        "start_time": "2023-05-20T13:13:10.342Z"
      },
      {
        "duration": 0,
        "start_time": "2023-05-20T13:13:10.343Z"
      },
      {
        "duration": 0,
        "start_time": "2023-05-20T13:13:10.344Z"
      },
      {
        "duration": 0,
        "start_time": "2023-05-20T13:13:10.345Z"
      },
      {
        "duration": 1,
        "start_time": "2023-05-20T13:13:10.346Z"
      },
      {
        "duration": 0,
        "start_time": "2023-05-20T13:13:10.347Z"
      },
      {
        "duration": 0,
        "start_time": "2023-05-20T13:13:10.349Z"
      },
      {
        "duration": 0,
        "start_time": "2023-05-20T13:13:10.350Z"
      },
      {
        "duration": 0,
        "start_time": "2023-05-20T13:13:10.351Z"
      },
      {
        "duration": 0,
        "start_time": "2023-05-20T13:13:10.352Z"
      },
      {
        "duration": 0,
        "start_time": "2023-05-20T13:13:10.353Z"
      },
      {
        "duration": 0,
        "start_time": "2023-05-20T13:13:10.356Z"
      },
      {
        "duration": 0,
        "start_time": "2023-05-20T13:13:10.357Z"
      },
      {
        "duration": 719,
        "start_time": "2023-05-20T13:15:09.528Z"
      },
      {
        "duration": 727,
        "start_time": "2023-05-20T13:15:29.214Z"
      },
      {
        "duration": 13,
        "start_time": "2023-05-20T13:16:54.443Z"
      },
      {
        "duration": 142,
        "start_time": "2023-05-20T13:16:58.868Z"
      },
      {
        "duration": 50,
        "start_time": "2023-05-20T13:18:42.488Z"
      },
      {
        "duration": 79,
        "start_time": "2023-05-20T13:18:46.015Z"
      },
      {
        "duration": 65,
        "start_time": "2023-05-20T13:18:57.062Z"
      },
      {
        "duration": 15,
        "start_time": "2023-05-20T13:22:54.553Z"
      },
      {
        "duration": 11,
        "start_time": "2023-05-20T13:23:36.526Z"
      },
      {
        "duration": 11,
        "start_time": "2023-05-20T13:25:06.028Z"
      },
      {
        "duration": 4,
        "start_time": "2023-05-20T13:25:16.894Z"
      },
      {
        "duration": 10,
        "start_time": "2023-05-20T13:27:05.930Z"
      },
      {
        "duration": 9,
        "start_time": "2023-05-20T13:27:14.543Z"
      },
      {
        "duration": 8,
        "start_time": "2023-05-20T13:27:24.606Z"
      },
      {
        "duration": 43,
        "start_time": "2023-05-20T13:29:10.159Z"
      },
      {
        "duration": 13,
        "start_time": "2023-05-20T13:29:22.495Z"
      },
      {
        "duration": 14,
        "start_time": "2023-05-20T13:29:51.696Z"
      },
      {
        "duration": 4,
        "start_time": "2023-05-20T13:29:56.148Z"
      },
      {
        "duration": 16,
        "start_time": "2023-05-20T13:30:03.476Z"
      },
      {
        "duration": 9,
        "start_time": "2023-05-20T13:31:05.158Z"
      },
      {
        "duration": 14,
        "start_time": "2023-05-20T13:31:34.243Z"
      },
      {
        "duration": 14,
        "start_time": "2023-05-20T13:31:49.436Z"
      },
      {
        "duration": 46,
        "start_time": "2023-05-20T13:34:12.662Z"
      },
      {
        "duration": 13,
        "start_time": "2023-05-20T13:34:18.098Z"
      },
      {
        "duration": 52,
        "start_time": "2023-05-20T13:37:13.342Z"
      },
      {
        "duration": 39,
        "start_time": "2023-05-20T13:37:20.556Z"
      },
      {
        "duration": 64,
        "start_time": "2023-05-20T13:38:22.593Z"
      },
      {
        "duration": 9,
        "start_time": "2023-05-20T13:40:31.905Z"
      },
      {
        "duration": 42,
        "start_time": "2023-05-20T13:40:46.327Z"
      },
      {
        "duration": 40,
        "start_time": "2023-05-20T13:41:24.114Z"
      },
      {
        "duration": 192,
        "start_time": "2023-05-20T13:41:39.640Z"
      },
      {
        "duration": 6,
        "start_time": "2023-05-20T13:44:46.320Z"
      },
      {
        "duration": 306,
        "start_time": "2023-05-20T13:44:57.071Z"
      },
      {
        "duration": 750,
        "start_time": "2023-05-20T13:45:57.318Z"
      },
      {
        "duration": 16,
        "start_time": "2023-05-20T13:46:45.610Z"
      },
      {
        "duration": 16,
        "start_time": "2023-05-20T13:50:33.285Z"
      },
      {
        "duration": 130,
        "start_time": "2023-05-20T13:50:57.310Z"
      },
      {
        "duration": 16,
        "start_time": "2023-05-20T13:53:04.988Z"
      },
      {
        "duration": 128,
        "start_time": "2023-05-20T13:53:06.922Z"
      },
      {
        "duration": 17,
        "start_time": "2023-05-20T13:54:18.465Z"
      },
      {
        "duration": 141,
        "start_time": "2023-05-20T13:54:19.853Z"
      },
      {
        "duration": 11,
        "start_time": "2023-05-20T13:55:13.403Z"
      },
      {
        "duration": 121,
        "start_time": "2023-05-20T13:55:24.584Z"
      },
      {
        "duration": 16,
        "start_time": "2023-05-20T13:55:35.858Z"
      },
      {
        "duration": 135,
        "start_time": "2023-05-20T13:55:37.757Z"
      },
      {
        "duration": 10,
        "start_time": "2023-05-20T13:59:14.086Z"
      },
      {
        "duration": 1266,
        "start_time": "2023-05-20T13:59:24.782Z"
      },
      {
        "duration": 938,
        "start_time": "2023-05-20T13:59:57.609Z"
      },
      {
        "duration": 45,
        "start_time": "2023-05-20T14:00:33.514Z"
      },
      {
        "duration": 24,
        "start_time": "2023-05-20T14:02:37.060Z"
      },
      {
        "duration": 10,
        "start_time": "2023-05-20T14:03:37.699Z"
      },
      {
        "duration": 1318,
        "start_time": "2023-05-20T14:03:45.155Z"
      },
      {
        "duration": 161,
        "start_time": "2023-05-20T14:03:46.476Z"
      },
      {
        "duration": 32,
        "start_time": "2023-05-20T14:03:46.639Z"
      },
      {
        "duration": 14,
        "start_time": "2023-05-20T14:03:46.672Z"
      },
      {
        "duration": 24,
        "start_time": "2023-05-20T14:03:46.688Z"
      },
      {
        "duration": 121,
        "start_time": "2023-05-20T14:03:46.713Z"
      },
      {
        "duration": 63,
        "start_time": "2023-05-20T14:03:46.835Z"
      },
      {
        "duration": 92,
        "start_time": "2023-05-20T14:03:46.899Z"
      },
      {
        "duration": 71,
        "start_time": "2023-05-20T14:03:46.993Z"
      },
      {
        "duration": 9,
        "start_time": "2023-05-20T14:03:47.065Z"
      },
      {
        "duration": 39,
        "start_time": "2023-05-20T14:03:47.076Z"
      },
      {
        "duration": 12,
        "start_time": "2023-05-20T14:03:47.117Z"
      },
      {
        "duration": 35,
        "start_time": "2023-05-20T14:03:47.131Z"
      },
      {
        "duration": 19,
        "start_time": "2023-05-20T14:03:47.171Z"
      },
      {
        "duration": 37,
        "start_time": "2023-05-20T14:03:47.192Z"
      },
      {
        "duration": 840,
        "start_time": "2023-05-20T14:03:47.231Z"
      },
      {
        "duration": 0,
        "start_time": "2023-05-20T14:03:48.074Z"
      },
      {
        "duration": 0,
        "start_time": "2023-05-20T14:03:48.076Z"
      },
      {
        "duration": 0,
        "start_time": "2023-05-20T14:03:48.077Z"
      },
      {
        "duration": 0,
        "start_time": "2023-05-20T14:03:48.079Z"
      },
      {
        "duration": 0,
        "start_time": "2023-05-20T14:03:48.080Z"
      },
      {
        "duration": 0,
        "start_time": "2023-05-20T14:03:48.081Z"
      },
      {
        "duration": 0,
        "start_time": "2023-05-20T14:03:48.082Z"
      },
      {
        "duration": 0,
        "start_time": "2023-05-20T14:03:48.084Z"
      },
      {
        "duration": 0,
        "start_time": "2023-05-20T14:03:48.085Z"
      },
      {
        "duration": 0,
        "start_time": "2023-05-20T14:03:48.086Z"
      },
      {
        "duration": 0,
        "start_time": "2023-05-20T14:03:48.087Z"
      },
      {
        "duration": 0,
        "start_time": "2023-05-20T14:03:48.089Z"
      },
      {
        "duration": 0,
        "start_time": "2023-05-20T14:03:48.090Z"
      },
      {
        "duration": 0,
        "start_time": "2023-05-20T14:03:48.091Z"
      },
      {
        "duration": 0,
        "start_time": "2023-05-20T14:03:48.092Z"
      },
      {
        "duration": 0,
        "start_time": "2023-05-20T14:03:48.093Z"
      },
      {
        "duration": 0,
        "start_time": "2023-05-20T14:03:48.095Z"
      },
      {
        "duration": 0,
        "start_time": "2023-05-20T14:03:48.096Z"
      },
      {
        "duration": 0,
        "start_time": "2023-05-20T14:03:48.097Z"
      },
      {
        "duration": 0,
        "start_time": "2023-05-20T14:03:48.098Z"
      },
      {
        "duration": 0,
        "start_time": "2023-05-20T14:03:48.099Z"
      },
      {
        "duration": 0,
        "start_time": "2023-05-20T14:03:48.100Z"
      },
      {
        "duration": 0,
        "start_time": "2023-05-20T14:03:48.101Z"
      },
      {
        "duration": 0,
        "start_time": "2023-05-20T14:03:48.102Z"
      },
      {
        "duration": 0,
        "start_time": "2023-05-20T14:03:48.104Z"
      },
      {
        "duration": 0,
        "start_time": "2023-05-20T14:03:48.105Z"
      },
      {
        "duration": 0,
        "start_time": "2023-05-20T14:03:48.106Z"
      },
      {
        "duration": 0,
        "start_time": "2023-05-20T14:03:48.107Z"
      },
      {
        "duration": 0,
        "start_time": "2023-05-20T14:03:48.108Z"
      },
      {
        "duration": 0,
        "start_time": "2023-05-20T14:03:48.110Z"
      },
      {
        "duration": 0,
        "start_time": "2023-05-20T14:03:48.157Z"
      },
      {
        "duration": 0,
        "start_time": "2023-05-20T14:03:48.158Z"
      },
      {
        "duration": 0,
        "start_time": "2023-05-20T14:03:48.159Z"
      },
      {
        "duration": 0,
        "start_time": "2023-05-20T14:03:48.160Z"
      },
      {
        "duration": 4,
        "start_time": "2023-05-20T14:04:07.787Z"
      },
      {
        "duration": 157,
        "start_time": "2023-05-20T14:04:09.202Z"
      },
      {
        "duration": 41,
        "start_time": "2023-05-20T14:04:10.754Z"
      },
      {
        "duration": 12,
        "start_time": "2023-05-20T14:04:14.502Z"
      },
      {
        "duration": 14,
        "start_time": "2023-05-20T14:04:18.360Z"
      },
      {
        "duration": 108,
        "start_time": "2023-05-20T14:04:20.758Z"
      },
      {
        "duration": 51,
        "start_time": "2023-05-20T14:04:24.571Z"
      },
      {
        "duration": 83,
        "start_time": "2023-05-20T14:04:26.662Z"
      },
      {
        "duration": 25,
        "start_time": "2023-05-20T14:04:29.777Z"
      },
      {
        "duration": 8,
        "start_time": "2023-05-20T14:04:32.515Z"
      },
      {
        "duration": 42,
        "start_time": "2023-05-20T14:04:34.605Z"
      },
      {
        "duration": 11,
        "start_time": "2023-05-20T14:04:37.876Z"
      },
      {
        "duration": 4,
        "start_time": "2023-05-20T14:04:39.479Z"
      },
      {
        "duration": 15,
        "start_time": "2023-05-20T14:04:41.658Z"
      },
      {
        "duration": 36,
        "start_time": "2023-05-20T14:04:45.559Z"
      },
      {
        "duration": 54,
        "start_time": "2023-05-20T14:04:56.679Z"
      },
      {
        "duration": 37,
        "start_time": "2023-05-20T14:05:01.078Z"
      },
      {
        "duration": 206,
        "start_time": "2023-05-20T14:05:04.264Z"
      },
      {
        "duration": 5,
        "start_time": "2023-05-20T14:05:07.911Z"
      },
      {
        "duration": 304,
        "start_time": "2023-05-20T14:05:10.154Z"
      },
      {
        "duration": 27,
        "start_time": "2023-05-20T14:05:13.258Z"
      },
      {
        "duration": 15,
        "start_time": "2023-05-20T14:05:20.282Z"
      },
      {
        "duration": 122,
        "start_time": "2023-05-20T14:05:22.766Z"
      },
      {
        "duration": 273,
        "start_time": "2023-05-20T14:05:28.500Z"
      },
      {
        "duration": 313,
        "start_time": "2023-05-20T14:08:20.878Z"
      },
      {
        "duration": 17,
        "start_time": "2023-05-20T14:09:51.572Z"
      },
      {
        "duration": 16,
        "start_time": "2023-05-20T14:10:18.717Z"
      },
      {
        "duration": 351,
        "start_time": "2023-05-20T14:10:38.225Z"
      },
      {
        "duration": 241,
        "start_time": "2023-05-20T14:12:56.097Z"
      },
      {
        "duration": 255,
        "start_time": "2023-05-20T14:13:05.343Z"
      },
      {
        "duration": 8,
        "start_time": "2023-05-20T14:13:32.620Z"
      },
      {
        "duration": 11,
        "start_time": "2023-05-20T14:20:21.953Z"
      },
      {
        "duration": 11,
        "start_time": "2023-05-20T14:21:26.784Z"
      },
      {
        "duration": 19,
        "start_time": "2023-05-20T14:22:13.340Z"
      },
      {
        "duration": 13,
        "start_time": "2023-05-20T14:22:21.393Z"
      },
      {
        "duration": 12,
        "start_time": "2023-05-20T14:22:30.949Z"
      },
      {
        "duration": 1375,
        "start_time": "2023-05-20T14:39:07.750Z"
      },
      {
        "duration": 177,
        "start_time": "2023-05-20T14:39:09.128Z"
      },
      {
        "duration": 33,
        "start_time": "2023-05-20T14:39:09.307Z"
      },
      {
        "duration": 27,
        "start_time": "2023-05-20T14:39:09.343Z"
      },
      {
        "duration": 16,
        "start_time": "2023-05-20T14:39:09.372Z"
      },
      {
        "duration": 125,
        "start_time": "2023-05-20T14:39:09.390Z"
      },
      {
        "duration": 60,
        "start_time": "2023-05-20T14:39:09.517Z"
      },
      {
        "duration": 101,
        "start_time": "2023-05-20T14:39:09.578Z"
      },
      {
        "duration": 85,
        "start_time": "2023-05-20T14:39:09.681Z"
      },
      {
        "duration": 11,
        "start_time": "2023-05-20T14:39:09.769Z"
      },
      {
        "duration": 41,
        "start_time": "2023-05-20T14:39:09.782Z"
      },
      {
        "duration": 41,
        "start_time": "2023-05-20T14:39:09.825Z"
      },
      {
        "duration": 23,
        "start_time": "2023-05-20T14:39:09.871Z"
      },
      {
        "duration": 23,
        "start_time": "2023-05-20T14:39:09.895Z"
      },
      {
        "duration": 29,
        "start_time": "2023-05-20T14:39:09.920Z"
      },
      {
        "duration": 69,
        "start_time": "2023-05-20T14:39:09.951Z"
      },
      {
        "duration": 49,
        "start_time": "2023-05-20T14:39:10.023Z"
      },
      {
        "duration": 218,
        "start_time": "2023-05-20T14:39:10.074Z"
      },
      {
        "duration": 5,
        "start_time": "2023-05-20T14:39:10.294Z"
      },
      {
        "duration": 323,
        "start_time": "2023-05-20T14:39:10.300Z"
      },
      {
        "duration": 15,
        "start_time": "2023-05-20T14:39:10.625Z"
      },
      {
        "duration": 163,
        "start_time": "2023-05-20T14:39:10.642Z"
      },
      {
        "duration": 302,
        "start_time": "2023-05-20T14:39:10.806Z"
      },
      {
        "duration": 10,
        "start_time": "2023-05-20T14:39:11.110Z"
      },
      {
        "duration": 15,
        "start_time": "2023-05-20T14:39:11.122Z"
      },
      {
        "duration": 13,
        "start_time": "2023-05-20T14:39:11.157Z"
      },
      {
        "duration": 168,
        "start_time": "2023-05-20T14:39:11.172Z"
      },
      {
        "duration": 0,
        "start_time": "2023-05-20T14:39:11.343Z"
      },
      {
        "duration": 0,
        "start_time": "2023-05-20T14:39:11.344Z"
      },
      {
        "duration": 0,
        "start_time": "2023-05-20T14:39:11.345Z"
      },
      {
        "duration": 0,
        "start_time": "2023-05-20T14:39:11.346Z"
      },
      {
        "duration": 0,
        "start_time": "2023-05-20T14:39:11.348Z"
      },
      {
        "duration": 0,
        "start_time": "2023-05-20T14:39:11.356Z"
      },
      {
        "duration": 0,
        "start_time": "2023-05-20T14:39:11.357Z"
      },
      {
        "duration": 0,
        "start_time": "2023-05-20T14:39:11.359Z"
      },
      {
        "duration": 0,
        "start_time": "2023-05-20T14:39:11.360Z"
      },
      {
        "duration": 0,
        "start_time": "2023-05-20T14:39:11.362Z"
      },
      {
        "duration": 0,
        "start_time": "2023-05-20T14:39:11.364Z"
      },
      {
        "duration": 0,
        "start_time": "2023-05-20T14:39:11.365Z"
      },
      {
        "duration": 0,
        "start_time": "2023-05-20T14:39:11.366Z"
      },
      {
        "duration": 0,
        "start_time": "2023-05-20T14:39:11.368Z"
      },
      {
        "duration": 0,
        "start_time": "2023-05-20T14:39:11.369Z"
      },
      {
        "duration": 0,
        "start_time": "2023-05-20T14:39:11.370Z"
      },
      {
        "duration": 0,
        "start_time": "2023-05-20T14:39:11.372Z"
      },
      {
        "duration": 0,
        "start_time": "2023-05-20T14:39:11.373Z"
      },
      {
        "duration": 0,
        "start_time": "2023-05-20T14:39:11.375Z"
      },
      {
        "duration": 0,
        "start_time": "2023-05-20T14:39:11.376Z"
      },
      {
        "duration": 0,
        "start_time": "2023-05-20T14:39:11.377Z"
      },
      {
        "duration": 0,
        "start_time": "2023-05-20T14:39:11.378Z"
      },
      {
        "duration": 0,
        "start_time": "2023-05-20T14:39:11.379Z"
      },
      {
        "duration": 0,
        "start_time": "2023-05-20T14:39:11.380Z"
      },
      {
        "duration": 0,
        "start_time": "2023-05-20T14:39:11.381Z"
      },
      {
        "duration": 0,
        "start_time": "2023-05-20T14:39:11.382Z"
      },
      {
        "duration": 1348,
        "start_time": "2023-05-20T14:41:19.475Z"
      },
      {
        "duration": 153,
        "start_time": "2023-05-20T14:41:20.825Z"
      },
      {
        "duration": 33,
        "start_time": "2023-05-20T14:41:20.980Z"
      },
      {
        "duration": 14,
        "start_time": "2023-05-20T14:41:21.014Z"
      },
      {
        "duration": 44,
        "start_time": "2023-05-20T14:41:21.030Z"
      },
      {
        "duration": 115,
        "start_time": "2023-05-20T14:41:21.076Z"
      },
      {
        "duration": 52,
        "start_time": "2023-05-20T14:41:21.193Z"
      },
      {
        "duration": 95,
        "start_time": "2023-05-20T14:41:21.247Z"
      },
      {
        "duration": 73,
        "start_time": "2023-05-20T14:41:21.356Z"
      },
      {
        "duration": 9,
        "start_time": "2023-05-20T14:41:21.431Z"
      },
      {
        "duration": 70,
        "start_time": "2023-05-20T14:41:21.441Z"
      },
      {
        "duration": 11,
        "start_time": "2023-05-20T14:41:21.513Z"
      },
      {
        "duration": 16,
        "start_time": "2023-05-20T14:41:21.526Z"
      },
      {
        "duration": 27,
        "start_time": "2023-05-20T14:41:21.545Z"
      },
      {
        "duration": 29,
        "start_time": "2023-05-20T14:41:21.574Z"
      },
      {
        "duration": 67,
        "start_time": "2023-05-20T14:41:21.605Z"
      },
      {
        "duration": 34,
        "start_time": "2023-05-20T14:41:21.674Z"
      },
      {
        "duration": 230,
        "start_time": "2023-05-20T14:41:21.711Z"
      },
      {
        "duration": 14,
        "start_time": "2023-05-20T14:41:21.943Z"
      },
      {
        "duration": 303,
        "start_time": "2023-05-20T14:41:21.959Z"
      },
      {
        "duration": 18,
        "start_time": "2023-05-20T14:41:22.264Z"
      },
      {
        "duration": 142,
        "start_time": "2023-05-20T14:41:22.284Z"
      },
      {
        "duration": 267,
        "start_time": "2023-05-20T14:41:22.428Z"
      },
      {
        "duration": 10,
        "start_time": "2023-05-20T14:41:22.698Z"
      },
      {
        "duration": 21,
        "start_time": "2023-05-20T14:41:22.710Z"
      },
      {
        "duration": 39,
        "start_time": "2023-05-20T14:41:22.734Z"
      },
      {
        "duration": 17,
        "start_time": "2023-05-20T14:42:14.660Z"
      },
      {
        "duration": 20,
        "start_time": "2023-05-20T14:42:14.679Z"
      },
      {
        "duration": 140,
        "start_time": "2023-05-20T14:42:14.701Z"
      },
      {
        "duration": 0,
        "start_time": "2023-05-20T14:42:14.844Z"
      },
      {
        "duration": 0,
        "start_time": "2023-05-20T14:42:14.846Z"
      },
      {
        "duration": 0,
        "start_time": "2023-05-20T14:42:14.856Z"
      },
      {
        "duration": 0,
        "start_time": "2023-05-20T14:42:14.857Z"
      },
      {
        "duration": 0,
        "start_time": "2023-05-20T14:42:14.858Z"
      },
      {
        "duration": 0,
        "start_time": "2023-05-20T14:42:14.860Z"
      },
      {
        "duration": 0,
        "start_time": "2023-05-20T14:42:14.861Z"
      },
      {
        "duration": 0,
        "start_time": "2023-05-20T14:42:14.862Z"
      },
      {
        "duration": 0,
        "start_time": "2023-05-20T14:42:14.863Z"
      },
      {
        "duration": 0,
        "start_time": "2023-05-20T14:42:14.865Z"
      },
      {
        "duration": 0,
        "start_time": "2023-05-20T14:42:14.866Z"
      },
      {
        "duration": 0,
        "start_time": "2023-05-20T14:42:14.867Z"
      },
      {
        "duration": 0,
        "start_time": "2023-05-20T14:42:14.868Z"
      },
      {
        "duration": 0,
        "start_time": "2023-05-20T14:42:14.870Z"
      },
      {
        "duration": 0,
        "start_time": "2023-05-20T14:42:14.871Z"
      },
      {
        "duration": 0,
        "start_time": "2023-05-20T14:42:14.872Z"
      },
      {
        "duration": 0,
        "start_time": "2023-05-20T14:42:14.873Z"
      },
      {
        "duration": 0,
        "start_time": "2023-05-20T14:42:14.874Z"
      },
      {
        "duration": 0,
        "start_time": "2023-05-20T14:42:14.875Z"
      },
      {
        "duration": 0,
        "start_time": "2023-05-20T14:42:14.876Z"
      },
      {
        "duration": 0,
        "start_time": "2023-05-20T14:42:14.877Z"
      },
      {
        "duration": 0,
        "start_time": "2023-05-20T14:42:14.878Z"
      },
      {
        "duration": 0,
        "start_time": "2023-05-20T14:42:14.879Z"
      },
      {
        "duration": 44851,
        "start_time": "2023-05-20T14:43:08.574Z"
      },
      {
        "duration": 28,
        "start_time": "2023-05-20T14:45:23.987Z"
      },
      {
        "duration": 192,
        "start_time": "2023-05-20T14:52:45.235Z"
      },
      {
        "duration": 4,
        "start_time": "2023-05-20T14:53:31.951Z"
      },
      {
        "duration": 300,
        "start_time": "2023-05-20T14:55:08.564Z"
      },
      {
        "duration": 12,
        "start_time": "2023-05-20T15:10:31.031Z"
      },
      {
        "duration": 10,
        "start_time": "2023-05-20T15:11:24.547Z"
      },
      {
        "duration": 22,
        "start_time": "2023-05-20T15:16:56.586Z"
      },
      {
        "duration": 29,
        "start_time": "2023-05-20T15:17:21.366Z"
      },
      {
        "duration": 11,
        "start_time": "2023-05-20T15:18:40.708Z"
      },
      {
        "duration": 5,
        "start_time": "2023-05-20T15:19:45.289Z"
      },
      {
        "duration": 10,
        "start_time": "2023-05-20T15:23:15.676Z"
      },
      {
        "duration": 205,
        "start_time": "2023-05-20T15:23:56.698Z"
      },
      {
        "duration": 116,
        "start_time": "2023-05-20T15:27:16.338Z"
      },
      {
        "duration": 9,
        "start_time": "2023-05-20T15:27:48.386Z"
      },
      {
        "duration": 123,
        "start_time": "2023-05-20T15:27:51.300Z"
      },
      {
        "duration": 125,
        "start_time": "2023-05-20T15:28:54.553Z"
      },
      {
        "duration": 139,
        "start_time": "2023-05-20T15:30:58.773Z"
      },
      {
        "duration": 126,
        "start_time": "2023-05-20T15:32:32.956Z"
      },
      {
        "duration": 109,
        "start_time": "2023-05-20T15:35:09.819Z"
      },
      {
        "duration": 125,
        "start_time": "2023-05-20T15:35:25.838Z"
      },
      {
        "duration": 156,
        "start_time": "2023-05-20T15:35:38.950Z"
      },
      {
        "duration": 6,
        "start_time": "2023-05-20T15:37:33.965Z"
      },
      {
        "duration": 43,
        "start_time": "2023-05-20T15:40:31.268Z"
      },
      {
        "duration": 7,
        "start_time": "2023-05-20T15:42:23.320Z"
      },
      {
        "duration": 6,
        "start_time": "2023-05-20T15:42:33.189Z"
      },
      {
        "duration": 6,
        "start_time": "2023-05-20T15:42:42.148Z"
      },
      {
        "duration": 7,
        "start_time": "2023-05-20T15:42:47.501Z"
      },
      {
        "duration": 13,
        "start_time": "2023-05-20T15:43:50.189Z"
      },
      {
        "duration": 165,
        "start_time": "2023-05-20T15:43:52.286Z"
      },
      {
        "duration": 123,
        "start_time": "2023-05-20T15:44:08.024Z"
      },
      {
        "duration": 46,
        "start_time": "2023-05-20T15:44:11.752Z"
      },
      {
        "duration": 5,
        "start_time": "2023-05-20T15:44:15.919Z"
      },
      {
        "duration": 1307,
        "start_time": "2023-05-20T15:44:50.162Z"
      },
      {
        "duration": 154,
        "start_time": "2023-05-20T15:44:51.471Z"
      },
      {
        "duration": 33,
        "start_time": "2023-05-20T15:44:51.627Z"
      },
      {
        "duration": 13,
        "start_time": "2023-05-20T15:44:51.663Z"
      },
      {
        "duration": 39,
        "start_time": "2023-05-20T15:44:51.678Z"
      },
      {
        "duration": 113,
        "start_time": "2023-05-20T15:44:51.719Z"
      },
      {
        "duration": 56,
        "start_time": "2023-05-20T15:44:51.834Z"
      },
      {
        "duration": 94,
        "start_time": "2023-05-20T15:44:51.891Z"
      },
      {
        "duration": 77,
        "start_time": "2023-05-20T15:44:51.987Z"
      },
      {
        "duration": 10,
        "start_time": "2023-05-20T15:44:52.067Z"
      },
      {
        "duration": 66,
        "start_time": "2023-05-20T15:44:52.079Z"
      },
      {
        "duration": 14,
        "start_time": "2023-05-20T15:44:52.147Z"
      },
      {
        "duration": 15,
        "start_time": "2023-05-20T15:44:52.163Z"
      },
      {
        "duration": 24,
        "start_time": "2023-05-20T15:44:52.180Z"
      },
      {
        "duration": 37,
        "start_time": "2023-05-20T15:44:52.206Z"
      },
      {
        "duration": 57,
        "start_time": "2023-05-20T15:44:52.245Z"
      },
      {
        "duration": 34,
        "start_time": "2023-05-20T15:44:52.304Z"
      },
      {
        "duration": 205,
        "start_time": "2023-05-20T15:44:52.357Z"
      },
      {
        "duration": 6,
        "start_time": "2023-05-20T15:44:52.564Z"
      },
      {
        "duration": 19,
        "start_time": "2023-05-20T15:44:52.572Z"
      },
      {
        "duration": 31,
        "start_time": "2023-05-20T15:44:52.594Z"
      },
      {
        "duration": 139,
        "start_time": "2023-05-20T15:44:52.627Z"
      },
      {
        "duration": 349,
        "start_time": "2023-05-20T15:44:52.768Z"
      },
      {
        "duration": 9,
        "start_time": "2023-05-20T15:44:53.119Z"
      },
      {
        "duration": 27,
        "start_time": "2023-05-20T15:44:53.130Z"
      },
      {
        "duration": 20,
        "start_time": "2023-05-20T15:44:53.159Z"
      },
      {
        "duration": 305,
        "start_time": "2023-05-20T15:44:53.181Z"
      },
      {
        "duration": 28,
        "start_time": "2023-05-20T15:44:53.490Z"
      },
      {
        "duration": 9,
        "start_time": "2023-05-20T15:44:53.520Z"
      },
      {
        "duration": 243,
        "start_time": "2023-05-20T15:44:53.531Z"
      },
      {
        "duration": 133,
        "start_time": "2023-05-20T15:44:53.776Z"
      },
      {
        "duration": 54,
        "start_time": "2023-05-20T15:44:53.910Z"
      },
      {
        "duration": 5,
        "start_time": "2023-05-20T15:44:53.966Z"
      },
      {
        "duration": 240,
        "start_time": "2023-05-20T15:44:53.973Z"
      },
      {
        "duration": 253,
        "start_time": "2023-05-20T15:44:54.216Z"
      },
      {
        "duration": 7,
        "start_time": "2023-05-20T15:44:54.471Z"
      },
      {
        "duration": 103,
        "start_time": "2023-05-20T15:44:54.480Z"
      },
      {
        "duration": 0,
        "start_time": "2023-05-20T15:44:54.584Z"
      },
      {
        "duration": 0,
        "start_time": "2023-05-20T15:44:54.586Z"
      },
      {
        "duration": 0,
        "start_time": "2023-05-20T15:44:54.588Z"
      },
      {
        "duration": 0,
        "start_time": "2023-05-20T15:44:54.589Z"
      },
      {
        "duration": 0,
        "start_time": "2023-05-20T15:44:54.590Z"
      },
      {
        "duration": 0,
        "start_time": "2023-05-20T15:44:54.592Z"
      },
      {
        "duration": 0,
        "start_time": "2023-05-20T15:44:54.593Z"
      },
      {
        "duration": 0,
        "start_time": "2023-05-20T15:44:54.594Z"
      },
      {
        "duration": 0,
        "start_time": "2023-05-20T15:44:54.596Z"
      },
      {
        "duration": 0,
        "start_time": "2023-05-20T15:44:54.597Z"
      },
      {
        "duration": 0,
        "start_time": "2023-05-20T15:44:54.598Z"
      },
      {
        "duration": 0,
        "start_time": "2023-05-20T15:44:54.600Z"
      },
      {
        "duration": 0,
        "start_time": "2023-05-20T15:44:54.601Z"
      },
      {
        "duration": 0,
        "start_time": "2023-05-20T15:44:54.602Z"
      },
      {
        "duration": 7,
        "start_time": "2023-05-20T15:45:53.055Z"
      },
      {
        "duration": 7,
        "start_time": "2023-05-20T15:46:07.586Z"
      },
      {
        "duration": 130,
        "start_time": "2023-05-20T15:47:32.052Z"
      },
      {
        "duration": 113,
        "start_time": "2023-05-20T15:48:50.770Z"
      },
      {
        "duration": 123,
        "start_time": "2023-05-20T15:49:27.357Z"
      },
      {
        "duration": 114,
        "start_time": "2023-05-20T15:49:39.414Z"
      },
      {
        "duration": 141,
        "start_time": "2023-05-20T15:49:58.816Z"
      },
      {
        "duration": 6,
        "start_time": "2023-05-20T15:50:35.568Z"
      },
      {
        "duration": 6,
        "start_time": "2023-05-20T15:51:01.479Z"
      },
      {
        "duration": 6,
        "start_time": "2023-05-20T15:51:19.619Z"
      },
      {
        "duration": 46,
        "start_time": "2023-05-20T15:51:57.804Z"
      },
      {
        "duration": 6,
        "start_time": "2023-05-20T15:52:20.360Z"
      },
      {
        "duration": 9,
        "start_time": "2023-05-20T15:53:16.668Z"
      },
      {
        "duration": 117,
        "start_time": "2023-05-20T15:53:18.584Z"
      },
      {
        "duration": 6,
        "start_time": "2023-05-20T15:53:21.766Z"
      },
      {
        "duration": 45,
        "start_time": "2023-05-20T15:53:48.670Z"
      },
      {
        "duration": 1314,
        "start_time": "2023-05-20T15:54:02.163Z"
      },
      {
        "duration": 154,
        "start_time": "2023-05-20T15:54:03.479Z"
      },
      {
        "duration": 35,
        "start_time": "2023-05-20T15:54:03.635Z"
      },
      {
        "duration": 14,
        "start_time": "2023-05-20T15:54:03.671Z"
      },
      {
        "duration": 25,
        "start_time": "2023-05-20T15:54:03.688Z"
      },
      {
        "duration": 114,
        "start_time": "2023-05-20T15:54:03.715Z"
      },
      {
        "duration": 53,
        "start_time": "2023-05-20T15:54:03.831Z"
      },
      {
        "duration": 96,
        "start_time": "2023-05-20T15:54:03.886Z"
      },
      {
        "duration": 80,
        "start_time": "2023-05-20T15:54:03.984Z"
      },
      {
        "duration": 10,
        "start_time": "2023-05-20T15:54:04.066Z"
      },
      {
        "duration": 47,
        "start_time": "2023-05-20T15:54:04.078Z"
      },
      {
        "duration": 33,
        "start_time": "2023-05-20T15:54:04.127Z"
      },
      {
        "duration": 36,
        "start_time": "2023-05-20T15:54:04.161Z"
      },
      {
        "duration": 27,
        "start_time": "2023-05-20T15:54:04.200Z"
      },
      {
        "duration": 29,
        "start_time": "2023-05-20T15:54:04.229Z"
      },
      {
        "duration": 53,
        "start_time": "2023-05-20T15:54:04.260Z"
      },
      {
        "duration": 51,
        "start_time": "2023-05-20T15:54:04.315Z"
      },
      {
        "duration": 213,
        "start_time": "2023-05-20T15:54:04.368Z"
      },
      {
        "duration": 6,
        "start_time": "2023-05-20T15:54:04.583Z"
      },
      {
        "duration": 14,
        "start_time": "2023-05-20T15:54:04.592Z"
      },
      {
        "duration": 31,
        "start_time": "2023-05-20T15:54:04.608Z"
      },
      {
        "duration": 141,
        "start_time": "2023-05-20T15:54:04.641Z"
      },
      {
        "duration": 352,
        "start_time": "2023-05-20T15:54:04.785Z"
      },
      {
        "duration": 18,
        "start_time": "2023-05-20T15:54:05.139Z"
      },
      {
        "duration": 21,
        "start_time": "2023-05-20T15:54:05.160Z"
      },
      {
        "duration": 26,
        "start_time": "2023-05-20T15:54:05.183Z"
      },
      {
        "duration": 339,
        "start_time": "2023-05-20T15:54:05.211Z"
      },
      {
        "duration": 75,
        "start_time": "2023-05-20T15:54:05.552Z"
      },
      {
        "duration": 29,
        "start_time": "2023-05-20T15:54:05.629Z"
      },
      {
        "duration": 225,
        "start_time": "2023-05-20T15:54:05.660Z"
      },
      {
        "duration": 5,
        "start_time": "2023-05-20T15:54:05.887Z"
      },
      {
        "duration": 138,
        "start_time": "2023-05-20T15:54:05.894Z"
      },
      {
        "duration": 5,
        "start_time": "2023-05-20T15:54:06.034Z"
      },
      {
        "duration": 52,
        "start_time": "2023-05-20T15:54:06.041Z"
      },
      {
        "duration": 5,
        "start_time": "2023-05-20T15:54:06.095Z"
      },
      {
        "duration": 125,
        "start_time": "2023-05-20T15:54:06.102Z"
      },
      {
        "duration": 0,
        "start_time": "2023-05-20T15:54:06.229Z"
      },
      {
        "duration": 0,
        "start_time": "2023-05-20T15:54:06.231Z"
      },
      {
        "duration": 0,
        "start_time": "2023-05-20T15:54:06.232Z"
      },
      {
        "duration": 0,
        "start_time": "2023-05-20T15:54:06.233Z"
      },
      {
        "duration": 0,
        "start_time": "2023-05-20T15:54:06.234Z"
      },
      {
        "duration": 0,
        "start_time": "2023-05-20T15:54:06.235Z"
      },
      {
        "duration": 0,
        "start_time": "2023-05-20T15:54:06.236Z"
      },
      {
        "duration": 0,
        "start_time": "2023-05-20T15:54:06.238Z"
      },
      {
        "duration": 0,
        "start_time": "2023-05-20T15:54:06.239Z"
      },
      {
        "duration": 0,
        "start_time": "2023-05-20T15:54:06.240Z"
      },
      {
        "duration": 0,
        "start_time": "2023-05-20T15:54:06.256Z"
      },
      {
        "duration": 1,
        "start_time": "2023-05-20T15:54:06.257Z"
      },
      {
        "duration": 0,
        "start_time": "2023-05-20T15:54:06.259Z"
      },
      {
        "duration": 0,
        "start_time": "2023-05-20T15:54:06.260Z"
      },
      {
        "duration": 12,
        "start_time": "2023-05-20T15:55:48.902Z"
      },
      {
        "duration": 9,
        "start_time": "2023-05-20T15:55:54.189Z"
      },
      {
        "duration": 1343,
        "start_time": "2023-05-20T15:56:02.158Z"
      },
      {
        "duration": 163,
        "start_time": "2023-05-20T15:56:03.504Z"
      },
      {
        "duration": 31,
        "start_time": "2023-05-20T15:56:03.668Z"
      },
      {
        "duration": 14,
        "start_time": "2023-05-20T15:56:03.701Z"
      },
      {
        "duration": 20,
        "start_time": "2023-05-20T15:56:03.716Z"
      },
      {
        "duration": 137,
        "start_time": "2023-05-20T15:56:03.738Z"
      },
      {
        "duration": 57,
        "start_time": "2023-05-20T15:56:03.877Z"
      },
      {
        "duration": 106,
        "start_time": "2023-05-20T15:56:03.936Z"
      },
      {
        "duration": 78,
        "start_time": "2023-05-20T15:56:04.044Z"
      },
      {
        "duration": 9,
        "start_time": "2023-05-20T15:56:04.124Z"
      },
      {
        "duration": 76,
        "start_time": "2023-05-20T15:56:04.135Z"
      },
      {
        "duration": 12,
        "start_time": "2023-05-20T15:56:04.213Z"
      },
      {
        "duration": 17,
        "start_time": "2023-05-20T15:56:04.227Z"
      },
      {
        "duration": 36,
        "start_time": "2023-05-20T15:56:04.246Z"
      },
      {
        "duration": 40,
        "start_time": "2023-05-20T15:56:04.284Z"
      },
      {
        "duration": 50,
        "start_time": "2023-05-20T15:56:04.327Z"
      },
      {
        "duration": 36,
        "start_time": "2023-05-20T15:56:04.380Z"
      },
      {
        "duration": 214,
        "start_time": "2023-05-20T15:56:04.417Z"
      },
      {
        "duration": 6,
        "start_time": "2023-05-20T15:56:04.634Z"
      },
      {
        "duration": 5,
        "start_time": "2023-05-20T15:56:04.656Z"
      },
      {
        "duration": 23,
        "start_time": "2023-05-20T15:56:04.662Z"
      },
      {
        "duration": 152,
        "start_time": "2023-05-20T15:56:04.687Z"
      },
      {
        "duration": 358,
        "start_time": "2023-05-20T15:56:04.841Z"
      },
      {
        "duration": 10,
        "start_time": "2023-05-20T15:56:05.201Z"
      },
      {
        "duration": 22,
        "start_time": "2023-05-20T15:56:05.213Z"
      },
      {
        "duration": 34,
        "start_time": "2023-05-20T15:56:05.237Z"
      },
      {
        "duration": 292,
        "start_time": "2023-05-20T15:56:05.274Z"
      },
      {
        "duration": 33,
        "start_time": "2023-05-20T15:56:05.571Z"
      },
      {
        "duration": 8,
        "start_time": "2023-05-20T15:56:05.606Z"
      },
      {
        "duration": 235,
        "start_time": "2023-05-20T15:56:05.616Z"
      },
      {
        "duration": 5,
        "start_time": "2023-05-20T15:56:05.856Z"
      },
      {
        "duration": 156,
        "start_time": "2023-05-20T15:56:05.863Z"
      },
      {
        "duration": 6,
        "start_time": "2023-05-20T15:56:06.021Z"
      },
      {
        "duration": 59,
        "start_time": "2023-05-20T15:56:06.029Z"
      },
      {
        "duration": 5,
        "start_time": "2023-05-20T15:56:06.089Z"
      },
      {
        "duration": 122,
        "start_time": "2023-05-20T15:56:06.096Z"
      },
      {
        "duration": 0,
        "start_time": "2023-05-20T15:56:06.219Z"
      },
      {
        "duration": 0,
        "start_time": "2023-05-20T15:56:06.221Z"
      },
      {
        "duration": 0,
        "start_time": "2023-05-20T15:56:06.222Z"
      },
      {
        "duration": 0,
        "start_time": "2023-05-20T15:56:06.224Z"
      },
      {
        "duration": 0,
        "start_time": "2023-05-20T15:56:06.226Z"
      },
      {
        "duration": 0,
        "start_time": "2023-05-20T15:56:06.227Z"
      },
      {
        "duration": 0,
        "start_time": "2023-05-20T15:56:06.228Z"
      },
      {
        "duration": 0,
        "start_time": "2023-05-20T15:56:06.229Z"
      },
      {
        "duration": 0,
        "start_time": "2023-05-20T15:56:06.230Z"
      },
      {
        "duration": 0,
        "start_time": "2023-05-20T15:56:06.232Z"
      },
      {
        "duration": 0,
        "start_time": "2023-05-20T15:56:06.233Z"
      },
      {
        "duration": 0,
        "start_time": "2023-05-20T15:56:06.233Z"
      },
      {
        "duration": 0,
        "start_time": "2023-05-20T15:56:06.234Z"
      },
      {
        "duration": 0,
        "start_time": "2023-05-20T15:56:06.235Z"
      },
      {
        "duration": 8,
        "start_time": "2023-05-20T15:58:07.382Z"
      },
      {
        "duration": 49,
        "start_time": "2023-05-20T16:02:07.850Z"
      },
      {
        "duration": 93,
        "start_time": "2023-05-20T16:02:32.822Z"
      },
      {
        "duration": 1706,
        "start_time": "2023-05-20T16:02:42.966Z"
      },
      {
        "duration": 232,
        "start_time": "2023-05-20T16:02:44.675Z"
      },
      {
        "duration": 44,
        "start_time": "2023-05-20T16:02:44.910Z"
      },
      {
        "duration": 23,
        "start_time": "2023-05-20T16:02:44.957Z"
      },
      {
        "duration": 23,
        "start_time": "2023-05-20T16:02:44.983Z"
      },
      {
        "duration": 172,
        "start_time": "2023-05-20T16:02:45.008Z"
      },
      {
        "duration": 53,
        "start_time": "2023-05-20T16:02:45.182Z"
      },
      {
        "duration": 122,
        "start_time": "2023-05-20T16:02:45.237Z"
      },
      {
        "duration": 77,
        "start_time": "2023-05-20T16:02:45.361Z"
      },
      {
        "duration": 13,
        "start_time": "2023-05-20T16:02:45.455Z"
      },
      {
        "duration": 66,
        "start_time": "2023-05-20T16:02:45.470Z"
      },
      {
        "duration": 17,
        "start_time": "2023-05-20T16:02:45.556Z"
      },
      {
        "duration": 6,
        "start_time": "2023-05-20T16:02:45.574Z"
      },
      {
        "duration": 20,
        "start_time": "2023-05-20T16:02:45.584Z"
      },
      {
        "duration": 75,
        "start_time": "2023-05-20T16:02:45.606Z"
      },
      {
        "duration": 127,
        "start_time": "2023-05-20T16:02:45.684Z"
      },
      {
        "duration": 54,
        "start_time": "2023-05-20T16:02:45.814Z"
      },
      {
        "duration": 258,
        "start_time": "2023-05-20T16:02:45.870Z"
      },
      {
        "duration": 7,
        "start_time": "2023-05-20T16:02:46.130Z"
      },
      {
        "duration": 49,
        "start_time": "2023-05-20T16:02:46.155Z"
      },
      {
        "duration": 32,
        "start_time": "2023-05-20T16:02:46.207Z"
      },
      {
        "duration": 134,
        "start_time": "2023-05-20T16:02:46.241Z"
      },
      {
        "duration": 340,
        "start_time": "2023-05-20T16:02:46.378Z"
      },
      {
        "duration": 10,
        "start_time": "2023-05-20T16:02:46.719Z"
      },
      {
        "duration": 29,
        "start_time": "2023-05-20T16:02:46.731Z"
      },
      {
        "duration": 15,
        "start_time": "2023-05-20T16:02:46.762Z"
      },
      {
        "duration": 351,
        "start_time": "2023-05-20T16:02:46.779Z"
      },
      {
        "duration": 25,
        "start_time": "2023-05-20T16:02:47.132Z"
      },
      {
        "duration": 10,
        "start_time": "2023-05-20T16:02:47.159Z"
      },
      {
        "duration": 297,
        "start_time": "2023-05-20T16:02:47.172Z"
      },
      {
        "duration": 7,
        "start_time": "2023-05-20T16:02:47.471Z"
      },
      {
        "duration": 148,
        "start_time": "2023-05-20T16:02:47.479Z"
      },
      {
        "duration": 6,
        "start_time": "2023-05-20T16:02:47.630Z"
      },
      {
        "duration": 128,
        "start_time": "2023-05-20T16:02:47.638Z"
      },
      {
        "duration": 0,
        "start_time": "2023-05-20T16:02:47.768Z"
      },
      {
        "duration": 0,
        "start_time": "2023-05-20T16:02:47.769Z"
      },
      {
        "duration": 0,
        "start_time": "2023-05-20T16:02:47.771Z"
      },
      {
        "duration": 0,
        "start_time": "2023-05-20T16:02:47.773Z"
      },
      {
        "duration": 0,
        "start_time": "2023-05-20T16:02:47.774Z"
      },
      {
        "duration": 0,
        "start_time": "2023-05-20T16:02:47.775Z"
      },
      {
        "duration": 0,
        "start_time": "2023-05-20T16:02:47.776Z"
      },
      {
        "duration": 0,
        "start_time": "2023-05-20T16:02:47.778Z"
      },
      {
        "duration": 0,
        "start_time": "2023-05-20T16:02:47.779Z"
      },
      {
        "duration": 0,
        "start_time": "2023-05-20T16:02:47.780Z"
      },
      {
        "duration": 0,
        "start_time": "2023-05-20T16:02:47.782Z"
      },
      {
        "duration": 0,
        "start_time": "2023-05-20T16:02:47.783Z"
      },
      {
        "duration": 0,
        "start_time": "2023-05-20T16:02:47.785Z"
      },
      {
        "duration": 0,
        "start_time": "2023-05-20T16:02:47.786Z"
      },
      {
        "duration": 62,
        "start_time": "2023-05-20T16:05:12.300Z"
      },
      {
        "duration": 8,
        "start_time": "2023-05-20T16:15:25.566Z"
      },
      {
        "duration": 8,
        "start_time": "2023-05-20T16:16:03.066Z"
      },
      {
        "duration": 1329,
        "start_time": "2023-05-20T16:17:04.589Z"
      },
      {
        "duration": 184,
        "start_time": "2023-05-20T16:17:05.920Z"
      },
      {
        "duration": 31,
        "start_time": "2023-05-20T16:17:06.105Z"
      },
      {
        "duration": 25,
        "start_time": "2023-05-20T16:17:06.139Z"
      },
      {
        "duration": 18,
        "start_time": "2023-05-20T16:17:06.165Z"
      },
      {
        "duration": 131,
        "start_time": "2023-05-20T16:17:06.185Z"
      },
      {
        "duration": 73,
        "start_time": "2023-05-20T16:17:06.318Z"
      },
      {
        "duration": 104,
        "start_time": "2023-05-20T16:17:06.393Z"
      },
      {
        "duration": 107,
        "start_time": "2023-05-20T16:17:06.498Z"
      },
      {
        "duration": 10,
        "start_time": "2023-05-20T16:17:06.608Z"
      },
      {
        "duration": 69,
        "start_time": "2023-05-20T16:17:06.621Z"
      },
      {
        "duration": 12,
        "start_time": "2023-05-20T16:17:06.693Z"
      },
      {
        "duration": 12,
        "start_time": "2023-05-20T16:17:06.707Z"
      },
      {
        "duration": 38,
        "start_time": "2023-05-20T16:17:06.721Z"
      },
      {
        "duration": 36,
        "start_time": "2023-05-20T16:17:06.761Z"
      },
      {
        "duration": 122,
        "start_time": "2023-05-20T16:17:06.799Z"
      },
      {
        "duration": 62,
        "start_time": "2023-05-20T16:17:06.923Z"
      },
      {
        "duration": 249,
        "start_time": "2023-05-20T16:17:06.988Z"
      },
      {
        "duration": 5,
        "start_time": "2023-05-20T16:17:07.239Z"
      },
      {
        "duration": 6,
        "start_time": "2023-05-20T16:17:07.265Z"
      },
      {
        "duration": 18,
        "start_time": "2023-05-20T16:17:07.273Z"
      },
      {
        "duration": 153,
        "start_time": "2023-05-20T16:17:07.293Z"
      },
      {
        "duration": 350,
        "start_time": "2023-05-20T16:17:07.448Z"
      },
      {
        "duration": 10,
        "start_time": "2023-05-20T16:17:07.801Z"
      },
      {
        "duration": 12,
        "start_time": "2023-05-20T16:17:07.813Z"
      },
      {
        "duration": 40,
        "start_time": "2023-05-20T16:17:07.827Z"
      },
      {
        "duration": 323,
        "start_time": "2023-05-20T16:17:07.870Z"
      },
      {
        "duration": 15,
        "start_time": "2023-05-20T16:17:08.198Z"
      },
      {
        "duration": 15,
        "start_time": "2023-05-20T16:17:08.215Z"
      },
      {
        "duration": 285,
        "start_time": "2023-05-20T16:17:08.232Z"
      },
      {
        "duration": 9,
        "start_time": "2023-05-20T16:17:08.519Z"
      },
      {
        "duration": 157,
        "start_time": "2023-05-20T16:17:08.530Z"
      },
      {
        "duration": 6,
        "start_time": "2023-05-20T16:17:08.689Z"
      },
      {
        "duration": 145,
        "start_time": "2023-05-20T16:17:08.696Z"
      },
      {
        "duration": 0,
        "start_time": "2023-05-20T16:17:08.844Z"
      },
      {
        "duration": 0,
        "start_time": "2023-05-20T16:17:08.846Z"
      },
      {
        "duration": 0,
        "start_time": "2023-05-20T16:17:08.848Z"
      },
      {
        "duration": 0,
        "start_time": "2023-05-20T16:17:08.849Z"
      },
      {
        "duration": 0,
        "start_time": "2023-05-20T16:17:08.857Z"
      },
      {
        "duration": 0,
        "start_time": "2023-05-20T16:17:08.858Z"
      },
      {
        "duration": 0,
        "start_time": "2023-05-20T16:17:08.859Z"
      },
      {
        "duration": 0,
        "start_time": "2023-05-20T16:17:08.860Z"
      },
      {
        "duration": 0,
        "start_time": "2023-05-20T16:17:08.861Z"
      },
      {
        "duration": 0,
        "start_time": "2023-05-20T16:17:08.863Z"
      },
      {
        "duration": 0,
        "start_time": "2023-05-20T16:17:08.864Z"
      },
      {
        "duration": 0,
        "start_time": "2023-05-20T16:17:08.866Z"
      },
      {
        "duration": 0,
        "start_time": "2023-05-20T16:17:08.867Z"
      },
      {
        "duration": 0,
        "start_time": "2023-05-20T16:17:08.869Z"
      },
      {
        "duration": 18,
        "start_time": "2023-05-20T16:18:35.296Z"
      },
      {
        "duration": 5,
        "start_time": "2023-05-20T16:18:47.478Z"
      },
      {
        "duration": 7,
        "start_time": "2023-05-20T16:19:02.673Z"
      },
      {
        "duration": 87,
        "start_time": "2023-05-20T16:19:04.820Z"
      },
      {
        "duration": 315,
        "start_time": "2023-05-20T16:19:36.853Z"
      },
      {
        "duration": 49,
        "start_time": "2023-05-20T16:21:20.170Z"
      },
      {
        "duration": 15,
        "start_time": "2023-05-20T16:28:58.822Z"
      },
      {
        "duration": 15,
        "start_time": "2023-05-20T16:29:05.350Z"
      },
      {
        "duration": 20,
        "start_time": "2023-05-20T16:30:29.085Z"
      },
      {
        "duration": 910,
        "start_time": "2023-05-20T16:32:27.766Z"
      },
      {
        "duration": 323,
        "start_time": "2023-05-20T16:32:48.128Z"
      },
      {
        "duration": 502,
        "start_time": "2023-05-20T16:33:50.405Z"
      },
      {
        "duration": 15,
        "start_time": "2023-05-20T16:42:03.098Z"
      },
      {
        "duration": 11,
        "start_time": "2023-05-20T16:42:18.910Z"
      },
      {
        "duration": 63,
        "start_time": "2023-05-20T16:42:38.690Z"
      },
      {
        "duration": 57,
        "start_time": "2023-05-20T16:43:30.070Z"
      },
      {
        "duration": 1286,
        "start_time": "2023-05-20T18:36:40.675Z"
      },
      {
        "duration": 155,
        "start_time": "2023-05-20T18:36:41.964Z"
      },
      {
        "duration": 31,
        "start_time": "2023-05-20T18:36:42.120Z"
      },
      {
        "duration": 13,
        "start_time": "2023-05-20T18:36:42.155Z"
      },
      {
        "duration": 15,
        "start_time": "2023-05-20T18:36:42.171Z"
      },
      {
        "duration": 121,
        "start_time": "2023-05-20T18:36:42.187Z"
      },
      {
        "duration": 58,
        "start_time": "2023-05-20T18:36:42.310Z"
      },
      {
        "duration": 95,
        "start_time": "2023-05-20T18:36:42.370Z"
      },
      {
        "duration": 65,
        "start_time": "2023-05-20T18:36:42.467Z"
      },
      {
        "duration": 26,
        "start_time": "2023-05-20T18:36:42.534Z"
      },
      {
        "duration": 43,
        "start_time": "2023-05-20T18:36:42.563Z"
      },
      {
        "duration": 11,
        "start_time": "2023-05-20T18:36:42.608Z"
      },
      {
        "duration": 13,
        "start_time": "2023-05-20T18:36:42.621Z"
      },
      {
        "duration": 15,
        "start_time": "2023-05-20T18:36:42.658Z"
      },
      {
        "duration": 29,
        "start_time": "2023-05-20T18:36:42.675Z"
      },
      {
        "duration": 123,
        "start_time": "2023-05-20T18:36:42.706Z"
      },
      {
        "duration": 47,
        "start_time": "2023-05-20T18:36:42.830Z"
      },
      {
        "duration": 198,
        "start_time": "2023-05-20T18:36:42.878Z"
      },
      {
        "duration": 6,
        "start_time": "2023-05-20T18:36:43.078Z"
      },
      {
        "duration": 13,
        "start_time": "2023-05-20T18:36:43.085Z"
      },
      {
        "duration": 27,
        "start_time": "2023-05-20T18:36:43.099Z"
      },
      {
        "duration": 138,
        "start_time": "2023-05-20T18:36:43.128Z"
      },
      {
        "duration": 326,
        "start_time": "2023-05-20T18:36:43.268Z"
      },
      {
        "duration": 9,
        "start_time": "2023-05-20T18:36:43.596Z"
      },
      {
        "duration": 22,
        "start_time": "2023-05-20T18:36:43.606Z"
      },
      {
        "duration": 11,
        "start_time": "2023-05-20T18:36:43.630Z"
      },
      {
        "duration": 284,
        "start_time": "2023-05-20T18:36:43.657Z"
      },
      {
        "duration": 20,
        "start_time": "2023-05-20T18:36:43.942Z"
      },
      {
        "duration": 10,
        "start_time": "2023-05-20T18:36:43.964Z"
      },
      {
        "duration": 225,
        "start_time": "2023-05-20T18:36:43.976Z"
      },
      {
        "duration": 7,
        "start_time": "2023-05-20T18:36:44.202Z"
      },
      {
        "duration": 140,
        "start_time": "2023-05-20T18:36:44.211Z"
      },
      {
        "duration": 5,
        "start_time": "2023-05-20T18:36:44.356Z"
      },
      {
        "duration": 68,
        "start_time": "2023-05-20T18:36:44.363Z"
      },
      {
        "duration": 123,
        "start_time": "2023-05-20T18:36:44.433Z"
      },
      {
        "duration": 0,
        "start_time": "2023-05-20T18:36:44.558Z"
      },
      {
        "duration": 0,
        "start_time": "2023-05-20T18:36:44.559Z"
      },
      {
        "duration": 0,
        "start_time": "2023-05-20T18:36:44.560Z"
      },
      {
        "duration": 0,
        "start_time": "2023-05-20T18:36:44.561Z"
      },
      {
        "duration": 0,
        "start_time": "2023-05-20T18:36:44.562Z"
      },
      {
        "duration": 0,
        "start_time": "2023-05-20T18:36:44.563Z"
      },
      {
        "duration": 0,
        "start_time": "2023-05-20T18:36:44.564Z"
      },
      {
        "duration": 0,
        "start_time": "2023-05-20T18:36:44.565Z"
      },
      {
        "duration": 0,
        "start_time": "2023-05-20T18:36:44.566Z"
      },
      {
        "duration": 0,
        "start_time": "2023-05-20T18:36:44.567Z"
      },
      {
        "duration": 0,
        "start_time": "2023-05-20T18:36:44.568Z"
      },
      {
        "duration": 695,
        "start_time": "2023-05-20T18:38:26.408Z"
      },
      {
        "duration": 17,
        "start_time": "2023-05-20T18:38:40.551Z"
      },
      {
        "duration": 462,
        "start_time": "2023-05-20T18:38:44.462Z"
      },
      {
        "duration": 739,
        "start_time": "2023-05-20T18:43:42.810Z"
      },
      {
        "duration": 10,
        "start_time": "2023-05-20T18:49:12.014Z"
      },
      {
        "duration": 11,
        "start_time": "2023-05-20T18:52:18.158Z"
      },
      {
        "duration": 16,
        "start_time": "2023-05-20T18:53:15.202Z"
      },
      {
        "duration": 699,
        "start_time": "2023-05-20T18:53:31.804Z"
      },
      {
        "duration": 287,
        "start_time": "2023-05-20T18:53:52.058Z"
      },
      {
        "duration": 269,
        "start_time": "2023-05-20T18:54:00.670Z"
      },
      {
        "duration": 256,
        "start_time": "2023-05-20T18:57:03.665Z"
      },
      {
        "duration": 16,
        "start_time": "2023-05-20T18:57:26.758Z"
      },
      {
        "duration": 132,
        "start_time": "2023-05-20T18:57:33.862Z"
      },
      {
        "duration": 153,
        "start_time": "2023-05-20T18:58:01.116Z"
      },
      {
        "duration": 19,
        "start_time": "2023-05-20T19:01:35.876Z"
      },
      {
        "duration": 25,
        "start_time": "2023-05-20T19:01:50.514Z"
      },
      {
        "duration": 150,
        "start_time": "2023-05-20T19:04:50.758Z"
      },
      {
        "duration": 22,
        "start_time": "2023-05-20T19:08:28.209Z"
      },
      {
        "duration": 23,
        "start_time": "2023-05-20T19:08:57.004Z"
      },
      {
        "duration": 162,
        "start_time": "2023-05-20T19:09:18.717Z"
      },
      {
        "duration": 147,
        "start_time": "2023-05-20T19:10:04.061Z"
      },
      {
        "duration": 17,
        "start_time": "2023-05-20T19:11:23.770Z"
      },
      {
        "duration": 11,
        "start_time": "2023-05-20T19:11:33.197Z"
      },
      {
        "duration": 28,
        "start_time": "2023-05-20T19:14:24.788Z"
      },
      {
        "duration": 139,
        "start_time": "2023-05-20T19:14:37.778Z"
      },
      {
        "duration": 29,
        "start_time": "2023-05-20T19:15:10.186Z"
      },
      {
        "duration": 134,
        "start_time": "2023-05-20T19:15:14.658Z"
      },
      {
        "duration": 152,
        "start_time": "2023-05-20T19:25:42.766Z"
      },
      {
        "duration": 9,
        "start_time": "2023-05-20T19:27:44.946Z"
      },
      {
        "duration": 110,
        "start_time": "2023-05-20T19:33:38.607Z"
      },
      {
        "duration": 21,
        "start_time": "2023-05-20T19:36:06.789Z"
      },
      {
        "duration": 155,
        "start_time": "2023-05-20T19:36:33.158Z"
      },
      {
        "duration": 224,
        "start_time": "2023-05-20T19:38:02.806Z"
      },
      {
        "duration": 56,
        "start_time": "2023-05-20T19:39:56.198Z"
      },
      {
        "duration": 26,
        "start_time": "2023-05-20T19:43:24.771Z"
      },
      {
        "duration": 202,
        "start_time": "2023-05-20T19:43:42.967Z"
      },
      {
        "duration": 157,
        "start_time": "2023-05-20T19:44:25.459Z"
      },
      {
        "duration": 192,
        "start_time": "2023-05-20T19:45:22.266Z"
      },
      {
        "duration": 162,
        "start_time": "2023-05-20T19:49:11.455Z"
      },
      {
        "duration": 527,
        "start_time": "2023-05-20T19:49:44.508Z"
      },
      {
        "duration": 367,
        "start_time": "2023-05-20T19:51:12.617Z"
      },
      {
        "duration": 57,
        "start_time": "2023-05-20T19:53:19.469Z"
      },
      {
        "duration": 60,
        "start_time": "2023-05-20T19:59:08.747Z"
      },
      {
        "duration": 57,
        "start_time": "2023-05-20T19:59:16.547Z"
      },
      {
        "duration": 49,
        "start_time": "2023-05-20T20:00:21.910Z"
      },
      {
        "duration": 60,
        "start_time": "2023-05-20T20:02:23.952Z"
      },
      {
        "duration": 60,
        "start_time": "2023-05-20T20:02:53.154Z"
      },
      {
        "duration": 51,
        "start_time": "2023-05-20T20:03:09.001Z"
      },
      {
        "duration": 22,
        "start_time": "2023-05-20T20:05:29.345Z"
      },
      {
        "duration": 15,
        "start_time": "2023-05-20T20:07:39.346Z"
      },
      {
        "duration": 52,
        "start_time": "2023-05-20T20:08:13.346Z"
      },
      {
        "duration": 14,
        "start_time": "2023-05-20T20:10:26.880Z"
      },
      {
        "duration": 55,
        "start_time": "2023-05-20T20:10:33.422Z"
      },
      {
        "duration": 56,
        "start_time": "2023-05-20T20:14:52.654Z"
      },
      {
        "duration": 53,
        "start_time": "2023-05-20T20:15:37.258Z"
      },
      {
        "duration": 69,
        "start_time": "2023-05-20T20:15:48.154Z"
      },
      {
        "duration": 18,
        "start_time": "2023-05-20T20:16:22.915Z"
      },
      {
        "duration": 11,
        "start_time": "2023-05-20T20:19:19.058Z"
      },
      {
        "duration": 8,
        "start_time": "2023-05-20T20:19:28.078Z"
      },
      {
        "duration": 1427,
        "start_time": "2023-05-20T20:24:57.814Z"
      },
      {
        "duration": 164,
        "start_time": "2023-05-20T20:24:59.244Z"
      },
      {
        "duration": 36,
        "start_time": "2023-05-20T20:24:59.410Z"
      },
      {
        "duration": 19,
        "start_time": "2023-05-20T20:24:59.455Z"
      },
      {
        "duration": 22,
        "start_time": "2023-05-20T20:24:59.476Z"
      },
      {
        "duration": 126,
        "start_time": "2023-05-20T20:24:59.499Z"
      },
      {
        "duration": 71,
        "start_time": "2023-05-20T20:24:59.627Z"
      },
      {
        "duration": 97,
        "start_time": "2023-05-20T20:24:59.700Z"
      },
      {
        "duration": 112,
        "start_time": "2023-05-20T20:24:59.798Z"
      },
      {
        "duration": 12,
        "start_time": "2023-05-20T20:24:59.914Z"
      },
      {
        "duration": 71,
        "start_time": "2023-05-20T20:24:59.929Z"
      },
      {
        "duration": 14,
        "start_time": "2023-05-20T20:25:00.002Z"
      },
      {
        "duration": 67,
        "start_time": "2023-05-20T20:25:00.018Z"
      },
      {
        "duration": 32,
        "start_time": "2023-05-20T20:25:00.087Z"
      },
      {
        "duration": 35,
        "start_time": "2023-05-20T20:25:00.121Z"
      },
      {
        "duration": 139,
        "start_time": "2023-05-20T20:25:00.158Z"
      },
      {
        "duration": 45,
        "start_time": "2023-05-20T20:25:00.300Z"
      },
      {
        "duration": 252,
        "start_time": "2023-05-20T20:25:00.347Z"
      },
      {
        "duration": 6,
        "start_time": "2023-05-20T20:25:00.600Z"
      },
      {
        "duration": 64,
        "start_time": "2023-05-20T20:25:00.608Z"
      },
      {
        "duration": 76,
        "start_time": "2023-05-20T20:25:00.674Z"
      },
      {
        "duration": 185,
        "start_time": "2023-05-20T20:25:00.752Z"
      },
      {
        "duration": 351,
        "start_time": "2023-05-20T20:25:00.939Z"
      },
      {
        "duration": 9,
        "start_time": "2023-05-20T20:25:01.293Z"
      },
      {
        "duration": 56,
        "start_time": "2023-05-20T20:25:01.304Z"
      },
      {
        "duration": 74,
        "start_time": "2023-05-20T20:25:01.362Z"
      },
      {
        "duration": 372,
        "start_time": "2023-05-20T20:25:01.438Z"
      },
      {
        "duration": 12,
        "start_time": "2023-05-20T20:25:01.815Z"
      },
      {
        "duration": 30,
        "start_time": "2023-05-20T20:25:01.830Z"
      },
      {
        "duration": 228,
        "start_time": "2023-05-20T20:25:01.863Z"
      },
      {
        "duration": 8,
        "start_time": "2023-05-20T20:25:02.094Z"
      },
      {
        "duration": 176,
        "start_time": "2023-05-20T20:25:02.104Z"
      },
      {
        "duration": 5,
        "start_time": "2023-05-20T20:25:02.282Z"
      },
      {
        "duration": 136,
        "start_time": "2023-05-20T20:25:02.289Z"
      },
      {
        "duration": 16,
        "start_time": "2023-05-20T20:25:02.426Z"
      },
      {
        "duration": 657,
        "start_time": "2023-05-20T20:25:02.445Z"
      },
      {
        "duration": 55,
        "start_time": "2023-05-20T20:25:03.103Z"
      },
      {
        "duration": 236,
        "start_time": "2023-05-20T20:25:03.160Z"
      },
      {
        "duration": 23,
        "start_time": "2023-05-20T20:25:03.398Z"
      },
      {
        "duration": 295,
        "start_time": "2023-05-20T20:25:03.422Z"
      },
      {
        "duration": 15,
        "start_time": "2023-05-20T20:25:03.719Z"
      },
      {
        "duration": 11,
        "start_time": "2023-05-20T20:25:03.756Z"
      },
      {
        "duration": 9,
        "start_time": "2023-05-20T20:25:03.769Z"
      },
      {
        "duration": 150,
        "start_time": "2023-05-20T20:25:03.779Z"
      },
      {
        "duration": 389,
        "start_time": "2023-05-20T20:25:03.930Z"
      },
      {
        "duration": 76,
        "start_time": "2023-05-20T20:25:04.321Z"
      },
      {
        "duration": 13,
        "start_time": "2023-05-20T20:25:04.399Z"
      },
      {
        "duration": 80,
        "start_time": "2023-05-20T20:25:04.414Z"
      },
      {
        "duration": 76,
        "start_time": "2023-05-20T20:25:04.496Z"
      },
      {
        "duration": 59,
        "start_time": "2023-05-20T20:25:04.576Z"
      },
      {
        "duration": 54,
        "start_time": "2023-05-20T20:25:04.663Z"
      },
      {
        "duration": 13,
        "start_time": "2023-05-20T20:25:04.718Z"
      },
      {
        "duration": 28,
        "start_time": "2023-05-20T20:25:04.733Z"
      },
      {
        "duration": 9,
        "start_time": "2023-05-20T20:25:04.764Z"
      },
      {
        "duration": 66,
        "start_time": "2023-05-20T20:31:51.696Z"
      },
      {
        "duration": 186,
        "start_time": "2023-05-20T20:38:19.602Z"
      },
      {
        "duration": 757,
        "start_time": "2023-05-20T20:39:53.054Z"
      },
      {
        "duration": 154,
        "start_time": "2023-05-20T20:40:09.503Z"
      },
      {
        "duration": 39,
        "start_time": "2023-05-20T20:42:37.270Z"
      },
      {
        "duration": 1669,
        "start_time": "2023-05-21T13:11:36.371Z"
      },
      {
        "duration": 294,
        "start_time": "2023-05-21T13:11:38.042Z"
      },
      {
        "duration": 103,
        "start_time": "2023-05-21T13:11:38.338Z"
      },
      {
        "duration": 18,
        "start_time": "2023-05-21T13:11:38.443Z"
      },
      {
        "duration": 24,
        "start_time": "2023-05-21T13:11:38.463Z"
      },
      {
        "duration": 182,
        "start_time": "2023-05-21T13:11:38.489Z"
      },
      {
        "duration": 85,
        "start_time": "2023-05-21T13:11:38.674Z"
      },
      {
        "duration": 110,
        "start_time": "2023-05-21T13:11:38.761Z"
      },
      {
        "duration": 86,
        "start_time": "2023-05-21T13:11:38.873Z"
      },
      {
        "duration": 11,
        "start_time": "2023-05-21T13:11:38.963Z"
      },
      {
        "duration": 86,
        "start_time": "2023-05-21T13:11:38.976Z"
      },
      {
        "duration": 15,
        "start_time": "2023-05-21T13:11:39.064Z"
      },
      {
        "duration": 10,
        "start_time": "2023-05-21T13:11:39.082Z"
      },
      {
        "duration": 21,
        "start_time": "2023-05-21T13:11:39.094Z"
      },
      {
        "duration": 67,
        "start_time": "2023-05-21T13:11:39.117Z"
      },
      {
        "duration": 150,
        "start_time": "2023-05-21T13:11:39.186Z"
      },
      {
        "duration": 67,
        "start_time": "2023-05-21T13:11:39.338Z"
      },
      {
        "duration": 256,
        "start_time": "2023-05-21T13:11:39.406Z"
      },
      {
        "duration": 12,
        "start_time": "2023-05-21T13:11:39.664Z"
      },
      {
        "duration": 7,
        "start_time": "2023-05-21T13:11:39.681Z"
      },
      {
        "duration": 20,
        "start_time": "2023-05-21T13:11:39.693Z"
      },
      {
        "duration": 176,
        "start_time": "2023-05-21T13:11:39.718Z"
      },
      {
        "duration": 390,
        "start_time": "2023-05-21T13:11:39.897Z"
      },
      {
        "duration": 9,
        "start_time": "2023-05-21T13:11:40.289Z"
      },
      {
        "duration": 10,
        "start_time": "2023-05-21T13:11:40.300Z"
      },
      {
        "duration": 39,
        "start_time": "2023-05-21T13:11:40.311Z"
      },
      {
        "duration": 348,
        "start_time": "2023-05-21T13:11:40.352Z"
      },
      {
        "duration": 12,
        "start_time": "2023-05-21T13:11:40.705Z"
      },
      {
        "duration": 33,
        "start_time": "2023-05-21T13:11:40.720Z"
      },
      {
        "duration": 243,
        "start_time": "2023-05-21T13:11:40.756Z"
      },
      {
        "duration": 5,
        "start_time": "2023-05-21T13:11:41.001Z"
      },
      {
        "duration": 166,
        "start_time": "2023-05-21T13:11:41.007Z"
      },
      {
        "duration": 10,
        "start_time": "2023-05-21T13:11:41.175Z"
      },
      {
        "duration": 77,
        "start_time": "2023-05-21T13:11:41.188Z"
      },
      {
        "duration": 25,
        "start_time": "2023-05-21T13:11:41.267Z"
      },
      {
        "duration": 1031,
        "start_time": "2023-05-21T13:11:41.294Z"
      },
      {
        "duration": 39,
        "start_time": "2023-05-21T13:11:42.327Z"
      },
      {
        "duration": 274,
        "start_time": "2023-05-21T13:11:42.368Z"
      },
      {
        "duration": 35,
        "start_time": "2023-05-21T13:11:42.655Z"
      },
      {
        "duration": 357,
        "start_time": "2023-05-21T13:11:42.693Z"
      },
      {
        "duration": 22,
        "start_time": "2023-05-21T13:11:43.055Z"
      },
      {
        "duration": 17,
        "start_time": "2023-05-21T13:11:43.079Z"
      },
      {
        "duration": 11,
        "start_time": "2023-05-21T13:11:43.098Z"
      },
      {
        "duration": 228,
        "start_time": "2023-05-21T13:11:43.112Z"
      },
      {
        "duration": 444,
        "start_time": "2023-05-21T13:11:43.349Z"
      },
      {
        "duration": 228,
        "start_time": "2023-05-21T13:11:43.795Z"
      },
      {
        "duration": 77,
        "start_time": "2023-05-21T13:11:44.025Z"
      },
      {
        "duration": 18,
        "start_time": "2023-05-21T13:11:44.105Z"
      },
      {
        "duration": 109,
        "start_time": "2023-05-21T13:11:44.125Z"
      },
      {
        "duration": 102,
        "start_time": "2023-05-21T13:11:44.237Z"
      },
      {
        "duration": 89,
        "start_time": "2023-05-21T13:11:44.342Z"
      },
      {
        "duration": 106,
        "start_time": "2023-05-21T13:11:44.433Z"
      },
      {
        "duration": 28,
        "start_time": "2023-05-21T13:11:44.541Z"
      },
      {
        "duration": 12,
        "start_time": "2023-05-21T13:11:44.571Z"
      },
      {
        "duration": 14,
        "start_time": "2023-05-21T13:11:44.585Z"
      },
      {
        "duration": 54,
        "start_time": "2023-05-21T14:22:45.949Z"
      },
      {
        "duration": 1584,
        "start_time": "2023-05-21T14:23:00.464Z"
      },
      {
        "duration": 1040,
        "start_time": "2023-05-21T14:23:02.051Z"
      },
      {
        "duration": 107,
        "start_time": "2023-05-21T14:23:03.092Z"
      },
      {
        "duration": 12,
        "start_time": "2023-05-21T14:23:03.201Z"
      },
      {
        "duration": 41,
        "start_time": "2023-05-21T14:23:03.215Z"
      },
      {
        "duration": 121,
        "start_time": "2023-05-21T14:23:03.262Z"
      },
      {
        "duration": 65,
        "start_time": "2023-05-21T14:23:03.384Z"
      },
      {
        "duration": 103,
        "start_time": "2023-05-21T14:23:03.451Z"
      },
      {
        "duration": 84,
        "start_time": "2023-05-21T14:23:03.559Z"
      },
      {
        "duration": 11,
        "start_time": "2023-05-21T14:23:03.647Z"
      },
      {
        "duration": 50,
        "start_time": "2023-05-21T14:23:03.660Z"
      },
      {
        "duration": 40,
        "start_time": "2023-05-21T14:23:03.712Z"
      },
      {
        "duration": 27,
        "start_time": "2023-05-21T14:23:03.754Z"
      },
      {
        "duration": 23,
        "start_time": "2023-05-21T14:23:03.783Z"
      },
      {
        "duration": 76,
        "start_time": "2023-05-21T14:23:03.807Z"
      },
      {
        "duration": 111,
        "start_time": "2023-05-21T14:23:03.885Z"
      },
      {
        "duration": 65,
        "start_time": "2023-05-21T14:23:03.998Z"
      },
      {
        "duration": 236,
        "start_time": "2023-05-21T14:23:04.065Z"
      },
      {
        "duration": 4,
        "start_time": "2023-05-21T14:23:04.303Z"
      },
      {
        "duration": 55,
        "start_time": "2023-05-21T14:23:04.309Z"
      },
      {
        "duration": 22,
        "start_time": "2023-05-21T14:23:04.366Z"
      },
      {
        "duration": 171,
        "start_time": "2023-05-21T14:23:04.390Z"
      },
      {
        "duration": 379,
        "start_time": "2023-05-21T14:23:04.563Z"
      },
      {
        "duration": 24,
        "start_time": "2023-05-21T14:23:04.949Z"
      },
      {
        "duration": 33,
        "start_time": "2023-05-21T14:23:04.975Z"
      },
      {
        "duration": 57,
        "start_time": "2023-05-21T14:23:05.009Z"
      },
      {
        "duration": 347,
        "start_time": "2023-05-21T14:23:05.067Z"
      },
      {
        "duration": 18,
        "start_time": "2023-05-21T14:23:05.424Z"
      },
      {
        "duration": 34,
        "start_time": "2023-05-21T14:23:05.444Z"
      },
      {
        "duration": 232,
        "start_time": "2023-05-21T14:23:05.479Z"
      },
      {
        "duration": 23,
        "start_time": "2023-05-21T14:23:05.712Z"
      },
      {
        "duration": 142,
        "start_time": "2023-05-21T14:23:05.738Z"
      },
      {
        "duration": 5,
        "start_time": "2023-05-21T14:23:05.883Z"
      },
      {
        "duration": 78,
        "start_time": "2023-05-21T14:23:05.889Z"
      },
      {
        "duration": 14,
        "start_time": "2023-05-21T14:23:05.969Z"
      },
      {
        "duration": 518,
        "start_time": "2023-05-21T14:23:05.985Z"
      },
      {
        "duration": 56,
        "start_time": "2023-05-21T14:23:06.504Z"
      },
      {
        "duration": 228,
        "start_time": "2023-05-21T14:23:06.562Z"
      },
      {
        "duration": 42,
        "start_time": "2023-05-21T14:23:06.792Z"
      },
      {
        "duration": 254,
        "start_time": "2023-05-21T14:23:06.835Z"
      },
      {
        "duration": 14,
        "start_time": "2023-05-21T14:23:07.091Z"
      },
      {
        "duration": 44,
        "start_time": "2023-05-21T14:23:07.106Z"
      },
      {
        "duration": 10,
        "start_time": "2023-05-21T14:23:07.153Z"
      },
      {
        "duration": 137,
        "start_time": "2023-05-21T14:23:07.165Z"
      },
      {
        "duration": 407,
        "start_time": "2023-05-21T14:23:07.304Z"
      },
      {
        "duration": 188,
        "start_time": "2023-05-21T14:23:07.712Z"
      },
      {
        "duration": 94,
        "start_time": "2023-05-21T14:23:07.901Z"
      },
      {
        "duration": 12,
        "start_time": "2023-05-21T14:23:07.996Z"
      },
      {
        "duration": 82,
        "start_time": "2023-05-21T14:23:08.010Z"
      },
      {
        "duration": 85,
        "start_time": "2023-05-21T14:23:08.094Z"
      },
      {
        "duration": 86,
        "start_time": "2023-05-21T14:23:08.181Z"
      },
      {
        "duration": 70,
        "start_time": "2023-05-21T14:23:08.269Z"
      },
      {
        "duration": 21,
        "start_time": "2023-05-21T14:23:08.344Z"
      },
      {
        "duration": 14,
        "start_time": "2023-05-21T14:23:08.367Z"
      },
      {
        "duration": 10,
        "start_time": "2023-05-21T14:23:08.383Z"
      },
      {
        "duration": 99,
        "start_time": "2023-05-21T14:24:07.613Z"
      },
      {
        "duration": 75,
        "start_time": "2023-05-21T14:24:40.557Z"
      },
      {
        "duration": 183,
        "start_time": "2023-05-21T14:35:01.722Z"
      },
      {
        "duration": 190,
        "start_time": "2023-05-21T14:35:07.404Z"
      },
      {
        "duration": 212,
        "start_time": "2023-05-21T14:35:24.785Z"
      },
      {
        "duration": 164,
        "start_time": "2023-05-21T14:38:56.441Z"
      },
      {
        "duration": 275,
        "start_time": "2023-05-21T14:39:16.791Z"
      },
      {
        "duration": 200,
        "start_time": "2023-05-21T14:39:24.880Z"
      },
      {
        "duration": 217,
        "start_time": "2023-05-21T14:39:31.276Z"
      },
      {
        "duration": 236,
        "start_time": "2023-05-21T14:39:36.850Z"
      },
      {
        "duration": 184,
        "start_time": "2023-05-21T14:39:44.290Z"
      },
      {
        "duration": 199,
        "start_time": "2023-05-21T14:40:02.265Z"
      },
      {
        "duration": 186,
        "start_time": "2023-05-21T14:40:13.266Z"
      },
      {
        "duration": 202,
        "start_time": "2023-05-21T14:40:26.075Z"
      },
      {
        "duration": 309,
        "start_time": "2023-05-21T14:40:35.031Z"
      },
      {
        "duration": 199,
        "start_time": "2023-05-21T14:40:43.262Z"
      },
      {
        "duration": 184,
        "start_time": "2023-05-21T14:40:55.998Z"
      },
      {
        "duration": 357,
        "start_time": "2023-05-21T14:41:04.870Z"
      },
      {
        "duration": 10,
        "start_time": "2023-05-21T14:42:49.441Z"
      },
      {
        "duration": 11,
        "start_time": "2023-05-21T14:49:49.077Z"
      },
      {
        "duration": 9,
        "start_time": "2023-05-21T14:52:17.388Z"
      },
      {
        "duration": 5,
        "start_time": "2023-05-21T14:53:44.979Z"
      },
      {
        "duration": 99,
        "start_time": "2023-05-21T14:54:15.445Z"
      },
      {
        "duration": 32,
        "start_time": "2023-05-21T14:54:22.456Z"
      },
      {
        "duration": 106,
        "start_time": "2023-05-21T14:54:26.057Z"
      },
      {
        "duration": 6,
        "start_time": "2023-05-21T14:54:30.964Z"
      },
      {
        "duration": 11,
        "start_time": "2023-05-21T14:55:08.892Z"
      },
      {
        "duration": 16,
        "start_time": "2023-05-21T14:55:36.548Z"
      },
      {
        "duration": 24,
        "start_time": "2023-05-21T14:56:02.091Z"
      },
      {
        "duration": 99,
        "start_time": "2023-05-21T14:56:04.556Z"
      },
      {
        "duration": 5,
        "start_time": "2023-05-21T14:56:07.857Z"
      },
      {
        "duration": 15,
        "start_time": "2023-05-21T15:17:23.869Z"
      },
      {
        "duration": 1521,
        "start_time": "2023-05-21T18:01:57.952Z"
      },
      {
        "duration": 612,
        "start_time": "2023-05-21T18:01:59.475Z"
      },
      {
        "duration": 90,
        "start_time": "2023-05-21T18:02:00.088Z"
      },
      {
        "duration": 15,
        "start_time": "2023-05-21T18:02:00.181Z"
      },
      {
        "duration": 40,
        "start_time": "2023-05-21T18:02:00.198Z"
      },
      {
        "duration": 579,
        "start_time": "2023-05-21T18:02:00.240Z"
      },
      {
        "duration": 0,
        "start_time": "2023-05-21T18:02:00.822Z"
      },
      {
        "duration": 0,
        "start_time": "2023-05-21T18:02:00.829Z"
      },
      {
        "duration": 0,
        "start_time": "2023-05-21T18:02:00.832Z"
      },
      {
        "duration": 0,
        "start_time": "2023-05-21T18:02:00.834Z"
      },
      {
        "duration": 0,
        "start_time": "2023-05-21T18:02:00.835Z"
      },
      {
        "duration": 0,
        "start_time": "2023-05-21T18:02:00.836Z"
      },
      {
        "duration": 0,
        "start_time": "2023-05-21T18:02:00.837Z"
      },
      {
        "duration": 0,
        "start_time": "2023-05-21T18:02:00.838Z"
      },
      {
        "duration": 0,
        "start_time": "2023-05-21T18:02:00.840Z"
      },
      {
        "duration": 0,
        "start_time": "2023-05-21T18:02:00.841Z"
      },
      {
        "duration": 0,
        "start_time": "2023-05-21T18:02:00.843Z"
      },
      {
        "duration": 0,
        "start_time": "2023-05-21T18:02:00.845Z"
      },
      {
        "duration": 0,
        "start_time": "2023-05-21T18:02:00.847Z"
      },
      {
        "duration": 0,
        "start_time": "2023-05-21T18:02:00.849Z"
      },
      {
        "duration": 0,
        "start_time": "2023-05-21T18:02:00.851Z"
      },
      {
        "duration": 0,
        "start_time": "2023-05-21T18:02:00.853Z"
      },
      {
        "duration": 0,
        "start_time": "2023-05-21T18:02:00.856Z"
      },
      {
        "duration": 0,
        "start_time": "2023-05-21T18:02:00.858Z"
      },
      {
        "duration": 0,
        "start_time": "2023-05-21T18:02:00.860Z"
      },
      {
        "duration": 0,
        "start_time": "2023-05-21T18:02:00.861Z"
      },
      {
        "duration": 0,
        "start_time": "2023-05-21T18:02:00.862Z"
      },
      {
        "duration": 0,
        "start_time": "2023-05-21T18:02:00.863Z"
      },
      {
        "duration": 0,
        "start_time": "2023-05-21T18:02:00.865Z"
      },
      {
        "duration": 0,
        "start_time": "2023-05-21T18:02:00.866Z"
      },
      {
        "duration": 0,
        "start_time": "2023-05-21T18:02:00.868Z"
      },
      {
        "duration": 0,
        "start_time": "2023-05-21T18:02:00.869Z"
      },
      {
        "duration": 0,
        "start_time": "2023-05-21T18:02:00.870Z"
      },
      {
        "duration": 0,
        "start_time": "2023-05-21T18:02:00.871Z"
      },
      {
        "duration": 0,
        "start_time": "2023-05-21T18:02:00.873Z"
      },
      {
        "duration": 0,
        "start_time": "2023-05-21T18:02:00.874Z"
      },
      {
        "duration": 0,
        "start_time": "2023-05-21T18:02:00.876Z"
      },
      {
        "duration": 0,
        "start_time": "2023-05-21T18:02:00.878Z"
      },
      {
        "duration": 0,
        "start_time": "2023-05-21T18:02:00.879Z"
      },
      {
        "duration": 0,
        "start_time": "2023-05-21T18:02:00.881Z"
      },
      {
        "duration": 0,
        "start_time": "2023-05-21T18:02:00.883Z"
      },
      {
        "duration": 0,
        "start_time": "2023-05-21T18:02:00.884Z"
      },
      {
        "duration": 0,
        "start_time": "2023-05-21T18:02:00.886Z"
      },
      {
        "duration": 0,
        "start_time": "2023-05-21T18:02:00.887Z"
      },
      {
        "duration": 0,
        "start_time": "2023-05-21T18:02:00.888Z"
      },
      {
        "duration": 0,
        "start_time": "2023-05-21T18:02:00.890Z"
      },
      {
        "duration": 0,
        "start_time": "2023-05-21T18:02:00.891Z"
      },
      {
        "duration": 0,
        "start_time": "2023-05-21T18:02:00.924Z"
      },
      {
        "duration": 0,
        "start_time": "2023-05-21T18:02:00.926Z"
      },
      {
        "duration": 0,
        "start_time": "2023-05-21T18:02:00.928Z"
      },
      {
        "duration": 0,
        "start_time": "2023-05-21T18:02:00.929Z"
      },
      {
        "duration": 0,
        "start_time": "2023-05-21T18:02:00.931Z"
      },
      {
        "duration": 0,
        "start_time": "2023-05-21T18:02:00.933Z"
      },
      {
        "duration": 0,
        "start_time": "2023-05-21T18:02:00.935Z"
      },
      {
        "duration": 0,
        "start_time": "2023-05-21T18:02:00.936Z"
      },
      {
        "duration": 0,
        "start_time": "2023-05-21T18:02:00.938Z"
      },
      {
        "duration": 0,
        "start_time": "2023-05-21T18:02:00.939Z"
      },
      {
        "duration": 110,
        "start_time": "2023-05-21T18:02:31.362Z"
      },
      {
        "duration": 96,
        "start_time": "2023-05-21T18:03:32.404Z"
      },
      {
        "duration": 49,
        "start_time": "2023-05-21T18:03:46.870Z"
      },
      {
        "duration": 104,
        "start_time": "2023-05-21T18:03:48.869Z"
      },
      {
        "duration": 107,
        "start_time": "2023-05-21T18:03:53.279Z"
      },
      {
        "duration": 7,
        "start_time": "2023-05-21T18:03:57.085Z"
      },
      {
        "duration": 34,
        "start_time": "2023-05-21T18:04:00.660Z"
      },
      {
        "duration": 15,
        "start_time": "2023-05-21T18:05:14.562Z"
      },
      {
        "duration": 5,
        "start_time": "2023-05-21T18:05:17.997Z"
      },
      {
        "duration": 16,
        "start_time": "2023-05-21T18:05:26.676Z"
      },
      {
        "duration": 39,
        "start_time": "2023-05-21T18:06:06.504Z"
      },
      {
        "duration": 37,
        "start_time": "2023-05-21T18:06:21.477Z"
      },
      {
        "duration": 118,
        "start_time": "2023-05-21T18:06:23.812Z"
      },
      {
        "duration": 41,
        "start_time": "2023-05-21T18:06:30.958Z"
      },
      {
        "duration": 8,
        "start_time": "2023-05-21T18:06:42.320Z"
      },
      {
        "duration": 268,
        "start_time": "2023-05-21T18:06:58.022Z"
      },
      {
        "duration": 25,
        "start_time": "2023-05-21T18:07:04.259Z"
      },
      {
        "duration": 19,
        "start_time": "2023-05-21T18:07:07.604Z"
      },
      {
        "duration": 15,
        "start_time": "2023-05-21T18:08:14.297Z"
      },
      {
        "duration": 20,
        "start_time": "2023-05-21T18:12:17.598Z"
      },
      {
        "duration": 42,
        "start_time": "2023-05-21T18:12:23.957Z"
      },
      {
        "duration": 103,
        "start_time": "2023-05-21T18:12:25.985Z"
      },
      {
        "duration": 249,
        "start_time": "2023-05-21T18:12:32.080Z"
      },
      {
        "duration": 218,
        "start_time": "2023-05-21T18:12:44.692Z"
      },
      {
        "duration": 13,
        "start_time": "2023-05-21T18:12:53.407Z"
      },
      {
        "duration": 298,
        "start_time": "2023-05-21T18:13:17.788Z"
      },
      {
        "duration": 180,
        "start_time": "2023-05-21T18:13:30.090Z"
      },
      {
        "duration": 198,
        "start_time": "2023-05-21T18:13:58.874Z"
      },
      {
        "duration": 16,
        "start_time": "2023-05-21T18:14:22.017Z"
      },
      {
        "duration": 120,
        "start_time": "2023-05-21T18:14:36.403Z"
      },
      {
        "duration": 14,
        "start_time": "2023-05-21T18:14:50.017Z"
      },
      {
        "duration": 8,
        "start_time": "2023-05-21T18:15:08.903Z"
      },
      {
        "duration": 28,
        "start_time": "2023-05-21T18:15:16.669Z"
      },
      {
        "duration": 112,
        "start_time": "2023-05-21T18:15:19.774Z"
      },
      {
        "duration": 29,
        "start_time": "2023-05-21T18:15:28.644Z"
      },
      {
        "duration": 23,
        "start_time": "2023-05-21T18:16:29.370Z"
      },
      {
        "duration": 23,
        "start_time": "2023-05-21T18:16:45.772Z"
      },
      {
        "duration": 25,
        "start_time": "2023-05-21T18:16:53.716Z"
      },
      {
        "duration": 34,
        "start_time": "2023-05-21T18:16:59.103Z"
      },
      {
        "duration": 39,
        "start_time": "2023-05-21T18:17:24.706Z"
      },
      {
        "duration": 24,
        "start_time": "2023-05-21T18:17:30.971Z"
      },
      {
        "duration": 29,
        "start_time": "2023-05-21T18:17:37.663Z"
      },
      {
        "duration": 226,
        "start_time": "2023-05-21T18:17:51.269Z"
      },
      {
        "duration": 271,
        "start_time": "2023-05-21T18:18:02.805Z"
      },
      {
        "duration": 291,
        "start_time": "2023-05-21T18:18:21.577Z"
      },
      {
        "duration": 43,
        "start_time": "2023-05-21T18:18:36.125Z"
      },
      {
        "duration": 192,
        "start_time": "2023-05-21T18:18:48.506Z"
      },
      {
        "duration": 248,
        "start_time": "2023-05-21T18:18:52.872Z"
      },
      {
        "duration": 348,
        "start_time": "2023-05-21T18:19:16.397Z"
      },
      {
        "duration": 254,
        "start_time": "2023-05-21T18:19:23.302Z"
      },
      {
        "duration": 36,
        "start_time": "2023-05-21T18:20:10.098Z"
      },
      {
        "duration": 103,
        "start_time": "2023-05-21T18:20:19.076Z"
      },
      {
        "duration": 127,
        "start_time": "2023-05-21T18:20:32.194Z"
      },
      {
        "duration": 40,
        "start_time": "2023-05-21T18:20:35.104Z"
      },
      {
        "duration": 96,
        "start_time": "2023-05-21T18:20:38.380Z"
      },
      {
        "duration": 38,
        "start_time": "2023-05-21T18:20:45.021Z"
      },
      {
        "duration": 112,
        "start_time": "2023-05-21T18:22:24.215Z"
      },
      {
        "duration": 38,
        "start_time": "2023-05-21T18:23:57.461Z"
      },
      {
        "duration": 230,
        "start_time": "2023-05-21T18:26:01.904Z"
      },
      {
        "duration": 240,
        "start_time": "2023-05-21T18:26:31.406Z"
      },
      {
        "duration": 363,
        "start_time": "2023-05-21T18:30:49.504Z"
      },
      {
        "duration": 302,
        "start_time": "2023-05-21T18:31:23.363Z"
      },
      {
        "duration": 208,
        "start_time": "2023-05-21T18:32:49.073Z"
      },
      {
        "duration": 6,
        "start_time": "2023-05-21T18:33:32.712Z"
      },
      {
        "duration": 6,
        "start_time": "2023-05-21T18:34:03.964Z"
      },
      {
        "duration": 177,
        "start_time": "2023-05-21T18:34:19.706Z"
      },
      {
        "duration": 346,
        "start_time": "2023-05-21T18:34:43.909Z"
      },
      {
        "duration": 6,
        "start_time": "2023-05-21T18:35:36.170Z"
      },
      {
        "duration": 7,
        "start_time": "2023-05-21T18:35:48.861Z"
      },
      {
        "duration": 30,
        "start_time": "2023-05-21T18:36:19.813Z"
      },
      {
        "duration": 11,
        "start_time": "2023-05-21T18:46:48.145Z"
      },
      {
        "duration": 155,
        "start_time": "2023-05-21T18:46:59.142Z"
      },
      {
        "duration": 240,
        "start_time": "2023-05-21T18:53:10.418Z"
      },
      {
        "duration": 6,
        "start_time": "2023-05-21T18:55:23.042Z"
      },
      {
        "duration": 5,
        "start_time": "2023-05-21T18:55:30.760Z"
      },
      {
        "duration": 15,
        "start_time": "2023-05-21T18:56:04.340Z"
      },
      {
        "duration": 112,
        "start_time": "2023-05-21T18:56:07.940Z"
      },
      {
        "duration": 15,
        "start_time": "2023-05-21T18:58:30.442Z"
      },
      {
        "duration": 101,
        "start_time": "2023-05-21T18:58:32.588Z"
      },
      {
        "duration": 21,
        "start_time": "2023-05-21T18:59:19.642Z"
      },
      {
        "duration": 17,
        "start_time": "2023-05-21T18:59:42.369Z"
      },
      {
        "duration": 1168,
        "start_time": "2023-05-21T19:01:12.539Z"
      },
      {
        "duration": 16,
        "start_time": "2023-05-21T19:01:41.660Z"
      },
      {
        "duration": 17,
        "start_time": "2023-05-21T19:03:14.142Z"
      },
      {
        "duration": 17,
        "start_time": "2023-05-21T19:03:34.669Z"
      },
      {
        "duration": 17,
        "start_time": "2023-05-21T19:03:44.982Z"
      },
      {
        "duration": 104,
        "start_time": "2023-05-21T19:03:47.080Z"
      },
      {
        "duration": 328,
        "start_time": "2023-05-21T19:04:07.621Z"
      },
      {
        "duration": 546,
        "start_time": "2023-05-21T19:08:45.298Z"
      },
      {
        "duration": 107,
        "start_time": "2023-05-21T19:10:44.367Z"
      },
      {
        "duration": 91,
        "start_time": "2023-05-21T19:11:39.623Z"
      },
      {
        "duration": 88,
        "start_time": "2023-05-21T19:12:00.442Z"
      },
      {
        "duration": 8,
        "start_time": "2023-05-21T19:12:30.212Z"
      },
      {
        "duration": 103,
        "start_time": "2023-05-21T19:14:21.513Z"
      },
      {
        "duration": 76,
        "start_time": "2023-05-21T19:15:26.343Z"
      },
      {
        "duration": 7,
        "start_time": "2023-05-21T19:18:32.571Z"
      },
      {
        "duration": 281,
        "start_time": "2023-05-21T19:20:43.382Z"
      },
      {
        "duration": 10,
        "start_time": "2023-05-21T19:21:20.278Z"
      },
      {
        "duration": 10,
        "start_time": "2023-05-21T19:22:26.193Z"
      },
      {
        "duration": 28,
        "start_time": "2023-05-21T19:22:34.408Z"
      },
      {
        "duration": 78,
        "start_time": "2023-05-21T19:22:36.813Z"
      },
      {
        "duration": 12,
        "start_time": "2023-05-21T19:22:44.076Z"
      },
      {
        "duration": 12,
        "start_time": "2023-05-21T19:23:13.191Z"
      },
      {
        "duration": 1278,
        "start_time": "2023-05-21T19:24:35.727Z"
      },
      {
        "duration": 178,
        "start_time": "2023-05-21T19:24:37.007Z"
      },
      {
        "duration": 29,
        "start_time": "2023-05-21T19:24:37.187Z"
      },
      {
        "duration": 20,
        "start_time": "2023-05-21T19:24:37.218Z"
      },
      {
        "duration": 19,
        "start_time": "2023-05-21T19:24:37.240Z"
      },
      {
        "duration": 124,
        "start_time": "2023-05-21T19:24:37.262Z"
      },
      {
        "duration": 52,
        "start_time": "2023-05-21T19:24:37.387Z"
      },
      {
        "duration": 65,
        "start_time": "2023-05-21T19:24:37.441Z"
      },
      {
        "duration": 76,
        "start_time": "2023-05-21T19:24:37.508Z"
      },
      {
        "duration": 6,
        "start_time": "2023-05-21T19:24:37.587Z"
      },
      {
        "duration": 49,
        "start_time": "2023-05-21T19:24:37.594Z"
      },
      {
        "duration": 11,
        "start_time": "2023-05-21T19:24:37.645Z"
      },
      {
        "duration": 6,
        "start_time": "2023-05-21T19:24:37.658Z"
      },
      {
        "duration": 16,
        "start_time": "2023-05-21T19:24:37.665Z"
      },
      {
        "duration": 58,
        "start_time": "2023-05-21T19:24:37.683Z"
      },
      {
        "duration": 103,
        "start_time": "2023-05-21T19:24:37.742Z"
      },
      {
        "duration": 4,
        "start_time": "2023-05-21T19:24:37.847Z"
      },
      {
        "duration": 221,
        "start_time": "2023-05-21T19:24:37.853Z"
      },
      {
        "duration": 10,
        "start_time": "2023-05-21T19:24:38.076Z"
      },
      {
        "duration": 222,
        "start_time": "2023-05-21T19:24:38.088Z"
      },
      {
        "duration": 22,
        "start_time": "2023-05-21T19:24:38.311Z"
      },
      {
        "duration": 22,
        "start_time": "2023-05-21T19:24:38.337Z"
      },
      {
        "duration": 34,
        "start_time": "2023-05-21T19:24:38.361Z"
      },
      {
        "duration": 177,
        "start_time": "2023-05-21T19:24:38.396Z"
      },
      {
        "duration": 5,
        "start_time": "2023-05-21T19:24:38.574Z"
      },
      {
        "duration": 22,
        "start_time": "2023-05-21T19:24:38.580Z"
      },
      {
        "duration": 23,
        "start_time": "2023-05-21T19:24:38.604Z"
      },
      {
        "duration": 113,
        "start_time": "2023-05-21T19:24:38.631Z"
      },
      {
        "duration": 473,
        "start_time": "2023-05-21T19:24:38.746Z"
      },
      {
        "duration": 9,
        "start_time": "2023-05-21T19:24:39.220Z"
      },
      {
        "duration": 30,
        "start_time": "2023-05-21T19:24:39.237Z"
      },
      {
        "duration": 398,
        "start_time": "2023-05-21T19:24:39.268Z"
      },
      {
        "duration": 9,
        "start_time": "2023-05-21T19:24:39.668Z"
      },
      {
        "duration": 11,
        "start_time": "2023-05-21T19:24:39.678Z"
      },
      {
        "duration": 51,
        "start_time": "2023-05-21T19:24:39.691Z"
      },
      {
        "duration": 157,
        "start_time": "2023-05-21T19:24:39.744Z"
      },
      {
        "duration": 43,
        "start_time": "2023-05-21T19:24:39.902Z"
      },
      {
        "duration": 141,
        "start_time": "2023-05-21T19:24:39.946Z"
      },
      {
        "duration": 43,
        "start_time": "2023-05-21T19:24:40.089Z"
      },
      {
        "duration": 228,
        "start_time": "2023-05-21T19:24:40.138Z"
      },
      {
        "duration": 18,
        "start_time": "2023-05-21T19:24:40.368Z"
      },
      {
        "duration": 12,
        "start_time": "2023-05-21T19:24:40.387Z"
      },
      {
        "duration": 37,
        "start_time": "2023-05-21T19:24:40.401Z"
      },
      {
        "duration": 128,
        "start_time": "2023-05-21T19:24:40.439Z"
      },
      {
        "duration": 372,
        "start_time": "2023-05-21T19:24:40.569Z"
      },
      {
        "duration": 187,
        "start_time": "2023-05-21T19:24:40.942Z"
      },
      {
        "duration": 59,
        "start_time": "2023-05-21T19:24:41.132Z"
      },
      {
        "duration": 11,
        "start_time": "2023-05-21T19:24:41.193Z"
      },
      {
        "duration": 69,
        "start_time": "2023-05-21T19:24:41.205Z"
      },
      {
        "duration": 68,
        "start_time": "2023-05-21T19:24:41.275Z"
      },
      {
        "duration": 49,
        "start_time": "2023-05-21T19:24:41.344Z"
      },
      {
        "duration": 73,
        "start_time": "2023-05-21T19:24:41.394Z"
      },
      {
        "duration": 10,
        "start_time": "2023-05-21T19:24:41.469Z"
      },
      {
        "duration": 14,
        "start_time": "2023-05-21T19:24:41.480Z"
      },
      {
        "duration": 9,
        "start_time": "2023-05-21T19:24:41.496Z"
      },
      {
        "duration": 55,
        "start_time": "2023-05-21T19:26:27.832Z"
      },
      {
        "duration": 24,
        "start_time": "2023-05-21T19:32:17.326Z"
      },
      {
        "duration": 37,
        "start_time": "2023-05-21T19:33:17.255Z"
      },
      {
        "duration": 23,
        "start_time": "2023-05-21T19:34:56.257Z"
      },
      {
        "duration": 133,
        "start_time": "2023-05-21T19:35:02.281Z"
      },
      {
        "duration": 10,
        "start_time": "2023-05-21T19:37:32.870Z"
      },
      {
        "duration": 26,
        "start_time": "2023-05-21T19:40:02.142Z"
      },
      {
        "duration": 22,
        "start_time": "2023-05-21T19:41:58.600Z"
      },
      {
        "duration": 20,
        "start_time": "2023-05-21T19:47:12.456Z"
      },
      {
        "duration": 11,
        "start_time": "2023-05-21T19:47:23.179Z"
      },
      {
        "duration": 21,
        "start_time": "2023-05-21T19:47:51.119Z"
      },
      {
        "duration": 406,
        "start_time": "2023-05-21T19:58:17.232Z"
      },
      {
        "duration": 436,
        "start_time": "2023-05-21T19:58:41.341Z"
      },
      {
        "duration": 19,
        "start_time": "2023-05-21T20:04:27.314Z"
      },
      {
        "duration": 61,
        "start_time": "2023-05-21T20:05:12.860Z"
      },
      {
        "duration": 14,
        "start_time": "2023-05-21T20:05:19.910Z"
      },
      {
        "duration": 112,
        "start_time": "2023-05-21T20:06:23.862Z"
      },
      {
        "duration": 59,
        "start_time": "2023-05-21T20:06:50.451Z"
      },
      {
        "duration": 79,
        "start_time": "2023-05-21T20:06:54.550Z"
      },
      {
        "duration": 56,
        "start_time": "2023-05-21T20:08:29.863Z"
      },
      {
        "duration": 68,
        "start_time": "2023-05-21T20:09:18.409Z"
      },
      {
        "duration": 1352,
        "start_time": "2023-05-21T20:10:24.875Z"
      },
      {
        "duration": 978,
        "start_time": "2023-05-21T20:12:35.497Z"
      },
      {
        "duration": 1281,
        "start_time": "2023-05-21T20:12:45.309Z"
      },
      {
        "duration": 900,
        "start_time": "2023-05-21T20:18:34.158Z"
      },
      {
        "duration": 1280,
        "start_time": "2023-05-21T20:18:49.345Z"
      },
      {
        "duration": 151,
        "start_time": "2023-05-21T20:18:50.627Z"
      },
      {
        "duration": 30,
        "start_time": "2023-05-21T20:18:50.780Z"
      },
      {
        "duration": 21,
        "start_time": "2023-05-21T20:18:50.812Z"
      },
      {
        "duration": 19,
        "start_time": "2023-05-21T20:18:50.835Z"
      },
      {
        "duration": 103,
        "start_time": "2023-05-21T20:18:50.856Z"
      },
      {
        "duration": 50,
        "start_time": "2023-05-21T20:18:50.960Z"
      },
      {
        "duration": 88,
        "start_time": "2023-05-21T20:18:51.012Z"
      },
      {
        "duration": 84,
        "start_time": "2023-05-21T20:18:51.103Z"
      },
      {
        "duration": 7,
        "start_time": "2023-05-21T20:18:51.191Z"
      },
      {
        "duration": 48,
        "start_time": "2023-05-21T20:18:51.199Z"
      },
      {
        "duration": 16,
        "start_time": "2023-05-21T20:18:51.249Z"
      },
      {
        "duration": 40,
        "start_time": "2023-05-21T20:18:51.267Z"
      },
      {
        "duration": 25,
        "start_time": "2023-05-21T20:18:51.309Z"
      },
      {
        "duration": 43,
        "start_time": "2023-05-21T20:18:51.336Z"
      },
      {
        "duration": 98,
        "start_time": "2023-05-21T20:18:51.380Z"
      },
      {
        "duration": 4,
        "start_time": "2023-05-21T20:18:51.479Z"
      },
      {
        "duration": 226,
        "start_time": "2023-05-21T20:18:51.485Z"
      },
      {
        "duration": 18,
        "start_time": "2023-05-21T20:18:51.713Z"
      },
      {
        "duration": 233,
        "start_time": "2023-05-21T20:18:51.734Z"
      },
      {
        "duration": 15,
        "start_time": "2023-05-21T20:18:51.968Z"
      },
      {
        "duration": 49,
        "start_time": "2023-05-21T20:18:51.985Z"
      },
      {
        "duration": 41,
        "start_time": "2023-05-21T20:18:52.036Z"
      },
      {
        "duration": 161,
        "start_time": "2023-05-21T20:18:52.079Z"
      },
      {
        "duration": 6,
        "start_time": "2023-05-21T20:18:52.242Z"
      },
      {
        "duration": 11,
        "start_time": "2023-05-21T20:18:52.251Z"
      },
      {
        "duration": 32,
        "start_time": "2023-05-21T20:18:52.264Z"
      },
      {
        "duration": 112,
        "start_time": "2023-05-21T20:18:52.301Z"
      },
      {
        "duration": 492,
        "start_time": "2023-05-21T20:18:52.415Z"
      },
      {
        "duration": 8,
        "start_time": "2023-05-21T20:18:52.909Z"
      },
      {
        "duration": 117,
        "start_time": "2023-05-21T20:18:52.918Z"
      },
      {
        "duration": 12,
        "start_time": "2023-05-21T20:18:53.037Z"
      },
      {
        "duration": 193,
        "start_time": "2023-05-21T20:18:53.051Z"
      },
      {
        "duration": 39,
        "start_time": "2023-05-21T20:18:53.245Z"
      },
      {
        "duration": 160,
        "start_time": "2023-05-21T20:18:53.286Z"
      },
      {
        "duration": 25,
        "start_time": "2023-05-21T20:18:53.448Z"
      },
      {
        "duration": 162,
        "start_time": "2023-05-21T20:18:53.475Z"
      },
      {
        "duration": 19,
        "start_time": "2023-05-21T20:18:53.638Z"
      },
      {
        "duration": 12,
        "start_time": "2023-05-21T20:18:53.658Z"
      },
      {
        "duration": 48,
        "start_time": "2023-05-21T20:18:53.671Z"
      },
      {
        "duration": 397,
        "start_time": "2023-05-21T20:18:53.721Z"
      },
      {
        "duration": 78,
        "start_time": "2023-05-21T20:18:54.124Z"
      },
      {
        "duration": 5,
        "start_time": "2023-05-21T20:18:54.204Z"
      },
      {
        "duration": 157,
        "start_time": "2023-05-21T20:18:54.224Z"
      },
      {
        "duration": 82,
        "start_time": "2023-05-21T20:18:54.383Z"
      },
      {
        "duration": 66,
        "start_time": "2023-05-21T20:18:54.467Z"
      },
      {
        "duration": 51,
        "start_time": "2023-05-21T20:18:54.535Z"
      },
      {
        "duration": 200,
        "start_time": "2023-05-21T20:18:54.588Z"
      },
      {
        "duration": 0,
        "start_time": "2023-05-21T20:18:54.790Z"
      },
      {
        "duration": 0,
        "start_time": "2023-05-21T20:18:54.792Z"
      },
      {
        "duration": 19,
        "start_time": "2023-05-21T20:19:44.259Z"
      },
      {
        "duration": 97,
        "start_time": "2023-05-21T20:24:58.557Z"
      },
      {
        "duration": 107,
        "start_time": "2023-05-21T20:26:31.258Z"
      },
      {
        "duration": 56,
        "start_time": "2023-05-21T20:26:51.354Z"
      },
      {
        "duration": 57,
        "start_time": "2023-05-21T20:28:56.211Z"
      },
      {
        "duration": 76,
        "start_time": "2023-05-21T20:30:42.591Z"
      },
      {
        "duration": 62,
        "start_time": "2023-05-21T20:32:09.094Z"
      },
      {
        "duration": 21,
        "start_time": "2023-05-21T20:33:21.098Z"
      },
      {
        "duration": 58,
        "start_time": "2023-05-21T20:33:57.775Z"
      },
      {
        "duration": 65,
        "start_time": "2023-05-21T20:34:28.808Z"
      },
      {
        "duration": 64,
        "start_time": "2023-05-21T20:35:12.114Z"
      },
      {
        "duration": 60,
        "start_time": "2023-05-21T20:36:55.379Z"
      },
      {
        "duration": 66,
        "start_time": "2023-05-21T20:37:06.271Z"
      },
      {
        "duration": 71,
        "start_time": "2023-05-21T20:37:44.862Z"
      },
      {
        "duration": 104,
        "start_time": "2023-05-21T20:41:40.362Z"
      },
      {
        "duration": 56,
        "start_time": "2023-05-21T20:41:49.960Z"
      },
      {
        "duration": 17,
        "start_time": "2023-05-21T20:53:22.854Z"
      },
      {
        "duration": 18,
        "start_time": "2023-05-21T20:54:29.505Z"
      },
      {
        "duration": 85,
        "start_time": "2023-05-21T21:00:06.964Z"
      },
      {
        "duration": 70,
        "start_time": "2023-05-21T21:00:39.757Z"
      },
      {
        "duration": 66,
        "start_time": "2023-05-21T21:02:08.546Z"
      },
      {
        "duration": 87,
        "start_time": "2023-05-21T21:04:42.575Z"
      },
      {
        "duration": 14,
        "start_time": "2023-05-21T21:07:09.304Z"
      },
      {
        "duration": 13,
        "start_time": "2023-05-21T21:07:47.753Z"
      },
      {
        "duration": 143,
        "start_time": "2023-05-21T21:09:27.049Z"
      },
      {
        "duration": 16,
        "start_time": "2023-05-21T21:11:00.576Z"
      },
      {
        "duration": 19,
        "start_time": "2023-05-21T21:11:45.752Z"
      },
      {
        "duration": 20,
        "start_time": "2023-05-21T21:13:10.495Z"
      },
      {
        "duration": 19,
        "start_time": "2023-05-21T21:13:15.998Z"
      },
      {
        "duration": 12,
        "start_time": "2023-05-21T21:14:09.572Z"
      },
      {
        "duration": 167,
        "start_time": "2023-05-21T21:15:08.950Z"
      },
      {
        "duration": 4,
        "start_time": "2023-05-21T21:36:25.408Z"
      },
      {
        "duration": 26,
        "start_time": "2023-05-21T21:39:32.255Z"
      },
      {
        "duration": 45,
        "start_time": "2023-05-21T21:41:40.322Z"
      },
      {
        "duration": 35,
        "start_time": "2023-05-21T21:44:13.071Z"
      },
      {
        "duration": 1586,
        "start_time": "2023-05-22T05:28:48.859Z"
      },
      {
        "duration": 849,
        "start_time": "2023-05-22T05:28:50.448Z"
      },
      {
        "duration": 74,
        "start_time": "2023-05-22T05:28:51.298Z"
      },
      {
        "duration": 17,
        "start_time": "2023-05-22T05:28:51.375Z"
      },
      {
        "duration": 38,
        "start_time": "2023-05-22T05:28:51.394Z"
      },
      {
        "duration": 103,
        "start_time": "2023-05-22T05:28:51.434Z"
      },
      {
        "duration": 59,
        "start_time": "2023-05-22T05:28:51.538Z"
      },
      {
        "duration": 71,
        "start_time": "2023-05-22T05:28:51.600Z"
      },
      {
        "duration": 107,
        "start_time": "2023-05-22T05:28:51.673Z"
      },
      {
        "duration": 18,
        "start_time": "2023-05-22T05:28:51.784Z"
      },
      {
        "duration": 37,
        "start_time": "2023-05-22T05:28:51.804Z"
      },
      {
        "duration": 12,
        "start_time": "2023-05-22T05:28:51.843Z"
      },
      {
        "duration": 4,
        "start_time": "2023-05-22T05:28:51.857Z"
      },
      {
        "duration": 48,
        "start_time": "2023-05-22T05:28:51.863Z"
      },
      {
        "duration": 31,
        "start_time": "2023-05-22T05:28:51.913Z"
      },
      {
        "duration": 131,
        "start_time": "2023-05-22T05:28:51.946Z"
      },
      {
        "duration": 22,
        "start_time": "2023-05-22T05:28:52.079Z"
      },
      {
        "duration": 258,
        "start_time": "2023-05-22T05:28:52.103Z"
      },
      {
        "duration": 12,
        "start_time": "2023-05-22T05:28:52.363Z"
      },
      {
        "duration": 257,
        "start_time": "2023-05-22T05:28:52.376Z"
      },
      {
        "duration": 15,
        "start_time": "2023-05-22T05:28:52.635Z"
      },
      {
        "duration": 49,
        "start_time": "2023-05-22T05:28:52.653Z"
      },
      {
        "duration": 39,
        "start_time": "2023-05-22T05:28:52.704Z"
      },
      {
        "duration": 198,
        "start_time": "2023-05-22T05:28:52.746Z"
      },
      {
        "duration": 6,
        "start_time": "2023-05-22T05:28:52.947Z"
      },
      {
        "duration": 19,
        "start_time": "2023-05-22T05:28:52.955Z"
      },
      {
        "duration": 40,
        "start_time": "2023-05-22T05:28:52.976Z"
      },
      {
        "duration": 130,
        "start_time": "2023-05-22T05:28:53.020Z"
      },
      {
        "duration": 550,
        "start_time": "2023-05-22T05:28:53.152Z"
      },
      {
        "duration": 11,
        "start_time": "2023-05-22T05:28:53.704Z"
      },
      {
        "duration": 203,
        "start_time": "2023-05-22T05:28:53.717Z"
      },
      {
        "duration": 14,
        "start_time": "2023-05-22T05:28:53.925Z"
      },
      {
        "duration": 212,
        "start_time": "2023-05-22T05:28:53.941Z"
      },
      {
        "duration": 50,
        "start_time": "2023-05-22T05:28:54.155Z"
      },
      {
        "duration": 170,
        "start_time": "2023-05-22T05:28:54.207Z"
      },
      {
        "duration": 42,
        "start_time": "2023-05-22T05:28:54.379Z"
      },
      {
        "duration": 188,
        "start_time": "2023-05-22T05:28:54.422Z"
      },
      {
        "duration": 28,
        "start_time": "2023-05-22T05:28:54.612Z"
      },
      {
        "duration": 15,
        "start_time": "2023-05-22T05:28:54.643Z"
      },
      {
        "duration": 54,
        "start_time": "2023-05-22T05:28:54.660Z"
      },
      {
        "duration": 518,
        "start_time": "2023-05-22T05:28:54.717Z"
      },
      {
        "duration": 104,
        "start_time": "2023-05-22T05:28:55.237Z"
      },
      {
        "duration": 20,
        "start_time": "2023-05-22T05:28:55.343Z"
      },
      {
        "duration": 105,
        "start_time": "2023-05-22T05:28:55.365Z"
      },
      {
        "duration": 63,
        "start_time": "2023-05-22T05:28:55.472Z"
      },
      {
        "duration": 188,
        "start_time": "2023-05-22T05:28:55.536Z"
      },
      {
        "duration": 0,
        "start_time": "2023-05-22T05:28:55.725Z"
      },
      {
        "duration": 0,
        "start_time": "2023-05-22T05:28:55.727Z"
      },
      {
        "duration": 0,
        "start_time": "2023-05-22T05:28:55.728Z"
      },
      {
        "duration": 0,
        "start_time": "2023-05-22T05:28:55.729Z"
      },
      {
        "duration": 0,
        "start_time": "2023-05-22T05:28:55.730Z"
      },
      {
        "duration": 0,
        "start_time": "2023-05-22T05:28:55.732Z"
      },
      {
        "duration": 12,
        "start_time": "2023-05-22T05:58:47.043Z"
      },
      {
        "duration": 23,
        "start_time": "2023-05-22T06:07:50.935Z"
      },
      {
        "duration": 19,
        "start_time": "2023-05-22T06:11:50.514Z"
      },
      {
        "duration": 13,
        "start_time": "2023-05-22T06:12:03.570Z"
      },
      {
        "duration": 10,
        "start_time": "2023-05-22T06:13:00.654Z"
      },
      {
        "duration": 12,
        "start_time": "2023-05-22T06:13:30.682Z"
      },
      {
        "duration": 1270,
        "start_time": "2023-05-22T06:14:33.898Z"
      },
      {
        "duration": 144,
        "start_time": "2023-05-22T06:14:35.170Z"
      },
      {
        "duration": 31,
        "start_time": "2023-05-22T06:14:35.316Z"
      },
      {
        "duration": 12,
        "start_time": "2023-05-22T06:14:35.350Z"
      },
      {
        "duration": 18,
        "start_time": "2023-05-22T06:14:35.364Z"
      },
      {
        "duration": 106,
        "start_time": "2023-05-22T06:14:35.383Z"
      },
      {
        "duration": 43,
        "start_time": "2023-05-22T06:14:35.497Z"
      },
      {
        "duration": 77,
        "start_time": "2023-05-22T06:14:35.542Z"
      },
      {
        "duration": 58,
        "start_time": "2023-05-22T06:14:35.621Z"
      },
      {
        "duration": 7,
        "start_time": "2023-05-22T06:14:35.697Z"
      },
      {
        "duration": 33,
        "start_time": "2023-05-22T06:14:35.706Z"
      },
      {
        "duration": 12,
        "start_time": "2023-05-22T06:14:35.742Z"
      },
      {
        "duration": 11,
        "start_time": "2023-05-22T06:14:35.755Z"
      },
      {
        "duration": 32,
        "start_time": "2023-05-22T06:14:35.768Z"
      },
      {
        "duration": 27,
        "start_time": "2023-05-22T06:14:35.802Z"
      },
      {
        "duration": 108,
        "start_time": "2023-05-22T06:14:35.831Z"
      },
      {
        "duration": 4,
        "start_time": "2023-05-22T06:14:35.940Z"
      },
      {
        "duration": 226,
        "start_time": "2023-05-22T06:14:35.945Z"
      },
      {
        "duration": 9,
        "start_time": "2023-05-22T06:14:36.173Z"
      },
      {
        "duration": 213,
        "start_time": "2023-05-22T06:14:36.184Z"
      },
      {
        "duration": 11,
        "start_time": "2023-05-22T06:14:36.399Z"
      },
      {
        "duration": 35,
        "start_time": "2023-05-22T06:14:36.411Z"
      },
      {
        "duration": 33,
        "start_time": "2023-05-22T06:14:36.448Z"
      },
      {
        "duration": 202,
        "start_time": "2023-05-22T06:14:36.483Z"
      },
      {
        "duration": 16,
        "start_time": "2023-05-22T06:14:36.687Z"
      },
      {
        "duration": 17,
        "start_time": "2023-05-22T06:14:36.705Z"
      },
      {
        "duration": 24,
        "start_time": "2023-05-22T06:14:36.724Z"
      },
      {
        "duration": 111,
        "start_time": "2023-05-22T06:14:36.753Z"
      },
      {
        "duration": 455,
        "start_time": "2023-05-22T06:14:36.866Z"
      },
      {
        "duration": 9,
        "start_time": "2023-05-22T06:14:37.322Z"
      },
      {
        "duration": 98,
        "start_time": "2023-05-22T06:14:37.332Z"
      },
      {
        "duration": 13,
        "start_time": "2023-05-22T06:14:37.431Z"
      },
      {
        "duration": 178,
        "start_time": "2023-05-22T06:14:37.446Z"
      },
      {
        "duration": 35,
        "start_time": "2023-05-22T06:14:37.625Z"
      },
      {
        "duration": 151,
        "start_time": "2023-05-22T06:14:37.662Z"
      },
      {
        "duration": 28,
        "start_time": "2023-05-22T06:14:37.815Z"
      },
      {
        "duration": 159,
        "start_time": "2023-05-22T06:14:37.845Z"
      },
      {
        "duration": 17,
        "start_time": "2023-05-22T06:14:38.006Z"
      },
      {
        "duration": 10,
        "start_time": "2023-05-22T06:14:38.024Z"
      },
      {
        "duration": 15,
        "start_time": "2023-05-22T06:14:38.035Z"
      },
      {
        "duration": 376,
        "start_time": "2023-05-22T06:14:38.051Z"
      },
      {
        "duration": 83,
        "start_time": "2023-05-22T06:14:38.429Z"
      },
      {
        "duration": 12,
        "start_time": "2023-05-22T06:14:38.514Z"
      },
      {
        "duration": 137,
        "start_time": "2023-05-22T06:14:38.528Z"
      },
      {
        "duration": 60,
        "start_time": "2023-05-22T06:14:38.667Z"
      },
      {
        "duration": 10,
        "start_time": "2023-05-22T06:14:38.729Z"
      },
      {
        "duration": 76,
        "start_time": "2023-05-22T06:14:38.741Z"
      },
      {
        "duration": 49,
        "start_time": "2023-05-22T06:14:38.819Z"
      },
      {
        "duration": 153,
        "start_time": "2023-05-22T06:14:38.870Z"
      },
      {
        "duration": 0,
        "start_time": "2023-05-22T06:14:39.025Z"
      },
      {
        "duration": 0,
        "start_time": "2023-05-22T06:14:39.026Z"
      },
      {
        "duration": 25,
        "start_time": "2023-05-22T06:18:16.706Z"
      },
      {
        "duration": 13,
        "start_time": "2023-05-22T06:18:43.201Z"
      },
      {
        "duration": 10,
        "start_time": "2023-05-22T06:24:23.550Z"
      },
      {
        "duration": 7,
        "start_time": "2023-05-22T06:27:42.033Z"
      },
      {
        "duration": 11,
        "start_time": "2023-05-22T06:28:24.035Z"
      },
      {
        "duration": 4,
        "start_time": "2023-05-22T06:29:52.157Z"
      },
      {
        "duration": 9,
        "start_time": "2023-05-22T06:29:58.794Z"
      },
      {
        "duration": 22,
        "start_time": "2023-05-22T06:31:58.136Z"
      },
      {
        "duration": 17,
        "start_time": "2023-05-22T06:34:37.458Z"
      },
      {
        "duration": 25,
        "start_time": "2023-05-22T06:36:02.547Z"
      },
      {
        "duration": 23,
        "start_time": "2023-05-22T06:36:12.502Z"
      },
      {
        "duration": 1262,
        "start_time": "2023-05-22T07:31:42.856Z"
      },
      {
        "duration": 202,
        "start_time": "2023-05-22T07:31:44.120Z"
      },
      {
        "duration": 30,
        "start_time": "2023-05-22T07:31:44.324Z"
      },
      {
        "duration": 13,
        "start_time": "2023-05-22T07:31:44.356Z"
      },
      {
        "duration": 14,
        "start_time": "2023-05-22T07:31:44.371Z"
      },
      {
        "duration": 103,
        "start_time": "2023-05-22T07:31:44.397Z"
      },
      {
        "duration": 51,
        "start_time": "2023-05-22T07:31:44.502Z"
      },
      {
        "duration": 92,
        "start_time": "2023-05-22T07:31:44.555Z"
      },
      {
        "duration": 64,
        "start_time": "2023-05-22T07:31:44.649Z"
      },
      {
        "duration": 6,
        "start_time": "2023-05-22T07:31:44.716Z"
      },
      {
        "duration": 27,
        "start_time": "2023-05-22T07:31:44.723Z"
      },
      {
        "duration": 10,
        "start_time": "2023-05-22T07:31:44.751Z"
      },
      {
        "duration": 11,
        "start_time": "2023-05-22T07:31:44.763Z"
      },
      {
        "duration": 33,
        "start_time": "2023-05-22T07:31:44.776Z"
      },
      {
        "duration": 25,
        "start_time": "2023-05-22T07:31:44.811Z"
      },
      {
        "duration": 109,
        "start_time": "2023-05-22T07:31:44.837Z"
      },
      {
        "duration": 5,
        "start_time": "2023-05-22T07:31:44.947Z"
      },
      {
        "duration": 239,
        "start_time": "2023-05-22T07:31:44.954Z"
      },
      {
        "duration": 10,
        "start_time": "2023-05-22T07:31:45.196Z"
      },
      {
        "duration": 249,
        "start_time": "2023-05-22T07:31:45.207Z"
      },
      {
        "duration": 12,
        "start_time": "2023-05-22T07:31:45.457Z"
      },
      {
        "duration": 41,
        "start_time": "2023-05-22T07:31:45.472Z"
      },
      {
        "duration": 38,
        "start_time": "2023-05-22T07:31:45.515Z"
      },
      {
        "duration": 188,
        "start_time": "2023-05-22T07:31:45.554Z"
      },
      {
        "duration": 9,
        "start_time": "2023-05-22T07:31:45.744Z"
      },
      {
        "duration": 7,
        "start_time": "2023-05-22T07:31:45.756Z"
      },
      {
        "duration": 40,
        "start_time": "2023-05-22T07:31:45.765Z"
      },
      {
        "duration": 129,
        "start_time": "2023-05-22T07:31:45.810Z"
      },
      {
        "duration": 1636,
        "start_time": "2023-05-22T07:31:45.941Z"
      },
      {
        "duration": 9,
        "start_time": "2023-05-22T07:31:47.578Z"
      },
      {
        "duration": 125,
        "start_time": "2023-05-22T07:31:47.589Z"
      },
      {
        "duration": 12,
        "start_time": "2023-05-22T07:31:47.716Z"
      },
      {
        "duration": 179,
        "start_time": "2023-05-22T07:31:47.729Z"
      },
      {
        "duration": 35,
        "start_time": "2023-05-22T07:31:47.909Z"
      },
      {
        "duration": 152,
        "start_time": "2023-05-22T07:31:47.946Z"
      },
      {
        "duration": 24,
        "start_time": "2023-05-22T07:31:48.100Z"
      },
      {
        "duration": 150,
        "start_time": "2023-05-22T07:31:48.126Z"
      },
      {
        "duration": 31,
        "start_time": "2023-05-22T07:31:48.277Z"
      },
      {
        "duration": 10,
        "start_time": "2023-05-22T07:31:48.310Z"
      },
      {
        "duration": 15,
        "start_time": "2023-05-22T07:31:48.321Z"
      },
      {
        "duration": 474,
        "start_time": "2023-05-22T07:31:48.337Z"
      },
      {
        "duration": 85,
        "start_time": "2023-05-22T07:31:48.813Z"
      },
      {
        "duration": 13,
        "start_time": "2023-05-22T07:31:48.900Z"
      },
      {
        "duration": 59,
        "start_time": "2023-05-22T07:31:48.915Z"
      },
      {
        "duration": 68,
        "start_time": "2023-05-22T07:31:48.976Z"
      },
      {
        "duration": 175,
        "start_time": "2023-05-22T07:31:49.045Z"
      },
      {
        "duration": 0,
        "start_time": "2023-05-22T07:31:49.221Z"
      },
      {
        "duration": 0,
        "start_time": "2023-05-22T07:31:49.223Z"
      },
      {
        "duration": 0,
        "start_time": "2023-05-22T07:31:49.224Z"
      },
      {
        "duration": 0,
        "start_time": "2023-05-22T07:31:49.225Z"
      },
      {
        "duration": 0,
        "start_time": "2023-05-22T07:31:49.226Z"
      },
      {
        "duration": 22,
        "start_time": "2023-05-22T07:38:50.535Z"
      },
      {
        "duration": 35,
        "start_time": "2023-05-22T07:39:41.750Z"
      },
      {
        "duration": 65,
        "start_time": "2023-05-22T07:42:48.969Z"
      },
      {
        "duration": 52,
        "start_time": "2023-05-22T07:43:42.722Z"
      },
      {
        "duration": 16,
        "start_time": "2023-05-22T07:46:42.328Z"
      },
      {
        "duration": 12,
        "start_time": "2023-05-22T07:47:35.710Z"
      },
      {
        "duration": 11,
        "start_time": "2023-05-22T07:48:07.887Z"
      },
      {
        "duration": 12,
        "start_time": "2023-05-22T07:48:15.566Z"
      },
      {
        "duration": 13,
        "start_time": "2023-05-22T07:48:33.810Z"
      },
      {
        "duration": 17,
        "start_time": "2023-05-22T07:49:13.117Z"
      },
      {
        "duration": 1396,
        "start_time": "2023-05-22T07:54:50.632Z"
      },
      {
        "duration": 292,
        "start_time": "2023-05-22T07:54:52.030Z"
      },
      {
        "duration": 38,
        "start_time": "2023-05-22T07:54:52.324Z"
      },
      {
        "duration": 18,
        "start_time": "2023-05-22T07:54:52.365Z"
      },
      {
        "duration": 18,
        "start_time": "2023-05-22T07:54:52.384Z"
      },
      {
        "duration": 99,
        "start_time": "2023-05-22T07:54:52.404Z"
      },
      {
        "duration": 43,
        "start_time": "2023-05-22T07:54:52.504Z"
      },
      {
        "duration": 90,
        "start_time": "2023-05-22T07:54:52.549Z"
      },
      {
        "duration": 65,
        "start_time": "2023-05-22T07:54:52.641Z"
      },
      {
        "duration": 6,
        "start_time": "2023-05-22T07:54:52.709Z"
      },
      {
        "duration": 24,
        "start_time": "2023-05-22T07:54:52.717Z"
      },
      {
        "duration": 11,
        "start_time": "2023-05-22T07:54:52.742Z"
      },
      {
        "duration": 21,
        "start_time": "2023-05-22T07:54:52.754Z"
      },
      {
        "duration": 32,
        "start_time": "2023-05-22T07:54:52.777Z"
      },
      {
        "duration": 27,
        "start_time": "2023-05-22T07:54:52.811Z"
      },
      {
        "duration": 110,
        "start_time": "2023-05-22T07:54:52.840Z"
      },
      {
        "duration": 4,
        "start_time": "2023-05-22T07:54:52.952Z"
      },
      {
        "duration": 232,
        "start_time": "2023-05-22T07:54:52.958Z"
      },
      {
        "duration": 14,
        "start_time": "2023-05-22T07:54:53.191Z"
      },
      {
        "duration": 224,
        "start_time": "2023-05-22T07:54:53.207Z"
      },
      {
        "duration": 12,
        "start_time": "2023-05-22T07:54:53.433Z"
      },
      {
        "duration": 29,
        "start_time": "2023-05-22T07:54:53.447Z"
      },
      {
        "duration": 50,
        "start_time": "2023-05-22T07:54:53.477Z"
      },
      {
        "duration": 168,
        "start_time": "2023-05-22T07:54:53.529Z"
      },
      {
        "duration": 5,
        "start_time": "2023-05-22T07:54:53.699Z"
      },
      {
        "duration": 9,
        "start_time": "2023-05-22T07:54:53.706Z"
      },
      {
        "duration": 27,
        "start_time": "2023-05-22T07:54:53.717Z"
      },
      {
        "duration": 117,
        "start_time": "2023-05-22T07:54:53.749Z"
      },
      {
        "duration": 1927,
        "start_time": "2023-05-22T07:54:53.867Z"
      },
      {
        "duration": 11,
        "start_time": "2023-05-22T07:54:55.796Z"
      },
      {
        "duration": 142,
        "start_time": "2023-05-22T07:54:55.809Z"
      },
      {
        "duration": 55,
        "start_time": "2023-05-22T07:54:55.953Z"
      },
      {
        "duration": 174,
        "start_time": "2023-05-22T07:54:56.010Z"
      },
      {
        "duration": 63,
        "start_time": "2023-05-22T07:54:56.186Z"
      },
      {
        "duration": 198,
        "start_time": "2023-05-22T07:54:56.251Z"
      },
      {
        "duration": 46,
        "start_time": "2023-05-22T07:54:56.451Z"
      },
      {
        "duration": 209,
        "start_time": "2023-05-22T07:54:56.499Z"
      },
      {
        "duration": 25,
        "start_time": "2023-05-22T07:54:56.710Z"
      },
      {
        "duration": 29,
        "start_time": "2023-05-22T07:54:56.738Z"
      },
      {
        "duration": 36,
        "start_time": "2023-05-22T07:54:56.770Z"
      },
      {
        "duration": 547,
        "start_time": "2023-05-22T07:54:56.808Z"
      },
      {
        "duration": 99,
        "start_time": "2023-05-22T07:54:57.357Z"
      },
      {
        "duration": 16,
        "start_time": "2023-05-22T07:54:57.458Z"
      },
      {
        "duration": 74,
        "start_time": "2023-05-22T07:54:57.476Z"
      },
      {
        "duration": 78,
        "start_time": "2023-05-22T07:54:57.552Z"
      },
      {
        "duration": 17,
        "start_time": "2023-05-22T07:54:57.633Z"
      },
      {
        "duration": 83,
        "start_time": "2023-05-22T07:54:57.652Z"
      },
      {
        "duration": 81,
        "start_time": "2023-05-22T07:54:57.737Z"
      },
      {
        "duration": 181,
        "start_time": "2023-05-22T07:54:57.820Z"
      },
      {
        "duration": 0,
        "start_time": "2023-05-22T07:54:58.002Z"
      },
      {
        "duration": 0,
        "start_time": "2023-05-22T07:54:58.004Z"
      },
      {
        "duration": 18,
        "start_time": "2023-05-22T07:57:05.713Z"
      },
      {
        "duration": 146,
        "start_time": "2023-05-22T07:59:18.085Z"
      },
      {
        "duration": 123,
        "start_time": "2023-05-22T07:59:36.265Z"
      },
      {
        "duration": 15,
        "start_time": "2023-05-22T08:00:54.377Z"
      },
      {
        "duration": 38,
        "start_time": "2023-05-22T08:03:07.113Z"
      },
      {
        "duration": 123,
        "start_time": "2023-05-22T08:04:26.104Z"
      },
      {
        "duration": 118,
        "start_time": "2023-05-22T08:05:50.456Z"
      },
      {
        "duration": 123,
        "start_time": "2023-05-22T08:08:24.644Z"
      },
      {
        "duration": 6,
        "start_time": "2023-05-22T08:16:27.342Z"
      },
      {
        "duration": 5,
        "start_time": "2023-05-22T08:26:54.447Z"
      },
      {
        "duration": 8,
        "start_time": "2023-05-22T08:27:03.344Z"
      },
      {
        "duration": 48,
        "start_time": "2023-05-22T08:27:59.987Z"
      },
      {
        "duration": 63,
        "start_time": "2023-05-22T08:30:16.820Z"
      },
      {
        "duration": 39,
        "start_time": "2023-05-22T08:31:04.264Z"
      },
      {
        "duration": 2079,
        "start_time": "2023-05-22T08:45:13.794Z"
      },
      {
        "duration": 2126,
        "start_time": "2023-05-22T08:45:39.472Z"
      },
      {
        "duration": 3386,
        "start_time": "2023-05-22T08:45:52.855Z"
      },
      {
        "duration": 27,
        "start_time": "2023-05-22T08:47:03.535Z"
      },
      {
        "duration": 9,
        "start_time": "2023-05-22T08:49:14.192Z"
      },
      {
        "duration": 41,
        "start_time": "2023-05-22T08:49:42.953Z"
      },
      {
        "duration": 54,
        "start_time": "2023-05-22T08:50:07.690Z"
      },
      {
        "duration": 23,
        "start_time": "2023-05-22T08:51:56.729Z"
      },
      {
        "duration": 9,
        "start_time": "2023-05-22T08:52:00.469Z"
      },
      {
        "duration": 37,
        "start_time": "2023-05-22T08:52:04.225Z"
      },
      {
        "duration": 36,
        "start_time": "2023-05-22T08:53:17.163Z"
      },
      {
        "duration": 24,
        "start_time": "2023-05-22T08:54:52.172Z"
      },
      {
        "duration": 32,
        "start_time": "2023-05-22T08:56:56.943Z"
      },
      {
        "duration": 19,
        "start_time": "2023-05-22T08:58:59.286Z"
      },
      {
        "duration": 634,
        "start_time": "2023-05-22T08:59:35.765Z"
      },
      {
        "duration": 27,
        "start_time": "2023-05-22T08:59:47.780Z"
      },
      {
        "duration": 23,
        "start_time": "2023-05-22T09:01:40.954Z"
      },
      {
        "duration": 18,
        "start_time": "2023-05-22T09:09:13.763Z"
      },
      {
        "duration": 140,
        "start_time": "2023-05-22T09:09:26.629Z"
      },
      {
        "duration": 29,
        "start_time": "2023-05-22T09:09:34.546Z"
      },
      {
        "duration": 64,
        "start_time": "2023-05-22T09:09:43.476Z"
      },
      {
        "duration": 17,
        "start_time": "2023-05-22T09:16:27.340Z"
      },
      {
        "duration": 31,
        "start_time": "2023-05-22T09:16:49.542Z"
      },
      {
        "duration": 34,
        "start_time": "2023-05-22T09:16:59.215Z"
      },
      {
        "duration": 11,
        "start_time": "2023-05-22T09:21:23.427Z"
      },
      {
        "duration": 1152,
        "start_time": "2023-05-22T09:21:47.808Z"
      },
      {
        "duration": 392,
        "start_time": "2023-05-22T09:26:17.532Z"
      },
      {
        "duration": 395,
        "start_time": "2023-05-22T09:26:33.831Z"
      },
      {
        "duration": 356,
        "start_time": "2023-05-22T09:27:19.165Z"
      },
      {
        "duration": 34,
        "start_time": "2023-05-22T09:28:18.556Z"
      },
      {
        "duration": 40,
        "start_time": "2023-05-22T09:31:42.878Z"
      },
      {
        "duration": 43,
        "start_time": "2023-05-22T09:32:34.901Z"
      },
      {
        "duration": 11,
        "start_time": "2023-05-22T09:32:42.343Z"
      },
      {
        "duration": 247,
        "start_time": "2023-05-22T09:32:44.847Z"
      },
      {
        "duration": 11,
        "start_time": "2023-05-22T09:33:11.108Z"
      },
      {
        "duration": 1075,
        "start_time": "2023-05-22T09:33:13.746Z"
      },
      {
        "duration": 34,
        "start_time": "2023-05-22T09:34:28.898Z"
      },
      {
        "duration": 23,
        "start_time": "2023-05-22T09:38:25.936Z"
      },
      {
        "duration": 24,
        "start_time": "2023-05-22T09:39:23.056Z"
      },
      {
        "duration": 40,
        "start_time": "2023-05-22T09:41:44.080Z"
      },
      {
        "duration": 1294,
        "start_time": "2023-05-22T09:45:53.378Z"
      },
      {
        "duration": 42,
        "start_time": "2023-05-22T09:46:06.454Z"
      },
      {
        "duration": 44,
        "start_time": "2023-05-22T09:46:29.593Z"
      },
      {
        "duration": 1355,
        "start_time": "2023-05-22T09:46:51.309Z"
      },
      {
        "duration": 168,
        "start_time": "2023-05-22T09:46:52.666Z"
      },
      {
        "duration": 32,
        "start_time": "2023-05-22T09:46:52.837Z"
      },
      {
        "duration": 16,
        "start_time": "2023-05-22T09:46:52.870Z"
      },
      {
        "duration": 15,
        "start_time": "2023-05-22T09:46:52.898Z"
      },
      {
        "duration": 111,
        "start_time": "2023-05-22T09:46:52.915Z"
      },
      {
        "duration": 47,
        "start_time": "2023-05-22T09:46:53.028Z"
      },
      {
        "duration": 89,
        "start_time": "2023-05-22T09:46:53.077Z"
      },
      {
        "duration": 80,
        "start_time": "2023-05-22T09:46:53.168Z"
      },
      {
        "duration": 7,
        "start_time": "2023-05-22T09:46:53.250Z"
      },
      {
        "duration": 40,
        "start_time": "2023-05-22T09:46:53.258Z"
      },
      {
        "duration": 12,
        "start_time": "2023-05-22T09:46:53.300Z"
      },
      {
        "duration": 13,
        "start_time": "2023-05-22T09:46:53.314Z"
      },
      {
        "duration": 17,
        "start_time": "2023-05-22T09:46:53.329Z"
      },
      {
        "duration": 48,
        "start_time": "2023-05-22T09:46:53.349Z"
      },
      {
        "duration": 121,
        "start_time": "2023-05-22T09:46:53.400Z"
      },
      {
        "duration": 4,
        "start_time": "2023-05-22T09:46:53.523Z"
      },
      {
        "duration": 245,
        "start_time": "2023-05-22T09:46:53.528Z"
      },
      {
        "duration": 22,
        "start_time": "2023-05-22T09:46:53.775Z"
      },
      {
        "duration": 240,
        "start_time": "2023-05-22T09:46:53.799Z"
      },
      {
        "duration": 13,
        "start_time": "2023-05-22T09:46:54.041Z"
      },
      {
        "duration": 41,
        "start_time": "2023-05-22T09:46:54.056Z"
      },
      {
        "duration": 39,
        "start_time": "2023-05-22T09:46:54.100Z"
      },
      {
        "duration": 209,
        "start_time": "2023-05-22T09:46:54.140Z"
      },
      {
        "duration": 5,
        "start_time": "2023-05-22T09:46:54.351Z"
      },
      {
        "duration": 18,
        "start_time": "2023-05-22T09:46:54.358Z"
      },
      {
        "duration": 27,
        "start_time": "2023-05-22T09:46:54.377Z"
      },
      {
        "duration": 131,
        "start_time": "2023-05-22T09:46:54.408Z"
      },
      {
        "duration": 513,
        "start_time": "2023-05-22T09:46:54.541Z"
      },
      {
        "duration": 10,
        "start_time": "2023-05-22T09:46:55.056Z"
      },
      {
        "duration": 153,
        "start_time": "2023-05-22T09:46:55.067Z"
      },
      {
        "duration": 13,
        "start_time": "2023-05-22T09:46:55.221Z"
      },
      {
        "duration": 191,
        "start_time": "2023-05-22T09:46:55.235Z"
      },
      {
        "duration": 46,
        "start_time": "2023-05-22T09:46:55.429Z"
      },
      {
        "duration": 196,
        "start_time": "2023-05-22T09:46:55.478Z"
      },
      {
        "duration": 38,
        "start_time": "2023-05-22T09:46:55.676Z"
      },
      {
        "duration": 176,
        "start_time": "2023-05-22T09:46:55.716Z"
      },
      {
        "duration": 21,
        "start_time": "2023-05-22T09:46:55.897Z"
      },
      {
        "duration": 12,
        "start_time": "2023-05-22T09:46:55.919Z"
      },
      {
        "duration": 11,
        "start_time": "2023-05-22T09:46:55.933Z"
      },
      {
        "duration": 533,
        "start_time": "2023-05-22T09:46:55.946Z"
      },
      {
        "duration": 116,
        "start_time": "2023-05-22T09:46:56.481Z"
      },
      {
        "duration": 23,
        "start_time": "2023-05-22T09:46:56.599Z"
      },
      {
        "duration": 139,
        "start_time": "2023-05-22T09:46:56.624Z"
      },
      {
        "duration": 93,
        "start_time": "2023-05-22T09:46:56.766Z"
      },
      {
        "duration": 54,
        "start_time": "2023-05-22T09:46:56.861Z"
      },
      {
        "duration": 1188,
        "start_time": "2023-05-22T09:46:56.916Z"
      },
      {
        "duration": 60,
        "start_time": "2023-05-22T09:46:58.106Z"
      },
      {
        "duration": 72,
        "start_time": "2023-05-22T09:46:58.167Z"
      },
      {
        "duration": 186,
        "start_time": "2023-05-22T09:46:58.241Z"
      },
      {
        "duration": 0,
        "start_time": "2023-05-22T09:46:58.429Z"
      },
      {
        "duration": 0,
        "start_time": "2023-05-22T09:46:58.430Z"
      },
      {
        "duration": 45,
        "start_time": "2023-05-22T09:49:02.932Z"
      },
      {
        "duration": 49,
        "start_time": "2023-05-22T09:53:57.676Z"
      },
      {
        "duration": 1458,
        "start_time": "2023-05-22T09:54:18.680Z"
      },
      {
        "duration": 177,
        "start_time": "2023-05-22T09:54:20.140Z"
      },
      {
        "duration": 35,
        "start_time": "2023-05-22T09:54:20.320Z"
      },
      {
        "duration": 17,
        "start_time": "2023-05-22T09:54:20.357Z"
      },
      {
        "duration": 34,
        "start_time": "2023-05-22T09:54:20.376Z"
      },
      {
        "duration": 117,
        "start_time": "2023-05-22T09:54:20.412Z"
      },
      {
        "duration": 66,
        "start_time": "2023-05-22T09:54:20.531Z"
      },
      {
        "duration": 74,
        "start_time": "2023-05-22T09:54:20.599Z"
      },
      {
        "duration": 81,
        "start_time": "2023-05-22T09:54:20.675Z"
      },
      {
        "duration": 7,
        "start_time": "2023-05-22T09:54:20.759Z"
      },
      {
        "duration": 46,
        "start_time": "2023-05-22T09:54:20.768Z"
      },
      {
        "duration": 13,
        "start_time": "2023-05-22T09:54:20.816Z"
      },
      {
        "duration": 32,
        "start_time": "2023-05-22T09:54:20.831Z"
      },
      {
        "duration": 36,
        "start_time": "2023-05-22T09:54:20.865Z"
      },
      {
        "duration": 37,
        "start_time": "2023-05-22T09:54:20.903Z"
      },
      {
        "duration": 127,
        "start_time": "2023-05-22T09:54:20.943Z"
      },
      {
        "duration": 5,
        "start_time": "2023-05-22T09:54:21.072Z"
      },
      {
        "duration": 270,
        "start_time": "2023-05-22T09:54:21.078Z"
      },
      {
        "duration": 11,
        "start_time": "2023-05-22T09:54:21.350Z"
      },
      {
        "duration": 255,
        "start_time": "2023-05-22T09:54:21.363Z"
      },
      {
        "duration": 12,
        "start_time": "2023-05-22T09:54:21.620Z"
      },
      {
        "duration": 33,
        "start_time": "2023-05-22T09:54:21.633Z"
      },
      {
        "duration": 60,
        "start_time": "2023-05-22T09:54:21.668Z"
      },
      {
        "duration": 242,
        "start_time": "2023-05-22T09:54:21.730Z"
      },
      {
        "duration": 7,
        "start_time": "2023-05-22T09:54:21.974Z"
      },
      {
        "duration": 19,
        "start_time": "2023-05-22T09:54:21.983Z"
      },
      {
        "duration": 22,
        "start_time": "2023-05-22T09:54:22.003Z"
      },
      {
        "duration": 134,
        "start_time": "2023-05-22T09:54:22.029Z"
      },
      {
        "duration": 520,
        "start_time": "2023-05-22T09:54:22.165Z"
      },
      {
        "duration": 19,
        "start_time": "2023-05-22T09:54:22.687Z"
      },
      {
        "duration": 123,
        "start_time": "2023-05-22T09:54:22.708Z"
      },
      {
        "duration": 12,
        "start_time": "2023-05-22T09:54:22.833Z"
      },
      {
        "duration": 222,
        "start_time": "2023-05-22T09:54:22.847Z"
      },
      {
        "duration": 50,
        "start_time": "2023-05-22T09:54:23.070Z"
      },
      {
        "duration": 165,
        "start_time": "2023-05-22T09:54:23.122Z"
      },
      {
        "duration": 29,
        "start_time": "2023-05-22T09:54:23.298Z"
      },
      {
        "duration": 182,
        "start_time": "2023-05-22T09:54:23.329Z"
      },
      {
        "duration": 20,
        "start_time": "2023-05-22T09:54:23.513Z"
      },
      {
        "duration": 10,
        "start_time": "2023-05-22T09:54:23.535Z"
      },
      {
        "duration": 11,
        "start_time": "2023-05-22T09:54:23.547Z"
      },
      {
        "duration": 550,
        "start_time": "2023-05-22T09:54:23.560Z"
      },
      {
        "duration": 171,
        "start_time": "2023-05-22T09:54:24.113Z"
      },
      {
        "duration": 28,
        "start_time": "2023-05-22T09:54:24.286Z"
      },
      {
        "duration": 79,
        "start_time": "2023-05-22T09:54:24.317Z"
      },
      {
        "duration": 39,
        "start_time": "2023-05-22T09:54:24.398Z"
      },
      {
        "duration": 11,
        "start_time": "2023-05-22T09:54:24.438Z"
      },
      {
        "duration": 1181,
        "start_time": "2023-05-22T09:54:24.451Z"
      },
      {
        "duration": 213,
        "start_time": "2023-05-22T09:54:25.634Z"
      },
      {
        "duration": 0,
        "start_time": "2023-05-22T09:54:25.850Z"
      },
      {
        "duration": 0,
        "start_time": "2023-05-22T09:54:25.852Z"
      },
      {
        "duration": 0,
        "start_time": "2023-05-22T09:54:25.853Z"
      },
      {
        "duration": 0,
        "start_time": "2023-05-22T09:54:25.855Z"
      },
      {
        "duration": 57,
        "start_time": "2023-05-22T09:55:39.289Z"
      },
      {
        "duration": 57,
        "start_time": "2023-05-22T09:59:56.876Z"
      },
      {
        "duration": 56,
        "start_time": "2023-05-22T10:00:21.504Z"
      },
      {
        "duration": 14,
        "start_time": "2023-05-22T10:01:05.867Z"
      },
      {
        "duration": 62,
        "start_time": "2023-05-22T10:02:41.678Z"
      },
      {
        "duration": 44,
        "start_time": "2023-05-22T10:15:43.477Z"
      },
      {
        "duration": 1529,
        "start_time": "2023-05-22T10:16:25.311Z"
      },
      {
        "duration": 197,
        "start_time": "2023-05-22T10:16:26.843Z"
      },
      {
        "duration": 35,
        "start_time": "2023-05-22T10:16:27.042Z"
      },
      {
        "duration": 25,
        "start_time": "2023-05-22T10:16:27.079Z"
      },
      {
        "duration": 24,
        "start_time": "2023-05-22T10:16:27.109Z"
      },
      {
        "duration": 120,
        "start_time": "2023-05-22T10:16:27.135Z"
      },
      {
        "duration": 63,
        "start_time": "2023-05-22T10:16:27.257Z"
      },
      {
        "duration": 97,
        "start_time": "2023-05-22T10:16:27.322Z"
      },
      {
        "duration": 87,
        "start_time": "2023-05-22T10:16:27.422Z"
      },
      {
        "duration": 7,
        "start_time": "2023-05-22T10:16:27.512Z"
      },
      {
        "duration": 29,
        "start_time": "2023-05-22T10:16:27.521Z"
      },
      {
        "duration": 13,
        "start_time": "2023-05-22T10:16:27.552Z"
      },
      {
        "duration": 32,
        "start_time": "2023-05-22T10:16:27.567Z"
      },
      {
        "duration": 29,
        "start_time": "2023-05-22T10:16:27.604Z"
      },
      {
        "duration": 34,
        "start_time": "2023-05-22T10:16:27.635Z"
      },
      {
        "duration": 145,
        "start_time": "2023-05-22T10:16:27.671Z"
      },
      {
        "duration": 5,
        "start_time": "2023-05-22T10:16:27.818Z"
      },
      {
        "duration": 293,
        "start_time": "2023-05-22T10:16:27.824Z"
      },
      {
        "duration": 18,
        "start_time": "2023-05-22T10:16:28.120Z"
      },
      {
        "duration": 301,
        "start_time": "2023-05-22T10:16:28.141Z"
      },
      {
        "duration": 14,
        "start_time": "2023-05-22T10:16:28.444Z"
      },
      {
        "duration": 46,
        "start_time": "2023-05-22T10:16:28.460Z"
      },
      {
        "duration": 44,
        "start_time": "2023-05-22T10:16:28.512Z"
      },
      {
        "duration": 209,
        "start_time": "2023-05-22T10:16:28.558Z"
      },
      {
        "duration": 6,
        "start_time": "2023-05-22T10:16:28.769Z"
      },
      {
        "duration": 6,
        "start_time": "2023-05-22T10:16:28.777Z"
      },
      {
        "duration": 23,
        "start_time": "2023-05-22T10:16:28.799Z"
      },
      {
        "duration": 138,
        "start_time": "2023-05-22T10:16:28.824Z"
      },
      {
        "duration": 577,
        "start_time": "2023-05-22T10:16:28.964Z"
      },
      {
        "duration": 9,
        "start_time": "2023-05-22T10:16:29.543Z"
      },
      {
        "duration": 174,
        "start_time": "2023-05-22T10:16:29.554Z"
      },
      {
        "duration": 13,
        "start_time": "2023-05-22T10:16:29.730Z"
      },
      {
        "duration": 214,
        "start_time": "2023-05-22T10:16:29.746Z"
      },
      {
        "duration": 67,
        "start_time": "2023-05-22T10:16:29.962Z"
      },
      {
        "duration": 188,
        "start_time": "2023-05-22T10:16:30.031Z"
      },
      {
        "duration": 38,
        "start_time": "2023-05-22T10:16:30.221Z"
      },
      {
        "duration": 218,
        "start_time": "2023-05-22T10:16:30.261Z"
      },
      {
        "duration": 33,
        "start_time": "2023-05-22T10:16:30.481Z"
      },
      {
        "duration": 21,
        "start_time": "2023-05-22T10:16:30.517Z"
      },
      {
        "duration": 52,
        "start_time": "2023-05-22T10:16:30.541Z"
      },
      {
        "duration": 605,
        "start_time": "2023-05-22T10:16:30.600Z"
      },
      {
        "duration": 132,
        "start_time": "2023-05-22T10:16:31.208Z"
      },
      {
        "duration": 26,
        "start_time": "2023-05-22T10:16:31.341Z"
      },
      {
        "duration": 281,
        "start_time": "2023-05-22T10:16:31.369Z"
      },
      {
        "duration": 0,
        "start_time": "2023-05-22T10:16:31.652Z"
      },
      {
        "duration": 0,
        "start_time": "2023-05-22T10:16:31.654Z"
      },
      {
        "duration": 0,
        "start_time": "2023-05-22T10:16:31.655Z"
      },
      {
        "duration": 0,
        "start_time": "2023-05-22T10:16:31.657Z"
      },
      {
        "duration": 0,
        "start_time": "2023-05-22T10:16:31.658Z"
      },
      {
        "duration": 26,
        "start_time": "2023-05-22T10:16:57.118Z"
      },
      {
        "duration": 72,
        "start_time": "2023-05-22T10:17:56.151Z"
      },
      {
        "duration": 33,
        "start_time": "2023-05-22T10:18:54.288Z"
      },
      {
        "duration": 32,
        "start_time": "2023-05-22T10:19:07.170Z"
      },
      {
        "duration": 116,
        "start_time": "2023-05-22T10:19:14.882Z"
      },
      {
        "duration": 22,
        "start_time": "2023-05-22T10:19:18.010Z"
      },
      {
        "duration": 66,
        "start_time": "2023-05-22T10:19:23.086Z"
      },
      {
        "duration": 10,
        "start_time": "2023-05-22T10:26:20.831Z"
      },
      {
        "duration": 13,
        "start_time": "2023-05-22T10:26:23.250Z"
      },
      {
        "duration": 17,
        "start_time": "2023-05-22T10:26:33.058Z"
      },
      {
        "duration": 37,
        "start_time": "2023-05-22T10:27:03.092Z"
      },
      {
        "duration": 11,
        "start_time": "2023-05-22T10:27:06.649Z"
      },
      {
        "duration": 1168,
        "start_time": "2023-05-22T10:27:08.553Z"
      },
      {
        "duration": 17,
        "start_time": "2023-05-22T10:31:53.565Z"
      },
      {
        "duration": 64,
        "start_time": "2023-05-22T10:32:29.246Z"
      },
      {
        "duration": 17,
        "start_time": "2023-05-22T10:37:07.782Z"
      },
      {
        "duration": 28,
        "start_time": "2023-05-22T10:38:36.643Z"
      },
      {
        "duration": 10,
        "start_time": "2023-05-22T10:40:38.189Z"
      },
      {
        "duration": 14,
        "start_time": "2023-05-22T10:46:50.287Z"
      },
      {
        "duration": 4,
        "start_time": "2023-05-22T10:48:36.166Z"
      },
      {
        "duration": 15,
        "start_time": "2023-05-22T10:48:49.573Z"
      },
      {
        "duration": 18,
        "start_time": "2023-05-22T10:49:15.615Z"
      },
      {
        "duration": 14,
        "start_time": "2023-05-22T10:49:28.835Z"
      },
      {
        "duration": 1433,
        "start_time": "2023-05-22T10:49:38.045Z"
      },
      {
        "duration": 190,
        "start_time": "2023-05-22T10:49:39.480Z"
      },
      {
        "duration": 39,
        "start_time": "2023-05-22T10:49:39.672Z"
      },
      {
        "duration": 21,
        "start_time": "2023-05-22T10:49:39.714Z"
      },
      {
        "duration": 19,
        "start_time": "2023-05-22T10:49:39.737Z"
      },
      {
        "duration": 147,
        "start_time": "2023-05-22T10:49:39.758Z"
      },
      {
        "duration": 56,
        "start_time": "2023-05-22T10:49:39.908Z"
      },
      {
        "duration": 109,
        "start_time": "2023-05-22T10:49:39.966Z"
      },
      {
        "duration": 96,
        "start_time": "2023-05-22T10:49:40.078Z"
      },
      {
        "duration": 7,
        "start_time": "2023-05-22T10:49:40.178Z"
      },
      {
        "duration": 42,
        "start_time": "2023-05-22T10:49:40.199Z"
      },
      {
        "duration": 13,
        "start_time": "2023-05-22T10:49:40.243Z"
      },
      {
        "duration": 13,
        "start_time": "2023-05-22T10:49:40.258Z"
      },
      {
        "duration": 50,
        "start_time": "2023-05-22T10:49:40.273Z"
      },
      {
        "duration": 30,
        "start_time": "2023-05-22T10:49:40.325Z"
      },
      {
        "duration": 122,
        "start_time": "2023-05-22T10:49:40.357Z"
      },
      {
        "duration": 5,
        "start_time": "2023-05-22T10:49:40.481Z"
      },
      {
        "duration": 326,
        "start_time": "2023-05-22T10:49:40.499Z"
      },
      {
        "duration": 12,
        "start_time": "2023-05-22T10:49:40.828Z"
      },
      {
        "duration": 280,
        "start_time": "2023-05-22T10:49:40.842Z"
      },
      {
        "duration": 15,
        "start_time": "2023-05-22T10:49:41.125Z"
      },
      {
        "duration": 29,
        "start_time": "2023-05-22T10:49:41.142Z"
      },
      {
        "duration": 66,
        "start_time": "2023-05-22T10:49:41.172Z"
      },
      {
        "duration": 223,
        "start_time": "2023-05-22T10:49:41.239Z"
      },
      {
        "duration": 10,
        "start_time": "2023-05-22T10:49:41.464Z"
      },
      {
        "duration": 40,
        "start_time": "2023-05-22T10:49:41.476Z"
      },
      {
        "duration": 39,
        "start_time": "2023-05-22T10:49:41.518Z"
      },
      {
        "duration": 149,
        "start_time": "2023-05-22T10:49:41.562Z"
      },
      {
        "duration": 578,
        "start_time": "2023-05-22T10:49:41.717Z"
      },
      {
        "duration": 23,
        "start_time": "2023-05-22T10:49:42.297Z"
      },
      {
        "duration": 181,
        "start_time": "2023-05-22T10:49:42.326Z"
      },
      {
        "duration": 22,
        "start_time": "2023-05-22T10:49:42.510Z"
      },
      {
        "duration": 217,
        "start_time": "2023-05-22T10:49:42.535Z"
      },
      {
        "duration": 43,
        "start_time": "2023-05-22T10:49:42.754Z"
      },
      {
        "duration": 218,
        "start_time": "2023-05-22T10:49:42.800Z"
      },
      {
        "duration": 47,
        "start_time": "2023-05-22T10:49:43.020Z"
      },
      {
        "duration": 271,
        "start_time": "2023-05-22T10:49:43.070Z"
      },
      {
        "duration": 22,
        "start_time": "2023-05-22T10:49:43.343Z"
      },
      {
        "duration": 36,
        "start_time": "2023-05-22T10:49:43.367Z"
      },
      {
        "duration": 23,
        "start_time": "2023-05-22T10:49:43.406Z"
      },
      {
        "duration": 573,
        "start_time": "2023-05-22T10:49:43.436Z"
      },
      {
        "duration": 137,
        "start_time": "2023-05-22T10:49:44.011Z"
      },
      {
        "duration": 22,
        "start_time": "2023-05-22T10:49:44.150Z"
      },
      {
        "duration": 87,
        "start_time": "2023-05-22T10:49:44.174Z"
      },
      {
        "duration": 66,
        "start_time": "2023-05-22T10:49:44.264Z"
      },
      {
        "duration": 15,
        "start_time": "2023-05-22T10:49:44.332Z"
      },
      {
        "duration": 1333,
        "start_time": "2023-05-22T10:49:44.349Z"
      },
      {
        "duration": 22,
        "start_time": "2023-05-22T10:49:45.684Z"
      },
      {
        "duration": 203,
        "start_time": "2023-05-22T10:49:45.709Z"
      },
      {
        "duration": 6,
        "start_time": "2023-05-22T10:51:11.136Z"
      },
      {
        "duration": 7,
        "start_time": "2023-05-22T10:56:39.853Z"
      },
      {
        "duration": 12,
        "start_time": "2023-05-22T11:00:05.457Z"
      },
      {
        "duration": 19,
        "start_time": "2023-05-22T11:08:02.954Z"
      },
      {
        "duration": 11,
        "start_time": "2023-05-22T11:08:49.523Z"
      },
      {
        "duration": 10,
        "start_time": "2023-05-22T11:10:16.087Z"
      },
      {
        "duration": 29,
        "start_time": "2023-05-22T11:16:48.164Z"
      },
      {
        "duration": 10,
        "start_time": "2023-05-22T11:19:00.167Z"
      },
      {
        "duration": 10,
        "start_time": "2023-05-22T11:19:51.465Z"
      },
      {
        "duration": 12,
        "start_time": "2023-05-22T11:30:53.121Z"
      },
      {
        "duration": 9,
        "start_time": "2023-05-22T11:33:03.681Z"
      },
      {
        "duration": 5,
        "start_time": "2023-05-22T11:34:45.756Z"
      },
      {
        "duration": 5,
        "start_time": "2023-05-22T11:34:57.026Z"
      },
      {
        "duration": 10,
        "start_time": "2023-05-22T11:35:09.403Z"
      },
      {
        "duration": 5,
        "start_time": "2023-05-22T11:35:22.988Z"
      },
      {
        "duration": 5,
        "start_time": "2023-05-22T11:35:37.876Z"
      },
      {
        "duration": 13,
        "start_time": "2023-05-22T11:41:16.950Z"
      },
      {
        "duration": 17,
        "start_time": "2023-05-22T11:43:05.575Z"
      },
      {
        "duration": 18,
        "start_time": "2023-05-22T11:43:53.149Z"
      },
      {
        "duration": 32,
        "start_time": "2023-05-22T11:45:06.687Z"
      },
      {
        "duration": 26,
        "start_time": "2023-05-22T11:45:41.225Z"
      },
      {
        "duration": 23,
        "start_time": "2023-05-22T11:52:18.166Z"
      },
      {
        "duration": 14,
        "start_time": "2023-05-22T11:52:27.681Z"
      },
      {
        "duration": 16,
        "start_time": "2023-05-22T11:57:05.616Z"
      },
      {
        "duration": 97,
        "start_time": "2023-05-22T11:57:27.588Z"
      },
      {
        "duration": 72,
        "start_time": "2023-05-22T11:57:54.424Z"
      },
      {
        "duration": 22,
        "start_time": "2023-05-22T11:58:25.702Z"
      },
      {
        "duration": 1577,
        "start_time": "2023-05-22T12:09:54.163Z"
      },
      {
        "duration": 217,
        "start_time": "2023-05-22T12:09:55.742Z"
      },
      {
        "duration": 37,
        "start_time": "2023-05-22T12:09:55.961Z"
      },
      {
        "duration": 36,
        "start_time": "2023-05-22T12:09:56.001Z"
      },
      {
        "duration": 27,
        "start_time": "2023-05-22T12:09:56.039Z"
      },
      {
        "duration": 140,
        "start_time": "2023-05-22T12:09:56.068Z"
      },
      {
        "duration": 64,
        "start_time": "2023-05-22T12:09:56.210Z"
      },
      {
        "duration": 106,
        "start_time": "2023-05-22T12:09:56.276Z"
      },
      {
        "duration": 91,
        "start_time": "2023-05-22T12:09:56.385Z"
      },
      {
        "duration": 7,
        "start_time": "2023-05-22T12:09:56.478Z"
      },
      {
        "duration": 97,
        "start_time": "2023-05-22T12:09:56.487Z"
      },
      {
        "duration": 24,
        "start_time": "2023-05-22T12:09:56.586Z"
      },
      {
        "duration": 50,
        "start_time": "2023-05-22T12:09:56.613Z"
      },
      {
        "duration": 27,
        "start_time": "2023-05-22T12:09:56.665Z"
      },
      {
        "duration": 75,
        "start_time": "2023-05-22T12:09:56.694Z"
      },
      {
        "duration": 148,
        "start_time": "2023-05-22T12:09:56.771Z"
      },
      {
        "duration": 6,
        "start_time": "2023-05-22T12:09:56.921Z"
      },
      {
        "duration": 344,
        "start_time": "2023-05-22T12:09:56.929Z"
      },
      {
        "duration": 40,
        "start_time": "2023-05-22T12:09:57.276Z"
      },
      {
        "duration": 291,
        "start_time": "2023-05-22T12:09:57.320Z"
      },
      {
        "duration": 19,
        "start_time": "2023-05-22T12:09:57.615Z"
      },
      {
        "duration": 34,
        "start_time": "2023-05-22T12:09:57.644Z"
      },
      {
        "duration": 66,
        "start_time": "2023-05-22T12:09:57.680Z"
      },
      {
        "duration": 210,
        "start_time": "2023-05-22T12:09:57.749Z"
      },
      {
        "duration": 6,
        "start_time": "2023-05-22T12:09:57.961Z"
      },
      {
        "duration": 10,
        "start_time": "2023-05-22T12:09:57.968Z"
      },
      {
        "duration": 61,
        "start_time": "2023-05-22T12:09:57.979Z"
      },
      {
        "duration": 130,
        "start_time": "2023-05-22T12:09:58.045Z"
      },
      {
        "duration": 579,
        "start_time": "2023-05-22T12:09:58.177Z"
      },
      {
        "duration": 10,
        "start_time": "2023-05-22T12:09:58.758Z"
      },
      {
        "duration": 181,
        "start_time": "2023-05-22T12:09:58.769Z"
      },
      {
        "duration": 61,
        "start_time": "2023-05-22T12:09:58.952Z"
      },
      {
        "duration": 229,
        "start_time": "2023-05-22T12:09:59.016Z"
      },
      {
        "duration": 38,
        "start_time": "2023-05-22T12:09:59.249Z"
      },
      {
        "duration": 187,
        "start_time": "2023-05-22T12:09:59.307Z"
      },
      {
        "duration": 46,
        "start_time": "2023-05-22T12:09:59.496Z"
      },
      {
        "duration": 185,
        "start_time": "2023-05-22T12:09:59.546Z"
      },
      {
        "duration": 29,
        "start_time": "2023-05-22T12:09:59.734Z"
      },
      {
        "duration": 16,
        "start_time": "2023-05-22T12:09:59.765Z"
      },
      {
        "duration": 16,
        "start_time": "2023-05-22T12:09:59.799Z"
      },
      {
        "duration": 647,
        "start_time": "2023-05-22T12:09:59.816Z"
      },
      {
        "duration": 173,
        "start_time": "2023-05-22T12:10:00.465Z"
      },
      {
        "duration": 26,
        "start_time": "2023-05-22T12:10:00.640Z"
      },
      {
        "duration": 146,
        "start_time": "2023-05-22T12:10:00.668Z"
      },
      {
        "duration": 62,
        "start_time": "2023-05-22T12:10:00.819Z"
      },
      {
        "duration": 18,
        "start_time": "2023-05-22T12:10:00.883Z"
      },
      {
        "duration": 1527,
        "start_time": "2023-05-22T12:10:00.903Z"
      },
      {
        "duration": 13,
        "start_time": "2023-05-22T12:10:02.439Z"
      },
      {
        "duration": 48,
        "start_time": "2023-05-22T12:10:02.454Z"
      },
      {
        "duration": 85,
        "start_time": "2023-05-22T12:10:02.504Z"
      },
      {
        "duration": 81,
        "start_time": "2023-05-22T13:22:53.252Z"
      },
      {
        "duration": 11,
        "start_time": "2023-05-22T13:35:03.862Z"
      },
      {
        "duration": 225,
        "start_time": "2023-05-22T13:58:52.816Z"
      },
      {
        "duration": 66,
        "start_time": "2023-05-22T13:59:09.384Z"
      },
      {
        "duration": 67,
        "start_time": "2023-05-22T13:59:20.017Z"
      },
      {
        "duration": 106,
        "start_time": "2023-05-22T15:19:13.204Z"
      },
      {
        "duration": 119,
        "start_time": "2023-05-22T15:19:20.986Z"
      },
      {
        "duration": 1386,
        "start_time": "2023-05-22T15:20:55.889Z"
      },
      {
        "duration": 1336,
        "start_time": "2023-05-22T15:21:23.416Z"
      },
      {
        "duration": 79,
        "start_time": "2023-05-22T15:21:32.305Z"
      },
      {
        "duration": 86,
        "start_time": "2023-05-22T15:21:45.772Z"
      },
      {
        "duration": 81,
        "start_time": "2023-05-22T15:21:56.281Z"
      },
      {
        "duration": 99,
        "start_time": "2023-05-22T15:22:00.875Z"
      },
      {
        "duration": 92,
        "start_time": "2023-05-22T15:22:36.988Z"
      },
      {
        "duration": 108,
        "start_time": "2023-05-22T15:23:58.455Z"
      },
      {
        "duration": 55,
        "start_time": "2023-05-22T15:32:24.769Z"
      },
      {
        "duration": 60,
        "start_time": "2023-05-22T15:34:20.932Z"
      },
      {
        "duration": 61,
        "start_time": "2023-05-22T15:34:27.693Z"
      },
      {
        "duration": 57,
        "start_time": "2023-05-22T15:35:33.276Z"
      },
      {
        "duration": 64,
        "start_time": "2023-05-22T15:36:12.092Z"
      },
      {
        "duration": 1306,
        "start_time": "2023-05-22T15:36:15.804Z"
      },
      {
        "duration": 17,
        "start_time": "2023-05-22T15:37:19.475Z"
      },
      {
        "duration": 63,
        "start_time": "2023-05-22T15:54:11.025Z"
      },
      {
        "duration": 20,
        "start_time": "2023-05-22T15:54:51.930Z"
      },
      {
        "duration": 60,
        "start_time": "2023-05-22T15:55:13.116Z"
      },
      {
        "duration": 58,
        "start_time": "2023-05-22T15:59:29.755Z"
      },
      {
        "duration": 63,
        "start_time": "2023-05-22T16:01:23.180Z"
      },
      {
        "duration": 19,
        "start_time": "2023-05-22T16:01:32.191Z"
      },
      {
        "duration": 22,
        "start_time": "2023-05-22T16:01:48.099Z"
      },
      {
        "duration": 69,
        "start_time": "2023-05-22T16:03:01.247Z"
      },
      {
        "duration": 67,
        "start_time": "2023-05-22T16:06:45.065Z"
      },
      {
        "duration": 17,
        "start_time": "2023-05-22T16:07:02.657Z"
      },
      {
        "duration": 18,
        "start_time": "2023-05-22T16:09:29.082Z"
      },
      {
        "duration": 1799,
        "start_time": "2023-05-22T16:11:01.470Z"
      },
      {
        "duration": 96,
        "start_time": "2023-05-22T16:11:27.349Z"
      },
      {
        "duration": 16,
        "start_time": "2023-05-22T16:13:09.550Z"
      },
      {
        "duration": 1281,
        "start_time": "2023-05-22T16:13:25.888Z"
      },
      {
        "duration": 156,
        "start_time": "2023-05-22T16:13:27.171Z"
      },
      {
        "duration": 31,
        "start_time": "2023-05-22T16:13:27.328Z"
      },
      {
        "duration": 16,
        "start_time": "2023-05-22T16:13:27.361Z"
      },
      {
        "duration": 30,
        "start_time": "2023-05-22T16:13:27.379Z"
      },
      {
        "duration": 90,
        "start_time": "2023-05-22T16:13:27.411Z"
      },
      {
        "duration": 42,
        "start_time": "2023-05-22T16:13:27.503Z"
      },
      {
        "duration": 81,
        "start_time": "2023-05-22T16:13:27.547Z"
      },
      {
        "duration": 68,
        "start_time": "2023-05-22T16:13:27.630Z"
      },
      {
        "duration": 6,
        "start_time": "2023-05-22T16:13:27.699Z"
      },
      {
        "duration": 31,
        "start_time": "2023-05-22T16:13:27.707Z"
      },
      {
        "duration": 12,
        "start_time": "2023-05-22T16:13:27.740Z"
      },
      {
        "duration": 10,
        "start_time": "2023-05-22T16:13:27.754Z"
      },
      {
        "duration": 38,
        "start_time": "2023-05-22T16:13:27.768Z"
      },
      {
        "duration": 27,
        "start_time": "2023-05-22T16:13:27.808Z"
      },
      {
        "duration": 111,
        "start_time": "2023-05-22T16:13:27.837Z"
      },
      {
        "duration": 4,
        "start_time": "2023-05-22T16:13:27.949Z"
      },
      {
        "duration": 211,
        "start_time": "2023-05-22T16:13:27.954Z"
      },
      {
        "duration": 10,
        "start_time": "2023-05-22T16:13:28.167Z"
      },
      {
        "duration": 217,
        "start_time": "2023-05-22T16:13:28.178Z"
      },
      {
        "duration": 10,
        "start_time": "2023-05-22T16:13:28.396Z"
      },
      {
        "duration": 27,
        "start_time": "2023-05-22T16:13:28.408Z"
      },
      {
        "duration": 34,
        "start_time": "2023-05-22T16:13:28.437Z"
      },
      {
        "duration": 164,
        "start_time": "2023-05-22T16:13:28.472Z"
      },
      {
        "duration": 5,
        "start_time": "2023-05-22T16:13:28.638Z"
      },
      {
        "duration": 9,
        "start_time": "2023-05-22T16:13:28.644Z"
      },
      {
        "duration": 19,
        "start_time": "2023-05-22T16:13:28.655Z"
      },
      {
        "duration": 112,
        "start_time": "2023-05-22T16:13:28.675Z"
      },
      {
        "duration": 436,
        "start_time": "2023-05-22T16:13:28.797Z"
      },
      {
        "duration": 8,
        "start_time": "2023-05-22T16:13:29.235Z"
      },
      {
        "duration": 102,
        "start_time": "2023-05-22T16:13:29.245Z"
      },
      {
        "duration": 13,
        "start_time": "2023-05-22T16:13:29.397Z"
      },
      {
        "duration": 157,
        "start_time": "2023-05-22T16:13:29.411Z"
      },
      {
        "duration": 46,
        "start_time": "2023-05-22T16:13:29.569Z"
      },
      {
        "duration": 143,
        "start_time": "2023-05-22T16:13:29.617Z"
      },
      {
        "duration": 35,
        "start_time": "2023-05-22T16:13:29.762Z"
      },
      {
        "duration": 143,
        "start_time": "2023-05-22T16:13:29.798Z"
      },
      {
        "duration": 17,
        "start_time": "2023-05-22T16:13:29.943Z"
      },
      {
        "duration": 8,
        "start_time": "2023-05-22T16:13:29.962Z"
      },
      {
        "duration": 29,
        "start_time": "2023-05-22T16:13:29.972Z"
      },
      {
        "duration": 453,
        "start_time": "2023-05-22T16:13:30.004Z"
      },
      {
        "duration": 102,
        "start_time": "2023-05-22T16:13:30.459Z"
      },
      {
        "duration": 158,
        "start_time": "2023-05-22T16:13:30.563Z"
      },
      {
        "duration": 0,
        "start_time": "2023-05-22T16:13:30.723Z"
      },
      {
        "duration": 0,
        "start_time": "2023-05-22T16:13:30.725Z"
      },
      {
        "duration": 0,
        "start_time": "2023-05-22T16:13:30.726Z"
      },
      {
        "duration": 0,
        "start_time": "2023-05-22T16:13:30.727Z"
      },
      {
        "duration": 0,
        "start_time": "2023-05-22T16:13:30.728Z"
      },
      {
        "duration": 0,
        "start_time": "2023-05-22T16:13:30.729Z"
      },
      {
        "duration": 0,
        "start_time": "2023-05-22T16:13:30.730Z"
      },
      {
        "duration": 100,
        "start_time": "2023-05-22T16:14:38.341Z"
      },
      {
        "duration": 18,
        "start_time": "2023-05-22T16:14:49.636Z"
      },
      {
        "duration": 111,
        "start_time": "2023-05-22T16:15:56.538Z"
      },
      {
        "duration": 15,
        "start_time": "2023-05-22T16:16:22.785Z"
      },
      {
        "duration": 21,
        "start_time": "2023-05-22T16:23:08.359Z"
      },
      {
        "duration": 1361,
        "start_time": "2023-05-22T16:25:59.135Z"
      },
      {
        "duration": 1242,
        "start_time": "2023-05-22T16:26:21.895Z"
      },
      {
        "duration": 1341,
        "start_time": "2023-05-22T16:26:55.787Z"
      },
      {
        "duration": 154,
        "start_time": "2023-05-22T16:26:57.130Z"
      },
      {
        "duration": 30,
        "start_time": "2023-05-22T16:26:57.286Z"
      },
      {
        "duration": 14,
        "start_time": "2023-05-22T16:26:57.318Z"
      },
      {
        "duration": 14,
        "start_time": "2023-05-22T16:26:57.334Z"
      },
      {
        "duration": 127,
        "start_time": "2023-05-22T16:26:57.350Z"
      },
      {
        "duration": 54,
        "start_time": "2023-05-22T16:26:57.479Z"
      },
      {
        "duration": 76,
        "start_time": "2023-05-22T16:26:57.534Z"
      },
      {
        "duration": 59,
        "start_time": "2023-05-22T16:26:57.612Z"
      },
      {
        "duration": 28,
        "start_time": "2023-05-22T16:26:57.674Z"
      },
      {
        "duration": 27,
        "start_time": "2023-05-22T16:26:57.704Z"
      },
      {
        "duration": 11,
        "start_time": "2023-05-22T16:26:57.733Z"
      },
      {
        "duration": 25,
        "start_time": "2023-05-22T16:26:57.745Z"
      },
      {
        "duration": 15,
        "start_time": "2023-05-22T16:26:57.797Z"
      },
      {
        "duration": 27,
        "start_time": "2023-05-22T16:26:57.814Z"
      },
      {
        "duration": 111,
        "start_time": "2023-05-22T16:26:57.842Z"
      },
      {
        "duration": 4,
        "start_time": "2023-05-22T16:26:57.954Z"
      },
      {
        "duration": 234,
        "start_time": "2023-05-22T16:26:57.959Z"
      },
      {
        "duration": 18,
        "start_time": "2023-05-22T16:26:58.196Z"
      },
      {
        "duration": 221,
        "start_time": "2023-05-22T16:26:58.216Z"
      },
      {
        "duration": 11,
        "start_time": "2023-05-22T16:26:58.439Z"
      },
      {
        "duration": 19,
        "start_time": "2023-05-22T16:26:58.452Z"
      },
      {
        "duration": 61,
        "start_time": "2023-05-22T16:26:58.473Z"
      },
      {
        "duration": 157,
        "start_time": "2023-05-22T16:26:58.536Z"
      },
      {
        "duration": 16,
        "start_time": "2023-05-22T16:26:58.695Z"
      },
      {
        "duration": 11,
        "start_time": "2023-05-22T16:26:58.713Z"
      },
      {
        "duration": 21,
        "start_time": "2023-05-22T16:26:58.725Z"
      },
      {
        "duration": 103,
        "start_time": "2023-05-22T16:26:58.749Z"
      },
      {
        "duration": 459,
        "start_time": "2023-05-22T16:26:58.854Z"
      },
      {
        "duration": 7,
        "start_time": "2023-05-22T16:26:59.315Z"
      },
      {
        "duration": 108,
        "start_time": "2023-05-22T16:26:59.324Z"
      },
      {
        "duration": 12,
        "start_time": "2023-05-22T16:26:59.433Z"
      },
      {
        "duration": 193,
        "start_time": "2023-05-22T16:26:59.447Z"
      },
      {
        "duration": 35,
        "start_time": "2023-05-22T16:26:59.642Z"
      },
      {
        "duration": 166,
        "start_time": "2023-05-22T16:26:59.678Z"
      },
      {
        "duration": 26,
        "start_time": "2023-05-22T16:26:59.845Z"
      },
      {
        "duration": 170,
        "start_time": "2023-05-22T16:26:59.872Z"
      },
      {
        "duration": 18,
        "start_time": "2023-05-22T16:27:00.044Z"
      },
      {
        "duration": 10,
        "start_time": "2023-05-22T16:27:00.063Z"
      },
      {
        "duration": 37,
        "start_time": "2023-05-22T16:27:00.074Z"
      },
      {
        "duration": 472,
        "start_time": "2023-05-22T16:27:00.113Z"
      },
      {
        "duration": 165,
        "start_time": "2023-05-22T16:27:00.587Z"
      },
      {
        "duration": 0,
        "start_time": "2023-05-22T16:27:00.754Z"
      },
      {
        "duration": 0,
        "start_time": "2023-05-22T16:27:00.755Z"
      },
      {
        "duration": 0,
        "start_time": "2023-05-22T16:27:00.756Z"
      },
      {
        "duration": 0,
        "start_time": "2023-05-22T16:27:00.757Z"
      },
      {
        "duration": 0,
        "start_time": "2023-05-22T16:27:00.758Z"
      },
      {
        "duration": 1,
        "start_time": "2023-05-22T16:27:00.759Z"
      },
      {
        "duration": 0,
        "start_time": "2023-05-22T16:27:00.760Z"
      },
      {
        "duration": 0,
        "start_time": "2023-05-22T16:27:00.762Z"
      },
      {
        "duration": 1427,
        "start_time": "2023-05-22T16:28:19.036Z"
      },
      {
        "duration": 96,
        "start_time": "2023-05-22T16:28:36.370Z"
      },
      {
        "duration": 120,
        "start_time": "2023-05-22T16:29:13.341Z"
      },
      {
        "duration": 20,
        "start_time": "2023-05-22T16:32:05.773Z"
      },
      {
        "duration": 67,
        "start_time": "2023-05-22T16:43:59.730Z"
      },
      {
        "duration": 69,
        "start_time": "2023-05-22T16:46:30.728Z"
      },
      {
        "duration": 90,
        "start_time": "2023-05-22T16:47:45.017Z"
      },
      {
        "duration": 65,
        "start_time": "2023-05-22T16:51:02.009Z"
      },
      {
        "duration": 69,
        "start_time": "2023-05-22T16:51:32.458Z"
      },
      {
        "duration": 17,
        "start_time": "2023-05-22T16:53:22.152Z"
      },
      {
        "duration": 95,
        "start_time": "2023-05-22T17:00:40.766Z"
      },
      {
        "duration": 98,
        "start_time": "2023-05-22T17:01:29.246Z"
      },
      {
        "duration": 115,
        "start_time": "2023-05-22T17:02:59.563Z"
      },
      {
        "duration": 16,
        "start_time": "2023-05-22T17:04:19.444Z"
      },
      {
        "duration": 21,
        "start_time": "2023-05-22T17:04:47.834Z"
      },
      {
        "duration": 72,
        "start_time": "2023-05-22T17:07:42.598Z"
      },
      {
        "duration": 7,
        "start_time": "2023-05-22T17:10:40.869Z"
      },
      {
        "duration": 8,
        "start_time": "2023-05-22T17:11:28.611Z"
      },
      {
        "duration": 18,
        "start_time": "2023-05-22T17:12:01.082Z"
      },
      {
        "duration": 20,
        "start_time": "2023-05-22T17:12:24.694Z"
      },
      {
        "duration": 68,
        "start_time": "2023-05-22T17:12:42.568Z"
      },
      {
        "duration": 82,
        "start_time": "2023-05-22T17:13:19.146Z"
      },
      {
        "duration": 38,
        "start_time": "2023-05-22T17:20:45.781Z"
      },
      {
        "duration": 14,
        "start_time": "2023-05-22T17:20:57.150Z"
      },
      {
        "duration": 1099,
        "start_time": "2023-05-22T17:21:00.406Z"
      },
      {
        "duration": 11,
        "start_time": "2023-05-22T17:35:05.946Z"
      },
      {
        "duration": 4,
        "start_time": "2023-05-22T18:10:08.724Z"
      },
      {
        "duration": 4,
        "start_time": "2023-05-22T18:12:01.487Z"
      },
      {
        "duration": 30,
        "start_time": "2023-05-22T18:12:17.696Z"
      },
      {
        "duration": 105,
        "start_time": "2023-05-22T18:14:22.967Z"
      },
      {
        "duration": 140,
        "start_time": "2023-05-22T18:14:51.586Z"
      },
      {
        "duration": 131,
        "start_time": "2023-05-22T18:16:00.945Z"
      },
      {
        "duration": 72,
        "start_time": "2023-05-22T18:30:58.064Z"
      },
      {
        "duration": 9,
        "start_time": "2023-05-22T18:43:26.897Z"
      },
      {
        "duration": 7,
        "start_time": "2023-05-22T18:44:53.534Z"
      },
      {
        "duration": 1334,
        "start_time": "2023-05-22T19:12:33.267Z"
      },
      {
        "duration": 162,
        "start_time": "2023-05-22T19:12:34.603Z"
      },
      {
        "duration": 36,
        "start_time": "2023-05-22T19:12:34.767Z"
      },
      {
        "duration": 14,
        "start_time": "2023-05-22T19:12:34.805Z"
      },
      {
        "duration": 21,
        "start_time": "2023-05-22T19:12:34.822Z"
      },
      {
        "duration": 113,
        "start_time": "2023-05-22T19:12:34.845Z"
      },
      {
        "duration": 71,
        "start_time": "2023-05-22T19:12:34.959Z"
      },
      {
        "duration": 90,
        "start_time": "2023-05-22T19:12:35.032Z"
      },
      {
        "duration": 56,
        "start_time": "2023-05-22T19:12:35.124Z"
      },
      {
        "duration": 20,
        "start_time": "2023-05-22T19:12:35.181Z"
      },
      {
        "duration": 29,
        "start_time": "2023-05-22T19:12:35.202Z"
      },
      {
        "duration": 10,
        "start_time": "2023-05-22T19:12:35.233Z"
      },
      {
        "duration": 9,
        "start_time": "2023-05-22T19:12:35.244Z"
      },
      {
        "duration": 45,
        "start_time": "2023-05-22T19:12:35.257Z"
      },
      {
        "duration": 39,
        "start_time": "2023-05-22T19:12:35.304Z"
      },
      {
        "duration": 114,
        "start_time": "2023-05-22T19:12:35.345Z"
      },
      {
        "duration": 5,
        "start_time": "2023-05-22T19:12:35.461Z"
      },
      {
        "duration": 213,
        "start_time": "2023-05-22T19:12:35.468Z"
      },
      {
        "duration": 18,
        "start_time": "2023-05-22T19:12:35.683Z"
      },
      {
        "duration": 212,
        "start_time": "2023-05-22T19:12:35.703Z"
      },
      {
        "duration": 10,
        "start_time": "2023-05-22T19:12:35.917Z"
      },
      {
        "duration": 31,
        "start_time": "2023-05-22T19:12:35.928Z"
      },
      {
        "duration": 46,
        "start_time": "2023-05-22T19:12:35.961Z"
      },
      {
        "duration": 144,
        "start_time": "2023-05-22T19:12:36.009Z"
      },
      {
        "duration": 5,
        "start_time": "2023-05-22T19:12:36.154Z"
      },
      {
        "duration": 7,
        "start_time": "2023-05-22T19:12:36.161Z"
      },
      {
        "duration": 35,
        "start_time": "2023-05-22T19:12:36.169Z"
      },
      {
        "duration": 106,
        "start_time": "2023-05-22T19:12:36.205Z"
      },
      {
        "duration": 491,
        "start_time": "2023-05-22T19:12:36.313Z"
      },
      {
        "duration": 9,
        "start_time": "2023-05-22T19:12:36.805Z"
      },
      {
        "duration": 120,
        "start_time": "2023-05-22T19:12:36.816Z"
      },
      {
        "duration": 59,
        "start_time": "2023-05-22T19:12:36.938Z"
      },
      {
        "duration": 147,
        "start_time": "2023-05-22T19:12:36.999Z"
      },
      {
        "duration": 31,
        "start_time": "2023-05-22T19:12:37.148Z"
      },
      {
        "duration": 144,
        "start_time": "2023-05-22T19:12:37.180Z"
      },
      {
        "duration": 24,
        "start_time": "2023-05-22T19:12:37.326Z"
      },
      {
        "duration": 150,
        "start_time": "2023-05-22T19:12:37.351Z"
      },
      {
        "duration": 17,
        "start_time": "2023-05-22T19:12:37.503Z"
      },
      {
        "duration": 9,
        "start_time": "2023-05-22T19:12:37.522Z"
      },
      {
        "duration": 15,
        "start_time": "2023-05-22T19:12:37.533Z"
      },
      {
        "duration": 459,
        "start_time": "2023-05-22T19:12:37.551Z"
      },
      {
        "duration": 159,
        "start_time": "2023-05-22T19:12:38.011Z"
      },
      {
        "duration": 0,
        "start_time": "2023-05-22T19:12:38.172Z"
      },
      {
        "duration": 0,
        "start_time": "2023-05-22T19:12:38.173Z"
      },
      {
        "duration": 0,
        "start_time": "2023-05-22T19:12:38.174Z"
      },
      {
        "duration": 0,
        "start_time": "2023-05-22T19:12:38.175Z"
      },
      {
        "duration": 0,
        "start_time": "2023-05-22T19:12:38.176Z"
      },
      {
        "duration": 0,
        "start_time": "2023-05-22T19:12:38.178Z"
      },
      {
        "duration": 0,
        "start_time": "2023-05-22T19:12:38.179Z"
      },
      {
        "duration": 0,
        "start_time": "2023-05-22T19:12:38.179Z"
      },
      {
        "duration": 0,
        "start_time": "2023-05-22T19:12:38.197Z"
      },
      {
        "duration": 97,
        "start_time": "2023-05-22T19:13:20.880Z"
      },
      {
        "duration": 92,
        "start_time": "2023-05-22T19:14:55.623Z"
      },
      {
        "duration": 92,
        "start_time": "2023-05-22T19:15:18.492Z"
      },
      {
        "duration": 91,
        "start_time": "2023-05-22T19:15:27.608Z"
      },
      {
        "duration": 9,
        "start_time": "2023-05-22T19:15:36.957Z"
      },
      {
        "duration": 17,
        "start_time": "2023-05-22T19:15:46.580Z"
      },
      {
        "duration": 98,
        "start_time": "2023-05-22T19:16:57.793Z"
      },
      {
        "duration": 18,
        "start_time": "2023-05-22T19:17:02.939Z"
      },
      {
        "duration": 24,
        "start_time": "2023-05-22T19:20:09.766Z"
      },
      {
        "duration": 53,
        "start_time": "2023-05-22T19:20:42.678Z"
      },
      {
        "duration": 20,
        "start_time": "2023-05-22T19:22:15.175Z"
      },
      {
        "duration": 57,
        "start_time": "2023-05-22T19:22:19.278Z"
      },
      {
        "duration": 31,
        "start_time": "2023-05-22T19:25:33.833Z"
      },
      {
        "duration": 9,
        "start_time": "2023-05-22T19:25:37.927Z"
      },
      {
        "duration": 963,
        "start_time": "2023-05-22T19:25:40.207Z"
      },
      {
        "duration": 89,
        "start_time": "2023-05-22T19:28:24.333Z"
      },
      {
        "duration": 90,
        "start_time": "2023-05-22T19:29:39.624Z"
      },
      {
        "duration": 54,
        "start_time": "2023-05-22T19:29:43.314Z"
      },
      {
        "duration": 9,
        "start_time": "2023-05-22T19:29:51.584Z"
      },
      {
        "duration": 9,
        "start_time": "2023-05-22T19:31:55.511Z"
      },
      {
        "duration": 31,
        "start_time": "2023-05-22T19:32:00.167Z"
      },
      {
        "duration": 20,
        "start_time": "2023-05-22T19:33:19.277Z"
      },
      {
        "duration": 970,
        "start_time": "2023-05-22T19:33:33.609Z"
      },
      {
        "duration": 1377,
        "start_time": "2023-05-22T19:38:45.040Z"
      },
      {
        "duration": 1195,
        "start_time": "2023-05-22T19:39:17.528Z"
      },
      {
        "duration": 1156,
        "start_time": "2023-05-22T19:40:17.636Z"
      },
      {
        "duration": 144,
        "start_time": "2023-05-22T19:40:18.793Z"
      },
      {
        "duration": 28,
        "start_time": "2023-05-22T19:40:18.938Z"
      },
      {
        "duration": 13,
        "start_time": "2023-05-22T19:40:18.968Z"
      },
      {
        "duration": 24,
        "start_time": "2023-05-22T19:40:18.983Z"
      },
      {
        "duration": 101,
        "start_time": "2023-05-22T19:40:19.009Z"
      },
      {
        "duration": 40,
        "start_time": "2023-05-22T19:40:19.112Z"
      },
      {
        "duration": 72,
        "start_time": "2023-05-22T19:40:19.154Z"
      },
      {
        "duration": 55,
        "start_time": "2023-05-22T19:40:19.228Z"
      },
      {
        "duration": 15,
        "start_time": "2023-05-22T19:40:19.285Z"
      },
      {
        "duration": 29,
        "start_time": "2023-05-22T19:40:19.302Z"
      },
      {
        "duration": 11,
        "start_time": "2023-05-22T19:40:19.332Z"
      },
      {
        "duration": 6,
        "start_time": "2023-05-22T19:40:19.345Z"
      },
      {
        "duration": 16,
        "start_time": "2023-05-22T19:40:19.353Z"
      },
      {
        "duration": 56,
        "start_time": "2023-05-22T19:40:19.371Z"
      },
      {
        "duration": 128,
        "start_time": "2023-05-22T19:40:19.429Z"
      },
      {
        "duration": 4,
        "start_time": "2023-05-22T19:40:19.559Z"
      },
      {
        "duration": 218,
        "start_time": "2023-05-22T19:40:19.564Z"
      },
      {
        "duration": 18,
        "start_time": "2023-05-22T19:40:19.784Z"
      },
      {
        "duration": 200,
        "start_time": "2023-05-22T19:40:19.804Z"
      },
      {
        "duration": 11,
        "start_time": "2023-05-22T19:40:20.006Z"
      },
      {
        "duration": 90,
        "start_time": "2023-05-22T19:40:20.019Z"
      },
      {
        "duration": 36,
        "start_time": "2023-05-22T19:40:20.111Z"
      },
      {
        "duration": 152,
        "start_time": "2023-05-22T19:40:20.148Z"
      },
      {
        "duration": 6,
        "start_time": "2023-05-22T19:40:20.302Z"
      },
      {
        "duration": 7,
        "start_time": "2023-05-22T19:40:20.310Z"
      },
      {
        "duration": 29,
        "start_time": "2023-05-22T19:40:20.318Z"
      },
      {
        "duration": 112,
        "start_time": "2023-05-22T19:40:20.351Z"
      },
      {
        "duration": 438,
        "start_time": "2023-05-22T19:40:20.465Z"
      },
      {
        "duration": 8,
        "start_time": "2023-05-22T19:40:20.904Z"
      },
      {
        "duration": 116,
        "start_time": "2023-05-22T19:40:20.914Z"
      },
      {
        "duration": 11,
        "start_time": "2023-05-22T19:40:21.033Z"
      },
      {
        "duration": 165,
        "start_time": "2023-05-22T19:40:21.046Z"
      },
      {
        "duration": 31,
        "start_time": "2023-05-22T19:40:21.213Z"
      },
      {
        "duration": 158,
        "start_time": "2023-05-22T19:40:21.246Z"
      },
      {
        "duration": 32,
        "start_time": "2023-05-22T19:40:21.406Z"
      },
      {
        "duration": 169,
        "start_time": "2023-05-22T19:40:21.440Z"
      },
      {
        "duration": 17,
        "start_time": "2023-05-22T19:40:21.610Z"
      },
      {
        "duration": 8,
        "start_time": "2023-05-22T19:40:21.628Z"
      },
      {
        "duration": 10,
        "start_time": "2023-05-22T19:40:21.638Z"
      },
      {
        "duration": 472,
        "start_time": "2023-05-22T19:40:21.649Z"
      },
      {
        "duration": 110,
        "start_time": "2023-05-22T19:40:22.123Z"
      },
      {
        "duration": 66,
        "start_time": "2023-05-22T19:40:22.235Z"
      },
      {
        "duration": 8,
        "start_time": "2023-05-22T19:40:22.303Z"
      },
      {
        "duration": 39,
        "start_time": "2023-05-22T19:40:22.313Z"
      },
      {
        "duration": 43,
        "start_time": "2023-05-22T19:40:22.354Z"
      },
      {
        "duration": 1114,
        "start_time": "2023-05-22T19:40:22.400Z"
      },
      {
        "duration": 12,
        "start_time": "2023-05-22T19:40:23.516Z"
      },
      {
        "duration": 21,
        "start_time": "2023-05-22T19:40:23.529Z"
      },
      {
        "duration": 13,
        "start_time": "2023-05-22T19:40:23.551Z"
      },
      {
        "duration": 43,
        "start_time": "2023-05-22T19:43:32.624Z"
      },
      {
        "duration": 19,
        "start_time": "2023-05-22T19:43:57.470Z"
      },
      {
        "duration": 1043,
        "start_time": "2023-05-22T19:44:10.712Z"
      },
      {
        "duration": 36,
        "start_time": "2023-05-22T19:46:31.572Z"
      },
      {
        "duration": 33,
        "start_time": "2023-05-22T19:46:46.352Z"
      },
      {
        "duration": 18,
        "start_time": "2023-05-22T19:47:00.245Z"
      },
      {
        "duration": 1027,
        "start_time": "2023-05-22T19:47:05.395Z"
      },
      {
        "duration": 93,
        "start_time": "2023-05-22T20:07:37.718Z"
      },
      {
        "duration": 54,
        "start_time": "2023-05-22T20:28:47.666Z"
      },
      {
        "duration": 55,
        "start_time": "2023-05-22T20:31:28.168Z"
      },
      {
        "duration": 59,
        "start_time": "2023-05-22T20:31:45.209Z"
      },
      {
        "duration": 1216,
        "start_time": "2023-05-22T20:32:04.984Z"
      },
      {
        "duration": 143,
        "start_time": "2023-05-22T20:32:06.202Z"
      },
      {
        "duration": 35,
        "start_time": "2023-05-22T20:32:06.348Z"
      },
      {
        "duration": 13,
        "start_time": "2023-05-22T20:32:06.386Z"
      },
      {
        "duration": 18,
        "start_time": "2023-05-22T20:32:06.401Z"
      },
      {
        "duration": 92,
        "start_time": "2023-05-22T20:32:06.421Z"
      },
      {
        "duration": 42,
        "start_time": "2023-05-22T20:32:06.515Z"
      },
      {
        "duration": 90,
        "start_time": "2023-05-22T20:32:06.558Z"
      },
      {
        "duration": 83,
        "start_time": "2023-05-22T20:32:06.652Z"
      },
      {
        "duration": 7,
        "start_time": "2023-05-22T20:32:06.739Z"
      },
      {
        "duration": 50,
        "start_time": "2023-05-22T20:32:06.748Z"
      },
      {
        "duration": 14,
        "start_time": "2023-05-22T20:32:06.800Z"
      },
      {
        "duration": 17,
        "start_time": "2023-05-22T20:32:06.817Z"
      },
      {
        "duration": 26,
        "start_time": "2023-05-22T20:32:06.836Z"
      },
      {
        "duration": 50,
        "start_time": "2023-05-22T20:32:06.864Z"
      },
      {
        "duration": 108,
        "start_time": "2023-05-22T20:32:06.916Z"
      },
      {
        "duration": 4,
        "start_time": "2023-05-22T20:32:07.026Z"
      },
      {
        "duration": 221,
        "start_time": "2023-05-22T20:32:07.032Z"
      },
      {
        "duration": 11,
        "start_time": "2023-05-22T20:32:07.255Z"
      },
      {
        "duration": 215,
        "start_time": "2023-05-22T20:32:07.267Z"
      },
      {
        "duration": 16,
        "start_time": "2023-05-22T20:32:07.483Z"
      },
      {
        "duration": 23,
        "start_time": "2023-05-22T20:32:07.500Z"
      },
      {
        "duration": 32,
        "start_time": "2023-05-22T20:32:07.524Z"
      },
      {
        "duration": 165,
        "start_time": "2023-05-22T20:32:07.558Z"
      },
      {
        "duration": 5,
        "start_time": "2023-05-22T20:32:07.725Z"
      },
      {
        "duration": 10,
        "start_time": "2023-05-22T20:32:07.732Z"
      },
      {
        "duration": 18,
        "start_time": "2023-05-22T20:32:07.743Z"
      },
      {
        "duration": 116,
        "start_time": "2023-05-22T20:32:07.764Z"
      },
      {
        "duration": 415,
        "start_time": "2023-05-22T20:32:07.882Z"
      },
      {
        "duration": 8,
        "start_time": "2023-05-22T20:32:08.299Z"
      },
      {
        "duration": 119,
        "start_time": "2023-05-22T20:32:08.309Z"
      },
      {
        "duration": 11,
        "start_time": "2023-05-22T20:32:08.430Z"
      },
      {
        "duration": 182,
        "start_time": "2023-05-22T20:32:08.442Z"
      },
      {
        "duration": 31,
        "start_time": "2023-05-22T20:32:08.626Z"
      },
      {
        "duration": 149,
        "start_time": "2023-05-22T20:32:08.658Z"
      },
      {
        "duration": 30,
        "start_time": "2023-05-22T20:32:08.809Z"
      },
      {
        "duration": 143,
        "start_time": "2023-05-22T20:32:08.840Z"
      },
      {
        "duration": 27,
        "start_time": "2023-05-22T20:32:08.985Z"
      },
      {
        "duration": 10,
        "start_time": "2023-05-22T20:32:09.013Z"
      },
      {
        "duration": 13,
        "start_time": "2023-05-22T20:32:09.025Z"
      },
      {
        "duration": 491,
        "start_time": "2023-05-22T20:32:09.040Z"
      },
      {
        "duration": 96,
        "start_time": "2023-05-22T20:32:09.533Z"
      },
      {
        "duration": 70,
        "start_time": "2023-05-22T20:32:09.631Z"
      },
      {
        "duration": 8,
        "start_time": "2023-05-22T20:32:09.703Z"
      },
      {
        "duration": 50,
        "start_time": "2023-05-22T20:32:09.713Z"
      },
      {
        "duration": 36,
        "start_time": "2023-05-22T20:32:09.764Z"
      },
      {
        "duration": 1081,
        "start_time": "2023-05-22T20:32:09.801Z"
      },
      {
        "duration": 17,
        "start_time": "2023-05-22T20:32:10.884Z"
      },
      {
        "duration": 14,
        "start_time": "2023-05-22T20:32:10.903Z"
      },
      {
        "duration": 22,
        "start_time": "2023-05-22T20:32:10.919Z"
      },
      {
        "duration": 57,
        "start_time": "2023-05-22T20:33:28.525Z"
      },
      {
        "duration": 62,
        "start_time": "2023-05-22T20:33:40.028Z"
      },
      {
        "duration": 68,
        "start_time": "2023-05-22T20:35:15.175Z"
      },
      {
        "duration": 60,
        "start_time": "2023-05-22T20:36:38.054Z"
      },
      {
        "duration": 56,
        "start_time": "2023-05-22T20:38:17.891Z"
      },
      {
        "duration": 1297,
        "start_time": "2023-05-22T20:38:25.776Z"
      },
      {
        "duration": 146,
        "start_time": "2023-05-22T20:38:27.075Z"
      },
      {
        "duration": 31,
        "start_time": "2023-05-22T20:38:27.222Z"
      },
      {
        "duration": 12,
        "start_time": "2023-05-22T20:38:27.255Z"
      },
      {
        "duration": 14,
        "start_time": "2023-05-22T20:38:27.269Z"
      },
      {
        "duration": 96,
        "start_time": "2023-05-22T20:38:27.285Z"
      },
      {
        "duration": 55,
        "start_time": "2023-05-22T20:38:27.383Z"
      },
      {
        "duration": 67,
        "start_time": "2023-05-22T20:38:27.440Z"
      },
      {
        "duration": 53,
        "start_time": "2023-05-22T20:38:27.508Z"
      },
      {
        "duration": 6,
        "start_time": "2023-05-22T20:38:27.563Z"
      },
      {
        "duration": 46,
        "start_time": "2023-05-22T20:38:27.570Z"
      },
      {
        "duration": 11,
        "start_time": "2023-05-22T20:38:27.618Z"
      },
      {
        "duration": 10,
        "start_time": "2023-05-22T20:38:27.630Z"
      },
      {
        "duration": 16,
        "start_time": "2023-05-22T20:38:27.641Z"
      },
      {
        "duration": 47,
        "start_time": "2023-05-22T20:38:27.658Z"
      },
      {
        "duration": 91,
        "start_time": "2023-05-22T20:38:27.707Z"
      },
      {
        "duration": 4,
        "start_time": "2023-05-22T20:38:27.800Z"
      },
      {
        "duration": 205,
        "start_time": "2023-05-22T20:38:27.805Z"
      },
      {
        "duration": 9,
        "start_time": "2023-05-22T20:38:28.012Z"
      },
      {
        "duration": 210,
        "start_time": "2023-05-22T20:38:28.022Z"
      },
      {
        "duration": 12,
        "start_time": "2023-05-22T20:38:28.233Z"
      },
      {
        "duration": 23,
        "start_time": "2023-05-22T20:38:28.246Z"
      },
      {
        "duration": 71,
        "start_time": "2023-05-22T20:38:28.271Z"
      },
      {
        "duration": 156,
        "start_time": "2023-05-22T20:38:28.343Z"
      },
      {
        "duration": 6,
        "start_time": "2023-05-22T20:38:28.501Z"
      },
      {
        "duration": 8,
        "start_time": "2023-05-22T20:38:28.508Z"
      },
      {
        "duration": 19,
        "start_time": "2023-05-22T20:38:28.517Z"
      },
      {
        "duration": 114,
        "start_time": "2023-05-22T20:38:28.539Z"
      },
      {
        "duration": 436,
        "start_time": "2023-05-22T20:38:28.654Z"
      },
      {
        "duration": 10,
        "start_time": "2023-05-22T20:38:29.092Z"
      },
      {
        "duration": 119,
        "start_time": "2023-05-22T20:38:29.104Z"
      },
      {
        "duration": 11,
        "start_time": "2023-05-22T20:38:29.225Z"
      },
      {
        "duration": 168,
        "start_time": "2023-05-22T20:38:29.237Z"
      },
      {
        "duration": 33,
        "start_time": "2023-05-22T20:38:29.406Z"
      },
      {
        "duration": 142,
        "start_time": "2023-05-22T20:38:29.441Z"
      },
      {
        "duration": 23,
        "start_time": "2023-05-22T20:38:29.596Z"
      },
      {
        "duration": 133,
        "start_time": "2023-05-22T20:38:29.620Z"
      },
      {
        "duration": 16,
        "start_time": "2023-05-22T20:38:29.755Z"
      },
      {
        "duration": 28,
        "start_time": "2023-05-22T20:38:29.773Z"
      },
      {
        "duration": 13,
        "start_time": "2023-05-22T20:38:29.803Z"
      },
      {
        "duration": 451,
        "start_time": "2023-05-22T20:38:29.817Z"
      },
      {
        "duration": 94,
        "start_time": "2023-05-22T20:38:30.270Z"
      },
      {
        "duration": 67,
        "start_time": "2023-05-22T20:38:30.365Z"
      },
      {
        "duration": 10,
        "start_time": "2023-05-22T20:38:30.434Z"
      },
      {
        "duration": 72,
        "start_time": "2023-05-22T20:38:30.446Z"
      },
      {
        "duration": 23,
        "start_time": "2023-05-22T20:38:30.520Z"
      },
      {
        "duration": 1022,
        "start_time": "2023-05-22T20:38:30.545Z"
      },
      {
        "duration": 8,
        "start_time": "2023-05-22T20:38:31.569Z"
      },
      {
        "duration": 18,
        "start_time": "2023-05-22T20:38:31.579Z"
      },
      {
        "duration": 23,
        "start_time": "2023-05-22T20:38:31.599Z"
      },
      {
        "duration": 89,
        "start_time": "2023-05-22T20:39:34.472Z"
      },
      {
        "duration": 9,
        "start_time": "2023-05-22T20:46:27.416Z"
      },
      {
        "duration": 151,
        "start_time": "2023-05-22T20:46:31.565Z"
      },
      {
        "duration": 70,
        "start_time": "2023-05-22T20:47:59.041Z"
      },
      {
        "duration": 28,
        "start_time": "2023-05-22T20:48:17.182Z"
      },
      {
        "duration": 833,
        "start_time": "2023-05-22T20:48:24.921Z"
      },
      {
        "duration": 1448,
        "start_time": "2023-05-22T20:52:16.986Z"
      },
      {
        "duration": 2266,
        "start_time": "2023-05-22T20:52:45.740Z"
      },
      {
        "duration": 1224,
        "start_time": "2023-05-22T20:53:07.812Z"
      },
      {
        "duration": 145,
        "start_time": "2023-05-22T20:53:09.038Z"
      },
      {
        "duration": 40,
        "start_time": "2023-05-22T20:53:09.185Z"
      },
      {
        "duration": 12,
        "start_time": "2023-05-22T20:53:09.227Z"
      },
      {
        "duration": 54,
        "start_time": "2023-05-22T20:53:09.241Z"
      },
      {
        "duration": 119,
        "start_time": "2023-05-22T20:53:09.300Z"
      },
      {
        "duration": 42,
        "start_time": "2023-05-22T20:53:09.420Z"
      },
      {
        "duration": 73,
        "start_time": "2023-05-22T20:53:09.464Z"
      },
      {
        "duration": 72,
        "start_time": "2023-05-22T20:53:09.539Z"
      },
      {
        "duration": 6,
        "start_time": "2023-05-22T20:53:09.613Z"
      },
      {
        "duration": 31,
        "start_time": "2023-05-22T20:53:09.621Z"
      },
      {
        "duration": 9,
        "start_time": "2023-05-22T20:53:09.654Z"
      },
      {
        "duration": 4,
        "start_time": "2023-05-22T20:53:09.664Z"
      },
      {
        "duration": 35,
        "start_time": "2023-05-22T20:53:09.670Z"
      },
      {
        "duration": 28,
        "start_time": "2023-05-22T20:53:09.706Z"
      },
      {
        "duration": 104,
        "start_time": "2023-05-22T20:53:09.735Z"
      },
      {
        "duration": 5,
        "start_time": "2023-05-22T20:53:09.841Z"
      },
      {
        "duration": 221,
        "start_time": "2023-05-22T20:53:09.848Z"
      },
      {
        "duration": 10,
        "start_time": "2023-05-22T20:53:10.070Z"
      },
      {
        "duration": 223,
        "start_time": "2023-05-22T20:53:10.082Z"
      },
      {
        "duration": 12,
        "start_time": "2023-05-22T20:53:10.311Z"
      },
      {
        "duration": 24,
        "start_time": "2023-05-22T20:53:10.325Z"
      },
      {
        "duration": 65,
        "start_time": "2023-05-22T20:53:10.351Z"
      },
      {
        "duration": 188,
        "start_time": "2023-05-22T20:53:10.419Z"
      },
      {
        "duration": 8,
        "start_time": "2023-05-22T20:53:10.609Z"
      },
      {
        "duration": 8,
        "start_time": "2023-05-22T20:53:10.618Z"
      },
      {
        "duration": 18,
        "start_time": "2023-05-22T20:53:10.628Z"
      },
      {
        "duration": 142,
        "start_time": "2023-05-22T20:53:10.647Z"
      },
      {
        "duration": 471,
        "start_time": "2023-05-22T20:53:10.791Z"
      },
      {
        "duration": 8,
        "start_time": "2023-05-22T20:53:11.263Z"
      },
      {
        "duration": 147,
        "start_time": "2023-05-22T20:53:11.273Z"
      },
      {
        "duration": 18,
        "start_time": "2023-05-22T20:53:11.422Z"
      },
      {
        "duration": 203,
        "start_time": "2023-05-22T20:53:11.442Z"
      },
      {
        "duration": 59,
        "start_time": "2023-05-22T20:53:11.646Z"
      },
      {
        "duration": 145,
        "start_time": "2023-05-22T20:53:11.711Z"
      },
      {
        "duration": 25,
        "start_time": "2023-05-22T20:53:11.858Z"
      },
      {
        "duration": 157,
        "start_time": "2023-05-22T20:53:11.884Z"
      },
      {
        "duration": 17,
        "start_time": "2023-05-22T20:53:12.043Z"
      },
      {
        "duration": 39,
        "start_time": "2023-05-22T20:53:12.062Z"
      },
      {
        "duration": 13,
        "start_time": "2023-05-22T20:53:12.102Z"
      },
      {
        "duration": 481,
        "start_time": "2023-05-22T20:53:12.119Z"
      },
      {
        "duration": 85,
        "start_time": "2023-05-22T20:53:12.602Z"
      },
      {
        "duration": 13,
        "start_time": "2023-05-22T20:53:12.698Z"
      },
      {
        "duration": 74,
        "start_time": "2023-05-22T20:53:12.714Z"
      },
      {
        "duration": 29,
        "start_time": "2023-05-22T20:53:12.789Z"
      },
      {
        "duration": 854,
        "start_time": "2023-05-22T20:53:12.820Z"
      },
      {
        "duration": 156,
        "start_time": "2023-05-22T20:53:13.676Z"
      },
      {
        "duration": 0,
        "start_time": "2023-05-22T20:53:13.834Z"
      },
      {
        "duration": 0,
        "start_time": "2023-05-22T20:53:13.835Z"
      },
      {
        "duration": 86,
        "start_time": "2023-05-22T20:57:58.087Z"
      },
      {
        "duration": 21,
        "start_time": "2023-05-22T20:58:21.019Z"
      },
      {
        "duration": 885,
        "start_time": "2023-05-22T20:58:26.748Z"
      },
      {
        "duration": 57,
        "start_time": "2023-05-22T20:58:49.152Z"
      },
      {
        "duration": 24,
        "start_time": "2023-05-22T20:58:56.220Z"
      },
      {
        "duration": 846,
        "start_time": "2023-05-22T20:59:00.329Z"
      },
      {
        "duration": 183,
        "start_time": "2023-05-22T21:04:00.621Z"
      },
      {
        "duration": 129,
        "start_time": "2023-05-22T21:05:15.792Z"
      },
      {
        "duration": 105,
        "start_time": "2023-05-22T21:05:27.565Z"
      },
      {
        "duration": 64,
        "start_time": "2023-05-22T21:10:59.191Z"
      },
      {
        "duration": 802,
        "start_time": "2023-05-22T21:11:44.395Z"
      },
      {
        "duration": 58,
        "start_time": "2023-05-22T21:17:16.414Z"
      },
      {
        "duration": 30,
        "start_time": "2023-05-22T21:18:10.326Z"
      },
      {
        "duration": 10,
        "start_time": "2023-05-22T21:18:59.496Z"
      },
      {
        "duration": 26,
        "start_time": "2023-05-22T21:19:53.881Z"
      },
      {
        "duration": 1105,
        "start_time": "2023-05-22T21:19:59.710Z"
      },
      {
        "duration": 36,
        "start_time": "2023-05-22T21:20:49.818Z"
      },
      {
        "duration": 19,
        "start_time": "2023-05-22T21:20:54.746Z"
      },
      {
        "duration": 818,
        "start_time": "2023-05-22T21:20:59.227Z"
      },
      {
        "duration": 1306,
        "start_time": "2023-05-23T05:40:43.886Z"
      },
      {
        "duration": 190,
        "start_time": "2023-05-23T05:40:45.194Z"
      },
      {
        "duration": 133,
        "start_time": "2023-05-23T05:40:45.385Z"
      },
      {
        "duration": 12,
        "start_time": "2023-05-23T05:40:45.520Z"
      },
      {
        "duration": 13,
        "start_time": "2023-05-23T05:40:45.534Z"
      },
      {
        "duration": 101,
        "start_time": "2023-05-23T05:40:45.549Z"
      },
      {
        "duration": 43,
        "start_time": "2023-05-23T05:40:45.652Z"
      },
      {
        "duration": 61,
        "start_time": "2023-05-23T05:40:45.696Z"
      },
      {
        "duration": 67,
        "start_time": "2023-05-23T05:40:45.759Z"
      },
      {
        "duration": 6,
        "start_time": "2023-05-23T05:40:45.828Z"
      },
      {
        "duration": 21,
        "start_time": "2023-05-23T05:40:45.835Z"
      },
      {
        "duration": 8,
        "start_time": "2023-05-23T05:40:45.858Z"
      },
      {
        "duration": 15,
        "start_time": "2023-05-23T05:40:45.868Z"
      },
      {
        "duration": 23,
        "start_time": "2023-05-23T05:40:45.884Z"
      },
      {
        "duration": 23,
        "start_time": "2023-05-23T05:40:45.908Z"
      },
      {
        "duration": 91,
        "start_time": "2023-05-23T05:40:45.933Z"
      },
      {
        "duration": 4,
        "start_time": "2023-05-23T05:40:46.025Z"
      },
      {
        "duration": 193,
        "start_time": "2023-05-23T05:40:46.030Z"
      },
      {
        "duration": 9,
        "start_time": "2023-05-23T05:40:46.225Z"
      },
      {
        "duration": 202,
        "start_time": "2023-05-23T05:40:46.235Z"
      },
      {
        "duration": 11,
        "start_time": "2023-05-23T05:40:46.438Z"
      },
      {
        "duration": 30,
        "start_time": "2023-05-23T05:40:46.450Z"
      },
      {
        "duration": 38,
        "start_time": "2023-05-23T05:40:46.481Z"
      },
      {
        "duration": 156,
        "start_time": "2023-05-23T05:40:46.521Z"
      },
      {
        "duration": 4,
        "start_time": "2023-05-23T05:40:46.679Z"
      },
      {
        "duration": 6,
        "start_time": "2023-05-23T05:40:46.684Z"
      },
      {
        "duration": 14,
        "start_time": "2023-05-23T05:40:46.705Z"
      },
      {
        "duration": 99,
        "start_time": "2023-05-23T05:40:46.722Z"
      },
      {
        "duration": 436,
        "start_time": "2023-05-23T05:40:46.822Z"
      },
      {
        "duration": 7,
        "start_time": "2023-05-23T05:40:47.259Z"
      },
      {
        "duration": 86,
        "start_time": "2023-05-23T05:40:47.268Z"
      },
      {
        "duration": 50,
        "start_time": "2023-05-23T05:40:47.356Z"
      },
      {
        "duration": 129,
        "start_time": "2023-05-23T05:40:47.408Z"
      },
      {
        "duration": 30,
        "start_time": "2023-05-23T05:40:47.538Z"
      },
      {
        "duration": 152,
        "start_time": "2023-05-23T05:40:47.570Z"
      },
      {
        "duration": 23,
        "start_time": "2023-05-23T05:40:47.724Z"
      },
      {
        "duration": 140,
        "start_time": "2023-05-23T05:40:47.749Z"
      },
      {
        "duration": 30,
        "start_time": "2023-05-23T05:40:47.890Z"
      },
      {
        "duration": 9,
        "start_time": "2023-05-23T05:40:47.921Z"
      },
      {
        "duration": 13,
        "start_time": "2023-05-23T05:40:47.931Z"
      },
      {
        "duration": 424,
        "start_time": "2023-05-23T05:40:47.945Z"
      },
      {
        "duration": 74,
        "start_time": "2023-05-23T05:40:48.370Z"
      },
      {
        "duration": 8,
        "start_time": "2023-05-23T05:40:48.446Z"
      },
      {
        "duration": 146,
        "start_time": "2023-05-23T05:40:48.456Z"
      },
      {
        "duration": 0,
        "start_time": "2023-05-23T05:40:48.606Z"
      },
      {
        "duration": 0,
        "start_time": "2023-05-23T05:40:48.609Z"
      },
      {
        "duration": 0,
        "start_time": "2023-05-23T05:40:48.610Z"
      },
      {
        "duration": 0,
        "start_time": "2023-05-23T05:40:48.611Z"
      },
      {
        "duration": 0,
        "start_time": "2023-05-23T05:40:48.613Z"
      },
      {
        "duration": 44,
        "start_time": "2023-05-23T05:44:10.184Z"
      },
      {
        "duration": 865,
        "start_time": "2023-05-23T05:44:47.339Z"
      },
      {
        "duration": 17,
        "start_time": "2023-05-23T05:45:03.113Z"
      },
      {
        "duration": 844,
        "start_time": "2023-05-23T05:45:10.431Z"
      },
      {
        "duration": 832,
        "start_time": "2023-05-23T05:45:29.827Z"
      },
      {
        "duration": 684,
        "start_time": "2023-05-23T05:45:44.727Z"
      },
      {
        "duration": 35,
        "start_time": "2023-05-23T05:46:01.894Z"
      },
      {
        "duration": 17,
        "start_time": "2023-05-23T05:46:06.207Z"
      },
      {
        "duration": 34,
        "start_time": "2023-05-23T05:58:41.320Z"
      },
      {
        "duration": 17,
        "start_time": "2023-05-23T05:58:45.926Z"
      },
      {
        "duration": 6,
        "start_time": "2023-05-23T06:15:12.608Z"
      },
      {
        "duration": 949,
        "start_time": "2023-05-23T06:15:19.704Z"
      },
      {
        "duration": 272,
        "start_time": "2023-05-23T06:15:50.004Z"
      },
      {
        "duration": 35,
        "start_time": "2023-05-23T06:16:21.552Z"
      },
      {
        "duration": 35,
        "start_time": "2023-05-23T06:18:18.567Z"
      },
      {
        "duration": 761,
        "start_time": "2023-05-23T06:18:23.840Z"
      },
      {
        "duration": 383,
        "start_time": "2023-05-23T06:24:04.905Z"
      },
      {
        "duration": 232,
        "start_time": "2023-05-23T06:24:11.374Z"
      },
      {
        "duration": 37,
        "start_time": "2023-05-23T06:25:03.341Z"
      },
      {
        "duration": 273,
        "start_time": "2023-05-23T06:25:35.709Z"
      },
      {
        "duration": 37,
        "start_time": "2023-05-23T06:26:16.732Z"
      },
      {
        "duration": 17,
        "start_time": "2023-05-23T06:26:25.624Z"
      },
      {
        "duration": 722,
        "start_time": "2023-05-23T06:26:30.174Z"
      },
      {
        "duration": 1013,
        "start_time": "2023-05-23T06:30:34.248Z"
      },
      {
        "duration": 50,
        "start_time": "2023-05-23T06:31:05.512Z"
      },
      {
        "duration": 46,
        "start_time": "2023-05-23T06:31:57.876Z"
      },
      {
        "duration": 44,
        "start_time": "2023-05-23T06:32:20.908Z"
      },
      {
        "duration": 33,
        "start_time": "2023-05-23T06:32:27.049Z"
      },
      {
        "duration": 47,
        "start_time": "2023-05-23T06:46:42.378Z"
      },
      {
        "duration": 4,
        "start_time": "2023-05-23T07:12:26.814Z"
      },
      {
        "duration": 12,
        "start_time": "2023-05-23T07:14:32.790Z"
      },
      {
        "duration": 841,
        "start_time": "2023-05-23T07:14:52.989Z"
      },
      {
        "duration": 20,
        "start_time": "2023-05-23T07:19:05.511Z"
      },
      {
        "duration": 19,
        "start_time": "2023-05-23T07:21:54.952Z"
      },
      {
        "duration": 20,
        "start_time": "2023-05-23T07:22:00.965Z"
      },
      {
        "duration": 10,
        "start_time": "2023-05-23T07:23:20.116Z"
      },
      {
        "duration": 10,
        "start_time": "2023-05-23T07:25:29.882Z"
      },
      {
        "duration": 12,
        "start_time": "2023-05-23T07:25:40.462Z"
      },
      {
        "duration": 10,
        "start_time": "2023-05-23T07:26:34.865Z"
      },
      {
        "duration": 34,
        "start_time": "2023-05-23T07:30:26.541Z"
      },
      {
        "duration": 20,
        "start_time": "2023-05-23T07:34:31.560Z"
      },
      {
        "duration": 30,
        "start_time": "2023-05-23T07:34:35.087Z"
      },
      {
        "duration": 18,
        "start_time": "2023-05-23T07:35:21.797Z"
      },
      {
        "duration": 4,
        "start_time": "2023-05-23T07:36:37.449Z"
      },
      {
        "duration": 11,
        "start_time": "2023-05-23T07:36:48.240Z"
      },
      {
        "duration": 21,
        "start_time": "2023-05-23T07:38:01.183Z"
      },
      {
        "duration": 69,
        "start_time": "2023-05-23T07:40:00.098Z"
      },
      {
        "duration": 16,
        "start_time": "2023-05-23T07:40:06.431Z"
      },
      {
        "duration": 1129,
        "start_time": "2023-05-23T07:42:49.055Z"
      },
      {
        "duration": 133,
        "start_time": "2023-05-23T07:42:50.186Z"
      },
      {
        "duration": 30,
        "start_time": "2023-05-23T07:42:50.321Z"
      },
      {
        "duration": 12,
        "start_time": "2023-05-23T07:42:50.353Z"
      },
      {
        "duration": 19,
        "start_time": "2023-05-23T07:42:50.367Z"
      },
      {
        "duration": 118,
        "start_time": "2023-05-23T07:42:50.388Z"
      },
      {
        "duration": 40,
        "start_time": "2023-05-23T07:42:50.508Z"
      },
      {
        "duration": 82,
        "start_time": "2023-05-23T07:42:50.549Z"
      },
      {
        "duration": 57,
        "start_time": "2023-05-23T07:42:50.633Z"
      },
      {
        "duration": 6,
        "start_time": "2023-05-23T07:42:50.707Z"
      },
      {
        "duration": 24,
        "start_time": "2023-05-23T07:42:50.714Z"
      },
      {
        "duration": 10,
        "start_time": "2023-05-23T07:42:50.740Z"
      },
      {
        "duration": 4,
        "start_time": "2023-05-23T07:42:50.751Z"
      },
      {
        "duration": 15,
        "start_time": "2023-05-23T07:42:50.757Z"
      },
      {
        "duration": 56,
        "start_time": "2023-05-23T07:42:50.774Z"
      },
      {
        "duration": 96,
        "start_time": "2023-05-23T07:42:50.831Z"
      },
      {
        "duration": 4,
        "start_time": "2023-05-23T07:42:50.929Z"
      },
      {
        "duration": 232,
        "start_time": "2023-05-23T07:42:50.935Z"
      },
      {
        "duration": 11,
        "start_time": "2023-05-23T07:42:51.169Z"
      },
      {
        "duration": 243,
        "start_time": "2023-05-23T07:42:51.181Z"
      },
      {
        "duration": 11,
        "start_time": "2023-05-23T07:42:51.426Z"
      },
      {
        "duration": 20,
        "start_time": "2023-05-23T07:42:51.439Z"
      },
      {
        "duration": 55,
        "start_time": "2023-05-23T07:42:51.461Z"
      },
      {
        "duration": 154,
        "start_time": "2023-05-23T07:42:51.517Z"
      },
      {
        "duration": 6,
        "start_time": "2023-05-23T07:42:51.673Z"
      },
      {
        "duration": 9,
        "start_time": "2023-05-23T07:42:51.680Z"
      },
      {
        "duration": 28,
        "start_time": "2023-05-23T07:42:51.691Z"
      },
      {
        "duration": 103,
        "start_time": "2023-05-23T07:42:51.722Z"
      },
      {
        "duration": 468,
        "start_time": "2023-05-23T07:42:51.827Z"
      },
      {
        "duration": 8,
        "start_time": "2023-05-23T07:42:52.297Z"
      },
      {
        "duration": 113,
        "start_time": "2023-05-23T07:42:52.306Z"
      },
      {
        "duration": 15,
        "start_time": "2023-05-23T07:42:52.425Z"
      },
      {
        "duration": 229,
        "start_time": "2023-05-23T07:42:52.442Z"
      },
      {
        "duration": 43,
        "start_time": "2023-05-23T07:42:52.672Z"
      },
      {
        "duration": 178,
        "start_time": "2023-05-23T07:42:52.717Z"
      },
      {
        "duration": 33,
        "start_time": "2023-05-23T07:42:52.905Z"
      },
      {
        "duration": 240,
        "start_time": "2023-05-23T07:42:52.940Z"
      },
      {
        "duration": 35,
        "start_time": "2023-05-23T07:42:53.185Z"
      },
      {
        "duration": 11,
        "start_time": "2023-05-23T07:42:53.222Z"
      },
      {
        "duration": 11,
        "start_time": "2023-05-23T07:42:53.235Z"
      },
      {
        "duration": 532,
        "start_time": "2023-05-23T07:42:53.249Z"
      },
      {
        "duration": 78,
        "start_time": "2023-05-23T07:42:53.782Z"
      },
      {
        "duration": 5,
        "start_time": "2023-05-23T07:42:53.863Z"
      },
      {
        "duration": 166,
        "start_time": "2023-05-23T07:42:53.870Z"
      },
      {
        "duration": 0,
        "start_time": "2023-05-23T07:42:54.038Z"
      },
      {
        "duration": 0,
        "start_time": "2023-05-23T07:42:54.039Z"
      },
      {
        "duration": 0,
        "start_time": "2023-05-23T07:42:54.041Z"
      },
      {
        "duration": 0,
        "start_time": "2023-05-23T07:42:54.042Z"
      },
      {
        "duration": 0,
        "start_time": "2023-05-23T07:42:54.043Z"
      },
      {
        "duration": 0,
        "start_time": "2023-05-23T07:42:54.045Z"
      },
      {
        "duration": 0,
        "start_time": "2023-05-23T07:42:54.046Z"
      },
      {
        "duration": 6,
        "start_time": "2023-05-23T07:43:22.079Z"
      },
      {
        "duration": 10,
        "start_time": "2023-05-23T07:43:28.405Z"
      },
      {
        "duration": 4,
        "start_time": "2023-05-23T07:43:44.265Z"
      },
      {
        "duration": 10,
        "start_time": "2023-05-23T07:43:46.955Z"
      },
      {
        "duration": 1119,
        "start_time": "2023-05-23T07:55:11.029Z"
      },
      {
        "duration": 126,
        "start_time": "2023-05-23T07:55:12.150Z"
      },
      {
        "duration": 27,
        "start_time": "2023-05-23T07:55:12.278Z"
      },
      {
        "duration": 11,
        "start_time": "2023-05-23T07:55:12.307Z"
      },
      {
        "duration": 12,
        "start_time": "2023-05-23T07:55:12.319Z"
      },
      {
        "duration": 98,
        "start_time": "2023-05-23T07:55:12.333Z"
      },
      {
        "duration": 46,
        "start_time": "2023-05-23T07:55:12.433Z"
      },
      {
        "duration": 82,
        "start_time": "2023-05-23T07:55:12.481Z"
      },
      {
        "duration": 78,
        "start_time": "2023-05-23T07:55:12.565Z"
      },
      {
        "duration": 6,
        "start_time": "2023-05-23T07:55:12.645Z"
      },
      {
        "duration": 28,
        "start_time": "2023-05-23T07:55:12.652Z"
      },
      {
        "duration": 9,
        "start_time": "2023-05-23T07:55:12.682Z"
      },
      {
        "duration": 4,
        "start_time": "2023-05-23T07:55:12.692Z"
      },
      {
        "duration": 12,
        "start_time": "2023-05-23T07:55:12.706Z"
      },
      {
        "duration": 24,
        "start_time": "2023-05-23T07:55:12.719Z"
      },
      {
        "duration": 96,
        "start_time": "2023-05-23T07:55:12.745Z"
      },
      {
        "duration": 4,
        "start_time": "2023-05-23T07:55:12.842Z"
      },
      {
        "duration": 220,
        "start_time": "2023-05-23T07:55:12.847Z"
      },
      {
        "duration": 10,
        "start_time": "2023-05-23T07:55:13.069Z"
      },
      {
        "duration": 206,
        "start_time": "2023-05-23T07:55:13.080Z"
      },
      {
        "duration": 10,
        "start_time": "2023-05-23T07:55:13.288Z"
      },
      {
        "duration": 20,
        "start_time": "2023-05-23T07:55:13.306Z"
      },
      {
        "duration": 30,
        "start_time": "2023-05-23T07:55:13.327Z"
      },
      {
        "duration": 155,
        "start_time": "2023-05-23T07:55:13.358Z"
      },
      {
        "duration": 36,
        "start_time": "2023-05-23T07:55:13.515Z"
      },
      {
        "duration": 8,
        "start_time": "2023-05-23T07:55:13.553Z"
      },
      {
        "duration": 34,
        "start_time": "2023-05-23T07:55:13.562Z"
      },
      {
        "duration": 95,
        "start_time": "2023-05-23T07:55:13.600Z"
      },
      {
        "duration": 450,
        "start_time": "2023-05-23T07:55:13.696Z"
      },
      {
        "duration": 8,
        "start_time": "2023-05-23T07:55:14.147Z"
      },
      {
        "duration": 80,
        "start_time": "2023-05-23T07:55:14.157Z"
      },
      {
        "duration": 10,
        "start_time": "2023-05-23T07:55:14.238Z"
      },
      {
        "duration": 168,
        "start_time": "2023-05-23T07:55:14.249Z"
      },
      {
        "duration": 32,
        "start_time": "2023-05-23T07:55:14.418Z"
      },
      {
        "duration": 140,
        "start_time": "2023-05-23T07:55:14.452Z"
      },
      {
        "duration": 31,
        "start_time": "2023-05-23T07:55:14.594Z"
      },
      {
        "duration": 179,
        "start_time": "2023-05-23T07:55:14.627Z"
      },
      {
        "duration": 16,
        "start_time": "2023-05-23T07:55:14.808Z"
      },
      {
        "duration": 8,
        "start_time": "2023-05-23T07:55:14.826Z"
      },
      {
        "duration": 8,
        "start_time": "2023-05-23T07:55:14.835Z"
      },
      {
        "duration": 423,
        "start_time": "2023-05-23T07:55:14.844Z"
      },
      {
        "duration": 74,
        "start_time": "2023-05-23T07:55:15.268Z"
      },
      {
        "duration": 4,
        "start_time": "2023-05-23T07:55:15.344Z"
      },
      {
        "duration": 141,
        "start_time": "2023-05-23T07:55:15.349Z"
      },
      {
        "duration": 0,
        "start_time": "2023-05-23T07:55:15.492Z"
      },
      {
        "duration": 0,
        "start_time": "2023-05-23T07:55:15.493Z"
      },
      {
        "duration": 0,
        "start_time": "2023-05-23T07:55:15.494Z"
      },
      {
        "duration": 0,
        "start_time": "2023-05-23T07:55:15.495Z"
      },
      {
        "duration": 0,
        "start_time": "2023-05-23T07:55:15.505Z"
      },
      {
        "duration": 0,
        "start_time": "2023-05-23T07:55:15.506Z"
      },
      {
        "duration": 0,
        "start_time": "2023-05-23T07:55:15.507Z"
      },
      {
        "duration": 13,
        "start_time": "2023-05-23T07:55:40.268Z"
      },
      {
        "duration": 1141,
        "start_time": "2023-05-23T07:55:52.923Z"
      },
      {
        "duration": 127,
        "start_time": "2023-05-23T07:55:54.066Z"
      },
      {
        "duration": 28,
        "start_time": "2023-05-23T07:55:54.195Z"
      },
      {
        "duration": 11,
        "start_time": "2023-05-23T07:55:54.225Z"
      },
      {
        "duration": 29,
        "start_time": "2023-05-23T07:55:54.237Z"
      },
      {
        "duration": 80,
        "start_time": "2023-05-23T07:55:54.267Z"
      },
      {
        "duration": 38,
        "start_time": "2023-05-23T07:55:54.348Z"
      },
      {
        "duration": 69,
        "start_time": "2023-05-23T07:55:54.387Z"
      },
      {
        "duration": 57,
        "start_time": "2023-05-23T07:55:54.458Z"
      },
      {
        "duration": 6,
        "start_time": "2023-05-23T07:55:54.518Z"
      },
      {
        "duration": 32,
        "start_time": "2023-05-23T07:55:54.525Z"
      },
      {
        "duration": 11,
        "start_time": "2023-05-23T07:55:54.559Z"
      },
      {
        "duration": 21,
        "start_time": "2023-05-23T07:55:54.571Z"
      },
      {
        "duration": 31,
        "start_time": "2023-05-23T07:55:54.593Z"
      },
      {
        "duration": 26,
        "start_time": "2023-05-23T07:55:54.626Z"
      },
      {
        "duration": 90,
        "start_time": "2023-05-23T07:55:54.653Z"
      },
      {
        "duration": 4,
        "start_time": "2023-05-23T07:55:54.745Z"
      },
      {
        "duration": 215,
        "start_time": "2023-05-23T07:55:54.751Z"
      },
      {
        "duration": 9,
        "start_time": "2023-05-23T07:55:54.968Z"
      },
      {
        "duration": 207,
        "start_time": "2023-05-23T07:55:54.978Z"
      },
      {
        "duration": 10,
        "start_time": "2023-05-23T07:55:55.187Z"
      },
      {
        "duration": 45,
        "start_time": "2023-05-23T07:55:55.198Z"
      },
      {
        "duration": 28,
        "start_time": "2023-05-23T07:55:55.245Z"
      },
      {
        "duration": 132,
        "start_time": "2023-05-23T07:55:55.274Z"
      },
      {
        "duration": 4,
        "start_time": "2023-05-23T07:55:55.408Z"
      },
      {
        "duration": 12,
        "start_time": "2023-05-23T07:55:55.414Z"
      },
      {
        "duration": 36,
        "start_time": "2023-05-23T07:55:55.427Z"
      },
      {
        "duration": 93,
        "start_time": "2023-05-23T07:55:55.466Z"
      },
      {
        "duration": 441,
        "start_time": "2023-05-23T07:55:55.561Z"
      },
      {
        "duration": 8,
        "start_time": "2023-05-23T07:55:56.003Z"
      },
      {
        "duration": 105,
        "start_time": "2023-05-23T07:55:56.012Z"
      },
      {
        "duration": 11,
        "start_time": "2023-05-23T07:55:56.118Z"
      },
      {
        "duration": 155,
        "start_time": "2023-05-23T07:55:56.130Z"
      },
      {
        "duration": 41,
        "start_time": "2023-05-23T07:55:56.286Z"
      },
      {
        "duration": 133,
        "start_time": "2023-05-23T07:55:56.328Z"
      },
      {
        "duration": 25,
        "start_time": "2023-05-23T07:55:56.463Z"
      },
      {
        "duration": 167,
        "start_time": "2023-05-23T07:55:56.490Z"
      },
      {
        "duration": 18,
        "start_time": "2023-05-23T07:55:56.659Z"
      },
      {
        "duration": 27,
        "start_time": "2023-05-23T07:55:56.679Z"
      },
      {
        "duration": 10,
        "start_time": "2023-05-23T07:55:56.708Z"
      },
      {
        "duration": 433,
        "start_time": "2023-05-23T07:55:56.720Z"
      },
      {
        "duration": 100,
        "start_time": "2023-05-23T07:55:57.155Z"
      },
      {
        "duration": 5,
        "start_time": "2023-05-23T07:55:57.257Z"
      },
      {
        "duration": 174,
        "start_time": "2023-05-23T07:55:57.264Z"
      },
      {
        "duration": 0,
        "start_time": "2023-05-23T07:55:57.440Z"
      },
      {
        "duration": 0,
        "start_time": "2023-05-23T07:55:57.441Z"
      },
      {
        "duration": 0,
        "start_time": "2023-05-23T07:55:57.443Z"
      },
      {
        "duration": 0,
        "start_time": "2023-05-23T07:55:57.444Z"
      },
      {
        "duration": 0,
        "start_time": "2023-05-23T07:55:57.447Z"
      },
      {
        "duration": 0,
        "start_time": "2023-05-23T07:55:57.448Z"
      },
      {
        "duration": 0,
        "start_time": "2023-05-23T07:55:57.450Z"
      },
      {
        "duration": 5,
        "start_time": "2023-05-23T07:58:15.148Z"
      },
      {
        "duration": 20,
        "start_time": "2023-05-23T07:58:17.573Z"
      },
      {
        "duration": 5,
        "start_time": "2023-05-23T07:58:58.254Z"
      },
      {
        "duration": 46,
        "start_time": "2023-05-23T07:58:59.887Z"
      },
      {
        "duration": 9,
        "start_time": "2023-05-23T07:59:22.378Z"
      },
      {
        "duration": 20,
        "start_time": "2023-05-23T07:59:25.044Z"
      },
      {
        "duration": 12,
        "start_time": "2023-05-23T07:59:54.781Z"
      },
      {
        "duration": 13,
        "start_time": "2023-05-23T08:00:01.342Z"
      },
      {
        "duration": 17,
        "start_time": "2023-05-23T08:01:09.826Z"
      },
      {
        "duration": 1227,
        "start_time": "2023-05-23T08:01:20.699Z"
      },
      {
        "duration": 147,
        "start_time": "2023-05-23T08:01:21.928Z"
      },
      {
        "duration": 34,
        "start_time": "2023-05-23T08:01:22.077Z"
      },
      {
        "duration": 16,
        "start_time": "2023-05-23T08:01:22.113Z"
      },
      {
        "duration": 13,
        "start_time": "2023-05-23T08:01:22.130Z"
      },
      {
        "duration": 117,
        "start_time": "2023-05-23T08:01:22.144Z"
      },
      {
        "duration": 39,
        "start_time": "2023-05-23T08:01:22.263Z"
      },
      {
        "duration": 58,
        "start_time": "2023-05-23T08:01:22.312Z"
      },
      {
        "duration": 79,
        "start_time": "2023-05-23T08:01:22.371Z"
      },
      {
        "duration": 8,
        "start_time": "2023-05-23T08:01:22.453Z"
      },
      {
        "duration": 57,
        "start_time": "2023-05-23T08:01:22.464Z"
      },
      {
        "duration": 24,
        "start_time": "2023-05-23T08:01:22.522Z"
      },
      {
        "duration": 5,
        "start_time": "2023-05-23T08:01:22.548Z"
      },
      {
        "duration": 22,
        "start_time": "2023-05-23T08:01:22.555Z"
      },
      {
        "duration": 49,
        "start_time": "2023-05-23T08:01:22.579Z"
      },
      {
        "duration": 115,
        "start_time": "2023-05-23T08:01:22.630Z"
      },
      {
        "duration": 4,
        "start_time": "2023-05-23T08:01:22.746Z"
      },
      {
        "duration": 235,
        "start_time": "2023-05-23T08:01:22.752Z"
      },
      {
        "duration": 34,
        "start_time": "2023-05-23T08:01:22.989Z"
      },
      {
        "duration": 198,
        "start_time": "2023-05-23T08:01:23.025Z"
      },
      {
        "duration": 15,
        "start_time": "2023-05-23T08:01:23.226Z"
      },
      {
        "duration": 20,
        "start_time": "2023-05-23T08:01:23.243Z"
      },
      {
        "duration": 29,
        "start_time": "2023-05-23T08:01:23.264Z"
      },
      {
        "duration": 156,
        "start_time": "2023-05-23T08:01:23.306Z"
      },
      {
        "duration": 5,
        "start_time": "2023-05-23T08:01:23.463Z"
      },
      {
        "duration": 5,
        "start_time": "2023-05-23T08:01:23.470Z"
      },
      {
        "duration": 38,
        "start_time": "2023-05-23T08:01:23.477Z"
      },
      {
        "duration": 110,
        "start_time": "2023-05-23T08:01:23.520Z"
      },
      {
        "duration": 470,
        "start_time": "2023-05-23T08:01:23.632Z"
      },
      {
        "duration": 20,
        "start_time": "2023-05-23T08:01:24.103Z"
      },
      {
        "duration": 110,
        "start_time": "2023-05-23T08:01:24.125Z"
      },
      {
        "duration": 12,
        "start_time": "2023-05-23T08:01:24.236Z"
      },
      {
        "duration": 173,
        "start_time": "2023-05-23T08:01:24.250Z"
      },
      {
        "duration": 30,
        "start_time": "2023-05-23T08:01:24.425Z"
      },
      {
        "duration": 139,
        "start_time": "2023-05-23T08:01:24.457Z"
      },
      {
        "duration": 36,
        "start_time": "2023-05-23T08:01:24.598Z"
      },
      {
        "duration": 142,
        "start_time": "2023-05-23T08:01:24.636Z"
      },
      {
        "duration": 40,
        "start_time": "2023-05-23T08:01:24.780Z"
      },
      {
        "duration": 9,
        "start_time": "2023-05-23T08:01:24.822Z"
      },
      {
        "duration": 17,
        "start_time": "2023-05-23T08:01:24.832Z"
      },
      {
        "duration": 452,
        "start_time": "2023-05-23T08:01:24.850Z"
      },
      {
        "duration": 97,
        "start_time": "2023-05-23T08:01:25.303Z"
      },
      {
        "duration": 11,
        "start_time": "2023-05-23T08:01:25.402Z"
      },
      {
        "duration": 50,
        "start_time": "2023-05-23T08:01:25.416Z"
      },
      {
        "duration": 10,
        "start_time": "2023-05-23T08:01:25.468Z"
      },
      {
        "duration": 51,
        "start_time": "2023-05-23T08:01:25.479Z"
      },
      {
        "duration": 147,
        "start_time": "2023-05-23T08:01:25.531Z"
      },
      {
        "duration": 0,
        "start_time": "2023-05-23T08:01:25.680Z"
      },
      {
        "duration": 0,
        "start_time": "2023-05-23T08:01:25.680Z"
      },
      {
        "duration": 0,
        "start_time": "2023-05-23T08:01:25.681Z"
      },
      {
        "duration": 0,
        "start_time": "2023-05-23T08:01:25.682Z"
      },
      {
        "duration": 38,
        "start_time": "2023-05-23T08:01:54.760Z"
      },
      {
        "duration": 6,
        "start_time": "2023-05-23T08:04:51.717Z"
      },
      {
        "duration": 68,
        "start_time": "2023-05-23T08:04:57.204Z"
      },
      {
        "duration": 10,
        "start_time": "2023-05-23T08:05:16.335Z"
      },
      {
        "duration": 23,
        "start_time": "2023-05-23T08:05:23.300Z"
      },
      {
        "duration": 53,
        "start_time": "2023-05-23T08:05:26.889Z"
      },
      {
        "duration": 4,
        "start_time": "2023-05-23T08:06:26.225Z"
      },
      {
        "duration": 47,
        "start_time": "2023-05-23T08:06:29.625Z"
      },
      {
        "duration": 12,
        "start_time": "2023-05-23T08:11:01.112Z"
      },
      {
        "duration": 35,
        "start_time": "2023-05-23T08:11:08.600Z"
      },
      {
        "duration": 986,
        "start_time": "2023-05-23T08:11:15.219Z"
      },
      {
        "duration": 5,
        "start_time": "2023-05-23T08:14:51.369Z"
      },
      {
        "duration": 997,
        "start_time": "2023-05-23T08:14:53.654Z"
      },
      {
        "duration": 5,
        "start_time": "2023-05-23T08:15:39.231Z"
      },
      {
        "duration": 63,
        "start_time": "2023-05-23T08:15:42.670Z"
      },
      {
        "duration": 9,
        "start_time": "2023-05-23T08:19:31.343Z"
      },
      {
        "duration": 17,
        "start_time": "2023-05-23T08:19:34.136Z"
      },
      {
        "duration": 30,
        "start_time": "2023-05-23T08:19:36.385Z"
      },
      {
        "duration": 8,
        "start_time": "2023-05-23T08:21:45.677Z"
      },
      {
        "duration": 28,
        "start_time": "2023-05-23T08:21:47.530Z"
      },
      {
        "duration": 52,
        "start_time": "2023-05-23T08:21:50.126Z"
      },
      {
        "duration": 11,
        "start_time": "2023-05-23T08:27:38.848Z"
      },
      {
        "duration": 49,
        "start_time": "2023-05-23T08:32:16.847Z"
      },
      {
        "duration": 1274,
        "start_time": "2023-05-23T08:32:25.409Z"
      },
      {
        "duration": 165,
        "start_time": "2023-05-23T08:32:26.686Z"
      },
      {
        "duration": 29,
        "start_time": "2023-05-23T08:32:26.852Z"
      },
      {
        "duration": 11,
        "start_time": "2023-05-23T08:32:26.883Z"
      },
      {
        "duration": 20,
        "start_time": "2023-05-23T08:32:26.896Z"
      },
      {
        "duration": 102,
        "start_time": "2023-05-23T08:32:26.918Z"
      },
      {
        "duration": 37,
        "start_time": "2023-05-23T08:32:27.021Z"
      },
      {
        "duration": 72,
        "start_time": "2023-05-23T08:32:27.060Z"
      },
      {
        "duration": 51,
        "start_time": "2023-05-23T08:32:27.133Z"
      },
      {
        "duration": 6,
        "start_time": "2023-05-23T08:32:27.186Z"
      },
      {
        "duration": 37,
        "start_time": "2023-05-23T08:32:27.193Z"
      },
      {
        "duration": 9,
        "start_time": "2023-05-23T08:32:27.232Z"
      },
      {
        "duration": 5,
        "start_time": "2023-05-23T08:32:27.242Z"
      },
      {
        "duration": 13,
        "start_time": "2023-05-23T08:32:27.248Z"
      },
      {
        "duration": 52,
        "start_time": "2023-05-23T08:32:27.263Z"
      },
      {
        "duration": 78,
        "start_time": "2023-05-23T08:32:27.317Z"
      },
      {
        "duration": 13,
        "start_time": "2023-05-23T08:32:27.407Z"
      },
      {
        "duration": 189,
        "start_time": "2023-05-23T08:32:27.424Z"
      },
      {
        "duration": 14,
        "start_time": "2023-05-23T08:32:27.616Z"
      },
      {
        "duration": 213,
        "start_time": "2023-05-23T08:32:27.632Z"
      },
      {
        "duration": 11,
        "start_time": "2023-05-23T08:32:27.847Z"
      },
      {
        "duration": 21,
        "start_time": "2023-05-23T08:32:27.860Z"
      },
      {
        "duration": 54,
        "start_time": "2023-05-23T08:32:27.883Z"
      },
      {
        "duration": 149,
        "start_time": "2023-05-23T08:32:27.939Z"
      },
      {
        "duration": 5,
        "start_time": "2023-05-23T08:32:28.089Z"
      },
      {
        "duration": 34,
        "start_time": "2023-05-23T08:32:28.095Z"
      },
      {
        "duration": 21,
        "start_time": "2023-05-23T08:32:28.131Z"
      },
      {
        "duration": 95,
        "start_time": "2023-05-23T08:32:28.156Z"
      },
      {
        "duration": 445,
        "start_time": "2023-05-23T08:32:28.253Z"
      },
      {
        "duration": 9,
        "start_time": "2023-05-23T08:32:28.699Z"
      },
      {
        "duration": 117,
        "start_time": "2023-05-23T08:32:28.710Z"
      },
      {
        "duration": 10,
        "start_time": "2023-05-23T08:32:28.828Z"
      },
      {
        "duration": 134,
        "start_time": "2023-05-23T08:32:28.840Z"
      },
      {
        "duration": 38,
        "start_time": "2023-05-23T08:32:28.976Z"
      },
      {
        "duration": 158,
        "start_time": "2023-05-23T08:32:29.017Z"
      },
      {
        "duration": 35,
        "start_time": "2023-05-23T08:32:29.176Z"
      },
      {
        "duration": 134,
        "start_time": "2023-05-23T08:32:29.213Z"
      },
      {
        "duration": 19,
        "start_time": "2023-05-23T08:32:29.349Z"
      },
      {
        "duration": 9,
        "start_time": "2023-05-23T08:32:29.369Z"
      },
      {
        "duration": 39,
        "start_time": "2023-05-23T08:32:29.380Z"
      },
      {
        "duration": 421,
        "start_time": "2023-05-23T08:32:29.421Z"
      },
      {
        "duration": 81,
        "start_time": "2023-05-23T08:32:29.844Z"
      },
      {
        "duration": 4,
        "start_time": "2023-05-23T08:32:29.927Z"
      },
      {
        "duration": 46,
        "start_time": "2023-05-23T08:32:29.933Z"
      },
      {
        "duration": 11,
        "start_time": "2023-05-23T08:32:29.981Z"
      },
      {
        "duration": 36,
        "start_time": "2023-05-23T08:32:30.006Z"
      },
      {
        "duration": 201,
        "start_time": "2023-05-23T08:32:30.043Z"
      },
      {
        "duration": 0,
        "start_time": "2023-05-23T08:32:30.245Z"
      },
      {
        "duration": 0,
        "start_time": "2023-05-23T08:32:30.246Z"
      },
      {
        "duration": 0,
        "start_time": "2023-05-23T08:32:30.247Z"
      },
      {
        "duration": 0,
        "start_time": "2023-05-23T08:32:30.249Z"
      },
      {
        "duration": 12,
        "start_time": "2023-05-23T08:33:32.248Z"
      },
      {
        "duration": 53,
        "start_time": "2023-05-23T08:33:41.471Z"
      },
      {
        "duration": 17,
        "start_time": "2023-05-23T08:35:44.045Z"
      },
      {
        "duration": 18,
        "start_time": "2023-05-23T08:35:52.119Z"
      },
      {
        "duration": 60,
        "start_time": "2023-05-23T08:36:07.347Z"
      },
      {
        "duration": 51,
        "start_time": "2023-05-23T08:37:21.154Z"
      },
      {
        "duration": 826,
        "start_time": "2023-05-23T08:38:01.273Z"
      },
      {
        "duration": 774,
        "start_time": "2023-05-23T08:47:51.248Z"
      },
      {
        "duration": 1229,
        "start_time": "2023-05-23T09:09:49.352Z"
      },
      {
        "duration": 202,
        "start_time": "2023-05-23T09:09:50.583Z"
      },
      {
        "duration": 35,
        "start_time": "2023-05-23T09:09:50.788Z"
      },
      {
        "duration": 13,
        "start_time": "2023-05-23T09:09:50.826Z"
      },
      {
        "duration": 40,
        "start_time": "2023-05-23T09:09:50.841Z"
      },
      {
        "duration": 111,
        "start_time": "2023-05-23T09:09:50.883Z"
      },
      {
        "duration": 46,
        "start_time": "2023-05-23T09:09:50.996Z"
      },
      {
        "duration": 68,
        "start_time": "2023-05-23T09:09:51.044Z"
      },
      {
        "duration": 58,
        "start_time": "2023-05-23T09:09:51.115Z"
      },
      {
        "duration": 7,
        "start_time": "2023-05-23T09:09:51.176Z"
      },
      {
        "duration": 55,
        "start_time": "2023-05-23T09:09:51.184Z"
      },
      {
        "duration": 12,
        "start_time": "2023-05-23T09:09:51.241Z"
      },
      {
        "duration": 32,
        "start_time": "2023-05-23T09:09:51.255Z"
      },
      {
        "duration": 53,
        "start_time": "2023-05-23T09:09:51.289Z"
      },
      {
        "duration": 57,
        "start_time": "2023-05-23T09:09:51.345Z"
      },
      {
        "duration": 116,
        "start_time": "2023-05-23T09:09:51.404Z"
      },
      {
        "duration": 6,
        "start_time": "2023-05-23T09:09:51.528Z"
      },
      {
        "duration": 276,
        "start_time": "2023-05-23T09:09:51.537Z"
      },
      {
        "duration": 14,
        "start_time": "2023-05-23T09:09:51.818Z"
      },
      {
        "duration": 217,
        "start_time": "2023-05-23T09:09:51.833Z"
      },
      {
        "duration": 11,
        "start_time": "2023-05-23T09:09:52.052Z"
      },
      {
        "duration": 33,
        "start_time": "2023-05-23T09:09:52.064Z"
      },
      {
        "duration": 46,
        "start_time": "2023-05-23T09:09:52.098Z"
      },
      {
        "duration": 154,
        "start_time": "2023-05-23T09:09:52.146Z"
      },
      {
        "duration": 11,
        "start_time": "2023-05-23T09:09:52.305Z"
      },
      {
        "duration": 49,
        "start_time": "2023-05-23T09:09:52.317Z"
      },
      {
        "duration": 53,
        "start_time": "2023-05-23T09:09:52.368Z"
      },
      {
        "duration": 128,
        "start_time": "2023-05-23T09:09:52.430Z"
      },
      {
        "duration": 559,
        "start_time": "2023-05-23T09:09:52.560Z"
      },
      {
        "duration": 9,
        "start_time": "2023-05-23T09:09:53.121Z"
      },
      {
        "duration": 109,
        "start_time": "2023-05-23T09:09:53.131Z"
      },
      {
        "duration": 10,
        "start_time": "2023-05-23T09:09:53.242Z"
      },
      {
        "duration": 174,
        "start_time": "2023-05-23T09:09:53.311Z"
      },
      {
        "duration": 41,
        "start_time": "2023-05-23T09:09:53.486Z"
      },
      {
        "duration": 139,
        "start_time": "2023-05-23T09:09:53.529Z"
      },
      {
        "duration": 22,
        "start_time": "2023-05-23T09:09:53.670Z"
      },
      {
        "duration": 159,
        "start_time": "2023-05-23T09:09:53.694Z"
      },
      {
        "duration": 20,
        "start_time": "2023-05-23T09:09:53.855Z"
      },
      {
        "duration": 29,
        "start_time": "2023-05-23T09:09:53.877Z"
      },
      {
        "duration": 27,
        "start_time": "2023-05-23T09:09:53.908Z"
      },
      {
        "duration": 490,
        "start_time": "2023-05-23T09:09:53.937Z"
      },
      {
        "duration": 86,
        "start_time": "2023-05-23T09:09:54.429Z"
      },
      {
        "duration": 6,
        "start_time": "2023-05-23T09:09:54.522Z"
      },
      {
        "duration": 57,
        "start_time": "2023-05-23T09:09:54.530Z"
      },
      {
        "duration": 10,
        "start_time": "2023-05-23T09:09:54.589Z"
      },
      {
        "duration": 33,
        "start_time": "2023-05-23T09:09:54.601Z"
      },
      {
        "duration": 853,
        "start_time": "2023-05-23T09:09:54.637Z"
      },
      {
        "duration": 19,
        "start_time": "2023-05-23T09:09:55.491Z"
      },
      {
        "duration": 152,
        "start_time": "2023-05-23T09:09:55.513Z"
      },
      {
        "duration": 0,
        "start_time": "2023-05-23T09:09:55.667Z"
      },
      {
        "duration": 0,
        "start_time": "2023-05-23T09:09:55.668Z"
      },
      {
        "duration": 1393,
        "start_time": "2023-05-23T11:07:18.150Z"
      },
      {
        "duration": 488,
        "start_time": "2023-05-23T11:07:19.545Z"
      },
      {
        "duration": 69,
        "start_time": "2023-05-23T11:07:20.035Z"
      },
      {
        "duration": 16,
        "start_time": "2023-05-23T11:07:20.107Z"
      },
      {
        "duration": 20,
        "start_time": "2023-05-23T11:07:20.125Z"
      },
      {
        "duration": 100,
        "start_time": "2023-05-23T11:07:20.147Z"
      },
      {
        "duration": 43,
        "start_time": "2023-05-23T11:07:20.249Z"
      },
      {
        "duration": 76,
        "start_time": "2023-05-23T11:07:20.293Z"
      },
      {
        "duration": 77,
        "start_time": "2023-05-23T11:07:20.370Z"
      },
      {
        "duration": 6,
        "start_time": "2023-05-23T11:07:20.450Z"
      },
      {
        "duration": 32,
        "start_time": "2023-05-23T11:07:20.458Z"
      },
      {
        "duration": 9,
        "start_time": "2023-05-23T11:07:20.492Z"
      },
      {
        "duration": 23,
        "start_time": "2023-05-23T11:07:20.517Z"
      },
      {
        "duration": 31,
        "start_time": "2023-05-23T11:07:20.541Z"
      },
      {
        "duration": 30,
        "start_time": "2023-05-23T11:07:20.574Z"
      },
      {
        "duration": 85,
        "start_time": "2023-05-23T11:07:20.606Z"
      },
      {
        "duration": 4,
        "start_time": "2023-05-23T11:07:20.693Z"
      },
      {
        "duration": 253,
        "start_time": "2023-05-23T11:07:20.698Z"
      },
      {
        "duration": 10,
        "start_time": "2023-05-23T11:07:20.953Z"
      },
      {
        "duration": 203,
        "start_time": "2023-05-23T11:07:20.964Z"
      },
      {
        "duration": 11,
        "start_time": "2023-05-23T11:07:21.169Z"
      },
      {
        "duration": 37,
        "start_time": "2023-05-23T11:07:21.181Z"
      },
      {
        "duration": 46,
        "start_time": "2023-05-23T11:07:21.220Z"
      },
      {
        "duration": 154,
        "start_time": "2023-05-23T11:07:21.268Z"
      },
      {
        "duration": 5,
        "start_time": "2023-05-23T11:07:21.424Z"
      },
      {
        "duration": 7,
        "start_time": "2023-05-23T11:07:21.430Z"
      },
      {
        "duration": 18,
        "start_time": "2023-05-23T11:07:21.439Z"
      },
      {
        "duration": 122,
        "start_time": "2023-05-23T11:07:21.461Z"
      },
      {
        "duration": 471,
        "start_time": "2023-05-23T11:07:21.584Z"
      },
      {
        "duration": 8,
        "start_time": "2023-05-23T11:07:22.056Z"
      },
      {
        "duration": 152,
        "start_time": "2023-05-23T11:07:22.065Z"
      },
      {
        "duration": 12,
        "start_time": "2023-05-23T11:07:22.219Z"
      },
      {
        "duration": 153,
        "start_time": "2023-05-23T11:07:22.233Z"
      },
      {
        "duration": 46,
        "start_time": "2023-05-23T11:07:22.387Z"
      },
      {
        "duration": 144,
        "start_time": "2023-05-23T11:07:22.435Z"
      },
      {
        "duration": 41,
        "start_time": "2023-05-23T11:07:22.581Z"
      },
      {
        "duration": 149,
        "start_time": "2023-05-23T11:07:22.624Z"
      },
      {
        "duration": 17,
        "start_time": "2023-05-23T11:07:22.775Z"
      },
      {
        "duration": 28,
        "start_time": "2023-05-23T11:07:22.794Z"
      },
      {
        "duration": 37,
        "start_time": "2023-05-23T11:07:22.824Z"
      },
      {
        "duration": 415,
        "start_time": "2023-05-23T11:07:22.863Z"
      },
      {
        "duration": 87,
        "start_time": "2023-05-23T11:07:23.280Z"
      },
      {
        "duration": 5,
        "start_time": "2023-05-23T11:07:23.368Z"
      },
      {
        "duration": 98,
        "start_time": "2023-05-23T11:07:23.374Z"
      },
      {
        "duration": 7,
        "start_time": "2023-05-23T11:07:23.474Z"
      },
      {
        "duration": 58,
        "start_time": "2023-05-23T11:07:23.483Z"
      },
      {
        "duration": 800,
        "start_time": "2023-05-23T11:07:23.542Z"
      },
      {
        "duration": 6,
        "start_time": "2023-05-23T11:07:24.343Z"
      },
      {
        "duration": 213,
        "start_time": "2023-05-23T11:07:24.350Z"
      },
      {
        "duration": 0,
        "start_time": "2023-05-23T11:07:24.565Z"
      },
      {
        "duration": 0,
        "start_time": "2023-05-23T11:07:24.567Z"
      },
      {
        "duration": 32,
        "start_time": "2023-05-23T11:15:56.502Z"
      },
      {
        "duration": 22,
        "start_time": "2023-05-23T11:16:45.206Z"
      },
      {
        "duration": 29,
        "start_time": "2023-05-23T11:17:02.104Z"
      },
      {
        "duration": 25,
        "start_time": "2023-05-23T11:17:20.497Z"
      },
      {
        "duration": 53,
        "start_time": "2023-05-23T11:30:32.682Z"
      },
      {
        "duration": 36,
        "start_time": "2023-05-23T11:31:07.881Z"
      },
      {
        "duration": 36,
        "start_time": "2023-05-23T11:31:40.157Z"
      },
      {
        "duration": 33,
        "start_time": "2023-05-23T11:31:58.186Z"
      },
      {
        "duration": 19,
        "start_time": "2023-05-23T11:35:15.058Z"
      },
      {
        "duration": 4,
        "start_time": "2023-05-23T11:48:43.930Z"
      },
      {
        "duration": 10,
        "start_time": "2023-05-23T11:48:48.061Z"
      },
      {
        "duration": 22,
        "start_time": "2023-05-23T11:49:32.894Z"
      },
      {
        "duration": 1225,
        "start_time": "2023-05-23T11:50:31.762Z"
      },
      {
        "duration": 146,
        "start_time": "2023-05-23T11:50:32.989Z"
      },
      {
        "duration": 29,
        "start_time": "2023-05-23T11:50:33.137Z"
      },
      {
        "duration": 14,
        "start_time": "2023-05-23T11:50:33.169Z"
      },
      {
        "duration": 14,
        "start_time": "2023-05-23T11:50:33.185Z"
      },
      {
        "duration": 86,
        "start_time": "2023-05-23T11:50:33.217Z"
      },
      {
        "duration": 52,
        "start_time": "2023-05-23T11:50:33.304Z"
      },
      {
        "duration": 75,
        "start_time": "2023-05-23T11:50:33.357Z"
      },
      {
        "duration": 57,
        "start_time": "2023-05-23T11:50:33.434Z"
      },
      {
        "duration": 24,
        "start_time": "2023-05-23T11:50:33.493Z"
      },
      {
        "duration": 24,
        "start_time": "2023-05-23T11:50:33.519Z"
      },
      {
        "duration": 11,
        "start_time": "2023-05-23T11:50:33.544Z"
      },
      {
        "duration": 14,
        "start_time": "2023-05-23T11:50:33.557Z"
      },
      {
        "duration": 17,
        "start_time": "2023-05-23T11:50:33.572Z"
      },
      {
        "duration": 44,
        "start_time": "2023-05-23T11:50:33.591Z"
      },
      {
        "duration": 98,
        "start_time": "2023-05-23T11:50:33.637Z"
      },
      {
        "duration": 4,
        "start_time": "2023-05-23T11:50:33.737Z"
      },
      {
        "duration": 200,
        "start_time": "2023-05-23T11:50:33.742Z"
      },
      {
        "duration": 10,
        "start_time": "2023-05-23T11:50:33.943Z"
      },
      {
        "duration": 206,
        "start_time": "2023-05-23T11:50:33.955Z"
      },
      {
        "duration": 10,
        "start_time": "2023-05-23T11:50:34.163Z"
      },
      {
        "duration": 19,
        "start_time": "2023-05-23T11:50:34.175Z"
      },
      {
        "duration": 45,
        "start_time": "2023-05-23T11:50:34.196Z"
      },
      {
        "duration": 161,
        "start_time": "2023-05-23T11:50:34.242Z"
      },
      {
        "duration": 13,
        "start_time": "2023-05-23T11:50:34.405Z"
      },
      {
        "duration": 5,
        "start_time": "2023-05-23T11:50:34.420Z"
      },
      {
        "duration": 16,
        "start_time": "2023-05-23T11:50:34.426Z"
      },
      {
        "duration": 130,
        "start_time": "2023-05-23T11:50:34.446Z"
      },
      {
        "duration": 520,
        "start_time": "2023-05-23T11:50:34.578Z"
      },
      {
        "duration": 8,
        "start_time": "2023-05-23T11:50:35.099Z"
      },
      {
        "duration": 117,
        "start_time": "2023-05-23T11:50:35.108Z"
      },
      {
        "duration": 12,
        "start_time": "2023-05-23T11:50:35.227Z"
      },
      {
        "duration": 171,
        "start_time": "2023-05-23T11:50:35.240Z"
      },
      {
        "duration": 37,
        "start_time": "2023-05-23T11:50:35.412Z"
      },
      {
        "duration": 150,
        "start_time": "2023-05-23T11:50:35.450Z"
      },
      {
        "duration": 35,
        "start_time": "2023-05-23T11:50:35.602Z"
      },
      {
        "duration": 152,
        "start_time": "2023-05-23T11:50:35.639Z"
      },
      {
        "duration": 28,
        "start_time": "2023-05-23T11:50:35.793Z"
      },
      {
        "duration": 9,
        "start_time": "2023-05-23T11:50:35.823Z"
      },
      {
        "duration": 9,
        "start_time": "2023-05-23T11:50:35.834Z"
      },
      {
        "duration": 445,
        "start_time": "2023-05-23T11:50:35.845Z"
      },
      {
        "duration": 81,
        "start_time": "2023-05-23T11:50:36.291Z"
      },
      {
        "duration": 4,
        "start_time": "2023-05-23T11:50:36.374Z"
      },
      {
        "duration": 58,
        "start_time": "2023-05-23T11:50:36.380Z"
      },
      {
        "duration": 8,
        "start_time": "2023-05-23T11:50:36.440Z"
      },
      {
        "duration": 40,
        "start_time": "2023-05-23T11:50:36.449Z"
      },
      {
        "duration": 783,
        "start_time": "2023-05-23T11:50:36.490Z"
      },
      {
        "duration": 7,
        "start_time": "2023-05-23T11:50:37.275Z"
      },
      {
        "duration": 35,
        "start_time": "2023-05-23T11:50:37.284Z"
      },
      {
        "duration": 206,
        "start_time": "2023-05-23T11:50:37.321Z"
      },
      {
        "duration": 0,
        "start_time": "2023-05-23T11:50:37.530Z"
      },
      {
        "duration": 35,
        "start_time": "2023-05-23T11:51:17.221Z"
      },
      {
        "duration": 28,
        "start_time": "2023-05-23T11:53:22.218Z"
      },
      {
        "duration": 33,
        "start_time": "2023-05-23T11:54:13.256Z"
      },
      {
        "duration": 28,
        "start_time": "2023-05-23T11:55:11.185Z"
      },
      {
        "duration": 26,
        "start_time": "2023-05-23T11:55:17.912Z"
      },
      {
        "duration": 24,
        "start_time": "2023-05-23T12:00:29.276Z"
      },
      {
        "duration": 25,
        "start_time": "2023-05-23T12:01:12.073Z"
      },
      {
        "duration": 23,
        "start_time": "2023-05-23T12:02:03.315Z"
      },
      {
        "duration": 25,
        "start_time": "2023-05-23T12:02:35.500Z"
      },
      {
        "duration": 22,
        "start_time": "2023-05-23T12:03:33.324Z"
      },
      {
        "duration": 27,
        "start_time": "2023-05-23T12:04:01.107Z"
      },
      {
        "duration": 33,
        "start_time": "2023-05-23T12:04:08.971Z"
      },
      {
        "duration": 21,
        "start_time": "2023-05-23T12:04:29.357Z"
      },
      {
        "duration": 23,
        "start_time": "2023-05-23T12:06:56.794Z"
      },
      {
        "duration": 26,
        "start_time": "2023-05-23T12:08:47.092Z"
      },
      {
        "duration": 31,
        "start_time": "2023-05-23T12:12:46.807Z"
      },
      {
        "duration": 22,
        "start_time": "2023-05-23T12:13:12.267Z"
      },
      {
        "duration": 29,
        "start_time": "2023-05-23T12:14:14.081Z"
      },
      {
        "duration": 24,
        "start_time": "2023-05-23T12:19:27.001Z"
      },
      {
        "duration": 23,
        "start_time": "2023-05-23T12:38:41.572Z"
      },
      {
        "duration": 50,
        "start_time": "2023-05-23T12:45:36.919Z"
      },
      {
        "duration": 49,
        "start_time": "2023-05-23T12:46:14.868Z"
      },
      {
        "duration": 4,
        "start_time": "2023-05-23T12:48:35.755Z"
      },
      {
        "duration": 3,
        "start_time": "2023-05-23T12:49:08.576Z"
      },
      {
        "duration": 3,
        "start_time": "2023-05-23T12:49:11.287Z"
      },
      {
        "duration": 3,
        "start_time": "2023-05-23T12:49:14.927Z"
      },
      {
        "duration": 11,
        "start_time": "2023-05-23T12:50:36.419Z"
      },
      {
        "duration": 56,
        "start_time": "2023-05-23T12:59:50.877Z"
      },
      {
        "duration": 50,
        "start_time": "2023-05-23T13:22:40.534Z"
      },
      {
        "duration": 1383,
        "start_time": "2023-05-23T13:23:06.313Z"
      },
      {
        "duration": 140,
        "start_time": "2023-05-23T13:23:07.698Z"
      },
      {
        "duration": 29,
        "start_time": "2023-05-23T13:23:07.841Z"
      },
      {
        "duration": 14,
        "start_time": "2023-05-23T13:23:07.872Z"
      },
      {
        "duration": 13,
        "start_time": "2023-05-23T13:23:07.887Z"
      },
      {
        "duration": 101,
        "start_time": "2023-05-23T13:23:07.902Z"
      },
      {
        "duration": 48,
        "start_time": "2023-05-23T13:23:08.004Z"
      },
      {
        "duration": 74,
        "start_time": "2023-05-23T13:23:08.053Z"
      },
      {
        "duration": 60,
        "start_time": "2023-05-23T13:23:08.129Z"
      },
      {
        "duration": 6,
        "start_time": "2023-05-23T13:23:08.191Z"
      },
      {
        "duration": 36,
        "start_time": "2023-05-23T13:23:08.198Z"
      },
      {
        "duration": 12,
        "start_time": "2023-05-23T13:23:08.236Z"
      },
      {
        "duration": 8,
        "start_time": "2023-05-23T13:23:08.250Z"
      },
      {
        "duration": 15,
        "start_time": "2023-05-23T13:23:08.260Z"
      },
      {
        "duration": 47,
        "start_time": "2023-05-23T13:23:08.277Z"
      },
      {
        "duration": 96,
        "start_time": "2023-05-23T13:23:08.326Z"
      },
      {
        "duration": 4,
        "start_time": "2023-05-23T13:23:08.423Z"
      },
      {
        "duration": 209,
        "start_time": "2023-05-23T13:23:08.428Z"
      },
      {
        "duration": 9,
        "start_time": "2023-05-23T13:23:08.639Z"
      },
      {
        "duration": 208,
        "start_time": "2023-05-23T13:23:08.649Z"
      },
      {
        "duration": 12,
        "start_time": "2023-05-23T13:23:08.860Z"
      },
      {
        "duration": 22,
        "start_time": "2023-05-23T13:23:08.874Z"
      },
      {
        "duration": 41,
        "start_time": "2023-05-23T13:23:08.916Z"
      },
      {
        "duration": 168,
        "start_time": "2023-05-23T13:23:08.959Z"
      },
      {
        "duration": 4,
        "start_time": "2023-05-23T13:23:09.129Z"
      },
      {
        "duration": 5,
        "start_time": "2023-05-23T13:23:09.134Z"
      },
      {
        "duration": 23,
        "start_time": "2023-05-23T13:23:09.140Z"
      },
      {
        "duration": 106,
        "start_time": "2023-05-23T13:23:09.166Z"
      },
      {
        "duration": 472,
        "start_time": "2023-05-23T13:23:09.274Z"
      },
      {
        "duration": 8,
        "start_time": "2023-05-23T13:23:09.747Z"
      },
      {
        "duration": 88,
        "start_time": "2023-05-23T13:23:09.756Z"
      },
      {
        "duration": 11,
        "start_time": "2023-05-23T13:23:09.846Z"
      },
      {
        "duration": 190,
        "start_time": "2023-05-23T13:23:09.859Z"
      },
      {
        "duration": 38,
        "start_time": "2023-05-23T13:23:10.051Z"
      },
      {
        "duration": 175,
        "start_time": "2023-05-23T13:23:10.091Z"
      },
      {
        "duration": 28,
        "start_time": "2023-05-23T13:23:10.268Z"
      },
      {
        "duration": 163,
        "start_time": "2023-05-23T13:23:10.298Z"
      },
      {
        "duration": 20,
        "start_time": "2023-05-23T13:23:10.463Z"
      },
      {
        "duration": 10,
        "start_time": "2023-05-23T13:23:10.485Z"
      },
      {
        "duration": 28,
        "start_time": "2023-05-23T13:23:10.496Z"
      },
      {
        "duration": 446,
        "start_time": "2023-05-23T13:23:10.526Z"
      },
      {
        "duration": 91,
        "start_time": "2023-05-23T13:23:10.973Z"
      },
      {
        "duration": 4,
        "start_time": "2023-05-23T13:23:11.066Z"
      },
      {
        "duration": 57,
        "start_time": "2023-05-23T13:23:11.072Z"
      },
      {
        "duration": 8,
        "start_time": "2023-05-23T13:23:11.130Z"
      },
      {
        "duration": 25,
        "start_time": "2023-05-23T13:23:11.139Z"
      },
      {
        "duration": 783,
        "start_time": "2023-05-23T13:23:11.165Z"
      },
      {
        "duration": 5,
        "start_time": "2023-05-23T13:23:11.950Z"
      },
      {
        "duration": 25,
        "start_time": "2023-05-23T13:23:11.957Z"
      },
      {
        "duration": 63,
        "start_time": "2023-05-23T13:23:11.983Z"
      },
      {
        "duration": 210,
        "start_time": "2023-05-23T13:23:12.048Z"
      },
      {
        "duration": 49,
        "start_time": "2023-05-23T13:27:55.912Z"
      },
      {
        "duration": 51,
        "start_time": "2023-05-23T13:30:08.260Z"
      },
      {
        "duration": 55,
        "start_time": "2023-05-23T13:33:34.807Z"
      },
      {
        "duration": 45,
        "start_time": "2023-05-23T13:34:54.249Z"
      },
      {
        "duration": 1255,
        "start_time": "2023-05-23T13:56:01.138Z"
      },
      {
        "duration": 157,
        "start_time": "2023-05-23T13:56:02.396Z"
      },
      {
        "duration": 29,
        "start_time": "2023-05-23T13:56:02.555Z"
      },
      {
        "duration": 12,
        "start_time": "2023-05-23T13:56:02.586Z"
      },
      {
        "duration": 31,
        "start_time": "2023-05-23T13:56:02.600Z"
      },
      {
        "duration": 95,
        "start_time": "2023-05-23T13:56:02.633Z"
      },
      {
        "duration": 42,
        "start_time": "2023-05-23T13:56:02.730Z"
      },
      {
        "duration": 71,
        "start_time": "2023-05-23T13:56:02.774Z"
      },
      {
        "duration": 57,
        "start_time": "2023-05-23T13:56:02.846Z"
      },
      {
        "duration": 20,
        "start_time": "2023-05-23T13:56:02.904Z"
      },
      {
        "duration": 32,
        "start_time": "2023-05-23T13:56:02.925Z"
      },
      {
        "duration": 9,
        "start_time": "2023-05-23T13:56:02.959Z"
      },
      {
        "duration": 8,
        "start_time": "2023-05-23T13:56:02.970Z"
      },
      {
        "duration": 20,
        "start_time": "2023-05-23T13:56:02.981Z"
      },
      {
        "duration": 44,
        "start_time": "2023-05-23T13:56:03.002Z"
      },
      {
        "duration": 98,
        "start_time": "2023-05-23T13:56:03.048Z"
      },
      {
        "duration": 3,
        "start_time": "2023-05-23T13:56:03.148Z"
      },
      {
        "duration": 212,
        "start_time": "2023-05-23T13:56:03.153Z"
      },
      {
        "duration": 10,
        "start_time": "2023-05-23T13:56:03.367Z"
      },
      {
        "duration": 212,
        "start_time": "2023-05-23T13:56:03.378Z"
      },
      {
        "duration": 11,
        "start_time": "2023-05-23T13:56:03.592Z"
      },
      {
        "duration": 44,
        "start_time": "2023-05-23T13:56:03.605Z"
      },
      {
        "duration": 34,
        "start_time": "2023-05-23T13:56:03.651Z"
      },
      {
        "duration": 162,
        "start_time": "2023-05-23T13:56:03.686Z"
      },
      {
        "duration": 4,
        "start_time": "2023-05-23T13:56:03.850Z"
      },
      {
        "duration": 36,
        "start_time": "2023-05-23T13:56:03.855Z"
      },
      {
        "duration": 33,
        "start_time": "2023-05-23T13:56:03.892Z"
      },
      {
        "duration": 106,
        "start_time": "2023-05-23T13:56:03.927Z"
      },
      {
        "duration": 513,
        "start_time": "2023-05-23T13:56:04.034Z"
      },
      {
        "duration": 8,
        "start_time": "2023-05-23T13:56:04.549Z"
      },
      {
        "duration": 164,
        "start_time": "2023-05-23T13:56:04.559Z"
      },
      {
        "duration": 15,
        "start_time": "2023-05-23T13:56:04.725Z"
      },
      {
        "duration": 191,
        "start_time": "2023-05-23T13:56:04.742Z"
      },
      {
        "duration": 36,
        "start_time": "2023-05-23T13:56:04.935Z"
      },
      {
        "duration": 185,
        "start_time": "2023-05-23T13:56:04.973Z"
      },
      {
        "duration": 29,
        "start_time": "2023-05-23T13:56:05.160Z"
      },
      {
        "duration": 152,
        "start_time": "2023-05-23T13:56:05.191Z"
      },
      {
        "duration": 18,
        "start_time": "2023-05-23T13:56:05.345Z"
      },
      {
        "duration": 10,
        "start_time": "2023-05-23T13:56:05.365Z"
      },
      {
        "duration": 10,
        "start_time": "2023-05-23T13:56:05.377Z"
      },
      {
        "duration": 444,
        "start_time": "2023-05-23T13:56:05.417Z"
      },
      {
        "duration": 91,
        "start_time": "2023-05-23T13:56:05.863Z"
      },
      {
        "duration": 4,
        "start_time": "2023-05-23T13:56:05.956Z"
      },
      {
        "duration": 68,
        "start_time": "2023-05-23T13:56:05.962Z"
      },
      {
        "duration": 9,
        "start_time": "2023-05-23T13:56:06.032Z"
      },
      {
        "duration": 34,
        "start_time": "2023-05-23T13:56:06.042Z"
      },
      {
        "duration": 817,
        "start_time": "2023-05-23T13:56:06.077Z"
      },
      {
        "duration": 32,
        "start_time": "2023-05-23T13:56:06.897Z"
      },
      {
        "duration": 53,
        "start_time": "2023-05-23T13:56:06.931Z"
      },
      {
        "duration": 60,
        "start_time": "2023-05-23T13:56:06.986Z"
      },
      {
        "duration": 1616,
        "start_time": "2023-05-24T05:02:04.199Z"
      },
      {
        "duration": 500,
        "start_time": "2023-05-24T05:02:05.818Z"
      },
      {
        "duration": 73,
        "start_time": "2023-05-24T05:02:06.320Z"
      },
      {
        "duration": 15,
        "start_time": "2023-05-24T05:02:06.395Z"
      },
      {
        "duration": 23,
        "start_time": "2023-05-24T05:02:06.412Z"
      },
      {
        "duration": 157,
        "start_time": "2023-05-24T05:02:06.437Z"
      },
      {
        "duration": 76,
        "start_time": "2023-05-24T05:02:06.596Z"
      },
      {
        "duration": 110,
        "start_time": "2023-05-24T05:02:06.674Z"
      },
      {
        "duration": 98,
        "start_time": "2023-05-24T05:02:06.789Z"
      },
      {
        "duration": 9,
        "start_time": "2023-05-24T05:02:06.891Z"
      },
      {
        "duration": 60,
        "start_time": "2023-05-24T05:02:06.903Z"
      },
      {
        "duration": 15,
        "start_time": "2023-05-24T05:02:06.965Z"
      },
      {
        "duration": 8,
        "start_time": "2023-05-24T05:02:06.982Z"
      },
      {
        "duration": 49,
        "start_time": "2023-05-24T05:02:06.991Z"
      },
      {
        "duration": 41,
        "start_time": "2023-05-24T05:02:07.042Z"
      },
      {
        "duration": 164,
        "start_time": "2023-05-24T05:02:07.086Z"
      },
      {
        "duration": 18,
        "start_time": "2023-05-24T05:02:07.252Z"
      },
      {
        "duration": 396,
        "start_time": "2023-05-24T05:02:07.277Z"
      },
      {
        "duration": 14,
        "start_time": "2023-05-24T05:02:07.675Z"
      },
      {
        "duration": 355,
        "start_time": "2023-05-24T05:02:07.691Z"
      },
      {
        "duration": 17,
        "start_time": "2023-05-24T05:02:08.051Z"
      },
      {
        "duration": 39,
        "start_time": "2023-05-24T05:02:08.069Z"
      },
      {
        "duration": 80,
        "start_time": "2023-05-24T05:02:08.110Z"
      },
      {
        "duration": 253,
        "start_time": "2023-05-24T05:02:08.192Z"
      },
      {
        "duration": 6,
        "start_time": "2023-05-24T05:02:08.447Z"
      },
      {
        "duration": 34,
        "start_time": "2023-05-24T05:02:08.456Z"
      },
      {
        "duration": 46,
        "start_time": "2023-05-24T05:02:08.493Z"
      },
      {
        "duration": 168,
        "start_time": "2023-05-24T05:02:08.544Z"
      },
      {
        "duration": 1030,
        "start_time": "2023-05-24T05:02:08.714Z"
      },
      {
        "duration": 11,
        "start_time": "2023-05-24T05:02:09.746Z"
      },
      {
        "duration": 193,
        "start_time": "2023-05-24T05:02:09.759Z"
      },
      {
        "duration": 14,
        "start_time": "2023-05-24T05:02:09.954Z"
      },
      {
        "duration": 195,
        "start_time": "2023-05-24T05:02:09.970Z"
      },
      {
        "duration": 36,
        "start_time": "2023-05-24T05:02:10.167Z"
      },
      {
        "duration": 171,
        "start_time": "2023-05-24T05:02:10.205Z"
      },
      {
        "duration": 30,
        "start_time": "2023-05-24T05:02:10.378Z"
      },
      {
        "duration": 212,
        "start_time": "2023-05-24T05:02:10.425Z"
      },
      {
        "duration": 20,
        "start_time": "2023-05-24T05:02:10.639Z"
      },
      {
        "duration": 28,
        "start_time": "2023-05-24T05:02:10.661Z"
      },
      {
        "duration": 36,
        "start_time": "2023-05-24T05:02:10.692Z"
      },
      {
        "duration": 627,
        "start_time": "2023-05-24T05:02:10.730Z"
      },
      {
        "duration": 115,
        "start_time": "2023-05-24T05:02:11.359Z"
      },
      {
        "duration": 8,
        "start_time": "2023-05-24T05:02:11.479Z"
      },
      {
        "duration": 109,
        "start_time": "2023-05-24T05:02:11.490Z"
      },
      {
        "duration": 13,
        "start_time": "2023-05-24T05:02:11.602Z"
      },
      {
        "duration": 48,
        "start_time": "2023-05-24T05:02:11.617Z"
      },
      {
        "duration": 1091,
        "start_time": "2023-05-24T05:02:11.667Z"
      },
      {
        "duration": 43,
        "start_time": "2023-05-24T05:02:12.761Z"
      },
      {
        "duration": 57,
        "start_time": "2023-05-24T05:02:35.861Z"
      },
      {
        "duration": 52,
        "start_time": "2023-05-24T05:03:21.752Z"
      },
      {
        "duration": 50,
        "start_time": "2023-05-24T05:04:14.674Z"
      },
      {
        "duration": 65,
        "start_time": "2023-05-24T05:04:44.999Z"
      },
      {
        "duration": 1535,
        "start_time": "2023-05-24T06:35:56.301Z"
      },
      {
        "duration": 508,
        "start_time": "2023-05-24T06:35:57.839Z"
      },
      {
        "duration": 78,
        "start_time": "2023-05-24T06:35:58.349Z"
      },
      {
        "duration": 23,
        "start_time": "2023-05-24T06:35:58.431Z"
      },
      {
        "duration": 31,
        "start_time": "2023-05-24T06:35:58.457Z"
      },
      {
        "duration": 110,
        "start_time": "2023-05-24T06:35:58.490Z"
      },
      {
        "duration": 69,
        "start_time": "2023-05-24T06:35:58.603Z"
      },
      {
        "duration": 73,
        "start_time": "2023-05-24T06:35:58.674Z"
      },
      {
        "duration": 69,
        "start_time": "2023-05-24T06:35:58.771Z"
      },
      {
        "duration": 29,
        "start_time": "2023-05-24T06:35:58.843Z"
      },
      {
        "duration": 27,
        "start_time": "2023-05-24T06:35:58.874Z"
      },
      {
        "duration": 14,
        "start_time": "2023-05-24T06:35:58.903Z"
      },
      {
        "duration": 18,
        "start_time": "2023-05-24T06:35:58.919Z"
      },
      {
        "duration": 42,
        "start_time": "2023-05-24T06:35:58.939Z"
      },
      {
        "duration": 34,
        "start_time": "2023-05-24T06:35:58.983Z"
      },
      {
        "duration": 125,
        "start_time": "2023-05-24T06:35:59.019Z"
      },
      {
        "duration": 5,
        "start_time": "2023-05-24T06:35:59.146Z"
      },
      {
        "duration": 260,
        "start_time": "2023-05-24T06:35:59.153Z"
      },
      {
        "duration": 11,
        "start_time": "2023-05-24T06:35:59.416Z"
      },
      {
        "duration": 305,
        "start_time": "2023-05-24T06:35:59.429Z"
      },
      {
        "duration": 15,
        "start_time": "2023-05-24T06:35:59.737Z"
      },
      {
        "duration": 54,
        "start_time": "2023-05-24T06:35:59.755Z"
      },
      {
        "duration": 77,
        "start_time": "2023-05-24T06:35:59.812Z"
      },
      {
        "duration": 200,
        "start_time": "2023-05-24T06:35:59.892Z"
      },
      {
        "duration": 7,
        "start_time": "2023-05-24T06:36:00.095Z"
      },
      {
        "duration": 71,
        "start_time": "2023-05-24T06:36:00.105Z"
      },
      {
        "duration": 43,
        "start_time": "2023-05-24T06:36:00.179Z"
      },
      {
        "duration": 231,
        "start_time": "2023-05-24T06:36:00.228Z"
      },
      {
        "duration": 519,
        "start_time": "2023-05-24T06:36:00.461Z"
      },
      {
        "duration": 10,
        "start_time": "2023-05-24T06:36:00.982Z"
      },
      {
        "duration": 259,
        "start_time": "2023-05-24T06:36:00.995Z"
      },
      {
        "duration": 32,
        "start_time": "2023-05-24T06:36:01.256Z"
      },
      {
        "duration": 310,
        "start_time": "2023-05-24T06:36:01.290Z"
      },
      {
        "duration": 45,
        "start_time": "2023-05-24T06:36:01.602Z"
      },
      {
        "duration": 326,
        "start_time": "2023-05-24T06:36:01.649Z"
      },
      {
        "duration": 58,
        "start_time": "2023-05-24T06:36:01.977Z"
      },
      {
        "duration": 299,
        "start_time": "2023-05-24T06:36:02.037Z"
      },
      {
        "duration": 23,
        "start_time": "2023-05-24T06:36:02.338Z"
      },
      {
        "duration": 14,
        "start_time": "2023-05-24T06:36:02.371Z"
      },
      {
        "duration": 44,
        "start_time": "2023-05-24T06:36:02.387Z"
      },
      {
        "duration": 490,
        "start_time": "2023-05-24T06:36:02.434Z"
      },
      {
        "duration": 124,
        "start_time": "2023-05-24T06:36:02.926Z"
      },
      {
        "duration": 23,
        "start_time": "2023-05-24T06:36:03.052Z"
      },
      {
        "duration": 80,
        "start_time": "2023-05-24T06:36:03.078Z"
      },
      {
        "duration": 15,
        "start_time": "2023-05-24T06:36:03.161Z"
      },
      {
        "duration": 58,
        "start_time": "2023-05-24T06:36:03.179Z"
      },
      {
        "duration": 1229,
        "start_time": "2023-05-24T06:36:03.239Z"
      },
      {
        "duration": 28,
        "start_time": "2023-05-24T06:36:04.470Z"
      },
      {
        "duration": 94,
        "start_time": "2023-05-24T06:36:04.500Z"
      },
      {
        "duration": 108,
        "start_time": "2023-05-24T06:36:04.596Z"
      },
      {
        "duration": 1647,
        "start_time": "2023-05-24T10:18:20.764Z"
      },
      {
        "duration": 180,
        "start_time": "2023-05-24T10:18:22.413Z"
      },
      {
        "duration": 41,
        "start_time": "2023-05-24T10:18:22.595Z"
      },
      {
        "duration": 38,
        "start_time": "2023-05-24T10:18:22.639Z"
      },
      {
        "duration": 22,
        "start_time": "2023-05-24T10:18:22.681Z"
      },
      {
        "duration": 125,
        "start_time": "2023-05-24T10:18:22.706Z"
      },
      {
        "duration": 89,
        "start_time": "2023-05-24T10:18:22.834Z"
      },
      {
        "duration": 101,
        "start_time": "2023-05-24T10:18:22.926Z"
      },
      {
        "duration": 97,
        "start_time": "2023-05-24T10:18:23.029Z"
      },
      {
        "duration": 8,
        "start_time": "2023-05-24T10:18:23.128Z"
      },
      {
        "duration": 51,
        "start_time": "2023-05-24T10:18:23.138Z"
      },
      {
        "duration": 15,
        "start_time": "2023-05-24T10:18:23.191Z"
      },
      {
        "duration": 33,
        "start_time": "2023-05-24T10:18:23.208Z"
      },
      {
        "duration": 44,
        "start_time": "2023-05-24T10:18:23.245Z"
      },
      {
        "duration": 66,
        "start_time": "2023-05-24T10:18:23.291Z"
      },
      {
        "duration": 130,
        "start_time": "2023-05-24T10:18:23.360Z"
      },
      {
        "duration": 7,
        "start_time": "2023-05-24T10:18:23.492Z"
      },
      {
        "duration": 277,
        "start_time": "2023-05-24T10:18:23.502Z"
      },
      {
        "duration": 15,
        "start_time": "2023-05-24T10:18:23.782Z"
      },
      {
        "duration": 316,
        "start_time": "2023-05-24T10:18:23.799Z"
      },
      {
        "duration": 18,
        "start_time": "2023-05-24T10:18:24.117Z"
      },
      {
        "duration": 52,
        "start_time": "2023-05-24T10:18:24.138Z"
      },
      {
        "duration": 40,
        "start_time": "2023-05-24T10:18:24.193Z"
      },
      {
        "duration": 221,
        "start_time": "2023-05-24T10:18:24.236Z"
      },
      {
        "duration": 15,
        "start_time": "2023-05-24T10:18:24.460Z"
      },
      {
        "duration": 13,
        "start_time": "2023-05-24T10:18:24.477Z"
      },
      {
        "duration": 25,
        "start_time": "2023-05-24T10:18:24.492Z"
      },
      {
        "duration": 137,
        "start_time": "2023-05-24T10:18:24.520Z"
      },
      {
        "duration": 589,
        "start_time": "2023-05-24T10:18:24.660Z"
      },
      {
        "duration": 20,
        "start_time": "2023-05-24T10:18:25.251Z"
      },
      {
        "duration": 156,
        "start_time": "2023-05-24T10:18:25.274Z"
      },
      {
        "duration": 16,
        "start_time": "2023-05-24T10:18:25.473Z"
      },
      {
        "duration": 210,
        "start_time": "2023-05-24T10:18:25.491Z"
      },
      {
        "duration": 40,
        "start_time": "2023-05-24T10:18:25.703Z"
      },
      {
        "duration": 226,
        "start_time": "2023-05-24T10:18:25.746Z"
      },
      {
        "duration": 39,
        "start_time": "2023-05-24T10:18:25.974Z"
      },
      {
        "duration": 278,
        "start_time": "2023-05-24T10:18:26.016Z"
      },
      {
        "duration": 29,
        "start_time": "2023-05-24T10:18:26.296Z"
      },
      {
        "duration": 16,
        "start_time": "2023-05-24T10:18:26.328Z"
      },
      {
        "duration": 51,
        "start_time": "2023-05-24T10:18:26.346Z"
      },
      {
        "duration": 620,
        "start_time": "2023-05-24T10:18:26.403Z"
      },
      {
        "duration": 125,
        "start_time": "2023-05-24T10:18:27.026Z"
      },
      {
        "duration": 17,
        "start_time": "2023-05-24T10:18:27.154Z"
      },
      {
        "duration": 104,
        "start_time": "2023-05-24T10:18:27.174Z"
      },
      {
        "duration": 10,
        "start_time": "2023-05-24T10:18:27.281Z"
      },
      {
        "duration": 35,
        "start_time": "2023-05-24T10:18:27.293Z"
      },
      {
        "duration": 1044,
        "start_time": "2023-05-24T10:18:27.330Z"
      },
      {
        "duration": 29,
        "start_time": "2023-05-24T10:18:28.377Z"
      },
      {
        "duration": 92,
        "start_time": "2023-05-24T10:18:28.408Z"
      },
      {
        "duration": 51,
        "start_time": "2023-05-24T10:18:28.503Z"
      },
      {
        "duration": 103,
        "start_time": "2023-05-24T10:21:09.208Z"
      },
      {
        "duration": 13,
        "start_time": "2023-05-24T10:22:29.295Z"
      },
      {
        "duration": 41,
        "start_time": "2023-05-24T10:22:58.512Z"
      },
      {
        "duration": 12,
        "start_time": "2023-05-24T10:23:02.270Z"
      },
      {
        "duration": 5,
        "start_time": "2023-05-24T10:26:03.513Z"
      },
      {
        "duration": 7,
        "start_time": "2023-05-24T10:26:08.812Z"
      },
      {
        "duration": 10,
        "start_time": "2023-05-24T10:26:29.097Z"
      },
      {
        "duration": 11,
        "start_time": "2023-05-24T10:26:37.374Z"
      },
      {
        "duration": 9,
        "start_time": "2023-05-24T10:26:51.437Z"
      },
      {
        "duration": 204,
        "start_time": "2023-05-24T10:27:37.370Z"
      },
      {
        "duration": 12,
        "start_time": "2023-05-24T10:28:28.670Z"
      },
      {
        "duration": 10,
        "start_time": "2023-05-24T10:28:59.562Z"
      },
      {
        "duration": 1236,
        "start_time": "2023-05-24T10:29:10.997Z"
      },
      {
        "duration": 9,
        "start_time": "2023-05-24T10:29:16.375Z"
      },
      {
        "duration": 1361,
        "start_time": "2023-05-24T10:29:21.850Z"
      },
      {
        "duration": 10,
        "start_time": "2023-05-24T10:29:29.493Z"
      },
      {
        "duration": 1262,
        "start_time": "2023-05-24T10:30:52.691Z"
      },
      {
        "duration": 10,
        "start_time": "2023-05-24T10:30:58.966Z"
      },
      {
        "duration": 1362,
        "start_time": "2023-05-24T10:31:36.795Z"
      },
      {
        "duration": 15,
        "start_time": "2023-05-24T10:31:59.666Z"
      },
      {
        "duration": 8,
        "start_time": "2023-05-24T10:37:08.470Z"
      },
      {
        "duration": 42,
        "start_time": "2023-05-24T10:38:08.462Z"
      },
      {
        "duration": 5,
        "start_time": "2023-05-24T10:38:34.201Z"
      },
      {
        "duration": 6,
        "start_time": "2023-05-24T10:38:44.062Z"
      },
      {
        "duration": 9,
        "start_time": "2023-05-24T11:02:51.111Z"
      },
      {
        "duration": 5,
        "start_time": "2023-05-24T11:04:06.775Z"
      },
      {
        "duration": 4,
        "start_time": "2023-05-24T11:04:30.354Z"
      },
      {
        "duration": 45,
        "start_time": "2023-05-24T11:05:46.798Z"
      },
      {
        "duration": 5,
        "start_time": "2023-05-24T11:06:01.194Z"
      },
      {
        "duration": 38,
        "start_time": "2023-05-24T11:06:41.322Z"
      },
      {
        "duration": 4,
        "start_time": "2023-05-24T11:06:46.471Z"
      },
      {
        "duration": 49,
        "start_time": "2023-05-24T11:07:20.404Z"
      },
      {
        "duration": 6,
        "start_time": "2023-05-24T11:07:29.704Z"
      },
      {
        "duration": 33,
        "start_time": "2023-05-24T11:09:05.552Z"
      },
      {
        "duration": 5,
        "start_time": "2023-05-24T11:09:26.567Z"
      },
      {
        "duration": 6,
        "start_time": "2023-05-24T11:09:47.611Z"
      },
      {
        "duration": 9,
        "start_time": "2023-05-24T11:16:10.982Z"
      },
      {
        "duration": 22,
        "start_time": "2023-05-24T12:13:51.703Z"
      },
      {
        "duration": 24,
        "start_time": "2023-05-24T12:40:05.396Z"
      },
      {
        "duration": 36,
        "start_time": "2023-05-24T12:40:40.346Z"
      },
      {
        "duration": 4,
        "start_time": "2023-05-24T12:40:52.150Z"
      },
      {
        "duration": 29,
        "start_time": "2023-05-24T12:42:55.166Z"
      },
      {
        "duration": 23,
        "start_time": "2023-05-24T12:43:03.279Z"
      },
      {
        "duration": 26,
        "start_time": "2023-05-24T12:43:13.949Z"
      },
      {
        "duration": 478,
        "start_time": "2023-05-24T12:46:30.013Z"
      },
      {
        "duration": 20,
        "start_time": "2023-05-24T12:46:38.785Z"
      },
      {
        "duration": 21,
        "start_time": "2023-05-24T12:46:50.949Z"
      },
      {
        "duration": 23,
        "start_time": "2023-05-24T12:47:02.810Z"
      },
      {
        "duration": 22,
        "start_time": "2023-05-24T12:47:16.446Z"
      },
      {
        "duration": 22,
        "start_time": "2023-05-24T12:47:29.196Z"
      },
      {
        "duration": 21,
        "start_time": "2023-05-24T12:47:49.249Z"
      },
      {
        "duration": 1606,
        "start_time": "2023-05-24T12:48:45.374Z"
      },
      {
        "duration": 24,
        "start_time": "2023-05-24T12:49:15.401Z"
      },
      {
        "duration": 12,
        "start_time": "2023-05-24T12:49:54.246Z"
      },
      {
        "duration": 46,
        "start_time": "2023-05-24T12:50:22.793Z"
      },
      {
        "duration": 8,
        "start_time": "2023-05-24T12:50:30.790Z"
      },
      {
        "duration": 48,
        "start_time": "2023-05-24T12:52:26.986Z"
      },
      {
        "duration": 10,
        "start_time": "2023-05-24T12:52:32.976Z"
      },
      {
        "duration": 9,
        "start_time": "2023-05-24T13:06:36.561Z"
      },
      {
        "duration": 5,
        "start_time": "2023-05-24T13:12:34.095Z"
      },
      {
        "duration": 57,
        "start_time": "2023-05-24T13:13:16.202Z"
      },
      {
        "duration": 4,
        "start_time": "2023-05-24T13:13:36.854Z"
      },
      {
        "duration": 5,
        "start_time": "2023-05-24T13:13:59.348Z"
      },
      {
        "duration": 7,
        "start_time": "2023-05-24T13:14:14.773Z"
      },
      {
        "duration": 7,
        "start_time": "2023-05-24T13:14:27.962Z"
      },
      {
        "duration": 51,
        "start_time": "2023-05-24T13:14:52.966Z"
      },
      {
        "duration": 10,
        "start_time": "2023-05-24T13:17:06.176Z"
      },
      {
        "duration": 9,
        "start_time": "2023-05-24T13:57:01.569Z"
      },
      {
        "duration": 1352,
        "start_time": "2023-05-24T13:57:11.963Z"
      },
      {
        "duration": 160,
        "start_time": "2023-05-24T13:57:13.317Z"
      },
      {
        "duration": 33,
        "start_time": "2023-05-24T13:57:13.478Z"
      },
      {
        "duration": 14,
        "start_time": "2023-05-24T13:57:13.513Z"
      },
      {
        "duration": 17,
        "start_time": "2023-05-24T13:57:13.530Z"
      },
      {
        "duration": 109,
        "start_time": "2023-05-24T13:57:13.548Z"
      },
      {
        "duration": 51,
        "start_time": "2023-05-24T13:57:13.670Z"
      },
      {
        "duration": 87,
        "start_time": "2023-05-24T13:57:13.722Z"
      },
      {
        "duration": 73,
        "start_time": "2023-05-24T13:57:13.811Z"
      },
      {
        "duration": 6,
        "start_time": "2023-05-24T13:57:13.886Z"
      },
      {
        "duration": 31,
        "start_time": "2023-05-24T13:57:13.894Z"
      },
      {
        "duration": 12,
        "start_time": "2023-05-24T13:57:13.927Z"
      },
      {
        "duration": 11,
        "start_time": "2023-05-24T13:57:13.940Z"
      },
      {
        "duration": 17,
        "start_time": "2023-05-24T13:57:13.975Z"
      },
      {
        "duration": 32,
        "start_time": "2023-05-24T13:57:13.995Z"
      },
      {
        "duration": 122,
        "start_time": "2023-05-24T13:57:14.029Z"
      },
      {
        "duration": 19,
        "start_time": "2023-05-24T13:57:14.152Z"
      },
      {
        "duration": 242,
        "start_time": "2023-05-24T13:57:14.173Z"
      },
      {
        "duration": 12,
        "start_time": "2023-05-24T13:57:14.417Z"
      },
      {
        "duration": 244,
        "start_time": "2023-05-24T13:57:14.431Z"
      },
      {
        "duration": 12,
        "start_time": "2023-05-24T13:57:14.677Z"
      },
      {
        "duration": 35,
        "start_time": "2023-05-24T13:57:14.691Z"
      },
      {
        "duration": 52,
        "start_time": "2023-05-24T13:57:14.728Z"
      },
      {
        "duration": 190,
        "start_time": "2023-05-24T13:57:14.781Z"
      },
      {
        "duration": 6,
        "start_time": "2023-05-24T13:57:14.973Z"
      },
      {
        "duration": 20,
        "start_time": "2023-05-24T13:57:14.981Z"
      },
      {
        "duration": 68,
        "start_time": "2023-05-24T13:57:15.003Z"
      },
      {
        "duration": 154,
        "start_time": "2023-05-24T13:57:15.073Z"
      },
      {
        "duration": 502,
        "start_time": "2023-05-24T13:57:15.229Z"
      },
      {
        "duration": 9,
        "start_time": "2023-05-24T13:57:15.732Z"
      },
      {
        "duration": 138,
        "start_time": "2023-05-24T13:57:15.743Z"
      },
      {
        "duration": 12,
        "start_time": "2023-05-24T13:57:15.883Z"
      },
      {
        "duration": 246,
        "start_time": "2023-05-24T13:57:15.897Z"
      },
      {
        "duration": 48,
        "start_time": "2023-05-24T13:57:16.145Z"
      },
      {
        "duration": 197,
        "start_time": "2023-05-24T13:57:16.195Z"
      },
      {
        "duration": 33,
        "start_time": "2023-05-24T13:57:16.395Z"
      },
      {
        "duration": 240,
        "start_time": "2023-05-24T13:57:16.431Z"
      },
      {
        "duration": 22,
        "start_time": "2023-05-24T13:57:16.674Z"
      },
      {
        "duration": 43,
        "start_time": "2023-05-24T13:57:16.698Z"
      },
      {
        "duration": 23,
        "start_time": "2023-05-24T13:57:16.744Z"
      },
      {
        "duration": 509,
        "start_time": "2023-05-24T13:57:16.772Z"
      },
      {
        "duration": 99,
        "start_time": "2023-05-24T13:57:17.283Z"
      },
      {
        "duration": 7,
        "start_time": "2023-05-24T13:57:17.384Z"
      },
      {
        "duration": 73,
        "start_time": "2023-05-24T13:57:17.393Z"
      },
      {
        "duration": 9,
        "start_time": "2023-05-24T13:57:17.468Z"
      },
      {
        "duration": 38,
        "start_time": "2023-05-24T13:57:17.479Z"
      },
      {
        "duration": 1398,
        "start_time": "2023-05-24T13:57:17.519Z"
      },
      {
        "duration": 25,
        "start_time": "2023-05-24T13:57:18.918Z"
      },
      {
        "duration": 64,
        "start_time": "2023-05-24T13:57:18.945Z"
      },
      {
        "duration": 61,
        "start_time": "2023-05-24T13:57:19.010Z"
      },
      {
        "duration": 1389,
        "start_time": "2023-05-24T15:59:21.673Z"
      },
      {
        "duration": 241,
        "start_time": "2023-05-24T15:59:23.065Z"
      },
      {
        "duration": 139,
        "start_time": "2023-05-24T15:59:23.308Z"
      },
      {
        "duration": 13,
        "start_time": "2023-05-24T15:59:23.450Z"
      },
      {
        "duration": 15,
        "start_time": "2023-05-24T15:59:23.465Z"
      },
      {
        "duration": 97,
        "start_time": "2023-05-24T15:59:23.481Z"
      },
      {
        "duration": 43,
        "start_time": "2023-05-24T15:59:23.580Z"
      },
      {
        "duration": 76,
        "start_time": "2023-05-24T15:59:23.625Z"
      },
      {
        "duration": 57,
        "start_time": "2023-05-24T15:59:23.703Z"
      },
      {
        "duration": 16,
        "start_time": "2023-05-24T15:59:23.763Z"
      },
      {
        "duration": 23,
        "start_time": "2023-05-24T15:59:23.780Z"
      },
      {
        "duration": 10,
        "start_time": "2023-05-24T15:59:23.805Z"
      },
      {
        "duration": 11,
        "start_time": "2023-05-24T15:59:23.816Z"
      },
      {
        "duration": 15,
        "start_time": "2023-05-24T15:59:23.829Z"
      },
      {
        "duration": 53,
        "start_time": "2023-05-24T15:59:23.846Z"
      },
      {
        "duration": 98,
        "start_time": "2023-05-24T15:59:23.901Z"
      },
      {
        "duration": 4,
        "start_time": "2023-05-24T15:59:24.001Z"
      },
      {
        "duration": 256,
        "start_time": "2023-05-24T15:59:24.006Z"
      },
      {
        "duration": 20,
        "start_time": "2023-05-24T15:59:24.264Z"
      },
      {
        "duration": 218,
        "start_time": "2023-05-24T15:59:24.286Z"
      },
      {
        "duration": 10,
        "start_time": "2023-05-24T15:59:24.506Z"
      },
      {
        "duration": 36,
        "start_time": "2023-05-24T15:59:24.518Z"
      },
      {
        "duration": 43,
        "start_time": "2023-05-24T15:59:24.556Z"
      },
      {
        "duration": 156,
        "start_time": "2023-05-24T15:59:24.600Z"
      },
      {
        "duration": 5,
        "start_time": "2023-05-24T15:59:24.759Z"
      },
      {
        "duration": 14,
        "start_time": "2023-05-24T15:59:24.766Z"
      },
      {
        "duration": 16,
        "start_time": "2023-05-24T15:59:24.782Z"
      },
      {
        "duration": 127,
        "start_time": "2023-05-24T15:59:24.800Z"
      },
      {
        "duration": 475,
        "start_time": "2023-05-24T15:59:24.929Z"
      },
      {
        "duration": 8,
        "start_time": "2023-05-24T15:59:25.406Z"
      },
      {
        "duration": 94,
        "start_time": "2023-05-24T15:59:25.415Z"
      },
      {
        "duration": 11,
        "start_time": "2023-05-24T15:59:25.511Z"
      },
      {
        "duration": 205,
        "start_time": "2023-05-24T15:59:25.524Z"
      },
      {
        "duration": 34,
        "start_time": "2023-05-24T15:59:25.731Z"
      },
      {
        "duration": 151,
        "start_time": "2023-05-24T15:59:25.777Z"
      },
      {
        "duration": 24,
        "start_time": "2023-05-24T15:59:25.930Z"
      },
      {
        "duration": 154,
        "start_time": "2023-05-24T15:59:25.956Z"
      },
      {
        "duration": 18,
        "start_time": "2023-05-24T15:59:26.112Z"
      },
      {
        "duration": 11,
        "start_time": "2023-05-24T15:59:26.132Z"
      },
      {
        "duration": 36,
        "start_time": "2023-05-24T15:59:26.145Z"
      },
      {
        "duration": 495,
        "start_time": "2023-05-24T15:59:26.182Z"
      },
      {
        "duration": 83,
        "start_time": "2023-05-24T15:59:26.679Z"
      },
      {
        "duration": 15,
        "start_time": "2023-05-24T15:59:26.764Z"
      },
      {
        "duration": 56,
        "start_time": "2023-05-24T15:59:26.780Z"
      },
      {
        "duration": 9,
        "start_time": "2023-05-24T15:59:26.837Z"
      },
      {
        "duration": 45,
        "start_time": "2023-05-24T15:59:26.848Z"
      },
      {
        "duration": 1362,
        "start_time": "2023-05-24T15:59:26.895Z"
      },
      {
        "duration": 27,
        "start_time": "2023-05-24T15:59:28.258Z"
      },
      {
        "duration": 39,
        "start_time": "2023-05-24T15:59:28.287Z"
      },
      {
        "duration": 64,
        "start_time": "2023-05-24T15:59:28.329Z"
      },
      {
        "duration": 72,
        "start_time": "2023-05-24T16:03:29.117Z"
      },
      {
        "duration": 6,
        "start_time": "2023-05-24T16:10:03.897Z"
      },
      {
        "duration": 6,
        "start_time": "2023-05-24T16:10:17.057Z"
      },
      {
        "duration": 10,
        "start_time": "2023-05-24T16:18:17.876Z"
      },
      {
        "duration": 5,
        "start_time": "2023-05-24T16:18:40.095Z"
      },
      {
        "duration": 4,
        "start_time": "2023-05-24T16:18:54.724Z"
      },
      {
        "duration": 1563,
        "start_time": "2023-05-25T05:15:06.506Z"
      },
      {
        "duration": 494,
        "start_time": "2023-05-25T05:15:08.071Z"
      },
      {
        "duration": 73,
        "start_time": "2023-05-25T05:15:08.567Z"
      },
      {
        "duration": 20,
        "start_time": "2023-05-25T05:15:08.642Z"
      },
      {
        "duration": 18,
        "start_time": "2023-05-25T05:15:08.664Z"
      },
      {
        "duration": 99,
        "start_time": "2023-05-25T05:15:08.684Z"
      },
      {
        "duration": 46,
        "start_time": "2023-05-25T05:15:08.784Z"
      },
      {
        "duration": 69,
        "start_time": "2023-05-25T05:15:08.832Z"
      },
      {
        "duration": 57,
        "start_time": "2023-05-25T05:15:08.902Z"
      },
      {
        "duration": 5,
        "start_time": "2023-05-25T05:15:08.962Z"
      },
      {
        "duration": 39,
        "start_time": "2023-05-25T05:15:08.969Z"
      },
      {
        "duration": 10,
        "start_time": "2023-05-25T05:15:09.009Z"
      },
      {
        "duration": 6,
        "start_time": "2023-05-25T05:15:09.020Z"
      },
      {
        "duration": 22,
        "start_time": "2023-05-25T05:15:09.028Z"
      },
      {
        "duration": 47,
        "start_time": "2023-05-25T05:15:09.052Z"
      },
      {
        "duration": 110,
        "start_time": "2023-05-25T05:15:09.101Z"
      },
      {
        "duration": 4,
        "start_time": "2023-05-25T05:15:09.213Z"
      },
      {
        "duration": 211,
        "start_time": "2023-05-25T05:15:09.219Z"
      },
      {
        "duration": 10,
        "start_time": "2023-05-25T05:15:09.432Z"
      },
      {
        "duration": 207,
        "start_time": "2023-05-25T05:15:09.443Z"
      },
      {
        "duration": 11,
        "start_time": "2023-05-25T05:15:09.651Z"
      },
      {
        "duration": 41,
        "start_time": "2023-05-25T05:15:09.664Z"
      },
      {
        "duration": 32,
        "start_time": "2023-05-25T05:15:09.707Z"
      },
      {
        "duration": 164,
        "start_time": "2023-05-25T05:15:09.741Z"
      },
      {
        "duration": 6,
        "start_time": "2023-05-25T05:15:09.907Z"
      },
      {
        "duration": 6,
        "start_time": "2023-05-25T05:15:09.915Z"
      },
      {
        "duration": 24,
        "start_time": "2023-05-25T05:15:09.923Z"
      },
      {
        "duration": 115,
        "start_time": "2023-05-25T05:15:09.950Z"
      },
      {
        "duration": 475,
        "start_time": "2023-05-25T05:15:10.066Z"
      },
      {
        "duration": 9,
        "start_time": "2023-05-25T05:15:10.543Z"
      },
      {
        "duration": 159,
        "start_time": "2023-05-25T05:15:10.554Z"
      },
      {
        "duration": 13,
        "start_time": "2023-05-25T05:15:10.715Z"
      },
      {
        "duration": 170,
        "start_time": "2023-05-25T05:15:10.730Z"
      },
      {
        "duration": 31,
        "start_time": "2023-05-25T05:15:10.902Z"
      },
      {
        "duration": 156,
        "start_time": "2023-05-25T05:15:10.934Z"
      },
      {
        "duration": 31,
        "start_time": "2023-05-25T05:15:11.094Z"
      },
      {
        "duration": 144,
        "start_time": "2023-05-25T05:15:11.126Z"
      },
      {
        "duration": 24,
        "start_time": "2023-05-25T05:15:11.271Z"
      },
      {
        "duration": 10,
        "start_time": "2023-05-25T05:15:11.297Z"
      },
      {
        "duration": 27,
        "start_time": "2023-05-25T05:15:11.309Z"
      },
      {
        "duration": 419,
        "start_time": "2023-05-25T05:15:11.338Z"
      },
      {
        "duration": 81,
        "start_time": "2023-05-25T05:15:11.759Z"
      },
      {
        "duration": 6,
        "start_time": "2023-05-25T05:15:11.841Z"
      },
      {
        "duration": 68,
        "start_time": "2023-05-25T05:15:11.848Z"
      },
      {
        "duration": 8,
        "start_time": "2023-05-25T05:15:11.919Z"
      },
      {
        "duration": 39,
        "start_time": "2023-05-25T05:15:11.929Z"
      },
      {
        "duration": 1215,
        "start_time": "2023-05-25T05:15:11.969Z"
      },
      {
        "duration": 26,
        "start_time": "2023-05-25T05:15:13.186Z"
      },
      {
        "duration": 41,
        "start_time": "2023-05-25T05:15:13.213Z"
      },
      {
        "duration": 58,
        "start_time": "2023-05-25T05:15:13.256Z"
      }
    ],
    "kernelspec": {
      "display_name": "Python 3 (ipykernel)",
      "language": "python",
      "name": "python3"
    },
    "language_info": {
      "codemirror_mode": {
        "name": "ipython",
        "version": 3
      },
      "file_extension": ".py",
      "mimetype": "text/x-python",
      "name": "python",
      "nbconvert_exporter": "python",
      "pygments_lexer": "ipython3",
      "version": "3.9.5"
    },
    "toc": {
      "base_numbering": 1,
      "nav_menu": {},
      "number_sections": true,
      "sideBar": true,
      "skip_h1_title": true,
      "title_cell": "Table of Contents",
      "title_sidebar": "Contents",
      "toc_cell": false,
      "toc_position": {},
      "toc_section_display": true,
      "toc_window_display": false
    },
    "colab": {
      "provenance": []
    }
  },
  "nbformat": 4,
  "nbformat_minor": 0
}