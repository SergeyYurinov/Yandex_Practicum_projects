{
  "cells": [
    {
      "cell_type": "markdown",
      "metadata": {
        "id": "LSk1vEvS8Bvv"
      },
      "source": [
        " # Принятие решений в бизнесе.\n",
        "  \n",
        "<b>Описание проекта</b>\n",
        "\n",
        "У нас крупный интернет-магазин. \n",
        "Вместе с отделом маркетинга мы подготовили список гипотез для увеличения выручки.\n",
        "Приоритизируем гипотезы, запустим A/B-тест и проанализируем результаты. "
      ]
    },
    {
      "cell_type": "markdown",
      "metadata": {
        "id": "TK1jNnX_8Bvw"
      },
      "source": [
        "## Часть. Приоритизация гипотез.\n",
        "У нас есть 9 гипотез по увеличению выручки интернет-магазина с указанными параметрами Reach, Impact, Confidence, Effort.\n",
        "\n",
        "**Путь к файлу**\n",
        "- `/datasets/hypothesis.csv`.\n",
        "\n",
        "### Применить фреймворк ICE для приоритизации гипотез. Отсортировать их по убыванию приоритета."
      ]
    },
    {
      "cell_type": "code",
      "execution_count": null,
      "metadata": {
        "id": "yE1DiGow8Bvy"
      },
      "outputs": [],
      "source": [
        "#Импортируем библиотеки\n",
        "import pandas as pd\n",
        "import numpy as np\n",
        "import matplotlib.pyplot as plt\n",
        "import datetime as dt\n",
        "import seaborn as sns\n",
        "import scipy.stats as stats"
      ]
    },
    {
      "cell_type": "code",
      "execution_count": null,
      "metadata": {
        "id": "edS3yzsK8Bv0",
        "outputId": "91408bfa-5724-4f84-c8f3-f25345e177e8"
      },
      "outputs": [
        {
          "name": "stdout",
          "output_type": "stream",
          "text": [
            "<class 'pandas.core.frame.DataFrame'>\n",
            "RangeIndex: 9 entries, 0 to 8\n",
            "Data columns (total 5 columns):\n",
            " #   Column      Non-Null Count  Dtype \n",
            "---  ------      --------------  ----- \n",
            " 0   Hypothesis  9 non-null      object\n",
            " 1   Reach       9 non-null      int64 \n",
            " 2   Impact      9 non-null      int64 \n",
            " 3   Confidence  9 non-null      int64 \n",
            " 4   Efforts     9 non-null      int64 \n",
            "dtypes: int64(4), object(1)\n",
            "memory usage: 488.0+ bytes\n"
          ]
        },
        {
          "data": {
            "text/html": [
              "<div>\n",
              "<style scoped>\n",
              "    .dataframe tbody tr th:only-of-type {\n",
              "        vertical-align: middle;\n",
              "    }\n",
              "\n",
              "    .dataframe tbody tr th {\n",
              "        vertical-align: top;\n",
              "    }\n",
              "\n",
              "    .dataframe thead th {\n",
              "        text-align: right;\n",
              "    }\n",
              "</style>\n",
              "<table border=\"1\" class=\"dataframe\">\n",
              "  <thead>\n",
              "    <tr style=\"text-align: right;\">\n",
              "      <th></th>\n",
              "      <th>Hypothesis</th>\n",
              "      <th>Reach</th>\n",
              "      <th>Impact</th>\n",
              "      <th>Confidence</th>\n",
              "      <th>Efforts</th>\n",
              "    </tr>\n",
              "  </thead>\n",
              "  <tbody>\n",
              "    <tr>\n",
              "      <th>0</th>\n",
              "      <td>Добавить два новых канала привлечения трафика,...</td>\n",
              "      <td>3</td>\n",
              "      <td>10</td>\n",
              "      <td>8</td>\n",
              "      <td>6</td>\n",
              "    </tr>\n",
              "    <tr>\n",
              "      <th>1</th>\n",
              "      <td>Запустить собственную службу доставки, что сок...</td>\n",
              "      <td>2</td>\n",
              "      <td>5</td>\n",
              "      <td>4</td>\n",
              "      <td>10</td>\n",
              "    </tr>\n",
              "    <tr>\n",
              "      <th>2</th>\n",
              "      <td>Добавить блоки рекомендаций товаров на сайт ин...</td>\n",
              "      <td>8</td>\n",
              "      <td>3</td>\n",
              "      <td>7</td>\n",
              "      <td>3</td>\n",
              "    </tr>\n",
              "    <tr>\n",
              "      <th>3</th>\n",
              "      <td>Изменить структура категорий, что увеличит кон...</td>\n",
              "      <td>8</td>\n",
              "      <td>3</td>\n",
              "      <td>3</td>\n",
              "      <td>8</td>\n",
              "    </tr>\n",
              "    <tr>\n",
              "      <th>4</th>\n",
              "      <td>Изменить цвет фона главной страницы, чтобы уве...</td>\n",
              "      <td>3</td>\n",
              "      <td>1</td>\n",
              "      <td>1</td>\n",
              "      <td>1</td>\n",
              "    </tr>\n",
              "    <tr>\n",
              "      <th>5</th>\n",
              "      <td>Добавить страницу отзывов клиентов о магазине,...</td>\n",
              "      <td>3</td>\n",
              "      <td>2</td>\n",
              "      <td>2</td>\n",
              "      <td>3</td>\n",
              "    </tr>\n",
              "    <tr>\n",
              "      <th>6</th>\n",
              "      <td>Показать на главной странице баннеры с актуаль...</td>\n",
              "      <td>5</td>\n",
              "      <td>3</td>\n",
              "      <td>8</td>\n",
              "      <td>3</td>\n",
              "    </tr>\n",
              "    <tr>\n",
              "      <th>7</th>\n",
              "      <td>Добавить форму подписки на все основные страни...</td>\n",
              "      <td>10</td>\n",
              "      <td>7</td>\n",
              "      <td>8</td>\n",
              "      <td>5</td>\n",
              "    </tr>\n",
              "    <tr>\n",
              "      <th>8</th>\n",
              "      <td>Запустить акцию, дающую скидку на товар в день...</td>\n",
              "      <td>1</td>\n",
              "      <td>9</td>\n",
              "      <td>9</td>\n",
              "      <td>5</td>\n",
              "    </tr>\n",
              "  </tbody>\n",
              "</table>\n",
              "</div>"
            ],
            "text/plain": [
              "                                          Hypothesis  Reach  Impact  \\\n",
              "0  Добавить два новых канала привлечения трафика,...      3      10   \n",
              "1  Запустить собственную службу доставки, что сок...      2       5   \n",
              "2  Добавить блоки рекомендаций товаров на сайт ин...      8       3   \n",
              "3  Изменить структура категорий, что увеличит кон...      8       3   \n",
              "4  Изменить цвет фона главной страницы, чтобы уве...      3       1   \n",
              "5  Добавить страницу отзывов клиентов о магазине,...      3       2   \n",
              "6  Показать на главной странице баннеры с актуаль...      5       3   \n",
              "7  Добавить форму подписки на все основные страни...     10       7   \n",
              "8  Запустить акцию, дающую скидку на товар в день...      1       9   \n",
              "\n",
              "   Confidence  Efforts  \n",
              "0           8        6  \n",
              "1           4       10  \n",
              "2           7        3  \n",
              "3           3        8  \n",
              "4           1        1  \n",
              "5           2        3  \n",
              "6           8        3  \n",
              "7           8        5  \n",
              "8           9        5  "
            ]
          },
          "metadata": {},
          "output_type": "display_data"
        },
        {
          "data": {
            "text/html": [
              "<style  type=\"text/css\" >\n",
              "#T_b9a44_row0_col0,#T_b9a44_row1_col0,#T_b9a44_row2_col0,#T_b9a44_row3_col0,#T_b9a44_row4_col0{\n",
              "            background-color:  #3b4cc0;\n",
              "            color:  #f1f1f1;\n",
              "        }</style><table id=\"T_b9a44_\" ><thead>    <tr>        <th class=\"blank level0\" ></th>        <th class=\"col_heading level0 col0\" >0</th>    </tr></thead><tbody>\n",
              "                <tr>\n",
              "                        <th id=\"T_b9a44_level0_row0\" class=\"row_heading level0 row0\" >Hypothesis</th>\n",
              "                        <td id=\"T_b9a44_row0_col0\" class=\"data row0 col0\" >0.000000</td>\n",
              "            </tr>\n",
              "            <tr>\n",
              "                        <th id=\"T_b9a44_level0_row1\" class=\"row_heading level0 row1\" >Reach</th>\n",
              "                        <td id=\"T_b9a44_row1_col0\" class=\"data row1 col0\" >0.000000</td>\n",
              "            </tr>\n",
              "            <tr>\n",
              "                        <th id=\"T_b9a44_level0_row2\" class=\"row_heading level0 row2\" >Impact</th>\n",
              "                        <td id=\"T_b9a44_row2_col0\" class=\"data row2 col0\" >0.000000</td>\n",
              "            </tr>\n",
              "            <tr>\n",
              "                        <th id=\"T_b9a44_level0_row3\" class=\"row_heading level0 row3\" >Confidence</th>\n",
              "                        <td id=\"T_b9a44_row3_col0\" class=\"data row3 col0\" >0.000000</td>\n",
              "            </tr>\n",
              "            <tr>\n",
              "                        <th id=\"T_b9a44_level0_row4\" class=\"row_heading level0 row4\" >Efforts</th>\n",
              "                        <td id=\"T_b9a44_row4_col0\" class=\"data row4 col0\" >0.000000</td>\n",
              "            </tr>\n",
              "    </tbody></table>"
            ],
            "text/plain": [
              "<pandas.io.formats.style.Styler at 0x7fa460149ac0>"
            ]
          },
          "execution_count": 2,
          "metadata": {},
          "output_type": "execute_result"
        }
      ],
      "source": [
        "#код загрузки датасета\n",
        "\n",
        "import os\n",
        "    \n",
        "hypothesis = '/datasets/hypothesis.csv'\n",
        "if os.path.exists(hypothesis):\n",
        "    hypothesis = pd.read_csv(hypothesis)\n",
        "else:\n",
        "    print('Something is wrong')\n",
        "        \n",
        "\n",
        "hypothesis.info()\n",
        "display(hypothesis.head(10));\n",
        "#Проверяем наличие пропусков\n",
        "pd.DataFrame(round(hypothesis.isna().mean()*100,1)).style.background_gradient('coolwarm')"
      ]
    },
    {
      "cell_type": "code",
      "execution_count": null,
      "metadata": {
        "id": "5f-Ex2YS8Bv4",
        "outputId": "1486197d-ab12-4d87-9ce5-38481a8ab6a5"
      },
      "outputs": [
        {
          "name": "stdout",
          "output_type": "stream",
          "text": [
            "0\n"
          ]
        }
      ],
      "source": [
        "#Заменим названия столбцов (приведем к нижнему регистру)\n",
        "hypothesis.columns = map(str.lower, hypothesis.columns)\n",
        "#Проверяем наличие дубликатов\n",
        "print(hypothesis.duplicated().sum())"
      ]
    },
    {
      "cell_type": "code",
      "execution_count": null,
      "metadata": {
        "id": "2WeAyyzF8Bv5",
        "outputId": "455ee4b4-9e8c-44fd-a861-fda9ac255f6c"
      },
      "outputs": [
        {
          "data": {
            "text/html": [
              "<div>\n",
              "<style scoped>\n",
              "    .dataframe tbody tr th:only-of-type {\n",
              "        vertical-align: middle;\n",
              "    }\n",
              "\n",
              "    .dataframe tbody tr th {\n",
              "        vertical-align: top;\n",
              "    }\n",
              "\n",
              "    .dataframe thead th {\n",
              "        text-align: right;\n",
              "    }\n",
              "</style>\n",
              "<table border=\"1\" class=\"dataframe\">\n",
              "  <thead>\n",
              "    <tr style=\"text-align: right;\">\n",
              "      <th></th>\n",
              "      <th>hypothesis</th>\n",
              "      <th>ICE</th>\n",
              "    </tr>\n",
              "  </thead>\n",
              "  <tbody>\n",
              "    <tr>\n",
              "      <th>8</th>\n",
              "      <td>Запустить акцию, дающую скидку на товар в день рождения</td>\n",
              "      <td>16.20</td>\n",
              "    </tr>\n",
              "    <tr>\n",
              "      <th>0</th>\n",
              "      <td>Добавить два новых канала привлечения трафика, что позволит привлекать на 30% больше пользователей</td>\n",
              "      <td>13.33</td>\n",
              "    </tr>\n",
              "    <tr>\n",
              "      <th>7</th>\n",
              "      <td>Добавить форму подписки на все основные страницы, чтобы собрать базу клиентов для email-рассылок</td>\n",
              "      <td>11.20</td>\n",
              "    </tr>\n",
              "    <tr>\n",
              "      <th>6</th>\n",
              "      <td>Показать на главной странице баннеры с актуальными акциями и распродажами, чтобы увеличить конверсию</td>\n",
              "      <td>8.00</td>\n",
              "    </tr>\n",
              "    <tr>\n",
              "      <th>2</th>\n",
              "      <td>Добавить блоки рекомендаций товаров на сайт интернет магазина, чтобы повысить конверсию и средний чек заказа</td>\n",
              "      <td>7.00</td>\n",
              "    </tr>\n",
              "    <tr>\n",
              "      <th>1</th>\n",
              "      <td>Запустить собственную службу доставки, что сократит срок доставки заказов</td>\n",
              "      <td>2.00</td>\n",
              "    </tr>\n",
              "    <tr>\n",
              "      <th>5</th>\n",
              "      <td>Добавить страницу отзывов клиентов о магазине, что позволит увеличить количество заказов</td>\n",
              "      <td>1.33</td>\n",
              "    </tr>\n",
              "    <tr>\n",
              "      <th>3</th>\n",
              "      <td>Изменить структура категорий, что увеличит конверсию, т.к. пользователи быстрее найдут нужный товар</td>\n",
              "      <td>1.12</td>\n",
              "    </tr>\n",
              "    <tr>\n",
              "      <th>4</th>\n",
              "      <td>Изменить цвет фона главной страницы, чтобы увеличить вовлеченность пользователей</td>\n",
              "      <td>1.00</td>\n",
              "    </tr>\n",
              "  </tbody>\n",
              "</table>\n",
              "</div>"
            ],
            "text/plain": [
              "                                                                                                     hypothesis  \\\n",
              "8                                                       Запустить акцию, дающую скидку на товар в день рождения   \n",
              "0            Добавить два новых канала привлечения трафика, что позволит привлекать на 30% больше пользователей   \n",
              "7              Добавить форму подписки на все основные страницы, чтобы собрать базу клиентов для email-рассылок   \n",
              "6          Показать на главной странице баннеры с актуальными акциями и распродажами, чтобы увеличить конверсию   \n",
              "2  Добавить блоки рекомендаций товаров на сайт интернет магазина, чтобы повысить конверсию и средний чек заказа   \n",
              "1                                     Запустить собственную службу доставки, что сократит срок доставки заказов   \n",
              "5                      Добавить страницу отзывов клиентов о магазине, что позволит увеличить количество заказов   \n",
              "3           Изменить структура категорий, что увеличит конверсию, т.к. пользователи быстрее найдут нужный товар   \n",
              "4                              Изменить цвет фона главной страницы, чтобы увеличить вовлеченность пользователей   \n",
              "\n",
              "     ICE  \n",
              "8  16.20  \n",
              "0  13.33  \n",
              "7  11.20  \n",
              "6   8.00  \n",
              "2   7.00  \n",
              "1   2.00  \n",
              "5   1.33  \n",
              "3   1.12  \n",
              "4   1.00  "
            ]
          },
          "execution_count": 4,
          "metadata": {},
          "output_type": "execute_result"
        }
      ],
      "source": [
        "#Применим фреймворк ICE для приоритизации гипотез.\n",
        "pd.options.display.max_colwidth = 150\n",
        "hypothesis['ICE'] = ( hypothesis['impact'] * hypothesis['confidence']) / hypothesis['efforts']\n",
        "hypothesis[['hypothesis', 'ICE']].sort_values(by='ICE', ascending=False).round(2)"
      ]
    },
    {
      "cell_type": "markdown",
      "metadata": {
        "id": "e-re2hbu8Bv5"
      },
      "source": [
        "**Вывод**\n",
        "\n",
        "Наиболее перспективные гипотезы 8,0,7"
      ]
    },
    {
      "cell_type": "markdown",
      "metadata": {
        "id": "BnnaSwDw8Bv7"
      },
      "source": [
        "### Применить фреймворк RICE для приоритизации гипотез. Отсортировать их по убыванию приоритета."
      ]
    },
    {
      "cell_type": "code",
      "execution_count": null,
      "metadata": {
        "id": "ZD5K7vDn8Bv7",
        "outputId": "2e142d16-5958-4532-fc93-618ca09eefb9"
      },
      "outputs": [
        {
          "data": {
            "text/html": [
              "<div>\n",
              "<style scoped>\n",
              "    .dataframe tbody tr th:only-of-type {\n",
              "        vertical-align: middle;\n",
              "    }\n",
              "\n",
              "    .dataframe tbody tr th {\n",
              "        vertical-align: top;\n",
              "    }\n",
              "\n",
              "    .dataframe thead th {\n",
              "        text-align: right;\n",
              "    }\n",
              "</style>\n",
              "<table border=\"1\" class=\"dataframe\">\n",
              "  <thead>\n",
              "    <tr style=\"text-align: right;\">\n",
              "      <th></th>\n",
              "      <th>hypothesis</th>\n",
              "      <th>RICE</th>\n",
              "    </tr>\n",
              "  </thead>\n",
              "  <tbody>\n",
              "    <tr>\n",
              "      <th>7</th>\n",
              "      <td>Добавить форму подписки на все основные страницы, чтобы собрать базу клиентов для email-рассылок</td>\n",
              "      <td>112.0</td>\n",
              "    </tr>\n",
              "    <tr>\n",
              "      <th>2</th>\n",
              "      <td>Добавить блоки рекомендаций товаров на сайт интернет магазина, чтобы повысить конверсию и средний чек заказа</td>\n",
              "      <td>56.0</td>\n",
              "    </tr>\n",
              "    <tr>\n",
              "      <th>0</th>\n",
              "      <td>Добавить два новых канала привлечения трафика, что позволит привлекать на 30% больше пользователей</td>\n",
              "      <td>40.0</td>\n",
              "    </tr>\n",
              "    <tr>\n",
              "      <th>6</th>\n",
              "      <td>Показать на главной странице баннеры с актуальными акциями и распродажами, чтобы увеличить конверсию</td>\n",
              "      <td>40.0</td>\n",
              "    </tr>\n",
              "    <tr>\n",
              "      <th>8</th>\n",
              "      <td>Запустить акцию, дающую скидку на товар в день рождения</td>\n",
              "      <td>16.2</td>\n",
              "    </tr>\n",
              "    <tr>\n",
              "      <th>3</th>\n",
              "      <td>Изменить структура категорий, что увеличит конверсию, т.к. пользователи быстрее найдут нужный товар</td>\n",
              "      <td>9.0</td>\n",
              "    </tr>\n",
              "    <tr>\n",
              "      <th>1</th>\n",
              "      <td>Запустить собственную службу доставки, что сократит срок доставки заказов</td>\n",
              "      <td>4.0</td>\n",
              "    </tr>\n",
              "    <tr>\n",
              "      <th>5</th>\n",
              "      <td>Добавить страницу отзывов клиентов о магазине, что позволит увеличить количество заказов</td>\n",
              "      <td>4.0</td>\n",
              "    </tr>\n",
              "    <tr>\n",
              "      <th>4</th>\n",
              "      <td>Изменить цвет фона главной страницы, чтобы увеличить вовлеченность пользователей</td>\n",
              "      <td>3.0</td>\n",
              "    </tr>\n",
              "  </tbody>\n",
              "</table>\n",
              "</div>"
            ],
            "text/plain": [
              "                                                                                                     hypothesis  \\\n",
              "7              Добавить форму подписки на все основные страницы, чтобы собрать базу клиентов для email-рассылок   \n",
              "2  Добавить блоки рекомендаций товаров на сайт интернет магазина, чтобы повысить конверсию и средний чек заказа   \n",
              "0            Добавить два новых канала привлечения трафика, что позволит привлекать на 30% больше пользователей   \n",
              "6          Показать на главной странице баннеры с актуальными акциями и распродажами, чтобы увеличить конверсию   \n",
              "8                                                       Запустить акцию, дающую скидку на товар в день рождения   \n",
              "3           Изменить структура категорий, что увеличит конверсию, т.к. пользователи быстрее найдут нужный товар   \n",
              "1                                     Запустить собственную службу доставки, что сократит срок доставки заказов   \n",
              "5                      Добавить страницу отзывов клиентов о магазине, что позволит увеличить количество заказов   \n",
              "4                              Изменить цвет фона главной страницы, чтобы увеличить вовлеченность пользователей   \n",
              "\n",
              "    RICE  \n",
              "7  112.0  \n",
              "2   56.0  \n",
              "0   40.0  \n",
              "6   40.0  \n",
              "8   16.2  \n",
              "3    9.0  \n",
              "1    4.0  \n",
              "5    4.0  \n",
              "4    3.0  "
            ]
          },
          "execution_count": 5,
          "metadata": {},
          "output_type": "execute_result"
        }
      ],
      "source": [
        "# Применим фреймворк RICE для приоритизации гипотез.\n",
        "pd.options.display.max_colwidth = 150\n",
        "hypothesis['RICE'] = (hypothesis['reach'] *  hypothesis['impact'] * hypothesis['confidence']) / hypothesis['efforts']\n",
        "hypothesis[['hypothesis', 'RICE']].sort_values(by='RICE', ascending=False)"
      ]
    },
    {
      "cell_type": "markdown",
      "metadata": {
        "id": "QONiNjbh8Bv8"
      },
      "source": [
        "**Вывод**\n",
        "\n",
        "Наиболее перспективные гипотезы 7,2,0 и 6"
      ]
    },
    {
      "cell_type": "code",
      "execution_count": null,
      "metadata": {
        "id": "ZcWMOaha8Bv8",
        "outputId": "e788051f-0718-4754-bfbf-e07b1815075c"
      },
      "outputs": [
        {
          "data": {
            "text/html": [
              "<div>\n",
              "<style scoped>\n",
              "    .dataframe tbody tr th:only-of-type {\n",
              "        vertical-align: middle;\n",
              "    }\n",
              "\n",
              "    .dataframe tbody tr th {\n",
              "        vertical-align: top;\n",
              "    }\n",
              "\n",
              "    .dataframe thead th {\n",
              "        text-align: right;\n",
              "    }\n",
              "</style>\n",
              "<table border=\"1\" class=\"dataframe\">\n",
              "  <thead>\n",
              "    <tr style=\"text-align: right;\">\n",
              "      <th></th>\n",
              "      <th>hypothesis</th>\n",
              "      <th>reach</th>\n",
              "      <th>impact</th>\n",
              "      <th>confidence</th>\n",
              "      <th>efforts</th>\n",
              "      <th>ICE</th>\n",
              "      <th>RICE</th>\n",
              "    </tr>\n",
              "  </thead>\n",
              "  <tbody>\n",
              "    <tr>\n",
              "      <th>0</th>\n",
              "      <td>Добавить два новых канала привлечения трафика, что позволит привлекать на 30% больше пользователей</td>\n",
              "      <td>3</td>\n",
              "      <td>10</td>\n",
              "      <td>8</td>\n",
              "      <td>6</td>\n",
              "      <td>13.333333</td>\n",
              "      <td>40.0</td>\n",
              "    </tr>\n",
              "    <tr>\n",
              "      <th>1</th>\n",
              "      <td>Запустить собственную службу доставки, что сократит срок доставки заказов</td>\n",
              "      <td>2</td>\n",
              "      <td>5</td>\n",
              "      <td>4</td>\n",
              "      <td>10</td>\n",
              "      <td>2.000000</td>\n",
              "      <td>4.0</td>\n",
              "    </tr>\n",
              "    <tr>\n",
              "      <th>2</th>\n",
              "      <td>Добавить блоки рекомендаций товаров на сайт интернет магазина, чтобы повысить конверсию и средний чек заказа</td>\n",
              "      <td>8</td>\n",
              "      <td>3</td>\n",
              "      <td>7</td>\n",
              "      <td>3</td>\n",
              "      <td>7.000000</td>\n",
              "      <td>56.0</td>\n",
              "    </tr>\n",
              "    <tr>\n",
              "      <th>3</th>\n",
              "      <td>Изменить структура категорий, что увеличит конверсию, т.к. пользователи быстрее найдут нужный товар</td>\n",
              "      <td>8</td>\n",
              "      <td>3</td>\n",
              "      <td>3</td>\n",
              "      <td>8</td>\n",
              "      <td>1.125000</td>\n",
              "      <td>9.0</td>\n",
              "    </tr>\n",
              "    <tr>\n",
              "      <th>4</th>\n",
              "      <td>Изменить цвет фона главной страницы, чтобы увеличить вовлеченность пользователей</td>\n",
              "      <td>3</td>\n",
              "      <td>1</td>\n",
              "      <td>1</td>\n",
              "      <td>1</td>\n",
              "      <td>1.000000</td>\n",
              "      <td>3.0</td>\n",
              "    </tr>\n",
              "    <tr>\n",
              "      <th>5</th>\n",
              "      <td>Добавить страницу отзывов клиентов о магазине, что позволит увеличить количество заказов</td>\n",
              "      <td>3</td>\n",
              "      <td>2</td>\n",
              "      <td>2</td>\n",
              "      <td>3</td>\n",
              "      <td>1.333333</td>\n",
              "      <td>4.0</td>\n",
              "    </tr>\n",
              "    <tr>\n",
              "      <th>6</th>\n",
              "      <td>Показать на главной странице баннеры с актуальными акциями и распродажами, чтобы увеличить конверсию</td>\n",
              "      <td>5</td>\n",
              "      <td>3</td>\n",
              "      <td>8</td>\n",
              "      <td>3</td>\n",
              "      <td>8.000000</td>\n",
              "      <td>40.0</td>\n",
              "    </tr>\n",
              "    <tr>\n",
              "      <th>7</th>\n",
              "      <td>Добавить форму подписки на все основные страницы, чтобы собрать базу клиентов для email-рассылок</td>\n",
              "      <td>10</td>\n",
              "      <td>7</td>\n",
              "      <td>8</td>\n",
              "      <td>5</td>\n",
              "      <td>11.200000</td>\n",
              "      <td>112.0</td>\n",
              "    </tr>\n",
              "    <tr>\n",
              "      <th>8</th>\n",
              "      <td>Запустить акцию, дающую скидку на товар в день рождения</td>\n",
              "      <td>1</td>\n",
              "      <td>9</td>\n",
              "      <td>9</td>\n",
              "      <td>5</td>\n",
              "      <td>16.200000</td>\n",
              "      <td>16.2</td>\n",
              "    </tr>\n",
              "  </tbody>\n",
              "</table>\n",
              "</div>"
            ],
            "text/plain": [
              "                                                                                                     hypothesis  \\\n",
              "0            Добавить два новых канала привлечения трафика, что позволит привлекать на 30% больше пользователей   \n",
              "1                                     Запустить собственную службу доставки, что сократит срок доставки заказов   \n",
              "2  Добавить блоки рекомендаций товаров на сайт интернет магазина, чтобы повысить конверсию и средний чек заказа   \n",
              "3           Изменить структура категорий, что увеличит конверсию, т.к. пользователи быстрее найдут нужный товар   \n",
              "4                              Изменить цвет фона главной страницы, чтобы увеличить вовлеченность пользователей   \n",
              "5                      Добавить страницу отзывов клиентов о магазине, что позволит увеличить количество заказов   \n",
              "6          Показать на главной странице баннеры с актуальными акциями и распродажами, чтобы увеличить конверсию   \n",
              "7              Добавить форму подписки на все основные страницы, чтобы собрать базу клиентов для email-рассылок   \n",
              "8                                                       Запустить акцию, дающую скидку на товар в день рождения   \n",
              "\n",
              "   reach  impact  confidence  efforts        ICE   RICE  \n",
              "0      3      10           8        6  13.333333   40.0  \n",
              "1      2       5           4       10   2.000000    4.0  \n",
              "2      8       3           7        3   7.000000   56.0  \n",
              "3      8       3           3        8   1.125000    9.0  \n",
              "4      3       1           1        1   1.000000    3.0  \n",
              "5      3       2           2        3   1.333333    4.0  \n",
              "6      5       3           8        3   8.000000   40.0  \n",
              "7     10       7           8        5  11.200000  112.0  \n",
              "8      1       9           9        5  16.200000   16.2  "
            ]
          },
          "metadata": {},
          "output_type": "display_data"
        }
      ],
      "source": [
        "# Выведем таблицу с RICE и ICE\n",
        "pd.options.display.max_colwidth = 150\n",
        "display(hypothesis);"
      ]
    },
    {
      "cell_type": "markdown",
      "metadata": {
        "id": "UVJY530h8Bv9"
      },
      "source": [
        "### Указать, как изменилась приоритизация гипотез при применении RICE вместо ICE. Объяснить, почему так произошло."
      ]
    },
    {
      "cell_type": "markdown",
      "metadata": {
        "id": "5jTwML5q8Bv9"
      },
      "source": [
        "**Общий вывод**\n",
        "\n",
        "Мы увидели, что при применении RICE Наиболее перспективные гипотезы 7,2,0 и 6.\n",
        "В то время как при ICE наиболее перспективные гипотезы 8,0,7.\n",
        "Т.е при обоих методах в лидерах гипотезы 7 и 0:\n",
        "Гипотеза 7 - \"Добавить форму подписки на все основные страницы, чтобы собрать базу клиентов для email-рассылок\".\n",
        "Гипотеза 0 - \"Добавить два новых канала привлечения трафика, что позволит привлекать на 30% больше пользователей\". \n",
        "Однако, если при ICE на первом месте гипотеза 8, то при расчёте RICE, на первое месте гипотеза 7.\n",
        "Так получилось потому, что у гипотезы 7 параметр reach равен 10, в то время как у остальных гипотез он меньше.\n",
        "Параметр охвата (Reach), использующийся в методе RICE изменил всю приоритетность, полученную по методу ICE.\n",
        "Кроме силы гипотезы нужно учитывать и то, сколько пользователей она затронет."
      ]
    },
    {
      "cell_type": "markdown",
      "metadata": {
        "id": "p1IRA9438Bv-"
      },
      "source": [
        "## Часть. Анализ A/B-теста\n",
        "\n",
        "Мы провели A/B-тест и получили результаты, которые описаны в файлах /datasets/orders.csv и /datasets/visitors.csv."
      ]
    },
    {
      "cell_type": "code",
      "execution_count": null,
      "metadata": {
        "id": "gl5DeLd-8Bv-",
        "outputId": "21a03a38-a514-4b8f-a6d6-dda189135798"
      },
      "outputs": [
        {
          "name": "stdout",
          "output_type": "stream",
          "text": [
            "<class 'pandas.core.frame.DataFrame'>\n",
            "RangeIndex: 1197 entries, 0 to 1196\n",
            "Data columns (total 5 columns):\n",
            " #   Column         Non-Null Count  Dtype         \n",
            "---  ------         --------------  -----         \n",
            " 0   transactionId  1197 non-null   int64         \n",
            " 1   visitorId      1197 non-null   int64         \n",
            " 2   date           1197 non-null   datetime64[ns]\n",
            " 3   revenue        1197 non-null   int64         \n",
            " 4   group          1197 non-null   object        \n",
            "dtypes: datetime64[ns](1), int64(3), object(1)\n",
            "memory usage: 46.9+ KB\n"
          ]
        },
        {
          "data": {
            "text/html": [
              "<div>\n",
              "<style scoped>\n",
              "    .dataframe tbody tr th:only-of-type {\n",
              "        vertical-align: middle;\n",
              "    }\n",
              "\n",
              "    .dataframe tbody tr th {\n",
              "        vertical-align: top;\n",
              "    }\n",
              "\n",
              "    .dataframe thead th {\n",
              "        text-align: right;\n",
              "    }\n",
              "</style>\n",
              "<table border=\"1\" class=\"dataframe\">\n",
              "  <thead>\n",
              "    <tr style=\"text-align: right;\">\n",
              "      <th></th>\n",
              "      <th>transactionId</th>\n",
              "      <th>visitorId</th>\n",
              "      <th>date</th>\n",
              "      <th>revenue</th>\n",
              "      <th>group</th>\n",
              "    </tr>\n",
              "  </thead>\n",
              "  <tbody>\n",
              "    <tr>\n",
              "      <th>0</th>\n",
              "      <td>3667963787</td>\n",
              "      <td>3312258926</td>\n",
              "      <td>2019-08-15</td>\n",
              "      <td>1650</td>\n",
              "      <td>B</td>\n",
              "    </tr>\n",
              "    <tr>\n",
              "      <th>1</th>\n",
              "      <td>2804400009</td>\n",
              "      <td>3642806036</td>\n",
              "      <td>2019-08-15</td>\n",
              "      <td>730</td>\n",
              "      <td>B</td>\n",
              "    </tr>\n",
              "    <tr>\n",
              "      <th>2</th>\n",
              "      <td>2961555356</td>\n",
              "      <td>4069496402</td>\n",
              "      <td>2019-08-15</td>\n",
              "      <td>400</td>\n",
              "      <td>A</td>\n",
              "    </tr>\n",
              "    <tr>\n",
              "      <th>3</th>\n",
              "      <td>3797467345</td>\n",
              "      <td>1196621759</td>\n",
              "      <td>2019-08-15</td>\n",
              "      <td>9759</td>\n",
              "      <td>B</td>\n",
              "    </tr>\n",
              "    <tr>\n",
              "      <th>4</th>\n",
              "      <td>2282983706</td>\n",
              "      <td>2322279887</td>\n",
              "      <td>2019-08-15</td>\n",
              "      <td>2308</td>\n",
              "      <td>B</td>\n",
              "    </tr>\n",
              "    <tr>\n",
              "      <th>5</th>\n",
              "      <td>182168103</td>\n",
              "      <td>935554773</td>\n",
              "      <td>2019-08-15</td>\n",
              "      <td>2210</td>\n",
              "      <td>B</td>\n",
              "    </tr>\n",
              "    <tr>\n",
              "      <th>6</th>\n",
              "      <td>398296753</td>\n",
              "      <td>2900797465</td>\n",
              "      <td>2019-08-15</td>\n",
              "      <td>1860</td>\n",
              "      <td>B</td>\n",
              "    </tr>\n",
              "    <tr>\n",
              "      <th>7</th>\n",
              "      <td>2626614568</td>\n",
              "      <td>78758296</td>\n",
              "      <td>2019-08-15</td>\n",
              "      <td>1044</td>\n",
              "      <td>A</td>\n",
              "    </tr>\n",
              "    <tr>\n",
              "      <th>8</th>\n",
              "      <td>1576988021</td>\n",
              "      <td>295230930</td>\n",
              "      <td>2019-08-15</td>\n",
              "      <td>13710</td>\n",
              "      <td>A</td>\n",
              "    </tr>\n",
              "    <tr>\n",
              "      <th>9</th>\n",
              "      <td>1506739906</td>\n",
              "      <td>1882260405</td>\n",
              "      <td>2019-08-15</td>\n",
              "      <td>1855</td>\n",
              "      <td>B</td>\n",
              "    </tr>\n",
              "  </tbody>\n",
              "</table>\n",
              "</div>"
            ],
            "text/plain": [
              "   transactionId   visitorId       date  revenue group\n",
              "0     3667963787  3312258926 2019-08-15     1650     B\n",
              "1     2804400009  3642806036 2019-08-15      730     B\n",
              "2     2961555356  4069496402 2019-08-15      400     A\n",
              "3     3797467345  1196621759 2019-08-15     9759     B\n",
              "4     2282983706  2322279887 2019-08-15     2308     B\n",
              "5      182168103   935554773 2019-08-15     2210     B\n",
              "6      398296753  2900797465 2019-08-15     1860     B\n",
              "7     2626614568    78758296 2019-08-15     1044     A\n",
              "8     1576988021   295230930 2019-08-15    13710     A\n",
              "9     1506739906  1882260405 2019-08-15     1855     B"
            ]
          },
          "metadata": {},
          "output_type": "display_data"
        },
        {
          "data": {
            "text/html": [
              "<style  type=\"text/css\" >\n",
              "#T_50a6d_row0_col0,#T_50a6d_row1_col0,#T_50a6d_row2_col0,#T_50a6d_row3_col0,#T_50a6d_row4_col0{\n",
              "            background-color:  #3b4cc0;\n",
              "            color:  #f1f1f1;\n",
              "        }</style><table id=\"T_50a6d_\" ><thead>    <tr>        <th class=\"blank level0\" ></th>        <th class=\"col_heading level0 col0\" >0</th>    </tr></thead><tbody>\n",
              "                <tr>\n",
              "                        <th id=\"T_50a6d_level0_row0\" class=\"row_heading level0 row0\" >transactionId</th>\n",
              "                        <td id=\"T_50a6d_row0_col0\" class=\"data row0 col0\" >0.000000</td>\n",
              "            </tr>\n",
              "            <tr>\n",
              "                        <th id=\"T_50a6d_level0_row1\" class=\"row_heading level0 row1\" >visitorId</th>\n",
              "                        <td id=\"T_50a6d_row1_col0\" class=\"data row1 col0\" >0.000000</td>\n",
              "            </tr>\n",
              "            <tr>\n",
              "                        <th id=\"T_50a6d_level0_row2\" class=\"row_heading level0 row2\" >date</th>\n",
              "                        <td id=\"T_50a6d_row2_col0\" class=\"data row2 col0\" >0.000000</td>\n",
              "            </tr>\n",
              "            <tr>\n",
              "                        <th id=\"T_50a6d_level0_row3\" class=\"row_heading level0 row3\" >revenue</th>\n",
              "                        <td id=\"T_50a6d_row3_col0\" class=\"data row3 col0\" >0.000000</td>\n",
              "            </tr>\n",
              "            <tr>\n",
              "                        <th id=\"T_50a6d_level0_row4\" class=\"row_heading level0 row4\" >group</th>\n",
              "                        <td id=\"T_50a6d_row4_col0\" class=\"data row4 col0\" >0.000000</td>\n",
              "            </tr>\n",
              "    </tbody></table>"
            ],
            "text/plain": [
              "<pandas.io.formats.style.Styler at 0x7fa3dfb50f40>"
            ]
          },
          "metadata": {},
          "output_type": "display_data"
        },
        {
          "name": "stdout",
          "output_type": "stream",
          "text": [
            "0\n"
          ]
        }
      ],
      "source": [
        "#код загрузки датасета orders\n",
        "orders = pd.read_csv('/datasets/orders.csv')\n",
        "#Поменяем тип данных для даты\n",
        "orders['date'] = orders['date'].map(lambda x: dt.datetime.strptime(x, '%Y-%m-%d'))\n",
        "orders.info()\n",
        "display(orders.head(10));\n",
        "#Проверяем наличие пропусков\n",
        "display(pd.DataFrame(round(orders.isna().mean()*100,1)).style.background_gradient('coolwarm'))\n",
        "#Проверяем наличие дубликатов\n",
        "print(orders.duplicated().sum())"
      ]
    },
    {
      "cell_type": "code",
      "execution_count": null,
      "metadata": {
        "id": "5cRkWkCR8Bv-",
        "outputId": "3a47475b-bc58-4f35-e6c8-8c93eb015afa"
      },
      "outputs": [
        {
          "name": "stdout",
          "output_type": "stream",
          "text": [
            "<class 'pandas.core.frame.DataFrame'>\n",
            "RangeIndex: 62 entries, 0 to 61\n",
            "Data columns (total 3 columns):\n",
            " #   Column    Non-Null Count  Dtype         \n",
            "---  ------    --------------  -----         \n",
            " 0   date      62 non-null     datetime64[ns]\n",
            " 1   group     62 non-null     object        \n",
            " 2   visitors  62 non-null     int64         \n",
            "dtypes: datetime64[ns](1), int64(1), object(1)\n",
            "memory usage: 1.6+ KB\n"
          ]
        },
        {
          "data": {
            "text/html": [
              "<div>\n",
              "<style scoped>\n",
              "    .dataframe tbody tr th:only-of-type {\n",
              "        vertical-align: middle;\n",
              "    }\n",
              "\n",
              "    .dataframe tbody tr th {\n",
              "        vertical-align: top;\n",
              "    }\n",
              "\n",
              "    .dataframe thead th {\n",
              "        text-align: right;\n",
              "    }\n",
              "</style>\n",
              "<table border=\"1\" class=\"dataframe\">\n",
              "  <thead>\n",
              "    <tr style=\"text-align: right;\">\n",
              "      <th></th>\n",
              "      <th>date</th>\n",
              "      <th>group</th>\n",
              "      <th>visitors</th>\n",
              "    </tr>\n",
              "  </thead>\n",
              "  <tbody>\n",
              "    <tr>\n",
              "      <th>0</th>\n",
              "      <td>2019-08-01</td>\n",
              "      <td>A</td>\n",
              "      <td>719</td>\n",
              "    </tr>\n",
              "    <tr>\n",
              "      <th>1</th>\n",
              "      <td>2019-08-02</td>\n",
              "      <td>A</td>\n",
              "      <td>619</td>\n",
              "    </tr>\n",
              "    <tr>\n",
              "      <th>2</th>\n",
              "      <td>2019-08-03</td>\n",
              "      <td>A</td>\n",
              "      <td>507</td>\n",
              "    </tr>\n",
              "    <tr>\n",
              "      <th>3</th>\n",
              "      <td>2019-08-04</td>\n",
              "      <td>A</td>\n",
              "      <td>717</td>\n",
              "    </tr>\n",
              "    <tr>\n",
              "      <th>4</th>\n",
              "      <td>2019-08-05</td>\n",
              "      <td>A</td>\n",
              "      <td>756</td>\n",
              "    </tr>\n",
              "    <tr>\n",
              "      <th>5</th>\n",
              "      <td>2019-08-06</td>\n",
              "      <td>A</td>\n",
              "      <td>667</td>\n",
              "    </tr>\n",
              "    <tr>\n",
              "      <th>6</th>\n",
              "      <td>2019-08-07</td>\n",
              "      <td>A</td>\n",
              "      <td>644</td>\n",
              "    </tr>\n",
              "    <tr>\n",
              "      <th>7</th>\n",
              "      <td>2019-08-08</td>\n",
              "      <td>A</td>\n",
              "      <td>610</td>\n",
              "    </tr>\n",
              "    <tr>\n",
              "      <th>8</th>\n",
              "      <td>2019-08-09</td>\n",
              "      <td>A</td>\n",
              "      <td>617</td>\n",
              "    </tr>\n",
              "    <tr>\n",
              "      <th>9</th>\n",
              "      <td>2019-08-10</td>\n",
              "      <td>A</td>\n",
              "      <td>406</td>\n",
              "    </tr>\n",
              "  </tbody>\n",
              "</table>\n",
              "</div>"
            ],
            "text/plain": [
              "        date group  visitors\n",
              "0 2019-08-01     A       719\n",
              "1 2019-08-02     A       619\n",
              "2 2019-08-03     A       507\n",
              "3 2019-08-04     A       717\n",
              "4 2019-08-05     A       756\n",
              "5 2019-08-06     A       667\n",
              "6 2019-08-07     A       644\n",
              "7 2019-08-08     A       610\n",
              "8 2019-08-09     A       617\n",
              "9 2019-08-10     A       406"
            ]
          },
          "metadata": {},
          "output_type": "display_data"
        },
        {
          "data": {
            "text/html": [
              "<style  type=\"text/css\" >\n",
              "#T_5229d_row0_col0,#T_5229d_row1_col0,#T_5229d_row2_col0{\n",
              "            background-color:  #3b4cc0;\n",
              "            color:  #f1f1f1;\n",
              "        }</style><table id=\"T_5229d_\" ><thead>    <tr>        <th class=\"blank level0\" ></th>        <th class=\"col_heading level0 col0\" >0</th>    </tr></thead><tbody>\n",
              "                <tr>\n",
              "                        <th id=\"T_5229d_level0_row0\" class=\"row_heading level0 row0\" >date</th>\n",
              "                        <td id=\"T_5229d_row0_col0\" class=\"data row0 col0\" >0.000000</td>\n",
              "            </tr>\n",
              "            <tr>\n",
              "                        <th id=\"T_5229d_level0_row1\" class=\"row_heading level0 row1\" >group</th>\n",
              "                        <td id=\"T_5229d_row1_col0\" class=\"data row1 col0\" >0.000000</td>\n",
              "            </tr>\n",
              "            <tr>\n",
              "                        <th id=\"T_5229d_level0_row2\" class=\"row_heading level0 row2\" >visitors</th>\n",
              "                        <td id=\"T_5229d_row2_col0\" class=\"data row2 col0\" >0.000000</td>\n",
              "            </tr>\n",
              "    </tbody></table>"
            ],
            "text/plain": [
              "<pandas.io.formats.style.Styler at 0x7fa3dfde0970>"
            ]
          },
          "metadata": {},
          "output_type": "display_data"
        },
        {
          "name": "stdout",
          "output_type": "stream",
          "text": [
            "0\n"
          ]
        }
      ],
      "source": [
        "#код загрузки датасета orders\n",
        "visitors = pd.read_csv('/datasets/visitors.csv')\n",
        "#Поменяем тип данных для даты\n",
        "visitors['date'] = visitors['date'].map(lambda x: dt.datetime.strptime(x, '%Y-%m-%d'))\n",
        "visitors.info()\n",
        "display(visitors.head(10));\n",
        "#Проверяем наличие пропусков\n",
        "display(pd.DataFrame(round(visitors.isna().mean()*100,1)).style.background_gradient('coolwarm'))\n",
        "#Проверяем наличие дубликатов\n",
        "print(visitors.duplicated().sum())"
      ]
    },
    {
      "cell_type": "markdown",
      "metadata": {
        "id": "CqFzxqjL8Bv_"
      },
      "source": [
        "**Задача**\n",
        "\n",
        "Проанализировать A/B-тест."
      ]
    },
    {
      "cell_type": "code",
      "execution_count": null,
      "metadata": {
        "id": "ua76HSEQ8BwA",
        "outputId": "93a0b241-c6e1-4757-818c-b2c2b5ae45fd"
      },
      "outputs": [
        {
          "name": "stdout",
          "output_type": "stream",
          "text": [
            "['B' 'A']\n",
            "2019-08-01 00:00:00\n",
            "2019-08-31 00:00:00\n",
            "503\n",
            "586\n"
          ]
        }
      ],
      "source": [
        "group_number = orders['group'].unique()\n",
        "print(group_number)\n",
        "date_min = orders['date'].min()\n",
        "print(date_min)\n",
        "date_max = orders['date'].max()\n",
        "print(date_max)\n",
        "group_a_count = orders.query('group == \"A\"')['visitorId'].nunique()\n",
        "print(group_a_count)\n",
        "group_b_count = orders.query('group == \"B\"')['visitorId'].nunique()\n",
        "print(group_b_count)"
      ]
    },
    {
      "cell_type": "markdown",
      "metadata": {
        "id": "ZAjs8O7e8BwB"
      },
      "source": [
        "\n",
        "\n",
        " 1. У нас 2 группы А и В\n",
        " \n",
        " 2. Дата начала теста 1 августа и конец 31 августа\n",
        "    \n",
        " 3. В группе А - 445 пользователей, в группе В - 528\n",
        "    \n",
        "\n",
        "</div>"
      ]
    },
    {
      "cell_type": "markdown",
      "metadata": {
        "id": "99KzWqt48BwC"
      },
      "source": [
        "### Построим график кумулятивной выручки по группам. Сделаем выводы и предположения."
      ]
    },
    {
      "cell_type": "code",
      "execution_count": null,
      "metadata": {
        "id": "CTQSQiGO8BwC",
        "outputId": "231aa535-715d-42f3-f8cb-cdfead84210e"
      },
      "outputs": [
        {
          "name": "stdout",
          "output_type": "stream",
          "text": [
            "[   8300375  199603092  232979603  237748145  276558944  351125977\n",
            "  393266494  457167155  471551937  477780734  818047933  963407295\n",
            " 1230306981 1294878855 1316129916 1333886533 1404934699 1602967004\n",
            " 1614305549 1648269707 1668030113 1738359350 1801183820 1959144690\n",
            " 2038680547 2044997962 2378935119 2458001652 2579882178 2587333274\n",
            " 2600415354 2654030115 2686716486 2712142231 2716752286 2780786433\n",
            " 2927087541 2949041841 2954449915 3062433592 3202540741 3234906277\n",
            " 3656415546 3717692402 3766097110 3803269165 3891541246 3941795274\n",
            " 3951559397 3957174400 3963646447 3972127743 3984495233 4069496402\n",
            " 4120364173 4186807279 4256040402 4266935830]\n"
          ]
        }
      ],
      "source": [
        "#Проверим, есть ли пользователи, которые попали в обе группы\n",
        "duplicates_users = np.intersect1d(orders.query('group == \"A\"')['visitorId'].unique(), orders.query('group == \"B\"')['visitorId'].unique())\n",
        "print(duplicates_users)"
      ]
    },
    {
      "cell_type": "code",
      "execution_count": null,
      "metadata": {
        "id": "wncIyXUA8BwD"
      },
      "outputs": [],
      "source": [
        "#Удалим пользователей, которые попали в обе группы\n",
        "orders = orders[~orders['visitorId'].isin(duplicates_users)]"
      ]
    },
    {
      "cell_type": "code",
      "execution_count": null,
      "metadata": {
        "id": "onvBcgFF8BwE",
        "outputId": "c41294a1-2d29-48db-df56-e4cee4c6f820"
      },
      "outputs": [
        {
          "data": {
            "text/html": [
              "<div>\n",
              "<style scoped>\n",
              "    .dataframe tbody tr th:only-of-type {\n",
              "        vertical-align: middle;\n",
              "    }\n",
              "\n",
              "    .dataframe tbody tr th {\n",
              "        vertical-align: top;\n",
              "    }\n",
              "\n",
              "    .dataframe thead th {\n",
              "        text-align: right;\n",
              "    }\n",
              "</style>\n",
              "<table border=\"1\" class=\"dataframe\">\n",
              "  <thead>\n",
              "    <tr style=\"text-align: right;\">\n",
              "      <th></th>\n",
              "      <th>date</th>\n",
              "      <th>group</th>\n",
              "      <th>orders</th>\n",
              "      <th>buyers</th>\n",
              "      <th>revenue</th>\n",
              "      <th>visitors</th>\n",
              "    </tr>\n",
              "  </thead>\n",
              "  <tbody>\n",
              "    <tr>\n",
              "      <th>0</th>\n",
              "      <td>2019-08-01</td>\n",
              "      <td>A</td>\n",
              "      <td>23</td>\n",
              "      <td>19</td>\n",
              "      <td>142779</td>\n",
              "      <td>719</td>\n",
              "    </tr>\n",
              "    <tr>\n",
              "      <th>1</th>\n",
              "      <td>2019-08-01</td>\n",
              "      <td>B</td>\n",
              "      <td>17</td>\n",
              "      <td>17</td>\n",
              "      <td>59758</td>\n",
              "      <td>713</td>\n",
              "    </tr>\n",
              "    <tr>\n",
              "      <th>2</th>\n",
              "      <td>2019-08-02</td>\n",
              "      <td>A</td>\n",
              "      <td>42</td>\n",
              "      <td>36</td>\n",
              "      <td>234381</td>\n",
              "      <td>1338</td>\n",
              "    </tr>\n",
              "    <tr>\n",
              "      <th>3</th>\n",
              "      <td>2019-08-02</td>\n",
              "      <td>B</td>\n",
              "      <td>40</td>\n",
              "      <td>39</td>\n",
              "      <td>221801</td>\n",
              "      <td>1294</td>\n",
              "    </tr>\n",
              "    <tr>\n",
              "      <th>4</th>\n",
              "      <td>2019-08-03</td>\n",
              "      <td>A</td>\n",
              "      <td>66</td>\n",
              "      <td>60</td>\n",
              "      <td>346854</td>\n",
              "      <td>1845</td>\n",
              "    </tr>\n",
              "    <tr>\n",
              "      <th>5</th>\n",
              "      <td>2019-08-03</td>\n",
              "      <td>B</td>\n",
              "      <td>54</td>\n",
              "      <td>53</td>\n",
              "      <td>288850</td>\n",
              "      <td>1803</td>\n",
              "    </tr>\n",
              "    <tr>\n",
              "      <th>6</th>\n",
              "      <td>2019-08-04</td>\n",
              "      <td>A</td>\n",
              "      <td>77</td>\n",
              "      <td>71</td>\n",
              "      <td>388030</td>\n",
              "      <td>2562</td>\n",
              "    </tr>\n",
              "    <tr>\n",
              "      <th>7</th>\n",
              "      <td>2019-08-04</td>\n",
              "      <td>B</td>\n",
              "      <td>68</td>\n",
              "      <td>66</td>\n",
              "      <td>385740</td>\n",
              "      <td>2573</td>\n",
              "    </tr>\n",
              "    <tr>\n",
              "      <th>8</th>\n",
              "      <td>2019-08-05</td>\n",
              "      <td>A</td>\n",
              "      <td>99</td>\n",
              "      <td>92</td>\n",
              "      <td>474413</td>\n",
              "      <td>3318</td>\n",
              "    </tr>\n",
              "    <tr>\n",
              "      <th>9</th>\n",
              "      <td>2019-08-05</td>\n",
              "      <td>B</td>\n",
              "      <td>89</td>\n",
              "      <td>87</td>\n",
              "      <td>475648</td>\n",
              "      <td>3280</td>\n",
              "    </tr>\n",
              "  </tbody>\n",
              "</table>\n",
              "</div>"
            ],
            "text/plain": [
              "        date group  orders  buyers  revenue  visitors\n",
              "0 2019-08-01     A      23      19   142779       719\n",
              "1 2019-08-01     B      17      17    59758       713\n",
              "2 2019-08-02     A      42      36   234381      1338\n",
              "3 2019-08-02     B      40      39   221801      1294\n",
              "4 2019-08-03     A      66      60   346854      1845\n",
              "5 2019-08-03     B      54      53   288850      1803\n",
              "6 2019-08-04     A      77      71   388030      2562\n",
              "7 2019-08-04     B      68      66   385740      2573\n",
              "8 2019-08-05     A      99      92   474413      3318\n",
              "9 2019-08-05     B      89      87   475648      3280"
            ]
          },
          "metadata": {},
          "output_type": "display_data"
        }
      ],
      "source": [
        "#Создадим массив уникальных пар значений дат и групп теста\n",
        "datesGroups = orders[['date','group']].drop_duplicates()\n",
        "\n",
        "#Получаем агрегированные кумулятивные по дням данные о заказах \n",
        "ordersAggregated = datesGroups.apply(lambda x: orders[np.logical_and(orders['date'] <= x['date'], orders['group'] == x['group'])]. \\\n",
        "                                     agg({'date' : 'max', \n",
        "                                          'group' : 'max', \n",
        "                                          'transactionId' : pd.Series.nunique, \n",
        "                                          'visitorId' : pd.Series.nunique, \n",
        "                                          'revenue' : 'sum'}), axis=1).sort_values(by=['date','group'])\n",
        "\n",
        "#Получаем агрегированные кумулятивные по дням данные о посетителях интернет-магазина \n",
        "visitorsAggregated = datesGroups.apply(lambda x: visitors[np.logical_and(visitors['date'] <= x['date'], visitors['group'] == x['group'])]. \\\n",
        "                                       agg({'date' : 'max', \n",
        "                                            'group' : 'max', \n",
        "                                            'visitors' : 'sum'}), axis=1).sort_values(by=['date','group'])\n",
        "\n",
        "#Объединим кумулятивные данные в одной таблице и присваиваем ее столбцам понятные названия\n",
        "cumulativeData = ordersAggregated.merge(visitorsAggregated, left_on=['date', 'group'], right_on=['date', 'group'])\n",
        "\n",
        "#Переименуем столбцы\n",
        "cumulativeData.columns = ['date', 'group', 'orders', 'buyers', 'revenue', 'visitors']\n",
        "\n",
        "display(cumulativeData.head(10))"
      ]
    },
    {
      "cell_type": "code",
      "execution_count": null,
      "metadata": {
        "id": "qOb_KFBA8BwF",
        "outputId": "d3b4a441-3c21-4906-8709-0f3c89188323"
      },
      "outputs": [
        {
          "data": {
            "image/png": "[encoded data removed]",
            "text/plain": [
              "<Figure size 1296x360 with 1 Axes>"
            ]
          },
          "metadata": {
            "needs_background": "light"
          },
          "output_type": "display_data"
        }
      ],
      "source": [
        "# датафрейм с кумулятивным количеством заказов и кумулятивной выручкой по дням в группе А\n",
        "cumulativeRevenueA = cumulativeData[cumulativeData['group']=='A'][['date','revenue', 'orders']]\n",
        "# датафрейм с кумулятивным количеством заказов и кумулятивной выручкой по дням в группе B\n",
        "cumulativeRevenueB = cumulativeData[cumulativeData['group']=='B'][['date','revenue', 'orders']]\n",
        "\n",
        "from pandas.plotting import register_matplotlib_converters\n",
        "register_matplotlib_converters()\n",
        "\n",
        "plt.figure(figsize=(18,5))\n",
        "#Строим график выручки группы А\n",
        "plt.plot(cumulativeRevenueA['date'], cumulativeRevenueA['revenue'], label='Кум.выручка группы A')\n",
        "#Строим график выручки группы B\n",
        "plt.plot(cumulativeRevenueB['date'], cumulativeRevenueB['revenue'], label='Кум.выручка группы B')\n",
        "plt.title('График кумулятивной выручки по группам')\n",
        "plt.xlabel('Дата')\n",
        "plt.ylabel('Выручка')\n",
        "plt.grid();"
      ]
    },
    {
      "cell_type": "markdown",
      "metadata": {
        "id": "nCM7zESy8BwF"
      },
      "source": [
        "**Вывод**\n",
        "\n",
        "Наблюдается резкий скачек в графике у группы В, это может сигнализировать о всплесках числа заказов, либо о появлении очень дорогих заказов в выборке. "
      ]
    },
    {
      "cell_type": "markdown",
      "metadata": {
        "id": "pznT9dgX8BwF"
      },
      "source": [
        "### Построим график кумулятивного среднего чека по группам. Сделаем выводы и предположения."
      ]
    },
    {
      "cell_type": "code",
      "execution_count": null,
      "metadata": {
        "id": "k1ySf-sx8BwG",
        "outputId": "882998c0-0235-4a5f-9513-95b7f40e85bb"
      },
      "outputs": [
        {
          "data": {
            "image/png": "[encoded data removed]",
            "text/plain": [
              "<Figure size 1296x360 with 1 Axes>"
            ]
          },
          "metadata": {
            "needs_background": "light"
          },
          "output_type": "display_data"
        }
      ],
      "source": [
        "plt.figure(figsize=(18,5))\n",
        "plt.grid()\n",
        "plt.plot(cumulativeRevenueA['date'], cumulativeRevenueA['revenue']/cumulativeRevenueA['orders'], label='A')\n",
        "plt.plot(cumulativeRevenueB['date'], cumulativeRevenueB['revenue']/cumulativeRevenueB['orders'], label='B')\n",
        "plt.title('График кумулятивного среднего чека по группам')\n",
        "plt.xlabel('Дата')\n",
        "plt.ylabel('Сумма среднего чека')\n",
        "plt.legend();"
      ]
    },
    {
      "cell_type": "markdown",
      "metadata": {
        "id": "C8NLA30g8BwG"
      },
      "source": [
        "**Вывод**\n",
        "\n",
        "Средний чек после 17 августа 2019 года резко вырос. Значит, в группу B попали крупные заказы, что подтверждает прошлый вывод."
      ]
    },
    {
      "cell_type": "markdown",
      "metadata": {
        "id": "Hg6zlb7f8BwG"
      },
      "source": [
        "### Построим график относительного изменения кумулятивного среднего чека группы B к группе A. Сделаем выводы и предположения."
      ]
    },
    {
      "cell_type": "code",
      "execution_count": null,
      "metadata": {
        "id": "cmc38pIr8BwH",
        "outputId": "ec374126-d881-4e0f-a410-faf342faae13"
      },
      "outputs": [
        {
          "data": {
            "image/png": "[encoded data removed]",
            "text/plain": [
              "<Figure size 1296x360 with 1 Axes>"
            ]
          },
          "metadata": {
            "needs_background": "light"
          },
          "output_type": "display_data"
        }
      ],
      "source": [
        "# собираем данные в одном датафрейме\n",
        "mergedCumulativeRevenue = cumulativeRevenueA.merge(cumulativeRevenueB, left_on='date', right_on='date', how='left', suffixes=['A', 'B'])\n",
        "\n",
        "# cтроим отношение средних чеков\n",
        "plt.figure(figsize=(18,5))\n",
        "plt.grid()\n",
        "plt.plot(mergedCumulativeRevenue['date'], (mergedCumulativeRevenue['revenueB']/mergedCumulativeRevenue['ordersB'])/(mergedCumulativeRevenue['revenueA']/mergedCumulativeRevenue['ordersA'])-1)\n",
        "plt.title('График относительного изменения кумулятивного среднего чека группы B к группе A')\n",
        "plt.xlabel('Дата')\n",
        "plt.ylabel('Изменение среднего чека')\n",
        "# добавляем ось X\n",
        "plt.axhline(y=0, color='black', linestyle='--') ;"
      ]
    },
    {
      "cell_type": "markdown",
      "metadata": {
        "id": "BZIbbF8U8BwH"
      },
      "source": [
        "**Вывод**\n",
        "\n",
        "В нескольких точках график различия между сегментами резко «скачет». Где-то уж точно спрятались крупные заказы и выбросы! И как раз резкий скачок выпадает опять на после 17 августа."
      ]
    },
    {
      "cell_type": "markdown",
      "metadata": {
        "id": "_NDHC7HG8BwH"
      },
      "source": [
        "### Построим график кумулятивного среднего количества заказов на посетителя по группам. Сделаем выводы и предположения."
      ]
    },
    {
      "cell_type": "code",
      "execution_count": null,
      "metadata": {
        "id": "Llo5xpcK8BwI",
        "outputId": "723b93e9-7da2-4fd6-e548-e1f733aae6c9"
      },
      "outputs": [
        {
          "data": {
            "image/png": "[encoded data removed]",
            "text/plain": [
              "<Figure size 1296x360 with 1 Axes>"
            ]
          },
          "metadata": {
            "needs_background": "light"
          },
          "output_type": "display_data"
        }
      ],
      "source": [
        "# считаем кумулятивную конверсию\n",
        "cumulativeData['conversion'] = cumulativeData['orders']/cumulativeData['visitors']\n",
        "\n",
        "# отделяем данные по группе A\n",
        "cumulativeDataA = cumulativeData[cumulativeData['group']=='A']\n",
        "\n",
        "# отделяем данные по группе B\n",
        "cumulativeDataB = cumulativeData[cumulativeData['group']=='B']\n",
        "\n",
        "# строим графики\n",
        "plt.figure(figsize=(18,5))\n",
        "plt.grid()\n",
        "plt.plot(cumulativeDataA['date'], cumulativeDataA['conversion'], label='A')\n",
        "plt.plot(cumulativeDataB['date'], cumulativeDataB['conversion'], label='B')\n",
        "plt.legend()\n",
        "plt.title('График кумулятивного среднего количества заказов на посетителя по группам')\n",
        "plt.xlabel('Дата')\n",
        "plt.ylabel('Кумулятивное среднее количество заказов на посетителя')\n",
        "# задаем масштаб осей\n",
        "plt.axis([\"2019-08-01\", '2019-09-01', 0, 0.07])\n",
        "plt.ylim(ymax = 0.0375, ymin = 0.0225);"
      ]
    },
    {
      "cell_type": "markdown",
      "metadata": {
        "id": "_wVUM20a8BwP"
      },
      "source": [
        "**Вывод**\n",
        "\n",
        "В начале группы колебались и кумулятивное среднее количество заказов группы А было больше, но затем группа В вырвалась вперёд и зафиксировалась, а группа А по кумулятивному среднему количеству заказов просела и также зафиксировалась."
      ]
    },
    {
      "cell_type": "markdown",
      "metadata": {
        "id": "DUK0DFS28BwQ"
      },
      "source": [
        "### Построим график относительного изменения кумулятивного среднего количества заказов на посетителя группы B к группе A. Сделаем выводы и предположения."
      ]
    },
    {
      "cell_type": "code",
      "execution_count": null,
      "metadata": {
        "id": "LD6ZPKFc8BwQ",
        "outputId": "68d6fb4d-bf75-4e03-ff80-217104189eb6"
      },
      "outputs": [
        {
          "data": {
            "image/png": "[encoded data removed]",
            "text/plain": [
              "<Figure size 1296x504 with 1 Axes>"
            ]
          },
          "metadata": {
            "needs_background": "light"
          },
          "output_type": "display_data"
        }
      ],
      "source": [
        "mergedCumulativeConversions = cumulativeDataA[['date','conversion']].merge(cumulativeDataB[['date','conversion']], left_on='date', right_on='date', how='left', suffixes=['A', 'B'])\n",
        "plt.figure(figsize=(18,7))\n",
        "plt.grid()\n",
        "plt.plot(mergedCumulativeConversions['date'], mergedCumulativeConversions['conversionB']/mergedCumulativeConversions['conversionA']-1, label=\"Относительный прирост кум. среднего количества заказов на посетителя группы B относительно группы A\")\n",
        "plt.legend()\n",
        "\n",
        "plt.axhline(y=0, color='black', linestyle='--')\n",
        "plt.axhline(y=0.2, color='grey', linestyle='--')\n",
        "plt.axis([\"2019-08-01\", '2019-09-01', -0.3, 0.3])\n",
        "plt.title('График относительного изменения кум. среднего количества заказов на посетителя группы B к группе A')\n",
        "plt.xlabel('Дата')\n",
        "plt.ylabel('Относительное изменение кум. среднего количества заказов на посетителя');"
      ]
    },
    {
      "cell_type": "markdown",
      "metadata": {
        "id": "MO2SU2KW8BwR"
      },
      "source": [
        "**Вывод**\n",
        "\n",
        "В начале теста группа В незначительно проигрывала группе А, затем вырвалась вперёд и так и осталась в лидерах.\n",
        "Впрочем, сперва стоит проанализировать аномалии, возможно, они изменят картину."
      ]
    },
    {
      "cell_type": "markdown",
      "metadata": {
        "id": "EnwgITEH8BwS"
      },
      "source": [
        "### Построим точечный график количества заказов по пользователям. Сделаем выводы и предположения."
      ]
    },
    {
      "cell_type": "code",
      "execution_count": null,
      "metadata": {
        "id": "Rgy3_9wl8BwT",
        "outputId": "467b6e00-261b-402b-f46c-049541760e87"
      },
      "outputs": [
        {
          "data": {
            "image/png": "[encoded data removed]",
            "text/plain": [
              "<Figure size 1296x360 with 1 Axes>"
            ]
          },
          "metadata": {
            "needs_background": "light"
          },
          "output_type": "display_data"
        }
      ],
      "source": [
        "ordersByUsers = orders.drop(['group', 'revenue', 'date'], axis=1).groupby('visitorId', as_index=False). \\\n",
        "                                                                        agg({'transactionId' : pd.Series.nunique})\n",
        "\n",
        "ordersByUsers.columns = ['user_id','orders']\n",
        "\n",
        "ordersByUsers.sort_values(by='orders',ascending=False).head(10)\n",
        "\n",
        "plt.figure(figsize=(18,5))\n",
        "plt.grid()\n",
        "plt.title('График количества заказов по пользователям')\n",
        "plt.xlabel('Кол-во пользователей')\n",
        "plt.ylabel('Кол-во заказов')\n",
        "x_values = pd.Series(range(0, len(ordersByUsers)))\n",
        "plt.scatter(x_values, ordersByUsers['orders']);"
      ]
    },
    {
      "cell_type": "markdown",
      "metadata": {
        "id": "oTgsW32I8BwT"
      },
      "source": [
        "**Вывод**\n",
        "\n",
        "Выводы подтверждаются: есть пользователи с 2 и 3 заказами. Остается понять считать их аномалиями или нет. "
      ]
    },
    {
      "cell_type": "markdown",
      "metadata": {
        "id": "17TUset38BwU"
      },
      "source": [
        "### Посчитаем 95-й и 99-й перцентили количества заказов на пользователя. Выберем границу для определения аномальных пользователей."
      ]
    },
    {
      "cell_type": "code",
      "execution_count": null,
      "metadata": {
        "id": "OcQYKKGI8BwU",
        "outputId": "edd6c55d-6c53-47cc-d69c-82ac8e5761e0"
      },
      "outputs": [
        {
          "name": "stdout",
          "output_type": "stream",
          "text": [
            "[1. 2.]\n"
          ]
        }
      ],
      "source": [
        "print(np.percentile(ordersByUsers['orders'], [95, 99])) "
      ]
    },
    {
      "cell_type": "markdown",
      "metadata": {
        "id": "HeY__Axz8BwV"
      },
      "source": [
        "**Вывод**\n",
        "\n",
        "Не более 5% пользователей оформляли больше, чем 1 заказ. И не более, чем 1% пользователей заказывали 2 раза.\n",
        "Разумно выбрать все, что больше 1 заказа на одного пользователя за верхнюю границу числа заказов и отсеять аномальных пользователей по ней."
      ]
    },
    {
      "cell_type": "markdown",
      "metadata": {
        "id": "n5kRnT2z8BwV"
      },
      "source": [
        "### Построим точечный график стоимостей заказов. Сделаем выводы и предположения."
      ]
    },
    {
      "cell_type": "code",
      "execution_count": null,
      "metadata": {
        "id": "JZd7tIKZ8BwV",
        "outputId": "42a5e550-46ab-4363-f914-4ec21378556b"
      },
      "outputs": [
        {
          "data": {
            "image/png": "[encoded data removed]",
            "text/plain": [
              "<Figure size 1296x360 with 1 Axes>"
            ]
          },
          "metadata": {
            "needs_background": "light"
          },
          "output_type": "display_data"
        }
      ],
      "source": [
        "plt.figure(figsize=(18,5))\n",
        "plt.grid()\n",
        "plt.title('График стоимостей заказов')\n",
        "plt.xlabel('Кол-во пользователей')\n",
        "plt.ylabel('Стоимость заказа')\n",
        "x_values = pd.Series(range(0,len(orders['revenue'])))\n",
        "plt.scatter(x_values, orders['revenue']);"
      ]
    },
    {
      "cell_type": "markdown",
      "metadata": {
        "id": "EBXM1CDD8BwW"
      },
      "source": [
        "**Вывод**\n",
        "\n",
        "Есть пара заказов со стоимостью более 0,2 и 1,2 у.е. Это аномальные значения."
      ]
    },
    {
      "cell_type": "code",
      "execution_count": null,
      "metadata": {
        "id": "4TbvXgnk8BwW",
        "outputId": "0c7c3cfd-8d2e-4a72-d2e3-98a5f552371b"
      },
      "outputs": [
        {
          "data": {
            "image/png": "[encoded data removed]",
            "text/plain": [
              "<Figure size 1296x360 with 1 Axes>"
            ]
          },
          "metadata": {
            "needs_background": "light"
          },
          "output_type": "display_data"
        }
      ],
      "source": [
        "#построим график без аномалий\n",
        "orders_clear = orders.query(\"revenue < 200000\")\n",
        "plt.figure(figsize=(18,5))\n",
        "plt.grid()\n",
        "plt.title('График стоимостей заказов')\n",
        "plt.xlabel('Кол-во пользователей')\n",
        "plt.ylabel('Стоимость заказа')\n",
        "x_values = pd.Series(range(0,len(orders_clear['revenue'])))\n",
        "plt.scatter(x_values, orders_clear['revenue']);"
      ]
    },
    {
      "cell_type": "markdown",
      "metadata": {
        "id": "ZN_sUYGF8BwX"
      },
      "source": [
        "### Посчитаем 95-й и 99-й перцентили стоимости заказов. Выберем границу для определения аномальных заказов."
      ]
    },
    {
      "cell_type": "code",
      "execution_count": null,
      "metadata": {
        "id": "vjXVtD-H8BwY",
        "outputId": "4e16fe3d-e283-44e2-8d3e-551b29137fd9"
      },
      "outputs": [
        {
          "name": "stdout",
          "output_type": "stream",
          "text": [
            "[26785. 53904.]\n"
          ]
        }
      ],
      "source": [
        "print(np.percentile(orders['revenue'], [95, 99])) "
      ]
    },
    {
      "cell_type": "markdown",
      "metadata": {
        "id": "60JbkHpF8BwY"
      },
      "source": [
        "**Вывод**\n",
        "\n",
        "Все значения больше 26785 у.е. примем как аномальные значения."
      ]
    },
    {
      "cell_type": "markdown",
      "metadata": {
        "id": "PCPDdNbK8BwZ"
      },
      "source": [
        "### Посчитаем статистическую значимость различий в среднем количестве заказов на посетителя между группами по «сырым» данным. Сделаем выводы и предположения."
      ]
    },
    {
      "cell_type": "markdown",
      "metadata": {
        "id": "c-ZC4i0A8Bwa"
      },
      "source": [
        "В случае, когда в данных есть большие (по сравнению с нормальным распределением) выбросы, алгебраические метрики работают плохо. Поэтому рассмотрим тест, основанный на структурном подходе, или непараметрический. Метод, который будем применять для A/B-тестирования, называется st.mannwhitneyu() (от англ. «U-критерий Манна-Уитни»). \n",
        "Ключевая идея — проранжировать две выборки по порядку от меньшего к большему и сравнить ранги одних и тех же значений, попавших в обе выборки. \n",
        "Ранг — это место в упорядоченной выборке. Разница между рангами одних и тех же значений может быть одинакова, и такой сдвиг называют типичным. Значит, просто добавились значения, сдвинувшие все остальные. \n",
        "А нетипичные сдвиги по рангу рассматриваются как изменения. Сумма рангов таких сдвигов и выступает значением критерия. Чем он выше — тем больше вероятность, что для этих выборок интересующая нас величина различается.\n",
        "Вероятности получения разных значений критерия Манна-Уитни рассчитаны теоретически, что даёт возможность делать вывод о различии или его отсутствии для любого заданного уровня значимости.\n",
        "Главное отличие непараметрических методов в том, что они работают с рангами, — номерами значений в упорядоченном ряду, — никак не учитывая сами значения. Поэтому к ним прибегают тогда, когда работа с самими значениями невозможна из-за выбросов, сильно сдвигающих параметрические результаты.\n",
        "\n",
        "\n",
        "**Сформулируем гипотезы** \n",
        "\n",
        "Нулевая: различий в среднем количестве заказов на посетителя между группами нет. \n",
        "\n",
        "Альтернативная: различия в среднем количестве заказов на посетителя между группами есть."
      ]
    },
    {
      "cell_type": "code",
      "execution_count": null,
      "metadata": {
        "scrolled": true,
        "id": "uep9gwjf8Bwa",
        "outputId": "f073c53b-077a-4616-c20c-a0255cc9810e"
      },
      "outputs": [
        {
          "data": {
            "text/html": [
              "<div>\n",
              "<style scoped>\n",
              "    .dataframe tbody tr th:only-of-type {\n",
              "        vertical-align: middle;\n",
              "    }\n",
              "\n",
              "    .dataframe tbody tr th {\n",
              "        vertical-align: top;\n",
              "    }\n",
              "\n",
              "    .dataframe thead th {\n",
              "        text-align: right;\n",
              "    }\n",
              "</style>\n",
              "<table border=\"1\" class=\"dataframe\">\n",
              "  <thead>\n",
              "    <tr style=\"text-align: right;\">\n",
              "      <th></th>\n",
              "      <th>date</th>\n",
              "      <th>ordersPerDateA</th>\n",
              "      <th>revenuePerDateA</th>\n",
              "      <th>ordersPerDateB</th>\n",
              "      <th>revenuePerDateB</th>\n",
              "      <th>ordersCummulativeA</th>\n",
              "      <th>revenueCummulativeA</th>\n",
              "      <th>ordersCummulativeB</th>\n",
              "      <th>revenueCummulativeB</th>\n",
              "      <th>visitorsPerDateA</th>\n",
              "      <th>visitorsPerDateB</th>\n",
              "      <th>visitorsCummulativeA</th>\n",
              "      <th>visitorsCummulativeB</th>\n",
              "    </tr>\n",
              "  </thead>\n",
              "  <tbody>\n",
              "    <tr>\n",
              "      <th>0</th>\n",
              "      <td>2019-08-01</td>\n",
              "      <td>23</td>\n",
              "      <td>142779</td>\n",
              "      <td>17</td>\n",
              "      <td>59758</td>\n",
              "      <td>23</td>\n",
              "      <td>142779</td>\n",
              "      <td>17</td>\n",
              "      <td>59758</td>\n",
              "      <td>719</td>\n",
              "      <td>713</td>\n",
              "      <td>719</td>\n",
              "      <td>713</td>\n",
              "    </tr>\n",
              "    <tr>\n",
              "      <th>1</th>\n",
              "      <td>2019-08-02</td>\n",
              "      <td>19</td>\n",
              "      <td>91602</td>\n",
              "      <td>23</td>\n",
              "      <td>162043</td>\n",
              "      <td>42</td>\n",
              "      <td>234381</td>\n",
              "      <td>40</td>\n",
              "      <td>221801</td>\n",
              "      <td>619</td>\n",
              "      <td>581</td>\n",
              "      <td>1338</td>\n",
              "      <td>1294</td>\n",
              "    </tr>\n",
              "    <tr>\n",
              "      <th>2</th>\n",
              "      <td>2019-08-03</td>\n",
              "      <td>24</td>\n",
              "      <td>112473</td>\n",
              "      <td>14</td>\n",
              "      <td>67049</td>\n",
              "      <td>66</td>\n",
              "      <td>346854</td>\n",
              "      <td>54</td>\n",
              "      <td>288850</td>\n",
              "      <td>507</td>\n",
              "      <td>509</td>\n",
              "      <td>1845</td>\n",
              "      <td>1803</td>\n",
              "    </tr>\n",
              "    <tr>\n",
              "      <th>3</th>\n",
              "      <td>2019-08-04</td>\n",
              "      <td>11</td>\n",
              "      <td>41176</td>\n",
              "      <td>14</td>\n",
              "      <td>96890</td>\n",
              "      <td>77</td>\n",
              "      <td>388030</td>\n",
              "      <td>68</td>\n",
              "      <td>385740</td>\n",
              "      <td>717</td>\n",
              "      <td>770</td>\n",
              "      <td>2562</td>\n",
              "      <td>2573</td>\n",
              "    </tr>\n",
              "    <tr>\n",
              "      <th>4</th>\n",
              "      <td>2019-08-05</td>\n",
              "      <td>22</td>\n",
              "      <td>86383</td>\n",
              "      <td>21</td>\n",
              "      <td>89908</td>\n",
              "      <td>99</td>\n",
              "      <td>474413</td>\n",
              "      <td>89</td>\n",
              "      <td>475648</td>\n",
              "      <td>756</td>\n",
              "      <td>707</td>\n",
              "      <td>3318</td>\n",
              "      <td>3280</td>\n",
              "    </tr>\n",
              "  </tbody>\n",
              "</table>\n",
              "</div>"
            ],
            "text/plain": [
              "        date  ordersPerDateA  revenuePerDateA  ordersPerDateB  \\\n",
              "0 2019-08-01              23           142779              17   \n",
              "1 2019-08-02              19            91602              23   \n",
              "2 2019-08-03              24           112473              14   \n",
              "3 2019-08-04              11            41176              14   \n",
              "4 2019-08-05              22            86383              21   \n",
              "\n",
              "   revenuePerDateB  ordersCummulativeA  revenueCummulativeA  \\\n",
              "0            59758                  23               142779   \n",
              "1           162043                  42               234381   \n",
              "2            67049                  66               346854   \n",
              "3            96890                  77               388030   \n",
              "4            89908                  99               474413   \n",
              "\n",
              "   ordersCummulativeB  revenueCummulativeB  visitorsPerDateA  \\\n",
              "0                  17                59758               719   \n",
              "1                  40               221801               619   \n",
              "2                  54               288850               507   \n",
              "3                  68               385740               717   \n",
              "4                  89               475648               756   \n",
              "\n",
              "   visitorsPerDateB  visitorsCummulativeA  visitorsCummulativeB  \n",
              "0               713                   719                   713  \n",
              "1               581                  1338                  1294  \n",
              "2               509                  1845                  1803  \n",
              "3               770                  2562                  2573  \n",
              "4               707                  3318                  3280  "
            ]
          },
          "metadata": {},
          "output_type": "display_data"
        }
      ],
      "source": [
        "visitorsADaily = visitors[visitors['group']=='A'][['date', 'visitors']]\n",
        "visitorsADaily.columns = ['date', 'visitorsPerDateA']\n",
        "\n",
        "visitorsACummulative = visitorsADaily.apply(lambda x: visitorsADaily[visitorsADaily['date'] <= x['date']]. \\\n",
        "                                            agg({'date' : 'max', 'visitorsPerDateA' : 'sum'}), axis=1)\n",
        "visitorsACummulative.columns = ['date', 'visitorsCummulativeA']\n",
        "\n",
        "visitorsBDaily = visitors[visitors['group']=='B'][['date', 'visitors']]\n",
        "visitorsBDaily.columns = ['date', 'visitorsPerDateB']\n",
        "\n",
        "visitorsBCummulative = visitorsBDaily.apply(lambda x: visitorsBDaily[visitorsBDaily['date'] <= x['date']]. \\\n",
        "                                            agg({'date' : 'max', 'visitorsPerDateB' : 'sum'}), axis=1)\n",
        "visitorsBCummulative.columns = ['date', 'visitorsCummulativeB']\n",
        "\n",
        "ordersADaily = orders[orders['group']=='A'][['date', 'transactionId', 'visitorId', 'revenue']]\\\n",
        "    .groupby('date', as_index=False)\\\n",
        "    .agg({'transactionId' : pd.Series.nunique, 'revenue' : 'sum'})\n",
        "ordersADaily.columns = ['date', 'ordersPerDateA', 'revenuePerDateA']\n",
        "\n",
        "ordersACummulative = ordersADaily.apply(\n",
        "    lambda x: \\\n",
        "        ordersADaily[ordersADaily['date'] <= x['date']]\\\n",
        "            .agg({\n",
        "                'date' : 'max',\n",
        "                'ordersPerDateA' : 'sum',\n",
        "                'revenuePerDateA' : 'sum'}), axis=1).sort_values(by=['date'])\n",
        "ordersACummulative.columns = ['date', 'ordersCummulativeA', 'revenueCummulativeA']\n",
        "\n",
        "ordersBDaily = orders[orders['group']=='B'][['date', 'transactionId', 'visitorId', 'revenue']]\\\n",
        "    .groupby('date', as_index=False)\\\n",
        "    .agg({'transactionId' : pd.Series.nunique, 'revenue' : 'sum'})\n",
        "ordersBDaily.columns = ['date', 'ordersPerDateB', 'revenuePerDateB']\n",
        "\n",
        "ordersBCummulative = ordersBDaily.apply(\n",
        "    lambda x: \\\n",
        "        ordersBDaily[ordersBDaily['date'] <= x['date']]\\\n",
        "            .agg({\n",
        "                'date' : 'max',\n",
        "                'ordersPerDateB' : 'sum',\n",
        "                'revenuePerDateB' : 'sum'}), axis=1).sort_values(by=['date'])\n",
        "ordersBCummulative.columns = ['date', 'ordersCummulativeB', 'revenueCummulativeB']\n",
        "\n",
        "data = ordersADaily.merge(ordersBDaily, left_on='date', right_on='date', how='left')\\\n",
        "    .merge(ordersACummulative, left_on='date', right_on='date', how='left')\\\n",
        "    .merge(ordersBCummulative, left_on='date', right_on='date', how='left')\\\n",
        "    .merge(visitorsADaily, left_on='date', right_on='date', how='left')\\\n",
        "    .merge(visitorsBDaily, left_on='date', right_on='date', how='left')\\\n",
        "    .merge(visitorsACummulative, left_on='date', right_on='date', how='left')\\\n",
        "    .merge(visitorsBCummulative, left_on='date', right_on='date', how='left')\n",
        "display(data.head(5))"
      ]
    },
    {
      "cell_type": "code",
      "execution_count": null,
      "metadata": {
        "id": "QGrpcnaA8Bwd",
        "outputId": "49531098-f216-4ba3-f753-6f7e409fa7a4"
      },
      "outputs": [
        {
          "name": "stdout",
          "output_type": "stream",
          "text": [
            "p-value = 0.011\n",
            "Относительная разница между средним количеством заказов на посетителя между группами = 0.160\n"
          ]
        }
      ],
      "source": [
        "ordersByUsersA = orders[orders['group']=='A'].groupby('visitorId', as_index=False).agg({'transactionId' : pd.Series.nunique})\n",
        "ordersByUsersA.columns = ['userId', 'orders']\n",
        "\n",
        "ordersByUsersB = orders[orders['group']=='B'].groupby('visitorId', as_index=False).agg({'transactionId' : pd.Series.nunique})\n",
        "ordersByUsersB.columns = ['userId', 'orders']\n",
        "\n",
        "sampleA = pd.concat([ordersByUsersA['orders'],pd.Series(0, index=np.arange(visitors.query('group == \"A\"')['visitors'].sum() - len(ordersByUsersA['orders'])), name='orders')],axis=0)\n",
        "\n",
        "sampleB = pd.concat([ordersByUsersB['orders'],pd.Series(0, index=np.arange(visitors.query('group == \"B\"')['visitors'].sum() - len(ordersByUsersB['orders'])), name='orders')],axis=0)\n",
        "print(\"p-value = {0:.3f}\".format(stats.mannwhitneyu(sampleA, sampleB)[1]))\n",
        "\n",
        "print(\"Относительная разница между средним количеством заказов на посетителя между группами = {0:.3f}\"\n",
        "      .format(sampleB.mean() / sampleA.mean() - 1))"
      ]
    },
    {
      "cell_type": "code",
      "execution_count": null,
      "metadata": {
        "id": "dOP4lDk58Bwd",
        "outputId": "a7fc0c6a-dc1e-49c9-e447-8b9b9818c553"
      },
      "outputs": [
        {
          "name": "stdout",
          "output_type": "stream",
          "text": [
            "p-value = 0.011\n",
            "Относительная разница между средним количеством заказов на посетителя между группами = 0.160\n"
          ]
        }
      ],
      "source": [
        "ordersByUsersA = orders[orders['group']=='A'].groupby('visitorId', as_index=False).agg({'transactionId' : pd.Series.nunique})\n",
        "ordersByUsersA.columns = ['userId', 'orders']\n",
        "\n",
        "ordersByUsersB = orders[orders['group']=='B'].groupby('visitorId', as_index=False).agg({'transactionId' : pd.Series.nunique})\n",
        "ordersByUsersB.columns = ['userId', 'orders']\n",
        "\n",
        "sampleA = pd.concat([ordersByUsersA['orders'],pd.Series(0, index=np.arange(data['visitorsPerDateA'].sum() - len(ordersByUsersA['orders'])), name='orders')],axis=0)\n",
        "\n",
        "sampleB = pd.concat([ordersByUsersB['orders'],pd.Series(0, index=np.arange(data['visitorsPerDateB'].sum() - len(ordersByUsersB['orders'])), name='orders')],axis=0)\n",
        "\n",
        "print(\"p-value = {0:.3f}\".format(stats.mannwhitneyu(sampleA, sampleB)[1]))\n",
        "\n",
        "print(\"Относительная разница между средним количеством заказов на посетителя между группами = {0:.3f}\"\n",
        "      .format(sampleB.mean() / sampleA.mean() - 1))"
      ]
    },
    {
      "cell_type": "markdown",
      "metadata": {
        "id": "VWmtBpX18Bwe"
      },
      "source": [
        "**Вывод**\n",
        "\n",
        "По «сырым» данным различия в среднем числе заказов на посетителя групп A и B есть. \n",
        "p-value = 0.011 меньше 0.05, значит, нулевую гипотезу о том, что статистически значимых различий в среднем числе заказов на посетителя между группами нет, отвергаем. Однако относительный выигрыш группы B равен 16%."
      ]
    },
    {
      "cell_type": "markdown",
      "metadata": {
        "id": "YFRcy9hb8Bwf"
      },
      "source": [
        "### Посчитаем статистическую значимость различий в среднем чеке заказа между группами по «сырым» данным. Сделаем выводы и предположения."
      ]
    },
    {
      "cell_type": "markdown",
      "metadata": {
        "id": "UjCEwlst8Bwf"
      },
      "source": [
        "**Сформулируем гипотезы** \n",
        "\n",
        "Нулевая гипотеза: различий в среднем чеке между группами нет. \n",
        "\n",
        "Альтернативная гипотеза: различия в среднем чеке между группами есть. "
      ]
    },
    {
      "cell_type": "code",
      "execution_count": null,
      "metadata": {
        "id": "4SV_rRbW8Bwg",
        "outputId": "cc95af0c-0b81-4e50-af1c-c6042d67d215"
      },
      "outputs": [
        {
          "name": "stdout",
          "output_type": "stream",
          "text": [
            "p-value = 0.829\n",
            "Относительная разница между средним чеком заказа между группами = 0.287\n"
          ]
        }
      ],
      "source": [
        "print(\"p-value = {0:.3f}\".format(stats.mannwhitneyu(orders[orders['group']=='A']['revenue'], \n",
        "                                       orders[orders['group']=='B']['revenue'])[1]))\n",
        "print(\"Относительная разница между средним чеком заказа между группами = {0:.3f}\"\n",
        "      .format(orders[orders['group']=='B']['revenue'].mean()/\n",
        "                       orders[orders['group']=='A']['revenue'].mean()-1))"
      ]
    },
    {
      "cell_type": "markdown",
      "metadata": {
        "id": "Mh2SDqZp8Bwg"
      },
      "source": [
        "**Вывод**\n",
        "\n",
        "По «сырым» данным различий в среднем чеке заказов групп A и B нет. \n",
        "p-value = 0.829 больше 0.05. Значит, причин отвергать нулевую гипотезу и считать, что в среднем чеке есть различия, нет.\n",
        "Впрочем, средний чек группы B выше среднего чека группы A на 29%"
      ]
    },
    {
      "cell_type": "markdown",
      "metadata": {
        "id": "IcSmvGYI8Bwg"
      },
      "source": [
        "### Посчитаем статистическую значимость различий в среднем количестве заказов на посетителя между группами по «очищенным» данным. Сделаем выводы и предположения."
      ]
    },
    {
      "cell_type": "code",
      "execution_count": null,
      "metadata": {
        "id": "HmHiKeHR8Bwh",
        "outputId": "6a894769-3654-4ed5-cd6d-581d60599921"
      },
      "outputs": [
        {
          "data": {
            "text/plain": [
              "568     113298937\n",
              "1099    148427295\n",
              "928     204675465\n",
              "33      249864742\n",
              "684     358944393\n",
              "dtype: int64"
            ]
          },
          "metadata": {},
          "output_type": "display_data"
        },
        {
          "name": "stdout",
          "output_type": "stream",
          "text": [
            "Всего аномальных пользователей = 70\n"
          ]
        }
      ],
      "source": [
        "usersWithManyOrders = pd.concat([ordersByUsersA[ordersByUsersA['orders'] > 1]['userId'], ordersByUsersB[ordersByUsersB['orders'] > 2]['userId']], axis = 0)\n",
        "usersWithExpensiveOrders = orders[orders['revenue'] > np.percentile(orders['revenue'], 95)]['visitorId']\n",
        "abnormalUsers = pd.concat([usersWithManyOrders, usersWithExpensiveOrders], axis = 0).drop_duplicates().sort_values()\n",
        "display(abnormalUsers.head(5))\n",
        "print('Всего аномальных пользователей =' ,len(abnormalUsers)) "
      ]
    },
    {
      "cell_type": "code",
      "execution_count": null,
      "metadata": {
        "id": "4wKtRQxZ8Bwj",
        "outputId": "bbd5343b-c786-48bc-e57c-101dee981688"
      },
      "outputs": [
        {
          "name": "stdout",
          "output_type": "stream",
          "text": [
            "Относительные потери = 0.07194244604316546\n"
          ]
        }
      ],
      "source": [
        "poteri = (len(abnormalUsers)/orders['visitorId'].nunique())\n",
        "print('Относительные потери =' ,poteri) "
      ]
    },
    {
      "cell_type": "markdown",
      "metadata": {
        "id": "HgIETgVg8Bwk"
      },
      "source": [
        "**Вывод**\n",
        "\n",
        "Вывод: Всего аномальных пользователей = 70. "
      ]
    },
    {
      "cell_type": "markdown",
      "metadata": {
        "id": "ovIyaYea8Bwk"
      },
      "source": [
        "**Сформулируем гипотезы** \n",
        "\n",
        "Нулевая гипотеза: различий в среднем количестве заказов на посетителя между группами нет. \n",
        "\n",
        "Альтернативная гипотеза: различия в среднем количестве заказов на посетителя между группами есть. "
      ]
    },
    {
      "cell_type": "code",
      "execution_count": null,
      "metadata": {
        "id": "JGFo6mR-8Bwl",
        "outputId": "3a1a8316-62a9-4827-d207-0dad2b802de6"
      },
      "outputs": [
        {
          "name": "stdout",
          "output_type": "stream",
          "text": [
            "p-value = 0.003\n",
            "Относительная разница между средним количеством заказов на посетителя между группами = 0.251\n"
          ]
        }
      ],
      "source": [
        "sampleAFiltered = pd.concat([ordersByUsersA[np.logical_not(ordersByUsersA['userId'].isin(abnormalUsers))]['orders'], \\\n",
        "                             pd.Series(0, index=np.arange(data['visitorsPerDateA'].sum() - len(ordersByUsersA['orders'])), \\\n",
        "                                       name='orders')],axis=0)\n",
        "\n",
        "sampleBFiltered = pd.concat([ordersByUsersB[np.logical_not(ordersByUsersB['userId'].isin(abnormalUsers))]['orders'], \\\n",
        "                             pd.Series(0, index=np.arange(data['visitorsPerDateB'].sum() - len(ordersByUsersB['orders'])), \\\n",
        "                                       name='orders')],axis=0) \n",
        "\n",
        "print(\"p-value = {0:.3f}\".format(stats.mannwhitneyu(sampleAFiltered, sampleBFiltered)[1]))\n",
        "print(\"Относительная разница между средним количеством заказов на посетителя между группами = {0:.3f}\"\n",
        "      .format(sampleBFiltered.mean()/sampleAFiltered.mean()-1))"
      ]
    },
    {
      "cell_type": "markdown",
      "metadata": {
        "id": "Y6fsOsJl8Bwl"
      },
      "source": [
        "**Вывод**\n",
        "\n",
        "P-value = 0.003 меньше 0.05. Поэтому, нулевую гипотезу о том, что статистически значимых различий в среднем количестве заказов на посетителя между группами нет - отвергаем. \n",
        "Выигрыш в среднем количестве заказов на посетителя группы B над A равен 25,6%."
      ]
    },
    {
      "cell_type": "markdown",
      "metadata": {
        "id": "PSHJilyT8Bwm"
      },
      "source": [
        "### Посчитайте статистическую значимость различий в среднем чеке заказа между группами по «очищенным» данным. Сделайте выводы и предположения."
      ]
    },
    {
      "cell_type": "markdown",
      "metadata": {
        "id": "-Rr5ccAX8Bwn"
      },
      "source": [
        "**Сформулируем гипотезы** \n",
        "\n",
        "Нулевая гипотеза: различий в среднем чеке между группами нет. \n",
        "\n",
        "Альтернативная гипотеза: различия в среднем чеке между группами есть. "
      ]
    },
    {
      "cell_type": "code",
      "execution_count": null,
      "metadata": {
        "id": "EsAukpGl8Bwn",
        "outputId": "9d24f0ad-f693-4ee0-bed2-f27f10ff6e6e"
      },
      "outputs": [
        {
          "name": "stdout",
          "output_type": "stream",
          "text": [
            "p-value = 0.805\n",
            "Относительная разница в среднем чеке заказа между группами = -0.038\n"
          ]
        }
      ],
      "source": [
        "print(\"p-value = {0:.3f}\".format(stats.mannwhitneyu(orders[np.logical_and(orders['group'] == 'A',\n",
        "        np.logical_not(orders['visitorId'].isin(abnormalUsers)),)]['revenue'],orders[ np.logical_and\n",
        "        (orders['group'] == 'B',np.logical_not(orders['visitorId'].isin(abnormalUsers)),)]['revenue'],\n",
        "        )[1]))\n",
        "\n",
        "print(\"Относительная разница в среднем чеке заказа между группами = {0:.3f}\".format(orders[np.logical_and(orders['group'] == 'B',\n",
        "        np.logical_not(orders['visitorId'].isin(abnormalUsers)),)]['revenue'].mean()/ orders[\n",
        "        np.logical_and(orders['group'] == 'A',np.logical_not(orders['visitorId'].isin(abnormalUsers)),)\n",
        "        ]['revenue'].mean() - 1)) "
      ]
    },
    {
      "cell_type": "markdown",
      "metadata": {
        "id": "VVRtNAtj8Bwn"
      },
      "source": [
        "**Вывод**\n",
        "\n",
        "p-value приблизительно остался на том же уровне, а разница в среднем чеке заказа между группами сократилась с 28% до 1,8%.\n",
        "Хотя общие выводы по результатам теста не изменились, такой пример хорошо показывает, как сильно аномалии могут влиять на результаты A/B-теста!"
      ]
    },
    {
      "cell_type": "markdown",
      "metadata": {
        "id": "N8wMX9bT8Bwn"
      },
      "source": [
        "### Примите решение по результатам теста и объясните его. Варианты решений:\n",
        "    1. Остановить тест, зафиксировать победу одной из групп.\n",
        "    2. Остановить тест, зафиксировать отсутствие различий между группами.\n",
        "    3. Продолжить тест."
      ]
    },
    {
      "cell_type": "markdown",
      "metadata": {
        "id": "NE9KheLc8Bwo"
      },
      "source": [
        "**Итоговый вывод**\n",
        "\n",
        "- Как по сырым, так и по \"очищенным\" данным нет статистически значимого различия по среднему чеку между группами. \n",
        "- Среднее количество заказов на посетителя группы B лучше группы A.\n",
        "- Мы принимаем решение остановить тест, зафиксировать победу группы В."
      ]
    }
  ],
  "metadata": {
    "ExecuteTimeLog": [
      {
        "duration": 1330,
        "start_time": "2023-03-18T12:24:11.732Z"
      },
      {
        "duration": 156,
        "start_time": "2023-03-18T12:28:15.317Z"
      },
      {
        "duration": 3,
        "start_time": "2023-03-18T12:30:28.240Z"
      },
      {
        "duration": 5,
        "start_time": "2023-03-18T12:31:42.520Z"
      },
      {
        "duration": 13,
        "start_time": "2023-03-18T12:37:10.251Z"
      },
      {
        "duration": 12,
        "start_time": "2023-03-18T12:41:48.542Z"
      },
      {
        "duration": 145,
        "start_time": "2023-03-18T12:46:00.518Z"
      },
      {
        "duration": 10,
        "start_time": "2023-03-18T12:46:31.608Z"
      },
      {
        "duration": 1091,
        "start_time": "2023-03-18T13:20:38.200Z"
      },
      {
        "duration": 89,
        "start_time": "2023-03-18T13:20:39.293Z"
      },
      {
        "duration": 5,
        "start_time": "2023-03-18T13:20:39.383Z"
      },
      {
        "duration": 27,
        "start_time": "2023-03-18T13:20:39.389Z"
      },
      {
        "duration": 28,
        "start_time": "2023-03-18T13:20:39.418Z"
      },
      {
        "duration": 16,
        "start_time": "2023-03-18T13:20:39.448Z"
      },
      {
        "duration": 117,
        "start_time": "2023-03-18T13:30:28.149Z"
      },
      {
        "duration": 71,
        "start_time": "2023-03-18T13:30:41.460Z"
      },
      {
        "duration": 82,
        "start_time": "2023-03-18T13:31:42.435Z"
      },
      {
        "duration": 42,
        "start_time": "2023-03-18T13:34:46.327Z"
      },
      {
        "duration": 44,
        "start_time": "2023-03-18T13:34:59.533Z"
      },
      {
        "duration": 67,
        "start_time": "2023-03-18T13:37:33.821Z"
      },
      {
        "duration": 43,
        "start_time": "2023-03-18T13:37:43.715Z"
      },
      {
        "duration": 3,
        "start_time": "2023-03-18T13:43:59.990Z"
      },
      {
        "duration": 73,
        "start_time": "2023-03-18T13:44:42.189Z"
      },
      {
        "duration": 42,
        "start_time": "2023-03-18T13:45:12.293Z"
      },
      {
        "duration": 43,
        "start_time": "2023-03-18T13:47:59.512Z"
      },
      {
        "duration": 42,
        "start_time": "2023-03-18T13:48:09.321Z"
      },
      {
        "duration": 106,
        "start_time": "2023-03-18T14:03:33.774Z"
      },
      {
        "duration": 10,
        "start_time": "2023-03-18T14:04:01.179Z"
      },
      {
        "duration": 15,
        "start_time": "2023-03-18T14:04:17.725Z"
      },
      {
        "duration": 8,
        "start_time": "2023-03-18T14:06:09.825Z"
      },
      {
        "duration": 5,
        "start_time": "2023-03-18T14:06:47.620Z"
      },
      {
        "duration": 275,
        "start_time": "2023-03-18T14:08:12.650Z"
      },
      {
        "duration": 277,
        "start_time": "2023-03-18T14:08:28.866Z"
      },
      {
        "duration": 16,
        "start_time": "2023-03-18T14:09:17.856Z"
      },
      {
        "duration": 304,
        "start_time": "2023-03-18T14:11:33.375Z"
      },
      {
        "duration": 274,
        "start_time": "2023-03-18T14:11:48.785Z"
      },
      {
        "duration": 308,
        "start_time": "2023-03-18T14:12:00.101Z"
      },
      {
        "duration": 317,
        "start_time": "2023-03-18T14:12:13.283Z"
      },
      {
        "duration": 315,
        "start_time": "2023-03-18T14:12:33.192Z"
      },
      {
        "duration": 1121,
        "start_time": "2023-03-19T12:20:38.966Z"
      },
      {
        "duration": 132,
        "start_time": "2023-03-19T12:20:40.089Z"
      },
      {
        "duration": 5,
        "start_time": "2023-03-19T12:20:40.222Z"
      },
      {
        "duration": 14,
        "start_time": "2023-03-19T12:20:40.229Z"
      },
      {
        "duration": 15,
        "start_time": "2023-03-19T12:20:40.245Z"
      },
      {
        "duration": 14,
        "start_time": "2023-03-19T12:20:40.261Z"
      },
      {
        "duration": 107,
        "start_time": "2023-03-19T12:20:40.276Z"
      },
      {
        "duration": 80,
        "start_time": "2023-03-19T12:20:40.384Z"
      },
      {
        "duration": 7,
        "start_time": "2023-03-19T12:20:40.466Z"
      },
      {
        "duration": 4,
        "start_time": "2023-03-19T12:20:40.474Z"
      },
      {
        "duration": 264,
        "start_time": "2023-03-19T12:20:40.479Z"
      },
      {
        "duration": 271,
        "start_time": "2023-03-19T12:20:40.745Z"
      },
      {
        "duration": 188,
        "start_time": "2023-03-19T12:27:39.581Z"
      },
      {
        "duration": 166,
        "start_time": "2023-03-19T12:27:57.730Z"
      },
      {
        "duration": 176,
        "start_time": "2023-03-19T12:28:05.203Z"
      },
      {
        "duration": 160,
        "start_time": "2023-03-19T12:28:16.746Z"
      },
      {
        "duration": 44,
        "start_time": "2023-03-19T12:33:37.223Z"
      },
      {
        "duration": 182,
        "start_time": "2023-03-19T12:33:46.188Z"
      },
      {
        "duration": 364,
        "start_time": "2023-03-19T12:42:44.481Z"
      },
      {
        "duration": 296,
        "start_time": "2023-03-19T12:42:51.204Z"
      },
      {
        "duration": 276,
        "start_time": "2023-03-19T12:43:00.489Z"
      },
      {
        "duration": 226,
        "start_time": "2023-03-19T12:43:08.818Z"
      },
      {
        "duration": 159,
        "start_time": "2023-03-19T12:43:15.861Z"
      },
      {
        "duration": 187,
        "start_time": "2023-03-19T12:53:17.586Z"
      },
      {
        "duration": 183,
        "start_time": "2023-03-19T12:53:24.079Z"
      },
      {
        "duration": 184,
        "start_time": "2023-03-19T12:53:29.983Z"
      },
      {
        "duration": 189,
        "start_time": "2023-03-19T12:53:36.093Z"
      },
      {
        "duration": 182,
        "start_time": "2023-03-19T12:53:40.997Z"
      },
      {
        "duration": 180,
        "start_time": "2023-03-19T12:53:45.899Z"
      },
      {
        "duration": 287,
        "start_time": "2023-03-19T12:53:52.324Z"
      },
      {
        "duration": 184,
        "start_time": "2023-03-19T12:54:06.977Z"
      },
      {
        "duration": 184,
        "start_time": "2023-03-19T12:54:54.185Z"
      },
      {
        "duration": 71,
        "start_time": "2023-03-19T13:04:25.947Z"
      },
      {
        "duration": 56,
        "start_time": "2023-03-19T13:05:03.508Z"
      },
      {
        "duration": 306,
        "start_time": "2023-03-19T13:05:53.130Z"
      },
      {
        "duration": 382,
        "start_time": "2023-03-19T13:06:02.025Z"
      },
      {
        "duration": 291,
        "start_time": "2023-03-19T13:07:09.151Z"
      },
      {
        "duration": 321,
        "start_time": "2023-03-19T13:08:14.996Z"
      },
      {
        "duration": 291,
        "start_time": "2023-03-19T13:21:44.505Z"
      },
      {
        "duration": 303,
        "start_time": "2023-03-19T13:21:55.887Z"
      },
      {
        "duration": 270,
        "start_time": "2023-03-19T13:26:42.743Z"
      },
      {
        "duration": 4,
        "start_time": "2023-03-19T13:30:33.497Z"
      },
      {
        "duration": 184,
        "start_time": "2023-03-19T13:38:57.810Z"
      },
      {
        "duration": 266,
        "start_time": "2023-03-19T13:39:04.326Z"
      },
      {
        "duration": 165,
        "start_time": "2023-03-19T13:39:09.740Z"
      },
      {
        "duration": 171,
        "start_time": "2023-03-19T13:39:14.845Z"
      },
      {
        "duration": 156,
        "start_time": "2023-03-19T13:40:14.044Z"
      },
      {
        "duration": 158,
        "start_time": "2023-03-19T13:44:14.391Z"
      },
      {
        "duration": 106,
        "start_time": "2023-03-19T13:45:09.215Z"
      },
      {
        "duration": 8,
        "start_time": "2023-03-19T13:45:18.112Z"
      },
      {
        "duration": 670,
        "start_time": "2023-03-19T13:51:19.032Z"
      },
      {
        "duration": 4,
        "start_time": "2023-03-19T13:51:34.012Z"
      },
      {
        "duration": 4,
        "start_time": "2023-03-19T14:21:50.980Z"
      },
      {
        "duration": 196,
        "start_time": "2023-03-19T14:33:48.186Z"
      },
      {
        "duration": 205,
        "start_time": "2023-03-19T14:34:16.627Z"
      },
      {
        "duration": 299,
        "start_time": "2023-03-19T14:37:36.594Z"
      },
      {
        "duration": 290,
        "start_time": "2023-03-19T14:39:01.677Z"
      },
      {
        "duration": 3,
        "start_time": "2023-03-19T14:40:13.777Z"
      },
      {
        "duration": 320,
        "start_time": "2023-03-19T14:40:23.627Z"
      },
      {
        "duration": 314,
        "start_time": "2023-03-19T14:44:33.917Z"
      },
      {
        "duration": 8,
        "start_time": "2023-03-19T14:52:36.043Z"
      },
      {
        "duration": 9,
        "start_time": "2023-03-19T14:52:46.947Z"
      },
      {
        "duration": 10,
        "start_time": "2023-03-19T15:00:31.276Z"
      },
      {
        "duration": 23,
        "start_time": "2023-03-19T15:06:01.052Z"
      },
      {
        "duration": 10,
        "start_time": "2023-03-19T15:22:06.731Z"
      },
      {
        "duration": 12,
        "start_time": "2023-03-19T15:22:25.753Z"
      },
      {
        "duration": 50,
        "start_time": "2023-03-19T15:37:09.098Z"
      },
      {
        "duration": 11,
        "start_time": "2023-03-19T15:38:20.814Z"
      },
      {
        "duration": 974,
        "start_time": "2023-03-19T18:00:46.914Z"
      },
      {
        "duration": 78,
        "start_time": "2023-03-19T18:00:47.889Z"
      },
      {
        "duration": 4,
        "start_time": "2023-03-19T18:00:47.969Z"
      },
      {
        "duration": 11,
        "start_time": "2023-03-19T18:00:47.975Z"
      },
      {
        "duration": 17,
        "start_time": "2023-03-19T18:00:47.988Z"
      },
      {
        "duration": 20,
        "start_time": "2023-03-19T18:00:48.006Z"
      },
      {
        "duration": 65,
        "start_time": "2023-03-19T18:00:48.027Z"
      },
      {
        "duration": 31,
        "start_time": "2023-03-19T18:00:48.093Z"
      },
      {
        "duration": 8,
        "start_time": "2023-03-19T18:00:48.126Z"
      },
      {
        "duration": 7,
        "start_time": "2023-03-19T18:00:48.136Z"
      },
      {
        "duration": 274,
        "start_time": "2023-03-19T18:00:48.145Z"
      },
      {
        "duration": 238,
        "start_time": "2023-03-19T18:00:48.420Z"
      },
      {
        "duration": 206,
        "start_time": "2023-03-19T18:00:48.660Z"
      },
      {
        "duration": 259,
        "start_time": "2023-03-19T18:00:48.867Z"
      },
      {
        "duration": 183,
        "start_time": "2023-03-19T18:00:49.128Z"
      },
      {
        "duration": 339,
        "start_time": "2023-03-19T18:00:49.313Z"
      },
      {
        "duration": 252,
        "start_time": "2023-03-19T18:00:49.653Z"
      },
      {
        "duration": 3,
        "start_time": "2023-03-19T18:00:49.907Z"
      },
      {
        "duration": 212,
        "start_time": "2023-03-19T18:00:49.912Z"
      },
      {
        "duration": 4,
        "start_time": "2023-03-19T18:00:50.125Z"
      },
      {
        "duration": 330,
        "start_time": "2023-03-19T18:00:50.130Z"
      },
      {
        "duration": 8,
        "start_time": "2023-03-19T18:00:50.461Z"
      },
      {
        "duration": 10,
        "start_time": "2023-03-19T18:00:50.470Z"
      },
      {
        "duration": 26,
        "start_time": "2023-03-19T18:00:50.481Z"
      },
      {
        "duration": 24,
        "start_time": "2023-03-19T18:00:50.508Z"
      },
      {
        "duration": 984,
        "start_time": "2023-03-19T18:04:50.071Z"
      },
      {
        "duration": 11,
        "start_time": "2023-03-19T18:05:13.684Z"
      },
      {
        "duration": 11,
        "start_time": "2023-03-19T18:07:38.358Z"
      },
      {
        "duration": 9,
        "start_time": "2023-03-19T18:23:59.132Z"
      },
      {
        "duration": 1012,
        "start_time": "2023-03-19T19:42:46.685Z"
      },
      {
        "duration": 78,
        "start_time": "2023-03-19T19:42:47.699Z"
      },
      {
        "duration": 4,
        "start_time": "2023-03-19T19:42:47.779Z"
      },
      {
        "duration": 21,
        "start_time": "2023-03-19T19:42:47.784Z"
      },
      {
        "duration": 10,
        "start_time": "2023-03-19T19:42:47.807Z"
      },
      {
        "duration": 16,
        "start_time": "2023-03-19T19:42:47.818Z"
      },
      {
        "duration": 97,
        "start_time": "2023-03-19T19:42:47.836Z"
      },
      {
        "duration": 34,
        "start_time": "2023-03-19T19:42:47.934Z"
      },
      {
        "duration": 7,
        "start_time": "2023-03-19T19:42:47.969Z"
      },
      {
        "duration": 3,
        "start_time": "2023-03-19T19:42:47.977Z"
      },
      {
        "duration": 286,
        "start_time": "2023-03-19T19:42:47.981Z"
      },
      {
        "duration": 239,
        "start_time": "2023-03-19T19:42:48.268Z"
      },
      {
        "duration": 199,
        "start_time": "2023-03-19T19:42:48.508Z"
      },
      {
        "duration": 295,
        "start_time": "2023-03-19T19:42:48.709Z"
      },
      {
        "duration": 202,
        "start_time": "2023-03-19T19:42:49.006Z"
      },
      {
        "duration": 342,
        "start_time": "2023-03-19T19:42:49.210Z"
      },
      {
        "duration": 259,
        "start_time": "2023-03-19T19:42:49.553Z"
      },
      {
        "duration": 4,
        "start_time": "2023-03-19T19:42:49.813Z"
      },
      {
        "duration": 220,
        "start_time": "2023-03-19T19:42:49.824Z"
      },
      {
        "duration": 3,
        "start_time": "2023-03-19T19:42:50.046Z"
      },
      {
        "duration": 329,
        "start_time": "2023-03-19T19:42:50.051Z"
      },
      {
        "duration": 9,
        "start_time": "2023-03-19T19:42:50.382Z"
      },
      {
        "duration": 8,
        "start_time": "2023-03-19T19:42:50.393Z"
      },
      {
        "duration": 22,
        "start_time": "2023-03-19T19:42:50.424Z"
      },
      {
        "duration": 11,
        "start_time": "2023-03-19T19:42:50.447Z"
      },
      {
        "duration": 73,
        "start_time": "2023-03-19T19:46:31.636Z"
      },
      {
        "duration": 1082,
        "start_time": "2023-03-19T19:49:16.603Z"
      },
      {
        "duration": 83,
        "start_time": "2023-03-19T19:49:17.686Z"
      },
      {
        "duration": 4,
        "start_time": "2023-03-19T19:49:17.771Z"
      },
      {
        "duration": 10,
        "start_time": "2023-03-19T19:49:17.778Z"
      },
      {
        "duration": 12,
        "start_time": "2023-03-19T19:49:17.790Z"
      },
      {
        "duration": 22,
        "start_time": "2023-03-19T19:49:17.804Z"
      },
      {
        "duration": 92,
        "start_time": "2023-03-19T19:49:17.828Z"
      },
      {
        "duration": 43,
        "start_time": "2023-03-19T19:49:17.922Z"
      },
      {
        "duration": 7,
        "start_time": "2023-03-19T19:49:17.966Z"
      },
      {
        "duration": 3,
        "start_time": "2023-03-19T19:49:17.975Z"
      },
      {
        "duration": 267,
        "start_time": "2023-03-19T19:49:17.980Z"
      },
      {
        "duration": 251,
        "start_time": "2023-03-19T19:49:18.249Z"
      },
      {
        "duration": 194,
        "start_time": "2023-03-19T19:49:18.502Z"
      },
      {
        "duration": 306,
        "start_time": "2023-03-19T19:49:18.698Z"
      },
      {
        "duration": 199,
        "start_time": "2023-03-19T19:49:19.006Z"
      },
      {
        "duration": 357,
        "start_time": "2023-03-19T19:49:19.206Z"
      },
      {
        "duration": 286,
        "start_time": "2023-03-19T19:49:19.565Z"
      },
      {
        "duration": 6,
        "start_time": "2023-03-19T19:49:19.853Z"
      },
      {
        "duration": 220,
        "start_time": "2023-03-19T19:49:19.866Z"
      },
      {
        "duration": 4,
        "start_time": "2023-03-19T19:49:20.088Z"
      },
      {
        "duration": 213,
        "start_time": "2023-03-19T19:49:20.093Z"
      },
      {
        "duration": 139,
        "start_time": "2023-03-19T19:49:20.308Z"
      },
      {
        "duration": 9,
        "start_time": "2023-03-19T19:49:20.449Z"
      },
      {
        "duration": 9,
        "start_time": "2023-03-19T19:49:20.459Z"
      },
      {
        "duration": 23,
        "start_time": "2023-03-19T19:49:20.469Z"
      },
      {
        "duration": 9,
        "start_time": "2023-03-19T19:49:20.494Z"
      },
      {
        "duration": 96,
        "start_time": "2023-03-20T11:00:53.494Z"
      },
      {
        "duration": 1542,
        "start_time": "2023-03-20T11:01:18.716Z"
      },
      {
        "duration": 142,
        "start_time": "2023-03-20T11:01:21.124Z"
      },
      {
        "duration": 104,
        "start_time": "2023-03-20T11:02:02.088Z"
      },
      {
        "duration": 1397,
        "start_time": "2023-03-20T11:06:33.107Z"
      },
      {
        "duration": 1364,
        "start_time": "2023-03-20T11:06:52.524Z"
      },
      {
        "duration": 129,
        "start_time": "2023-03-20T11:06:53.891Z"
      },
      {
        "duration": 9,
        "start_time": "2023-03-20T11:06:54.022Z"
      },
      {
        "duration": 22,
        "start_time": "2023-03-20T11:06:54.032Z"
      },
      {
        "duration": 16,
        "start_time": "2023-03-20T11:06:54.056Z"
      },
      {
        "duration": 15,
        "start_time": "2023-03-20T11:06:54.078Z"
      },
      {
        "duration": 209,
        "start_time": "2023-03-20T11:06:54.096Z"
      },
      {
        "duration": 95,
        "start_time": "2023-03-20T11:06:54.307Z"
      },
      {
        "duration": 14,
        "start_time": "2023-03-20T11:06:54.404Z"
      },
      {
        "duration": 26,
        "start_time": "2023-03-20T11:06:54.421Z"
      },
      {
        "duration": 396,
        "start_time": "2023-03-20T11:06:54.449Z"
      },
      {
        "duration": 397,
        "start_time": "2023-03-20T11:06:54.846Z"
      },
      {
        "duration": 293,
        "start_time": "2023-03-20T11:06:55.245Z"
      },
      {
        "duration": 441,
        "start_time": "2023-03-20T11:06:55.542Z"
      },
      {
        "duration": 275,
        "start_time": "2023-03-20T11:06:55.985Z"
      },
      {
        "duration": 396,
        "start_time": "2023-03-20T11:06:56.262Z"
      },
      {
        "duration": 394,
        "start_time": "2023-03-20T11:06:56.659Z"
      },
      {
        "duration": 5,
        "start_time": "2023-03-20T11:06:57.055Z"
      },
      {
        "duration": 310,
        "start_time": "2023-03-20T11:06:57.062Z"
      },
      {
        "duration": 7,
        "start_time": "2023-03-20T11:06:57.377Z"
      },
      {
        "duration": 282,
        "start_time": "2023-03-20T11:06:57.386Z"
      },
      {
        "duration": 228,
        "start_time": "2023-03-20T11:06:57.670Z"
      },
      {
        "duration": 24,
        "start_time": "2023-03-20T11:06:57.900Z"
      },
      {
        "duration": 24,
        "start_time": "2023-03-20T11:06:57.926Z"
      },
      {
        "duration": 35,
        "start_time": "2023-03-20T11:06:57.952Z"
      },
      {
        "duration": 17,
        "start_time": "2023-03-20T11:06:57.989Z"
      },
      {
        "duration": 8,
        "start_time": "2023-03-20T11:07:23.026Z"
      },
      {
        "duration": 14,
        "start_time": "2023-03-20T11:07:37.283Z"
      },
      {
        "duration": 12,
        "start_time": "2023-03-20T11:08:00.931Z"
      },
      {
        "duration": 7,
        "start_time": "2023-03-20T11:08:11.432Z"
      },
      {
        "duration": 10,
        "start_time": "2023-03-20T11:08:37.395Z"
      },
      {
        "duration": 16,
        "start_time": "2023-03-20T11:08:49.375Z"
      },
      {
        "duration": 79,
        "start_time": "2023-03-20T11:10:32.741Z"
      },
      {
        "duration": 155,
        "start_time": "2023-03-20T11:10:42.383Z"
      },
      {
        "duration": 17,
        "start_time": "2023-03-20T11:11:35.574Z"
      },
      {
        "duration": 36,
        "start_time": "2023-03-20T11:12:37.858Z"
      },
      {
        "duration": 13,
        "start_time": "2023-03-20T11:13:06.423Z"
      },
      {
        "duration": 5,
        "start_time": "2023-03-20T11:26:21.023Z"
      },
      {
        "duration": 4,
        "start_time": "2023-03-20T11:26:35.504Z"
      },
      {
        "duration": 168,
        "start_time": "2023-03-20T11:26:57.581Z"
      },
      {
        "duration": 5,
        "start_time": "2023-03-20T11:27:04.815Z"
      },
      {
        "duration": 82,
        "start_time": "2023-03-20T11:32:51.435Z"
      },
      {
        "duration": 10,
        "start_time": "2023-03-20T11:33:24.679Z"
      },
      {
        "duration": 13,
        "start_time": "2023-03-20T11:33:50.042Z"
      },
      {
        "duration": 411,
        "start_time": "2023-03-20T12:00:36.450Z"
      },
      {
        "duration": 319,
        "start_time": "2023-03-20T12:03:37.893Z"
      },
      {
        "duration": 7,
        "start_time": "2023-03-20T12:05:25.146Z"
      },
      {
        "duration": 344,
        "start_time": "2023-03-20T12:05:42.324Z"
      },
      {
        "duration": 324,
        "start_time": "2023-03-20T12:05:55.506Z"
      },
      {
        "duration": 11,
        "start_time": "2023-03-20T12:07:07.205Z"
      },
      {
        "duration": 289,
        "start_time": "2023-03-20T12:07:16.777Z"
      },
      {
        "duration": 315,
        "start_time": "2023-03-20T12:07:25.719Z"
      },
      {
        "duration": 305,
        "start_time": "2023-03-20T12:07:44.527Z"
      },
      {
        "duration": 109,
        "start_time": "2023-03-20T12:08:38.051Z"
      },
      {
        "duration": 407,
        "start_time": "2023-03-20T12:10:12.068Z"
      },
      {
        "duration": 359,
        "start_time": "2023-03-20T12:10:33.824Z"
      },
      {
        "duration": 149,
        "start_time": "2023-03-20T12:11:04.443Z"
      },
      {
        "duration": 173,
        "start_time": "2023-03-20T12:14:11.759Z"
      },
      {
        "duration": 2229,
        "start_time": "2023-03-20T12:15:34.696Z"
      },
      {
        "duration": 1305,
        "start_time": "2023-03-20T12:15:52.332Z"
      },
      {
        "duration": 6,
        "start_time": "2023-03-20T12:17:44.437Z"
      },
      {
        "duration": 7,
        "start_time": "2023-03-20T12:19:41.768Z"
      },
      {
        "duration": 2893,
        "start_time": "2023-03-20T12:19:53.884Z"
      },
      {
        "duration": 13,
        "start_time": "2023-03-20T12:21:46.233Z"
      },
      {
        "duration": 12,
        "start_time": "2023-03-20T12:24:38.645Z"
      },
      {
        "duration": 10,
        "start_time": "2023-03-20T12:24:53.847Z"
      },
      {
        "duration": 343,
        "start_time": "2023-03-20T12:27:55.266Z"
      },
      {
        "duration": 1208,
        "start_time": "2023-03-20T12:29:30.791Z"
      },
      {
        "duration": 412,
        "start_time": "2023-03-20T12:33:02.532Z"
      },
      {
        "duration": 1443,
        "start_time": "2023-03-20T12:36:21.438Z"
      },
      {
        "duration": 11,
        "start_time": "2023-03-20T12:36:42.722Z"
      },
      {
        "duration": 11,
        "start_time": "2023-03-20T12:37:47.962Z"
      },
      {
        "duration": 158,
        "start_time": "2023-03-20T12:39:32.542Z"
      },
      {
        "duration": 9,
        "start_time": "2023-03-20T12:39:47.942Z"
      },
      {
        "duration": 11,
        "start_time": "2023-03-20T12:39:55.584Z"
      },
      {
        "duration": 16,
        "start_time": "2023-03-20T12:40:23.045Z"
      },
      {
        "duration": 287,
        "start_time": "2023-03-20T12:40:34.245Z"
      },
      {
        "duration": 208,
        "start_time": "2023-03-20T12:40:57.256Z"
      },
      {
        "duration": 215,
        "start_time": "2023-03-20T12:41:06.266Z"
      },
      {
        "duration": 191,
        "start_time": "2023-03-20T12:41:16.434Z"
      },
      {
        "duration": 202,
        "start_time": "2023-03-20T12:41:29.475Z"
      },
      {
        "duration": 260,
        "start_time": "2023-03-20T12:42:41.822Z"
      },
      {
        "duration": 1357,
        "start_time": "2023-03-20T18:07:39.175Z"
      },
      {
        "duration": 163,
        "start_time": "2023-03-20T18:07:40.535Z"
      },
      {
        "duration": 8,
        "start_time": "2023-03-20T18:07:40.699Z"
      },
      {
        "duration": 18,
        "start_time": "2023-03-20T18:07:40.711Z"
      },
      {
        "duration": 14,
        "start_time": "2023-03-20T18:07:40.731Z"
      },
      {
        "duration": 14,
        "start_time": "2023-03-20T18:07:40.747Z"
      },
      {
        "duration": 134,
        "start_time": "2023-03-20T18:07:40.763Z"
      },
      {
        "duration": 92,
        "start_time": "2023-03-20T18:07:40.898Z"
      },
      {
        "duration": 16,
        "start_time": "2023-03-20T18:07:40.992Z"
      },
      {
        "duration": 9,
        "start_time": "2023-03-20T18:07:41.014Z"
      },
      {
        "duration": 4,
        "start_time": "2023-03-20T18:07:41.025Z"
      },
      {
        "duration": 357,
        "start_time": "2023-03-20T18:07:41.031Z"
      },
      {
        "duration": 300,
        "start_time": "2023-03-20T18:07:41.389Z"
      },
      {
        "duration": 226,
        "start_time": "2023-03-20T18:07:41.694Z"
      },
      {
        "duration": 354,
        "start_time": "2023-03-20T18:07:41.922Z"
      },
      {
        "duration": 243,
        "start_time": "2023-03-20T18:07:42.278Z"
      },
      {
        "duration": 340,
        "start_time": "2023-03-20T18:07:42.523Z"
      },
      {
        "duration": 332,
        "start_time": "2023-03-20T18:07:42.864Z"
      },
      {
        "duration": 4,
        "start_time": "2023-03-20T18:07:43.200Z"
      },
      {
        "duration": 243,
        "start_time": "2023-03-20T18:07:43.205Z"
      },
      {
        "duration": 177,
        "start_time": "2023-03-20T18:07:43.449Z"
      },
      {
        "duration": 5,
        "start_time": "2023-03-20T18:07:43.627Z"
      },
      {
        "duration": 233,
        "start_time": "2023-03-20T18:07:43.634Z"
      },
      {
        "duration": 162,
        "start_time": "2023-03-20T18:07:43.869Z"
      },
      {
        "duration": 10,
        "start_time": "2023-03-20T18:07:44.032Z"
      },
      {
        "duration": 15,
        "start_time": "2023-03-20T18:07:44.044Z"
      },
      {
        "duration": 42,
        "start_time": "2023-03-20T18:07:44.074Z"
      },
      {
        "duration": 14,
        "start_time": "2023-03-20T18:07:44.119Z"
      },
      {
        "duration": 303,
        "start_time": "2023-03-20T18:10:45.116Z"
      },
      {
        "duration": 12,
        "start_time": "2023-03-20T18:11:02.709Z"
      },
      {
        "duration": 10,
        "start_time": "2023-03-20T18:11:13.043Z"
      },
      {
        "duration": 99,
        "start_time": "2023-03-20T18:34:27.318Z"
      },
      {
        "duration": 235,
        "start_time": "2023-03-20T18:43:34.000Z"
      },
      {
        "duration": 219,
        "start_time": "2023-03-20T18:44:32.526Z"
      },
      {
        "duration": 203,
        "start_time": "2023-03-20T18:44:39.617Z"
      },
      {
        "duration": 248,
        "start_time": "2023-03-20T18:48:03.437Z"
      },
      {
        "duration": 1385,
        "start_time": "2023-03-20T18:48:11.571Z"
      },
      {
        "duration": 158,
        "start_time": "2023-03-20T18:48:12.959Z"
      },
      {
        "duration": 14,
        "start_time": "2023-03-20T18:48:13.123Z"
      },
      {
        "duration": 86,
        "start_time": "2023-03-20T18:48:13.141Z"
      },
      {
        "duration": 86,
        "start_time": "2023-03-20T18:48:13.230Z"
      },
      {
        "duration": 671,
        "start_time": "2023-03-20T18:48:13.318Z"
      },
      {
        "duration": 416,
        "start_time": "2023-03-20T18:48:13.991Z"
      },
      {
        "duration": 59,
        "start_time": "2023-03-20T18:48:14.410Z"
      },
      {
        "duration": 28,
        "start_time": "2023-03-20T18:48:14.471Z"
      },
      {
        "duration": 52,
        "start_time": "2023-03-20T18:48:14.501Z"
      },
      {
        "duration": 58,
        "start_time": "2023-03-20T18:48:14.555Z"
      },
      {
        "duration": 414,
        "start_time": "2023-03-20T18:48:14.616Z"
      },
      {
        "duration": 393,
        "start_time": "2023-03-20T18:48:15.036Z"
      },
      {
        "duration": 307,
        "start_time": "2023-03-20T18:48:15.443Z"
      },
      {
        "duration": 375,
        "start_time": "2023-03-20T18:48:15.753Z"
      },
      {
        "duration": 311,
        "start_time": "2023-03-20T18:48:16.130Z"
      },
      {
        "duration": 452,
        "start_time": "2023-03-20T18:48:16.449Z"
      },
      {
        "duration": 539,
        "start_time": "2023-03-20T18:48:16.903Z"
      },
      {
        "duration": 10,
        "start_time": "2023-03-20T18:48:17.444Z"
      },
      {
        "duration": 353,
        "start_time": "2023-03-20T18:48:17.456Z"
      },
      {
        "duration": 218,
        "start_time": "2023-03-20T18:48:17.822Z"
      },
      {
        "duration": 6,
        "start_time": "2023-03-20T18:48:18.042Z"
      },
      {
        "duration": 254,
        "start_time": "2023-03-20T18:48:18.052Z"
      },
      {
        "duration": 299,
        "start_time": "2023-03-20T18:48:18.308Z"
      },
      {
        "duration": 283,
        "start_time": "2023-03-20T18:48:18.609Z"
      },
      {
        "duration": 25,
        "start_time": "2023-03-20T18:48:18.907Z"
      },
      {
        "duration": 17,
        "start_time": "2023-03-20T18:48:18.937Z"
      },
      {
        "duration": 59,
        "start_time": "2023-03-20T18:48:18.955Z"
      },
      {
        "duration": 28,
        "start_time": "2023-03-20T18:48:19.016Z"
      },
      {
        "duration": 1506,
        "start_time": "2023-03-20T18:49:24.919Z"
      },
      {
        "duration": 130,
        "start_time": "2023-03-20T18:49:26.428Z"
      },
      {
        "duration": 6,
        "start_time": "2023-03-20T18:49:26.560Z"
      },
      {
        "duration": 78,
        "start_time": "2023-03-20T18:49:26.568Z"
      },
      {
        "duration": 15,
        "start_time": "2023-03-20T18:49:26.650Z"
      },
      {
        "duration": 66,
        "start_time": "2023-03-20T18:49:26.667Z"
      },
      {
        "duration": 121,
        "start_time": "2023-03-20T18:49:26.735Z"
      },
      {
        "duration": 57,
        "start_time": "2023-03-20T18:49:26.858Z"
      },
      {
        "duration": 15,
        "start_time": "2023-03-20T18:49:26.919Z"
      },
      {
        "duration": 22,
        "start_time": "2023-03-20T18:49:26.936Z"
      },
      {
        "duration": 10,
        "start_time": "2023-03-20T18:49:26.961Z"
      },
      {
        "duration": 393,
        "start_time": "2023-03-20T18:49:26.973Z"
      },
      {
        "duration": 342,
        "start_time": "2023-03-20T18:49:27.367Z"
      },
      {
        "duration": 276,
        "start_time": "2023-03-20T18:49:27.712Z"
      },
      {
        "duration": 364,
        "start_time": "2023-03-20T18:49:27.990Z"
      },
      {
        "duration": 352,
        "start_time": "2023-03-20T18:49:28.357Z"
      },
      {
        "duration": 435,
        "start_time": "2023-03-20T18:49:28.712Z"
      },
      {
        "duration": 424,
        "start_time": "2023-03-20T18:49:29.149Z"
      },
      {
        "duration": 10,
        "start_time": "2023-03-20T18:49:29.577Z"
      },
      {
        "duration": 301,
        "start_time": "2023-03-20T18:49:29.594Z"
      },
      {
        "duration": 186,
        "start_time": "2023-03-20T18:49:29.896Z"
      },
      {
        "duration": 5,
        "start_time": "2023-03-20T18:49:30.084Z"
      },
      {
        "duration": 283,
        "start_time": "2023-03-20T18:49:30.090Z"
      },
      {
        "duration": 262,
        "start_time": "2023-03-20T18:49:30.375Z"
      },
      {
        "duration": 0,
        "start_time": "2023-03-20T18:49:30.639Z"
      },
      {
        "duration": 0,
        "start_time": "2023-03-20T18:49:30.640Z"
      },
      {
        "duration": 0,
        "start_time": "2023-03-20T18:49:30.641Z"
      },
      {
        "duration": 1,
        "start_time": "2023-03-20T18:49:30.642Z"
      },
      {
        "duration": 250,
        "start_time": "2023-03-20T18:49:49.847Z"
      },
      {
        "duration": 199,
        "start_time": "2023-03-20T18:49:53.237Z"
      },
      {
        "duration": 102,
        "start_time": "2023-03-20T18:51:36.338Z"
      },
      {
        "duration": 149,
        "start_time": "2023-03-20T18:55:27.505Z"
      },
      {
        "duration": 81,
        "start_time": "2023-03-20T18:57:18.065Z"
      },
      {
        "duration": 172,
        "start_time": "2023-03-20T18:58:29.558Z"
      },
      {
        "duration": 148,
        "start_time": "2023-03-20T18:59:40.655Z"
      },
      {
        "duration": 11,
        "start_time": "2023-03-20T19:00:37.258Z"
      },
      {
        "duration": 25,
        "start_time": "2023-03-20T19:02:44.463Z"
      },
      {
        "duration": 17,
        "start_time": "2023-03-20T19:02:52.761Z"
      },
      {
        "duration": 12,
        "start_time": "2023-03-20T19:04:02.596Z"
      },
      {
        "duration": 122,
        "start_time": "2023-03-20T19:04:09.406Z"
      },
      {
        "duration": 15,
        "start_time": "2023-03-20T19:04:42.180Z"
      },
      {
        "duration": 5,
        "start_time": "2023-03-20T19:10:54.360Z"
      },
      {
        "duration": 4,
        "start_time": "2023-03-20T19:11:16.006Z"
      },
      {
        "duration": 4,
        "start_time": "2023-03-20T19:12:18.125Z"
      },
      {
        "duration": 5,
        "start_time": "2023-03-20T19:13:47.513Z"
      },
      {
        "duration": 6,
        "start_time": "2023-03-20T19:14:09.567Z"
      },
      {
        "duration": 5,
        "start_time": "2023-03-20T19:14:18.542Z"
      },
      {
        "duration": 4,
        "start_time": "2023-03-20T19:14:24.328Z"
      },
      {
        "duration": 4,
        "start_time": "2023-03-20T19:14:50.881Z"
      },
      {
        "duration": 12,
        "start_time": "2023-03-20T19:15:17.768Z"
      },
      {
        "duration": 5,
        "start_time": "2023-03-20T19:15:30.513Z"
      },
      {
        "duration": 4,
        "start_time": "2023-03-20T19:15:40.821Z"
      },
      {
        "duration": 0,
        "start_time": "2023-03-20T19:16:05.725Z"
      },
      {
        "duration": 4,
        "start_time": "2023-03-20T19:16:09.080Z"
      },
      {
        "duration": 5,
        "start_time": "2023-03-20T19:19:43.287Z"
      },
      {
        "duration": 4,
        "start_time": "2023-03-20T19:19:52.050Z"
      },
      {
        "duration": 41,
        "start_time": "2023-03-20T19:25:11.493Z"
      },
      {
        "duration": 13,
        "start_time": "2023-03-20T19:25:50.464Z"
      },
      {
        "duration": 37,
        "start_time": "2023-03-20T19:27:04.013Z"
      },
      {
        "duration": 28,
        "start_time": "2023-03-20T19:28:34.419Z"
      },
      {
        "duration": 31,
        "start_time": "2023-03-20T19:29:41.493Z"
      },
      {
        "duration": 1040,
        "start_time": "2023-03-20T19:34:43.216Z"
      },
      {
        "duration": 83,
        "start_time": "2023-03-20T19:34:44.258Z"
      },
      {
        "duration": 5,
        "start_time": "2023-03-20T19:34:44.342Z"
      },
      {
        "duration": 17,
        "start_time": "2023-03-20T19:34:44.349Z"
      },
      {
        "duration": 14,
        "start_time": "2023-03-20T19:34:44.374Z"
      },
      {
        "duration": 11,
        "start_time": "2023-03-20T19:34:44.390Z"
      },
      {
        "duration": 75,
        "start_time": "2023-03-20T19:34:44.403Z"
      },
      {
        "duration": 36,
        "start_time": "2023-03-20T19:34:44.479Z"
      },
      {
        "duration": 12,
        "start_time": "2023-03-20T19:34:44.516Z"
      },
      {
        "duration": 8,
        "start_time": "2023-03-20T19:34:44.530Z"
      },
      {
        "duration": 38,
        "start_time": "2023-03-20T19:34:44.539Z"
      },
      {
        "duration": 286,
        "start_time": "2023-03-20T19:34:44.579Z"
      },
      {
        "duration": 271,
        "start_time": "2023-03-20T19:34:44.867Z"
      },
      {
        "duration": 306,
        "start_time": "2023-03-20T19:34:45.141Z"
      },
      {
        "duration": 387,
        "start_time": "2023-03-20T19:34:45.450Z"
      },
      {
        "duration": 319,
        "start_time": "2023-03-20T19:34:45.838Z"
      },
      {
        "duration": 405,
        "start_time": "2023-03-20T19:34:46.162Z"
      },
      {
        "duration": 352,
        "start_time": "2023-03-20T19:34:46.574Z"
      },
      {
        "duration": 5,
        "start_time": "2023-03-20T19:34:46.928Z"
      },
      {
        "duration": 261,
        "start_time": "2023-03-20T19:34:46.935Z"
      },
      {
        "duration": 166,
        "start_time": "2023-03-20T19:34:47.198Z"
      },
      {
        "duration": 8,
        "start_time": "2023-03-20T19:34:47.365Z"
      },
      {
        "duration": 228,
        "start_time": "2023-03-20T19:34:47.375Z"
      },
      {
        "duration": 197,
        "start_time": "2023-03-20T19:34:47.605Z"
      },
      {
        "duration": 156,
        "start_time": "2023-03-20T19:34:47.803Z"
      },
      {
        "duration": 14,
        "start_time": "2023-03-20T19:34:47.973Z"
      },
      {
        "duration": 15,
        "start_time": "2023-03-20T19:34:47.989Z"
      },
      {
        "duration": 6,
        "start_time": "2023-03-20T19:34:48.007Z"
      },
      {
        "duration": 28,
        "start_time": "2023-03-20T19:34:48.015Z"
      },
      {
        "duration": 39,
        "start_time": "2023-03-20T19:34:48.045Z"
      },
      {
        "duration": 1301,
        "start_time": "2023-03-21T20:47:27.229Z"
      },
      {
        "duration": 134,
        "start_time": "2023-03-21T20:47:28.532Z"
      },
      {
        "duration": 4,
        "start_time": "2023-03-21T20:47:28.668Z"
      },
      {
        "duration": 19,
        "start_time": "2023-03-21T20:47:28.675Z"
      },
      {
        "duration": 28,
        "start_time": "2023-03-21T20:47:28.695Z"
      },
      {
        "duration": 17,
        "start_time": "2023-03-21T20:47:28.724Z"
      },
      {
        "duration": 177,
        "start_time": "2023-03-21T20:47:28.743Z"
      },
      {
        "duration": 81,
        "start_time": "2023-03-21T20:47:28.922Z"
      },
      {
        "duration": 11,
        "start_time": "2023-03-21T20:47:29.005Z"
      },
      {
        "duration": 10,
        "start_time": "2023-03-21T20:47:29.019Z"
      },
      {
        "duration": 4,
        "start_time": "2023-03-21T20:47:29.031Z"
      },
      {
        "duration": 338,
        "start_time": "2023-03-21T20:47:29.037Z"
      },
      {
        "duration": 301,
        "start_time": "2023-03-21T20:47:29.377Z"
      },
      {
        "duration": 242,
        "start_time": "2023-03-21T20:47:29.679Z"
      },
      {
        "duration": 395,
        "start_time": "2023-03-21T20:47:29.924Z"
      },
      {
        "duration": 257,
        "start_time": "2023-03-21T20:47:30.321Z"
      },
      {
        "duration": 375,
        "start_time": "2023-03-21T20:47:30.580Z"
      },
      {
        "duration": 290,
        "start_time": "2023-03-21T20:47:30.957Z"
      },
      {
        "duration": 4,
        "start_time": "2023-03-21T20:47:31.250Z"
      },
      {
        "duration": 274,
        "start_time": "2023-03-21T20:47:31.256Z"
      },
      {
        "duration": 180,
        "start_time": "2023-03-21T20:47:31.532Z"
      },
      {
        "duration": 4,
        "start_time": "2023-03-21T20:47:31.714Z"
      },
      {
        "duration": 237,
        "start_time": "2023-03-21T20:47:31.721Z"
      },
      {
        "duration": 172,
        "start_time": "2023-03-21T20:47:31.960Z"
      },
      {
        "duration": 188,
        "start_time": "2023-03-21T20:47:32.134Z"
      },
      {
        "duration": 10,
        "start_time": "2023-03-21T20:47:32.324Z"
      },
      {
        "duration": 45,
        "start_time": "2023-03-21T20:47:32.336Z"
      },
      {
        "duration": 6,
        "start_time": "2023-03-21T20:47:32.384Z"
      },
      {
        "duration": 34,
        "start_time": "2023-03-21T20:47:32.391Z"
      },
      {
        "duration": 19,
        "start_time": "2023-03-21T20:47:32.427Z"
      },
      {
        "duration": 1400,
        "start_time": "2023-03-22T06:31:26.597Z"
      },
      {
        "duration": 136,
        "start_time": "2023-03-22T06:31:27.999Z"
      },
      {
        "duration": 6,
        "start_time": "2023-03-22T06:31:28.137Z"
      },
      {
        "duration": 27,
        "start_time": "2023-03-22T06:31:28.145Z"
      },
      {
        "duration": 27,
        "start_time": "2023-03-22T06:31:28.174Z"
      },
      {
        "duration": 21,
        "start_time": "2023-03-22T06:31:28.202Z"
      },
      {
        "duration": 144,
        "start_time": "2023-03-22T06:31:28.225Z"
      },
      {
        "duration": 82,
        "start_time": "2023-03-22T06:31:28.371Z"
      },
      {
        "duration": 19,
        "start_time": "2023-03-22T06:31:28.454Z"
      },
      {
        "duration": 22,
        "start_time": "2023-03-22T06:31:28.475Z"
      },
      {
        "duration": 15,
        "start_time": "2023-03-22T06:31:28.499Z"
      },
      {
        "duration": 316,
        "start_time": "2023-03-22T06:31:28.516Z"
      },
      {
        "duration": 302,
        "start_time": "2023-03-22T06:31:28.834Z"
      },
      {
        "duration": 241,
        "start_time": "2023-03-22T06:31:29.137Z"
      },
      {
        "duration": 355,
        "start_time": "2023-03-22T06:31:29.380Z"
      },
      {
        "duration": 254,
        "start_time": "2023-03-22T06:31:29.736Z"
      },
      {
        "duration": 361,
        "start_time": "2023-03-22T06:31:29.992Z"
      },
      {
        "duration": 331,
        "start_time": "2023-03-22T06:31:30.358Z"
      },
      {
        "duration": 4,
        "start_time": "2023-03-22T06:31:30.691Z"
      },
      {
        "duration": 292,
        "start_time": "2023-03-22T06:31:30.697Z"
      },
      {
        "duration": 184,
        "start_time": "2023-03-22T06:31:30.990Z"
      },
      {
        "duration": 5,
        "start_time": "2023-03-22T06:31:31.175Z"
      },
      {
        "duration": 233,
        "start_time": "2023-03-22T06:31:31.181Z"
      },
      {
        "duration": 174,
        "start_time": "2023-03-22T06:31:31.415Z"
      },
      {
        "duration": 157,
        "start_time": "2023-03-22T06:31:31.591Z"
      },
      {
        "duration": 16,
        "start_time": "2023-03-22T06:31:31.749Z"
      },
      {
        "duration": 42,
        "start_time": "2023-03-22T06:31:31.767Z"
      },
      {
        "duration": 10,
        "start_time": "2023-03-22T06:31:31.812Z"
      },
      {
        "duration": 34,
        "start_time": "2023-03-22T06:31:31.823Z"
      },
      {
        "duration": 19,
        "start_time": "2023-03-22T06:31:31.861Z"
      },
      {
        "duration": 100,
        "start_time": "2023-03-22T06:32:33.399Z"
      },
      {
        "duration": 138,
        "start_time": "2023-03-22T06:32:51.200Z"
      },
      {
        "duration": 118,
        "start_time": "2023-03-22T06:33:06.757Z"
      },
      {
        "duration": 4,
        "start_time": "2023-03-22T06:33:17.789Z"
      },
      {
        "duration": 49,
        "start_time": "2023-03-22T06:33:31.657Z"
      },
      {
        "duration": 10,
        "start_time": "2023-03-22T06:35:00.619Z"
      },
      {
        "duration": 399,
        "start_time": "2023-03-22T06:45:43.414Z"
      },
      {
        "duration": 157,
        "start_time": "2023-03-22T06:50:27.315Z"
      },
      {
        "duration": 4,
        "start_time": "2023-03-22T06:51:18.972Z"
      },
      {
        "duration": 395,
        "start_time": "2023-03-22T06:55:45.283Z"
      },
      {
        "duration": 1184,
        "start_time": "2023-03-22T06:56:13.968Z"
      },
      {
        "duration": 94,
        "start_time": "2023-03-22T06:56:15.154Z"
      },
      {
        "duration": 5,
        "start_time": "2023-03-22T06:56:15.249Z"
      },
      {
        "duration": 43,
        "start_time": "2023-03-22T06:56:15.256Z"
      },
      {
        "duration": 24,
        "start_time": "2023-03-22T06:56:15.301Z"
      },
      {
        "duration": 39,
        "start_time": "2023-03-22T06:56:15.326Z"
      },
      {
        "duration": 84,
        "start_time": "2023-03-22T06:56:15.367Z"
      },
      {
        "duration": 44,
        "start_time": "2023-03-22T06:56:15.452Z"
      },
      {
        "duration": 12,
        "start_time": "2023-03-22T06:56:15.498Z"
      },
      {
        "duration": 24,
        "start_time": "2023-03-22T06:56:15.513Z"
      },
      {
        "duration": 16,
        "start_time": "2023-03-22T06:56:15.538Z"
      },
      {
        "duration": 326,
        "start_time": "2023-03-22T06:56:15.555Z"
      },
      {
        "duration": 290,
        "start_time": "2023-03-22T06:56:15.883Z"
      },
      {
        "duration": 230,
        "start_time": "2023-03-22T06:56:16.175Z"
      },
      {
        "duration": 328,
        "start_time": "2023-03-22T06:56:16.407Z"
      },
      {
        "duration": 308,
        "start_time": "2023-03-22T06:56:16.736Z"
      },
      {
        "duration": 397,
        "start_time": "2023-03-22T06:56:17.046Z"
      },
      {
        "duration": 304,
        "start_time": "2023-03-22T06:56:17.445Z"
      },
      {
        "duration": 21,
        "start_time": "2023-03-22T06:56:17.751Z"
      },
      {
        "duration": 276,
        "start_time": "2023-03-22T06:56:17.774Z"
      },
      {
        "duration": 182,
        "start_time": "2023-03-22T06:56:18.051Z"
      },
      {
        "duration": 4,
        "start_time": "2023-03-22T06:56:18.234Z"
      },
      {
        "duration": 261,
        "start_time": "2023-03-22T06:56:18.240Z"
      },
      {
        "duration": 179,
        "start_time": "2023-03-22T06:56:18.503Z"
      },
      {
        "duration": 154,
        "start_time": "2023-03-22T06:56:18.684Z"
      },
      {
        "duration": 10,
        "start_time": "2023-03-22T06:56:18.840Z"
      },
      {
        "duration": 16,
        "start_time": "2023-03-22T06:56:18.866Z"
      },
      {
        "duration": 3,
        "start_time": "2023-03-22T06:56:18.885Z"
      },
      {
        "duration": 29,
        "start_time": "2023-03-22T06:56:18.890Z"
      },
      {
        "duration": 13,
        "start_time": "2023-03-22T06:56:18.920Z"
      },
      {
        "duration": 1202,
        "start_time": "2023-03-23T15:42:39.070Z"
      },
      {
        "duration": 134,
        "start_time": "2023-03-23T15:42:40.274Z"
      },
      {
        "duration": 4,
        "start_time": "2023-03-23T15:42:40.409Z"
      },
      {
        "duration": 11,
        "start_time": "2023-03-23T15:42:40.415Z"
      },
      {
        "duration": 10,
        "start_time": "2023-03-23T15:42:40.428Z"
      },
      {
        "duration": 9,
        "start_time": "2023-03-23T15:42:40.439Z"
      },
      {
        "duration": 137,
        "start_time": "2023-03-23T15:42:40.468Z"
      },
      {
        "duration": 87,
        "start_time": "2023-03-23T15:42:40.607Z"
      },
      {
        "duration": 9,
        "start_time": "2023-03-23T15:42:40.695Z"
      },
      {
        "duration": 18,
        "start_time": "2023-03-23T15:42:40.706Z"
      },
      {
        "duration": 4,
        "start_time": "2023-03-23T15:42:40.725Z"
      },
      {
        "duration": 275,
        "start_time": "2023-03-23T15:42:40.730Z"
      },
      {
        "duration": 264,
        "start_time": "2023-03-23T15:42:41.007Z"
      },
      {
        "duration": 200,
        "start_time": "2023-03-23T15:42:41.273Z"
      },
      {
        "duration": 353,
        "start_time": "2023-03-23T15:42:41.475Z"
      },
      {
        "duration": 209,
        "start_time": "2023-03-23T15:42:41.829Z"
      },
      {
        "duration": 351,
        "start_time": "2023-03-23T15:42:42.040Z"
      },
      {
        "duration": 386,
        "start_time": "2023-03-23T15:42:42.392Z"
      },
      {
        "duration": 4,
        "start_time": "2023-03-23T15:42:42.780Z"
      },
      {
        "duration": 155,
        "start_time": "2023-03-23T15:42:42.785Z"
      },
      {
        "duration": 141,
        "start_time": "2023-03-23T15:42:42.941Z"
      },
      {
        "duration": 3,
        "start_time": "2023-03-23T15:42:43.084Z"
      },
      {
        "duration": 216,
        "start_time": "2023-03-23T15:42:43.089Z"
      },
      {
        "duration": 162,
        "start_time": "2023-03-23T15:42:43.306Z"
      },
      {
        "duration": 150,
        "start_time": "2023-03-23T15:42:43.470Z"
      },
      {
        "duration": 9,
        "start_time": "2023-03-23T15:42:43.621Z"
      },
      {
        "duration": 12,
        "start_time": "2023-03-23T15:42:43.632Z"
      },
      {
        "duration": 4,
        "start_time": "2023-03-23T15:42:43.647Z"
      },
      {
        "duration": 38,
        "start_time": "2023-03-23T15:42:43.652Z"
      },
      {
        "duration": 12,
        "start_time": "2023-03-23T15:42:43.692Z"
      }
    ],
    "kernelspec": {
      "display_name": "Python 3 (ipykernel)",
      "language": "python",
      "name": "python3"
    },
    "language_info": {
      "codemirror_mode": {
        "name": "ipython",
        "version": 3
      },
      "file_extension": ".py",
      "mimetype": "text/x-python",
      "name": "python",
      "nbconvert_exporter": "python",
      "pygments_lexer": "ipython3",
      "version": "3.9.5"
    },
    "toc": {
      "base_numbering": 1,
      "nav_menu": {},
      "number_sections": true,
      "sideBar": true,
      "skip_h1_title": true,
      "title_cell": "Table of Contents",
      "title_sidebar": "Contents",
      "toc_cell": false,
      "toc_position": {
        "height": "calc(100% - 180px)",
        "left": "10px",
        "top": "150px",
        "width": "209.188px"
      },
      "toc_section_display": true,
      "toc_window_display": true
    },
    "colab": {
      "provenance": []
    }
  },
  "nbformat": 4,
  "nbformat_minor": 0
}