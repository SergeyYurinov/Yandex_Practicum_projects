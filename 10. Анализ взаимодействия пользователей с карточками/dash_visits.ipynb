{
  "nbformat": 4,
  "nbformat_minor": 0,
  "metadata": {
    "colab": {
      "provenance": []
    },
    "kernelspec": {
      "name": "python3",
      "display_name": "Python 3"
    },
    "language_info": {
      "name": "python"
    }
  },
  "cells": [
    {
      "cell_type": "markdown",
      "source": [
        "#Анализ пользовательского взаимодействия с карточками статей."
      ],
      "metadata": {
        "id": "O8xJ9jwHQNmN"
      }
    },
    {
      "cell_type": "markdown",
      "source": [
        "## Шаг 1. Загрузим данные и изучим общую информацию.\n",
        "\n",
        "Загрузим данные и изучим общую информацию о датасете. "
      ],
      "metadata": {
        "id": "ePJCDbx9Q_b_"
      }
    },
    {
      "cell_type": "code",
      "source": [
        "# импортируем библиотеки\n",
        "import pandas as pd\n",
        "from sqlalchemy import create_engine"
      ],
      "metadata": {
        "id": "IvlAo0KnTGLw"
      },
      "execution_count": null,
      "outputs": []
    },
    {
      "cell_type": "code",
      "source": [
        "db_config = {'user': 'praktikum_student', # имя пользователя\n",
        "            'pwd': 'Sdf4$2;d-d30pp', # пароль\n",
        "            'host': 'rc1b-wcoijxj3yxfsf3fs.mdb.yandexcloud.net',\n",
        "            'port': 6432, # порт подключения\n",
        "            'db': 'data-analyst-zen-project-db'} # название базы данных\n",
        "\n",
        "connection_string = 'postgresql://{}:{}@{}:{}/{}'.format(db_config['user'],\n",
        "                                                db_config['pwd'],\n",
        "                                                db_config['host'],\n",
        "                                                db_config['port'],\n",
        "                                                db_config['db'])\n",
        "\n",
        "engine = create_engine(connection_string) "
      ],
      "metadata": {
        "id": "H2siNg-MYxKv"
      },
      "execution_count": null,
      "outputs": []
    },
    {
      "cell_type": "code",
      "source": [
        "query = '''SELECT *\n",
        "           FROM dash_visits\n",
        "'''"
      ],
      "metadata": {
        "id": "p9Q-iVYcY4JX"
      },
      "execution_count": null,
      "outputs": []
    },
    {
      "cell_type": "code",
      "source": [
        "df = pd.io.sql.read_sql(query, con = engine)\n",
        "df.head()"
      ],
      "metadata": {
        "id": "ei1yXZWeY445"
      },
      "execution_count": null,
      "outputs": []
    },
    {
      "cell_type": "code",
      "execution_count": null,
      "metadata": {
        "colab": {
          "base_uri": "https://localhost:8080/",
          "height": 602
        },
        "id": "n1t3nyz2SuEU",
        "outputId": "50b5969f-021c-46ef-8c72-2fe8744ff176"
      },
      "outputs": [
        {
          "output_type": "stream",
          "name": "stdout",
          "text": [
            "<class 'pandas.core.frame.DataFrame'>\n",
            "RangeIndex: 30745 entries, 0 to 30744\n",
            "Data columns (total 6 columns):\n",
            " #   Column        Non-Null Count  Dtype \n",
            "---  ------        --------------  ----- \n",
            " 0   record_id     30745 non-null  int64 \n",
            " 1   item_topic    30745 non-null  object\n",
            " 2   source_topic  30745 non-null  object\n",
            " 3   age_segment   30745 non-null  object\n",
            " 4   dt            30745 non-null  object\n",
            " 5   visits        30745 non-null  int64 \n",
            "dtypes: int64(2), object(4)\n",
            "memory usage: 1.4+ MB\n"
          ]
        },
        {
          "output_type": "display_data",
          "data": {
            "text/plain": [
              "   record_id item_topic source_topic age_segment                   dt  visits\n",
              "0    1040597     Деньги         Авто       18-25  2019-09-24 18:32:00       3\n",
              "1    1040598     Деньги         Авто       18-25  2019-09-24 18:35:00       1\n",
              "2    1040599     Деньги         Авто       18-25  2019-09-24 18:54:00       4\n",
              "3    1040600     Деньги         Авто       18-25  2019-09-24 18:55:00      17\n",
              "4    1040601     Деньги         Авто       18-25  2019-09-24 18:56:00      27\n",
              "5    1040602     Деньги         Авто       18-25  2019-09-24 18:57:00      22\n",
              "6    1040603     Деньги         Авто       18-25  2019-09-24 18:58:00      24\n",
              "7    1040604     Деньги         Авто       18-25  2019-09-24 18:59:00      20\n",
              "8    1040605     Деньги         Авто       18-25  2019-09-24 19:00:00       5\n",
              "9    1040606     Деньги         Авто       26-30  2019-09-24 18:29:00       1"
            ],
            "text/html": [
              "\n",
              "  <div id=\"df-9da7d2a9-8f50-4e19-8f9a-c512e7bb216f\">\n",
              "    <div class=\"colab-df-container\">\n",
              "      <div>\n",
              "<style scoped>\n",
              "    .dataframe tbody tr th:only-of-type {\n",
              "        vertical-align: middle;\n",
              "    }\n",
              "\n",
              "    .dataframe tbody tr th {\n",
              "        vertical-align: top;\n",
              "    }\n",
              "\n",
              "    .dataframe thead th {\n",
              "        text-align: right;\n",
              "    }\n",
              "</style>\n",
              "<table border=\"1\" class=\"dataframe\">\n",
              "  <thead>\n",
              "    <tr style=\"text-align: right;\">\n",
              "      <th></th>\n",
              "      <th>record_id</th>\n",
              "      <th>item_topic</th>\n",
              "      <th>source_topic</th>\n",
              "      <th>age_segment</th>\n",
              "      <th>dt</th>\n",
              "      <th>visits</th>\n",
              "    </tr>\n",
              "  </thead>\n",
              "  <tbody>\n",
              "    <tr>\n",
              "      <th>0</th>\n",
              "      <td>1040597</td>\n",
              "      <td>Деньги</td>\n",
              "      <td>Авто</td>\n",
              "      <td>18-25</td>\n",
              "      <td>2019-09-24 18:32:00</td>\n",
              "      <td>3</td>\n",
              "    </tr>\n",
              "    <tr>\n",
              "      <th>1</th>\n",
              "      <td>1040598</td>\n",
              "      <td>Деньги</td>\n",
              "      <td>Авто</td>\n",
              "      <td>18-25</td>\n",
              "      <td>2019-09-24 18:35:00</td>\n",
              "      <td>1</td>\n",
              "    </tr>\n",
              "    <tr>\n",
              "      <th>2</th>\n",
              "      <td>1040599</td>\n",
              "      <td>Деньги</td>\n",
              "      <td>Авто</td>\n",
              "      <td>18-25</td>\n",
              "      <td>2019-09-24 18:54:00</td>\n",
              "      <td>4</td>\n",
              "    </tr>\n",
              "    <tr>\n",
              "      <th>3</th>\n",
              "      <td>1040600</td>\n",
              "      <td>Деньги</td>\n",
              "      <td>Авто</td>\n",
              "      <td>18-25</td>\n",
              "      <td>2019-09-24 18:55:00</td>\n",
              "      <td>17</td>\n",
              "    </tr>\n",
              "    <tr>\n",
              "      <th>4</th>\n",
              "      <td>1040601</td>\n",
              "      <td>Деньги</td>\n",
              "      <td>Авто</td>\n",
              "      <td>18-25</td>\n",
              "      <td>2019-09-24 18:56:00</td>\n",
              "      <td>27</td>\n",
              "    </tr>\n",
              "    <tr>\n",
              "      <th>5</th>\n",
              "      <td>1040602</td>\n",
              "      <td>Деньги</td>\n",
              "      <td>Авто</td>\n",
              "      <td>18-25</td>\n",
              "      <td>2019-09-24 18:57:00</td>\n",
              "      <td>22</td>\n",
              "    </tr>\n",
              "    <tr>\n",
              "      <th>6</th>\n",
              "      <td>1040603</td>\n",
              "      <td>Деньги</td>\n",
              "      <td>Авто</td>\n",
              "      <td>18-25</td>\n",
              "      <td>2019-09-24 18:58:00</td>\n",
              "      <td>24</td>\n",
              "    </tr>\n",
              "    <tr>\n",
              "      <th>7</th>\n",
              "      <td>1040604</td>\n",
              "      <td>Деньги</td>\n",
              "      <td>Авто</td>\n",
              "      <td>18-25</td>\n",
              "      <td>2019-09-24 18:59:00</td>\n",
              "      <td>20</td>\n",
              "    </tr>\n",
              "    <tr>\n",
              "      <th>8</th>\n",
              "      <td>1040605</td>\n",
              "      <td>Деньги</td>\n",
              "      <td>Авто</td>\n",
              "      <td>18-25</td>\n",
              "      <td>2019-09-24 19:00:00</td>\n",
              "      <td>5</td>\n",
              "    </tr>\n",
              "    <tr>\n",
              "      <th>9</th>\n",
              "      <td>1040606</td>\n",
              "      <td>Деньги</td>\n",
              "      <td>Авто</td>\n",
              "      <td>26-30</td>\n",
              "      <td>2019-09-24 18:29:00</td>\n",
              "      <td>1</td>\n",
              "    </tr>\n",
              "  </tbody>\n",
              "</table>\n",
              "</div>\n",
              "      <button class=\"colab-df-convert\" onclick=\"convertToInteractive('df-9da7d2a9-8f50-4e19-8f9a-c512e7bb216f')\"\n",
              "              title=\"Convert this dataframe to an interactive table.\"\n",
              "              style=\"display:none;\">\n",
              "        \n",
              "  <svg xmlns=\"http://www.w3.org/2000/svg\" height=\"24px\"viewBox=\"0 0 24 24\"\n",
              "       width=\"24px\">\n",
              "    <path d=\"M0 0h24v24H0V0z\" fill=\"none\"/>\n",
              "    <path d=\"M18.56 5.44l.94 2.06.94-2.06 2.06-.94-2.06-.94-.94-2.06-.94 2.06-2.06.94zm-11 1L8.5 8.5l.94-2.06 2.06-.94-2.06-.94L8.5 2.5l-.94 2.06-2.06.94zm10 10l.94 2.06.94-2.06 2.06-.94-2.06-.94-.94-2.06-.94 2.06-2.06.94z\"/><path d=\"M17.41 7.96l-1.37-1.37c-.4-.4-.92-.59-1.43-.59-.52 0-1.04.2-1.43.59L10.3 9.45l-7.72 7.72c-.78.78-.78 2.05 0 2.83L4 21.41c.39.39.9.59 1.41.59.51 0 1.02-.2 1.41-.59l7.78-7.78 2.81-2.81c.8-.78.8-2.07 0-2.86zM5.41 20L4 18.59l7.72-7.72 1.47 1.35L5.41 20z\"/>\n",
              "  </svg>\n",
              "      </button>\n",
              "      \n",
              "  <style>\n",
              "    .colab-df-container {\n",
              "      display:flex;\n",
              "      flex-wrap:wrap;\n",
              "      gap: 12px;\n",
              "    }\n",
              "\n",
              "    .colab-df-convert {\n",
              "      background-color: #E8F0FE;\n",
              "      border: none;\n",
              "      border-radius: 50%;\n",
              "      cursor: pointer;\n",
              "      display: none;\n",
              "      fill: #1967D2;\n",
              "      height: 32px;\n",
              "      padding: 0 0 0 0;\n",
              "      width: 32px;\n",
              "    }\n",
              "\n",
              "    .colab-df-convert:hover {\n",
              "      background-color: #E2EBFA;\n",
              "      box-shadow: 0px 1px 2px rgba(60, 64, 67, 0.3), 0px 1px 3px 1px rgba(60, 64, 67, 0.15);\n",
              "      fill: #174EA6;\n",
              "    }\n",
              "\n",
              "    [theme=dark] .colab-df-convert {\n",
              "      background-color: #3B4455;\n",
              "      fill: #D2E3FC;\n",
              "    }\n",
              "\n",
              "    [theme=dark] .colab-df-convert:hover {\n",
              "      background-color: #434B5C;\n",
              "      box-shadow: 0px 1px 3px 1px rgba(0, 0, 0, 0.15);\n",
              "      filter: drop-shadow(0px 1px 2px rgba(0, 0, 0, 0.3));\n",
              "      fill: #FFFFFF;\n",
              "    }\n",
              "  </style>\n",
              "\n",
              "      <script>\n",
              "        const buttonEl =\n",
              "          document.querySelector('#df-9da7d2a9-8f50-4e19-8f9a-c512e7bb216f button.colab-df-convert');\n",
              "        buttonEl.style.display =\n",
              "          google.colab.kernel.accessAllowed ? 'block' : 'none';\n",
              "\n",
              "        async function convertToInteractive(key) {\n",
              "          const element = document.querySelector('#df-9da7d2a9-8f50-4e19-8f9a-c512e7bb216f');\n",
              "          const dataTable =\n",
              "            await google.colab.kernel.invokeFunction('convertToInteractive',\n",
              "                                                     [key], {});\n",
              "          if (!dataTable) return;\n",
              "\n",
              "          const docLinkHtml = 'Like what you see? Visit the ' +\n",
              "            '<a target=\"_blank\" href=https://colab.research.google.com/notebooks/data_table.ipynb>data table notebook</a>'\n",
              "            + ' to learn more about interactive tables.';\n",
              "          element.innerHTML = '';\n",
              "          dataTable['output_type'] = 'display_data';\n",
              "          await google.colab.output.renderOutput(dataTable, element);\n",
              "          const docLink = document.createElement('div');\n",
              "          docLink.innerHTML = docLinkHtml;\n",
              "          element.appendChild(docLink);\n",
              "        }\n",
              "      </script>\n",
              "    </div>\n",
              "  </div>\n",
              "  "
            ]
          },
          "metadata": {}
        }
      ],
      "source": [
        "#посмотрим датасет\n",
        "\n",
        "df.info()\n",
        "display(df.head(10));"
      ]
    },
    {
      "cell_type": "markdown",
      "source": [
        "**Выводы:** \n",
        "\n",
        "Общая информация о датасете:\n",
        "\n",
        "У нас 6 столбцов с данными. Максимальное количество строк 30745.\n",
        "\n",
        "Большинство столбцов имеют тип: object и float64."
      ],
      "metadata": {
        "id": "M0eNfKhKR_r8"
      }
    },
    {
      "cell_type": "markdown",
      "source": [
        "# Шаг 2. Выполним предобработку данных.\n",
        "## Изучим, есть ли дубликаты в данных. Поищим пропуски: встречаются ли они, в каких столбцах? Решим обработать их или оставить как есть."
      ],
      "metadata": {
        "id": "RW-DXOyOSF37"
      }
    },
    {
      "cell_type": "code",
      "source": [
        "#Проверяем наличие явных дубликатов\n",
        "print('Количество дубликатов:', df.duplicated().sum())"
      ],
      "metadata": {
        "colab": {
          "base_uri": "https://localhost:8080/"
        },
        "id": "Psfbp_nySfO7",
        "outputId": "c4527f23-ee31-4198-ec70-0b0544d8e698"
      },
      "execution_count": null,
      "outputs": [
        {
          "output_type": "stream",
          "name": "stdout",
          "text": [
            "Количество дубликатов: 0\n"
          ]
        }
      ]
    },
    {
      "cell_type": "code",
      "source": [
        "#Проверяем наличие пропусков\n",
        "pd.DataFrame(round(df.isna().sum(),1)).style.background_gradient('coolwarm')"
      ],
      "metadata": {
        "colab": {
          "base_uri": "https://localhost:8080/",
          "height": 238
        },
        "id": "5dYfLv_6TLvG",
        "outputId": "61a9474d-beb4-4303-8717-5d4e79cee363"
      },
      "execution_count": null,
      "outputs": [
        {
          "output_type": "execute_result",
          "data": {
            "text/plain": [
              "<pandas.io.formats.style.Styler at 0x7f27cbdbdb40>"
            ],
            "text/html": [
              "<style type=\"text/css\">\n",
              "#T_ebd5e_row0_col0, #T_ebd5e_row1_col0, #T_ebd5e_row2_col0, #T_ebd5e_row3_col0, #T_ebd5e_row4_col0, #T_ebd5e_row5_col0 {\n",
              "  background-color: #3b4cc0;\n",
              "  color: #f1f1f1;\n",
              "}\n",
              "</style>\n",
              "<table id=\"T_ebd5e\" class=\"dataframe\">\n",
              "  <thead>\n",
              "    <tr>\n",
              "      <th class=\"blank level0\" >&nbsp;</th>\n",
              "      <th id=\"T_ebd5e_level0_col0\" class=\"col_heading level0 col0\" >0</th>\n",
              "    </tr>\n",
              "  </thead>\n",
              "  <tbody>\n",
              "    <tr>\n",
              "      <th id=\"T_ebd5e_level0_row0\" class=\"row_heading level0 row0\" >record_id</th>\n",
              "      <td id=\"T_ebd5e_row0_col0\" class=\"data row0 col0\" >0</td>\n",
              "    </tr>\n",
              "    <tr>\n",
              "      <th id=\"T_ebd5e_level0_row1\" class=\"row_heading level0 row1\" >item_topic</th>\n",
              "      <td id=\"T_ebd5e_row1_col0\" class=\"data row1 col0\" >0</td>\n",
              "    </tr>\n",
              "    <tr>\n",
              "      <th id=\"T_ebd5e_level0_row2\" class=\"row_heading level0 row2\" >source_topic</th>\n",
              "      <td id=\"T_ebd5e_row2_col0\" class=\"data row2 col0\" >0</td>\n",
              "    </tr>\n",
              "    <tr>\n",
              "      <th id=\"T_ebd5e_level0_row3\" class=\"row_heading level0 row3\" >age_segment</th>\n",
              "      <td id=\"T_ebd5e_row3_col0\" class=\"data row3 col0\" >0</td>\n",
              "    </tr>\n",
              "    <tr>\n",
              "      <th id=\"T_ebd5e_level0_row4\" class=\"row_heading level0 row4\" >dt</th>\n",
              "      <td id=\"T_ebd5e_row4_col0\" class=\"data row4 col0\" >0</td>\n",
              "    </tr>\n",
              "    <tr>\n",
              "      <th id=\"T_ebd5e_level0_row5\" class=\"row_heading level0 row5\" >visits</th>\n",
              "      <td id=\"T_ebd5e_row5_col0\" class=\"data row5 col0\" >0</td>\n",
              "    </tr>\n",
              "  </tbody>\n",
              "</table>\n"
            ]
          },
          "metadata": {},
          "execution_count": 8
        }
      ]
    },
    {
      "cell_type": "markdown",
      "source": [
        "**Вывод**\n",
        "\n",
        "Явных дубликатов нет.\n",
        "Пропущенных значения в столбцах нет. \n",
        "Удалять или заменять ничего не надо. Аномалий нет."
      ],
      "metadata": {
        "id": "NGP_q7eRWkUv"
      }
    },
    {
      "cell_type": "markdown",
      "source": [
        "## Выполним экспорт данных в файл."
      ],
      "metadata": {
        "id": "YCxqlEWZXiES"
      }
    },
    {
      "cell_type": "code",
      "source": [
        "df.to_csv('dash_visits.csv', index = False)"
      ],
      "metadata": {
        "id": "t96orcMmXtTJ"
      },
      "execution_count": null,
      "outputs": []
    },
    {
      "cell_type": "markdown",
      "source": [
        "## Дашборд и презентация\n",
        "\n",
        "Ссылка на дашборд - https://public.tableau.com/app/profile/sergei.iurinov/viz/Dash_Visits_16829607688820/Dashboard1?publish=yes\n",
        "\n",
        "Ссылка на презентацию - https://disk.yandex.ru/d/uVAinXMH2aRXVg"
      ],
      "metadata": {
        "id": "U721w3GVYSXH"
      }
    }
  ]
}